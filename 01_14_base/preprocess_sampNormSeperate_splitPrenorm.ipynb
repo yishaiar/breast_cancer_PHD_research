{
 "cells": [
  {
   "cell_type": "markdown",
   "metadata": {},
   "source": [
    "# Load and initialize"
   ]
  },
  {
   "cell_type": "markdown",
   "metadata": {},
   "source": [
    "settings"
   ]
  },
  {
   "cell_type": "code",
   "execution_count": 1,
   "metadata": {},
   "outputs": [],
   "source": [
    "# dir=\"~/Desktop/biology/breast_cancer/data/\"\n",
    "# ubunto:\n",
    "# old samples\n",
    "dir1=\"~/Dropbox/CyTOF_Breast/Kaplan_1st/\"\n",
    "# new samples\n",
    "dir2 = '~/Dropbox/CyTOF_Breast/Kaplan_2nd/data_afterGating/processed data/'\n",
    "\n",
    "# parent_dir = os.path.abspath(os.path.join(os.getcwd(), os.pardir))\n",
    "parent_dir = os.path.abspath(os.path.join(os.getcwd(), os.pardir))\n",
    "sys.path.append(parent_dir+'/functions/')\n",
    "\n",
    "dir_data = parent_dir+'/Data/'\n",
    "\n",
    "\n",
    "\n",
    "# create plot visualizations\n",
    "visualize = False\n",
    "subsample = False\n",
    "\n",
    "\n",
    "\n",
    "# plt.savefig(\"test.svg\", format=\"svg\")\n",
    "saveSVG = False\n",
    "# show figures (figures are created and saved to file)\n",
    "show = True\n",
    "# plot dir\n",
    "dir_plots = parent_dir+'/Plots_preproccess/'\n",
    "settings =        (dir_plots,show,saveSVG)\n",
    "\n",
    "\n",
    "\n"
   ]
  },
  {
   "cell_type": "markdown",
   "metadata": {},
   "source": [
    "envirement"
   ]
  },
  {
   "cell_type": "code",
   "execution_count": 2,
   "metadata": {
    "ExecuteTime": {
     "end_time": "2022-12-11T11:15:54.700552Z",
     "start_time": "2022-12-11T11:15:54.680091Z"
    }
   },
   "outputs": [],
   "source": [
    "\n",
    "import time \n",
    "start = time.process_time()\n",
    "import os\n",
    "\n",
    "import sys\n",
    "from IPython.display import Image, display\n",
    "# from tqdm import tqdm_notebook,tqdm\n",
    "# import time\n",
    "\n",
    "import numpy as np\n",
    "# import matplotlib\n",
    "import matplotlib.pyplot as plt\n",
    "from matplotlib.pyplot import rc_context\n",
    "# import matplotlib.patches as  mpatches\n",
    "plt.rcParams[\"figure.figsize\"] = (5.0, 4.0)  # Set default size of plots.\n",
    "plt.rcParams[\"image.interpolation\"] = \"nearest\"\n",
    "plt.rcParams[\"image.cmap\"] = \"gray\"\n",
    "\n",
    "import pandas as pd\n",
    "pd.set_option('display.max_rows', 500)\n",
    "pd.set_option('display.max_columns', 500)\n",
    "pd.set_option('display.width', 180) #according to screen width\n",
    "# from pandas.core.base import PandasObject\n",
    "# PandasObject.view = view #allows view meth pd.view\n",
    "\n",
    "from scipy import signal, stats\n",
    "import seaborn as sns\n",
    "\n",
    "from sklearn import metrics\n",
    "from sklearn.cluster import KMeans, DBSCAN, MiniBatchKMeans\n",
    "# from sklearn.preprocessing import StandardScaler, KBinsDiscretizer\n",
    "# from sklearn.metrics import silhouette_samples,silhouette_score\n",
    "# from sklearn.neighbors import kneighbors_graph\n",
    "\n",
    "from lmfit import minimize, Parameters\n",
    "# from umap import UMAP\n",
    "\n",
    "# import scanpy as sc\n",
    "import anndata\n",
    "\n",
    "# import schist as scs\n",
    "\n",
    "# import networkx as nx\n",
    "\n",
    "# from castle.common import GraphDAG\n",
    "# from castle.metrics import MetricsDAG\n",
    "# from castle.datasets import IIDSimulation, DAG\n",
    "# from castle.algorithms import PC,Notears,GOLEM,ANMNonlinear,DirectLiNGAM,ICALiNGAM,NotearsLowRank\n",
    "# import notears.notears as notears\n",
    "\n",
    "# from shapely.geometry import Point\n",
    "# from shapely.geometry.polygon import Polygon\n",
    "\n",
    "# import keras\n",
    "# from keras import layers\n",
    "# from keras.callbacks import EarlyStopping\n",
    "# from keras.callbacks import ModelCheckpoint\n",
    "\n",
    "# from statsmodels.graphics._regressionplots_doc import _plot_influence_doc\n",
    "# from statsmodels.regression.linear_model import OLS\n",
    "# from statsmodels.stats.outliers_influence import variance_inflation_factor\n",
    "\n",
    "\n",
    "\n",
    "from plot_functions import *\n",
    "from usefull_functions import *\n",
    "from preprocess_functions import *\n",
    "from functions import *\n",
    "# from normalization import *\n",
    "\n",
    "\n",
    "%matplotlib inline\n",
    "%load_ext autoreload\n",
    "%autoreload 2\n",
    "%reload_ext autoreload\n",
    "\n",
    "folderExists(dir_plots)\n",
    "folderExists(dir_data)"
   ]
  },
  {
   "cell_type": "markdown",
   "metadata": {},
   "source": [
    "Feature names (Participating panel)\n",
    "\n",
    "\n",
    "Received CyTOF data is assumed to be only of intact single and alive cells  \n",
    "\n",
    "each sample matrix with high dimensionality feature space (NamesAll) and without duplicate samples\n",
    "\n",
    "experiment2 without: 'p53', 'ZEB1', \n",
    "experiment1 without: 'NCad','ECad','panKeratin'\n",
    "\n"
   ]
  },
  {
   "cell_type": "code",
   "execution_count": 3,
   "metadata": {
    "ExecuteTime": {
     "end_time": "2022-12-11T11:15:54.721783Z",
     "start_time": "2022-12-11T11:15:54.701446Z"
    }
   },
   "outputs": [
    {
     "name": "stdout",
     "output_type": "stream",
     "text": [
      "sample 1: features are correct!\n",
      "sample 2: features are correct!\n",
      "sample 3: features are correct!\n",
      "sample 4: features are correct!\n",
      "sample 5: features are correct!\n",
      "sample all: features are correct!\n"
     ]
    }
   ],
   "source": [
    "features = {}\n",
    "features['NamesAll'] = [  \n",
    "            'CD45','H4','H3', 'H3.3','NCad','ECad','panKeratin', 'K5', 'EpCam', 'H3K27me2', 'p53', 'EZH2', 'H3K4me3', 'gH2AX','aSMA','H3K36me2','H3K4me1','H3K9me2','H4K16ac',\n",
    "            'H2Aub', 'Vimentin', 'H3K64ac', 'BMI-1', 'ZEB1',  'H3K27ac', 'H4K20me3', 'ER', 'CD49f', 'H3K36me3', 'CD24',\n",
    "            'GATA3', 'H3K27me3', 'H3K9ac', 'H3K9me3', 'CD44', 'Ki67', 'K8-18', 'H3S28p', 'Ir_DNA2', 'Live_Dead',\n",
    "        ]\n",
    "features['Core'] = ['H4','H3', 'H3.3']\n",
    "# extra cellular are outside the cell - except them everything is noramalized (in group \"ToNorm\")\n",
    "features['ToNorm'] = [    \n",
    "            'H4','H3', 'H3.3','panKeratin', 'K5', 'H3K27me2', 'p53', 'EZH2', 'H3K4me3', 'gH2AX', 'aSMA', 'H3K36me2', 'H3K4me1', 'H3K9me2',\n",
    "            'H4K16ac', 'H2Aub', 'Vimentin', 'H3K64ac', 'BMI-1', 'ZEB1', 'H3K27ac', 'H4K20me3',\n",
    "            'ER', 'H3K36me3', 'GATA3', 'H3K27me3', 'H3K9ac', 'H3K9me3', 'Ki67', 'K8-18', 'H3S28p',\n",
    "        ]\n",
    "features['CellIden'] = [  \n",
    "            'CD45', 'K5', 'EpCam', 'aSMA', 'Vimentin', 'ZEB1', 'ER', 'CD49f', 'CD24', 'GATA3', 'CD44', 'K8-18',\n",
    "            'Ki67','p53', 'NCad','ECad','panKeratin',\n",
    "        ]\n",
    "# everything that is not cell identity; 'H4','H3', 'H3.3' are excluded\n",
    "features['EpiCols'] = [   \n",
    "            'H3K27me2', 'H3K4me3', 'H3K36me2', 'H3K4me1', 'H3K9me2', 'H4K16ac', 'H2Aub', 'H3K64ac',  \n",
    "            'H3K27ac', 'H4K20me3', 'BMI-1','EZH2','gH2AX',\n",
    "            'H3K36me3', 'H3K27me3', 'H3K9ac', 'H3K9me3', 'H3S28p'\n",
    "        ]\n",
    "\n",
    "# intra cellular??\n",
    "# features['NMS'] = [       \n",
    "#             'CD45', 'K5', 'EpCam', 'aSMA', 'Vimentin', 'ZEB1', 'ER', 'CD49f', 'CD24', 'GATA3', 'CD44', 'K8-18',\n",
    "#             'Ki67', 'p53', 'NCad','ECad','panKeratin',\n",
    "#             'H3K27me2', 'EZH2', 'H3K4me3', 'gH2AX',  'H3K36me2', 'H3K4me1', 'H3K9me2', 'H4K16ac', 'H2Aub',\n",
    "#             'H3K64ac', 'BMI-1',  'H3K27ac', 'H4K20me3', 'H3K36me3',   'H3K27me3', 'H3K9ac', 'H3K9me3',    'H3S28p',\n",
    "             \n",
    "#         ]\n",
    "\n",
    "# currently un-needed features; Live_Dead is just noise amplification\n",
    "features = removeFeatures(features.copy(),features =['Ir_DNA2', 'Live_Dead'])\n",
    "# diffrence of features1\n",
    "features1 = removeFeatures(features.copy(),features =['NCad','ECad','panKeratin',])\n",
    "# diffrence of features2\n",
    "features2 = removeFeatures(features.copy(),features =['p53','ZEB1'])\n",
    "\n",
    "\n",
    "\n",
    "\n",
    "\n",
    "names = {}\n",
    "names['figures'] = [1,1,2,2,2]\n",
    "\n",
    "\n",
    "names['1'] = features1\n",
    "names['2'] = features1\n",
    "names['3'] = features2\n",
    "names['4'] = features2\n",
    "names['5'] = features2\n",
    "names['all'] = features\n",
    "del features;del features1; del features2\n",
    "\n",
    "\n",
    "\n",
    " \n",
    " \n",
    "\n",
    "# verify:\n",
    "#   CellIden +EpiCols = NamesAll\n",
    "#   no feature is both in CellIden and EpiCols\n",
    "for i, name in names.items():\n",
    "  try:\n",
    "    \n",
    "    if test_fetures(name) != 1:\n",
    "      print('error in sample', i)\n",
    "    else:\n",
    "      print (f'sample {i}: features are correct!')\n",
    "  except:\n",
    "    pass\n",
    "\n",
    "  \n",
    "\n",
    "      "
   ]
  },
  {
   "cell_type": "markdown",
   "metadata": {},
   "source": [
    "Load data from csv, and store in dictionary "
   ]
  },
  {
   "cell_type": "code",
   "execution_count": 4,
   "metadata": {
    "ExecuteTime": {
     "end_time": "2022-12-11T11:15:56.012810Z",
     "start_time": "2022-12-11T11:15:54.722716Z"
    }
   },
   "outputs": [],
   "source": [
    "K1=pd.read_csv(dir1+\"BCK-01_noaf_18Sep2022_01_0.fcs_file_internal_comp_residual.csv\")\n",
    "K2=pd.read_csv(dir1+\"BCK-02_noaf_18Sep2022_01_0.fcs_file_internal_comp_residual.csv\")\n",
    "\n",
    "# new features - without:p53, zeb1, with: pankeratin, ecad, ncad \n",
    "\n",
    "K3=pd.read_csv(dir2+\"export_BCK03_noaf_23Nov2022_01_0_final_cells - processed.csv\")\n",
    "K4=pd.read_csv(dir2+\"export_BCK04_noaf_23Nov2022_02_0_final_cells - processed.csv\")\n",
    "K5=pd.read_csv(dir2+\"export_BCK05_noaf_23Nov2022_01_0_final_cells - processed.csv\")\n",
    "\n",
    "# later analysis k6 with duplicates\n",
    "# K6=pd.read_csv(dir2+\"export_BCK05_noaf_23Nov2022_01_0_final_cells.csv\")\n",
    "\n",
    "k={}\n",
    "k['1'] = K1[names['1']['NamesAll']]\n",
    "k['2'] = K2[names['2']['NamesAll']]\n",
    "\n",
    "k['3'] = K3[names['3']['NamesAll']]\n",
    "k['4'] = K4[names['4']['NamesAll']]\n",
    "k['5'] = K5[names['5']['NamesAll']]\n",
    "\n",
    "del K1;del K2;del K3;del K4;del K5\n",
    "\n",
    "\n"
   ]
  },
  {
   "cell_type": "markdown",
   "metadata": {},
   "source": [
    "Visualize data"
   ]
  },
  {
   "cell_type": "code",
   "execution_count": 5,
   "metadata": {
    "ExecuteTime": {
     "end_time": "2022-12-11T11:15:56.672977Z",
     "start_time": "2022-12-11T11:15:56.013751Z"
    }
   },
   "outputs": [],
   "source": [
    "if visualize:\n",
    "  for i, K in k.items():\n",
    "      print ('k'+i)\n",
    "      print ('\\n')\n",
    "  #     print(K.head(3)) #see samples\n",
    "      print(K.describe()) #mean,std, max,min, q25,q50,q75\n",
    "      print ('\\n')"
   ]
  },
  {
   "cell_type": "markdown",
   "metadata": {
    "tags": []
   },
   "source": [
    "# gating and transformation\n",
    "\n"
   ]
  },
  {
   "cell_type": "markdown",
   "metadata": {},
   "source": [
    "gating - fix fluidigm gating result; In-gate and outlier removal (Samples with low number of events)\n",
    "\n",
    "Samples with low number of events are discarded (outliers) - remove outlier 99.99% from all\n",
    "\n",
    "In gate to achieve good normalization - gate on H3.3/H4 was too low\n"
   ]
  },
  {
   "cell_type": "code",
   "execution_count": 6,
   "metadata": {
    "ExecuteTime": {
     "end_time": "2022-12-11T11:15:57.286122Z",
     "start_time": "2022-12-11T11:15:56.691586Z"
    }
   },
   "outputs": [
    {
     "name": "stdout",
     "output_type": "stream",
     "text": [
      "k1 gating on:  ['H3.3', 'H4']\n",
      "Initial number of samples:  6195\n",
      "Core Gate:  4838\n",
      "Outlier Gate:  4811 , samples removed: 27\n",
      "k1 : gated\n",
      "k2 gating on:  ['H3.3', 'H4']\n",
      "Initial number of samples:  299471\n",
      "Core Gate:  181679\n",
      "Outlier Gate:  181275 , samples removed: 404\n",
      "k2 : gated\n",
      "k3 gating on:  ['H3', 'H3.3', 'H4']\n",
      "Initial number of samples:  3968\n",
      "Core Gate:  829\n",
      "Outlier Gate:  815 , samples removed: 14\n",
      "k3: gated with method 2\n",
      "k4 gating on:  ['H3', 'H3.3', 'H4']\n",
      "Initial number of samples:  401141\n",
      "Core Gate:  375771\n",
      "Outlier Gate:  374890 , samples removed: 881\n",
      "k4: gated with method 2\n",
      "k5 gating on:  ['H3', 'H3.3', 'H4']\n",
      "Initial number of samples:  79376\n",
      "Core Gate:  68906\n",
      "Outlier Gate:  68765 , samples removed: 141\n",
      "k5: gated with method 2\n"
     ]
    }
   ],
   "source": [
    "\n",
    "GateColumns=['H3.3','H4']#,'H3']#,'H3']\n",
    "for [i, K] , j in zip(k.items(), names['figures']):\n",
    "  \n",
    "    if j==1:\n",
    "      k[i] = Gate(K,'k' + i,['H3.3','H4'])\n",
    "      print ('k' + i, ': gated')\n",
    "    if j==2:\n",
    "      k[i] = Gate(K,'k' + i,['H3','H3.3','H4'])\n",
    "      print (f'k{i}: gated with method {j}')\n",
    "    \n",
    "\n",
    "# k_gate = k"
   ]
  },
  {
   "cell_type": "code",
   "execution_count": 7,
   "metadata": {},
   "outputs": [
    {
     "name": "stdout",
     "output_type": "stream",
     "text": [
      "k1 ; saved to file\n",
      "k2 ; saved to file\n",
      "k3 ; saved to file\n",
      "k4 ; saved to file\n",
      "k5 ; saved to file\n"
     ]
    }
   ],
   "source": [
    "for i, K in k.items():\n",
    "  dict ={}\n",
    "  dict['k'] = K\n",
    "  dict['names'] = names[i]\n",
    "  dict['all'] = names['all']\n",
    "  pickle_dump('k_raw'+i+'_dict', dict,dir_data)\n",
    "  print('k'+i,'; saved to file')"
   ]
  },
  {
   "cell_type": "markdown",
   "metadata": {},
   "source": [
    " arcsinh data transformation\n",
    "  \n",
    "  transformation (semi log scaling): scale argument = 5"
   ]
  },
  {
   "cell_type": "code",
   "execution_count": 8,
   "metadata": {
    "ExecuteTime": {
     "end_time": "2022-12-11T11:15:57.623862Z",
     "start_time": "2022-12-11T11:15:57.287245Z"
    }
   },
   "outputs": [
    {
     "name": "stdout",
     "output_type": "stream",
     "text": [
      "k1 ; arcsinh transformed\n",
      "k2 ; arcsinh transformed\n",
      "k3 ; arcsinh transformed\n",
      "k4 ; arcsinh transformed\n",
      "k5 ; arcsinh transformed\n"
     ]
    }
   ],
   "source": [
    "   \n",
    "\n",
    "for i, K in k.items():\n",
    "    k[i] = arcsinh_transform(K)\n",
    "    print ('k' + i,'; arcsinh transformed')\n",
    "    \n"
   ]
  },
  {
   "cell_type": "markdown",
   "metadata": {},
   "source": [
    "describe data"
   ]
  },
  {
   "cell_type": "code",
   "execution_count": 9,
   "metadata": {
    "ExecuteTime": {
     "end_time": "2022-12-11T11:15:58.179581Z",
     "start_time": "2022-12-11T11:15:57.625091Z"
    }
   },
   "outputs": [
    {
     "name": "stdout",
     "output_type": "stream",
     "text": [
      "k1\n",
      "              CD45           H4           H3         H3.3           K5        EpCam     H3K27me2          p53         EZH2      H3K4me3        gH2AX         aSMA     H3K36me2  \\\n",
      "count  4811.000000  4811.000000  4811.000000  4811.000000  4811.000000  4811.000000  4811.000000  4811.000000  4811.000000  4811.000000  4811.000000  4811.000000  4811.000000   \n",
      "mean      3.060963     2.064351     0.843905     2.912912     1.248391     1.398129     1.527520     0.894570     0.854586     1.972311     0.358744     2.810564     1.755899   \n",
      "std       2.280319     0.906008     0.846535     0.704819     0.964808     1.707899     1.023109     0.898144     0.870184     1.012265     0.517689     1.105596     1.276326   \n",
      "min       0.000000     0.882102     0.000000     0.895897     0.000000     0.000000     0.000000     0.000000     0.000000     0.000000     0.000000     0.000000     0.000000   \n",
      "25%       0.114584     1.355582     0.139947     2.458077     0.567685     0.000000     0.689189     0.181476     0.166815     1.188172     0.000000     1.965362     0.829325   \n",
      "50%       4.499187     1.846386     0.585389     2.906362     1.073681     0.413381     1.432210     0.667472     0.623881     2.056484     0.164489     2.641127     1.512718   \n",
      "75%       4.983953     2.568208     1.322007     3.349491     1.694287     3.116760     2.229041     1.432460     1.277251     2.710614     0.544221     3.685503     2.442074   \n",
      "max       6.327202     6.486364     4.086024     5.818110     5.997798     5.422608     5.721193     7.204746     4.714556     5.187324     5.949948     6.662313     7.495323   \n",
      "\n",
      "           H3K4me1      H3K9me2      H4K16ac        H2Aub     Vimentin      H3K64ac        BMI-1         ZEB1      H3K27ac     H4K20me3           ER        CD49f     H3K36me3  \\\n",
      "count  4811.000000  4811.000000  4811.000000  4811.000000  4811.000000  4811.000000  4811.000000  4811.000000  4811.000000  4811.000000  4811.000000  4811.000000  4811.000000   \n",
      "mean      1.336502     1.303277     0.817115     0.367714     2.172917     1.428483     1.543426     1.644550     1.071452     0.464161     1.767641     2.329789     1.698426   \n",
      "std       0.980117     0.904457     0.796429     0.556267     1.565037     1.070342     0.781599     0.919495     1.034279     0.524542     1.159864     1.826293     0.852649   \n",
      "min       0.000000     0.000000     0.000000     0.000000     0.000000     0.000000     0.000000     0.000000     0.000000     0.000000     0.000000     0.000000     0.000000   \n",
      "25%       0.523205     0.565525     0.158440     0.000000     0.628145     0.488507     0.989051     0.940525     0.199812     0.049953     0.912609     0.594372     1.079216   \n",
      "50%       1.214428     1.191517     0.611193     0.152840     2.260142     1.272820     1.563425     1.635496     0.767235     0.320006     1.547126     2.093366     1.622540   \n",
      "75%       2.037936     1.997563     1.242072     0.506606     3.465984     2.261835     2.075024     2.326910     1.714385     0.711051     2.464063     3.898477     2.275803   \n",
      "max       5.353715     4.576010     4.375243     4.045756     7.093544     4.974648     4.260396     4.822714     5.631329     4.380898     5.868003     6.915527     5.769853   \n",
      "\n",
      "              CD24        GATA3     H3K27me3       H3K9ac      H3K9me3         CD44         Ki67        K8-18       H3S28p  \n",
      "count  4811.000000  4811.000000  4811.000000  4811.000000  4811.000000  4811.000000  4811.000000  4811.000000  4811.000000  \n",
      "mean      1.091080     0.576789     0.618388     0.773763     0.799341     2.464133     0.697394     0.740380     0.762397  \n",
      "std       1.601532     0.810821     0.758204     0.766695     0.716956     1.868884     0.641722     1.265959     0.684888  \n",
      "min       0.000000     0.000000     0.000000     0.000000     0.000000     0.000000     0.000000     0.000000     0.000000  \n",
      "25%       0.000000     0.000000     0.003246     0.140695     0.269212     0.229727     0.180225     0.000000     0.190885  \n",
      "50%       0.003097     0.241896     0.303062     0.552012     0.653324     3.168586     0.560877     0.116294     0.602450  \n",
      "75%       2.499834     0.827640     0.950252     1.203051     1.107495     4.049499     1.033419     0.757953     1.174160  \n",
      "max       6.026053     5.190889     3.778632     4.653429     4.527071     7.191299     4.389009     6.886404     3.576635  \n",
      "\n",
      "\n",
      "k2\n",
      "                CD45             H4             H3           H3.3             K5          EpCam       H3K27me2            p53           EZH2        H3K4me3          gH2AX  \\\n",
      "count  181275.000000  181275.000000  181275.000000  181275.000000  181275.000000  181275.000000  181275.000000  181275.000000  181275.000000  181275.000000  181275.000000   \n",
      "mean        4.008125       1.661623       0.517045       2.583116       0.532424       1.656383       0.914165       0.299582       0.292383       1.442711       0.387896   \n",
      "std         2.034522       0.669413       0.534461       0.696121       0.575515       1.237992       0.766481       0.441096       0.486832       0.887705       0.534588   \n",
      "min         0.000000       0.881381       0.000000       0.881465       0.000000       0.000000       0.000000       0.000000       0.000000       0.000000       0.000000   \n",
      "25%         3.916702       1.175824       0.052956       2.132075       0.074790       0.751712       0.330587       0.000000       0.000000       0.739844       0.000000   \n",
      "50%         4.987209       1.490282       0.371425       2.568504       0.394590       1.377525       0.784321       0.125663       0.091844       1.400536       0.218054   \n",
      "75%         5.314137       1.940312       0.805772       2.996150       0.806772       2.235482       1.320167       0.461998       0.413172       2.079177       0.584026   \n",
      "max         6.594019       7.399681       3.625065       6.671851       6.090529       7.113712       5.970787       6.369796       4.852423       5.840810       6.592846   \n",
      "\n",
      "                aSMA       H3K36me2        H3K4me1        H3K9me2        H4K16ac          H2Aub       Vimentin        H3K64ac          BMI-1           ZEB1        H3K27ac  \\\n",
      "count  181275.000000  181275.000000  181275.000000  181275.000000  181275.000000  181275.000000  181275.000000  181275.000000  181275.000000  181275.000000  181275.000000   \n",
      "mean        1.734447       1.380549       0.535293       0.700878       0.465816       0.260573       2.117973       1.101733       1.070258       1.260770       0.711894   \n",
      "std         0.847077       0.999625       0.602646       0.615673       0.590872       0.422114       1.321422       0.961335       0.679273       0.838840       0.837133   \n",
      "min         0.000000       0.000000       0.000000       0.000000       0.000000       0.000000       0.000000       0.000000       0.000000       0.000000       0.000000   \n",
      "25%         1.173108       0.696843       0.046557       0.216013       0.000000       0.000000       1.034349       0.243536       0.526892       0.572867       0.057613   \n",
      "50%         1.661066       1.245561       0.375836       0.596398       0.254169       0.083884       2.229544       0.856005       1.063513       1.196716       0.419345   \n",
      "75%         2.206706       1.859056       0.812682       1.035998       0.706784       0.381170       3.030113       1.879152       1.556280       1.867664       1.038214   \n",
      "max         6.987215       7.541968       5.385663       5.314555       4.592255       4.725798       7.287630       4.936794       5.577409       5.512196       5.468637   \n",
      "\n",
      "            H4K20me3             ER          CD49f       H3K36me3           CD24          GATA3       H3K27me3         H3K9ac        H3K9me3           CD44           Ki67  \\\n",
      "count  181275.000000  181275.000000  181275.000000  181275.000000  181275.000000  181275.000000  181275.000000  181275.000000  181275.000000  181275.000000  181275.000000   \n",
      "mean        0.299949       1.275656       1.870557       1.168786       0.795183       0.212660       0.522779       0.617283       0.642730       3.714018       1.059361   \n",
      "std         0.412259       0.740133       1.517719       0.705765       1.157524       0.368787       0.649401       0.639815       0.634292       1.646504       0.787746   \n",
      "min         0.000000       0.000000       0.000000       0.000000       0.000000       0.000000       0.000000       0.000000       0.000000       0.000000       0.000000   \n",
      "25%         0.000000       0.723535       0.536660       0.668513       0.000000       0.000000       0.000000       0.064464       0.189209       3.281273       0.432670   \n",
      "50%         0.157139       1.246582       1.626208       1.106478       0.231466       0.018248       0.258738       0.424808       0.513898       4.265542       1.005333   \n",
      "75%         0.464999       1.767153       2.997949       1.574436       1.075648       0.294432       0.821957       1.003066       0.916587       4.716705       1.535313   \n",
      "max         5.205831       4.493306       7.907132       6.572720       5.779076       4.190086       4.775744       4.955742       5.779716       7.742757       5.026687   \n",
      "\n",
      "               K8-18         H3S28p  \n",
      "count  181275.000000  181275.000000  \n",
      "mean        0.749111       0.733626  \n",
      "std         1.265533       0.607374  \n",
      "min         0.000000       0.000000  \n",
      "25%         0.000000       0.220230  \n",
      "50%         0.228261       0.626487  \n",
      "75%         0.703038       1.129795  \n",
      "max         7.479281       3.839062  \n",
      "\n",
      "\n",
      "k3\n",
      "             CD45          H4          H3        H3.3        NCad        ECad  panKeratin          K5       EpCam    H3K27me2        EZH2     H3K4me3       gH2AX        aSMA  \\\n",
      "count  815.000000  815.000000  815.000000  815.000000  815.000000  815.000000  815.000000  815.000000  815.000000  815.000000  815.000000  815.000000  815.000000  815.000000   \n",
      "mean     4.253809    2.479427    1.883286    3.139633    0.424384    0.468583    0.444307    2.734264    0.521563    2.378495    1.962567    2.810958    0.304832    3.996309   \n",
      "std      1.265057    1.411900    0.867491    1.087673    0.590830    0.549840    0.752897    1.729214    0.824989    1.488390    1.630539    1.396951    0.514758    1.755327   \n",
      "min      0.000000    0.883539    0.881594    0.887067    0.000000    0.000000    0.000000    0.000000    0.000000    0.000000    0.000000    0.000000    0.000000    1.007649   \n",
      "25%      3.769433    1.250341    1.131464    2.371429    0.000000    0.032776    0.000000    1.386728    0.000000    1.153339    0.409229    1.781871    0.000000    2.369691   \n",
      "50%      4.529774    1.887951    1.566748    2.885544    0.130793    0.300335    0.184238    2.226975    0.093442    2.156967    1.718857    2.804973    0.046606    3.754859   \n",
      "75%      5.175595    3.739925    2.567626    3.880719    0.664623    0.699610    0.567345    3.996488    0.670750    3.486088    3.452424    3.919531    0.390895    5.448902   \n",
      "max      6.098672    6.528147    5.063270    7.056055    2.805624    3.282683    5.350336    7.242369    4.029262    6.260457    5.864213    6.370171    3.564825    8.243171   \n",
      "\n",
      "         H3K36me2     H3K4me1     H3K9me2     H4K16ac       H2Aub    Vimentin     H3K64ac       BMI-1     H3K27ac    H4K20me3          ER       CD49f    H3K36me3        CD24  \\\n",
      "count  815.000000  815.000000  815.000000  815.000000  815.000000  815.000000  815.000000  815.000000  815.000000  815.000000  815.000000  815.000000  815.000000  815.000000   \n",
      "mean     2.003704    2.501479    1.959651    1.643652    0.417386    1.820515    1.711828    1.886793    0.969244    1.401151    1.320710    1.707483    2.603565    1.110121   \n",
      "std      1.441371    1.759701    1.472765    1.332236    0.480425    0.937827    0.974069    1.161541    0.803306    1.359540    0.905342    1.128081    1.580835    1.260530   \n",
      "min      0.000000    0.000000    0.000000    0.000000    0.000000    0.000000    0.000000    0.000000    0.000000    0.000000    0.000000    0.000000    0.014444    0.000000   \n",
      "25%      0.760486    0.903591    0.601931    0.415208    0.000000    1.127784    1.016708    1.079751    0.298013    0.229836    0.656430    0.848031    1.363701    0.000000   \n",
      "50%      1.746345    2.226966    1.619171    1.273989    0.256438    1.901397    1.829244    1.684267    0.839950    0.859215    1.198847    1.573750    2.053680    0.315665   \n",
      "75%      3.013304    4.029666    3.286495    2.797467    0.663461    2.505516    2.345308    2.592469    1.469718    2.595660    1.809898    2.559160    3.887851    2.267716   \n",
      "max      6.675522    6.746423    6.274751    5.408282    2.508531    4.975920    4.916493    6.406447    4.265061    6.036788    4.624277    5.245634    7.548794    4.113009   \n",
      "\n",
      "            GATA3    H3K27me3      H3K9ac     H3K9me3        CD44        Ki67       K8-18      H3S28p  \n",
      "count  815.000000  815.000000  815.000000  815.000000  815.000000  815.000000  815.000000  815.000000  \n",
      "mean     0.494869    0.856979    1.569238    1.835911    2.772442    0.803809    0.301521    0.757053  \n",
      "std      0.622553    0.766138    1.256756    1.374439    1.250475    0.743510    0.537469    0.727972  \n",
      "min      0.000000    0.000000    0.000000    0.000000    0.000000    0.000000    0.000000    0.000000  \n",
      "25%      0.031968    0.251680    0.574633    0.701764    1.929595    0.215106    0.000000    0.163342  \n",
      "50%      0.277143    0.730590    1.268177    1.414510    2.940026    0.624745    0.092534    0.579459  \n",
      "75%      0.684923    1.302401    2.455802    2.974030    3.749162    1.172587    0.387241    1.154626  \n",
      "max      3.611503    4.490859    5.959081    6.109173    5.766850    4.136982    4.954417    3.885148  \n",
      "\n",
      "\n",
      "k4\n",
      "                CD45             H4             H3           H3.3           NCad           ECad     panKeratin             K5          EpCam       H3K27me2           EZH2  \\\n",
      "count  374890.000000  374890.000000  374890.000000  374890.000000  374890.000000  374890.000000  374890.000000  374890.000000  374890.000000  374890.000000  374890.000000   \n",
      "mean        0.046890       2.406861       3.531979       3.097461       0.157752       0.508555       5.059594       2.067888       3.201437       1.928195       1.086538   \n",
      "std         0.130554       0.675533       0.675963       0.639096       0.257090       0.601147       0.850572       1.035766       0.710884       0.917553       0.734018   \n",
      "min         0.000000       0.881449       0.881463       0.882130       0.000000       0.000000       0.000000       0.000000       0.000000       0.000000       0.000000   \n",
      "25%         0.000000       1.917553       3.178276       2.717843       0.000000       0.050698       4.573147       1.333654       2.744351       1.279905       0.491243   \n",
      "50%         0.000000       2.448356       3.628072       3.124178       0.000000       0.349017       5.159432       2.200211       3.225307       1.985870       1.053070   \n",
      "75%         0.000000       2.910762       3.993640       3.508339       0.239264       0.740172       5.656894       2.830363       3.680333       2.582148       1.603591   \n",
      "max         2.105934       4.427267       5.464123       5.789509       2.083946       4.511512       7.335162       6.098133       6.370773       5.620344       5.152779   \n",
      "\n",
      "             H3K4me3          gH2AX           aSMA       H3K36me2        H3K4me1        H3K9me2        H4K16ac          H2Aub       Vimentin        H3K64ac          BMI-1  \\\n",
      "count  374890.000000  374890.000000  374890.000000  374890.000000  374890.000000  374890.000000  374890.000000  374890.000000  374890.000000  374890.000000  374890.000000   \n",
      "mean        2.455627       0.138083       3.703840       1.893281       1.812993       1.148336       0.633620       0.257115       0.553978       1.002856       1.257138   \n",
      "std         0.757405       0.241392       0.752237       1.036393       0.882292       0.683431       0.614359       0.453512       0.536970       0.825760       0.657109   \n",
      "min         0.000000       0.000000       0.000000       0.000000       0.000000       0.000000       0.000000       0.000000       0.000000       0.000000       0.000000   \n",
      "25%         1.962880       0.000000       3.192341       1.222243       1.177132       0.639311       0.102960       0.000000       0.125716       0.395941       0.776859   \n",
      "50%         2.469696       0.000000       3.746384       1.815983       1.876556       1.109882       0.490579       0.036848       0.460364       0.856824       1.258291   \n",
      "75%         2.955748       0.189803       4.228791       2.388031       2.455773       1.589682       0.984341       0.338910       0.853150       1.379863       1.718218   \n",
      "max         5.612676       2.490079       7.197888       6.737485       5.503533       3.751579       3.699116       4.789180       6.319929       4.527740       3.791837   \n",
      "\n",
      "             H3K27ac       H4K20me3             ER          CD49f       H3K36me3           CD24          GATA3       H3K27me3         H3K9ac        H3K9me3           CD44  \\\n",
      "count  374890.000000  374890.000000  374890.000000  374890.000000  374890.000000  374890.000000  374890.000000  374890.000000  374890.000000  374890.000000  374890.000000   \n",
      "mean        0.648581       1.363724       3.471862       3.460831       1.705869       2.641966       2.066979       0.611453       0.616492       1.080344       0.298343   \n",
      "std         0.769419       0.651605       0.682435       1.129363       0.662479       1.122296       0.936973       0.622422       0.691941       0.752416       0.388863   \n",
      "min         0.000000       0.000000       0.000000       0.000000       0.000000       0.000000       0.000000       0.000000       0.000000       0.000000       0.000000   \n",
      "25%         0.111014       0.897903       3.071550       2.683450       1.283080       1.906749       1.434041       0.138034       0.115215       0.550009       0.000000   \n",
      "50%         0.444795       1.401894       3.533354       3.567638       1.774832       2.798514       2.064633       0.462845       0.422997       1.000576       0.150863   \n",
      "75%         0.874916       1.844680       3.918686       4.292752       2.177949       3.485348       2.665365       0.875126       0.845344       1.446432       0.460938   \n",
      "max         5.880081       3.398584       5.633450       6.997538       4.506029       5.482829       5.462145       3.855147       4.162215       4.426478       4.583875   \n",
      "\n",
      "                Ki67          K8-18         H3S28p  \n",
      "count  374890.000000  374890.000000  374890.000000  \n",
      "mean        0.266243       3.177865       0.704743  \n",
      "std         0.354976       1.005044       0.540086  \n",
      "min         0.000000       0.000000       0.000000  \n",
      "25%         0.000000       2.560361       0.254827  \n",
      "50%         0.135606       3.260290       0.638573  \n",
      "75%         0.411809       3.858196       1.068108  \n",
      "max         4.452681       6.318906       3.266797  \n",
      "\n",
      "\n",
      "k5\n",
      "               CD45            H4            H3          H3.3          NCad          ECad    panKeratin            K5         EpCam      H3K27me2          EZH2       H3K4me3  \\\n",
      "count  68765.000000  68765.000000  68765.000000  68765.000000  68765.000000  68765.000000  68765.000000  68765.000000  68765.000000  68765.000000  68765.000000  68765.000000   \n",
      "mean       0.301510      2.246793      2.849056      3.147476      0.350992      0.740665      4.351095      2.495426      3.806302      3.296659      1.510168      2.951392   \n",
      "std        0.727181      0.694610      0.688970      0.597734      0.387831      0.645109      1.469547      0.869823      0.714473      0.760778      0.738993      0.781388   \n",
      "min        0.000000      0.881399      0.881385      0.881574      0.000000      0.000000      0.000000      0.000000      0.000000      0.000000      0.000000      0.000000   \n",
      "25%        0.000000      1.739185      2.498890      2.802278      0.000000      0.232297      3.973352      1.944512      3.389092      2.830032      1.005916      2.432857   \n",
      "50%        0.000000      2.243091      2.977007      3.197477      0.232519      0.616091      4.744674      2.557834      3.880966      3.341427      1.521837      2.940374   \n",
      "75%        0.224215      2.726214      3.325482      3.527557      0.572671      1.081642      5.295595      3.081862      4.301407      3.798792      1.981928      3.476610   \n",
      "max        4.944125      6.670712      5.045977      7.128955      2.562270      3.919972      7.566858      6.428864      6.738306      6.794449      5.541522      5.964539   \n",
      "\n",
      "              gH2AX          aSMA      H3K36me2       H3K4me1       H3K9me2       H4K16ac         H2Aub      Vimentin       H3K64ac         BMI-1       H3K27ac      H4K20me3  \\\n",
      "count  68765.000000  68765.000000  68765.000000  68765.000000  68765.000000  68765.000000  68765.000000  68765.000000  68765.000000  68765.000000  68765.000000  68765.000000   \n",
      "mean       0.403258      4.107239      3.846321      2.448939      1.785376      1.373521      0.979551      1.770497      1.571299      1.798534      1.278923      1.283468   \n",
      "std        0.429087      0.661989      0.895023      0.771035      0.774918      0.799021      0.818789      1.167115      1.108775      0.768923      1.163009      0.690872   \n",
      "min        0.000000      0.964253      0.000000      0.000000      0.000000      0.000000      0.000000      0.000000      0.000000      0.000000      0.000000      0.000000   \n",
      "25%        0.015687      3.678854      3.265029      1.970599      1.246313      0.778136      0.351362      1.062338      0.718644      1.280393      0.423831      0.800501   \n",
      "50%        0.287161      4.108077      3.796012      2.492749      1.753276      1.331994      0.806769      1.556653      1.288784      1.790784      0.921568      1.288404   \n",
      "75%        0.647705      4.516327      4.338068      2.957626      2.326129      1.907370      1.388942      2.071976      2.389049      2.306005      1.745302      1.729620   \n",
      "max        4.305015      7.866722      7.891460      6.144808      6.054839      5.392318      5.442585      7.262755      5.262930      6.255577      5.987329      6.167110   \n",
      "\n",
      "                 ER         CD49f      H3K36me3          CD24         GATA3      H3K27me3        H3K9ac       H3K9me3          CD44          Ki67         K8-18        H3S28p  \n",
      "count  68765.000000  68765.000000  68765.000000  68765.000000  68765.000000  68765.000000  68765.000000  68765.000000  68765.000000  68765.000000  68765.000000  68765.000000  \n",
      "mean       3.272002      3.219944      2.182022      0.758774      2.288173      0.964558      1.026229      1.730373      0.918134      0.675562      2.721780      0.934892  \n",
      "std        0.877525      1.008693      0.736729      0.819769      1.243589      0.877549      0.882896      1.079910      1.247552      0.756016      1.335784      0.636787  \n",
      "min        0.000000      0.000000      0.000000      0.000000      0.000000      0.000000      0.000000      0.000000      0.000000      0.000000      0.000000      0.000000  \n",
      "25%        2.782724      2.658828      1.757974      0.134739      1.390131      0.286764      0.337693      0.969623      0.131303      0.125990      1.832007      0.424384  \n",
      "50%        3.398968      3.323672      2.244379      0.519573      2.294418      0.717520      0.803822      1.541317      0.470764      0.455378      2.808038      0.877641  \n",
      "75%        3.872850      3.883496      2.634909      1.101237      3.080816      1.379319      1.524900      2.229696      1.044128      0.937246      3.634954      1.367834  \n",
      "max        5.582334      7.368373      7.537040      5.108834      5.875550      4.584912      5.992900      6.274916      7.398356      5.089842      6.820629      4.056112  \n",
      "\n",
      "\n"
     ]
    }
   ],
   "source": [
    "if show:\n",
    "  for i, K in k.items():\n",
    "      print ('k'+i)\n",
    "      \n",
    "      # print(K.head(3)) #see samples\n",
    "      print(K.describe()) #mean,std, max,min, q25,q50,q75\n",
    "      print ('\\n')"
   ]
  },
  {
   "cell_type": "markdown",
   "metadata": {},
   "source": [
    "visualization\n",
    "\n",
    "arcsinh probability density plot - analysis of herogeneity (division to multiple populations), results:\n",
    "\n",
    "cd45 - we want only the negative population\n",
    "\n",
    "2 close populations - epcam, vimentin,cd49f\n",
    "\n",
    "2 far populations - cd44"
   ]
  },
  {
   "cell_type": "code",
   "execution_count": 10,
   "metadata": {
    "ExecuteTime": {
     "end_time": "2022-12-11T11:16:03.414227Z",
     "start_time": "2022-12-11T11:15:58.180669Z"
    }
   },
   "outputs": [],
   "source": [
    "# # Kernel Distribution Estimation Plot (kdeplot) is the probability density function plot\n",
    "# # can plot for the univariate (single variable) or multiple variables altogether. \n",
    "# # i.e y = probability, x = feature value after arcsinh transformation (can be also negative)\n",
    "\n",
    "if visualize:\n",
    "  interst=[  'CD45','CD44', 'EpCam', 'Vimentin', 'CD49f','CD45','H4','H3', 'H3.3','NCad','ECad','panKeratin',]\n",
    "  plot_hist(k,interst,names['figures'],settings,\n",
    "          func = sns.kdeplot,title = 'ArcSinh Unnormalized',Figname = '1_Hist_ArcSinh_Unnormalized_' )  "
   ]
  },
  {
   "cell_type": "code",
   "execution_count": 11,
   "metadata": {
    "ExecuteTime": {
     "end_time": "2022-12-11T11:16:40.368500Z",
     "start_time": "2022-12-11T11:16:03.415174Z"
    }
   },
   "outputs": [],
   "source": [
    "if visualize:\n",
    "  plot_hist(k,names['all']['NamesAll'],names['figures'],settings,\n",
    "            func = sns.kdeplot,title = 'ArcSinh Unnormalized',Figname = '1_Hist_ArcSinh_Unnormalized_' ) "
   ]
  },
  {
   "cell_type": "markdown",
   "metadata": {},
   "source": [
    "# Split CD45 neg \n",
    "\n",
    "the only interesting population"
   ]
  },
  {
   "cell_type": "code",
   "execution_count": 12,
   "metadata": {
    "ExecuteTime": {
     "end_time": "2022-12-11T11:16:45.618105Z",
     "start_time": "2022-12-11T11:16:40.370107Z"
    }
   },
   "outputs": [
    {
     "name": "stderr",
     "output_type": "stream",
     "text": [
      "/home/yishai/anaconda3/envs/tf_39/lib/python3.9/site-packages/scipy/signal/_peak_finding.py:1182: RuntimeWarning: divide by zero encountered in double_scalars\n",
      "  snr = abs(cwt[line[0][0], line[1][0]] / noises[line[1][0]])\n"
     ]
    },
    {
     "name": "stdout",
     "output_type": "stream",
     "text": [
      "k1; CD45 neg seperated\n",
      "value with highest *inverse* probability: 1.818673127404146\n",
      "k2; CD45 neg seperated\n",
      "value with highest *inverse* probability: 2.1505115774345165\n",
      "k3; CD45 neg seperated\n",
      "value with highest *inverse* probability: 0.842781362987517\n",
      "k4 ;minima not found\n",
      "k5; CD45 neg seperated\n",
      "value with highest *inverse* probability: 1.2298199181170908\n",
      "manual\n",
      "k4; value with highest *inverse* probability: 0.5\n"
     ]
    },
    {
     "data": {
      "image/png": "[encoded data removed]",
      "text/plain": [
       "<Figure size 600x500 with 1 Axes>"
      ]
     },
     "metadata": {},
     "output_type": "display_data"
    },
    {
     "data": {
      "image/png": "[encoded data removed]",
      "text/plain": [
       "<Figure size 600x500 with 1 Axes>"
      ]
     },
     "metadata": {},
     "output_type": "display_data"
    },
    {
     "data": {
      "image/png": "[encoded data removed]",
      "text/plain": [
       "<Figure size 600x500 with 1 Axes>"
      ]
     },
     "metadata": {},
     "output_type": "display_data"
    },
    {
     "data": {
      "image/png": "[encoded data removed]",
      "text/plain": [
       "<Figure size 600x500 with 1 Axes>"
      ]
     },
     "metadata": {},
     "output_type": "display_data"
    },
    {
     "data": {
      "image/png": "[encoded data removed]",
      "text/plain": [
       "<Figure size 600x500 with 1 Axes>"
      ]
     },
     "metadata": {},
     "output_type": "display_data"
    }
   ],
   "source": [
    "\n",
    "\n",
    "KCD45Neg_ind,KCD45pos_ind ,min_x, min_y = {},{},{},{}\n",
    "for i, K in k.items():\n",
    "    \n",
    "    try:\n",
    "      min_x[i],min_y[i] = splitInversePDF(K,i,'CD45')\n",
    "    #   KCD45Neg = K[K[feature]<min_x].copy()\n",
    "      KCD45Neg_ind[i]= K['CD45']<min_x[i]\n",
    "      print ('k' + i+'; CD45 neg seperated')\n",
    "      print('value with highest *inverse* probability:', min_x[i])\n",
    "    except:\n",
    "        print('k' + i,';minima not found')\n",
    "    # if i=='2' or i=='1':\n",
    "    #     KCD45pos_ind[i]= K['CD45']>min_x[i]\n",
    "    #     print('CD45+ for i=2 copied')\n",
    "print('manual')        \n",
    "min_x['4'],min_y['4'] = splitInversePDF(k['4'],'4','CD45',min_x = 0.5)\n",
    "KCD45Neg_ind['4']= k['4']['CD45']<min_x['4']\n",
    "print('k4; value with highest *inverse* probability:', min_x['4'])\n",
    "# kCD45Neg['5'], min_x['5'],min_y['5'] = splitInversePDF(k['5'],'5','CD45',min_x = 1)\n",
    "# print('k5; value with highest *inverse* probability:', min_x['5'])\n",
    "\n",
    "# if visualize:\n",
    "for i, K in k.items():\n",
    "    plotSplit(K,i,min_x,min_y,settings,Figname = '_cd45_split')\n",
    "    \n",
    "del min_x; del min_y\n",
    "\n",
    "# # ThK1={'CD45': 1.8686868686868687}\n",
    "# # ThK2={'CD45': 2.1717171717171717}\n",
    "\n",
    "\n",
    "\n",
    "\n",
    "\n"
   ]
  },
  {
   "cell_type": "code",
   "execution_count": 13,
   "metadata": {
    "ExecuteTime": {
     "end_time": "2022-12-11T11:20:23.595179Z",
     "start_time": "2022-12-11T11:20:23.218312Z"
    }
   },
   "outputs": [],
   "source": [
    "# if visualize:\n",
    "#   colors = cm.rainbow(np.linspace(0, 1, len (k.keys())))\n",
    "#   fig, ax = plt.subplots(1,2,figsize=(10,3))\n",
    "#   for i, K in k.items(): \n",
    "#     #   \n",
    "#     j =  names['figures'][int(i)-1]-1 \n",
    "#     sns.histplot(K.CD45,color=colors[int(i)-1],label='T'+i,stat='density',element='step',fill=False,ax = ax[j])\n",
    "#     ax[j].legend(loc='upper center',bbox_to_anchor=(1,1))\n",
    "#     ax[j].set_yscale('log')\n",
    "#     ax[j].title.set_text('cd45 split histplot')\n",
    "#   plt.savefig(dir_plots+'cd45_split_histplot.svg', format=\"svg\", bbox_inches=\"tight\", pad_inches=0.2)\n",
    "\n",
    " \n",
    "\n",
    "\n",
    "#   fig, ax = plt.subplots(1,2,figsize=(12,3))\n",
    "#   for [i, K],[h, KCD45Neg] in zip( k.items(),kCD45Neg.items()):\n",
    "#       j =  names['figures'][int(i)-1]-1 \n",
    "#       sns.kdeplot(K.CD45,color=colors[int(i)-1],label='T'+i,ax = ax[j])\n",
    "#       sns.kdeplot(K.CD45,color=colors[int(i)-1],ls='--',label='T'+i+' CD45-',ax = ax[j])\n",
    "#       ax[j].legend(loc='upper center',bbox_to_anchor=(1,1))\n",
    "#       ax[j].set_yscale('log')\n",
    "#       ax[j].title.set_text('cd45 split kdeplot')\n",
    "#   plt.savefig(dir_plots+'cd45_split_kdeplot.svg', format=\"svg\", bbox_inches=\"tight\", pad_inches=0.2)\n",
    "\n",
    "      "
   ]
  },
  {
   "cell_type": "markdown",
   "metadata": {},
   "source": [
    "Continue only with CD45 neg population\n",
    "\n",
    "1 - delete cd45+ population and continue with k  = kCD45Neg\n",
    "\n",
    "2 - delete cd45 feature from data "
   ]
  },
  {
   "cell_type": "code",
   "execution_count": 14,
   "metadata": {},
   "outputs": [],
   "source": [
    "\n",
    "dict ={}\n",
    "for i, K in k.items():\n",
    "    if i != '3':\n",
    "    \n",
    "    # if i !=3:   \n",
    "        dict[i ] = K[KCD45Neg_ind[i]]\n",
    "del k; k=dict \n",
    "\n",
    "dict ={}\n",
    "for i, K in k.items():\n",
    "  \n",
    "\n",
    "  # remove from features lists(names)\n",
    "  N = names[i]\n",
    "  for j, sublist in N.items():\n",
    "    try:\n",
    "      sublist.remove('CD45')\n",
    "    except:\n",
    "      pass\n",
    "    N[j] = sublist\n",
    "  dict[i] = N\n",
    "#   remove index 3 and copy to new dict\n",
    "names['figures'].pop(3-1)\n",
    "dict['figures'] = names['figures']\n",
    "del names; names=dict "
   ]
  },
  {
   "cell_type": "code",
   "execution_count": null,
   "metadata": {},
   "outputs": [],
   "source": []
  },
  {
   "cell_type": "markdown",
   "metadata": {
    "tags": []
   },
   "source": [
    "# Normalize using new method on all intercellular markers"
   ]
  },
  {
   "cell_type": "markdown",
   "metadata": {},
   "source": [
    "2 step normalization:\n",
    "\n",
    "1- normalize gardient (TBD)\n",
    "\n",
    "1- normalize using core\n",
    "\n",
    "insight: since its the minima multiple rus with same effect as one run\n",
    "\n",
    "note: features to norm (i.e names[i]['ToNorm']) are different on each sample"
   ]
  },
  {
   "cell_type": "code",
   "execution_count": 15,
   "metadata": {},
   "outputs": [
    {
     "name": "stdout",
     "output_type": "stream",
     "text": [
      " size =  1771\n",
      " size =  39256\n",
      "new size =  1771\n",
      " size =  366648\n",
      "new size =  1771\n",
      " size =  63390\n",
      "new size =  1771\n"
     ]
    },
    {
     "name": "stderr",
     "output_type": "stream",
     "text": [
      "/tmp/ipykernel_2867/2506776460.py:40: FutureWarning: The frame.append method is deprecated and will be removed from pandas in a future version. Use pandas.concat instead.\n",
      "  k_append = k_append.append(K, ignore_index=True)\n",
      "/tmp/ipykernel_2867/2506776460.py:40: FutureWarning: The frame.append method is deprecated and will be removed from pandas in a future version. Use pandas.concat instead.\n",
      "  k_append = k_append.append(K, ignore_index=True)\n",
      "/tmp/ipykernel_2867/2506776460.py:40: FutureWarning: The frame.append method is deprecated and will be removed from pandas in a future version. Use pandas.concat instead.\n",
      "  k_append = k_append.append(K, ignore_index=True)\n",
      "/tmp/ipykernel_2867/2506776460.py:40: FutureWarning: The frame.append method is deprecated and will be removed from pandas in a future version. Use pandas.concat instead.\n",
      "  k_append = k_append.append(K, ignore_index=True)\n"
     ]
    }
   ],
   "source": [
    "uncommonFeatures = ['NCad','ECad','panKeratin',  'p53', 'ZEB1' ]\n",
    "\n",
    "\n",
    "# remove from the  mutual list uncommonFeatures\n",
    "N = names['1'].copy()\n",
    "\n",
    "for j, sublist in N.items():\n",
    "    for f in uncommonFeatures:\n",
    "        try:\n",
    "            sublist.remove(f)\n",
    "        except:\n",
    "            pass\n",
    "    N[j] = sublist\n",
    "names['1245'] = N\n",
    "\n",
    "names['figures'].append(2)\n",
    "\n",
    "\n",
    " # remove from data\n",
    "appendDict ={}\n",
    "for i, KK in k.items():\n",
    "    K=KK.copy()\n",
    "    for f in uncommonFeatures:\n",
    "        try:\n",
    "            K = K.drop(columns=[f])\n",
    "        except:\n",
    "            pass\n",
    "    # print (K.columns)\n",
    "    appendDict[i ] = K\n",
    "    \n",
    "# del k; k=dict \n",
    "\n",
    "# append data\n",
    "NamesAll = names['1245']['NamesAll']\n",
    "k_append= pd.DataFrame(columns =NamesAll)\n",
    "for i, K in appendDict.items():\n",
    "\n",
    "    K= subsample_k(K[NamesAll].copy(),n=1771)\n",
    "    K['by_sample'] = int(i)\n",
    "    k_append = k_append.append(K, ignore_index=True)\n",
    "by_sampleInd = k_append['by_sample'].copy()\n",
    "k['1245'] = k_append\n",
    "\n",
    "k['1245']['by_sample'] = by_sampleInd\n",
    "# k_append['by_sample'] = by_sampleInd\n",
    "# print(len(by_sampleInd))"
   ]
  },
  {
   "cell_type": "code",
   "execution_count": 16,
   "metadata": {
    "ExecuteTime": {
     "end_time": "2022-12-11T11:20:36.437744Z",
     "start_time": "2022-12-11T11:20:36.184723Z"
    }
   },
   "outputs": [
    {
     "name": "stdout",
     "output_type": "stream",
     "text": [
      "k1 ; normalized with method 1\n",
      "k2 ; normalized with method 1\n",
      "k4 ; normalized with method 2\n",
      "k5 ; normalized with method 2\n",
      "k1245 ; normalized with method 2\n"
     ]
    }
   ],
   "source": [
    "# if visualize:\n",
    "#   for i, K in k.items():\n",
    "#     print ('k' + i,', initial std:')\n",
    "#     print(K.std().to_frame().T)\n",
    "\n",
    "\n",
    "\n",
    "\n",
    "def normalize_data(k,sample,names):\n",
    "    for [i, K] , j in zip(k.items(), names['figures']):\n",
    "        \n",
    "        \n",
    "        # FIRST STEP - normalize_gardient by core \n",
    "        # SECOND STEP - normalize ToNorm fetures by the core features ['H3.3','H4']\n",
    "        \n",
    "        if j==1:\n",
    "          K=NormalizeNew2(K,names[i]['ToNorm'])\n",
    "          K = Mean_Core_normalization(K, names[i]['ToNorm'],coreFetures=['H3.3','H4'])\n",
    "          \n",
    "        elif j==2:\n",
    "          K=NormalizeNew(K,names[i]['ToNorm'])\n",
    "          K = Mean_Core_normalization(K, names[i]['ToNorm'],coreFetures=['H4','H3', 'H3.3'])\n",
    "        else: \n",
    "          print ('error')\n",
    "          break\n",
    "        \n",
    "        k[i] = K \n",
    "        print (sample + i,f'; normalized with method {j}')\n",
    "    return k\n",
    "\n",
    "k = normalize_data(k,'k',names)\n",
    "\n",
    "\n",
    "\n"
   ]
  },
  {
   "cell_type": "code",
   "execution_count": 17,
   "metadata": {},
   "outputs": [],
   "source": [
    "# uncommonFeatures = ['NCad','ECad','panKeratin',  'p53', 'ZEB1' ]\n",
    "\n",
    "\n",
    "# # remove from the  mutual list uncommonFeatures\n",
    "# N = names['1'].copy()\n",
    "\n",
    "# for j, sublist in N.items():\n",
    "#     for f in uncommonFeatures:\n",
    "#         try:\n",
    "#             sublist.remove(f)\n",
    "#         except:\n",
    "#             pass\n",
    "#     N[j] = sublist\n",
    "# names['1245'] = N\n",
    "\n",
    "# names['figures'].append(2)\n",
    "\n",
    "\n",
    "#  # remove from data\n",
    "# appendDict ={}\n",
    "# for i, KK in k.items():\n",
    "#     K=KK.copy()\n",
    "#     for f in uncommonFeatures:\n",
    "#         try:\n",
    "#             K = K.drop(columns=[f])\n",
    "#         except:\n",
    "#             pass\n",
    "#     # print (K.columns)\n",
    "#     appendDict[i ] = K\n",
    "    \n",
    "# # del k; k=dict \n",
    "\n",
    "# # append data\n",
    "# NamesAll = names['1245']['NamesAll']\n",
    "# k_append= pd.DataFrame(columns =NamesAll)\n",
    "# for i, K in appendDict.items():\n",
    "\n",
    "#     K= subsample_k(K[NamesAll].copy(),n=1771)\n",
    "#     K['by_sample'] = int(i)\n",
    "#     k_append = k_append.append(K, ignore_index=True)\n",
    "# by_sampleInd = k_append['by_sample'].copy()\n",
    "# k['1245'] = k_append\n",
    "\n",
    "# k['1245']['by_sample'] = by_sampleInd\n",
    "# # k_append['by_sample'] = by_sampleInd\n",
    "# # print(len(by_sampleInd))"
   ]
  },
  {
   "cell_type": "markdown",
   "metadata": {},
   "source": [
    "Scale data \n",
    "\n",
    "using mean, std (whiten data) - achieve std close to 1 mean close to 0"
   ]
  },
  {
   "cell_type": "code",
   "execution_count": 18,
   "metadata": {
    "ExecuteTime": {
     "end_time": "2022-12-11T11:21:03.888212Z",
     "start_time": "2022-12-11T11:21:03.847807Z"
    }
   },
   "outputs": [
    {
     "name": "stdout",
     "output_type": "stream",
     "text": [
      "k1 scaled\n",
      "k2 scaled\n",
      "k4 scaled\n",
      "k5 scaled\n",
      "k1245 scaled\n"
     ]
    }
   ],
   "source": [
    "\n",
    "for i, K in k.items():\n",
    "\n",
    "    k[i] = scale_data(K)\n",
    "    print (f'k{i} scaled')\n",
    "    # print(K.std().to_frame().T)\n",
    "# the index numbers are unfortunately passes into scaling and norm\n",
    "# after scaling rturn the unscled index numbers\n",
    "k['1245']['by_sample'] = by_sampleInd\n"
   ]
  },
  {
   "cell_type": "code",
   "execution_count": 19,
   "metadata": {
    "ExecuteTime": {
     "end_time": "2022-12-11T11:21:10.287898Z",
     "start_time": "2022-12-11T11:21:07.437490Z"
    }
   },
   "outputs": [],
   "source": [
    "\n",
    "\n",
    "if visualize:\n",
    "    plot_hist(k,names['all']['NamesAll'],names['figures'],settings,\n",
    "        func = sns.kdeplot,title = 'Normalized + Scaled',Figname = '2_Hist_normalized_scaled_' )     "
   ]
  },
  {
   "cell_type": "markdown",
   "metadata": {},
   "source": [
    "Subsample data\n",
    "\n",
    "verify; n<=5000 "
   ]
  },
  {
   "cell_type": "code",
   "execution_count": 20,
   "metadata": {
    "ExecuteTime": {
     "end_time": "2022-12-11T11:17:29.951256Z",
     "start_time": "2022-12-11T11:17:29.780204Z"
    },
    "tags": []
   },
   "outputs": [
    {
     "name": "stdout",
     "output_type": "stream",
     "text": [
      "k1; samples =  1771 , fetures =  35\n",
      "k2; samples =  39256 , fetures =  35\n",
      "k4; samples =  366648 , fetures =  36\n",
      "k5; samples =  63390 , fetures =  36\n",
      "k1245; samples =  7084 , fetures =  33\n"
     ]
    }
   ],
   "source": [
    "\n",
    "# if subsample:\n",
    "#   k = subsample_data(k,'k',n=5000)\n",
    "# else:\n",
    "for i, K in k.items():\n",
    "    print ('k'+i+ '; samples = ', len(K), ', fetures = ', len(K.columns))\n",
    "    \n",
    "\n",
    "\n",
    "            \n"
   ]
  },
  {
   "cell_type": "markdown",
   "metadata": {},
   "source": [
    "## other\n",
    "Save data to file (pickle)\n",
    "\n",
    "convert images to pdf\n"
   ]
  },
  {
   "cell_type": "code",
   "execution_count": 21,
   "metadata": {},
   "outputs": [
    {
     "name": "stdout",
     "output_type": "stream",
     "text": [
      "k1; samples =  1771 , fetures =  35\n",
      "k2; samples =  39256 , fetures =  35\n",
      "k4; samples =  366648 , fetures =  36\n",
      "k5; samples =  63390 , fetures =  36\n",
      "k1245; samples =  7084 , fetures =  33\n",
      "k1 ; saved to file\n",
      "k2 ; saved to file\n",
      "k4 ; saved to file\n",
      "k5 ; saved to file\n",
      "k1245 ; saved to file\n",
      "total run time = 50.5923633\n"
     ]
    }
   ],
   "source": [
    "for i, K in k.items():\n",
    "  print ('k'+i+ '; samples = ', len(K), ', fetures = ', len(K.columns))\n",
    "\n",
    "for i, K in k.items():\n",
    "    try:\n",
    "      del dict;dict ={}\n",
    "    except:\n",
    "        dict ={}\n",
    "    dict['k'] = K\n",
    "    pickle_dump('k'+i+'_dict', dict,dir_data)\n",
    "    \n",
    "    del dict;dict ={}\n",
    "    dict = names[i]\n",
    "    # dict['all'] = names['all']\n",
    "    pickle_dump('k'+i+'_names_dict', dict,dir_data)\n",
    "    print('k'+i,'; saved to file')\n",
    "\n",
    "\n",
    "\n",
    "end = time.process_time()\n",
    "print ('total run time =', end-start )"
   ]
  }
 ],
 "metadata": {
  "kernelspec": {
   "display_name": "tf_39",
   "language": "python",
   "name": "python3"
  },
  "language_info": {
   "codemirror_mode": {
    "name": "ipython",
    "version": 3
   },
   "file_extension": ".py",
   "mimetype": "text/x-python",
   "name": "python",
   "nbconvert_exporter": "python",
   "pygments_lexer": "ipython3",
   "version": "3.9.16"
  },
  "toc": {
   "base_numbering": 1,
   "nav_menu": {},
   "number_sections": true,
   "sideBar": true,
   "skip_h1_title": false,
   "title_cell": "Table of Contents",
   "title_sidebar": "Contents",
   "toc_cell": false,
   "toc_position": {},
   "toc_section_display": true,
   "toc_window_display": false
  },
  "varInspector": {
   "cols": {
    "lenName": 16,
    "lenType": 16,
    "lenVar": 40
   },
   "kernels_config": {
    "python": {
     "delete_cmd_postfix": "",
     "delete_cmd_prefix": "del ",
     "library": "var_list.py",
     "varRefreshCmd": "print(var_dic_list())"
    },
    "r": {
     "delete_cmd_postfix": ") ",
     "delete_cmd_prefix": "rm(",
     "library": "var_list.r",
     "varRefreshCmd": "cat(var_dic_list()) "
    }
   },
   "types_to_exclude": [
    "module",
    "function",
    "builtin_function_or_method",
    "instance",
    "_Feature"
   ],
   "window_display": false
  },
  "vscode": {
   "interpreter": {
    "hash": "47461faa88aa067695cc57f541ef1d2dc4d6f921b9b537a7f257f46bf46d112f"
   }
  }
 },
 "nbformat": 4,
 "nbformat_minor": 4
}
