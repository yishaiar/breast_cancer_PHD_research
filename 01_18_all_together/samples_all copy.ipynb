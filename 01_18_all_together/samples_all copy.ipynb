{
 "cells": [
  {
   "cell_type": "markdown",
   "metadata": {},
   "source": [
    "# Load and initialize"
   ]
  },
  {
   "cell_type": "markdown",
   "metadata": {},
   "source": [
    "settings"
   ]
  },
  {
   "cell_type": "code",
   "execution_count": null,
   "metadata": {
    "ExecuteTime": {
     "end_time": "2023-01-16T21:12:28.925237Z",
     "start_time": "2023-01-16T21:12:28.891068Z"
    }
   },
   "outputs": [],
   "source": [
    "# sample number\n",
    "j=str(12345)\n",
    "n_samples = 1772\n",
    "    # create visualization\n",
    "visualize = True\n",
    "    # show figures\n",
    "show = True\n",
    "\n",
    "load_from_file = False"
   ]
  },
  {
   "cell_type": "markdown",
   "metadata": {},
   "source": [
    "envirement"
   ]
  },
  {
   "cell_type": "code",
   "execution_count": null,
   "metadata": {
    "ExecuteTime": {
     "end_time": "2023-01-16T21:12:28.990551Z",
     "start_time": "2023-01-16T21:12:28.927491Z"
    }
   },
   "outputs": [],
   "source": [
    "import os\n",
    "import time \n",
    "start = time.process_time()\n",
    "import pathlib\n",
    "import sys\n",
    "from IPython.display import Image, display\n",
    "from tqdm import tqdm_notebook,tqdm\n",
    "# import time\n",
    "\n",
    "import numpy as np\n",
    "# import matplotlib\n",
    "import matplotlib.pyplot as plt\n",
    "from matplotlib.pyplot import rc_context\n",
    "\n",
    "plt.rcParams[\"figure.figsize\"] = (5.0, 4.0)  # Set default size of plots.\n",
    "plt.rcParams[\"image.interpolation\"] = \"nearest\"\n",
    "plt.rcParams[\"image.cmap\"] = \"gray\"\n",
    "%matplotlib inline\n",
    "\n",
    "import pandas as pd\n",
    "pd.set_option('display.max_rows', 500)\n",
    "pd.set_option('display.max_columns', 500)\n",
    "pd.set_option('display.width', 180) #according to screen width\n",
    "# from pandas.core.base import PandasObject\n",
    "# PandasObject.view = view #allows view meth pd.view\n",
    "\n",
    "# from scipy import signal, stats\n",
    "# import seaborn as sns\n",
    "\n",
    "# from sklearn import metrics\n",
    "\n",
    "# from sklearn.preprocessing import StandardScaler, KBinsDiscretizer\n",
    "# from sklearn.metrics import silhouette_samples,silhouette_score\n",
    "# from sklearn.neighbors import kneighbors_graph\n",
    "\n",
    "# from lmfit import minimize, Parameters\n",
    "\n",
    "\n",
    "parent_dir = os.path.abspath(os.path.join(os.getcwd(), os.pardir))\n",
    "sys.path.append(parent_dir+'/functions/')\n",
    "\n",
    "\n",
    "from usefull_functions import *\n",
    "from functions import *\n",
    "from plot_functions import *\n",
    "from clustering_functions import *\n",
    "\n",
    "\n",
    "\n",
    "%load_ext autoreload\n",
    "%autoreload 2\n",
    "%reload_ext autoreload\n",
    "%autoreload 2\n",
    "\n",
    "\n",
    "dir_data = parent_dir+'/Data/'\n",
    "# 'Data/'\n",
    "dir_plots = parent_dir+'/Plots_sample'+j+'/'\n",
    "saveSVG  =False\n",
    "settings =        (dir_plots,show,saveSVG)\n",
    "folderExists(dir_plots)\n",
    "\n",
    "TF_ENABLE_ONEDNN_OPTS=0"
   ]
  },
  {
   "cell_type": "markdown",
   "metadata": {},
   "source": [
    "load data; normalized (CD45-)  "
   ]
  },
  {
   "cell_type": "code",
   "execution_count": null,
   "metadata": {
    "ExecuteTime": {
     "end_time": "2023-01-16T21:12:29.090540Z",
     "start_time": "2023-01-16T21:12:28.992321Z"
    }
   },
   "outputs": [],
   "source": [
    "def name_remove(NamesAll):\n",
    "    for h in ['NCad','ECad','panKeratin',]:\n",
    "        try:\n",
    "            NamesAll.remove(h)\n",
    "        except:\n",
    "            pass\n",
    "    return NamesAll\n",
    "dict = pickle_load('k4_names_dict',dir_data )\n",
    "NamesAll = name_remove(dict['NamesAll'])\n",
    "CellIden = name_remove(dict['CellIden'])\n",
    "EpiCols = name_remove(dict['EpiCols'])\n",
    "Core = name_remove(dict['Core'])\n",
    "\n",
    "if load_from_file:\n",
    "    k_orig = pickle_load('k'+j+'_sample',dir_data )['k']\n",
    "else:\n",
    "# from functools import reduce\n",
    "    k_orig= pd.DataFrame(columns =NamesAll)\n",
    "#     n_samples = 10000 \n",
    "\n",
    "    for i in ['4','5','3','2','1']:\n",
    "    # for j in ['2','2']:  \n",
    "        k_i =pickle_load('k'+i+'_dict',dir_data )['k'][NamesAll]\n",
    "        print(i,' :',len(k_i))\n",
    "        # downsample\n",
    "        k_i= subsample_k(k_i.copy(),n=n_samples)\n",
    "        k_i ['sample_num'] = int(i)\n",
    "        k_orig = k_orig.append(k_i, ignore_index=True)\n",
    "    \n",
    "# print(len(k_orig)  )  \n",
    "\n",
    "print (len(k_orig))    \n",
    "# print(df)\n",
    "# j=str(245)\n",
    "dict ={}\n",
    "dict['k'] = k_orig\n",
    "\n",
    "pickle_dump('k'+j+'_sample', dict,dir_data)\n",
    "\n",
    "CellIden_EpiCols = CellIden + EpiCols\n",
    "groups = [['CellIden','EpiCols','CellIden+EpiCols'],[CellIden,EpiCols,CellIden_EpiCols]]\n",
    "del dict"
   ]
  },
  {
   "cell_type": "markdown",
   "metadata": {},
   "source": [
    "Visualize data\n",
    "\n",
    "no point to print data.describe() as it is whitened (std~1, mean~0) "
   ]
  },
  {
   "cell_type": "code",
   "execution_count": null,
   "metadata": {
    "ExecuteTime": {
     "end_time": "2023-01-16T21:12:29.142002Z",
     "start_time": "2023-01-16T21:12:29.092846Z"
    }
   },
   "outputs": [],
   "source": [
    "if show:\n",
    "\n",
    "    for name in [NamesAll,Core,CellIden,EpiCols]:\n",
    "        print(len(name))\n",
    "        print(name)\n"
   ]
  },
  {
   "cell_type": "markdown",
   "metadata": {
    "tags": []
   },
   "source": [
    "# Cell Identity"
   ]
  },
  {
   "cell_type": "code",
   "execution_count": null,
   "metadata": {
    "ExecuteTime": {
     "end_time": "2023-01-16T21:12:29.193413Z",
     "start_time": "2023-01-16T21:12:29.143651Z"
    }
   },
   "outputs": [],
   "source": [
    "k = k_orig.copy()\n",
    "CAll=pd.concat([k]).copy()\n",
    "s ={}\n",
    "s['min_dist'] = {}\n",
    "s['n_neighbors'] = {}\n",
    "s['min_samples'] = {}\n",
    "s['eps'] = {}\n",
    "\n",
    "\n",
    "name = 'Tumor'+j+'_CellIdentity_'\n"
   ]
  },
  {
   "cell_type": "markdown",
   "metadata": {},
   "source": [
    "### UMAP\n",
    "\n",
    "plot for each feature according to its intensity"
   ]
  },
  {
   "cell_type": "code",
   "execution_count": null,
   "metadata": {
    "ExecuteTime": {
     "end_time": "2023-01-16T21:12:51.555507Z",
     "start_time": "2023-01-16T21:12:29.195357Z"
    }
   },
   "outputs": [],
   "source": [
    "s['min_dist']['245']=0.001\n",
    "s['n_neighbors']['245']=10\n",
    "s['min_dist']['1245']=0.001\n",
    "s['n_neighbors']['1245']=10\n",
    "\n",
    "min_dist = s['min_dist'][j]\n",
    "n_neighbors = s['n_neighbors'][j]\n",
    "\n",
    "\n",
    "\n",
    "umapData = calculate_umap(CAll[CellIden],n_neighbors, min_dist)\n",
    "if visualize:\n",
    "  \n",
    "\n",
    "  drawUMAP(umapData, ['H4'],CAll,settings,\n",
    "              title = f'min_dist = {min_dist}, n_neighbors = {n_neighbors}',\n",
    "              Figname = name+'1_UMAP_(core)')\n",
    "\n",
    "# umap_params(k,CellIden,dir_plots,\n",
    "#             valA = min_dist, valB = n_neighbors\n",
    "#             )\n",
    "\n",
    "if j=='4':\n",
    "    ind  = np.where(umapData[:,0]<5)\n",
    "    k_orig.drop(k_orig.index[ind],inplace=True)\n",
    "    k = k_orig.copy();CAll=pd.concat([k]).copy()\n",
    "    \n",
    "    umapData = calculate_umap(CAll[CellIden],n_neighbors, min_dist)\n",
    "    drawUMAP(umapData, ['H4'],CAll,settings,\n",
    "                title = f'min_dist = {min_dist}, n_neighbors = {n_neighbors}',\n",
    "                Figname = name+'1_UMAP_(core)')\n",
    "    \n"
   ]
  },
  {
   "cell_type": "code",
   "execution_count": null,
   "metadata": {},
   "outputs": [],
   "source": [
    "drawUMAP_intVals(umapData, 'sample_num',CAll,settings,\n",
    "        title ='Tumor '+j+' Epigen +Cell identity UMAP', \n",
    "        Figname = name+'1_UMAP_(samples)')\n"
   ]
  },
  {
   "cell_type": "markdown",
   "metadata": {},
   "source": [
    "### Dbscan and clusters"
   ]
  },
  {
   "cell_type": "code",
   "execution_count": null,
   "metadata": {
    "ExecuteTime": {
     "end_time": "2023-01-16T21:12:56.828220Z",
     "start_time": "2023-01-16T21:12:51.557555Z"
    }
   },
   "outputs": [],
   "source": [
    "s['min_samples']['245']=50\n",
    "s['eps']['245']=0.19\n",
    "s['min_samples']['1245']=40\n",
    "s['eps']['1245']=0.19\n",
    "\n",
    "eps=s['eps'][j];min_samples=s['min_samples'][j]\n",
    "dbscanData,labels,core_samples_mask = calculate_dbscan(umapData,eps,min_samples)\n",
    "if visualize:\n",
    "  drawDbscan(dbscanData,labels,core_samples_mask,settings,\n",
    "              title=f'min_samples = {min_samples}, eps = {eps}',\n",
    "              figname = name+'1_dbscan')\n",
    "              \n",
    "  \n",
    "\n",
    "\n",
    "# dbscan_params(X_2d,\n",
    "#                   valA = eps, valB = min_samples,\n",
    "#                   itersA = 3, itersB = 3,\n",
    "#                   )\n"
   ]
  },
  {
   "cell_type": "code",
   "execution_count": null,
   "metadata": {
    "ExecuteTime": {
     "end_time": "2023-01-16T21:13:12.555103Z",
     "start_time": "2023-01-16T21:12:56.830448Z"
    }
   },
   "outputs": [],
   "source": [
    "\n",
    "plotClusters(k,umapData,labels,NamesAll,settings,\n",
    "             title = 'Clusters Tumor '+j+' - Cell Iden Based',\n",
    "             figname = name+'1_Clusters')\n",
    "             \n",
    "\n"
   ]
  },
  {
   "cell_type": "markdown",
   "metadata": {},
   "source": [
    "### HeatMap"
   ]
  },
  {
   "cell_type": "code",
   "execution_count": null,
   "metadata": {
    "ExecuteTime": {
     "end_time": "2023-01-16T21:13:14.816792Z",
     "start_time": "2023-01-16T21:13:12.557211Z"
    }
   },
   "outputs": [],
   "source": [
    "if j=='2':\n",
    "            K = k.copy() \n",
    "            k = pd.concat([k.copy(),kCD45pos2])\n",
    "            \n",
    "if visualize:\n",
    "    for group_name,group in zip(groups[0],groups[1]):\n",
    "        group_name,group = groups[0][-1],groups[1][-1]\n",
    "        HeatMap(k[k.Clust!=-1],group,settings,\n",
    "                title = 'T'+j+' Cell Iden Based: '+group_name,\n",
    "                figname = name+'1_HeatMap_'+group_name)\n",
    "if j=='2':\n",
    "    k=K\n",
    "    K = None\n",
    "    # del K"
   ]
  },
  {
   "cell_type": "markdown",
   "metadata": {},
   "source": [
    "### MeanDist"
   ]
  },
  {
   "cell_type": "code",
   "execution_count": null,
   "metadata": {
    "ExecuteTime": {
     "end_time": "2023-01-16T21:13:15.949573Z",
     "start_time": "2023-01-16T21:13:14.820259Z"
    }
   },
   "outputs": [],
   "source": [
    "\n",
    "if visualize:\n",
    "    for group_name,group in zip(groups[0],groups[1]):\n",
    "        MeanDist(k [k.Clust==0],k [k.Clust==1],group,settings,\n",
    "                title='MeanDist CellIdentity based: '+group_name,\n",
    "                figname = name+'1_MeanDist_'+group_name)\n"
   ]
  },
  {
   "cell_type": "markdown",
   "metadata": {},
   "source": [
    "## features on UMAP"
   ]
  },
  {
   "cell_type": "code",
   "execution_count": null,
   "metadata": {
    "ExecuteTime": {
     "end_time": "2023-01-16T21:13:44.808076Z",
     "start_time": "2023-01-16T21:13:15.951592Z"
    }
   },
   "outputs": [],
   "source": [
    "vals = np.unique(CAll.Clust); vals = vals[vals!=-1]\n",
    "for val in vals:\n",
    "    ind = CAll.Clust == val\n",
    "    drawUMAP_intVals(umapData[ind], 'sample_num',CAll[ind],settings,\n",
    "        title ='Tumor '+j+' Epigen +Cell identity UMAP' + val, \n",
    "        Figname = name+'1_UMAP'+val|'_(samples)')\n",
    "if visualize:\n",
    "    drawUMAP(umapData, NamesAll,CAll,settings,\n",
    "            title ='Tumor'+j+ ' Cell Iden UMAP', \n",
    "            Figname = name+'2_UMAP_')"
   ]
  },
  {
   "cell_type": "markdown",
   "metadata": {},
   "source": [
    "## save data to file"
   ]
  },
  {
   "cell_type": "code",
   "execution_count": null,
   "metadata": {
    "ExecuteTime": {
     "end_time": "2023-01-16T21:13:44.860070Z",
     "start_time": "2023-01-16T21:13:44.809974Z"
    }
   },
   "outputs": [],
   "source": [
    "\n",
    "dbscanData, umapData,k, CAll,labels,s = None,None,None,None,None,None\n"
   ]
  },
  {
   "cell_type": "markdown",
   "metadata": {
    "tags": []
   },
   "source": [
    "# Epigenetics Based"
   ]
  },
  {
   "cell_type": "code",
   "execution_count": null,
   "metadata": {
    "ExecuteTime": {
     "end_time": "2023-01-16T21:13:44.916374Z",
     "start_time": "2023-01-16T21:13:44.862019Z"
    }
   },
   "outputs": [],
   "source": [
    "\n",
    "\n",
    "k = k_orig.copy()\n",
    "CAll=pd.concat([k]).copy()\n",
    "\n",
    "s ={}\n",
    "s['min_dist'] = {}\n",
    "s['n_neighbors'] = {}\n",
    "s['min_samples'] = {}\n",
    "s['eps'] = {}\n",
    "\n",
    "name = 'Tumor'+j+'_Epigen_'\n",
    "\n"
   ]
  },
  {
   "cell_type": "markdown",
   "metadata": {},
   "source": [
    "### UMAP\n",
    "\n",
    "plot for each feature according to its intensity"
   ]
  },
  {
   "cell_type": "code",
   "execution_count": null,
   "metadata": {
    "ExecuteTime": {
     "end_time": "2023-01-16T21:14:02.232768Z",
     "start_time": "2023-01-16T21:13:44.918034Z"
    }
   },
   "outputs": [],
   "source": [
    "s['min_dist']['245']=0.001\n",
    "s['n_neighbors']['245']=10\n",
    "s['min_dist']['1245']=0.001\n",
    "s['n_neighbors']['1245']=10\n",
    "\n",
    "min_dist = s['min_dist'][j]\n",
    "n_neighbors = s['n_neighbors'][j]\n",
    "\n",
    "\n",
    "umapData = calculate_umap(CAll[EpiCols],n_neighbors, min_dist)\n",
    "if visualize:\n",
    "    drawUMAP(umapData, ['H4'],CAll,settings,\n",
    "              title = f'min_dist = {min_dist}, n_neighbors = {n_neighbors}',\n",
    "              Figname = name+'1_UMAP_(core)')\n",
    "    \n",
    "\n",
    "\n",
    "# umap_params(k,MRK,dir_plots,\n",
    "#             valA = min_dist, valB = n_neighbors,\n",
    "#             )\n",
    "\n",
    "# umap_params(k,MRK,dir_plots,\n",
    "#             valA = 0.2, valB = 300,\n",
    "#             )\n",
    "# umap_params(k,MRK,dir_plots,\n",
    "#             valA = 0.1, valB = 300,\n",
    "#             )\n",
    "\n",
    "# umap_params(k,MRK,dir_plots,\n",
    "#             valA = 0.001, valB = 300,\n",
    "#             )"
   ]
  },
  {
   "cell_type": "code",
   "execution_count": null,
   "metadata": {},
   "outputs": [],
   "source": [
    "drawUMAP_intVals(umapData, 'sample_num',CAll,settings,\n",
    "        title ='Tumor '+j+' Epigen +Cell identity UMAP', \n",
    "        Figname = name+'1_UMAP_(samples)')"
   ]
  },
  {
   "cell_type": "markdown",
   "metadata": {},
   "source": [
    "### Dbscan and clusters"
   ]
  },
  {
   "cell_type": "code",
   "execution_count": null,
   "metadata": {
    "ExecuteTime": {
     "end_time": "2023-01-16T21:14:07.559760Z",
     "start_time": "2023-01-16T21:14:02.234525Z"
    }
   },
   "outputs": [],
   "source": [
    "s['min_samples']['245']=50\n",
    "s['eps']['245']=0.19\n",
    "s['min_samples']['1245']=70\n",
    "s['eps']['1245']=0.17\n",
    "min_samples = s['min_samples'][j]\n",
    "eps = s['eps'][j]\n",
    "\n",
    "\n",
    "dbscanData,labels,core_samples_mask = calculate_dbscan(umapData,eps=eps,min_samples=min_samples)\n",
    "if visualize:\n",
    "  drawDbscan(dbscanData,labels,core_samples_mask,settings,\n",
    "              title=f'min_samples = {min_samples}, eps = {eps}',\n",
    "              figname = name+'1_dbscan')\n",
    "              \n",
    "        \n",
    "        \n",
    "\n",
    "# dbscan_params(X_2d,dir_plots,\n",
    "#                   valA = eps, valB = min_samples,\n",
    "#                   itersA = 3, itersB = 3,\n",
    "#                   )\n",
    "\n",
    "\n",
    "  \n",
    " "
   ]
  },
  {
   "cell_type": "code",
   "execution_count": null,
   "metadata": {
    "ExecuteTime": {
     "end_time": "2023-01-16T21:14:22.458261Z",
     "start_time": "2023-01-16T21:14:07.561373Z"
    }
   },
   "outputs": [],
   "source": [
    "plotClusters(k,umapData,labels,NamesAll,settings,\n",
    "             title = 'Clusters Tumor '+j+' - Epigen Based',\n",
    "             figname = name+'1_Clusters')\n"
   ]
  },
  {
   "cell_type": "markdown",
   "metadata": {},
   "source": [
    "## HeatMap"
   ]
  },
  {
   "cell_type": "code",
   "execution_count": null,
   "metadata": {
    "ExecuteTime": {
     "end_time": "2023-01-16T21:14:24.984449Z",
     "start_time": "2023-01-16T21:14:22.459958Z"
    }
   },
   "outputs": [],
   "source": [
    "if j=='2':\n",
    "            K = k.copy() \n",
    "            k = pd.concat([k.copy(),kCD45pos2])\n",
    "if visualize:\n",
    "    for group_name,group in zip(groups[0],groups[1]):\n",
    "    \n",
    "        HeatMap(k[k.Clust!=-1],group,settings,\n",
    "                title = 'T'+j+' Epigen Based: '+group_name,\n",
    "                figname = name+'1_HeatMap_'+group_name)\n",
    "if j=='2':\n",
    "    k=K\n",
    "    # del K\n",
    "    K = None"
   ]
  },
  {
   "cell_type": "markdown",
   "metadata": {},
   "source": [
    "## Meandist"
   ]
  },
  {
   "cell_type": "code",
   "execution_count": null,
   "metadata": {
    "ExecuteTime": {
     "end_time": "2023-01-16T21:14:26.282712Z",
     "start_time": "2023-01-16T21:14:24.986122Z"
    }
   },
   "outputs": [],
   "source": [
    "if visualize:\n",
    "    for group_name,group in zip(groups[0],groups[1]):\n",
    "        MeanDist(k [k.Clust==0],k [k.Clust==1],group,settings,\n",
    "                title='MeanDist Epigen based: '+group_name,\n",
    "                figname = name+'1_MeanDist_'+group_name)\n"
   ]
  },
  {
   "cell_type": "markdown",
   "metadata": {},
   "source": [
    "## features on UMAP"
   ]
  },
  {
   "cell_type": "code",
   "execution_count": null,
   "metadata": {
    "ExecuteTime": {
     "end_time": "2023-01-16T21:14:56.355162Z",
     "start_time": "2023-01-16T21:14:26.284383Z"
    }
   },
   "outputs": [],
   "source": [
    "\n",
    "if visualize:\n",
    "    drawUMAP(umapData, NamesAll,CAll,settings,\n",
    "            title ='Tumor '+j+' Epigen UMAP', \n",
    "            Figname = name+'2_UMAP_')\n",
    "    "
   ]
  },
  {
   "cell_type": "markdown",
   "metadata": {},
   "source": [
    "## save data to file"
   ]
  },
  {
   "cell_type": "code",
   "execution_count": null,
   "metadata": {
    "ExecuteTime": {
     "end_time": "2023-01-16T21:14:56.404893Z",
     "start_time": "2023-01-16T21:14:56.356724Z"
    }
   },
   "outputs": [],
   "source": [
    "dbscanData, umapData,k, CAll,labels,s = None,None,None,None,None,None"
   ]
  },
  {
   "cell_type": "markdown",
   "metadata": {
    "tags": []
   },
   "source": [
    "# ALL (Epigenetics + Cell identity Based)"
   ]
  },
  {
   "cell_type": "code",
   "execution_count": null,
   "metadata": {
    "ExecuteTime": {
     "end_time": "2023-01-16T21:14:56.459226Z",
     "start_time": "2023-01-16T21:14:56.406498Z"
    }
   },
   "outputs": [],
   "source": [
    "\n",
    "k = k_orig.copy()\n",
    "CAll=pd.concat([k]).copy()\n",
    "\n",
    "s ={}\n",
    "s['min_dist'] = {}\n",
    "s['n_neighbors'] = {}\n",
    "s['min_samples'] = {}\n",
    "s['eps'] = {}\n",
    "\n",
    "name = 'Tumor'+j+'_CellIden+EpiCols_'\n",
    "\n"
   ]
  },
  {
   "cell_type": "markdown",
   "metadata": {},
   "source": [
    "### UMAP\n",
    "\n",
    "plot for each feature according to its intensity"
   ]
  },
  {
   "cell_type": "code",
   "execution_count": null,
   "metadata": {
    "ExecuteTime": {
     "end_time": "2023-01-16T21:15:14.165013Z",
     "start_time": "2023-01-16T21:14:56.461064Z"
    }
   },
   "outputs": [],
   "source": [
    "s['min_dist']['245']=0.001\n",
    "s['n_neighbors']['245']=10\n",
    "s['min_dist']['1245']=0.001\n",
    "s['n_neighbors']['1245']=10\n",
    "\n",
    "min_dist = s['min_dist'][j]\n",
    "n_neighbors = s['n_neighbors'][j]\n",
    "\n",
    "\n",
    "umapData = calculate_umap(CAll[CellIden_EpiCols],n_neighbors, min_dist)\n",
    "if visualize:\n",
    "    drawUMAP(umapData, ['H4'],CAll,settings,\n",
    "              title = f'min_dist = {min_dist}, n_neighbors = {n_neighbors}',\n",
    "              Figname = name+'1_UMAP_(core)')\n",
    "    \n",
    "\n",
    "\n",
    "# umap_params(k,MRK,dir_plots,\n",
    "#             valA = min_dist, valB = n_neighbors,\n",
    "#             )\n",
    "\n",
    "# umap_params(k,MRK,dir_plots,\n",
    "#             valA = 0.2, valB = 300,\n",
    "#             )\n",
    "# umap_params(k,MRK,dir_plots,\n",
    "#             valA = 0.1, valB = 300,\n",
    "#             )\n",
    "\n",
    "# umap_params(k,MRK,dir_plots,\n",
    "#             valA = 0.001, valB = 300,\n",
    "#             )"
   ]
  },
  {
   "cell_type": "code",
   "execution_count": null,
   "metadata": {},
   "outputs": [],
   "source": [
    "drawUMAP_intVals(umapData, 'sample_num',CAll,settings,\n",
    "        title ='Tumor '+j+' Epigen +Cell identity UMAP', \n",
    "        Figname = name+'1_UMAP_(samples)')"
   ]
  },
  {
   "cell_type": "markdown",
   "metadata": {},
   "source": [
    "### Dbscan and clusters"
   ]
  },
  {
   "cell_type": "code",
   "execution_count": null,
   "metadata": {
    "ExecuteTime": {
     "end_time": "2023-01-16T21:15:19.225519Z",
     "start_time": "2023-01-16T21:15:14.166485Z"
    }
   },
   "outputs": [],
   "source": [
    "s['min_samples']['245']=50\n",
    "s['eps']['245']=0.19\n",
    "s['min_samples']['1245']=70\n",
    "s['eps']['1245']=0.17\n",
    "\n",
    "\n",
    "min_samples = s['min_samples'][j]\n",
    "eps = s['eps'][j]\n",
    "\n",
    "\n",
    "dbscanData,labels,core_samples_mask = calculate_dbscan(umapData,eps=eps,min_samples=min_samples)\n",
    "if visualize:\n",
    "  drawDbscan(dbscanData,labels,core_samples_mask,settings,\n",
    "              title=f'min_samples = {min_samples}, eps = {eps}',\n",
    "              figname = name+'1_dbscan')\n",
    "              \n",
    "        \n",
    "        \n",
    "\n",
    "# dbscan_params(X_2d,dir_plots,\n",
    "#                   valA = eps, valB = min_samples,\n",
    "#                   itersA = 3, itersB = 3,\n",
    "#                   )\n",
    "\n",
    "\n",
    "  \n",
    " "
   ]
  },
  {
   "cell_type": "code",
   "execution_count": null,
   "metadata": {
    "ExecuteTime": {
     "end_time": "2023-01-16T21:15:34.143383Z",
     "start_time": "2023-01-16T21:15:19.227133Z"
    }
   },
   "outputs": [],
   "source": [
    "plotClusters(k,umapData,labels,NamesAll,settings,\n",
    "             title = 'Clusters Tumor '+j+' - Epigen +Cell identity Based',\n",
    "             figname = name+'1_Clusters')\n"
   ]
  },
  {
   "cell_type": "markdown",
   "metadata": {},
   "source": [
    "## HeatMap"
   ]
  },
  {
   "cell_type": "code",
   "execution_count": null,
   "metadata": {
    "ExecuteTime": {
     "end_time": "2023-01-16T21:15:36.270468Z",
     "start_time": "2023-01-16T21:15:34.145027Z"
    }
   },
   "outputs": [],
   "source": [
    "if j=='2':\n",
    "            K = k.copy() \n",
    "            k = pd.concat([k.copy(),kCD45pos2])\n",
    "if visualize:\n",
    "    for group_name,group in zip(groups[0],groups[1]):\n",
    "    \n",
    "        HeatMap(k[k.Clust!=-1],group,settings,\n",
    "                title = 'T'+j+' Epigen+Cell Based: '+group_name,\n",
    "                figname = name+'1_HeatMap_'+group_name)  \n",
    "if j=='2':\n",
    "    k=K\n",
    "    # del K\n",
    "    K = None"
   ]
  },
  {
   "cell_type": "markdown",
   "metadata": {},
   "source": [
    "## Meandist"
   ]
  },
  {
   "cell_type": "code",
   "execution_count": null,
   "metadata": {
    "ExecuteTime": {
     "end_time": "2023-01-16T21:15:37.401606Z",
     "start_time": "2023-01-16T21:15:36.272003Z"
    }
   },
   "outputs": [],
   "source": [
    "\n",
    "if visualize:\n",
    "    for group_name,group in zip(groups[0],groups[1]):\n",
    "        MeanDist(k [k.Clust==0],k [k.Clust==1],group,settings,\n",
    "                title='MeanDist Epigen+Cell based: '+group_name,\n",
    "                figname = name+'1_MeanDist_'+group_name)\n"
   ]
  },
  {
   "cell_type": "markdown",
   "metadata": {},
   "source": [
    "## features on UMAP"
   ]
  },
  {
   "cell_type": "code",
   "execution_count": null,
   "metadata": {
    "ExecuteTime": {
     "end_time": "2023-01-16T21:16:06.732362Z",
     "start_time": "2023-01-16T21:15:37.403222Z"
    }
   },
   "outputs": [],
   "source": [
    "\n",
    "if visualize:\n",
    "    drawUMAP(umapData, NamesAll,CAll,settings,\n",
    "            title ='Tumor '+j+' Epigen +Cell identity UMAP', \n",
    "            Figname = name+'2_UMAP_')\n",
    "    "
   ]
  },
  {
   "cell_type": "markdown",
   "metadata": {},
   "source": [
    "## save data to file"
   ]
  },
  {
   "cell_type": "code",
   "execution_count": null,
   "metadata": {
    "ExecuteTime": {
     "end_time": "2023-01-16T21:16:06.787300Z",
     "start_time": "2023-01-16T21:16:06.737660Z"
    }
   },
   "outputs": [],
   "source": [
    "dbscanData, umapData,k, CAll,labels,s = None,None,None,None,None,None"
   ]
  },
  {
   "cell_type": "markdown",
   "metadata": {},
   "source": [
    "# copy to single pdf"
   ]
  },
  {
   "cell_type": "code",
   "execution_count": null,
   "metadata": {
    "ExecuteTime": {
     "end_time": "2023-01-16T21:16:36.415564Z",
     "start_time": "2023-01-16T21:16:06.788889Z"
    }
   },
   "outputs": [],
   "source": [
    "dict ={}\n",
    "dict['k'] = k_orig\n",
    "\n",
    "pickle_dump('k'+j+'_sample', dict,dir_data)\n",
    "imList2pdf(dir_plots,j)\n",
    "\n",
    "end = time.process_time()\n",
    "print ('total run time =', end-start )"
   ]
  }
 ],
 "metadata": {
  "kernelspec": {
   "display_name": "tf_37",
   "language": "python",
   "name": "python3"
  },
  "language_info": {
   "codemirror_mode": {
    "name": "ipython",
    "version": 3
   },
   "file_extension": ".py",
   "mimetype": "text/x-python",
   "name": "python",
   "nbconvert_exporter": "python",
   "pygments_lexer": "ipython3",
   "version": "3.7.13 (default, Oct 19 2022, 10:19:43) [MSC v.1916 64 bit (AMD64)]"
  },
  "toc": {
   "base_numbering": 1,
   "nav_menu": {},
   "number_sections": true,
   "sideBar": true,
   "skip_h1_title": false,
   "title_cell": "Table of Contents",
   "title_sidebar": "Contents",
   "toc_cell": false,
   "toc_position": {},
   "toc_section_display": true,
   "toc_window_display": false
  },
  "varInspector": {
   "cols": {
    "lenName": 16,
    "lenType": 16,
    "lenVar": 40
   },
   "kernels_config": {
    "python": {
     "delete_cmd_postfix": "",
     "delete_cmd_prefix": "del ",
     "library": "var_list.py",
     "varRefreshCmd": "print(var_dic_list())"
    },
    "r": {
     "delete_cmd_postfix": ") ",
     "delete_cmd_prefix": "rm(",
     "library": "var_list.r",
     "varRefreshCmd": "cat(var_dic_list()) "
    }
   },
   "types_to_exclude": [
    "module",
    "function",
    "builtin_function_or_method",
    "instance",
    "_Feature"
   ],
   "window_display": false
  },
  "vscode": {
   "interpreter": {
    "hash": "ef87b4d5be0da2f3284c3c70dc24ef188b3e0b3429b3efcf8b3bf33d1c3da4bb"
   }
  }
 },
 "nbformat": 4,
 "nbformat_minor": 4
}
