{
 "cells": [
  {
   "cell_type": "markdown",
   "metadata": {},
   "source": [
    "# init"
   ]
  },
  {
   "cell_type": "markdown",
   "metadata": {},
   "source": [
    "load test data (if not loaded from outside)"
   ]
  },
  {
   "cell_type": "code",
   "execution_count": 1,
   "metadata": {},
   "outputs": [],
   "source": [
    "# check if IS_MASTER exists, this variable will only exist if it's being called by MASTER notebook.\n",
    "# if it does not exist, set it to False\n",
    "\n",
    "\n",
    "\n",
    "try: use_MASTER\n",
    "except: use_MASTER = False\n",
    "\n",
    "\n",
    "if not use_MASTER:\n",
    "    #%run imports.ipynb\n",
    "    from pathlib import Path\n",
    "    import pickle,os,sys\n",
    "    home = str(Path.home())\n",
    "    \n",
    "    #add the path were the functions are and load the small dataset (used for testing) and config data\n",
    "    sys.path.append(f'{home}/Desktop/breast_cancer_PHD_research/functions/')\n",
    "    with open(f'{home}/Dropbox/CyTOF_Breast/data_yishai/default_data.p', 'rb') as f:\n",
    "      [df,config] = pickle.load(f)\n",
    "    del f, home\n",
    "    \n",
    "\n",
    "# config['show'] = False\n"
   ]
  },
  {
   "cell_type": "markdown",
   "metadata": {},
   "source": [
    "import needed packages"
   ]
  },
  {
   "cell_type": "code",
   "execution_count": 2,
   "metadata": {},
   "outputs": [],
   "source": [
    "import os\n",
    "os.environ['TF_CPP_MIN_LOG_LEVEL'] = '1' \n",
    "# remove avx warning:\n",
    "# I tensorflow/core/platform/cpu_feature_guard.cc:182] This TensorFlow binary is optimized to use available CPU instructions in performance-critical operations.\n",
    "# To enable the following instructions: AVX2 FMA, in other operations, rebuild TensorFlow with the appropriate compiler flags.\n",
    "\n",
    "from pandas import DataFrame,Series\n",
    "# from typing import List\n",
    "import numpy as np\n",
    "from numpy import ndarray\n",
    "from matplotlib.pyplot import figure\n",
    "\n",
    "\n",
    "\n",
    "  \n",
    "from parent_class import * \n",
    "\n",
    "\n"
   ]
  },
  {
   "cell_type": "markdown",
   "metadata": {},
   "source": [
    "define cellcycle class "
   ]
  },
  {
   "cell_type": "code",
   "execution_count": 3,
   "metadata": {},
   "outputs": [
    {
     "name": "stdout",
     "output_type": "stream",
     "text": [
      "The directory already exists!\n",
      "j         : b2345a_reduced\n",
      "feautures_ind: 2\n",
      "data_folder: Data_\n",
      "visualize : True\n",
      "plotUMAP  : True\n",
      "show      : True\n",
      "saveSVG   : False\n",
      "recalculate_umap: True\n",
      "recalculate_db: True\n",
      "create_adjusted: False\n",
      "compare   : False\n",
      "isSingleSample: False\n",
      "home      : /Users/yishai\n",
      "dir_data  : /Users/yishai/Dropbox/CyTOF_Breast/data_yishai/Data_/\n",
      "dir_index : /Users/yishai/Dropbox/CyTOF_Breast/data_yishai/indexes/\n",
      "dir_plots : /Users/yishai/Desktop/_sample_b2345a_14022024_Data_/\n",
      "dir_functions: /Users/yishai/Desktop/breast_cancer_PHD_research/functions/\n",
      "save_add  : /Users/yishai/Dropbox/CyTOF_Breast/data_yishai/\n",
      "name      : CellIden+EpiCols\n",
      "title     : sampb2345a_reduced CellIden+EpiCols Based \n",
      "figname   : sampb2345a_reduced_CellIden+EpiCols_Based_\n",
      "features  : ['K5', 'EpCam', 'aSMA', 'Vimentin', 'ER', 'CD49f', 'CD24', 'GATA3', 'CD44', 'K8-18', 'Ki67', 'ECad', 'panKeratin', 'H3K27me2', 'H3K36me2', 'H3K4me1', 'H3K9me2', 'H4K16ac', 'H2Aub', 'H3K64ac', 'H3K27ac', 'H4K20me3', 'BMI-1', 'EZH2', 'gH2AX', 'H3K9ac', 'H3K9me3', 'H3S28p', 'H3K36me3', 'H3K4me3', 'H3K27me3']\n",
      "groups    : {'CellIden': ['K5', 'EpCam', 'aSMA', 'Vimentin', 'ER', 'CD49f', 'CD24', 'GATA3', 'CD44', 'K8-18', 'Ki67', 'ECad', 'panKeratin'], 'EpiCols': ['H3K27me2', 'H3K36me2', 'H3K4me1', 'H3K9me2', 'H4K16ac', 'H2Aub', 'H3K64ac', 'H3K27ac', 'H4K20me3', 'BMI-1', 'EZH2', 'gH2AX', 'H3K9ac', 'H3K9me3', 'H3S28p', 'H3K36me3', 'H3K4me3', 'H3K27me3'], 'CellIden+EpiCols': ['K5', 'EpCam', 'aSMA', 'Vimentin', 'ER', 'CD49f', 'CD24', 'GATA3', 'CD44', 'K8-18', 'Ki67', 'ECad', 'panKeratin', 'H3K27me2', 'H3K36me2', 'H3K4me1', 'H3K9me2', 'H4K16ac', 'H2Aub', 'H3K64ac', 'H3K27ac', 'H4K20me3', 'BMI-1', 'EZH2', 'gH2AX', 'H3K9ac', 'H3K9me3', 'H3S28p', 'H3K36me3', 'H3K4me3', 'H3K27me3'], 'CellCycle': ['CyclinB1', 'pRB', 'H3S28p', 'DNA2'], 'Core': ['H4', 'H3', 'H3.3'], 'NamesAll': ['H4', 'H3', 'H3.3', 'ECad', 'panKeratin', 'K5', 'EpCam', 'H3K27me2', 'EZH2', 'gH2AX', 'aSMA', 'H3K36me2', 'H3K4me1', 'H3K9me2', 'H4K16ac', 'H2Aub', 'Vimentin', 'H3K64ac', 'BMI-1', 'H3K27ac', 'H4K20me3', 'ER', 'CD49f', 'CD24', 'GATA3', 'H3K9ac', 'H3K9me3', 'CD44', 'Ki67', 'K8-18', 'H3K36me3', 'H3K4me3', 'H3K27me3', 'H3S28p']}\n"
     ]
    }
   ],
   "source": [
    "class Cellcycle(Parent):\n",
    "    \n",
    "    def __init__(self, **kwargs):\n",
    "        self.__dict__.update(kwargs)#import keys and values from dictionary to class\n",
    "        # self.get_attribute()#print all attributes\n",
    "        # self.calc_db = False\n",
    "        self.folderExists(self.dir_plots)#verify that plots folder exists\n",
    "\n",
    "# ----------------------------------------------\n",
    "cellcycle = Cellcycle(**config)#build class (either from MASTER or from here) using parent class containg the config data\n",
    "\n",
    "if not use_MASTER:\n",
    "    \n",
    "    cellcycle.get_attribute()#print all attributes (config info)      \n",
    "        "
   ]
  },
  {
   "cell_type": "markdown",
   "metadata": {},
   "source": [
    "get labels for plooting"
   ]
  },
  {
   "cell_type": "code",
   "execution_count": 4,
   "metadata": {},
   "outputs": [],
   "source": [
    "if not use_MASTER:\n",
    "    samples = Series(df['samp'])\n",
    "    # .strdrop_duplicates()\n",
    "    # labels from  dbscan cell - generated for testing\n",
    "    labels = Series(np.random.randint(-1,5,df.shape[0]),index = df.index)#random labels for testing\n",
    "    \n",
    "    # the labels of each single sample clustering\n",
    "    cellcycle_labels = Series(np.random.randint(0,2,df.shape[0]),index = df.index)#random labels for testing ('pRB-','pRB+')\n",
    "    # cellcycle_labels = config.pickle_load(f\"Labels_samp_arcsinh{config['j']}_CellCycle_Based_\", config['dir_data']).astype(float)\n"
   ]
  },
  {
   "cell_type": "code",
   "execution_count": 5,
   "metadata": {},
   "outputs": [
    {
     "name": "stdout",
     "output_type": "stream",
     "text": [
      "                       0\n",
      "0               cluster0\n",
      "1   sample pRB- : 45.71%\n",
      "2   sample pRB+ : 54.29%\n",
      "3               cluster1\n",
      "4   sample pRB- : 51.59%\n",
      "5   sample pRB+ : 48.41%\n",
      "6               cluster2\n",
      "7    sample pRB- : 47.9%\n",
      "8    sample pRB+ : 52.1%\n",
      "9               cluster3\n",
      "10  sample pRB- : 54.66%\n",
      "11  sample pRB+ : 45.34%\n",
      "12              cluster4\n",
      "13  sample pRB- : 54.32%\n",
      "14  sample pRB+ : 45.68%\n",
      "UMAP cluster sample's probability  - done\n"
     ]
    }
   ],
   "source": [
    "if not use_MASTER:\n",
    "    # cellcycle_labels = config.pickle_load(f\"Labels_samp_arcsinh{config['j']}_CellCycle_Based_\", config['dir_data']).astype(float)\n",
    "    from usefull_functions_new import cluster_samples_probability\n",
    "    cluster_samples_probability(labels,cellcycle_labels,{0:'pRB-',1:'pRB+'},config)\n",
    "    print(\"cellcycle cluster prb+-'s probability  - done\")\n",
    "\n"
   ]
  },
  {
   "cell_type": "markdown",
   "metadata": {},
   "source": [
    "feature histograms - todo:add to cellcycle class"
   ]
  },
  {
   "cell_type": "code",
   "execution_count": null,
   "metadata": {},
   "outputs": [],
   "source": [
    "\n",
    "# # from plot_functions import *\n",
    "# # import matplotlib\n",
    "# import matplotlib.pyplot as plt\n",
    "# # matplotlib.rcParams['pdf.fonttype'] = 42\n",
    "# # matplotlib.rcParams['ps.fonttype'] = 42\n",
    "# # plt.rcParams['pdf.fonttype'] = 42\n",
    "# # plt.rcParams['ps.fonttype'] = 42\n",
    "# import seaborn as sns\n",
    "# def get_hist_data(k,feautures,figures,Figname = '' ):\n",
    "    \n",
    "\n",
    "#     dict = {}\n",
    "\n",
    "#     for j,M in enumerate(feautures): \n",
    "#         for i in figures.keys():\n",
    "#             K = k[i]\n",
    "#             plt.figure()\n",
    "#             x_data, y_data = sns.kdeplot(K[M].copy()).lines[0].get_data()\n",
    "#             plt.close()\n",
    "#             dict[(M,i)] = [x_data,y_data]\n",
    "\n",
    "#     pickle_dump(f'{Figname}_data', dict,config['dir_plots'])\n",
    "            \n",
    "\n",
    "# def multi_hist(feautures,figures,settings,func = sns.kdeplot ,title = '',Figname = '' ,colors=None,saveSVG = True,col_length = 4):\n",
    "#     dict = pickle_load(f'{Figname}_data',config['dir_plots'])\n",
    "    \n",
    "\n",
    "#     if colors is None:\n",
    "#         colors = cm.rainbow(np.linspace(0, 1, len (figures.keys()))) \n",
    "        \n",
    "#     else: colors = [colors[i] for i,_ in enumerate(figures.keys())]\n",
    "    \n",
    "#     x = len(feautures)%col_length\n",
    "#     y = len(feautures)//col_length+1 if x!=0 else len(feautures)//col_length\n",
    "\n",
    "\n",
    "#     fig, ax = plt.subplots(y,col_length,figsize=(int(4*col_length),5*(y)))\n",
    "#     for j,M in enumerate(feautures): \n",
    "\n",
    "#         y = j//col_length\n",
    "#         x = j%col_length\n",
    "        \n",
    "#         # x1 =np.inf;x2 =-np.inf;y1 =np.inf;y2 =-np.inf;\n",
    "#         for i, color in zip(figures.keys(),colors):\n",
    "            \n",
    "#             [x_data,y_data] = dict[(M,i)] \n",
    "#             ax_ = ax[y,x]\n",
    "#             ax_.plot(x_data,y_data,color=color,label='Tumor ' + i)\n",
    "\n",
    "#             ax_.title.set_text(title+f'{M}')\n",
    "#             ax_.set(xlabel=None)\n",
    "#             ax_.set(ylabel=None)\n",
    "#             ax_.legend(loc='upper right')\n",
    "#         # break\n",
    "#     if saveSVG:  settings['saveSVG'] = True\n",
    "#     figSettings(fig,Figname ,settings)            \n",
    "            \n",
    "\n",
    " \n",
    "\n",
    "\n",
    "# if '.2a' in config['j'] and config['feautures_ind']==2:  \n",
    "    \n",
    "#     K = {\n",
    "#         'pRB+':k[k['cellcycle_labels']==1].copy(),\n",
    "#         'pRB-':k[k['cellcycle_labels']==0].copy(),\n",
    "#         }\n",
    "#     features_name =  'EpiCols+Core'\n",
    "#     feautures = ['H4','H3','H3.3','EZH2','H3K27me2','H3K27me3','H3K9me2','H3K9me3','H3K4me3','H3K36me2','H3K36me3','H4K20me3','H3K9ac',\n",
    "#                 'H3K27ac','H3K64ac','H4K16ac']\n",
    "#     # colors = np.asarray([hex_to_rgba(h) for h in ['3f78c1','b33d90']])\n",
    "#     colors = [[0.24705882 ,0.47058824, 0.75686275 ,0.5       ], [0.70196078 ,0.23921569 ,0.56470588 ,0.5       ]]\n",
    "#     # print(colors)\n",
    "#     figures ={'pRB+':1,'pRB-':1}\n",
    "    \n",
    "#     get_hist_data(K,feautures,figures = figures,Figname = f'{config[\"j\"]}_Hist_EpiCols+Core_all' ) \n",
    "#     multi_hist(feautures,figures ={'pRB+':1,'pRB-':1},settings = config.copy(),\n",
    "\n",
    "#                 func = sns.kdeplot,title = '',Figname = f'{config[\"j\"]}_Hist_EpiCols+Core_all' , colors = colors  \n",
    "# )\n",
    "#     K = None"
   ]
  },
  {
   "cell_type": "code",
   "execution_count": null,
   "metadata": {},
   "outputs": [],
   "source": [
    "\n",
    "\n",
    " \n",
    "\n"
   ]
  }
 ],
 "metadata": {
  "kernelspec": {
   "display_name": ".venv",
   "language": "python",
   "name": "python3"
  },
  "language_info": {
   "codemirror_mode": {
    "name": "ipython",
    "version": 3
   },
   "file_extension": ".py",
   "mimetype": "text/x-python",
   "name": "python",
   "nbconvert_exporter": "python",
   "pygments_lexer": "ipython3",
   "version": "3.11.6"
  }
 },
 "nbformat": 4,
 "nbformat_minor": 2
}
