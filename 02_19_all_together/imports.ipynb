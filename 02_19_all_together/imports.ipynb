{
 "cells": [
  {
   "cell_type": "code",
   "execution_count": 11,
   "metadata": {},
   "outputs": [
    {
     "name": "stdout",
     "output_type": "stream",
     "text": [
      "/home/yishai/breast_cancer_PHD_research\n"
     ]
    }
   ],
   "source": [
    "\n",
    "try:\n",
    "    parent_dir\n",
    "except NameError:\n",
    "    import os\n",
    "    parent_dir = os.path.dirname(os.path.dirname(os.path.abspath('__file__')))\n",
    "    j =  '4.1'\n",
    "    group_ind = 2\n",
    "    args = {\n",
    "        # create visualization (umap, dbscan are always shown)\n",
    "        'visualize':True,'plotUMAP' : True,\n",
    "        # show figures in notebook\n",
    "        'show' : True, 'saveSVG' :False,\n",
    "        # calculate umap\n",
    "        'calc_umap' : False\n",
    "        }\n",
    "dir_data1 = 'Data_'\n",
    "print(parent_dir)\n",
    "import sys\n",
    "sys.path.append(parent_dir+'/functions/')"
   ]
  },
  {
   "cell_type": "code",
   "execution_count": 12,
   "metadata": {},
   "outputs": [
    {
     "name": "stdout",
     "output_type": "stream",
     "text": [
      "The autoreload extension is already loaded. To reload it, use:\n",
      "  %reload_ext autoreload\n"
     ]
    }
   ],
   "source": [
    "\n",
    "\n",
    "import sys,pathlib, os, warnings\n",
    "from numba.core.errors import NumbaDeprecationWarning, NumbaPendingDeprecationWarning\n",
    "warnings.simplefilter('ignore', category=NumbaDeprecationWarning)\n",
    "warnings.simplefilter('ignore', category=NumbaPendingDeprecationWarning)\n",
    "# from tqdm import tqdm_notebook, tqdm\n",
    "import datetime,time\n",
    "start = time.process_time()\n",
    "date = datetime.date.today().strftime(\"%d%m%Y\")\n",
    "\n",
    "import pandas as pd\n",
    "import matplotlib.pyplot as plt\n",
    "import numpy as np\n",
    "import matplotlib\n",
    "\n",
    "matplotlib.rcParams['pdf.fonttype'] = 42\n",
    "matplotlib.rcParams['ps.fonttype'] = 42\n",
    "plt.rcParams['pdf.fonttype'] = 42\n",
    "plt.rcParams['ps.fonttype'] = 42\n",
    "# from IPython.display import Image, display\n",
    "# from matplotlib.pyplot import rc_context\n",
    "# from epinuc import *\n",
    "from usefull_functions import *\n",
    "from functions import *\n",
    "from plot_functions import *\n",
    "from clustering_functions import *\n",
    "from xg_shap import * \n",
    "\n",
    "\n",
    "\n",
    "\n",
    "plt.rcParams[\"figure.figsize\"] = (5.0, 4.0)  # Set default size of plots.\n",
    "plt.rcParams[\"image.interpolation\"] = \"nearest\"\n",
    "plt.rcParams[\"image.cmap\"] = \"gray\"\n",
    "%matplotlib inline\n",
    "\n",
    "pd.set_option('display.max_rows', 500)\n",
    "pd.set_option('display.max_columns', 500)\n",
    "pd.set_option('display.width', 180)  # according to screen width\n",
    "\n",
    "%load_ext autoreload\n",
    "%autoreload 2"
   ]
  },
  {
   "cell_type": "code",
   "execution_count": 13,
   "metadata": {},
   "outputs": [
    {
     "name": "stdout",
     "output_type": "stream",
     "text": [
      "current j = 4.1,group_ind = 2, add = Data_\n"
     ]
    }
   ],
   "source": [
    "j, group_ind, dir_data1,args = getJ(j, group_ind, dir_data1,args)#get data from external file if exists\n"
   ]
  },
  {
   "cell_type": "code",
   "execution_count": null,
   "metadata": {},
   "outputs": [],
   "source": []
  },
  {
   "cell_type": "code",
   "execution_count": 14,
   "metadata": {},
   "outputs": [
    {
     "name": "stdout",
     "output_type": "stream",
     "text": [
      "singleSample is: True\n",
      "k4.1_dict ; loaded from file\n",
      "k size: 5000\n",
      "k4.1_names_dict ; loaded from file\n",
      "title; samp4.1 CellIden+EpiCols Based , figname; samp4.1_CellIden+EpiCols_Based_, params (for db and umap);all\n"
     ]
    }
   ],
   "source": [
    "\n",
    "dir_data = os.path.abspath(os.path.join(    parent_dir, os.pardir))+f'/{dir_data1}/'\n",
    "dir_plots = os.path.abspath(os.path.join( parent_dir, os.pardir))+f'/_sample_{j}_{dir_data1}_{date}/'\n",
    "dir_index =  '/home/yishai/breast_cancer/indexes/'\n",
    "folderExists(dir_plots)\n",
    "# settings = (dir_plots, args['show'], args['saveSVG'])\n",
    "settings = {'dir_plots':dir_plots, 'show':args['show'], 'saveSVG':args['saveSVG']}\n",
    "\n",
    "singleSample = True if 'b' not in j else False\n",
    "print(f'singleSample is: {singleSample}')\n",
    "\n",
    "# ---------------------------------------\n",
    "\n",
    "k = pickle_load('k'+j+'_dict', dir_data)['k'].reset_index(drop=True)\n",
    "# CAll = pd.concat([k.copy()])\n",
    "print(f'k size: {len(k)}')\n",
    "\n",
    "\n",
    "names_dict = pickle_load('k'+j+'_names_dict', dir_data)\n",
    "# verify if needed; #remove them from the names_dict; they need to be only in cellcycle\n",
    "names_dict = names_dict if '.2a' not in j else removeFeatures(names_dict.copy(),remove_features = ['CyclinB1', 'pRB','H3S28p','DNA2'])#\n",
    "\n",
    "NamesAll = names_dict['NamesAll']\n",
    "# Core = names_dict['Core']\n",
    "\n",
    "# ---------------------------------------\n",
    "# groups = [['CellIden',              'EpiCols',              'CellIden+EpiCols', ],\n",
    "#         [names_dict['CellIden'], names_dict['EpiCols'], names_dict['CellIden']+names_dict['EpiCols'],]]#EpiCols = ['EpiCols'] +['MBD']\n",
    "groups = {'CellIden':names_dict['CellIden'],             'EpiCols':names_dict['EpiCols'] ,            'CellIden+EpiCols':names_dict['CellIden']+names_dict['EpiCols'] ,\n",
    "          'Core' : names_dict['Core']}\n",
    "\n",
    "if '.2a' in j:\n",
    "    groups['CellCycle'] = ['CyclinB1', 'pRB','H3S28p','DNA2']\n",
    "    # groups[0].append('CellCycle')\n",
    "    # groups[1].append(['CyclinB1', 'pRB','H3S28p','DNA2'])\n",
    "\n",
    "params = ['iden', 'epi', 'all','cell'][group_ind]\n",
    "name = list(groups.keys())[group_ind]\n",
    "title, featureGroup = f'samp{j} {name} Based ', groups[name]\n",
    "figname = title.replace(' ','_')\n",
    "print(f'title; {title}, figname; {figname}, params (for db and umap);{params}')\n",
    "\n",
    "\n",
    "\n"
   ]
  },
  {
   "cell_type": "code",
   "execution_count": 15,
   "metadata": {},
   "outputs": [
    {
     "data": {
      "text/plain": [
       "dict_keys(['NamesAll', 'Core', 'ToNorm', 'CellIden', 'EpiCols'])"
      ]
     },
     "execution_count": 15,
     "metadata": {},
     "output_type": "execute_result"
    }
   ],
   "source": [
    "names_dict.keys()"
   ]
  }
 ],
 "metadata": {
  "kernelspec": {
   "display_name": "torch39",
   "language": "python",
   "name": "python3"
  },
  "language_info": {
   "codemirror_mode": {
    "name": "ipython",
    "version": 3
   },
   "file_extension": ".py",
   "mimetype": "text/x-python",
   "name": "python",
   "nbconvert_exporter": "python",
   "pygments_lexer": "ipython3",
   "version": "3.9.16"
  }
 },
 "nbformat": 4,
 "nbformat_minor": 2
}
