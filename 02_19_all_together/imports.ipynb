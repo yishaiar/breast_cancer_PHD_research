{
 "cells": [
  {
   "cell_type": "code",
   "execution_count": 2,
   "metadata": {},
   "outputs": [],
   "source": [
    "\n",
    "\n",
    "import sys,pathlib, os, warnings\n",
    "from numba.core.errors import NumbaDeprecationWarning, NumbaPendingDeprecationWarning\n",
    "warnings.simplefilter('ignore', category=NumbaDeprecationWarning)\n",
    "warnings.simplefilter('ignore', category=NumbaPendingDeprecationWarning)\n",
    "# from tqdm import tqdm_notebook, tqdm\n",
    "import datetime,time\n",
    "start = time.process_time()\n",
    "date = datetime.date.today().strftime(\"%d%m%Y\")\n",
    "\n",
    "import pandas as pd\n",
    "import matplotlib.pyplot as plt\n",
    "import numpy as np\n",
    "# from IPython.display import Image, display\n",
    "# from matplotlib.pyplot import rc_context\n",
    "# from epinuc import *\n",
    "from usefull_functions import *\n",
    "from functions import *\n",
    "from plot_functions import *\n",
    "from clustering_functions import *\n",
    "from xg_shap import * \n",
    "\n",
    "plt.rcParams[\"figure.figsize\"] = (5.0, 4.0)  # Set default size of plots.\n",
    "plt.rcParams[\"image.interpolation\"] = \"nearest\"\n",
    "plt.rcParams[\"image.cmap\"] = \"gray\"\n",
    "%matplotlib inline\n",
    "\n",
    "pd.set_option('display.max_rows', 500)\n",
    "pd.set_option('display.max_columns', 500)\n",
    "pd.set_option('display.width', 180)  # according to screen width\n",
    "\n",
    "%load_ext autoreload\n",
    "%autoreload 2"
   ]
  },
  {
   "cell_type": "code",
   "execution_count": null,
   "metadata": {},
   "outputs": [],
   "source": [
    "j, group_ind, dir_data1,args = getJ(j, group_ind, dir_data1,args)#get data from external file if exists\n"
   ]
  },
  {
   "cell_type": "code",
   "execution_count": null,
   "metadata": {},
   "outputs": [],
   "source": [
    "\n",
    "dir_data = os.path.abspath(os.path.join(    parent_dir, os.pardir))+f'/{dir_data1}/'\n",
    "dir_plots = os.path.abspath(os.path.join( parent_dir, os.pardir))+f'/_sample_{j}_{dir_data1}_{date}/'\n",
    "dir_index =  '/home/yishai/breast_cancer/indexes/'\n",
    "folderExists(dir_plots)\n",
    "settings = (dir_plots, args['show'], args['saveSVG'])\n",
    "singleSample = True if 'b' not in j else False\n",
    "print(f'singleSample is: {singleSample}')\n",
    "\n",
    "# ---------------------------------------\n",
    "\n",
    "k = pickle_load('k'+j+'_dict', dir_data)['k'].reset_index(drop=True)\n",
    "# CAll = pd.concat([k.copy()])\n",
    "print(f'k size: {len(k)}')\n",
    "\n",
    "\n",
    "names_dict = pickle_load('k'+j+'_names_dict', dir_data)\n",
    "# verify if needed; #remove them from the names_dict; they need to be only in cellcycle\n",
    "names_dict = names_dict if '.2a' not in j else removeFeatures(names_dict.copy(),remove_features = ['CyclinB1', 'pRB','H3S28p','DNA2'])#\n",
    "\n",
    "NamesAll = names_dict['NamesAll']\n",
    "\n",
    "\n",
    "# ---------------------------------------\n",
    "groups = [['CellIden',              'EpiCols',              'CellIden+EpiCols', ],\n",
    "        [names_dict['CellIden'], names_dict['EpiCols'], names_dict['CellIden']+names_dict['EpiCols'],]]#EpiCols = ['EpiCols'] +['MBD']\n",
    "if '.2a' in j:\n",
    "    groups[0].append('CyclinB1')\n",
    "    groups[1].append(['CyclinB1', 'pRB','H3S28p','DNA2'])\n",
    "\n",
    "params = ['iden', 'epi', 'all','cell'][group_ind]\n",
    "name = groups[0][group_ind]\n",
    "title, featureGroup = f'samp{j} {name} Based ', groups[1][group_ind]\n",
    "figname = title.replace(' ','_')\n",
    "print(f'title; {title}, figname; {figname}, params (for db and umap);{params}')\n",
    "\n",
    "\n",
    "\n"
   ]
  }
 ],
 "metadata": {
  "kernelspec": {
   "display_name": "torch39",
   "language": "python",
   "name": "python3"
  },
  "language_info": {
   "codemirror_mode": {
    "name": "ipython",
    "version": 3
   },
   "file_extension": ".py",
   "mimetype": "text/x-python",
   "name": "python",
   "nbconvert_exporter": "python",
   "pygments_lexer": "ipython3",
   "version": "3.9.16"
  }
 },
 "nbformat": 4,
 "nbformat_minor": 2
}
