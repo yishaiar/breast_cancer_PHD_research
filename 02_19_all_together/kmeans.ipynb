{
 "cells": [
  {
   "cell_type": "code",
   "execution_count": null,
   "metadata": {},
   "outputs": [],
   "source": [
    "import numpy as np\n",
    "import matplotlib.pyplot as plt\n",
    "\n",
    "def euclidean_distance(a, b):\n",
    "    return np.sqrt(np.sum((a - b)**2))\n",
    "\n",
    "def kmeans(data, k, max_iterations=100):\n",
    "    # Randomly initialize centroids\n",
    "    np.random.seed(42)\n",
    "    centroids = data[np.random.choice(data.shape[0], k, replace=False)]\n",
    "\n",
    "    for _ in range(max_iterations):\n",
    "        # Assign data points to the closest centroid\n",
    "        labels = np.argmin(np.array([euclidean_distance(data, centroid) for centroid in centroids]), axis=0)\n",
    "\n",
    "        # Update centroids by calculating the mean of data points in each cluster\n",
    "        new_centroids = np.array([data[labels == i].mean(axis=0) for i in range(k)])\n",
    "\n",
    "        # Check for convergence\n",
    "        if np.all(centroids == new_centroids):\n",
    "            break\n",
    "\n",
    "        centroids = new_centroids\n",
    "\n",
    "    return centroids, labels\n",
    "\n"
   ]
  },
  {
   "cell_type": "code",
   "execution_count": null,
   "metadata": {},
   "outputs": [],
   "source": [
    "# Example usage:\n",
    "# if __name__ == \"__main__\":\n",
    "# Generate some sample data\n",
    "np.random.seed(42)\n",
    "num_samples = 100\n",
    "data = np.random.randn(num_samples, 2)\n",
    "data.shape\n",
    "plt.scatter(data[:, 0], data[:, 1])\n",
    "\n",
    "\n"
   ]
  },
  {
   "cell_type": "code",
   "execution_count": null,
   "metadata": {},
   "outputs": [],
   "source": [
    "# Number of clusters (k)\n",
    "k = 3\n",
    "\n",
    "# Run k-means algorithm\n",
    "centroids, labels = kmeans(data, k)\n",
    "\n",
    "# Print the centroids and labels of the data points\n",
    "print(\"Centroids:\")\n",
    "print(centroids)\n",
    "print(\"\\nLabels:\")\n",
    "print(labels)"
   ]
  },
  {
   "cell_type": "code",
   "execution_count": null,
   "metadata": {},
   "outputs": [],
   "source": [
    "# conda install -c conda-forge kneed\n",
    "\n",
    "import matplotlib.pyplot as plt\n",
    "# from kneed import KneeLocator\n",
    "from sklearn.datasets import make_blobs\n",
    "\n",
    "from sklearn.preprocessing import StandardScaler"
   ]
  },
  {
   "cell_type": "code",
   "execution_count": null,
   "metadata": {},
   "outputs": [],
   "source": [
    "features, true_labels = make_blobs(\n",
    "    n_samples=5000,\n",
    "    centers=40,\n",
    "    cluster_std=2.75,\n",
    "    random_state=42\n",
    ")\n",
    "\n",
    "\n",
    "scaler = StandardScaler()\n",
    "scaled_features = scaler.fit_transform(features)\n",
    "\n",
    "\n",
    "# plt.scatter(scaled_features[:, 0],scaled_features[:, 1],c= true_labels)\n",
    "# print(features[:5])\n",
    "# print(scaled_features[:5])"
   ]
  },
  {
   "cell_type": "code",
   "execution_count": null,
   "metadata": {},
   "outputs": [],
   "source": [
    "\n",
    "from sklearn.cluster import KMeans\n",
    "from sklearn.metrics import silhouette_score\n",
    "\n",
    "def kmeans_fit(data,n_clusters=3,n_init=10,max_iter=300):\n",
    "    kmeans = KMeans(\n",
    "        init=\"random\",\n",
    "        random_state=42,\n",
    "        n_clusters=n_clusters,\n",
    "        n_init=n_init,\n",
    "        max_iter=max_iter,\n",
    "        \n",
    "    )\n",
    "    kmeans.fit(data)\n",
    "\n",
    "    # # The lowest SSE value\n",
    "    # print(kmeans.inertia_)\n",
    "\n",
    "    # # Final locations of the centroid\n",
    "    # print(kmeans.cluster_centers_)\n",
    "\n",
    "    # # The number of iterations required to converge\n",
    "    print(f'converged after {kmeans.n_iter_} iterations')\n",
    "\n",
    "    return kmeans.labels_\n",
    "labels = kmeans_fit(data = scaled_features,n_clusters=3,n_init=10,max_iter=300)"
   ]
  },
  {
   "cell_type": "code",
   "execution_count": null,
   "metadata": {},
   "outputs": [],
   "source": [
    "# # The lowest SSE value\n",
    "# print(kmeans.inertia_)\n",
    "\n",
    "# # Final locations of the centroid\n",
    "# print(kmeans.cluster_centers_)\n",
    "\n",
    "# # The number of iterations required to converge\n",
    "# print(kmeans.n_iter_)"
   ]
  },
  {
   "cell_type": "code",
   "execution_count": null,
   "metadata": {},
   "outputs": [],
   "source": [
    "plt.figure()\n",
    "plt.scatter(scaled_features[:, 0],scaled_features[:, 1],c= true_labels)\n",
    "# kmeans.labels_[:5]\n",
    "plt.figure()\n",
    "plt.scatter(scaled_features[:, 0],scaled_features[:, 1],c= labels)\n",
    "\n"
   ]
  },
  {
   "cell_type": "code",
   "execution_count": null,
   "metadata": {},
   "outputs": [],
   "source": [
    "kmeans_kwargs = {\n",
    "    \"init\": \"random\",\n",
    "    \"n_init\": 10,\n",
    "    \"max_iter\": 300,\n",
    "    \"random_state\": 42,\n",
    "}\n",
    "\n",
    "# A list holds the SSE values for each k\n",
    "sse = []\n",
    "for k in range(1, 11):\n",
    "    kmeans = KMeans(n_clusters=k, **kmeans_kwargs)\n",
    "    kmeans.fit(scaled_features)\n",
    "    sse.append(kmeans.inertia_)"
   ]
  }
 ],
 "metadata": {
  "kernelspec": {
   "display_name": "torch39",
   "language": "python",
   "name": "python3"
  },
  "language_info": {
   "codemirror_mode": {
    "name": "ipython",
    "version": 3
   },
   "file_extension": ".py",
   "mimetype": "text/x-python",
   "name": "python",
   "nbconvert_exporter": "python",
   "pygments_lexer": "ipython3",
   "version": "3.9.16"
  },
  "orig_nbformat": 4
 },
 "nbformat": 4,
 "nbformat_minor": 2
}
