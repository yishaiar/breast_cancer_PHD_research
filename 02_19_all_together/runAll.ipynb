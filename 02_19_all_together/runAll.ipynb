{
 "cells": [
  {
   "cell_type": "code",
   "execution_count": 1,
   "metadata": {},
   "outputs": [
    {
     "name": "stderr",
     "output_type": "stream",
     "text": [
      "[NbConvertApp] WARNING | Config option `kernel_spec_manager_class` not recognized by `NbConvertApp`.\n",
      "[NbConvertApp] Converting notebook samples_all copy.ipynb to notebook\n"
     ]
    }
   ],
   "source": [
    "# import json\n",
    "# import os\n",
    "\n",
    "   \n",
    "# fname = 'j.json'\n",
    "# val ='1'\n",
    "# with open(fname, 'w') as f:\n",
    "#     json.dump(val, f)\n",
    "\n",
    "# Python program to read\n",
    "# json file\n",
    "import json\n",
    "import subprocess\n",
    "import time\n",
    "\n",
    "def run_notebook_paralel(notebook_file, add,j,group_ind,args,time_ =  30):#func= subprocess.Popen\n",
    "    \"\"\"Pass arguments to a Jupyter notebook, run it and convert to html.\"\"\"\n",
    "    time.sleep(group_ind*time_)\n",
    "    val = [j,group_ind,add,args]\n",
    "    # Create the arguments file\n",
    "    with open('j.json', 'w') as f:\n",
    "        json.dump(val, f)\n",
    "    # Run the notebook\n",
    "    p = subprocess.Popen([\n",
    "        'jupyter-nbconvert',\n",
    "        '--execute',\n",
    "        notebook_file,\n",
    "        '--to', notebook_file,\n",
    "        # '--stdout',\n",
    "        '--inplace',\n",
    "        \n",
    "        ])\n",
    "    return p\n",
    "   \n",
    "        \n",
    "\n",
    "# Run the notebook with different arguments\n",
    "\n",
    "args = {\n",
    "        # create visualization (umap, dbscan are always shown)\n",
    "        'visualize':True,'plotUMAP' : True,\n",
    "        # show figures in notebook\n",
    "        'show' : False, 'saveSVG' :False,\n",
    "        # calculate umap\n",
    "        'calc_umap' : False\n",
    "        }\n",
    "for add in ['Data']:\n",
    "    # for j in ['']:#,'b4','b234'\n",
    "        # 'b23','b123'\n",
    "    for j in ['7.3','13.3','14.3','15.3','b4',\n",
    "              '14.2',\n",
    "              '7.1','13','14','15'\n",
    "              ]:\n",
    "        pArr=[]\n",
    "        for group_ind in [0,1,2]:\n",
    "            p = run_notebook_paralel('samples_all.ipynb', add,j,group_ind,args)\n",
    "            pArr.append(p)\n",
    "            # p.communicate() #now wait plus that you can send commands to process\n",
    "        [p.communicate() for p in pArr]\n",
    "        [p.terminate() for p in pArr]\n",
    "        print(f'finished: j = {j} address: {add}')\n",
    "    \n",
    "# jupyter nbconvert --execute --to samples_all.ipynb --inplace samples_all.ipynb\n",
    "[p.terminate() for p in pArr]\n"
   ]
  },
  {
   "cell_type": "code",
   "execution_count": null,
   "metadata": {},
   "outputs": [],
   "source": [
    "[p.terminate() for p in pArr]\n"
   ]
  },
  {
   "cell_type": "code",
   "execution_count": null,
   "metadata": {},
   "outputs": [],
   "source": [
    "# import json\n",
    "# import os\n",
    "\n",
    "   \n",
    "# fname = 'j.json'\n",
    "# val ='1'\n",
    "# with open(fname, 'w') as f:\n",
    "#     json.dump(val, f)\n",
    "\n",
    "# Python program to read\n",
    "# json file\n",
    "import json\n",
    "import subprocess\n",
    "\n",
    "def run_notebook(notebook_file, output_file,j,group_ind):\n",
    "    \"\"\"Pass arguments to a Jupyter notebook, run it and convert to html.\"\"\"\n",
    "    print(f'j = {j},group_ind = {group_ind}')\n",
    "    val = [j,group_ind]\n",
    "    # Create the arguments file\n",
    "    with open('j.json', 'w') as f:\n",
    "        json.dump(val, f)\n",
    "    # Run the notebook\n",
    "    subprocess.call([\n",
    "        'jupyter-nbconvert',\n",
    "        '--execute',\n",
    "        '--to', \n",
    "        output_file,\n",
    "        '--inplace',\n",
    "        notebook_file])\n",
    "\n",
    "        \n",
    "\n",
    "# Run the notebook with different arguments\n",
    "for j in ['1','2','4','5','4.1','7','8','11','13','14','15','7.1','14.2','b4','b234']:\n",
    "# for j in ['b23']:\n",
    "    for group_ind in [0,1,2]:\n",
    "        run_notebook('samples_all.ipynb', 'samples_all.ipynb',j,group_ind)\n",
    "\n",
    "# jupyter nbconvert --execute --to samples_all.ipynb --inplace samples_all.ipynb"
   ]
  },
  {
   "cell_type": "code",
   "execution_count": null,
   "metadata": {},
   "outputs": [],
   "source": [
    "# import json\n",
    "# import os\n",
    "\n",
    "# def getJ(j,group_ind):\n",
    "#     # if thers an external program runnig script (saving a json file) - take it\n",
    "#     # otherwise take the input j\n",
    "#     fname = 'j.json'\n",
    "#     try:   \n",
    "#         with open(fname, 'r') as f: \n",
    "#             j,group_ind =  json.load(f)\n",
    "#         os.remove(fname)\n",
    "#     except:\n",
    "#         pass\n",
    "#     print(f'current j = {j},group_ind = {group_ind}')\n",
    "#     return j,group_ind  \n",
    "# # fname = 'j.json'\n",
    "# # val =['1','2']\n",
    "# # with open(fname, 'w') as f:\n",
    "# #     json.dump(val, f)\n",
    "# j,group_ind = getJ(j=2,group_ind=4)"
   ]
  }
 ],
 "metadata": {
  "kernelspec": {
   "display_name": "torch39",
   "language": "python",
   "name": "python3"
  },
  "language_info": {
   "codemirror_mode": {
    "name": "ipython",
    "version": 3
   },
   "file_extension": ".py",
   "mimetype": "text/x-python",
   "name": "python",
   "nbconvert_exporter": "python",
   "pygments_lexer": "ipython3",
   "version": "3.9.16"
  },
  "orig_nbformat": 4,
  "vscode": {
   "interpreter": {
    "hash": "25238166783bd3667da868d9e05a785eda3f5ca355f77ce9c051267fa7411fd2"
   }
  }
 },
 "nbformat": 4,
 "nbformat_minor": 2
}
