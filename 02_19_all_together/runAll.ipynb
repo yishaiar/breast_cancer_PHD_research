{
 "cells": [
  {
   "cell_type": "code",
   "execution_count": null,
   "metadata": {},
   "outputs": [],
   "source": [
    "\n",
    "\n",
    "   \n",
    "# def split(arr,size=5):\n",
    "#     arr_,arr1=[],[]\n",
    "#     for i,cell in enumerate(arr):\n",
    "#         arr_.append(cell)\n",
    "#         if i%size==4 or i==len(arr)-1:\n",
    "#             arr1.append(arr_)\n",
    "#             arr_=[]\n",
    "        \n",
    "        \n",
    "\n",
    "#     return arr1        \n",
    "# def iter_samples(samples,data='data'):               \n",
    "#     arr=[]\n",
    "#     for add in [data]:\n",
    "#         # for group_ind in [0,1,2]:\n",
    "#         for group_ind in [2]:\n",
    "#             for j in samples:\n",
    "#                 # j += 'a'\n",
    "#                 arr.append([j,group_ind,add,args])\n",
    "#     return arr\n",
    "# # Run the notebook with different arguments\n",
    "\n",
    "# args = {\n",
    "#         # create visualization (umap, dbscan are always shown)\n",
    "#         'visualize':True,'plotUMAP' : True,\n",
    "#         # show figures in notebook\n",
    "#         'show' : True, 'saveSVG' :False,\n",
    "#         # calculate umap\n",
    "#         'calc_umap' : False\n",
    "#         }\n",
    "\n",
    "# samples = [\n",
    "#             '7.1a','13a','14a','15a','17a','18a','19a','20a',\n",
    "#             '4a','4.1a','5a','7a','8a','11a',\n",
    "#             '8.1a',\n",
    "#             ]\n",
    "\n",
    "\n",
    "# for batch in split(iter_samples(samples,data = 'Data_'),size=5):\n",
    "#     pArr=[]\n",
    "#     for j,group_ind,add,args in batch:\n",
    "#         print(f'started: j = {j} ,group_ind: {group_ind}, address: {add}')\n",
    "#         p = run_notebook_paralel('samples_all.ipynb',args)\n",
    "#         pArr.append(p)\n",
    "#     # [p.communicate() for p in pArr]\n",
    "#     # [p.terminate() for p in pArr]\n",
    "#     # for ind,[j,group_ind,add,args] in enumerate(batch):\n",
    "#     #     print(f'finished: j = {j} ,group_ind: {group_ind}, address: {add}')"
   ]
  },
  {
   "cell_type": "code",
   "execution_count": 2,
   "metadata": {},
   "outputs": [],
   "source": [
    "PYDEVD_DISABLE_FILE_VALIDATION=1"
   ]
  },
  {
   "cell_type": "code",
   "execution_count": 2,
   "metadata": {},
   "outputs": [
    {
     "name": "stdout",
     "output_type": "stream",
     "text": [
      "1 - started: {'j': '7.1a', 'feautures_ind': 2, 'data_folder': 'Data_', 'show': True, 'saveSVG': False, 'recalculate_umap': False, 'recalculate_db': False, 'create_adjusted': False, 'compare': False}\n",
      "2 - started: {'j': '13a', 'feautures_ind': 2, 'data_folder': 'Data_', 'show': True, 'saveSVG': False, 'recalculate_umap': False, 'recalculate_db': False, 'create_adjusted': False, 'compare': False}\n"
     ]
    },
    {
     "name": "stderr",
     "output_type": "stream",
     "text": [
      "[NbConvertApp] Converting notebook samples_all.ipynb to notebook\n",
      "0.00s - Debugger warning: It seems that frozen modules are being used, which may\n",
      "0.00s - make the debugger miss breakpoints. Please pass -Xfrozen_modules=off\n",
      "0.00s - to python to disable frozen modules.\n",
      "0.00s - Note: Debugging will proceed. Set PYDEVD_DISABLE_FILE_VALIDATION=1 to disable this validation.\n",
      "0.00s - Debugger warning: It seems that frozen modules are being used, which may\n",
      "0.00s - make the debugger miss breakpoints. Please pass -Xfrozen_modules=off\n",
      "0.00s - to python to disable frozen modules.\n",
      "0.00s - Note: Debugging will proceed. Set PYDEVD_DISABLE_FILE_VALIDATION=1 to disable this validation.\n"
     ]
    },
    {
     "name": "stdout",
     "output_type": "stream",
     "text": [
      "--------------------\n",
      "finished: {'j': '7.1a', 'feautures_ind': 2, 'data_folder': 'Data_', 'show': True, 'saveSVG': False, 'recalculate_umap': False, 'recalculate_db': False, 'create_adjusted': False, 'compare': False}\n",
      "finished: {'j': '13a', 'feautures_ind': 2, 'data_folder': 'Data_', 'show': True, 'saveSVG': False, 'recalculate_umap': False, 'recalculate_db': False, 'create_adjusted': False, 'compare': False}\n",
      "--------------------\n",
      "3 - started: {'j': '14a', 'feautures_ind': 2, 'data_folder': 'Data_', 'show': True, 'saveSVG': False, 'recalculate_umap': False, 'recalculate_db': False, 'create_adjusted': False, 'compare': False}\n"
     ]
    },
    {
     "name": "stderr",
     "output_type": "stream",
     "text": [
      "[NbConvertApp] Converting notebook samples_all.ipynb to notebook\n",
      "0.00s - Debugger warning: It seems that frozen modules are being used, which may\n",
      "0.00s - make the debugger miss breakpoints. Please pass -Xfrozen_modules=off\n",
      "0.00s - to python to disable frozen modules.\n",
      "0.00s - Note: Debugging will proceed. Set PYDEVD_DISABLE_FILE_VALIDATION=1 to disable this validation.\n",
      "0.00s - Debugger warning: It seems that frozen modules are being used, which may\n",
      "0.00s - make the debugger miss breakpoints. Please pass -Xfrozen_modules=off\n",
      "0.00s - to python to disable frozen modules.\n",
      "0.00s - Note: Debugging will proceed. Set PYDEVD_DISABLE_FILE_VALIDATION=1 to disable this validation.\n",
      "[NbConvertApp] Writing 15606790 bytes to samples_all.ipynb\n"
     ]
    },
    {
     "name": "stdout",
     "output_type": "stream",
     "text": [
      "4 - started: {'j': '15a', 'feautures_ind': 2, 'data_folder': 'Data_', 'show': True, 'saveSVG': False, 'recalculate_umap': False, 'recalculate_db': False, 'create_adjusted': False, 'compare': False}\n"
     ]
    },
    {
     "name": "stderr",
     "output_type": "stream",
     "text": [
      "[NbConvertApp] Converting notebook samples_all.ipynb to notebook\n",
      "0.00s - Debugger warning: It seems that frozen modules are being used, which may\n",
      "0.00s - make the debugger miss breakpoints. Please pass -Xfrozen_modules=off\n",
      "0.00s - to python to disable frozen modules.\n",
      "0.00s - Note: Debugging will proceed. Set PYDEVD_DISABLE_FILE_VALIDATION=1 to disable this validation.\n",
      "0.00s - Debugger warning: It seems that frozen modules are being used, which may\n",
      "0.00s - make the debugger miss breakpoints. Please pass -Xfrozen_modules=off\n",
      "0.00s - to python to disable frozen modules.\n",
      "0.00s - Note: Debugging will proceed. Set PYDEVD_DISABLE_FILE_VALIDATION=1 to disable this validation.\n",
      "[NbConvertApp] Writing 14923844 bytes to samples_all.ipynb\n"
     ]
    },
    {
     "name": "stdout",
     "output_type": "stream",
     "text": [
      "--------------------\n",
      "finished: {'j': '14a', 'feautures_ind': 2, 'data_folder': 'Data_', 'show': True, 'saveSVG': False, 'recalculate_umap': False, 'recalculate_db': False, 'create_adjusted': False, 'compare': False}\n",
      "finished: {'j': '15a', 'feautures_ind': 2, 'data_folder': 'Data_', 'show': True, 'saveSVG': False, 'recalculate_umap': False, 'recalculate_db': False, 'create_adjusted': False, 'compare': False}\n",
      "--------------------\n",
      "5 - started: {'j': '17a', 'feautures_ind': 2, 'data_folder': 'Data_', 'show': True, 'saveSVG': False, 'recalculate_umap': False, 'recalculate_db': False, 'create_adjusted': False, 'compare': False}\n"
     ]
    },
    {
     "name": "stderr",
     "output_type": "stream",
     "text": [
      "[NbConvertApp] Converting notebook samples_all.ipynb to notebook\n",
      "0.00s - Debugger warning: It seems that frozen modules are being used, which may\n",
      "0.00s - make the debugger miss breakpoints. Please pass -Xfrozen_modules=off\n",
      "0.00s - to python to disable frozen modules.\n",
      "0.00s - Note: Debugging will proceed. Set PYDEVD_DISABLE_FILE_VALIDATION=1 to disable this validation.\n",
      "0.00s - Debugger warning: It seems that frozen modules are being used, which may\n",
      "0.00s - make the debugger miss breakpoints. Please pass -Xfrozen_modules=off\n",
      "0.00s - to python to disable frozen modules.\n",
      "0.00s - Note: Debugging will proceed. Set PYDEVD_DISABLE_FILE_VALIDATION=1 to disable this validation.\n",
      "[NbConvertApp] Writing 13550907 bytes to samples_all.ipynb\n"
     ]
    },
    {
     "name": "stdout",
     "output_type": "stream",
     "text": [
      "6 - started: {'j': '18a', 'feautures_ind': 2, 'data_folder': 'Data_', 'show': True, 'saveSVG': False, 'recalculate_umap': False, 'recalculate_db': False, 'create_adjusted': False, 'compare': False}\n"
     ]
    },
    {
     "name": "stderr",
     "output_type": "stream",
     "text": [
      "[NbConvertApp] Converting notebook samples_all.ipynb to notebook\n",
      "0.00s - Debugger warning: It seems that frozen modules are being used, which may\n",
      "0.00s - make the debugger miss breakpoints. Please pass -Xfrozen_modules=off\n",
      "0.00s - to python to disable frozen modules.\n",
      "0.00s - Note: Debugging will proceed. Set PYDEVD_DISABLE_FILE_VALIDATION=1 to disable this validation.\n",
      "0.00s - Debugger warning: It seems that frozen modules are being used, which may\n",
      "0.00s - make the debugger miss breakpoints. Please pass -Xfrozen_modules=off\n",
      "0.00s - to python to disable frozen modules.\n",
      "0.00s - Note: Debugging will proceed. Set PYDEVD_DISABLE_FILE_VALIDATION=1 to disable this validation.\n",
      "[NbConvertApp] Writing 13707311 bytes to samples_all.ipynb\n"
     ]
    },
    {
     "name": "stdout",
     "output_type": "stream",
     "text": [
      "--------------------\n",
      "finished: {'j': '17a', 'feautures_ind': 2, 'data_folder': 'Data_', 'show': True, 'saveSVG': False, 'recalculate_umap': False, 'recalculate_db': False, 'create_adjusted': False, 'compare': False}\n",
      "finished: {'j': '18a', 'feautures_ind': 2, 'data_folder': 'Data_', 'show': True, 'saveSVG': False, 'recalculate_umap': False, 'recalculate_db': False, 'create_adjusted': False, 'compare': False}\n",
      "--------------------\n",
      "7 - started: {'j': '19a', 'feautures_ind': 2, 'data_folder': 'Data_', 'show': True, 'saveSVG': False, 'recalculate_umap': False, 'recalculate_db': False, 'create_adjusted': False, 'compare': False}\n"
     ]
    },
    {
     "name": "stderr",
     "output_type": "stream",
     "text": [
      "[NbConvertApp] Converting notebook samples_all.ipynb to notebook\n",
      "0.00s - Debugger warning: It seems that frozen modules are being used, which may\n",
      "0.00s - make the debugger miss breakpoints. Please pass -Xfrozen_modules=off\n",
      "0.00s - to python to disable frozen modules.\n",
      "0.00s - Note: Debugging will proceed. Set PYDEVD_DISABLE_FILE_VALIDATION=1 to disable this validation.\n",
      "0.00s - Debugger warning: It seems that frozen modules are being used, which may\n",
      "0.00s - make the debugger miss breakpoints. Please pass -Xfrozen_modules=off\n",
      "0.00s - to python to disable frozen modules.\n",
      "0.00s - Note: Debugging will proceed. Set PYDEVD_DISABLE_FILE_VALIDATION=1 to disable this validation.\n"
     ]
    },
    {
     "name": "stdout",
     "output_type": "stream",
     "text": [
      "8 - started: {'j': '20a', 'feautures_ind': 2, 'data_folder': 'Data_', 'show': True, 'saveSVG': False, 'recalculate_umap': False, 'recalculate_db': False, 'create_adjusted': False, 'compare': False}\n"
     ]
    },
    {
     "name": "stderr",
     "output_type": "stream",
     "text": [
      "[NbConvertApp] Writing 13739513 bytes to samples_all.ipynb\n",
      "[NbConvertApp] Converting notebook samples_all.ipynb to notebook\n",
      "0.00s - Debugger warning: It seems that frozen modules are being used, which may\n",
      "0.00s - make the debugger miss breakpoints. Please pass -Xfrozen_modules=off\n",
      "0.00s - to python to disable frozen modules.\n",
      "0.00s - Note: Debugging will proceed. Set PYDEVD_DISABLE_FILE_VALIDATION=1 to disable this validation.\n",
      "0.00s - Debugger warning: It seems that frozen modules are being used, which may\n",
      "0.00s - make the debugger miss breakpoints. Please pass -Xfrozen_modules=off\n",
      "0.00s - to python to disable frozen modules.\n",
      "0.00s - Note: Debugging will proceed. Set PYDEVD_DISABLE_FILE_VALIDATION=1 to disable this validation.\n"
     ]
    },
    {
     "name": "stdout",
     "output_type": "stream",
     "text": [
      "--------------------\n",
      "finished: {'j': '19a', 'feautures_ind': 2, 'data_folder': 'Data_', 'show': True, 'saveSVG': False, 'recalculate_umap': False, 'recalculate_db': False, 'create_adjusted': False, 'compare': False}\n",
      "finished: {'j': '20a', 'feautures_ind': 2, 'data_folder': 'Data_', 'show': True, 'saveSVG': False, 'recalculate_umap': False, 'recalculate_db': False, 'create_adjusted': False, 'compare': False}\n",
      "--------------------\n",
      "9 - started: {'j': '4a', 'feautures_ind': 2, 'data_folder': 'Data_', 'show': True, 'saveSVG': False, 'recalculate_umap': False, 'recalculate_db': False, 'create_adjusted': False, 'compare': False}\n"
     ]
    },
    {
     "name": "stderr",
     "output_type": "stream",
     "text": [
      "[NbConvertApp] Converting notebook samples_all.ipynb to notebook\n",
      "0.00s - Debugger warning: It seems that frozen modules are being used, which may\n",
      "0.00s - make the debugger miss breakpoints. Please pass -Xfrozen_modules=off\n",
      "0.00s - to python to disable frozen modules.\n",
      "0.00s - Note: Debugging will proceed. Set PYDEVD_DISABLE_FILE_VALIDATION=1 to disable this validation.\n",
      "[NbConvertApp] Writing 13491137 bytes to samples_all.ipynb\n",
      "0.00s - Debugger warning: It seems that frozen modules are being used, which may\n",
      "0.00s - make the debugger miss breakpoints. Please pass -Xfrozen_modules=off\n",
      "0.00s - to python to disable frozen modules.\n",
      "0.00s - Note: Debugging will proceed. Set PYDEVD_DISABLE_FILE_VALIDATION=1 to disable this validation.\n",
      "[NbConvertApp] Writing 13197549 bytes to samples_all.ipynb\n"
     ]
    },
    {
     "name": "stdout",
     "output_type": "stream",
     "text": [
      "10 - started: {'j': '4.1a', 'feautures_ind': 2, 'data_folder': 'Data_', 'show': True, 'saveSVG': False, 'recalculate_umap': False, 'recalculate_db': False, 'create_adjusted': False, 'compare': False}\n"
     ]
    },
    {
     "name": "stderr",
     "output_type": "stream",
     "text": [
      "[NbConvertApp] Converting notebook samples_all.ipynb to notebook\n",
      "0.00s - Debugger warning: It seems that frozen modules are being used, which may\n",
      "0.00s - make the debugger miss breakpoints. Please pass -Xfrozen_modules=off\n",
      "0.00s - to python to disable frozen modules.\n",
      "0.00s - Note: Debugging will proceed. Set PYDEVD_DISABLE_FILE_VALIDATION=1 to disable this validation.\n",
      "0.00s - Debugger warning: It seems that frozen modules are being used, which may\n",
      "0.00s - make the debugger miss breakpoints. Please pass -Xfrozen_modules=off\n",
      "0.00s - to python to disable frozen modules.\n",
      "0.00s - Note: Debugging will proceed. Set PYDEVD_DISABLE_FILE_VALIDATION=1 to disable this validation.\n"
     ]
    },
    {
     "name": "stdout",
     "output_type": "stream",
     "text": [
      "--------------------\n",
      "finished: {'j': '4a', 'feautures_ind': 2, 'data_folder': 'Data_', 'show': True, 'saveSVG': False, 'recalculate_umap': False, 'recalculate_db': False, 'create_adjusted': False, 'compare': False}\n",
      "finished: {'j': '4.1a', 'feautures_ind': 2, 'data_folder': 'Data_', 'show': True, 'saveSVG': False, 'recalculate_umap': False, 'recalculate_db': False, 'create_adjusted': False, 'compare': False}\n",
      "--------------------\n",
      "11 - started: {'j': '5a', 'feautures_ind': 2, 'data_folder': 'Data_', 'show': True, 'saveSVG': False, 'recalculate_umap': False, 'recalculate_db': False, 'create_adjusted': False, 'compare': False}\n"
     ]
    },
    {
     "name": "stderr",
     "output_type": "stream",
     "text": [
      "[NbConvertApp] Writing 13049819 bytes to samples_all.ipynb\n",
      "[NbConvertApp] Converting notebook samples_all.ipynb to notebook\n",
      "0.00s - Debugger warning: It seems that frozen modules are being used, which may\n",
      "0.00s - make the debugger miss breakpoints. Please pass -Xfrozen_modules=off\n",
      "0.00s - to python to disable frozen modules.\n",
      "0.00s - Note: Debugging will proceed. Set PYDEVD_DISABLE_FILE_VALIDATION=1 to disable this validation.\n",
      "0.00s - Debugger warning: It seems that frozen modules are being used, which may\n",
      "0.00s - make the debugger miss breakpoints. Please pass -Xfrozen_modules=off\n",
      "0.00s - to python to disable frozen modules.\n",
      "0.00s - Note: Debugging will proceed. Set PYDEVD_DISABLE_FILE_VALIDATION=1 to disable this validation.\n",
      "[NbConvertApp] Writing 13842782 bytes to samples_all.ipynb\n"
     ]
    },
    {
     "name": "stdout",
     "output_type": "stream",
     "text": [
      "12 - started: {'j': '7a', 'feautures_ind': 2, 'data_folder': 'Data_', 'show': True, 'saveSVG': False, 'recalculate_umap': False, 'recalculate_db': False, 'create_adjusted': False, 'compare': False}\n"
     ]
    },
    {
     "name": "stderr",
     "output_type": "stream",
     "text": [
      "[NbConvertApp] Converting notebook samples_all.ipynb to notebook\n",
      "0.00s - Debugger warning: It seems that frozen modules are being used, which may\n",
      "0.00s - make the debugger miss breakpoints. Please pass -Xfrozen_modules=off\n",
      "0.00s - to python to disable frozen modules.\n",
      "0.00s - Note: Debugging will proceed. Set PYDEVD_DISABLE_FILE_VALIDATION=1 to disable this validation.\n",
      "0.00s - Debugger warning: It seems that frozen modules are being used, which may\n",
      "0.00s - make the debugger miss breakpoints. Please pass -Xfrozen_modules=off\n",
      "0.00s - to python to disable frozen modules.\n",
      "0.00s - Note: Debugging will proceed. Set PYDEVD_DISABLE_FILE_VALIDATION=1 to disable this validation.\n"
     ]
    },
    {
     "name": "stdout",
     "output_type": "stream",
     "text": [
      "--------------------\n",
      "finished: {'j': '5a', 'feautures_ind': 2, 'data_folder': 'Data_', 'show': True, 'saveSVG': False, 'recalculate_umap': False, 'recalculate_db': False, 'create_adjusted': False, 'compare': False}\n",
      "finished: {'j': '7a', 'feautures_ind': 2, 'data_folder': 'Data_', 'show': True, 'saveSVG': False, 'recalculate_umap': False, 'recalculate_db': False, 'create_adjusted': False, 'compare': False}\n",
      "--------------------\n",
      "13 - started: {'j': '8a', 'feautures_ind': 2, 'data_folder': 'Data_', 'show': True, 'saveSVG': False, 'recalculate_umap': False, 'recalculate_db': False, 'create_adjusted': False, 'compare': False}\n"
     ]
    },
    {
     "name": "stderr",
     "output_type": "stream",
     "text": [
      "[NbConvertApp] Writing 13465973 bytes to samples_all.ipynb\n",
      "[NbConvertApp] Converting notebook samples_all.ipynb to notebook\n",
      "0.00s - Debugger warning: It seems that frozen modules are being used, which may\n",
      "0.00s - make the debugger miss breakpoints. Please pass -Xfrozen_modules=off\n",
      "0.00s - to python to disable frozen modules.\n",
      "0.00s - Note: Debugging will proceed. Set PYDEVD_DISABLE_FILE_VALIDATION=1 to disable this validation.\n",
      "0.00s - Debugger warning: It seems that frozen modules are being used, which may\n",
      "0.00s - make the debugger miss breakpoints. Please pass -Xfrozen_modules=off\n",
      "0.00s - to python to disable frozen modules.\n",
      "0.00s - Note: Debugging will proceed. Set PYDEVD_DISABLE_FILE_VALIDATION=1 to disable this validation.\n"
     ]
    },
    {
     "name": "stdout",
     "output_type": "stream",
     "text": [
      "14 - started: {'j': '11a', 'feautures_ind': 2, 'data_folder': 'Data_', 'show': True, 'saveSVG': False, 'recalculate_umap': False, 'recalculate_db': False, 'create_adjusted': False, 'compare': False}\n"
     ]
    },
    {
     "name": "stderr",
     "output_type": "stream",
     "text": [
      "[NbConvertApp] Converting notebook samples_all.ipynb to notebook\n",
      "0.00s - Debugger warning: It seems that frozen modules are being used, which may\n",
      "0.00s - make the debugger miss breakpoints. Please pass -Xfrozen_modules=off\n",
      "0.00s - to python to disable frozen modules.\n",
      "0.00s - Note: Debugging will proceed. Set PYDEVD_DISABLE_FILE_VALIDATION=1 to disable this validation.\n",
      "0.00s - Debugger warning: It seems that frozen modules are being used, which may\n",
      "0.00s - make the debugger miss breakpoints. Please pass -Xfrozen_modules=off\n",
      "0.00s - to python to disable frozen modules.\n",
      "0.00s - Note: Debugging will proceed. Set PYDEVD_DISABLE_FILE_VALIDATION=1 to disable this validation.\n",
      "[NbConvertApp] Writing 16250752 bytes to samples_all.ipynb\n"
     ]
    },
    {
     "name": "stdout",
     "output_type": "stream",
     "text": [
      "--------------------\n",
      "finished: {'j': '8a', 'feautures_ind': 2, 'data_folder': 'Data_', 'show': True, 'saveSVG': False, 'recalculate_umap': False, 'recalculate_db': False, 'create_adjusted': False, 'compare': False}\n",
      "finished: {'j': '11a', 'feautures_ind': 2, 'data_folder': 'Data_', 'show': True, 'saveSVG': False, 'recalculate_umap': False, 'recalculate_db': False, 'create_adjusted': False, 'compare': False}\n",
      "--------------------\n",
      "15 - started: {'j': '8.1a', 'feautures_ind': 2, 'data_folder': 'Data_', 'show': True, 'saveSVG': False, 'recalculate_umap': False, 'recalculate_db': False, 'create_adjusted': False, 'compare': False}\n"
     ]
    },
    {
     "name": "stderr",
     "output_type": "stream",
     "text": [
      "[NbConvertApp] Converting notebook samples_all.ipynb to notebook\n",
      "0.00s - Debugger warning: It seems that frozen modules are being used, which may\n",
      "0.00s - make the debugger miss breakpoints. Please pass -Xfrozen_modules=off\n",
      "0.00s - to python to disable frozen modules.\n",
      "0.00s - Note: Debugging will proceed. Set PYDEVD_DISABLE_FILE_VALIDATION=1 to disable this validation.\n",
      "0.00s - Debugger warning: It seems that frozen modules are being used, which may\n",
      "0.00s - make the debugger miss breakpoints. Please pass -Xfrozen_modules=off\n",
      "0.00s - to python to disable frozen modules.\n",
      "0.00s - Note: Debugging will proceed. Set PYDEVD_DISABLE_FILE_VALIDATION=1 to disable this validation.\n",
      "[NbConvertApp] Writing 13358993 bytes to samples_all.ipynb\n"
     ]
    },
    {
     "name": "stdout",
     "output_type": "stream",
     "text": [
      "16 - started: {'j': 'b2345a', 'feautures_ind': 2, 'data_folder': 'Data_', 'show': True, 'saveSVG': False, 'recalculate_umap': False, 'recalculate_db': False, 'create_adjusted': False, 'compare': False}\n"
     ]
    },
    {
     "name": "stderr",
     "output_type": "stream",
     "text": [
      "[NbConvertApp] Writing 13485693 bytes to samples_all.ipynb\n",
      "[NbConvertApp] Converting notebook samples_all.ipynb to notebook\n",
      "0.00s - Debugger warning: It seems that frozen modules are being used, which may\n",
      "0.00s - make the debugger miss breakpoints. Please pass -Xfrozen_modules=off\n",
      "0.00s - to python to disable frozen modules.\n",
      "0.00s - Note: Debugging will proceed. Set PYDEVD_DISABLE_FILE_VALIDATION=1 to disable this validation.\n",
      "0.00s - Debugger warning: It seems that frozen modules are being used, which may\n",
      "0.00s - make the debugger miss breakpoints. Please pass -Xfrozen_modules=off\n",
      "0.00s - to python to disable frozen modules.\n",
      "0.00s - Note: Debugging will proceed. Set PYDEVD_DISABLE_FILE_VALIDATION=1 to disable this validation.\n"
     ]
    },
    {
     "name": "stdout",
     "output_type": "stream",
     "text": [
      "--------------------\n",
      "finished: {'j': '8.1a', 'feautures_ind': 2, 'data_folder': 'Data_', 'show': True, 'saveSVG': False, 'recalculate_umap': False, 'recalculate_db': False, 'create_adjusted': False, 'compare': False}\n",
      "finished: {'j': 'b2345a', 'feautures_ind': 2, 'data_folder': 'Data_', 'show': True, 'saveSVG': False, 'recalculate_umap': False, 'recalculate_db': False, 'create_adjusted': False, 'compare': False}\n",
      "--------------------\n"
     ]
    },
    {
     "name": "stderr",
     "output_type": "stream",
     "text": [
      "[NbConvertApp] Converting notebook samples_all.ipynb to notebook\n",
      "0.00s - Debugger warning: It seems that frozen modules are being used, which may\n",
      "0.00s - make the debugger miss breakpoints. Please pass -Xfrozen_modules=off\n",
      "0.00s - to python to disable frozen modules.\n",
      "0.00s - Note: Debugging will proceed. Set PYDEVD_DISABLE_FILE_VALIDATION=1 to disable this validation.\n",
      "[NbConvertApp] Writing 14512275 bytes to samples_all.ipynb\n",
      "0.00s - Debugger warning: It seems that frozen modules are being used, which may\n",
      "0.00s - make the debugger miss breakpoints. Please pass -Xfrozen_modules=off\n",
      "0.00s - to python to disable frozen modules.\n",
      "0.00s - Note: Debugging will proceed. Set PYDEVD_DISABLE_FILE_VALIDATION=1 to disable this validation.\n",
      "[NbConvertApp] Writing 15505159 bytes to samples_all.ipynb\n",
      "[NbConvertApp] Writing 24144444 bytes to samples_all.ipynb\n"
     ]
    }
   ],
   "source": [
    "# General settings\n",
    "base_settings =  {\n",
    "       \n",
    "\n",
    "        # create visualization (umap, dbscan are always shown)\n",
    "        # 'visualize':True,'plotUMAP' : True,\n",
    "        \n",
    "        # show figures in notebook\n",
    "        'show' : True, 'saveSVG' :False,\n",
    "        'recalculate_umap' : False,# calculate umap\n",
    "        'recalculate_db' : False,# calculate dbscan\n",
    "        'create_adjusted' : False,\n",
    "        'compare' : False,# compare 11,stroma and rest of the cells\n",
    "             \n",
    "        }\n",
    "        \n",
    "# Grid search\n",
    "grid = {\n",
    "    'j' : [\n",
    "            '7.1a','13a','14a','15a','17a','18a','19a','20a',\n",
    "            '4a','4.1a','5a','7a','8a','11a',\n",
    "            '8.1a','b2345a'\n",
    "            ],\n",
    "    'feautures_ind':[2,],\n",
    "    'data_folder' : ['Data_'],\n",
    "\n",
    "}\n",
    "import itertools\n",
    "import json\n",
    "import subprocess\n",
    "import time\n",
    "\n",
    "def run_notebook_paralel(notebook_file,args,time_ =  30):#func= subprocess.Popen\n",
    "    \"\"\"Pass arguments to a Jupyter notebook, run it and convert to html.\"\"\"\n",
    "    time.sleep(time_)\n",
    "    \n",
    "    # Create the arguments file\n",
    "    with open('args.json', 'w') as f:\n",
    "        json.dump(args, f)\n",
    "    # Run the notebook\n",
    "    p = subprocess.Popen([\n",
    "        'jupyter-nbconvert',\n",
    "        '--execute',\n",
    "        notebook_file,\n",
    "        '--to', notebook_file,\n",
    "        # '--stdout',\n",
    "        '--inplace',\n",
    "        \n",
    "        ])\n",
    "    return p\n",
    "    # return None\n",
    "def grid_search(grid={},base_settings={}):\n",
    "    arr =[]\n",
    "    # Loop over al grid search combinations\n",
    "    for values in itertools.product(*grid.values()):\n",
    "        point = dict(zip(grid.keys(), values))\n",
    "        # merge the general args\n",
    "        args = {**point,**base_settings}\n",
    "        arr.append(args)\n",
    "        # print(args)\n",
    "    return arr\n",
    "\n",
    "args_list = grid_search(grid ,base_settings)\n",
    "pArr=[];arr=[]\n",
    "# print(len(args_list))\n",
    "for i, args in enumerate(args_list,1):\n",
    "    print(f'{i} - started: {args}')\n",
    "    p = run_notebook_paralel('samples_all.ipynb',args)\n",
    "    pArr.append(p)\n",
    "    arr.append(args)\n",
    "    if i%2 != 0 and i < len(args_list) :\n",
    "        pass\n",
    "\n",
    "        \n",
    "    else:\n",
    "        # [p.communicate() for p in pArr]\n",
    "        # [p.terminate() for p in pArr][\\]\n",
    "        print('-'*20)\n",
    "        for ind,args in enumerate(arr):\n",
    "            print(f'finished: {args}')\n",
    "        print('-'*20)\n",
    "        pArr=[];arr=[]\n",
    "        # break\n",
    "\n",
    "\n"
   ]
  },
  {
   "cell_type": "code",
   "execution_count": 3,
   "metadata": {},
   "outputs": [
    {
     "data": {
      "text/plain": [
       "[None, None, None, None]"
      ]
     },
     "execution_count": 3,
     "metadata": {},
     "output_type": "execute_result"
    }
   ],
   "source": [
    "[p.terminate() for p in pArr]\n",
    "\n",
    "\n",
    "\n",
    "\n",
    "\n",
    "\n",
    "\n"
   ]
  }
 ],
 "metadata": {
  "kernelspec": {
   "display_name": "torch39",
   "language": "python",
   "name": "python3"
  },
  "language_info": {
   "codemirror_mode": {
    "name": "ipython",
    "version": 3
   },
   "file_extension": ".py",
   "mimetype": "text/x-python",
   "name": "python",
   "nbconvert_exporter": "python",
   "pygments_lexer": "ipython3",
   "version": "3.11.6"
  },
  "orig_nbformat": 4,
  "vscode": {
   "interpreter": {
    "hash": "25238166783bd3667da868d9e05a785eda3f5ca355f77ce9c051267fa7411fd2"
   }
  }
 },
 "nbformat": 4,
 "nbformat_minor": 2
}
