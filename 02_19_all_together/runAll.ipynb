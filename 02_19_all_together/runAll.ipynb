{
 "cells": [
  {
   "cell_type": "code",
   "execution_count": 5,
   "metadata": {},
   "outputs": [
    {
     "name": "stdout",
     "output_type": "stream",
     "text": [
      "started: j = 7.1a ,group_ind: 2, address: Data_\n",
      "started: j = 13a ,group_ind: 2, address: Data_\n"
     ]
    },
    {
     "name": "stderr",
     "output_type": "stream",
     "text": [
      "[NbConvertApp] WARNING | Config option `kernel_spec_manager_class` not recognized by `NbConvertApp`.\n",
      "[NbConvertApp] Converting notebook samples_all.ipynb to notebook\n"
     ]
    },
    {
     "name": "stdout",
     "output_type": "stream",
     "text": [
      "started: j = 14a ,group_ind: 2, address: Data_\n"
     ]
    },
    {
     "name": "stderr",
     "output_type": "stream",
     "text": [
      "[NbConvertApp] WARNING | Config option `kernel_spec_manager_class` not recognized by `NbConvertApp`.\n",
      "[NbConvertApp] Converting notebook samples_all.ipynb to notebook\n",
      "[NbConvertApp] Writing 15130518 bytes to samples_all.ipynb\n"
     ]
    },
    {
     "name": "stdout",
     "output_type": "stream",
     "text": [
      "started: j = 15a ,group_ind: 2, address: Data_\n"
     ]
    },
    {
     "name": "stderr",
     "output_type": "stream",
     "text": [
      "[NbConvertApp] WARNING | Config option `kernel_spec_manager_class` not recognized by `NbConvertApp`.\n",
      "[NbConvertApp] Converting notebook samples_all.ipynb to notebook\n",
      "[NbConvertApp] Writing 14578125 bytes to samples_all.ipynb\n"
     ]
    },
    {
     "name": "stdout",
     "output_type": "stream",
     "text": [
      "started: j = 17a ,group_ind: 2, address: Data_\n"
     ]
    },
    {
     "name": "stderr",
     "output_type": "stream",
     "text": [
      "[NbConvertApp] WARNING | Config option `kernel_spec_manager_class` not recognized by `NbConvertApp`.\n",
      "[NbConvertApp] Converting notebook samples_all.ipynb to notebook\n",
      "[NbConvertApp] Writing 12571345 bytes to samples_all.ipynb\n",
      "[NbConvertApp] WARNING | Config option `kernel_spec_manager_class` not recognized by `NbConvertApp`.\n",
      "[NbConvertApp] Converting notebook samples_all.ipynb to notebook\n",
      "[NbConvertApp] Writing 13274069 bytes to samples_all.ipynb\n",
      "[NbConvertApp] Writing 12837021 bytes to samples_all.ipynb\n"
     ]
    },
    {
     "name": "stdout",
     "output_type": "stream",
     "text": [
      "finished: j = 7.1a ,group_ind: 2, address: Data_\n",
      "finished: j = 13a ,group_ind: 2, address: Data_\n",
      "finished: j = 14a ,group_ind: 2, address: Data_\n",
      "finished: j = 15a ,group_ind: 2, address: Data_\n",
      "finished: j = 17a ,group_ind: 2, address: Data_\n",
      "started: j = 18a ,group_ind: 2, address: Data_\n",
      "started: j = 19a ,group_ind: 2, address: Data_\n"
     ]
    },
    {
     "name": "stderr",
     "output_type": "stream",
     "text": [
      "[NbConvertApp] WARNING | Config option `kernel_spec_manager_class` not recognized by `NbConvertApp`.\n",
      "[NbConvertApp] Converting notebook samples_all.ipynb to notebook\n"
     ]
    },
    {
     "name": "stdout",
     "output_type": "stream",
     "text": [
      "started: j = 20a ,group_ind: 2, address: Data_\n"
     ]
    },
    {
     "name": "stderr",
     "output_type": "stream",
     "text": [
      "[NbConvertApp] WARNING | Config option `kernel_spec_manager_class` not recognized by `NbConvertApp`.\n",
      "[NbConvertApp] Converting notebook samples_all.ipynb to notebook\n",
      "[NbConvertApp] Writing 12688269 bytes to samples_all.ipynb\n"
     ]
    },
    {
     "name": "stdout",
     "output_type": "stream",
     "text": [
      "started: j = 4a ,group_ind: 2, address: Data_\n"
     ]
    },
    {
     "name": "stderr",
     "output_type": "stream",
     "text": [
      "[NbConvertApp] WARNING | Config option `kernel_spec_manager_class` not recognized by `NbConvertApp`.\n",
      "[NbConvertApp] Converting notebook samples_all.ipynb to notebook\n",
      "[NbConvertApp] Writing 12140653 bytes to samples_all.ipynb\n"
     ]
    },
    {
     "name": "stdout",
     "output_type": "stream",
     "text": [
      "started: j = 4.1a ,group_ind: 2, address: Data_\n"
     ]
    },
    {
     "name": "stderr",
     "output_type": "stream",
     "text": [
      "[NbConvertApp] WARNING | Config option `kernel_spec_manager_class` not recognized by `NbConvertApp`.\n",
      "[NbConvertApp] Converting notebook samples_all.ipynb to notebook\n",
      "[NbConvertApp] Writing 12007649 bytes to samples_all.ipynb\n",
      "[NbConvertApp] WARNING | Config option `kernel_spec_manager_class` not recognized by `NbConvertApp`.\n",
      "[NbConvertApp] Converting notebook samples_all.ipynb to notebook\n",
      "[NbConvertApp] Writing 13137076 bytes to samples_all.ipynb\n",
      "[NbConvertApp] Writing 12635514 bytes to samples_all.ipynb\n"
     ]
    },
    {
     "name": "stdout",
     "output_type": "stream",
     "text": [
      "finished: j = 18a ,group_ind: 2, address: Data_\n",
      "finished: j = 19a ,group_ind: 2, address: Data_\n",
      "finished: j = 20a ,group_ind: 2, address: Data_\n",
      "finished: j = 4a ,group_ind: 2, address: Data_\n",
      "finished: j = 4.1a ,group_ind: 2, address: Data_\n",
      "started: j = 5a ,group_ind: 2, address: Data_\n",
      "started: j = 7a ,group_ind: 2, address: Data_\n"
     ]
    },
    {
     "name": "stderr",
     "output_type": "stream",
     "text": [
      "[NbConvertApp] WARNING | Config option `kernel_spec_manager_class` not recognized by `NbConvertApp`.\n",
      "[NbConvertApp] Converting notebook samples_all.ipynb to notebook\n"
     ]
    },
    {
     "name": "stdout",
     "output_type": "stream",
     "text": [
      "started: j = 8a ,group_ind: 2, address: Data_\n"
     ]
    },
    {
     "name": "stderr",
     "output_type": "stream",
     "text": [
      "[NbConvertApp] WARNING | Config option `kernel_spec_manager_class` not recognized by `NbConvertApp`.\n",
      "[NbConvertApp] Converting notebook samples_all.ipynb to notebook\n",
      "[NbConvertApp] Writing 15379404 bytes to samples_all.ipynb\n"
     ]
    },
    {
     "name": "stdout",
     "output_type": "stream",
     "text": [
      "started: j = 11a ,group_ind: 2, address: Data_\n"
     ]
    },
    {
     "name": "stderr",
     "output_type": "stream",
     "text": [
      "[NbConvertApp] WARNING | Config option `kernel_spec_manager_class` not recognized by `NbConvertApp`.\n",
      "[NbConvertApp] Converting notebook samples_all.ipynb to notebook\n",
      "[NbConvertApp] Writing 12243948 bytes to samples_all.ipynb\n"
     ]
    },
    {
     "name": "stdout",
     "output_type": "stream",
     "text": [
      "started: j = 8.1a ,group_ind: 2, address: Data_\n"
     ]
    },
    {
     "name": "stderr",
     "output_type": "stream",
     "text": [
      "[NbConvertApp] WARNING | Config option `kernel_spec_manager_class` not recognized by `NbConvertApp`.\n",
      "[NbConvertApp] Converting notebook samples_all.ipynb to notebook\n",
      "[NbConvertApp] Writing 11816904 bytes to samples_all.ipynb\n",
      "[NbConvertApp] WARNING | Config option `kernel_spec_manager_class` not recognized by `NbConvertApp`.\n",
      "[NbConvertApp] Converting notebook samples_all.ipynb to notebook\n",
      "[NbConvertApp] Writing 13451557 bytes to samples_all.ipynb\n"
     ]
    },
    {
     "name": "stdout",
     "output_type": "stream",
     "text": [
      "finished: j = 5a ,group_ind: 2, address: Data_\n",
      "finished: j = 7a ,group_ind: 2, address: Data_\n",
      "finished: j = 8a ,group_ind: 2, address: Data_\n",
      "finished: j = 11a ,group_ind: 2, address: Data_\n",
      "finished: j = 8.1a ,group_ind: 2, address: Data_\n"
     ]
    },
    {
     "name": "stderr",
     "output_type": "stream",
     "text": [
      "[NbConvertApp] Writing 15338582 bytes to samples_all.ipynb\n"
     ]
    }
   ],
   "source": [
    "\n",
    "import json\n",
    "import subprocess\n",
    "import time\n",
    "\n",
    "def run_notebook_paralel(notebook_file, add,j,group_ind,args,time_ =  30):#func= subprocess.Popen\n",
    "    \"\"\"Pass arguments to a Jupyter notebook, run it and convert to html.\"\"\"\n",
    "    time.sleep(time_)\n",
    "    val = [j,group_ind,add,args]\n",
    "    # Create the arguments file\n",
    "    with open('j.json', 'w') as f:\n",
    "        json.dump(val, f)\n",
    "    # Run the notebook\n",
    "    p = subprocess.Popen([\n",
    "        'jupyter-nbconvert',\n",
    "        '--execute',\n",
    "        notebook_file,\n",
    "        '--to', notebook_file,\n",
    "        # '--stdout',\n",
    "        '--inplace',\n",
    "        \n",
    "        ])\n",
    "    return p\n",
    "   \n",
    "def split(arr,size=5):\n",
    "    arr_,arr1=[],[]\n",
    "    for i,cell in enumerate(arr):\n",
    "        arr_.append(cell)\n",
    "        if i%size==4 or i==len(arr)-1:\n",
    "            arr1.append(arr_)\n",
    "            arr_=[]\n",
    "        \n",
    "        \n",
    "\n",
    "    return arr1        \n",
    "def iter_samples(samples,data='data'):               \n",
    "    arr=[]\n",
    "    for add in [data]:\n",
    "        # for group_ind in [0,1,2]:\n",
    "        for group_ind in [2]:\n",
    "            for j in samples:\n",
    "                # j += 'a'\n",
    "                arr.append([j,group_ind,add,args])\n",
    "    return arr\n",
    "# Run the notebook with different arguments\n",
    "\n",
    "args = {\n",
    "        # create visualization (umap, dbscan are always shown)\n",
    "        'visualize':True,'plotUMAP' : True,\n",
    "        # show figures in notebook\n",
    "        'show' : True, 'saveSVG' :False,\n",
    "        # calculate umap\n",
    "        'calc_umap' : False\n",
    "        }\n",
    "\n",
    "samples = [\n",
    "            '7.1a','13a','14a','15a','17a','18a','19a','20a',\n",
    "            '4a','4.1a','5a','7a','8a','11a',\n",
    "            '8.1a',\n",
    "\n",
    "            \n",
    "            ]\n",
    "\n",
    "\n",
    "for batch in split(iter_samples(samples,data = 'Data_'),size=5):\n",
    "    pArr=[]\n",
    "    for j,group_ind,add,args in batch:\n",
    "        print(f'started: j = {j} ,group_ind: {group_ind}, address: {add}')\n",
    "        p = run_notebook_paralel('samples_all.ipynb', add,j,group_ind,args)\n",
    "        pArr.append(p)\n",
    "    [p.communicate() for p in pArr]\n",
    "    [p.terminate() for p in pArr]\n",
    "    for ind,[j,group_ind,add,args] in enumerate(batch):\n",
    "        print(f'finished: j = {j} ,group_ind: {group_ind}, address: {add}')"
   ]
  },
  {
   "cell_type": "code",
   "execution_count": null,
   "metadata": {},
   "outputs": [],
   "source": []
  },
  {
   "cell_type": "code",
   "execution_count": 6,
   "metadata": {},
   "outputs": [
    {
     "data": {
      "text/plain": [
       "[None, None, None, None, None]"
      ]
     },
     "execution_count": 6,
     "metadata": {},
     "output_type": "execute_result"
    }
   ],
   "source": [
    "[p.terminate() for p in pArr]\n"
   ]
  }
 ],
 "metadata": {
  "kernelspec": {
   "display_name": "torch39",
   "language": "python",
   "name": "python3"
  },
  "language_info": {
   "codemirror_mode": {
    "name": "ipython",
    "version": 3
   },
   "file_extension": ".py",
   "mimetype": "text/x-python",
   "name": "python",
   "nbconvert_exporter": "python",
   "pygments_lexer": "ipython3",
   "version": "3.9.16"
  },
  "orig_nbformat": 4,
  "vscode": {
   "interpreter": {
    "hash": "25238166783bd3667da868d9e05a785eda3f5ca355f77ce9c051267fa7411fd2"
   }
  }
 },
 "nbformat": 4,
 "nbformat_minor": 2
}
