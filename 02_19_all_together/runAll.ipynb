{
 "cells": [
  {
   "cell_type": "code",
   "execution_count": 1,
   "metadata": {},
   "outputs": [
    {
     "name": "stdout",
     "output_type": "stream",
     "text": [
      "j = 1,group_ind = 0\n"
     ]
    },
    {
     "name": "stderr",
     "output_type": "stream",
     "text": [
      "[NbConvertApp] WARNING | Config option `kernel_spec_manager_class` not recognized by `NbConvertApp`.\n",
      "[NbConvertApp] Converting notebook samples_all.ipynb to notebook\n",
      "[NbConvertApp] Writing 42325 bytes to samples_all.ipynb\n"
     ]
    },
    {
     "name": "stdout",
     "output_type": "stream",
     "text": [
      "j = 1,group_ind = 1\n"
     ]
    },
    {
     "name": "stderr",
     "output_type": "stream",
     "text": [
      "[NbConvertApp] WARNING | Config option `kernel_spec_manager_class` not recognized by `NbConvertApp`.\n",
      "[NbConvertApp] Converting notebook samples_all.ipynb to notebook\n",
      "[NbConvertApp] Writing 42283 bytes to samples_all.ipynb\n"
     ]
    },
    {
     "name": "stdout",
     "output_type": "stream",
     "text": [
      "j = 1,group_ind = 2\n"
     ]
    },
    {
     "name": "stderr",
     "output_type": "stream",
     "text": [
      "[NbConvertApp] WARNING | Config option `kernel_spec_manager_class` not recognized by `NbConvertApp`.\n",
      "[NbConvertApp] Converting notebook samples_all.ipynb to notebook\n",
      "[NbConvertApp] Writing 42309 bytes to samples_all.ipynb\n"
     ]
    },
    {
     "name": "stdout",
     "output_type": "stream",
     "text": [
      "j = 2,group_ind = 0\n"
     ]
    },
    {
     "name": "stderr",
     "output_type": "stream",
     "text": [
      "[NbConvertApp] WARNING | Config option `kernel_spec_manager_class` not recognized by `NbConvertApp`.\n",
      "[NbConvertApp] Converting notebook samples_all.ipynb to notebook\n",
      "[NbConvertApp] Writing 42594 bytes to samples_all.ipynb\n"
     ]
    },
    {
     "name": "stdout",
     "output_type": "stream",
     "text": [
      "j = 2,group_ind = 1\n"
     ]
    },
    {
     "name": "stderr",
     "output_type": "stream",
     "text": [
      "[NbConvertApp] WARNING | Config option `kernel_spec_manager_class` not recognized by `NbConvertApp`.\n",
      "[NbConvertApp] Converting notebook samples_all.ipynb to notebook\n",
      "[NbConvertApp] Writing 42550 bytes to samples_all.ipynb\n"
     ]
    },
    {
     "name": "stdout",
     "output_type": "stream",
     "text": [
      "j = 2,group_ind = 2\n"
     ]
    },
    {
     "name": "stderr",
     "output_type": "stream",
     "text": [
      "[NbConvertApp] WARNING | Config option `kernel_spec_manager_class` not recognized by `NbConvertApp`.\n",
      "[NbConvertApp] Converting notebook samples_all.ipynb to notebook\n",
      "[NbConvertApp] Writing 42643 bytes to samples_all.ipynb\n"
     ]
    },
    {
     "name": "stdout",
     "output_type": "stream",
     "text": [
      "j = 4,group_ind = 0\n"
     ]
    },
    {
     "name": "stderr",
     "output_type": "stream",
     "text": [
      "[NbConvertApp] WARNING | Config option `kernel_spec_manager_class` not recognized by `NbConvertApp`.\n",
      "[NbConvertApp] Converting notebook samples_all.ipynb to notebook\n",
      "[NbConvertApp] Writing 42309 bytes to samples_all.ipynb\n"
     ]
    },
    {
     "name": "stdout",
     "output_type": "stream",
     "text": [
      "j = 4,group_ind = 1\n"
     ]
    },
    {
     "name": "stderr",
     "output_type": "stream",
     "text": [
      "[NbConvertApp] WARNING | Config option `kernel_spec_manager_class` not recognized by `NbConvertApp`.\n",
      "[NbConvertApp] Converting notebook samples_all.ipynb to notebook\n",
      "[NbConvertApp] Writing 42263 bytes to samples_all.ipynb\n"
     ]
    },
    {
     "name": "stdout",
     "output_type": "stream",
     "text": [
      "j = 4,group_ind = 2\n"
     ]
    },
    {
     "name": "stderr",
     "output_type": "stream",
     "text": [
      "[NbConvertApp] WARNING | Config option `kernel_spec_manager_class` not recognized by `NbConvertApp`.\n",
      "[NbConvertApp] Converting notebook samples_all.ipynb to notebook\n",
      "[NbConvertApp] Writing 42361 bytes to samples_all.ipynb\n"
     ]
    },
    {
     "name": "stdout",
     "output_type": "stream",
     "text": [
      "j = 5,group_ind = 0\n"
     ]
    },
    {
     "name": "stderr",
     "output_type": "stream",
     "text": [
      "[NbConvertApp] WARNING | Config option `kernel_spec_manager_class` not recognized by `NbConvertApp`.\n",
      "[NbConvertApp] Converting notebook samples_all.ipynb to notebook\n",
      "[NbConvertApp] Writing 42352 bytes to samples_all.ipynb\n"
     ]
    },
    {
     "name": "stdout",
     "output_type": "stream",
     "text": [
      "j = 5,group_ind = 1\n"
     ]
    },
    {
     "name": "stderr",
     "output_type": "stream",
     "text": [
      "[NbConvertApp] WARNING | Config option `kernel_spec_manager_class` not recognized by `NbConvertApp`.\n",
      "[NbConvertApp] Converting notebook samples_all.ipynb to notebook\n",
      "[NbConvertApp] Writing 42265 bytes to samples_all.ipynb\n"
     ]
    },
    {
     "name": "stdout",
     "output_type": "stream",
     "text": [
      "j = 5,group_ind = 2\n"
     ]
    },
    {
     "name": "stderr",
     "output_type": "stream",
     "text": [
      "[NbConvertApp] WARNING | Config option `kernel_spec_manager_class` not recognized by `NbConvertApp`.\n",
      "[NbConvertApp] Converting notebook samples_all.ipynb to notebook\n",
      "[NbConvertApp] Writing 42337 bytes to samples_all.ipynb\n"
     ]
    },
    {
     "name": "stdout",
     "output_type": "stream",
     "text": [
      "j = 4.1,group_ind = 0\n"
     ]
    },
    {
     "name": "stderr",
     "output_type": "stream",
     "text": [
      "[NbConvertApp] WARNING | Config option `kernel_spec_manager_class` not recognized by `NbConvertApp`.\n",
      "[NbConvertApp] Converting notebook samples_all.ipynb to notebook\n",
      "[NbConvertApp] Writing 42364 bytes to samples_all.ipynb\n"
     ]
    },
    {
     "name": "stdout",
     "output_type": "stream",
     "text": [
      "j = 4.1,group_ind = 1\n"
     ]
    },
    {
     "name": "stderr",
     "output_type": "stream",
     "text": [
      "[NbConvertApp] WARNING | Config option `kernel_spec_manager_class` not recognized by `NbConvertApp`.\n",
      "[NbConvertApp] Converting notebook samples_all.ipynb to notebook\n",
      "[NbConvertApp] Writing 42343 bytes to samples_all.ipynb\n"
     ]
    },
    {
     "name": "stdout",
     "output_type": "stream",
     "text": [
      "j = 4.1,group_ind = 2\n"
     ]
    },
    {
     "name": "stderr",
     "output_type": "stream",
     "text": [
      "[NbConvertApp] WARNING | Config option `kernel_spec_manager_class` not recognized by `NbConvertApp`.\n",
      "[NbConvertApp] Converting notebook samples_all.ipynb to notebook\n",
      "[NbConvertApp] Writing 42370 bytes to samples_all.ipynb\n"
     ]
    },
    {
     "name": "stdout",
     "output_type": "stream",
     "text": [
      "j = 7,group_ind = 0\n"
     ]
    },
    {
     "name": "stderr",
     "output_type": "stream",
     "text": [
      "[NbConvertApp] WARNING | Config option `kernel_spec_manager_class` not recognized by `NbConvertApp`.\n",
      "[NbConvertApp] Converting notebook samples_all.ipynb to notebook\n",
      "[NbConvertApp] Writing 42354 bytes to samples_all.ipynb\n"
     ]
    },
    {
     "name": "stdout",
     "output_type": "stream",
     "text": [
      "j = 7,group_ind = 1\n"
     ]
    },
    {
     "name": "stderr",
     "output_type": "stream",
     "text": [
      "[NbConvertApp] WARNING | Config option `kernel_spec_manager_class` not recognized by `NbConvertApp`.\n",
      "[NbConvertApp] Converting notebook samples_all.ipynb to notebook\n",
      "[NbConvertApp] Writing 42335 bytes to samples_all.ipynb\n"
     ]
    },
    {
     "name": "stdout",
     "output_type": "stream",
     "text": [
      "j = 7,group_ind = 2\n"
     ]
    },
    {
     "name": "stderr",
     "output_type": "stream",
     "text": [
      "[NbConvertApp] WARNING | Config option `kernel_spec_manager_class` not recognized by `NbConvertApp`.\n",
      "[NbConvertApp] Converting notebook samples_all.ipynb to notebook\n",
      "[NbConvertApp] Writing 42360 bytes to samples_all.ipynb\n"
     ]
    },
    {
     "name": "stdout",
     "output_type": "stream",
     "text": [
      "j = 8,group_ind = 0\n"
     ]
    },
    {
     "name": "stderr",
     "output_type": "stream",
     "text": [
      "[NbConvertApp] WARNING | Config option `kernel_spec_manager_class` not recognized by `NbConvertApp`.\n",
      "[NbConvertApp] Converting notebook samples_all.ipynb to notebook\n",
      "[NbConvertApp] Writing 42356 bytes to samples_all.ipynb\n"
     ]
    },
    {
     "name": "stdout",
     "output_type": "stream",
     "text": [
      "j = 8,group_ind = 1\n"
     ]
    },
    {
     "name": "stderr",
     "output_type": "stream",
     "text": [
      "[NbConvertApp] WARNING | Config option `kernel_spec_manager_class` not recognized by `NbConvertApp`.\n",
      "[NbConvertApp] Converting notebook samples_all.ipynb to notebook\n",
      "[NbConvertApp] Writing 42333 bytes to samples_all.ipynb\n"
     ]
    },
    {
     "name": "stdout",
     "output_type": "stream",
     "text": [
      "j = 8,group_ind = 2\n"
     ]
    },
    {
     "name": "stderr",
     "output_type": "stream",
     "text": [
      "[NbConvertApp] WARNING | Config option `kernel_spec_manager_class` not recognized by `NbConvertApp`.\n",
      "[NbConvertApp] Converting notebook samples_all.ipynb to notebook\n",
      "[NbConvertApp] Writing 42360 bytes to samples_all.ipynb\n"
     ]
    },
    {
     "name": "stdout",
     "output_type": "stream",
     "text": [
      "j = 11,group_ind = 0\n"
     ]
    },
    {
     "name": "stderr",
     "output_type": "stream",
     "text": [
      "[NbConvertApp] WARNING | Config option `kernel_spec_manager_class` not recognized by `NbConvertApp`.\n",
      "[NbConvertApp] Converting notebook samples_all.ipynb to notebook\n",
      "[NbConvertApp] Writing 42359 bytes to samples_all.ipynb\n"
     ]
    },
    {
     "name": "stdout",
     "output_type": "stream",
     "text": [
      "j = 11,group_ind = 1\n"
     ]
    },
    {
     "name": "stderr",
     "output_type": "stream",
     "text": [
      "[NbConvertApp] WARNING | Config option `kernel_spec_manager_class` not recognized by `NbConvertApp`.\n",
      "[NbConvertApp] Converting notebook samples_all.ipynb to notebook\n",
      "[NbConvertApp] Writing 42316 bytes to samples_all.ipynb\n"
     ]
    },
    {
     "name": "stdout",
     "output_type": "stream",
     "text": [
      "j = 11,group_ind = 2\n"
     ]
    },
    {
     "name": "stderr",
     "output_type": "stream",
     "text": [
      "[NbConvertApp] WARNING | Config option `kernel_spec_manager_class` not recognized by `NbConvertApp`.\n",
      "[NbConvertApp] Converting notebook samples_all.ipynb to notebook\n",
      "[NbConvertApp] Writing 42342 bytes to samples_all.ipynb\n"
     ]
    },
    {
     "name": "stdout",
     "output_type": "stream",
     "text": [
      "j = b23,group_ind = 0\n"
     ]
    },
    {
     "name": "stderr",
     "output_type": "stream",
     "text": [
      "[NbConvertApp] WARNING | Config option `kernel_spec_manager_class` not recognized by `NbConvertApp`.\n",
      "[NbConvertApp] Converting notebook samples_all.ipynb to notebook\n",
      "[NbConvertApp] Writing 46327 bytes to samples_all.ipynb\n"
     ]
    },
    {
     "name": "stdout",
     "output_type": "stream",
     "text": [
      "j = b23,group_ind = 1\n"
     ]
    },
    {
     "name": "stderr",
     "output_type": "stream",
     "text": [
      "[NbConvertApp] WARNING | Config option `kernel_spec_manager_class` not recognized by `NbConvertApp`.\n",
      "[NbConvertApp] Converting notebook samples_all.ipynb to notebook\n",
      "[NbConvertApp] Writing 45873 bytes to samples_all.ipynb\n"
     ]
    },
    {
     "name": "stdout",
     "output_type": "stream",
     "text": [
      "j = b23,group_ind = 2\n"
     ]
    },
    {
     "name": "stderr",
     "output_type": "stream",
     "text": [
      "[NbConvertApp] WARNING | Config option `kernel_spec_manager_class` not recognized by `NbConvertApp`.\n",
      "[NbConvertApp] Converting notebook samples_all.ipynb to notebook\n",
      "[NbConvertApp] Writing 46113 bytes to samples_all.ipynb\n"
     ]
    },
    {
     "name": "stdout",
     "output_type": "stream",
     "text": [
      "j = b123,group_ind = 0\n"
     ]
    },
    {
     "name": "stderr",
     "output_type": "stream",
     "text": [
      "[NbConvertApp] WARNING | Config option `kernel_spec_manager_class` not recognized by `NbConvertApp`.\n",
      "[NbConvertApp] Converting notebook samples_all.ipynb to notebook\n",
      "[NbConvertApp] Writing 47817 bytes to samples_all.ipynb\n"
     ]
    },
    {
     "name": "stdout",
     "output_type": "stream",
     "text": [
      "j = b123,group_ind = 1\n"
     ]
    },
    {
     "name": "stderr",
     "output_type": "stream",
     "text": [
      "[NbConvertApp] WARNING | Config option `kernel_spec_manager_class` not recognized by `NbConvertApp`.\n",
      "[NbConvertApp] Converting notebook samples_all.ipynb to notebook\n",
      "[NbConvertApp] Writing 45291 bytes to samples_all.ipynb\n"
     ]
    },
    {
     "name": "stdout",
     "output_type": "stream",
     "text": [
      "j = b123,group_ind = 2\n"
     ]
    },
    {
     "name": "stderr",
     "output_type": "stream",
     "text": [
      "[NbConvertApp] WARNING | Config option `kernel_spec_manager_class` not recognized by `NbConvertApp`.\n",
      "[NbConvertApp] Converting notebook samples_all.ipynb to notebook\n",
      "[NbConvertApp] Writing 47999 bytes to samples_all.ipynb\n"
     ]
    }
   ],
   "source": [
    "# import json\n",
    "# import os\n",
    "\n",
    "   \n",
    "# fname = 'j.json'\n",
    "# val ='1'\n",
    "# with open(fname, 'w') as f:\n",
    "#     json.dump(val, f)\n",
    "\n",
    "# Python program to read\n",
    "# json file\n",
    "import json\n",
    "import subprocess\n",
    "\n",
    "def run_notebook(notebook_file, output_file,j,group_ind):\n",
    "    \"\"\"Pass arguments to a Jupyter notebook, run it and convert to html.\"\"\"\n",
    "    print(f'j = {j},group_ind = {group_ind}')\n",
    "    val = [j,group_ind]\n",
    "    # Create the arguments file\n",
    "    with open('j.json', 'w') as f:\n",
    "        json.dump(val, f)\n",
    "    # Run the notebook\n",
    "    subprocess.call([\n",
    "        'jupyter-nbconvert',\n",
    "        '--execute',\n",
    "        '--to', \n",
    "        output_file,\n",
    "        '--inplace',\n",
    "        notebook_file])\n",
    "\n",
    "# Run the notebook with different arguments\n",
    "for j in ['1','2','4','5','4.1','7','8','11','b23','b123']:\n",
    "# for j in ['1']:\n",
    "    for group_ind in [0,1,2]:\n",
    "        run_notebook('samples_all.ipynb', 'samples_all.ipynb',j,group_ind)\n",
    "\n",
    "# jupyter nbconvert --execute --to samples_all.ipynb --inplace samples_all.ipynb"
   ]
  },
  {
   "cell_type": "code",
   "execution_count": 2,
   "metadata": {},
   "outputs": [
    {
     "name": "stdout",
     "output_type": "stream",
     "text": [
      "current j = 2,group_ind = 4\n"
     ]
    }
   ],
   "source": [
    "import json\n",
    "import os\n",
    "\n",
    "def getJ(j,group_ind):\n",
    "    # if thers an external program runnig script (saving a json file) - take it\n",
    "    # otherwise take the input j\n",
    "    fname = 'j.json'\n",
    "    try:   \n",
    "        with open(fname, 'r') as f: \n",
    "            j,group_ind =  json.load(f)\n",
    "        os.remove(fname)\n",
    "    except:\n",
    "        pass\n",
    "    print(f'current j = {j},group_ind = {group_ind}')\n",
    "    return j,group_ind  \n",
    "# fname = 'j.json'\n",
    "# val =['1','2']\n",
    "# with open(fname, 'w') as f:\n",
    "#     json.dump(val, f)\n",
    "j,group_ind = getJ(j=2,group_ind=4)"
   ]
  }
 ],
 "metadata": {
  "kernelspec": {
   "display_name": "tf_39",
   "language": "python",
   "name": "python3"
  },
  "language_info": {
   "codemirror_mode": {
    "name": "ipython",
    "version": 3
   },
   "file_extension": ".py",
   "mimetype": "text/x-python",
   "name": "python",
   "nbconvert_exporter": "python",
   "pygments_lexer": "ipython3",
   "version": "3.9.16 (main, Jan 11 2023, 16:05:54) \n[GCC 11.2.0]"
  },
  "orig_nbformat": 4,
  "vscode": {
   "interpreter": {
    "hash": "47461faa88aa067695cc57f541ef1d2dc4d6f921b9b537a7f257f46bf46d112f"
   }
  }
 },
 "nbformat": 4,
 "nbformat_minor": 2
}
