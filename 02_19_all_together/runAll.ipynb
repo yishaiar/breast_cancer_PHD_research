{
 "cells": [
  {
   "cell_type": "code",
   "execution_count": 3,
   "metadata": {},
   "outputs": [
    {
     "name": "stderr",
     "output_type": "stream",
     "text": [
      "[NbConvertApp] WARNING | Config option `kernel_spec_manager_class` not recognized by `NbConvertApp`.\n",
      "[NbConvertApp] Converting notebook samples_all.ipynb to notebook\n",
      "[NbConvertApp] Writing 1211867 bytes to samples_all.ipynb\n",
      "[NbConvertApp] WARNING | Config option `kernel_spec_manager_class` not recognized by `NbConvertApp`.\n",
      "[NbConvertApp] Converting notebook samples_all.ipynb to notebook\n",
      "[NbConvertApp] Writing 1197670 bytes to samples_all.ipynb\n",
      "[NbConvertApp] WARNING | Config option `kernel_spec_manager_class` not recognized by `NbConvertApp`.\n",
      "[NbConvertApp] Converting notebook samples_all.ipynb to notebook\n",
      "[NbConvertApp] Writing 1053286 bytes to samples_all.ipynb\n"
     ]
    },
    {
     "name": "stdout",
     "output_type": "stream",
     "text": [
      "finished: j = 4 address: Data_\n"
     ]
    },
    {
     "name": "stderr",
     "output_type": "stream",
     "text": [
      "[NbConvertApp] WARNING | Config option `kernel_spec_manager_class` not recognized by `NbConvertApp`.\n",
      "[NbConvertApp] Converting notebook samples_all.ipynb to notebook\n",
      "[NbConvertApp] Writing 1115614 bytes to samples_all.ipynb\n",
      "[NbConvertApp] WARNING | Config option `kernel_spec_manager_class` not recognized by `NbConvertApp`.\n",
      "[NbConvertApp] Converting notebook samples_all.ipynb to notebook\n",
      "[NbConvertApp] Writing 1316835 bytes to samples_all.ipynb\n",
      "[NbConvertApp] WARNING | Config option `kernel_spec_manager_class` not recognized by `NbConvertApp`.\n",
      "[NbConvertApp] Converting notebook samples_all.ipynb to notebook\n",
      "[NbConvertApp] Writing 1051513 bytes to samples_all.ipynb\n"
     ]
    },
    {
     "name": "stdout",
     "output_type": "stream",
     "text": [
      "finished: j = 5 address: Data_\n"
     ]
    },
    {
     "name": "stderr",
     "output_type": "stream",
     "text": [
      "[NbConvertApp] WARNING | Config option `kernel_spec_manager_class` not recognized by `NbConvertApp`.\n",
      "[NbConvertApp] Converting notebook samples_all.ipynb to notebook\n",
      "[NbConvertApp] Writing 1017898 bytes to samples_all.ipynb\n",
      "[NbConvertApp] WARNING | Config option `kernel_spec_manager_class` not recognized by `NbConvertApp`.\n",
      "[NbConvertApp] Converting notebook samples_all.ipynb to notebook\n",
      "[NbConvertApp] Writing 1069714 bytes to samples_all.ipynb\n",
      "[NbConvertApp] WARNING | Config option `kernel_spec_manager_class` not recognized by `NbConvertApp`.\n",
      "[NbConvertApp] Converting notebook samples_all.ipynb to notebook\n",
      "[NbConvertApp] Writing 953161 bytes to samples_all.ipynb\n"
     ]
    },
    {
     "name": "stdout",
     "output_type": "stream",
     "text": [
      "finished: j = 4.1 address: Data_\n"
     ]
    },
    {
     "name": "stderr",
     "output_type": "stream",
     "text": [
      "[NbConvertApp] WARNING | Config option `kernel_spec_manager_class` not recognized by `NbConvertApp`.\n",
      "[NbConvertApp] Converting notebook samples_all.ipynb to notebook\n",
      "[NbConvertApp] Writing 999934 bytes to samples_all.ipynb\n",
      "[NbConvertApp] WARNING | Config option `kernel_spec_manager_class` not recognized by `NbConvertApp`.\n",
      "[NbConvertApp] Converting notebook samples_all.ipynb to notebook\n",
      "[NbConvertApp] Writing 1073746 bytes to samples_all.ipynb\n",
      "[NbConvertApp] WARNING | Config option `kernel_spec_manager_class` not recognized by `NbConvertApp`.\n",
      "[NbConvertApp] Converting notebook samples_all.ipynb to notebook\n",
      "[NbConvertApp] Writing 951710 bytes to samples_all.ipynb\n"
     ]
    },
    {
     "name": "stdout",
     "output_type": "stream",
     "text": [
      "finished: j = 7 address: Data_\n"
     ]
    },
    {
     "name": "stderr",
     "output_type": "stream",
     "text": [
      "[NbConvertApp] WARNING | Config option `kernel_spec_manager_class` not recognized by `NbConvertApp`.\n",
      "[NbConvertApp] Converting notebook samples_all.ipynb to notebook\n",
      "[NbConvertApp] Writing 1084340 bytes to samples_all.ipynb\n",
      "[NbConvertApp] WARNING | Config option `kernel_spec_manager_class` not recognized by `NbConvertApp`.\n",
      "[NbConvertApp] Converting notebook samples_all.ipynb to notebook\n",
      "[NbConvertApp] Writing 1114649 bytes to samples_all.ipynb\n",
      "[NbConvertApp] WARNING | Config option `kernel_spec_manager_class` not recognized by `NbConvertApp`.\n",
      "[NbConvertApp] Converting notebook samples_all.ipynb to notebook\n",
      "[NbConvertApp] Writing 1018934 bytes to samples_all.ipynb\n"
     ]
    },
    {
     "name": "stdout",
     "output_type": "stream",
     "text": [
      "finished: j = 8 address: Data_\n"
     ]
    },
    {
     "name": "stderr",
     "output_type": "stream",
     "text": [
      "[NbConvertApp] WARNING | Config option `kernel_spec_manager_class` not recognized by `NbConvertApp`.\n",
      "[NbConvertApp] Converting notebook samples_all.ipynb to notebook\n",
      "[NbConvertApp] Writing 949604 bytes to samples_all.ipynb\n",
      "[NbConvertApp] WARNING | Config option `kernel_spec_manager_class` not recognized by `NbConvertApp`.\n",
      "[NbConvertApp] Converting notebook samples_all.ipynb to notebook\n",
      "[NbConvertApp] Writing 1187316 bytes to samples_all.ipynb\n",
      "[NbConvertApp] WARNING | Config option `kernel_spec_manager_class` not recognized by `NbConvertApp`.\n",
      "[NbConvertApp] Converting notebook samples_all.ipynb to notebook\n",
      "[NbConvertApp] Writing 1068559 bytes to samples_all.ipynb\n"
     ]
    },
    {
     "name": "stdout",
     "output_type": "stream",
     "text": [
      "finished: j = 11 address: Data_\n"
     ]
    },
    {
     "name": "stderr",
     "output_type": "stream",
     "text": [
      "[NbConvertApp] WARNING | Config option `kernel_spec_manager_class` not recognized by `NbConvertApp`.\n",
      "[NbConvertApp] Converting notebook samples_all.ipynb to notebook\n",
      "[NbConvertApp] Writing 858474 bytes to samples_all.ipynb\n",
      "[NbConvertApp] WARNING | Config option `kernel_spec_manager_class` not recognized by `NbConvertApp`.\n",
      "[NbConvertApp] Converting notebook samples_all.ipynb to notebook\n",
      "[NbConvertApp] Writing 985610 bytes to samples_all.ipynb\n",
      "[NbConvertApp] WARNING | Config option `kernel_spec_manager_class` not recognized by `NbConvertApp`.\n",
      "[NbConvertApp] Converting notebook samples_all.ipynb to notebook\n",
      "[NbConvertApp] Writing 791213 bytes to samples_all.ipynb\n"
     ]
    },
    {
     "name": "stdout",
     "output_type": "stream",
     "text": [
      "finished: j = 7.1 address: Data_\n"
     ]
    },
    {
     "name": "stderr",
     "output_type": "stream",
     "text": [
      "[NbConvertApp] WARNING | Config option `kernel_spec_manager_class` not recognized by `NbConvertApp`.\n",
      "[NbConvertApp] Converting notebook samples_all.ipynb to notebook\n",
      "[NbConvertApp] Writing 858800 bytes to samples_all.ipynb\n",
      "[NbConvertApp] WARNING | Config option `kernel_spec_manager_class` not recognized by `NbConvertApp`.\n",
      "[NbConvertApp] Converting notebook samples_all.ipynb to notebook\n",
      "[NbConvertApp] Writing 1029614 bytes to samples_all.ipynb\n",
      "[NbConvertApp] WARNING | Config option `kernel_spec_manager_class` not recognized by `NbConvertApp`.\n",
      "[NbConvertApp] Converting notebook samples_all.ipynb to notebook\n",
      "[NbConvertApp] Writing 839351 bytes to samples_all.ipynb\n"
     ]
    },
    {
     "name": "stdout",
     "output_type": "stream",
     "text": [
      "finished: j = 13 address: Data_\n"
     ]
    },
    {
     "name": "stderr",
     "output_type": "stream",
     "text": [
      "[NbConvertApp] WARNING | Config option `kernel_spec_manager_class` not recognized by `NbConvertApp`.\n",
      "[NbConvertApp] Converting notebook samples_all.ipynb to notebook\n",
      "[NbConvertApp] Writing 794668 bytes to samples_all.ipynb\n",
      "[NbConvertApp] WARNING | Config option `kernel_spec_manager_class` not recognized by `NbConvertApp`.\n",
      "[NbConvertApp] Converting notebook samples_all.ipynb to notebook\n",
      "[NbConvertApp] Writing 989788 bytes to samples_all.ipynb\n",
      "[NbConvertApp] WARNING | Config option `kernel_spec_manager_class` not recognized by `NbConvertApp`.\n",
      "[NbConvertApp] Converting notebook samples_all.ipynb to notebook\n",
      "[NbConvertApp] Writing 810521 bytes to samples_all.ipynb\n"
     ]
    },
    {
     "name": "stdout",
     "output_type": "stream",
     "text": [
      "finished: j = 14 address: Data_\n"
     ]
    },
    {
     "name": "stderr",
     "output_type": "stream",
     "text": [
      "[NbConvertApp] WARNING | Config option `kernel_spec_manager_class` not recognized by `NbConvertApp`.\n",
      "[NbConvertApp] Converting notebook samples_all.ipynb to notebook\n",
      "[NbConvertApp] Writing 898215 bytes to samples_all.ipynb\n",
      "[NbConvertApp] WARNING | Config option `kernel_spec_manager_class` not recognized by `NbConvertApp`.\n",
      "[NbConvertApp] Converting notebook samples_all.ipynb to notebook\n",
      "[NbConvertApp] Writing 878562 bytes to samples_all.ipynb\n",
      "[NbConvertApp] WARNING | Config option `kernel_spec_manager_class` not recognized by `NbConvertApp`.\n",
      "[NbConvertApp] Converting notebook samples_all.ipynb to notebook\n",
      "[NbConvertApp] Writing 801555 bytes to samples_all.ipynb\n"
     ]
    },
    {
     "name": "stdout",
     "output_type": "stream",
     "text": [
      "finished: j = 15 address: Data_\n"
     ]
    },
    {
     "name": "stderr",
     "output_type": "stream",
     "text": [
      "[NbConvertApp] WARNING | Config option `kernel_spec_manager_class` not recognized by `NbConvertApp`.\n",
      "[NbConvertApp] Converting notebook samples_all.ipynb to notebook\n",
      "[NbConvertApp] Writing 785865 bytes to samples_all.ipynb\n",
      "[NbConvertApp] WARNING | Config option `kernel_spec_manager_class` not recognized by `NbConvertApp`.\n",
      "[NbConvertApp] Converting notebook samples_all.ipynb to notebook\n",
      "[NbConvertApp] Writing 1109634 bytes to samples_all.ipynb\n",
      "[NbConvertApp] WARNING | Config option `kernel_spec_manager_class` not recognized by `NbConvertApp`.\n",
      "[NbConvertApp] Converting notebook samples_all.ipynb to notebook\n",
      "[NbConvertApp] Writing 824721 bytes to samples_all.ipynb\n"
     ]
    },
    {
     "name": "stdout",
     "output_type": "stream",
     "text": [
      "finished: j = 14.2 address: Data_\n"
     ]
    },
    {
     "name": "stderr",
     "output_type": "stream",
     "text": [
      "[NbConvertApp] WARNING | Config option `kernel_spec_manager_class` not recognized by `NbConvertApp`.\n",
      "[NbConvertApp] Converting notebook samples_all.ipynb to notebook\n",
      "[NbConvertApp] WARNING | Config option `kernel_spec_manager_class` not recognized by `NbConvertApp`.\n",
      "[NbConvertApp] Converting notebook samples_all.ipynb to notebook\n",
      "[NbConvertApp] Writing 3589687 bytes to samples_all.ipynb\n",
      "[NbConvertApp] Writing 4690426 bytes to samples_all.ipynb\n",
      "[NbConvertApp] WARNING | Config option `kernel_spec_manager_class` not recognized by `NbConvertApp`.\n",
      "[NbConvertApp] Converting notebook samples_all.ipynb to notebook\n",
      "[NbConvertApp] Writing 3536125 bytes to samples_all.ipynb\n"
     ]
    },
    {
     "name": "stdout",
     "output_type": "stream",
     "text": [
      "finished: j = b234 address: Data_\n"
     ]
    },
    {
     "name": "stderr",
     "output_type": "stream",
     "text": [
      "[NbConvertApp] WARNING | Config option `kernel_spec_manager_class` not recognized by `NbConvertApp`.\n",
      "[NbConvertApp] Converting notebook samples_all.ipynb to notebook\n",
      "[NbConvertApp] Writing 2354472 bytes to samples_all.ipynb\n",
      "[NbConvertApp] WARNING | Config option `kernel_spec_manager_class` not recognized by `NbConvertApp`.\n",
      "[NbConvertApp] Converting notebook samples_all.ipynb to notebook\n",
      "[NbConvertApp] Writing 3030765 bytes to samples_all.ipynb\n",
      "[NbConvertApp] WARNING | Config option `kernel_spec_manager_class` not recognized by `NbConvertApp`.\n",
      "[NbConvertApp] Converting notebook samples_all.ipynb to notebook\n"
     ]
    },
    {
     "name": "stdout",
     "output_type": "stream",
     "text": [
      "finished: j = b4 address: Data_\n"
     ]
    },
    {
     "name": "stderr",
     "output_type": "stream",
     "text": [
      "[NbConvertApp] Writing 2239197 bytes to samples_all.ipynb\n"
     ]
    }
   ],
   "source": [
    "# import json\n",
    "# import os\n",
    "\n",
    "   \n",
    "# fname = 'j.json'\n",
    "# val ='1'\n",
    "# with open(fname, 'w') as f:\n",
    "#     json.dump(val, f)\n",
    "\n",
    "# Python program to read\n",
    "# json file\n",
    "import json\n",
    "import subprocess\n",
    "import time\n",
    "\n",
    "def run_notebook_paralel(notebook_file, add,j,group_ind):#func= subprocess.Popen\n",
    "    \"\"\"Pass arguments to a Jupyter notebook, run it and convert to html.\"\"\"\n",
    "    time.sleep(group_ind*30)\n",
    "    val = [j,group_ind,add]\n",
    "    # Create the arguments file\n",
    "    with open('j.json', 'w') as f:\n",
    "        json.dump(val, f)\n",
    "    # Run the notebook\n",
    "    p = subprocess.Popen([\n",
    "        'jupyter-nbconvert',\n",
    "        '--execute',\n",
    "        notebook_file,\n",
    "        '--to', notebook_file,\n",
    "        # '--stdout',\n",
    "        '--inplace',\n",
    "        \n",
    "        ])\n",
    "    return p\n",
    "   \n",
    "        \n",
    "\n",
    "# Run the notebook with different arguments\n",
    "# 'Data_linearfit',\n",
    "for add in ['Data_']:\n",
    "    for j in ['4','5','4.1','7','8','11','7.1','13','14','15','14.2',\n",
    "              'b234','b4']:\n",
    "        # 'b23','b123'\n",
    "    # for j in ['b23ad']:\n",
    "        pArr=[]\n",
    "        for group_ind in [0,1,2]:\n",
    "            p = run_notebook_paralel('samples_all.ipynb', add,j,group_ind)\n",
    "            pArr.append(p)\n",
    "            # p.communicate() #now wait plus that you can send commands to process\n",
    "        [p.communicate() for p in pArr]\n",
    "        [p.terminate() for p in pArr]\n",
    "        print(f'finished: j = {j} address: {add}')\n",
    "    \n",
    "# jupyter nbconvert --execute --to samples_all.ipynb --inplace samples_all.ipynb"
   ]
  },
  {
   "cell_type": "code",
   "execution_count": 2,
   "metadata": {},
   "outputs": [
    {
     "data": {
      "text/plain": [
       "[None]"
      ]
     },
     "execution_count": 2,
     "metadata": {},
     "output_type": "execute_result"
    }
   ],
   "source": [
    "[p.terminate() for p in pArr]\n"
   ]
  },
  {
   "cell_type": "code",
   "execution_count": null,
   "metadata": {},
   "outputs": [],
   "source": [
    "# import json\n",
    "# import os\n",
    "\n",
    "   \n",
    "# fname = 'j.json'\n",
    "# val ='1'\n",
    "# with open(fname, 'w') as f:\n",
    "#     json.dump(val, f)\n",
    "\n",
    "# Python program to read\n",
    "# json file\n",
    "import json\n",
    "import subprocess\n",
    "\n",
    "def run_notebook(notebook_file, output_file,j,group_ind):\n",
    "    \"\"\"Pass arguments to a Jupyter notebook, run it and convert to html.\"\"\"\n",
    "    print(f'j = {j},group_ind = {group_ind}')\n",
    "    val = [j,group_ind]\n",
    "    # Create the arguments file\n",
    "    with open('j.json', 'w') as f:\n",
    "        json.dump(val, f)\n",
    "    # Run the notebook\n",
    "    subprocess.call([\n",
    "        'jupyter-nbconvert',\n",
    "        '--execute',\n",
    "        '--to', \n",
    "        output_file,\n",
    "        '--inplace',\n",
    "        notebook_file])\n",
    "\n",
    "        \n",
    "\n",
    "# Run the notebook with different arguments\n",
    "for j in ['1','2','4','5','4.1','7','8','11']:\n",
    "# for j in ['b23']:\n",
    "    for group_ind in [0,1,2]:\n",
    "        run_notebook('samples_all.ipynb', 'samples_all.ipynb',j,group_ind)\n",
    "\n",
    "# jupyter nbconvert --execute --to samples_all.ipynb --inplace samples_all.ipynb"
   ]
  },
  {
   "cell_type": "code",
   "execution_count": null,
   "metadata": {},
   "outputs": [],
   "source": [
    "# import json\n",
    "# import os\n",
    "\n",
    "# def getJ(j,group_ind):\n",
    "#     # if thers an external program runnig script (saving a json file) - take it\n",
    "#     # otherwise take the input j\n",
    "#     fname = 'j.json'\n",
    "#     try:   \n",
    "#         with open(fname, 'r') as f: \n",
    "#             j,group_ind =  json.load(f)\n",
    "#         os.remove(fname)\n",
    "#     except:\n",
    "#         pass\n",
    "#     print(f'current j = {j},group_ind = {group_ind}')\n",
    "#     return j,group_ind  \n",
    "# # fname = 'j.json'\n",
    "# # val =['1','2']\n",
    "# # with open(fname, 'w') as f:\n",
    "# #     json.dump(val, f)\n",
    "# j,group_ind = getJ(j=2,group_ind=4)"
   ]
  }
 ],
 "metadata": {
  "kernelspec": {
   "display_name": "tf_39",
   "language": "python",
   "name": "python3"
  },
  "language_info": {
   "codemirror_mode": {
    "name": "ipython",
    "version": 3
   },
   "file_extension": ".py",
   "mimetype": "text/x-python",
   "name": "python",
   "nbconvert_exporter": "python",
   "pygments_lexer": "ipython3",
   "version": "3.9.16"
  },
  "orig_nbformat": 4,
  "vscode": {
   "interpreter": {
    "hash": "47461faa88aa067695cc57f541ef1d2dc4d6f921b9b537a7f257f46bf46d112f"
   }
  }
 },
 "nbformat": 4,
 "nbformat_minor": 2
}
