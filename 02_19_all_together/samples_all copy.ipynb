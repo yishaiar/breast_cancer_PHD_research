{
 "cells": [
  {
   "attachments": {},
   "cell_type": "markdown",
   "metadata": {},
   "source": [
    "# Load and initialize\n"
   ]
  },
  {
   "attachments": {},
   "cell_type": "markdown",
   "metadata": {},
   "source": [
    "settings\n"
   ]
  },
  {
   "cell_type": "code",
   "execution_count": null,
   "metadata": {
    "ExecuteTime": {
     "end_time": "2023-01-16T21:12:28.925237Z",
     "start_time": "2023-01-16T21:12:28.891068Z"
    },
    "execution": {
     "iopub.execute_input": "2023-09-18T15:00:45.707705Z",
     "iopub.status.busy": "2023-09-18T15:00:45.707446Z",
     "iopub.status.idle": "2023-09-18T15:00:45.715688Z",
     "shell.execute_reply": "2023-09-18T15:00:45.715208Z"
    }
   },
   "outputs": [],
   "source": [
    "# sample number\n",
    "\n",
    "# j = '14.2'+'a'#'_arcsinh'+'14.2'+'a'#\n",
    "# j = 'b234'+'a'\n",
    "j = 'b2345'\n",
    "\n",
    "group_ind = 2\n",
    "dir_data1 = 'Data'\n",
    "\n",
    "args = {\n",
    "        # create visualization (umap, dbscan are always shown)\n",
    "        'visualize':True,'plotUMAP' : True,\n",
    "        # show figures in notebook\n",
    "        'show' : True, 'saveSVG' :False,\n",
    "        # calculate umap\n",
    "        'calc_umap' : False\n",
    "        }\n",
    "create_adjusted = False\n",
    "print(j, 'ind:',group_ind, dir_data1, args, create_adjusted)"
   ]
  },
  {
   "attachments": {},
   "cell_type": "markdown",
   "metadata": {},
   "source": [
    "envirement\n"
   ]
  },
  {
   "cell_type": "code",
   "execution_count": null,
   "metadata": {
    "ExecuteTime": {
     "end_time": "2023-01-16T21:12:28.990551Z",
     "start_time": "2023-01-16T21:12:28.927491Z"
    },
    "execution": {
     "iopub.execute_input": "2023-09-18T15:00:45.751629Z",
     "iopub.status.busy": "2023-09-18T15:00:45.751145Z",
     "iopub.status.idle": "2023-09-18T15:00:48.170320Z",
     "shell.execute_reply": "2023-09-18T15:00:48.169668Z"
    }
   },
   "outputs": [],
   "source": [
    "\n",
    "from tqdm import tqdm_notebook, tqdm\n",
    "import datetime\n",
    "\n",
    "import pandas as pd\n",
    "from matplotlib.pyplot import rc_context\n",
    "import matplotlib.pyplot as plt\n",
    "import numpy as np\n",
    "from IPython.display import Image, display\n",
    "import sys\n",
    "import pathlib\n",
    "import os\n",
    "from numba.core.errors import NumbaDeprecationWarning, NumbaPendingDeprecationWarning\n",
    "import warnings\n",
    "warnings.simplefilter('ignore', category=NumbaDeprecationWarning)\n",
    "warnings.simplefilter('ignore', category=NumbaPendingDeprecationWarning)\n",
    "import time\n",
    "start = time.process_time()\n",
    "date = datetime.date.today().strftime(\"%d%m%Y\")\n",
    "# import time\n",
    "\n",
    "# import matplotlib\n",
    "\n",
    "plt.rcParams[\"figure.figsize\"] = (5.0, 4.0)  # Set default size of plots.\n",
    "plt.rcParams[\"image.interpolation\"] = \"nearest\"\n",
    "plt.rcParams[\"image.cmap\"] = \"gray\"\n",
    "%matplotlib inline\n",
    "\n",
    "pd.set_option('display.max_rows', 500)\n",
    "pd.set_option('display.max_columns', 500)\n",
    "pd.set_option('display.width', 180)  # according to screen width\n",
    "# from pandas.core.base import PandasObject\n",
    "# PandasObject.view = view #allows view meth pd.view\n",
    "\n",
    "# from scipy import signal, stats\n",
    "# import seaborn as sns\n",
    "\n",
    "# from sklearn import metrics\n",
    "\n",
    "# from sklearn.preprocessing import StandardScaler, KBinsDiscretizer\n",
    "# from sklearn.metrics import silhouette_samples,silhouette_score\n",
    "# from sklearn.neighbors import kneighbors_graph\n",
    "\n",
    "# from lmfit import minimize, Parameters\n",
    "\n",
    "\n",
    "parent_dir = os.path.abspath(os.path.join(os.getcwd(), os.pardir))\n",
    "\n",
    "sys.path.append(parent_dir+'/functions/')\n",
    "\n",
    "# from epinuc import *\n",
    "from usefull_functions import *\n",
    "from functions import *\n",
    "from plot_functions import *\n",
    "from clustering_functions import *\n",
    "from xg_shap import *    \n",
    "\n",
    "\n",
    "%load_ext autoreload\n",
    "%autoreload 2\n",
    "%reload_ext autoreload\n",
    "%autoreload 2\n",
    "\n",
    "\n",
    "# TF_ENABLE_ONEDNN_OPTS=0\n"
   ]
  },
  {
   "attachments": {},
   "cell_type": "markdown",
   "metadata": {},
   "source": [
    "load data; normalized (CD45-)\n"
   ]
  },
  {
   "cell_type": "code",
   "execution_count": null,
   "metadata": {
    "ExecuteTime": {
     "end_time": "2023-01-16T21:12:29.090540Z",
     "start_time": "2023-01-16T21:12:28.992321Z"
    },
    "execution": {
     "iopub.execute_input": "2023-09-18T15:00:48.173867Z",
     "iopub.status.busy": "2023-09-18T15:00:48.173289Z",
     "iopub.status.idle": "2023-09-18T15:00:48.265139Z",
     "shell.execute_reply": "2023-09-18T15:00:48.264347Z"
    }
   },
   "outputs": [],
   "source": [
    "j, group_ind, dir_data1,args = getJ(j, group_ind, dir_data1,args)\n",
    "\n",
    "\n",
    "\n",
    "dir_data = os.path.abspath(os.path.join(    parent_dir, os.pardir))+f'/{dir_data1}/'\n",
    "dir_plots = os.path.abspath(os.path.join(\n",
    "    parent_dir, os.pardir))+f'/_sample_{j}_{dir_data1}_{date}/'\n",
    "folderExists(dir_plots)\n",
    "settings = (dir_plots, args['show'], args['saveSVG'])\n",
    "\n",
    "if 'b' not in j:\n",
    "    singleSample = True\n",
    "else:\n",
    "    singleSample = False\n",
    "print(f'singleSample is: {singleSample}')\n",
    "\n",
    "# k_orig = pickle_load('k'+j+'_dict',dir_data )['k']\n",
    "# k = k_orig.copy()\n",
    "# CAll=pd.concat([k]).copy()\n",
    "\n",
    "k = pickle_load('k'+j+'_dict', dir_data)['k'].reset_index(drop=True)\n",
    "CAll = pd.concat([k.copy()])\n",
    "print(len(k))\n",
    "\n",
    "\n",
    "names_dict = pickle_load('k'+j+'_names_dict', dir_data)\n",
    "if '14.2a' in j: #remove them from the names_dict; they need to be only in cellcycle\n",
    "    names_dict = removeFeatures(names_dict.copy(),features =['CyclinB1', 'pRB','H3S28p','DNA2'])#\n",
    "\n",
    "\n",
    "NamesAll = names_dict['NamesAll']\n",
    "CellIden = names_dict['CellIden']\n",
    "EpiCols = names_dict['EpiCols']\n",
    "Core = names_dict['Core']\n",
    "CellIden_EpiCols = CellIden + EpiCols\n",
    "\n",
    "# dict = None\n",
    "\n",
    "groups = [['CellIden', 'EpiCols', 'CellIden+EpiCols',],\n",
    "          [CellIden, EpiCols, CellIden_EpiCols]]\n",
    "\n",
    "names = [[f'samp{j}_CellIden_', f'samp{j} CellIden Based'],\n",
    "         [f'samp{j}_EpiCols_', f'samp{j} EpiCols Based'],\n",
    "         [f'samp{j}_CellIden+EpiCols_', f'samp{j} CellIden+EpiCols Based'],\n",
    "         ]\n",
    "\n",
    "params = ['iden', 'epi', 'all',]\n",
    "\n",
    "if '14.2a'in j:\n",
    "    groups[0].append( 'CellCycle')   \n",
    "    groups[1].append( ['CyclinB1', 'pRB','H3S28p','DNA2'] )   \n",
    "    names.append(   [f'samp{j}_CellCycle_', f'samp{j} CellCycle Based'])\n",
    "    params.append('cell')\n",
    "    print('cellcycle added')"
   ]
  },
  {
   "attachments": {},
   "cell_type": "markdown",
   "metadata": {},
   "source": [
    "Visualize data\n",
    "\n",
    "no point to print data.describe() as it is whitened (std~1, mean~0)\n"
   ]
  },
  {
   "cell_type": "code",
   "execution_count": null,
   "metadata": {
    "ExecuteTime": {
     "end_time": "2023-01-16T21:12:29.142002Z",
     "start_time": "2023-01-16T21:12:29.092846Z"
    },
    "execution": {
     "iopub.execute_input": "2023-09-18T15:00:48.267998Z",
     "iopub.status.busy": "2023-09-18T15:00:48.267568Z",
     "iopub.status.idle": "2023-09-18T15:00:48.308794Z",
     "shell.execute_reply": "2023-09-18T15:00:48.308023Z"
    }
   },
   "outputs": [],
   "source": [
    "# if show:\n",
    "\n",
    "#     for features in [NamesAll,Core,CellIden,EpiCols,CellIden_EpiCols]:\n",
    "#         print(len(features))\n",
    "#         print(features)\n"
   ]
  },
  {
   "attachments": {},
   "cell_type": "markdown",
   "metadata": {
    "tags": []
   },
   "source": [
    "# Cell Identity\n"
   ]
  },
  {
   "cell_type": "code",
   "execution_count": null,
   "metadata": {
    "ExecuteTime": {
     "end_time": "2023-01-16T21:12:29.193413Z",
     "start_time": "2023-01-16T21:12:29.143651Z"
    },
    "execution": {
     "iopub.execute_input": "2023-09-18T15:00:48.311748Z",
     "iopub.status.busy": "2023-09-18T15:00:48.311272Z",
     "iopub.status.idle": "2023-09-18T15:00:48.349432Z",
     "shell.execute_reply": "2023-09-18T15:00:48.348890Z"
    }
   },
   "outputs": [],
   "source": [
    "\n",
    "figname, title = names[group_ind]\n",
    "name, featureGroup = groups[0][group_ind], groups[1][group_ind]\n",
    "print(name, title, figname)\n"
   ]
  },
  {
   "attachments": {},
   "cell_type": "markdown",
   "metadata": {},
   "source": [
    "### UMAP\n",
    "\n",
    "plot for each feature according to its intensity\n"
   ]
  },
  {
   "cell_type": "code",
   "execution_count": null,
   "metadata": {
    "ExecuteTime": {
     "end_time": "2023-01-16T21:12:51.555507Z",
     "start_time": "2023-01-16T21:12:29.195357Z"
    },
    "execution": {
     "iopub.execute_input": "2023-09-18T15:00:48.351924Z",
     "iopub.status.busy": "2023-09-18T15:00:48.351728Z",
     "iopub.status.idle": "2023-09-18T15:05:01.041495Z",
     "shell.execute_reply": "2023-09-18T15:05:01.040776Z"
    }
   },
   "outputs": [],
   "source": [
    "\n",
    "min_dist, n_neighbors = getValsCsv(    dir_data, vars=[params[group_ind], 'umap', j])\n",
    "# min_dist, n_neighbors = 0.02,10\n",
    "print(f'min_dist:{min_dist}, n_neighbors:{n_neighbors}')\n",
    "# calc_umap = True\n",
    "if args['calc_umap']:\n",
    "    umapData = calculate_umap(CAll[featureGroup].copy(), n_neighbors, min_dist)\n",
    "    pickle_dump(f'umapData_{figname}', umapData, dir_data)\n",
    "else:\n",
    "    umapData = pickle_load(f'umapData_{figname}', dir_data)\n",
    "drawUMAP(umapData, ['H4'], CAll, settings,\n",
    "         title=f'min_dist = {min_dist}, n_neighbors = {n_neighbors}',\n",
    "         Figname='1_'+figname+'UMAP_(core)')\n"
   ]
  },
  {
   "attachments": {},
   "cell_type": "markdown",
   "metadata": {},
   "source": [
    "### Dbscan and clusters\n"
   ]
  },
  {
   "attachments": {},
   "cell_type": "markdown",
   "metadata": {},
   "source": [
    "Dbscan\n"
   ]
  },
  {
   "cell_type": "code",
   "execution_count": null,
   "metadata": {
    "ExecuteTime": {
     "end_time": "2023-01-16T21:12:56.828220Z",
     "start_time": "2023-01-16T21:12:51.557555Z"
    },
    "execution": {
     "iopub.execute_input": "2023-09-18T15:05:01.044941Z",
     "iopub.status.busy": "2023-09-18T15:05:01.044720Z",
     "iopub.status.idle": "2023-09-18T15:06:09.963319Z",
     "shell.execute_reply": "2023-09-18T15:06:09.962635Z"
    }
   },
   "outputs": [],
   "source": [
    "# labels__ = pickle_load(f'dbLabels_samp14.2a_CellIden+EpiCols_', dir_data) \n",
    "\n",
    "\n",
    "# ind = list(k.index)\n",
    "# ind=np.random.choice(ind, replace = False, size = int(len(ind)/10)) #dilute sub sample so view is sparse\n",
    "# dbscanData, labels, core_samples_mask  = calculate_dbscan(umapData[ind],ind, eps, min_samples)\n",
    "\n",
    "eps, min_samples = getValsCsv(dir_data, vars=[params[group_ind], 'db', j])\n",
    "# eps,min_samples = 0.09,340\n",
    "print(f'{eps}, {min_samples}')\n",
    "\n",
    "dbscanData, labels, core_samples_mask  = calculate_dbscan(umapData,list(k.index), eps, min_samples); k['Clust'] = labels\n",
    "\n",
    "colors = drawDbscan(dbscanData, labels, core_samples_mask, settings,\n",
    "                    title=f'min_samples = {min_samples}, eps = {eps}',\n",
    "                    figname='1_'+figname+'dbscan')\n",
    "pickle_dump(f'dbLabels_{figname}', labels, dir_data);pickle_dump(f'dbColors_{figname}', colors, dir_data)"
   ]
  },
  {
   "cell_type": "markdown",
   "metadata": {},
   "source": [
    "    kmeans"
   ]
  },
  {
   "cell_type": "code",
   "execution_count": null,
   "metadata": {
    "execution": {
     "iopub.execute_input": "2023-09-18T15:06:09.966517Z",
     "iopub.status.busy": "2023-09-18T15:06:09.966301Z",
     "iopub.status.idle": "2023-09-18T15:06:10.011892Z",
     "shell.execute_reply": "2023-09-18T15:06:10.011335Z"
    }
   },
   "outputs": [],
   "source": [
    "\n",
    "\n",
    "if '14.2a' in j and group_ind == 3:\n",
    "    if '_arcsinh' in j:\n",
    "        # high prb\n",
    "        labels = kmeans_fit(np.hstack ((umapData.copy(),CAll[[ 'pRB']].copy()))\n",
    "                            ,n_clusters=2,n_init=10,max_iter=300)\n",
    "        ind,_ = highVal_ind(k,'pRB',labels)\n",
    "\n",
    "        # high CyclinB1\n",
    "        labels1 = kmeans_fit(CAll[['CyclinB1']].loc[ind].copy(),n_clusters=2,n_init=10,max_iter=300)\n",
    "        ind11,ind2 = highVal_ind(k.loc[ind],'CyclinB1',labels1)\n",
    "        labels[ind11] = 2#labels1[ind2]+2\n",
    "\n",
    "        # high H3S28p\n",
    "        labels2 = kmeans_fit(CAll[['H3S28p']].loc[ind].copy(),n_clusters=2,n_init=10,max_iter=300)\n",
    "        ind12,ind2 = highVal_ind(k.loc[ind],'H3S28p',labels2)\n",
    "        labels[ind12] = 3#labels2[ind2]+4\n",
    "\n",
    "        ind13= [i for i in ind12 if i not in ind11]\n",
    "        labels[ind13] = 4\n",
    "        \n",
    "    # load arcsin data\n",
    "      \n",
    "        colors = draw_kmeans(data = umapData.copy(),labels = labels,title='kmeans all clusters',figname='kmeans_all_clusters',settings = settings,\n",
    "                names =['pRB+ not M&G2','pRB- (GO)','pRB+ G2','pRB+ M','pRB+ G2&M']  )\n",
    "    \n",
    "    \n",
    "        labels[ind12] = 2#labels2[ind2]+2\n",
    "        pickle_dump(f'kmeanLabels_{figname}', labels, dir_data)\n",
    "        # pickle_dump(f'kmeanColors_{figname}', colors, dir_data)\n",
    "        labels,labels2 = None,None\n",
    "    names =['not M&G2','pRB- (GO)','M&G2']\n",
    "    labels = pickle_load(f'kmeanLabels_samp_arcsinh14.2a_CellCycle_', dir_data) \n",
    "    # colors = pickle_load(f'kmeanColors_samp_arcsinh14.2a_CellCycle_', dir_data)\n",
    "    colors = draw_kmeans(data = umapData.copy(),labels = labels,title='kmeans all clusters',figname='kmeans_all_clusters1',settings = settings,\n",
    "                names =names)   \n",
    "    \n",
    "    k['Clust'] = [names[l] for l in labels]#labels\n",
    "\n"
   ]
  },
  {
   "cell_type": "code",
   "execution_count": null,
   "metadata": {
    "execution": {
     "iopub.execute_input": "2023-09-18T15:06:10.014833Z",
     "iopub.status.busy": "2023-09-18T15:06:10.014633Z",
     "iopub.status.idle": "2023-09-18T15:06:10.054732Z",
     "shell.execute_reply": "2023-09-18T15:06:10.054085Z"
    }
   },
   "outputs": [],
   "source": [
    "# from plot_functions import *\n",
    " \n",
    "# # colors = draw_kmeans(data = umapData.copy(),labels = labels,title='kmeans all clusters',figname='kmeans_all_clusters1',settings = settings,\n",
    "# #             names =names,crossLabels = [labels__,1,None])\n",
    "\n",
    "# for i in range (3):\n",
    "#     print(i)\n",
    "#     draw_kmeans(data = umapData.copy(),labels = labels,title='kmeans all clusters',figname='kmeans_all_clusters1',settings = settings,\n",
    "#             names =names,crossLabels = [labels__,1,i])\n",
    "\n"
   ]
  },
  {
   "attachments": {},
   "cell_type": "markdown",
   "metadata": {},
   "source": [
    "adjusted dataset\n"
   ]
  },
  {
   "cell_type": "code",
   "execution_count": null,
   "metadata": {
    "execution": {
     "iopub.execute_input": "2023-09-18T15:06:10.057919Z",
     "iopub.status.busy": "2023-09-18T15:06:10.057707Z",
     "iopub.status.idle": "2023-09-18T15:06:10.101781Z",
     "shell.execute_reply": "2023-09-18T15:06:10.101162Z"
    }
   },
   "outputs": [],
   "source": [
    "\n",
    "# create_adjusted = True\n",
    "if ( ('b' in j) or ( '.2' in j)) and group_ind==2 and create_adjusted:\n",
    "    dir_indexes =  '/home/yishai/breast_cancer/indexes/'\n",
    "    kInd = j+'a'\n",
    "    # filter by clusters to remove\n",
    "    clustersToRemove = []  # clusters to remove #1, 3#3,5\n",
    "    # filter by dbscanData\n",
    "    xMin, xMax,yMin, yMax = -2, 2, None, None,\n",
    "\n",
    "    # filter by clusters to remove\n",
    "    idx1 = ~np.zeros_like(labels).astype(bool)\n",
    "    for cluster in clustersToRemove:\n",
    "        idx1 *= ~(labels == cluster)\n",
    "    \n",
    "    # filter by dbscanData\n",
    "    xMin = xMin if xMin is not None else np.min(dbscanData[:,0])\n",
    "    xMax = xMax if xMax is not None else np.max(dbscanData[:,0])\n",
    "    yMin = yMin if yMin is not None else np.min(dbscanData[:,1])\n",
    "    yMax = yMax if yMax is not None else np.max(dbscanData[:,1])\n",
    "    idx2 = (dbscanData[:,0]<xMax)*(dbscanData[:,0]>xMin)*(dbscanData[:,1]<yMax)*(dbscanData[:,1]>yMin)\n",
    "\n",
    "    # indexes to keep\n",
    "    idx = idx1*idx2\n",
    "    idx = np.asarray([i for i, j in enumerate(idx) if j])\n",
    "    newK = k.copy().reset_index(drop = True).loc[idx]\n",
    "    print (f'k{j}; samples = ', len(newK), ', features = ', len(newK.columns),'; saved to file')\n",
    "\n",
    "\n",
    "\n",
    "    colors = drawDbscan(dbscanData[idx], labels[idx], core_samples_mask[idx], settings,\n",
    "                        title=f'min_samples = {min_samples}, eps = {eps}',\n",
    "                        figname='1_'+figname+'dbscan_adjusted')\n",
    "    # plotClusters(newK, umapData[ind], labels[ind], colors, NamesAll, settings,\n",
    "    #              title='Clusters ' + title,\n",
    "    #              figname='1_'+figname+'Clusters_adjusted')\n",
    "\n",
    "    dict = None;dict ={}\n",
    "    dict['k'] = newK.copy()\n",
    "    pickle_dump(f'k{kInd}_dict', dict,dir_data)\n",
    "    pickle_dump(f'k{kInd}_names_dict', names_dict,dir_data)\n",
    "    ind = np.asarray(newK['ind'].copy())   \n",
    "    pickle_dump(f\"{kInd}_indexes\", ind,dir_indexes)\n",
    "    # for kInd in newK['samp'].unique():\n",
    "        \n",
    "    #     newK_ = newK[newK['samp']==kInd].copy()\n",
    "    #     ind = np.asarray(newK_['ind'].copy())\n",
    "    #     kInd = int(kInd) if (kInd!=4.1 and kInd!=7.1) else float(kInd)\n",
    "    #     print(kInd)\n",
    "    #     pickle_dump(f\"{kInd}a_indexes\", ind,dir_indexes)\n",
    "\n",
    "print(len(k))\n",
    "# ;print(len(newK))\n"
   ]
  },
  {
   "attachments": {},
   "cell_type": "markdown",
   "metadata": {},
   "source": [
    "clusters"
   ]
  },
  {
   "attachments": {},
   "cell_type": "markdown",
   "metadata": {},
   "source": [
    "### HeatMap by clusters\n"
   ]
  },
  {
   "cell_type": "code",
   "execution_count": null,
   "metadata": {
    "ExecuteTime": {
     "end_time": "2023-01-16T21:13:14.816792Z",
     "start_time": "2023-01-16T21:13:12.557211Z"
    },
    "execution": {
     "iopub.execute_input": "2023-09-18T15:06:10.104802Z",
     "iopub.status.busy": "2023-09-18T15:06:10.104594Z",
     "iopub.status.idle": "2023-09-18T15:06:10.145910Z",
     "shell.execute_reply": "2023-09-18T15:06:10.145306Z"
    }
   },
   "outputs": [],
   "source": [
    "if args['visualize']:\n",
    "    \n",
    "    for group_name, group in zip(groups[0], groups[1]):       \n",
    "        HeatMap(k[labels != -1], group, settings,clustFeature='Clust',\n",
    "                title='HeatMap ' + title + ': '+group_name,\n",
    "                figname='1_'+figname+'ClustHeatMap_by_'+group_name)\n",
    "    \n"
   ]
  },
  {
   "attachments": {},
   "cell_type": "markdown",
   "metadata": {},
   "source": [
    "specific clusters and features"
   ]
  },
  {
   "cell_type": "code",
   "execution_count": null,
   "metadata": {
    "execution": {
     "iopub.execute_input": "2023-09-18T15:06:10.149062Z",
     "iopub.status.busy": "2023-09-18T15:06:10.148576Z",
     "iopub.status.idle": "2023-09-18T15:06:10.188986Z",
     "shell.execute_reply": "2023-09-18T15:06:10.188404Z"
    }
   },
   "outputs": [],
   "source": [
    "# from plot_functions import *\n",
    "# if args['visualize']:\n",
    "#     clusters =[0,1]\n",
    "#     group_name, group = 'specific_markers', ['H3K9me2', 'H3K4me3','H3K36me3','H4K20me3']\n",
    "#     kk=k.copy()\n",
    "#     # -----------------\n",
    "#     k = k.loc[[True if c in clusters else False for c in k['Clust'] ]]\n",
    "#     HeatMap(k, group, settings,clustFeature='Clust',\n",
    "#     title='HeatMap ' + title + ': '+group_name,\n",
    "#                 figname='1_'+figname+'ClustHeatMap_by_'+group_name)\n",
    "#     # ---------------------\n",
    "#     k=kk.copy()\n",
    "#     kk = None\n",
    "\n"
   ]
  },
  {
   "attachments": {},
   "cell_type": "markdown",
   "metadata": {},
   "source": [
    "### HeatMap by sample\n"
   ]
  },
  {
   "cell_type": "code",
   "execution_count": null,
   "metadata": {
    "execution": {
     "iopub.execute_input": "2023-09-18T15:06:10.192407Z",
     "iopub.status.busy": "2023-09-18T15:06:10.191985Z",
     "iopub.status.idle": "2023-09-18T15:06:10.233299Z",
     "shell.execute_reply": "2023-09-18T15:06:10.232693Z"
    }
   },
   "outputs": [],
   "source": [
    "if args['visualize'] and not singleSample:\n",
    "    for group_name, group in zip(groups[0], groups[1]):\n",
    "    # group_name, group = groups[0][-1], groups[1][-1]\n",
    "        HeatMap(k[labels != -1], group, settings, clustFeature='samp',\n",
    "                title='HeatMap ' + title + ': ' + group_name+' by_sample',\n",
    "                figname='1_'+figname+'SampHeatMap_'+group_name)\n"
   ]
  },
  {
   "attachments": {},
   "cell_type": "markdown",
   "metadata": {},
   "source": [
    "### MeanDist\n"
   ]
  },
  {
   "cell_type": "code",
   "execution_count": null,
   "metadata": {
    "ExecuteTime": {
     "end_time": "2023-01-16T21:13:15.949573Z",
     "start_time": "2023-01-16T21:13:14.820259Z"
    },
    "execution": {
     "iopub.execute_input": "2023-09-18T15:06:10.236464Z",
     "iopub.status.busy": "2023-09-18T15:06:10.236254Z",
     "iopub.status.idle": "2023-09-18T15:06:10.276271Z",
     "shell.execute_reply": "2023-09-18T15:06:10.275646Z"
    }
   },
   "outputs": [],
   "source": [
    "\n",
    "if args['visualize']:\n",
    "    for group_name, group in zip(groups[0], groups[1]):\n",
    "        MeanDist(k[labels == 0], k[labels == 1], group, settings,\n",
    "                title='MeanDist ' + title + ': '+group_name,\n",
    "                figname='1_'+figname+'ClustMeanDist_by_'+group_name)\n"
   ]
  },
  {
   "attachments": {},
   "cell_type": "markdown",
   "metadata": {},
   "source": [
    "## sample percentage\n"
   ]
  },
  {
   "attachments": {},
   "cell_type": "markdown",
   "metadata": {},
   "source": [
    "by sample"
   ]
  },
  {
   "cell_type": "code",
   "execution_count": null,
   "metadata": {
    "ExecuteTime": {
     "end_time": "2023-01-16T21:13:44.808076Z",
     "start_time": "2023-01-16T21:13:15.951592Z"
    },
    "execution": {
     "iopub.execute_input": "2023-09-18T15:06:10.279492Z",
     "iopub.status.busy": "2023-09-18T15:06:10.279084Z",
     "iopub.status.idle": "2023-09-18T15:06:10.320842Z",
     "shell.execute_reply": "2023-09-18T15:06:10.320195Z"
    }
   },
   "outputs": [],
   "source": [
    "# from plot_functions import *\n",
    "if args['visualize'] and not singleSample:\n",
    "    # unique by_sample values\n",
    "    for sampNum in np.unique(k['samp']):\n",
    "        ind_samp = [i for i, j in enumerate(k['samp'] == sampNum) if j]\n",
    "        labels_samp = np.ones(len(ind_samp))*sampNum\n",
    "        drawUMAPbySample(umapData, k, ind_samp, labels_samp, settings,\n",
    "                         title=title+f' UMAP - by_sample={sampNum}',\n",
    "                         Figname='4_'+figname+f'UMAP_sample{sampNum}_by_sample')\n",
    "    arr = []\n",
    "    clustNums = np.unique(k.Clust)\n",
    "    clustNums = clustNums[clustNums != -1]\n",
    "    for clustNum in clustNums:\n",
    "        ind = k.Clust == clustNum\n",
    "        PercentageBySample = ClustPercentageBySample(k[ind], 'samp')\n",
    "\n",
    "        arr.append([clustNum, PercentageBySample])\n",
    "    saveCsv(dir_plots, figname, arr)\n"
   ]
  },
  {
   "attachments": {},
   "cell_type": "markdown",
   "metadata": {},
   "source": [
    "all samples"
   ]
  },
  {
   "cell_type": "code",
   "execution_count": null,
   "metadata": {
    "execution": {
     "iopub.execute_input": "2023-09-18T15:06:10.324084Z",
     "iopub.status.busy": "2023-09-18T15:06:10.323642Z",
     "iopub.status.idle": "2023-09-18T15:06:10.365538Z",
     "shell.execute_reply": "2023-09-18T15:06:10.364917Z"
    }
   },
   "outputs": [],
   "source": [
    "from plot_functions import *\n",
    "\n",
    "\n",
    "if args['visualize'] and not singleSample:\n",
    "    # remove 4.1,7.1 and subsample \n",
    "    uniq = [ i   for i in k['samp'].unique() if i not in [4.1,7.1,8.1]]\n",
    "    ind_samp =[]\n",
    "    for i in uniq:\n",
    "        ind  = k.index.values[k['samp']==i]\n",
    "        ind = list(np.random.choice(ind, replace = False, size = int(20000/len(uniq))))\n",
    "        ind_samp += ind\n",
    "    ind_samp = np.asarray(ind_samp)\n",
    "\n",
    "    # ind_samp =k.index.values[[ True  if i in uniq else False for i in k['samp']]]\n",
    "    # ind_samp=np.random.choice(ind_samp, replace = False, size = int(len(ind_samp)/len(uniq)))\n",
    "    labels_samp = np.asarray(k['samp']).astype(int)[ind_samp]\n",
    "\n",
    "    # ind_samp = k.index.values\n",
    "    # labels_samp = np.asarray(k.by_sample)[ind_samp]\n",
    "\n",
    "\n",
    "    colors_samp = np.zeros((np.max(labels_samp)+2,4))\n",
    "    # hex colors\n",
    "    hex =  ['a6cee3','1f78b4','b2df8a','33a02c','fb9a99','e31a1c','fdbf6f','ff7f00','cab2d6','6a3d9a','ffff99','b15928']\n",
    "    # hex = ['00B3A4','3185FC','DB1374','490092','FEB6DB','F98510','E6C220','BFA180','920000','461A0A', \n",
    "    #        'FF0000','FF00FF',]\n",
    "        #    '00FFFF','0000FF','000080','008000','00FF00',   '808000','800000','800080','808080','C0C0C0','FFFFFF','000000']    \n",
    "    colors_samp[1+np.unique(labels_samp)] = np.asarray([hex_to_rgba(h) for h in hex])[:np.unique(labels_samp).shape[0]]\n",
    "    drawUMAPbySample(umapData, k, ind_samp, labels_samp, settings,colors_samp,backgroundColor = 'white',\n",
    "                        title=title+f' UMAP - by_sample=ALL',\n",
    "                        Figname='4_'+figname+f'UMAP_sampleAll_by_sample')\n",
    " \n"
   ]
  },
  {
   "attachments": {},
   "cell_type": "markdown",
   "metadata": {},
   "source": [
    "by cluster"
   ]
  },
  {
   "cell_type": "code",
   "execution_count": null,
   "metadata": {
    "execution": {
     "iopub.execute_input": "2023-09-18T15:06:10.369168Z",
     "iopub.status.busy": "2023-09-18T15:06:10.368558Z",
     "iopub.status.idle": "2023-09-18T15:06:10.413644Z",
     "shell.execute_reply": "2023-09-18T15:06:10.413010Z"
    }
   },
   "outputs": [],
   "source": [
    "from plot_functions import *\n",
    "if args['visualize'] and not singleSample and 'a' in j:#plot on adjusted\n",
    "    # plt.scatter(umapData[:,0],umapData[:,1],c = 'lightgrey', alpha=0.2,s=2)\n",
    "    uniq = [int(i) if (np.round(i,1) - np.round(i,0)==0) else float(i)  for i in np.unique(k['samp'])]\n",
    "    # print(uniq)\n",
    "    # unique by_sample values\n",
    "    for sampNum in uniq:\n",
    "        # sampNum = uniq[-1]\n",
    "\n",
    "        # ind_umap = [i for i, j in enumerate(k.by_sample == sampNum) if j]\n",
    "        # labels_samp = np.asarray(pickle_load(f'dbLabels_samp{sampNum}_{name}_', dir_data))\n",
    "        \n",
    "        # sample indexs which are the full dataset - filter db labels by it\n",
    "        K = pickle_load(f'k{sampNum}_dict', dir_data)['k'].reset_index(drop=True)\n",
    "        ind_samp = [i for i, j in zip(k['ind'],k['samp'] == sampNum) if j]\n",
    "        ind_samp = [ K.index[K['ind']==i][0] for i in ind_samp ]\n",
    "        K = None\n",
    "        # corresponding indexes in the full data set - where each point in the full umap\n",
    "        ind_umap = [i for i, j in zip(k.index,k['samp'] == sampNum) if j]        \n",
    "        labels_samp = np.asarray(pickle_load(f'dbLabels_samp{sampNum}_{name}_', dir_data))[ind_samp]\n",
    "        # colors_samp = pickle_load(f'dbColors_samp{sampNum}_{name}_', dir_data)\n",
    "        colors_samp = np.vstack(([0,0,0,1],np.asarray(pickle_load(f'dbColors_samp{sampNum}_{name}_', dir_data))))\n",
    "        # pickle_dump(f'dbColors_{figname}', colors, dir_data)\n",
    "\n",
    "        drawUMAPbySample(umapData, k, ind_umap, labels_samp, settings,colors_samp,\n",
    "                         title=title+f' UMAP - by_sample={sampNum} clusters',\n",
    "                         Figname='4_'+figname+f'UMAP_sample{sampNum}_by_sample_clusters')\n",
    "        \n",
    "# [4, 4.1, 5, 7, 7.1, 8, 11, 13, 14, 15]\n"
   ]
  },
  {
   "cell_type": "markdown",
   "metadata": {},
   "source": [
    "14.2_adj"
   ]
  },
  {
   "cell_type": "code",
   "execution_count": null,
   "metadata": {
    "execution": {
     "iopub.execute_input": "2023-09-18T15:06:10.416907Z",
     "iopub.status.busy": "2023-09-18T15:06:10.416687Z",
     "iopub.status.idle": "2023-09-18T15:06:10.459048Z",
     "shell.execute_reply": "2023-09-18T15:06:10.458443Z"
    }
   },
   "outputs": [],
   "source": [
    "from plot_functions import *\n",
    "if '14.2a' in j and group_ind==2:  \n",
    "    # k['kmean_labels'] = pickle_load(f'kmeanLabels_samp{j}_CellCycle_', dir_data).astype(float)\n",
    "    k['kmean_labels'] = pickle_load(f'kmeanLabels_samp_arcsinh14.2a_CellCycle_', dir_data).astype(float)\n",
    "    names =['not M&G2','pRB- (GO)','M&G2']\n",
    "\n",
    "    # colors = draw_kmeans(data = umapData.copy(),labels = labels,title='kmeans all clusters',figname='kmeans_all_clusters',settings = settings,\n",
    "    #             names =['not M&G1','pRB- (GO)','M&G1'])\n",
    "\n",
    "    arr = []\n",
    "    clustNums = np.unique(k.Clust)\n",
    "    clustNums = clustNums[clustNums != -1]\n",
    "    for clustNum in clustNums:\n",
    "        ind = k.Clust == clustNum\n",
    "        PercentageBySample = ClustPercentageBySample(k[ind], 'kmean_labels',names =names)#names =['not M&G2','pRB- (GO)','M&G2']#names = ['pRB+ not M&G2','pRB- (GO)','2','pRB+ G2','4','pRB+ M','pRB+ G2&M']\n",
    "        arr.append([clustNum, PercentageBySample])\n",
    "            \n",
    "\n",
    "\n",
    "    saveCsv(dir_plots, f'{j}_cellcycle_clusters', arr)\n",
    " \n",
    "\n"
   ]
  },
  {
   "cell_type": "code",
   "execution_count": null,
   "metadata": {
    "execution": {
     "iopub.execute_input": "2023-09-18T15:06:10.462313Z",
     "iopub.status.busy": "2023-09-18T15:06:10.462107Z",
     "iopub.status.idle": "2023-09-18T15:06:10.501371Z",
     "shell.execute_reply": "2023-09-18T15:06:10.500770Z"
    }
   },
   "outputs": [],
   "source": [
    "    # for sampNum in clustNums:\n",
    "    #     # sampNum = uniq[-1]\n",
    "\n",
    "    #     # ind_umap = [i for i, j in enumerate(k.by_sample == sampNum) if j]\n",
    "    #     # labels_samp = np.asarray(pickle_load(f'dbLabels_samp{sampNum}_{name}_', dir_data))\n",
    "        \n",
    "    #     # sample indexs which are the full dataset - filter db labels by it\n",
    "    #     # K = pickle_load(f'k{sampNum}_dict', dir_data)['k'].reset_index(drop=True)\n",
    "    #     ind_samp = [i for i, j in zip(k.index,k['Clust'] == sampNum) if j]\n",
    "    #     # corresponding indexes in the full data set - where each point in the full umap\n",
    "    #     labels_samp = np.asarray(k['kmean_labels'])[ind_samp]\n",
    "    #     # colors_samp = pickle_load(f'dbColors_samp{sampNum}_{name}_', dir_data)\n",
    "    #     colors_samp = np.vstack(([0,0,0,1],colors))\n",
    "    #     # pickle_dump(f'dbColors_{figname}', colors, dir_data)\n",
    "\n",
    "    #     drawUMAPbySample(umapData, k, ind_samp, labels_samp, settings,colors_samp,\n",
    "    #                         title=title+f' UMAP - by_sample={sampNum} clusters',\n",
    "    #                         Figname='4_'+figname+f'UMAP_sample{sampNum}_by_sample_clusters')"
   ]
  },
  {
   "attachments": {},
   "cell_type": "markdown",
   "metadata": {},
   "source": [
    "## features on UMAP\n"
   ]
  },
  {
   "attachments": {},
   "cell_type": "markdown",
   "metadata": {},
   "source": [
    "shap"
   ]
  },
  {
   "cell_type": "code",
   "execution_count": null,
   "metadata": {
    "execution": {
     "iopub.execute_input": "2023-09-18T15:06:10.504707Z",
     "iopub.status.busy": "2023-09-18T15:06:10.504178Z",
     "iopub.status.idle": "2023-09-18T15:06:10.543159Z",
     "shell.execute_reply": "2023-09-18T15:06:10.542594Z"
    }
   },
   "outputs": [],
   "source": [
    "# if args['visualize'] and args['plotUMAP']:\n",
    "#     ind = labels !=-1 # drop unclustered rows (clust==-1)\n",
    "#     accuracy = xg_classification_shap(CAll[featureGroup].copy(),labels.copy(),ind,colors,\n",
    "#                                     settings,figname='5_'+figname+'shap')\n",
    "#     print(f\"accuracy {j}_{group_ind}: {accuracy}%\")"
   ]
  },
  {
   "attachments": {},
   "cell_type": "markdown",
   "metadata": {},
   "source": [
    "plot Clusters"
   ]
  },
  {
   "cell_type": "code",
   "execution_count": null,
   "metadata": {
    "execution": {
     "iopub.execute_input": "2023-09-18T15:06:10.546482Z",
     "iopub.status.busy": "2023-09-18T15:06:10.546045Z",
     "iopub.status.idle": "2023-09-18T15:06:10.583068Z",
     "shell.execute_reply": "2023-09-18T15:06:10.582522Z"
    }
   },
   "outputs": [],
   "source": [
    "# if args['visualize'] and args['plotUMAP']:\n",
    "#     plotClusters(k, umapData, labels, colors, NamesAll, settings,\n",
    "#                 title='Clusters ' + title,\n",
    "#                 figname='1_'+figname+'Clusters')"
   ]
  },
  {
   "attachments": {},
   "cell_type": "markdown",
   "metadata": {},
   "source": [
    "plot features on umap "
   ]
  },
  {
   "cell_type": "code",
   "execution_count": null,
   "metadata": {
    "execution": {
     "iopub.execute_input": "2023-09-18T15:06:10.586172Z",
     "iopub.status.busy": "2023-09-18T15:06:10.585748Z",
     "iopub.status.idle": "2023-09-18T15:06:10.624688Z",
     "shell.execute_reply": "2023-09-18T15:06:10.624158Z"
    }
   },
   "outputs": [],
   "source": [
    "if args['visualize'] and args['plotUMAP']:\n",
    "    cols = NamesAll.copy()\n",
    "    # cols = [NamesAll[0]]\n",
    "    for i in  ['CyclinB1', 'pRB','H3S28p','DNA2']:\n",
    "        if i not in cols and i in CAll:\n",
    "            cols.append(i)\n",
    "            # print(f'added {i} to NamesAll')\n",
    "\n",
    "    limits = np.hstack((np.floor([2*x for x in [umapData[:,0].min(),umapData[:,1].min()]])/2,\\\n",
    "                        np.ceil([2*x for x in [umapData[:,0].max(),umapData[:,1].max()]])/2))\n",
    "    ind = k.index\n",
    "    drawUMAP(umapData[ind], cols, CAll.loc[ind], settings,limits = limits,\n",
    "             title='UMAP ' + title,\n",
    "             Figname='2_'+figname+'UMAP_')\n",
    "    \n",
    "    ind = list(ind[k.Clust != -1])#remove unclustered -1\n",
    "    # ind=np.random.choice(ind, replace = False, size = int(len(ind)/4)) #dilute sub sample so view is sparse\n",
    "    drawUMAP(umapData[ind], cols, CAll.loc[ind], settings,limits = limits,\n",
    "            title='UMAP ' + title,\n",
    "            Figname='2_'+figname+'UMAP_without_unclustered(-1)_')\n",
    "    # ['CyclinB1', 'pRB','H3S28p','DNA2']\n"
   ]
  },
  {
   "attachments": {},
   "cell_type": "markdown",
   "metadata": {},
   "source": [
    "## scatter figures\n"
   ]
  },
  {
   "cell_type": "code",
   "execution_count": null,
   "metadata": {
    "execution": {
     "iopub.execute_input": "2023-09-18T15:06:10.627889Z",
     "iopub.status.busy": "2023-09-18T15:06:10.627465Z",
     "iopub.status.idle": "2023-09-18T15:06:10.663311Z",
     "shell.execute_reply": "2023-09-18T15:06:10.662731Z"
    }
   },
   "outputs": [],
   "source": [
    "# if args['visualize']:\n",
    "#     try:\n",
    "#         scatter(k, 'MBD', 'DNA2', title, figname, settings)\n",
    "#     except:\n",
    "#         print('wanted features not in sample')\n",
    "# # k.columns"
   ]
  },
  {
   "attachments": {},
   "cell_type": "markdown",
   "metadata": {},
   "source": [
    "## clear data\n"
   ]
  },
  {
   "cell_type": "code",
   "execution_count": null,
   "metadata": {
    "ExecuteTime": {
     "end_time": "2023-01-16T21:13:44.860070Z",
     "start_time": "2023-01-16T21:13:44.809974Z"
    },
    "execution": {
     "iopub.execute_input": "2023-09-18T15:06:10.666736Z",
     "iopub.status.busy": "2023-09-18T15:06:10.666252Z",
     "iopub.status.idle": "2023-09-18T15:06:10.703088Z",
     "shell.execute_reply": "2023-09-18T15:06:10.702492Z"
    }
   },
   "outputs": [],
   "source": [
    "# dbscanData, umapData,k, CAll,labels = None,None,None,None,None\n",
    "# imList2pdf(dir_plots,j,['CellIden','EpiCols','CellIden+EpiCols'])\n"
   ]
  }
 ],
 "metadata": {
  "kernelspec": {
   "display_name": "torch39",
   "language": "python",
   "name": "python3"
  },
  "language_info": {
   "codemirror_mode": {
    "name": "ipython",
    "version": 3
   },
   "file_extension": ".py",
   "mimetype": "text/x-python",
   "name": "python",
   "nbconvert_exporter": "python",
   "pygments_lexer": "ipython3",
   "version": "3.9.16"
  },
  "toc": {
   "base_numbering": 1,
   "nav_menu": {},
   "number_sections": true,
   "sideBar": true,
   "skip_h1_title": false,
   "title_cell": "Table of Contents",
   "title_sidebar": "Contents",
   "toc_cell": false,
   "toc_position": {},
   "toc_section_display": true,
   "toc_window_display": false
  },
  "varInspector": {
   "cols": {
    "lenName": 16,
    "lenType": 16,
    "lenVar": 40
   },
   "kernels_config": {
    "python": {
     "delete_cmd_postfix": "",
     "delete_cmd_prefix": "del ",
     "library": "var_list.py",
     "varRefreshCmd": "print(var_dic_list())"
    },
    "r": {
     "delete_cmd_postfix": ") ",
     "delete_cmd_prefix": "rm(",
     "library": "var_list.r",
     "varRefreshCmd": "cat(var_dic_list()) "
    }
   },
   "types_to_exclude": [
    "module",
    "function",
    "builtin_function_or_method",
    "instance",
    "_Feature"
   ],
   "window_display": false
  },
  "vscode": {
   "interpreter": {
    "hash": "25238166783bd3667da868d9e05a785eda3f5ca355f77ce9c051267fa7411fd2"
   }
  },
  "widgets": {
   "application/vnd.jupyter.widget-state+json": {
    "state": {
     "06f3414c4d5f457ab2e1dd774ba4c5e7": {
      "model_module": "@jupyter-widgets/base",
      "model_module_version": "1.2.0",
      "model_name": "LayoutModel",
      "state": {
       "_model_module": "@jupyter-widgets/base",
       "_model_module_version": "1.2.0",
       "_model_name": "LayoutModel",
       "_view_count": null,
       "_view_module": "@jupyter-widgets/base",
       "_view_module_version": "1.2.0",
       "_view_name": "LayoutView",
       "align_content": null,
       "align_items": null,
       "align_self": null,
       "border": null,
       "bottom": null,
       "display": null,
       "flex": null,
       "flex_flow": null,
       "grid_area": null,
       "grid_auto_columns": null,
       "grid_auto_flow": null,
       "grid_auto_rows": null,
       "grid_column": null,
       "grid_gap": null,
       "grid_row": null,
       "grid_template_areas": null,
       "grid_template_columns": null,
       "grid_template_rows": null,
       "height": null,
       "justify_content": null,
       "justify_items": null,
       "left": null,
       "margin": null,
       "max_height": null,
       "max_width": null,
       "min_height": null,
       "min_width": null,
       "object_fit": null,
       "object_position": null,
       "order": null,
       "overflow": null,
       "overflow_x": null,
       "overflow_y": null,
       "padding": null,
       "right": null,
       "top": null,
       "visibility": null,
       "width": null
      }
     },
     "0e308bf6b7e14767b7ca9b2f922109b6": {
      "model_module": "@jupyter-widgets/base",
      "model_module_version": "1.2.0",
      "model_name": "LayoutModel",
      "state": {
       "_model_module": "@jupyter-widgets/base",
       "_model_module_version": "1.2.0",
       "_model_name": "LayoutModel",
       "_view_count": null,
       "_view_module": "@jupyter-widgets/base",
       "_view_module_version": "1.2.0",
       "_view_name": "LayoutView",
       "align_content": null,
       "align_items": null,
       "align_self": null,
       "border": null,
       "bottom": null,
       "display": null,
       "flex": null,
       "flex_flow": null,
       "grid_area": null,
       "grid_auto_columns": null,
       "grid_auto_flow": null,
       "grid_auto_rows": null,
       "grid_column": null,
       "grid_gap": null,
       "grid_row": null,
       "grid_template_areas": null,
       "grid_template_columns": null,
       "grid_template_rows": null,
       "height": null,
       "justify_content": null,
       "justify_items": null,
       "left": null,
       "margin": null,
       "max_height": null,
       "max_width": null,
       "min_height": null,
       "min_width": null,
       "object_fit": null,
       "object_position": null,
       "order": null,
       "overflow": null,
       "overflow_x": null,
       "overflow_y": null,
       "padding": null,
       "right": null,
       "top": null,
       "visibility": null,
       "width": null
      }
     },
     "16b218ae6a1d42d6ba3bcd3cd51868f8": {
      "model_module": "@jupyter-widgets/controls",
      "model_module_version": "1.5.0",
      "model_name": "HTMLModel",
      "state": {
       "_dom_classes": [],
       "_model_module": "@jupyter-widgets/controls",
       "_model_module_version": "1.5.0",
       "_model_name": "HTMLModel",
       "_view_count": null,
       "_view_module": "@jupyter-widgets/controls",
       "_view_module_version": "1.5.0",
       "_view_name": "HTMLView",
       "description": "",
       "description_tooltip": null,
       "layout": "IPY_MODEL_aa45da7e6f8d4978bcad0c6964dcdb45",
       "placeholder": "​",
       "style": "IPY_MODEL_963d770fa92546d2a2fee9963eea7ed9",
       "value": ""
      }
     },
     "23ddbb67697740dd8427d88ad1de2907": {
      "model_module": "@jupyter-widgets/base",
      "model_module_version": "1.2.0",
      "model_name": "LayoutModel",
      "state": {
       "_model_module": "@jupyter-widgets/base",
       "_model_module_version": "1.2.0",
       "_model_name": "LayoutModel",
       "_view_count": null,
       "_view_module": "@jupyter-widgets/base",
       "_view_module_version": "1.2.0",
       "_view_name": "LayoutView",
       "align_content": null,
       "align_items": null,
       "align_self": null,
       "border": null,
       "bottom": null,
       "display": null,
       "flex": null,
       "flex_flow": null,
       "grid_area": null,
       "grid_auto_columns": null,
       "grid_auto_flow": null,
       "grid_auto_rows": null,
       "grid_column": null,
       "grid_gap": null,
       "grid_row": null,
       "grid_template_areas": null,
       "grid_template_columns": null,
       "grid_template_rows": null,
       "height": null,
       "justify_content": null,
       "justify_items": null,
       "left": null,
       "margin": null,
       "max_height": null,
       "max_width": null,
       "min_height": null,
       "min_width": null,
       "object_fit": null,
       "object_position": null,
       "order": null,
       "overflow": null,
       "overflow_x": null,
       "overflow_y": null,
       "padding": null,
       "right": null,
       "top": null,
       "visibility": null,
       "width": null
      }
     },
     "38a56b43ec4f4532a81de796e66e72d5": {
      "model_module": "@jupyter-widgets/base",
      "model_module_version": "1.2.0",
      "model_name": "LayoutModel",
      "state": {
       "_model_module": "@jupyter-widgets/base",
       "_model_module_version": "1.2.0",
       "_model_name": "LayoutModel",
       "_view_count": null,
       "_view_module": "@jupyter-widgets/base",
       "_view_module_version": "1.2.0",
       "_view_name": "LayoutView",
       "align_content": null,
       "align_items": null,
       "align_self": null,
       "border": null,
       "bottom": null,
       "display": null,
       "flex": null,
       "flex_flow": null,
       "grid_area": null,
       "grid_auto_columns": null,
       "grid_auto_flow": null,
       "grid_auto_rows": null,
       "grid_column": null,
       "grid_gap": null,
       "grid_row": null,
       "grid_template_areas": null,
       "grid_template_columns": null,
       "grid_template_rows": null,
       "height": null,
       "justify_content": null,
       "justify_items": null,
       "left": null,
       "margin": null,
       "max_height": null,
       "max_width": null,
       "min_height": null,
       "min_width": null,
       "object_fit": null,
       "object_position": null,
       "order": null,
       "overflow": null,
       "overflow_x": null,
       "overflow_y": null,
       "padding": null,
       "right": null,
       "top": null,
       "visibility": null,
       "width": null
      }
     },
     "427df8bd34524867883d56842e1e3206": {
      "model_module": "@jupyter-widgets/controls",
      "model_module_version": "1.5.0",
      "model_name": "HTMLModel",
      "state": {
       "_dom_classes": [],
       "_model_module": "@jupyter-widgets/controls",
       "_model_module_version": "1.5.0",
       "_model_name": "HTMLModel",
       "_view_count": null,
       "_view_module": "@jupyter-widgets/controls",
       "_view_module_version": "1.5.0",
       "_view_name": "HTMLView",
       "description": "",
       "description_tooltip": null,
       "layout": "IPY_MODEL_aa45da7e6f8d4978bcad0c6964dcdb45",
       "placeholder": "​",
       "style": "IPY_MODEL_963d770fa92546d2a2fee9963eea7ed9",
       "value": "Epochs completed: 100%| "
      }
     },
     "46cfb27490464fb9bb8bbb4736e996d4": {
      "model_module": "@jupyter-widgets/controls",
      "model_module_version": "1.5.0",
      "model_name": "HBoxModel",
      "state": {
       "_dom_classes": [],
       "_model_module": "@jupyter-widgets/controls",
       "_model_module_version": "1.5.0",
       "_model_name": "HBoxModel",
       "_view_count": null,
       "_view_module": "@jupyter-widgets/controls",
       "_view_module_version": "1.5.0",
       "_view_name": "HBoxView",
       "box_style": "",
       "children": [
        "IPY_MODEL_427df8bd34524867883d56842e1e3206",
        "IPY_MODEL_57d7b943af584f85910737c463e86a22",
        "IPY_MODEL_fee3a2bc0026498caeed56ad392aa786"
       ],
       "layout": "IPY_MODEL_23ddbb67697740dd8427d88ad1de2907"
      }
     },
     "57d7b943af584f85910737c463e86a22": {
      "model_module": "@jupyter-widgets/controls",
      "model_module_version": "1.5.0",
      "model_name": "FloatProgressModel",
      "state": {
       "_dom_classes": [],
       "_model_module": "@jupyter-widgets/controls",
       "_model_module_version": "1.5.0",
       "_model_name": "FloatProgressModel",
       "_view_count": null,
       "_view_module": "@jupyter-widgets/controls",
       "_view_module_version": "1.5.0",
       "_view_name": "ProgressView",
       "bar_style": "success",
       "description": "",
       "description_tooltip": null,
       "layout": "IPY_MODEL_d4a865f2f6c148269ed582fb91283abe",
       "max": 200,
       "min": 0,
       "orientation": "horizontal",
       "style": "IPY_MODEL_625b7d51d5cb411dafd11d646d716ad7",
       "value": 200
      }
     },
     "625b7d51d5cb411dafd11d646d716ad7": {
      "model_module": "@jupyter-widgets/controls",
      "model_module_version": "1.5.0",
      "model_name": "ProgressStyleModel",
      "state": {
       "_model_module": "@jupyter-widgets/controls",
       "_model_module_version": "1.5.0",
       "_model_name": "ProgressStyleModel",
       "_view_count": null,
       "_view_module": "@jupyter-widgets/base",
       "_view_module_version": "1.2.0",
       "_view_name": "StyleView",
       "bar_color": null,
       "description_width": ""
      }
     },
     "6fa86c373c244ff083ddc97daa29d88c": {
      "model_module": "@jupyter-widgets/base",
      "model_module_version": "1.2.0",
      "model_name": "LayoutModel",
      "state": {
       "_model_module": "@jupyter-widgets/base",
       "_model_module_version": "1.2.0",
       "_model_name": "LayoutModel",
       "_view_count": null,
       "_view_module": "@jupyter-widgets/base",
       "_view_module_version": "1.2.0",
       "_view_name": "LayoutView",
       "align_content": null,
       "align_items": null,
       "align_self": null,
       "border": null,
       "bottom": null,
       "display": null,
       "flex": null,
       "flex_flow": null,
       "grid_area": null,
       "grid_auto_columns": null,
       "grid_auto_flow": null,
       "grid_auto_rows": null,
       "grid_column": null,
       "grid_gap": null,
       "grid_row": null,
       "grid_template_areas": null,
       "grid_template_columns": null,
       "grid_template_rows": null,
       "height": null,
       "justify_content": null,
       "justify_items": null,
       "left": null,
       "margin": null,
       "max_height": null,
       "max_width": null,
       "min_height": null,
       "min_width": null,
       "object_fit": null,
       "object_position": null,
       "order": null,
       "overflow": null,
       "overflow_x": null,
       "overflow_y": null,
       "padding": null,
       "right": null,
       "top": null,
       "visibility": null,
       "width": null
      }
     },
     "949c7d826b77466abe9f4a1b121983c4": {
      "model_module": "@jupyter-widgets/controls",
      "model_module_version": "1.5.0",
      "model_name": "HBoxModel",
      "state": {
       "_dom_classes": [],
       "_model_module": "@jupyter-widgets/controls",
       "_model_module_version": "1.5.0",
       "_model_name": "HBoxModel",
       "_view_count": null,
       "_view_module": "@jupyter-widgets/controls",
       "_view_module_version": "1.5.0",
       "_view_name": "HBoxView",
       "box_style": "",
       "children": [
        "IPY_MODEL_427df8bd34524867883d56842e1e3206",
        "IPY_MODEL_57d7b943af584f85910737c463e86a22",
        "IPY_MODEL_fee3a2bc0026498caeed56ad392aa786"
       ],
       "layout": "IPY_MODEL_23ddbb67697740dd8427d88ad1de2907"
      }
     },
     "95ea8ad6033d42f8a92123fe913b196c": {
      "model_module": "@jupyter-widgets/controls",
      "model_module_version": "1.5.0",
      "model_name": "DescriptionStyleModel",
      "state": {
       "_model_module": "@jupyter-widgets/controls",
       "_model_module_version": "1.5.0",
       "_model_name": "DescriptionStyleModel",
       "_view_count": null,
       "_view_module": "@jupyter-widgets/base",
       "_view_module_version": "1.2.0",
       "_view_name": "StyleView",
       "description_width": ""
      }
     },
     "963d770fa92546d2a2fee9963eea7ed9": {
      "model_module": "@jupyter-widgets/controls",
      "model_module_version": "1.5.0",
      "model_name": "DescriptionStyleModel",
      "state": {
       "_model_module": "@jupyter-widgets/controls",
       "_model_module_version": "1.5.0",
       "_model_name": "DescriptionStyleModel",
       "_view_count": null,
       "_view_module": "@jupyter-widgets/base",
       "_view_module_version": "1.2.0",
       "_view_name": "StyleView",
       "description_width": ""
      }
     },
     "aa45da7e6f8d4978bcad0c6964dcdb45": {
      "model_module": "@jupyter-widgets/base",
      "model_module_version": "1.2.0",
      "model_name": "LayoutModel",
      "state": {
       "_model_module": "@jupyter-widgets/base",
       "_model_module_version": "1.2.0",
       "_model_name": "LayoutModel",
       "_view_count": null,
       "_view_module": "@jupyter-widgets/base",
       "_view_module_version": "1.2.0",
       "_view_name": "LayoutView",
       "align_content": null,
       "align_items": null,
       "align_self": null,
       "border": null,
       "bottom": null,
       "display": null,
       "flex": null,
       "flex_flow": null,
       "grid_area": null,
       "grid_auto_columns": null,
       "grid_auto_flow": null,
       "grid_auto_rows": null,
       "grid_column": null,
       "grid_gap": null,
       "grid_row": null,
       "grid_template_areas": null,
       "grid_template_columns": null,
       "grid_template_rows": null,
       "height": null,
       "justify_content": null,
       "justify_items": null,
       "left": null,
       "margin": null,
       "max_height": null,
       "max_width": null,
       "min_height": null,
       "min_width": null,
       "object_fit": null,
       "object_position": null,
       "order": null,
       "overflow": null,
       "overflow_x": null,
       "overflow_y": null,
       "padding": null,
       "right": null,
       "top": null,
       "visibility": null,
       "width": null
      }
     },
     "aad6dc98a1ed4bb197b6a981b548ccd6": {
      "model_module": "@jupyter-widgets/controls",
      "model_module_version": "1.5.0",
      "model_name": "FloatProgressModel",
      "state": {
       "_dom_classes": [],
       "_model_module": "@jupyter-widgets/controls",
       "_model_module_version": "1.5.0",
       "_model_name": "FloatProgressModel",
       "_view_count": null,
       "_view_module": "@jupyter-widgets/controls",
       "_view_module_version": "1.5.0",
       "_view_name": "ProgressView",
       "bar_style": "",
       "description": "",
       "description_tooltip": null,
       "layout": "IPY_MODEL_d4a865f2f6c148269ed582fb91283abe",
       "max": 200,
       "min": 0,
       "orientation": "horizontal",
       "style": "IPY_MODEL_625b7d51d5cb411dafd11d646d716ad7",
       "value": 0
      }
     },
     "b9a850f8718b42ba970dadbbcafa7e2a": {
      "model_module": "@jupyter-widgets/controls",
      "model_module_version": "1.5.0",
      "model_name": "ProgressStyleModel",
      "state": {
       "_model_module": "@jupyter-widgets/controls",
       "_model_module_version": "1.5.0",
       "_model_name": "ProgressStyleModel",
       "_view_count": null,
       "_view_module": "@jupyter-widgets/base",
       "_view_module_version": "1.2.0",
       "_view_name": "StyleView",
       "bar_color": null,
       "description_width": ""
      }
     },
     "cfd5aba4761e4aac8a6a4e8e0492bdf9": {
      "model_module": "@jupyter-widgets/controls",
      "model_module_version": "1.5.0",
      "model_name": "HTMLModel",
      "state": {
       "_dom_classes": [],
       "_model_module": "@jupyter-widgets/controls",
       "_model_module_version": "1.5.0",
       "_model_name": "HTMLModel",
       "_view_count": null,
       "_view_module": "@jupyter-widgets/controls",
       "_view_module_version": "1.5.0",
       "_view_name": "HTMLView",
       "description": "",
       "description_tooltip": null,
       "layout": "IPY_MODEL_06f3414c4d5f457ab2e1dd774ba4c5e7",
       "placeholder": "​",
       "style": "IPY_MODEL_f058f060d3d9425d9e6e9690972c9f72",
       "value": ""
      }
     },
     "d4a865f2f6c148269ed582fb91283abe": {
      "model_module": "@jupyter-widgets/base",
      "model_module_version": "1.2.0",
      "model_name": "LayoutModel",
      "state": {
       "_model_module": "@jupyter-widgets/base",
       "_model_module_version": "1.2.0",
       "_model_name": "LayoutModel",
       "_view_count": null,
       "_view_module": "@jupyter-widgets/base",
       "_view_module_version": "1.2.0",
       "_view_name": "LayoutView",
       "align_content": null,
       "align_items": null,
       "align_self": null,
       "border": null,
       "bottom": null,
       "display": null,
       "flex": null,
       "flex_flow": null,
       "grid_area": null,
       "grid_auto_columns": null,
       "grid_auto_flow": null,
       "grid_auto_rows": null,
       "grid_column": null,
       "grid_gap": null,
       "grid_row": null,
       "grid_template_areas": null,
       "grid_template_columns": null,
       "grid_template_rows": null,
       "height": null,
       "justify_content": null,
       "justify_items": null,
       "left": null,
       "margin": null,
       "max_height": null,
       "max_width": null,
       "min_height": null,
       "min_width": null,
       "object_fit": null,
       "object_position": null,
       "order": null,
       "overflow": null,
       "overflow_x": null,
       "overflow_y": null,
       "padding": null,
       "right": null,
       "top": null,
       "visibility": null,
       "width": null
      }
     },
     "d5769f486e444416a006125b986d1e9f": {
      "model_module": "@jupyter-widgets/controls",
      "model_module_version": "1.5.0",
      "model_name": "DescriptionStyleModel",
      "state": {
       "_model_module": "@jupyter-widgets/controls",
       "_model_module_version": "1.5.0",
       "_model_name": "DescriptionStyleModel",
       "_view_count": null,
       "_view_module": "@jupyter-widgets/base",
       "_view_module_version": "1.2.0",
       "_view_name": "StyleView",
       "description_width": ""
      }
     },
     "f058f060d3d9425d9e6e9690972c9f72": {
      "model_module": "@jupyter-widgets/controls",
      "model_module_version": "1.5.0",
      "model_name": "DescriptionStyleModel",
      "state": {
       "_model_module": "@jupyter-widgets/controls",
       "_model_module_version": "1.5.0",
       "_model_name": "DescriptionStyleModel",
       "_view_count": null,
       "_view_module": "@jupyter-widgets/base",
       "_view_module_version": "1.2.0",
       "_view_name": "StyleView",
       "description_width": ""
      }
     },
     "f68112b4b5b94e1691a2c745051ef98e": {
      "model_module": "@jupyter-widgets/base",
      "model_module_version": "1.2.0",
      "model_name": "LayoutModel",
      "state": {
       "_model_module": "@jupyter-widgets/base",
       "_model_module_version": "1.2.0",
       "_model_name": "LayoutModel",
       "_view_count": null,
       "_view_module": "@jupyter-widgets/base",
       "_view_module_version": "1.2.0",
       "_view_name": "LayoutView",
       "align_content": null,
       "align_items": null,
       "align_self": null,
       "border": null,
       "bottom": null,
       "display": null,
       "flex": null,
       "flex_flow": null,
       "grid_area": null,
       "grid_auto_columns": null,
       "grid_auto_flow": null,
       "grid_auto_rows": null,
       "grid_column": null,
       "grid_gap": null,
       "grid_row": null,
       "grid_template_areas": null,
       "grid_template_columns": null,
       "grid_template_rows": null,
       "height": null,
       "justify_content": null,
       "justify_items": null,
       "left": null,
       "margin": null,
       "max_height": null,
       "max_width": null,
       "min_height": null,
       "min_width": null,
       "object_fit": null,
       "object_position": null,
       "order": null,
       "overflow": null,
       "overflow_x": null,
       "overflow_y": null,
       "padding": null,
       "right": null,
       "top": null,
       "visibility": null,
       "width": null
      }
     },
     "fee3a2bc0026498caeed56ad392aa786": {
      "model_module": "@jupyter-widgets/controls",
      "model_module_version": "1.5.0",
      "model_name": "HTMLModel",
      "state": {
       "_dom_classes": [],
       "_model_module": "@jupyter-widgets/controls",
       "_model_module_version": "1.5.0",
       "_model_name": "HTMLModel",
       "_view_count": null,
       "_view_module": "@jupyter-widgets/controls",
       "_view_module_version": "1.5.0",
       "_view_name": "HTMLView",
       "description": "",
       "description_tooltip": null,
       "layout": "IPY_MODEL_06f3414c4d5f457ab2e1dd774ba4c5e7",
       "placeholder": "​",
       "style": "IPY_MODEL_f058f060d3d9425d9e6e9690972c9f72",
       "value": " 200/200 [00:05]"
      }
     }
    },
    "version_major": 2,
    "version_minor": 0
   }
  }
 },
 "nbformat": 4,
 "nbformat_minor": 4
}
