{
 "cells": [
  {
   "attachments": {},
   "cell_type": "markdown",
   "metadata": {},
   "source": [
    "# Load and initialize\n"
   ]
  },
  {
   "attachments": {},
   "cell_type": "markdown",
   "metadata": {},
   "source": [
    "settings\n"
   ]
  },
  {
   "cell_type": "code",
   "execution_count": 4,
   "metadata": {
    "ExecuteTime": {
     "end_time": "2023-01-16T21:12:28.925237Z",
     "start_time": "2023-01-16T21:12:28.891068Z"
    },
    "execution": {
     "iopub.execute_input": "2023-06-26T19:10:10.042936Z",
     "iopub.status.busy": "2023-06-26T19:10:10.042462Z",
     "iopub.status.idle": "2023-06-26T19:10:10.049207Z",
     "shell.execute_reply": "2023-06-26T19:10:10.048672Z"
    }
   },
   "outputs": [],
   "source": [
    "# sample number\n",
    "\n",
    "j = '4.1'\n",
    "# j = 'b23ad'\n",
    "group_ind = 2\n",
    "dir_data1 = 'Data_'\n",
    "\n",
    "# n_samples = 10000\n",
    "\n",
    "\n",
    "\n",
    "args = {\n",
    "        'visualize':True,'plotUMAP' : True,\n",
    "        # show figures in notebook\n",
    "        'show' : False, 'saveSVG' :False,\n",
    "        # create visualization (umap, dbscan are always shown)\n",
    "        'calc_umap' : False\n",
    "        }"
   ]
  },
  {
   "attachments": {},
   "cell_type": "markdown",
   "metadata": {},
   "source": [
    "envirement\n"
   ]
  },
  {
   "cell_type": "code",
   "execution_count": 5,
   "metadata": {
    "ExecuteTime": {
     "end_time": "2023-01-16T21:12:28.990551Z",
     "start_time": "2023-01-16T21:12:28.927491Z"
    },
    "execution": {
     "iopub.execute_input": "2023-06-26T19:10:10.052135Z",
     "iopub.status.busy": "2023-06-26T19:10:10.051695Z",
     "iopub.status.idle": "2023-06-26T19:10:12.609325Z",
     "shell.execute_reply": "2023-06-26T19:10:12.608348Z"
    }
   },
   "outputs": [
    {
     "name": "stdout",
     "output_type": "stream",
     "text": [
      "The autoreload extension is already loaded. To reload it, use:\n",
      "  %reload_ext autoreload\n"
     ]
    }
   ],
   "source": [
    "\n",
    "from tqdm import tqdm_notebook, tqdm\n",
    "import datetime\n",
    "\n",
    "import pandas as pd\n",
    "from matplotlib.pyplot import rc_context\n",
    "import matplotlib.pyplot as plt\n",
    "import numpy as np\n",
    "from IPython.display import Image, display\n",
    "import sys\n",
    "import pathlib\n",
    "import os\n",
    "\n",
    "import time\n",
    "start = time.process_time()\n",
    "date = datetime.date.today().strftime(\"%d%m%Y\")\n",
    "# import time\n",
    "\n",
    "# import matplotlib\n",
    "\n",
    "plt.rcParams[\"figure.figsize\"] = (5.0, 4.0)  # Set default size of plots.\n",
    "plt.rcParams[\"image.interpolation\"] = \"nearest\"\n",
    "plt.rcParams[\"image.cmap\"] = \"gray\"\n",
    "%matplotlib inline\n",
    "\n",
    "pd.set_option('display.max_rows', 500)\n",
    "pd.set_option('display.max_columns', 500)\n",
    "pd.set_option('display.width', 180)  # according to screen width\n",
    "# from pandas.core.base import PandasObject\n",
    "# PandasObject.view = view #allows view meth pd.view\n",
    "\n",
    "# from scipy import signal, stats\n",
    "# import seaborn as sns\n",
    "\n",
    "# from sklearn import metrics\n",
    "\n",
    "# from sklearn.preprocessing import StandardScaler, KBinsDiscretizer\n",
    "# from sklearn.metrics import silhouette_samples,silhouette_score\n",
    "# from sklearn.neighbors import kneighbors_graph\n",
    "\n",
    "# from lmfit import minimize, Parameters\n",
    "\n",
    "\n",
    "parent_dir = os.path.abspath(os.path.join(os.getcwd(), os.pardir))\n",
    "\n",
    "sys.path.append(parent_dir+'/functions/')\n",
    "\n",
    "# from epinuc import *\n",
    "from usefull_functions import *\n",
    "from functions import *\n",
    "from plot_functions import *\n",
    "from clustering_functions import *\n",
    "from xg_shap import *    \n",
    "\n",
    "\n",
    "%load_ext autoreload\n",
    "%autoreload 2\n",
    "%reload_ext autoreload\n",
    "%autoreload 2\n",
    "\n",
    "\n",
    "# TF_ENABLE_ONEDNN_OPTS=0\n"
   ]
  },
  {
   "attachments": {},
   "cell_type": "markdown",
   "metadata": {},
   "source": [
    "load data; normalized (CD45-)\n"
   ]
  },
  {
   "cell_type": "code",
   "execution_count": 7,
   "metadata": {
    "ExecuteTime": {
     "end_time": "2023-01-16T21:12:29.090540Z",
     "start_time": "2023-01-16T21:12:28.992321Z"
    },
    "execution": {
     "iopub.execute_input": "2023-06-26T19:10:12.613058Z",
     "iopub.status.busy": "2023-06-26T19:10:12.612446Z",
     "iopub.status.idle": "2023-06-26T19:10:12.662178Z",
     "shell.execute_reply": "2023-06-26T19:10:12.661471Z"
    }
   },
   "outputs": [],
   "source": [
    "j, group_ind, dir_data1,args = getJ(j, group_ind, dir_data1,args)\n",
    "\n",
    "\n",
    "\n",
    "dir_data = os.path.abspath(os.path.join(    parent_dir, os.pardir))+f'/{dir_data1}/'\n",
    "dir_plots = os.path.abspath(os.path.join(\n",
    "    parent_dir, os.pardir))+f'/_sample_{j}_{dir_data1}_{date}/'\n",
    "folderExists(dir_plots)\n",
    "settings = (dir_plots, show, saveSVG)\n",
    "\n",
    "if 'b' not in j:\n",
    "    singleSample = True\n",
    "else:\n",
    "    singleSample = False\n",
    "print(f'singleSample is: {singleSample}')\n",
    "\n",
    "# k_orig = pickle_load('k'+j+'_dict',dir_data )['k']\n",
    "# k = k_orig.copy()\n",
    "# CAll=pd.concat([k]).copy()\n",
    "\n",
    "k = pickle_load('k'+j+'_dict', dir_data)['k']\n",
    "CAll = pd.concat([k.copy()])\n",
    "print(len(k))\n",
    "\n",
    "\n",
    "names_dict = pickle_load('k'+j+'_names_dict', dir_data)\n",
    "NamesAll = names_dict['NamesAll']\n",
    "CellIden = names_dict['CellIden']\n",
    "EpiCols = names_dict['EpiCols']\n",
    "Core = names_dict['Core']\n",
    "CellIden_EpiCols = CellIden + EpiCols\n",
    "# dict = None\n",
    "\n",
    "groups = [['CellIden', 'EpiCols', 'CellIden+EpiCols'],\n",
    "          [CellIden, EpiCols, CellIden_EpiCols]]\n",
    "\n",
    "names = [[f'samp{j}_CellIden_', f'samp{j} CellIden Based'],\n",
    "         [f'samp{j}_EpiCols_', f'samp{j} EpiCols Based'],\n",
    "         [f'samp{j}_CellIden+EpiCols_', f'samp{j} CellIden+EpiCols Based']]\n",
    "\n",
    "params = ['iden', 'epi', 'all']\n"
   ]
  },
  {
   "attachments": {},
   "cell_type": "markdown",
   "metadata": {},
   "source": [
    "Visualize data\n",
    "\n",
    "no point to print data.describe() as it is whitened (std~1, mean~0)\n"
   ]
  },
  {
   "cell_type": "code",
   "execution_count": 4,
   "metadata": {
    "ExecuteTime": {
     "end_time": "2023-01-16T21:12:29.142002Z",
     "start_time": "2023-01-16T21:12:29.092846Z"
    },
    "execution": {
     "iopub.execute_input": "2023-06-26T19:10:12.665408Z",
     "iopub.status.busy": "2023-06-26T19:10:12.664953Z",
     "iopub.status.idle": "2023-06-26T19:10:12.706803Z",
     "shell.execute_reply": "2023-06-26T19:10:12.706121Z"
    }
   },
   "outputs": [],
   "source": [
    "# if show:\n",
    "\n",
    "#     for features in [NamesAll,Core,CellIden,EpiCols,CellIden_EpiCols]:\n",
    "#         print(len(features))\n",
    "#         print(features)\n"
   ]
  },
  {
   "attachments": {},
   "cell_type": "markdown",
   "metadata": {
    "tags": []
   },
   "source": [
    "# Cell Identity\n"
   ]
  },
  {
   "cell_type": "code",
   "execution_count": 5,
   "metadata": {
    "ExecuteTime": {
     "end_time": "2023-01-16T21:12:29.193413Z",
     "start_time": "2023-01-16T21:12:29.143651Z"
    },
    "execution": {
     "iopub.execute_input": "2023-06-26T19:10:12.710570Z",
     "iopub.status.busy": "2023-06-26T19:10:12.710101Z",
     "iopub.status.idle": "2023-06-26T19:10:12.752916Z",
     "shell.execute_reply": "2023-06-26T19:10:12.752180Z"
    }
   },
   "outputs": [
    {
     "name": "stdout",
     "output_type": "stream",
     "text": [
      "CellIden samp4.1 CellIden Based samp4.1_CellIden_\n"
     ]
    }
   ],
   "source": [
    "\n",
    "figname, title = names[group_ind]\n",
    "name, featureGroup = groups[0][group_ind], groups[1][group_ind]\n",
    "print(name, title, figname)\n"
   ]
  },
  {
   "attachments": {},
   "cell_type": "markdown",
   "metadata": {},
   "source": [
    "### UMAP\n",
    "\n",
    "plot for each feature according to its intensity\n"
   ]
  },
  {
   "cell_type": "code",
   "execution_count": 6,
   "metadata": {
    "ExecuteTime": {
     "end_time": "2023-01-16T21:12:51.555507Z",
     "start_time": "2023-01-16T21:12:29.195357Z"
    },
    "execution": {
     "iopub.execute_input": "2023-06-26T19:10:12.756205Z",
     "iopub.status.busy": "2023-06-26T19:10:12.755670Z",
     "iopub.status.idle": "2023-06-26T19:10:13.130134Z",
     "shell.execute_reply": "2023-06-26T19:10:13.129424Z"
    }
   },
   "outputs": [
    {
     "name": "stdout",
     "output_type": "stream",
     "text": [
      "min_dist:0.1, n_neighbors:10\n",
      "umapData_samp4.1_CellIden_ ; loaded from file\n"
     ]
    }
   ],
   "source": [
    "\n",
    "min_dist, n_neighbors = getValsCsv(    dir_data, vars=[params[group_ind], 'umap', j])\n",
    "# min_dist, n_neighbors = 0.02,10\n",
    "print(f'min_dist:{min_dist}, n_neighbors:{n_neighbors}')\n",
    "# calc_umap = True\n",
    "if calc_umap:\n",
    "    umapData = calculate_umap(CAll[featureGroup].copy(), n_neighbors, min_dist)\n",
    "    pickle_dump(f'umapData_{figname}', umapData, dir_data)\n",
    "else:\n",
    "    umapData = pickle_load(f'umapData_{figname}', dir_data)\n",
    "drawUMAP(umapData, ['H4'], CAll, settings,\n",
    "         title=f'min_dist = {min_dist}, n_neighbors = {n_neighbors}',\n",
    "         Figname='1_'+figname+'UMAP_(core)')\n"
   ]
  },
  {
   "cell_type": "code",
   "execution_count": null,
   "metadata": {},
   "outputs": [],
   "source": []
  },
  {
   "attachments": {},
   "cell_type": "markdown",
   "metadata": {},
   "source": [
    "### Dbscan and clusters\n"
   ]
  },
  {
   "attachments": {},
   "cell_type": "markdown",
   "metadata": {},
   "source": [
    "Dbscan\n"
   ]
  },
  {
   "cell_type": "code",
   "execution_count": 7,
   "metadata": {
    "ExecuteTime": {
     "end_time": "2023-01-16T21:12:56.828220Z",
     "start_time": "2023-01-16T21:12:51.557555Z"
    },
    "execution": {
     "iopub.execute_input": "2023-06-26T19:10:13.133952Z",
     "iopub.status.busy": "2023-06-26T19:10:13.133504Z",
     "iopub.status.idle": "2023-06-26T19:10:13.689371Z",
     "shell.execute_reply": "2023-06-26T19:10:13.688345Z"
    }
   },
   "outputs": [
    {
     "name": "stdout",
     "output_type": "stream",
     "text": [
      "0.19 70\n",
      "Estimated number of clusters: 6\n",
      "Estimated number of noise points: 821\n",
      "Silhouette Coefficient: 0.191\n"
     ]
    }
   ],
   "source": [
    "\n",
    "eps, min_samples = getValsCsv(dir_data, vars=[params[group_ind], 'db', j])\n",
    "# eps,min_samples = 0.12,180\n",
    "print(eps, min_samples)\n",
    "\n",
    "dbscanData, labels, core_samples_mask  = calculate_dbscan(umapData,list(k.index), eps, min_samples)\n",
    "\n",
    "\n",
    "colors = drawDbscan(dbscanData, labels, core_samples_mask, settings,\n",
    "\n",
    "                    title=f'min_samples = {min_samples}, eps = {eps}',\n",
    "\n",
    "                    figname='1_'+figname+'dbscan')\n",
    "pickle_dump(f'dbLabels_{figname}', labels, dir_data)\n",
    "pickle_dump(f'dbColors_{figname}', colors, dir_data)\n",
    "\n",
    "\n",
    "\n"
   ]
  },
  {
   "cell_type": "code",
   "execution_count": null,
   "metadata": {},
   "outputs": [],
   "source": []
  },
  {
   "attachments": {},
   "cell_type": "markdown",
   "metadata": {},
   "source": [
    "adjusted dataset\n"
   ]
  },
  {
   "cell_type": "code",
   "execution_count": 8,
   "metadata": {
    "execution": {
     "iopub.execute_input": "2023-06-26T19:10:13.692973Z",
     "iopub.status.busy": "2023-06-26T19:10:13.692503Z",
     "iopub.status.idle": "2023-06-26T19:10:13.736880Z",
     "shell.execute_reply": "2023-06-26T19:10:13.736314Z"
    }
   },
   "outputs": [],
   "source": [
    "# def load_adjusted(j,k,dir_indexes):\n",
    "#     # k = k[j].copy()\n",
    "#     Ind, by_sample= pickle_load(f\"{j}_adjusted_subsample_indexes\",dir_indexes)\n",
    "#     uniq = [int(i) if i != 4.1 else float(i)  for i in np.unique(by_sample)]\n",
    "#     # appendDict ={}\n",
    "    \n",
    "#     k_append= pd.DataFrame()\n",
    "#     for samp in uniq:\n",
    "#         K=k[k['by_sample']==samp].copy()\n",
    "#         samp_idx = Ind[by_sample ==samp]\n",
    "        \n",
    "#         kInd = [True if (i in samp_idx) else False for i in np.asarray(K.Ind)]\n",
    "#         K = K[kInd]\n",
    "#         k_append = pd.concat([k_append,K.copy()], ignore_index=True,axis=0,)\n",
    "#     return k_append\n",
    "\n",
    "if j == 'b23' and group_ind==2 and create_adjusted:\n",
    "    dir_indexes = os.path.abspath(os.path.join(parent_dir, os.pardir))+'/indexes/'\n",
    "\n",
    "    clusters = [0, 2, 8]  # clusters to keep\n",
    "    ind = ~np.zeros_like(labels).astype(bool)\n",
    "    for cluster in clusters:\n",
    "        ind *= ~(labels == cluster)\n",
    "    # ind =~ind\n",
    "    ind = np.asarray([i for i, j in enumerate(~ind) if j])\n",
    "\n",
    "    \n",
    "    newK = k.loc[ind].copy().reset_index(drop = True)\n",
    "    pickle_dump(f\"{j}_adjusted_subsample_indexes\", [ np.asarray(newK.Ind),np.asarray(newK.by_sample) ],dir_indexes)\n",
    "    # k_append = load_adjusted(j,k,dir_indexes)\n",
    "    \n",
    "        # appendDict[samp ] = K[kInd]\n",
    "    \n",
    "\n",
    "        \n",
    "    \n",
    "\n",
    "    # # sort\n",
    "    # df = pd.DataFrame(columns = newK.columns,index = newK.index)\n",
    "    # for i,s,m in zip(newK.index,newK.Ind,newK.by_sample):\n",
    "    #     df.loc[i] = k_append[k_append['Ind']==s][k_append['by_sample']==m].values\n",
    "    # q=(df==newK).T.all();ind = q[~q.values].index\n",
    "    # print(q.all())\n",
    "\n",
    "\n",
    "    # dict = {'k':k}\n",
    "    # pickle_dump('kb23_adjusted_dict', {'k': newK}, dir_data)\n",
    "    # pickle_dump('kb23_adjusted_names_dict', names_dict, dir_data)\n",
    "    # print('new k saved')\n",
    "\n",
    "    # pickle_dump(f'sampb23_adjusted_CellIden+EpiCols_', umapData[ind], dir_data)\n",
    "\n",
    "    colors = drawDbscan(dbscanData[ind], labels[ind], core_samples_mask[ind], settings,\n",
    "                        title=f'min_samples = {min_samples}, eps = {eps}',\n",
    "                        figname='1_'+figname+'dbscan_adjusted')\n",
    "    # plotClusters(newK, umapData[ind], labels[ind], colors, NamesAll, settings,\n",
    "    #              title='Clusters ' + title,\n",
    "    #              figname='1_'+figname+'Clusters_adjusted')\n"
   ]
  },
  {
   "attachments": {},
   "cell_type": "markdown",
   "metadata": {},
   "source": [
    "clusters"
   ]
  },
  {
   "cell_type": "code",
   "execution_count": null,
   "metadata": {
    "ExecuteTime": {
     "end_time": "2023-01-16T21:13:12.555103Z",
     "start_time": "2023-01-16T21:12:56.830448Z"
    },
    "execution": {
     "iopub.execute_input": "2023-05-31T06:32:07.096832Z",
     "iopub.status.busy": "2023-05-31T06:32:07.096358Z",
     "iopub.status.idle": "2023-05-31T06:35:54.147152Z",
     "shell.execute_reply": "2023-05-31T06:35:54.146546Z"
    }
   },
   "outputs": [],
   "source": [
    "\n"
   ]
  },
  {
   "attachments": {},
   "cell_type": "markdown",
   "metadata": {},
   "source": [
    "### HeatMap by clusters\n"
   ]
  },
  {
   "cell_type": "code",
   "execution_count": 9,
   "metadata": {
    "ExecuteTime": {
     "end_time": "2023-01-16T21:13:14.816792Z",
     "start_time": "2023-01-16T21:13:12.557211Z"
    },
    "execution": {
     "iopub.execute_input": "2023-06-26T19:10:13.740279Z",
     "iopub.status.busy": "2023-06-26T19:10:13.740069Z",
     "iopub.status.idle": "2023-06-26T19:10:13.785670Z",
     "shell.execute_reply": "2023-06-26T19:10:13.784358Z"
    }
   },
   "outputs": [],
   "source": [
    "if visualize:\n",
    "    k['Clust'] = labels\n",
    "    for group_name, group in zip(groups[0], groups[1]):\n",
    "        HeatMap(k[labels != -1], group, settings,clustFeature='Clust',\n",
    "                title='HeatMap ' + title + ': '+group_name,\n",
    "                figname='1_'+figname+'ClustHeatMap_by_'+group_name)\n",
    "    \n"
   ]
  },
  {
   "attachments": {},
   "cell_type": "markdown",
   "metadata": {},
   "source": [
    "specific clusters and features"
   ]
  },
  {
   "cell_type": "code",
   "execution_count": 10,
   "metadata": {
    "execution": {
     "iopub.execute_input": "2023-06-26T19:10:13.788996Z",
     "iopub.status.busy": "2023-06-26T19:10:13.788781Z",
     "iopub.status.idle": "2023-06-26T19:10:13.832345Z",
     "shell.execute_reply": "2023-06-26T19:10:13.831597Z"
    }
   },
   "outputs": [],
   "source": [
    "from plot_functions import *\n",
    "if visualize:\n",
    "    clusters =[0,1]\n",
    "    group_name, group = 'specific_markers', ['H3K9me2', 'H3K4me3','H3K36me3','H4K20me3']\n",
    "    kk=k.copy()\n",
    "    # -----------------\n",
    "    k = k.loc[[True if c in clusters else False for c in k['Clust'] ]]\n",
    "    HeatMap(k, group, settings,clustFeature='Clust',\n",
    "    title='HeatMap ' + title + ': '+group_name,\n",
    "                figname='1_'+figname+'ClustHeatMap_by_'+group_name)\n",
    "    # ---------------------\n",
    "    k=kk.copy()\n",
    "    kk = None\n",
    "\n"
   ]
  },
  {
   "attachments": {},
   "cell_type": "markdown",
   "metadata": {},
   "source": [
    "### HeatMap by sample\n"
   ]
  },
  {
   "cell_type": "code",
   "execution_count": 11,
   "metadata": {
    "execution": {
     "iopub.execute_input": "2023-06-26T19:10:13.835970Z",
     "iopub.status.busy": "2023-06-26T19:10:13.835434Z",
     "iopub.status.idle": "2023-06-26T19:10:13.879775Z",
     "shell.execute_reply": "2023-06-26T19:10:13.879125Z"
    }
   },
   "outputs": [],
   "source": [
    "if visualize and not singleSample:\n",
    "    group_name, group = groups[0][-1], groups[1][-1]\n",
    "    HeatMap(k[labels != -1], group, settings, clustFeature='by_sample',\n",
    "            title='HeatMap ' + title + ': ' + group_name+' by_sample',\n",
    "            figname='1_'+figname+'SampHeatMap_'+group_name)\n"
   ]
  },
  {
   "attachments": {},
   "cell_type": "markdown",
   "metadata": {},
   "source": [
    "### MeanDist\n"
   ]
  },
  {
   "cell_type": "code",
   "execution_count": 12,
   "metadata": {
    "ExecuteTime": {
     "end_time": "2023-01-16T21:13:15.949573Z",
     "start_time": "2023-01-16T21:13:14.820259Z"
    },
    "execution": {
     "iopub.execute_input": "2023-06-26T19:10:13.883505Z",
     "iopub.status.busy": "2023-06-26T19:10:13.882931Z",
     "iopub.status.idle": "2023-06-26T19:10:13.930759Z",
     "shell.execute_reply": "2023-06-26T19:10:13.930130Z"
    }
   },
   "outputs": [],
   "source": [
    "\n",
    "if visualize:\n",
    "    for group_name, group in zip(groups[0], groups[1]):\n",
    "        MeanDist(k[labels == 0], k[labels == 1], group, settings,\n",
    "                 title='MeanDist ' + title + ': '+group_name,\n",
    "                 figname='1_'+figname+'ClustMeanDist_by_'+group_name)\n"
   ]
  },
  {
   "attachments": {},
   "cell_type": "markdown",
   "metadata": {},
   "source": [
    "## sample percentage\n"
   ]
  },
  {
   "attachments": {},
   "cell_type": "markdown",
   "metadata": {},
   "source": [
    "by sample"
   ]
  },
  {
   "cell_type": "code",
   "execution_count": 13,
   "metadata": {
    "ExecuteTime": {
     "end_time": "2023-01-16T21:13:44.808076Z",
     "start_time": "2023-01-16T21:13:15.951592Z"
    },
    "execution": {
     "iopub.execute_input": "2023-06-26T19:10:13.934141Z",
     "iopub.status.busy": "2023-06-26T19:10:13.933930Z",
     "iopub.status.idle": "2023-06-26T19:10:13.977955Z",
     "shell.execute_reply": "2023-06-26T19:10:13.977373Z"
    }
   },
   "outputs": [],
   "source": [
    "# from plot_functions import *\n",
    "if visualize and not singleSample:\n",
    "    # unique by_sample values\n",
    "    for sampNum in np.unique(k['by_sample']):\n",
    "        ind_samp = [i for i, j in enumerate(k.by_sample == sampNum) if j]\n",
    "        labels_samp = np.ones(len(ind_samp))*sampNum\n",
    "        drawUMAPbySample(umapData, k, ind_samp, labels_samp, settings,\n",
    "                         title=title+f' UMAP - by_sample={sampNum}',\n",
    "                         Figname='4_'+figname+f'UMAP_sample{sampNum}_by_sample')\n",
    "    arr = []\n",
    "    clustNums = np.unique(k.Clust)\n",
    "    clustNums = clustNums[clustNums != -1]\n",
    "    for clustNum in clustNums:\n",
    "        ind = k.Clust == clustNum\n",
    "        PercentageBySample = ClustPercentageBySample(k[ind], 'by_sample')\n",
    "\n",
    "        arr.append([clustNum, PercentageBySample])\n",
    "    saveCsv(dir_plots, figname, arr)\n"
   ]
  },
  {
   "attachments": {},
   "cell_type": "markdown",
   "metadata": {},
   "source": [
    "all samples"
   ]
  },
  {
   "cell_type": "code",
   "execution_count": 14,
   "metadata": {
    "execution": {
     "iopub.execute_input": "2023-06-26T19:10:13.981296Z",
     "iopub.status.busy": "2023-06-26T19:10:13.981069Z",
     "iopub.status.idle": "2023-06-26T19:10:14.027328Z",
     "shell.execute_reply": "2023-06-26T19:10:14.026692Z"
    }
   },
   "outputs": [],
   "source": [
    "from plot_functions import *\n",
    "\n",
    "\n",
    "if visualize and not singleSample:\n",
    "    # remove 4.1,7.1 and subsample \n",
    "    ind_samp =k.index.values[[ True  if i!='4.1' and i!='7.1' else False for i in k.by_sample]]\n",
    "    ind_samp=np.random.choice(ind_samp, replace = False, size = int(len(k)/4))\n",
    "    # ind_samp = k.index.values\n",
    "    labels_samp = np.asarray(k.by_sample).astype(int)[ind_samp]\n",
    "\n",
    "    colors_samp = np.zeros((np.max(labels_samp)+2,4))\n",
    "    hex = ['00B3A4','3185FC','DB1374','490092','FEB6DB','F98510','E6C220','BFA180','920000','461A0A']\n",
    "    colors_samp[1+np.unique(labels_samp)] = np.asarray([hex_to_rgba(h) for h in hex])[:np.unique(labels_samp).shape[0]]\n",
    "    drawUMAPbySample(umapData, k, ind_samp, labels_samp, settings,colors_samp,backgroundColor = 'white',\n",
    "                        title=title+f' UMAP - by_sample=ALL',\n",
    "                        Figname='4_'+figname+f'UMAP_sampleAll_by_sample')\n",
    " \n"
   ]
  },
  {
   "attachments": {},
   "cell_type": "markdown",
   "metadata": {},
   "source": [
    "by cluster"
   ]
  },
  {
   "cell_type": "code",
   "execution_count": 15,
   "metadata": {
    "execution": {
     "iopub.execute_input": "2023-06-26T19:10:14.030763Z",
     "iopub.status.busy": "2023-06-26T19:10:14.030549Z",
     "iopub.status.idle": "2023-06-26T19:10:14.076952Z",
     "shell.execute_reply": "2023-06-26T19:10:14.076349Z"
    }
   },
   "outputs": [],
   "source": [
    "from plot_functions import *\n",
    "if visualize and not singleSample:\n",
    "    # plt.scatter(umapData[:,0],umapData[:,1],c = 'lightgrey', alpha=0.2,s=2)\n",
    "    uniq = [int(i) if (np.round(i,1) - np.round(i,0)==0) else float(i)  for i in np.unique(k['by_sample'])]\n",
    "    # print(uniq)\n",
    "    # unique by_sample values\n",
    "    for sampNum in uniq:\n",
    "        # sampNum = uniq[-1]\n",
    "\n",
    "        # ind_umap = [i for i, j in enumerate(k.by_sample == sampNum) if j]\n",
    "        # labels_samp = np.asarray(pickle_load(f'dbLabels_samp{sampNum}_{name}_', dir_data))\n",
    "        \n",
    "        # sample indexs which are the full dataset - filter db labels by it\n",
    "        ind_samp = [i for i, j in zip(k.Ind,k.by_sample == sampNum) if j]\n",
    "        # corresponding indexes in the full data set - where each point in the full umap\n",
    "        ind_umap = [i for i, j in zip(k.index,k.by_sample == sampNum) if j]        \n",
    "        labels_samp = np.asarray(pickle_load(f'dbLabels_samp{sampNum}_{name}_', dir_data))[ind_samp]\n",
    "        # colors_samp = pickle_load(f'dbColors_samp{sampNum}_{name}_', dir_data)\n",
    "        colors_samp = np.vstack(([0,0,0,1],np.asarray(pickle_load(f'dbColors_samp{sampNum}_{name}_', dir_data))))\n",
    "        # pickle_dump(f'dbColors_{figname}', colors, dir_data)\n",
    "\n",
    "        drawUMAPbySample(umapData, k, ind_umap, labels_samp, settings,colors_samp,\n",
    "                         title=title+f' UMAP - by_sample={sampNum} clusters',\n",
    "                         Figname='4_'+figname+f'UMAP_sample{sampNum}_by_sample_clusters')\n",
    "        \n",
    "# [4, 4.1, 5, 7, 7.1, 8, 11, 13, 14, 15]\n"
   ]
  },
  {
   "attachments": {},
   "cell_type": "markdown",
   "metadata": {},
   "source": [
    "## features on UMAP\n"
   ]
  },
  {
   "attachments": {},
   "cell_type": "markdown",
   "metadata": {},
   "source": [
    "shap"
   ]
  },
  {
   "cell_type": "code",
   "execution_count": 16,
   "metadata": {
    "execution": {
     "iopub.execute_input": "2023-06-26T19:10:14.080555Z",
     "iopub.status.busy": "2023-06-26T19:10:14.080071Z",
     "iopub.status.idle": "2023-06-26T19:10:14.124306Z",
     "shell.execute_reply": "2023-06-26T19:10:14.123697Z"
    }
   },
   "outputs": [],
   "source": [
    "if visualize and plotUMAP:\n",
    "    ind = labels !=-1 # drop unclustered rows (clust==-1)\n",
    "    accuracy = xg_classification_shap(CAll[featureGroup].copy(),labels.copy(),ind,colors,\n",
    "                                    settings,figname='5_'+figname+'shap', calc_shap = True)\n",
    "    print(f\"accuracy {j}_{group_ind}: {accuracy}%\")\n",
    "\n",
    "\n"
   ]
  },
  {
   "attachments": {},
   "cell_type": "markdown",
   "metadata": {},
   "source": [
    "plot Clusters"
   ]
  },
  {
   "cell_type": "code",
   "execution_count": 17,
   "metadata": {
    "execution": {
     "iopub.execute_input": "2023-06-26T19:10:14.127799Z",
     "iopub.status.busy": "2023-06-26T19:10:14.127334Z",
     "iopub.status.idle": "2023-06-26T19:10:14.170075Z",
     "shell.execute_reply": "2023-06-26T19:10:14.169457Z"
    }
   },
   "outputs": [],
   "source": [
    "if visualize and plotUMAP:\n",
    "    plotClusters(k, umapData, labels, colors, NamesAll, settings,\n",
    "                title='Clusters ' + title,\n",
    "                figname='1_'+figname+'Clusters')"
   ]
  },
  {
   "attachments": {},
   "cell_type": "markdown",
   "metadata": {},
   "source": [
    "plot features on umap "
   ]
  },
  {
   "cell_type": "code",
   "execution_count": 18,
   "metadata": {
    "execution": {
     "iopub.execute_input": "2023-06-26T19:10:14.173296Z",
     "iopub.status.busy": "2023-06-26T19:10:14.173083Z",
     "iopub.status.idle": "2023-06-26T19:10:14.217847Z",
     "shell.execute_reply": "2023-06-26T19:10:14.217250Z"
    }
   },
   "outputs": [],
   "source": [
    "if visualize and plotUMAP:\n",
    "    drawUMAP(umapData, NamesAll, CAll, settings,\n",
    "             title='UMAP ' + title,\n",
    "             Figname='2_'+figname+'UMAP_')\n"
   ]
  },
  {
   "attachments": {},
   "cell_type": "markdown",
   "metadata": {},
   "source": [
    "## scatter figures\n"
   ]
  },
  {
   "cell_type": "code",
   "execution_count": 19,
   "metadata": {
    "execution": {
     "iopub.execute_input": "2023-06-26T19:10:14.221490Z",
     "iopub.status.busy": "2023-06-26T19:10:14.220999Z",
     "iopub.status.idle": "2023-06-26T19:10:14.266111Z",
     "shell.execute_reply": "2023-06-26T19:10:14.265472Z"
    }
   },
   "outputs": [],
   "source": [
    "if visualize:\n",
    "    try:\n",
    "        scatter(k, 'NCad', 'ECad', title, figname, settings)\n",
    "    except:\n",
    "        print('no ncad in sample')\n"
   ]
  },
  {
   "attachments": {},
   "cell_type": "markdown",
   "metadata": {},
   "source": [
    "## clear data\n"
   ]
  },
  {
   "cell_type": "code",
   "execution_count": 20,
   "metadata": {
    "ExecuteTime": {
     "end_time": "2023-01-16T21:13:44.860070Z",
     "start_time": "2023-01-16T21:13:44.809974Z"
    },
    "execution": {
     "iopub.execute_input": "2023-06-26T19:10:14.269567Z",
     "iopub.status.busy": "2023-06-26T19:10:14.269102Z",
     "iopub.status.idle": "2023-06-26T19:10:14.312550Z",
     "shell.execute_reply": "2023-06-26T19:10:14.311986Z"
    }
   },
   "outputs": [],
   "source": [
    "# dbscanData, umapData,k, CAll,labels = None,None,None,None,None\n",
    "# imList2pdf(dir_plots,j,['CellIden','EpiCols','CellIden+EpiCols'])\n"
   ]
  }
 ],
 "metadata": {
  "kernelspec": {
   "display_name": "torch39",
   "language": "python",
   "name": "python3"
  },
  "language_info": {
   "codemirror_mode": {
    "name": "ipython",
    "version": 3
   },
   "file_extension": ".py",
   "mimetype": "text/x-python",
   "name": "python",
   "nbconvert_exporter": "python",
   "pygments_lexer": "ipython3",
   "version": "3.9.16"
  },
  "toc": {
   "base_numbering": 1,
   "nav_menu": {},
   "number_sections": true,
   "sideBar": true,
   "skip_h1_title": false,
   "title_cell": "Table of Contents",
   "title_sidebar": "Contents",
   "toc_cell": false,
   "toc_position": {},
   "toc_section_display": true,
   "toc_window_display": false
  },
  "varInspector": {
   "cols": {
    "lenName": 16,
    "lenType": 16,
    "lenVar": 40
   },
   "kernels_config": {
    "python": {
     "delete_cmd_postfix": "",
     "delete_cmd_prefix": "del ",
     "library": "var_list.py",
     "varRefreshCmd": "print(var_dic_list())"
    },
    "r": {
     "delete_cmd_postfix": ") ",
     "delete_cmd_prefix": "rm(",
     "library": "var_list.r",
     "varRefreshCmd": "cat(var_dic_list()) "
    }
   },
   "types_to_exclude": [
    "module",
    "function",
    "builtin_function_or_method",
    "instance",
    "_Feature"
   ],
   "window_display": false
  },
  "vscode": {
   "interpreter": {
    "hash": "25238166783bd3667da868d9e05a785eda3f5ca355f77ce9c051267fa7411fd2"
   }
  },
  "widgets": {
   "application/vnd.jupyter.widget-state+json": {
    "state": {
     "06f3414c4d5f457ab2e1dd774ba4c5e7": {
      "model_module": "@jupyter-widgets/base",
      "model_module_version": "1.2.0",
      "model_name": "LayoutModel",
      "state": {
       "_model_module": "@jupyter-widgets/base",
       "_model_module_version": "1.2.0",
       "_model_name": "LayoutModel",
       "_view_count": null,
       "_view_module": "@jupyter-widgets/base",
       "_view_module_version": "1.2.0",
       "_view_name": "LayoutView",
       "align_content": null,
       "align_items": null,
       "align_self": null,
       "border": null,
       "bottom": null,
       "display": null,
       "flex": null,
       "flex_flow": null,
       "grid_area": null,
       "grid_auto_columns": null,
       "grid_auto_flow": null,
       "grid_auto_rows": null,
       "grid_column": null,
       "grid_gap": null,
       "grid_row": null,
       "grid_template_areas": null,
       "grid_template_columns": null,
       "grid_template_rows": null,
       "height": null,
       "justify_content": null,
       "justify_items": null,
       "left": null,
       "margin": null,
       "max_height": null,
       "max_width": null,
       "min_height": null,
       "min_width": null,
       "object_fit": null,
       "object_position": null,
       "order": null,
       "overflow": null,
       "overflow_x": null,
       "overflow_y": null,
       "padding": null,
       "right": null,
       "top": null,
       "visibility": null,
       "width": null
      }
     },
     "0e308bf6b7e14767b7ca9b2f922109b6": {
      "model_module": "@jupyter-widgets/base",
      "model_module_version": "1.2.0",
      "model_name": "LayoutModel",
      "state": {
       "_model_module": "@jupyter-widgets/base",
       "_model_module_version": "1.2.0",
       "_model_name": "LayoutModel",
       "_view_count": null,
       "_view_module": "@jupyter-widgets/base",
       "_view_module_version": "1.2.0",
       "_view_name": "LayoutView",
       "align_content": null,
       "align_items": null,
       "align_self": null,
       "border": null,
       "bottom": null,
       "display": null,
       "flex": null,
       "flex_flow": null,
       "grid_area": null,
       "grid_auto_columns": null,
       "grid_auto_flow": null,
       "grid_auto_rows": null,
       "grid_column": null,
       "grid_gap": null,
       "grid_row": null,
       "grid_template_areas": null,
       "grid_template_columns": null,
       "grid_template_rows": null,
       "height": null,
       "justify_content": null,
       "justify_items": null,
       "left": null,
       "margin": null,
       "max_height": null,
       "max_width": null,
       "min_height": null,
       "min_width": null,
       "object_fit": null,
       "object_position": null,
       "order": null,
       "overflow": null,
       "overflow_x": null,
       "overflow_y": null,
       "padding": null,
       "right": null,
       "top": null,
       "visibility": null,
       "width": null
      }
     },
     "16b218ae6a1d42d6ba3bcd3cd51868f8": {
      "model_module": "@jupyter-widgets/controls",
      "model_module_version": "1.5.0",
      "model_name": "HTMLModel",
      "state": {
       "_dom_classes": [],
       "_model_module": "@jupyter-widgets/controls",
       "_model_module_version": "1.5.0",
       "_model_name": "HTMLModel",
       "_view_count": null,
       "_view_module": "@jupyter-widgets/controls",
       "_view_module_version": "1.5.0",
       "_view_name": "HTMLView",
       "description": "",
       "description_tooltip": null,
       "layout": "IPY_MODEL_aa45da7e6f8d4978bcad0c6964dcdb45",
       "placeholder": "​",
       "style": "IPY_MODEL_963d770fa92546d2a2fee9963eea7ed9",
       "value": ""
      }
     },
     "23ddbb67697740dd8427d88ad1de2907": {
      "model_module": "@jupyter-widgets/base",
      "model_module_version": "1.2.0",
      "model_name": "LayoutModel",
      "state": {
       "_model_module": "@jupyter-widgets/base",
       "_model_module_version": "1.2.0",
       "_model_name": "LayoutModel",
       "_view_count": null,
       "_view_module": "@jupyter-widgets/base",
       "_view_module_version": "1.2.0",
       "_view_name": "LayoutView",
       "align_content": null,
       "align_items": null,
       "align_self": null,
       "border": null,
       "bottom": null,
       "display": null,
       "flex": null,
       "flex_flow": null,
       "grid_area": null,
       "grid_auto_columns": null,
       "grid_auto_flow": null,
       "grid_auto_rows": null,
       "grid_column": null,
       "grid_gap": null,
       "grid_row": null,
       "grid_template_areas": null,
       "grid_template_columns": null,
       "grid_template_rows": null,
       "height": null,
       "justify_content": null,
       "justify_items": null,
       "left": null,
       "margin": null,
       "max_height": null,
       "max_width": null,
       "min_height": null,
       "min_width": null,
       "object_fit": null,
       "object_position": null,
       "order": null,
       "overflow": null,
       "overflow_x": null,
       "overflow_y": null,
       "padding": null,
       "right": null,
       "top": null,
       "visibility": null,
       "width": null
      }
     },
     "38a56b43ec4f4532a81de796e66e72d5": {
      "model_module": "@jupyter-widgets/base",
      "model_module_version": "1.2.0",
      "model_name": "LayoutModel",
      "state": {
       "_model_module": "@jupyter-widgets/base",
       "_model_module_version": "1.2.0",
       "_model_name": "LayoutModel",
       "_view_count": null,
       "_view_module": "@jupyter-widgets/base",
       "_view_module_version": "1.2.0",
       "_view_name": "LayoutView",
       "align_content": null,
       "align_items": null,
       "align_self": null,
       "border": null,
       "bottom": null,
       "display": null,
       "flex": null,
       "flex_flow": null,
       "grid_area": null,
       "grid_auto_columns": null,
       "grid_auto_flow": null,
       "grid_auto_rows": null,
       "grid_column": null,
       "grid_gap": null,
       "grid_row": null,
       "grid_template_areas": null,
       "grid_template_columns": null,
       "grid_template_rows": null,
       "height": null,
       "justify_content": null,
       "justify_items": null,
       "left": null,
       "margin": null,
       "max_height": null,
       "max_width": null,
       "min_height": null,
       "min_width": null,
       "object_fit": null,
       "object_position": null,
       "order": null,
       "overflow": null,
       "overflow_x": null,
       "overflow_y": null,
       "padding": null,
       "right": null,
       "top": null,
       "visibility": null,
       "width": null
      }
     },
     "427df8bd34524867883d56842e1e3206": {
      "model_module": "@jupyter-widgets/controls",
      "model_module_version": "1.5.0",
      "model_name": "HTMLModel",
      "state": {
       "_dom_classes": [],
       "_model_module": "@jupyter-widgets/controls",
       "_model_module_version": "1.5.0",
       "_model_name": "HTMLModel",
       "_view_count": null,
       "_view_module": "@jupyter-widgets/controls",
       "_view_module_version": "1.5.0",
       "_view_name": "HTMLView",
       "description": "",
       "description_tooltip": null,
       "layout": "IPY_MODEL_aa45da7e6f8d4978bcad0c6964dcdb45",
       "placeholder": "​",
       "style": "IPY_MODEL_963d770fa92546d2a2fee9963eea7ed9",
       "value": "Epochs completed: 100%| "
      }
     },
     "46cfb27490464fb9bb8bbb4736e996d4": {
      "model_module": "@jupyter-widgets/controls",
      "model_module_version": "1.5.0",
      "model_name": "HBoxModel",
      "state": {
       "_dom_classes": [],
       "_model_module": "@jupyter-widgets/controls",
       "_model_module_version": "1.5.0",
       "_model_name": "HBoxModel",
       "_view_count": null,
       "_view_module": "@jupyter-widgets/controls",
       "_view_module_version": "1.5.0",
       "_view_name": "HBoxView",
       "box_style": "",
       "children": [
        "IPY_MODEL_427df8bd34524867883d56842e1e3206",
        "IPY_MODEL_57d7b943af584f85910737c463e86a22",
        "IPY_MODEL_fee3a2bc0026498caeed56ad392aa786"
       ],
       "layout": "IPY_MODEL_23ddbb67697740dd8427d88ad1de2907"
      }
     },
     "57d7b943af584f85910737c463e86a22": {
      "model_module": "@jupyter-widgets/controls",
      "model_module_version": "1.5.0",
      "model_name": "FloatProgressModel",
      "state": {
       "_dom_classes": [],
       "_model_module": "@jupyter-widgets/controls",
       "_model_module_version": "1.5.0",
       "_model_name": "FloatProgressModel",
       "_view_count": null,
       "_view_module": "@jupyter-widgets/controls",
       "_view_module_version": "1.5.0",
       "_view_name": "ProgressView",
       "bar_style": "success",
       "description": "",
       "description_tooltip": null,
       "layout": "IPY_MODEL_d4a865f2f6c148269ed582fb91283abe",
       "max": 200,
       "min": 0,
       "orientation": "horizontal",
       "style": "IPY_MODEL_625b7d51d5cb411dafd11d646d716ad7",
       "value": 200
      }
     },
     "625b7d51d5cb411dafd11d646d716ad7": {
      "model_module": "@jupyter-widgets/controls",
      "model_module_version": "1.5.0",
      "model_name": "ProgressStyleModel",
      "state": {
       "_model_module": "@jupyter-widgets/controls",
       "_model_module_version": "1.5.0",
       "_model_name": "ProgressStyleModel",
       "_view_count": null,
       "_view_module": "@jupyter-widgets/base",
       "_view_module_version": "1.2.0",
       "_view_name": "StyleView",
       "bar_color": null,
       "description_width": ""
      }
     },
     "6fa86c373c244ff083ddc97daa29d88c": {
      "model_module": "@jupyter-widgets/base",
      "model_module_version": "1.2.0",
      "model_name": "LayoutModel",
      "state": {
       "_model_module": "@jupyter-widgets/base",
       "_model_module_version": "1.2.0",
       "_model_name": "LayoutModel",
       "_view_count": null,
       "_view_module": "@jupyter-widgets/base",
       "_view_module_version": "1.2.0",
       "_view_name": "LayoutView",
       "align_content": null,
       "align_items": null,
       "align_self": null,
       "border": null,
       "bottom": null,
       "display": null,
       "flex": null,
       "flex_flow": null,
       "grid_area": null,
       "grid_auto_columns": null,
       "grid_auto_flow": null,
       "grid_auto_rows": null,
       "grid_column": null,
       "grid_gap": null,
       "grid_row": null,
       "grid_template_areas": null,
       "grid_template_columns": null,
       "grid_template_rows": null,
       "height": null,
       "justify_content": null,
       "justify_items": null,
       "left": null,
       "margin": null,
       "max_height": null,
       "max_width": null,
       "min_height": null,
       "min_width": null,
       "object_fit": null,
       "object_position": null,
       "order": null,
       "overflow": null,
       "overflow_x": null,
       "overflow_y": null,
       "padding": null,
       "right": null,
       "top": null,
       "visibility": null,
       "width": null
      }
     },
     "949c7d826b77466abe9f4a1b121983c4": {
      "model_module": "@jupyter-widgets/controls",
      "model_module_version": "1.5.0",
      "model_name": "HBoxModel",
      "state": {
       "_dom_classes": [],
       "_model_module": "@jupyter-widgets/controls",
       "_model_module_version": "1.5.0",
       "_model_name": "HBoxModel",
       "_view_count": null,
       "_view_module": "@jupyter-widgets/controls",
       "_view_module_version": "1.5.0",
       "_view_name": "HBoxView",
       "box_style": "",
       "children": [
        "IPY_MODEL_427df8bd34524867883d56842e1e3206",
        "IPY_MODEL_57d7b943af584f85910737c463e86a22",
        "IPY_MODEL_fee3a2bc0026498caeed56ad392aa786"
       ],
       "layout": "IPY_MODEL_23ddbb67697740dd8427d88ad1de2907"
      }
     },
     "95ea8ad6033d42f8a92123fe913b196c": {
      "model_module": "@jupyter-widgets/controls",
      "model_module_version": "1.5.0",
      "model_name": "DescriptionStyleModel",
      "state": {
       "_model_module": "@jupyter-widgets/controls",
       "_model_module_version": "1.5.0",
       "_model_name": "DescriptionStyleModel",
       "_view_count": null,
       "_view_module": "@jupyter-widgets/base",
       "_view_module_version": "1.2.0",
       "_view_name": "StyleView",
       "description_width": ""
      }
     },
     "963d770fa92546d2a2fee9963eea7ed9": {
      "model_module": "@jupyter-widgets/controls",
      "model_module_version": "1.5.0",
      "model_name": "DescriptionStyleModel",
      "state": {
       "_model_module": "@jupyter-widgets/controls",
       "_model_module_version": "1.5.0",
       "_model_name": "DescriptionStyleModel",
       "_view_count": null,
       "_view_module": "@jupyter-widgets/base",
       "_view_module_version": "1.2.0",
       "_view_name": "StyleView",
       "description_width": ""
      }
     },
     "aa45da7e6f8d4978bcad0c6964dcdb45": {
      "model_module": "@jupyter-widgets/base",
      "model_module_version": "1.2.0",
      "model_name": "LayoutModel",
      "state": {
       "_model_module": "@jupyter-widgets/base",
       "_model_module_version": "1.2.0",
       "_model_name": "LayoutModel",
       "_view_count": null,
       "_view_module": "@jupyter-widgets/base",
       "_view_module_version": "1.2.0",
       "_view_name": "LayoutView",
       "align_content": null,
       "align_items": null,
       "align_self": null,
       "border": null,
       "bottom": null,
       "display": null,
       "flex": null,
       "flex_flow": null,
       "grid_area": null,
       "grid_auto_columns": null,
       "grid_auto_flow": null,
       "grid_auto_rows": null,
       "grid_column": null,
       "grid_gap": null,
       "grid_row": null,
       "grid_template_areas": null,
       "grid_template_columns": null,
       "grid_template_rows": null,
       "height": null,
       "justify_content": null,
       "justify_items": null,
       "left": null,
       "margin": null,
       "max_height": null,
       "max_width": null,
       "min_height": null,
       "min_width": null,
       "object_fit": null,
       "object_position": null,
       "order": null,
       "overflow": null,
       "overflow_x": null,
       "overflow_y": null,
       "padding": null,
       "right": null,
       "top": null,
       "visibility": null,
       "width": null
      }
     },
     "aad6dc98a1ed4bb197b6a981b548ccd6": {
      "model_module": "@jupyter-widgets/controls",
      "model_module_version": "1.5.0",
      "model_name": "FloatProgressModel",
      "state": {
       "_dom_classes": [],
       "_model_module": "@jupyter-widgets/controls",
       "_model_module_version": "1.5.0",
       "_model_name": "FloatProgressModel",
       "_view_count": null,
       "_view_module": "@jupyter-widgets/controls",
       "_view_module_version": "1.5.0",
       "_view_name": "ProgressView",
       "bar_style": "",
       "description": "",
       "description_tooltip": null,
       "layout": "IPY_MODEL_d4a865f2f6c148269ed582fb91283abe",
       "max": 200,
       "min": 0,
       "orientation": "horizontal",
       "style": "IPY_MODEL_625b7d51d5cb411dafd11d646d716ad7",
       "value": 0
      }
     },
     "b9a850f8718b42ba970dadbbcafa7e2a": {
      "model_module": "@jupyter-widgets/controls",
      "model_module_version": "1.5.0",
      "model_name": "ProgressStyleModel",
      "state": {
       "_model_module": "@jupyter-widgets/controls",
       "_model_module_version": "1.5.0",
       "_model_name": "ProgressStyleModel",
       "_view_count": null,
       "_view_module": "@jupyter-widgets/base",
       "_view_module_version": "1.2.0",
       "_view_name": "StyleView",
       "bar_color": null,
       "description_width": ""
      }
     },
     "cfd5aba4761e4aac8a6a4e8e0492bdf9": {
      "model_module": "@jupyter-widgets/controls",
      "model_module_version": "1.5.0",
      "model_name": "HTMLModel",
      "state": {
       "_dom_classes": [],
       "_model_module": "@jupyter-widgets/controls",
       "_model_module_version": "1.5.0",
       "_model_name": "HTMLModel",
       "_view_count": null,
       "_view_module": "@jupyter-widgets/controls",
       "_view_module_version": "1.5.0",
       "_view_name": "HTMLView",
       "description": "",
       "description_tooltip": null,
       "layout": "IPY_MODEL_06f3414c4d5f457ab2e1dd774ba4c5e7",
       "placeholder": "​",
       "style": "IPY_MODEL_f058f060d3d9425d9e6e9690972c9f72",
       "value": ""
      }
     },
     "d4a865f2f6c148269ed582fb91283abe": {
      "model_module": "@jupyter-widgets/base",
      "model_module_version": "1.2.0",
      "model_name": "LayoutModel",
      "state": {
       "_model_module": "@jupyter-widgets/base",
       "_model_module_version": "1.2.0",
       "_model_name": "LayoutModel",
       "_view_count": null,
       "_view_module": "@jupyter-widgets/base",
       "_view_module_version": "1.2.0",
       "_view_name": "LayoutView",
       "align_content": null,
       "align_items": null,
       "align_self": null,
       "border": null,
       "bottom": null,
       "display": null,
       "flex": null,
       "flex_flow": null,
       "grid_area": null,
       "grid_auto_columns": null,
       "grid_auto_flow": null,
       "grid_auto_rows": null,
       "grid_column": null,
       "grid_gap": null,
       "grid_row": null,
       "grid_template_areas": null,
       "grid_template_columns": null,
       "grid_template_rows": null,
       "height": null,
       "justify_content": null,
       "justify_items": null,
       "left": null,
       "margin": null,
       "max_height": null,
       "max_width": null,
       "min_height": null,
       "min_width": null,
       "object_fit": null,
       "object_position": null,
       "order": null,
       "overflow": null,
       "overflow_x": null,
       "overflow_y": null,
       "padding": null,
       "right": null,
       "top": null,
       "visibility": null,
       "width": null
      }
     },
     "d5769f486e444416a006125b986d1e9f": {
      "model_module": "@jupyter-widgets/controls",
      "model_module_version": "1.5.0",
      "model_name": "DescriptionStyleModel",
      "state": {
       "_model_module": "@jupyter-widgets/controls",
       "_model_module_version": "1.5.0",
       "_model_name": "DescriptionStyleModel",
       "_view_count": null,
       "_view_module": "@jupyter-widgets/base",
       "_view_module_version": "1.2.0",
       "_view_name": "StyleView",
       "description_width": ""
      }
     },
     "f058f060d3d9425d9e6e9690972c9f72": {
      "model_module": "@jupyter-widgets/controls",
      "model_module_version": "1.5.0",
      "model_name": "DescriptionStyleModel",
      "state": {
       "_model_module": "@jupyter-widgets/controls",
       "_model_module_version": "1.5.0",
       "_model_name": "DescriptionStyleModel",
       "_view_count": null,
       "_view_module": "@jupyter-widgets/base",
       "_view_module_version": "1.2.0",
       "_view_name": "StyleView",
       "description_width": ""
      }
     },
     "f68112b4b5b94e1691a2c745051ef98e": {
      "model_module": "@jupyter-widgets/base",
      "model_module_version": "1.2.0",
      "model_name": "LayoutModel",
      "state": {
       "_model_module": "@jupyter-widgets/base",
       "_model_module_version": "1.2.0",
       "_model_name": "LayoutModel",
       "_view_count": null,
       "_view_module": "@jupyter-widgets/base",
       "_view_module_version": "1.2.0",
       "_view_name": "LayoutView",
       "align_content": null,
       "align_items": null,
       "align_self": null,
       "border": null,
       "bottom": null,
       "display": null,
       "flex": null,
       "flex_flow": null,
       "grid_area": null,
       "grid_auto_columns": null,
       "grid_auto_flow": null,
       "grid_auto_rows": null,
       "grid_column": null,
       "grid_gap": null,
       "grid_row": null,
       "grid_template_areas": null,
       "grid_template_columns": null,
       "grid_template_rows": null,
       "height": null,
       "justify_content": null,
       "justify_items": null,
       "left": null,
       "margin": null,
       "max_height": null,
       "max_width": null,
       "min_height": null,
       "min_width": null,
       "object_fit": null,
       "object_position": null,
       "order": null,
       "overflow": null,
       "overflow_x": null,
       "overflow_y": null,
       "padding": null,
       "right": null,
       "top": null,
       "visibility": null,
       "width": null
      }
     },
     "fee3a2bc0026498caeed56ad392aa786": {
      "model_module": "@jupyter-widgets/controls",
      "model_module_version": "1.5.0",
      "model_name": "HTMLModel",
      "state": {
       "_dom_classes": [],
       "_model_module": "@jupyter-widgets/controls",
       "_model_module_version": "1.5.0",
       "_model_name": "HTMLModel",
       "_view_count": null,
       "_view_module": "@jupyter-widgets/controls",
       "_view_module_version": "1.5.0",
       "_view_name": "HTMLView",
       "description": "",
       "description_tooltip": null,
       "layout": "IPY_MODEL_06f3414c4d5f457ab2e1dd774ba4c5e7",
       "placeholder": "​",
       "style": "IPY_MODEL_f058f060d3d9425d9e6e9690972c9f72",
       "value": " 200/200 [00:05]"
      }
     }
    },
    "version_major": 2,
    "version_minor": 0
   }
  }
 },
 "nbformat": 4,
 "nbformat_minor": 4
}
