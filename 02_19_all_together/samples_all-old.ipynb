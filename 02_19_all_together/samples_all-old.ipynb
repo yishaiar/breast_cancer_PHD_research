{
 "cells": [
  {
   "attachments": {},
   "cell_type": "markdown",
   "metadata": {},
   "source": [
    "# Load and initialize\n"
   ]
  },
  {
   "attachments": {},
   "cell_type": "markdown",
   "metadata": {},
   "source": [
    "settings\n"
   ]
  },
  {
   "cell_type": "code",
   "execution_count": null,
   "metadata": {
    "ExecuteTime": {
     "end_time": "2023-01-16T21:12:28.925237Z",
     "start_time": "2023-01-16T21:12:28.891068Z"
    },
    "execution": {
     "iopub.execute_input": "2023-12-13T20:50:36.508443Z",
     "iopub.status.busy": "2023-12-13T20:50:36.507513Z",
     "iopub.status.idle": "2023-12-13T20:50:36.518269Z",
     "shell.execute_reply": "2023-12-13T20:50:36.517463Z"
    }
   },
   "outputs": [],
   "source": [
    "# sample number\n",
    "\n",
    "# j = '_arcsinh'+'14.2'+'a'# '18.2'+'a'#\n",
    "# j = '14.2'+'a'#  '_arcsinh'+'18.2'+'a'#'14.2'+'a'#'_raw'+'14.2'+'a'#\n",
    "            \n",
    "# '7.1a','13a','14a','15a','17a','18a','19a','20a','8.1a'\n",
    "\n",
    "# j = '20'+'a'\n",
    "# j = '20a'\n",
    "# j = 'b45a'\n",
    "j = 'b2345a'\n",
    "\n",
    "group_ind = 2\n",
    "dir_data1 = 'Data_'\n",
    "\n",
    "args = {\n",
    "        # create visualization (umap, dbscan are always shown)\n",
    "        'visualize':True,'plotUMAP' : True,\n",
    "        # show figures in notebook\n",
    "        'show' : True, 'saveSVG' :False,\n",
    "        # calculate umap\n",
    "        'calc_umap' : False\n",
    "        }\n",
    "create_adjusted = False\n",
    "compare = False# compare 11,stroma and rest of the cells\n",
    "print(j, 'ind:',group_ind, dir_data1, args, create_adjusted)\n",
    "\n",
    "\n",
    "import sys\n",
    "parent_dir = '/home/yishai/breast_cancer_PHD_research'\n",
    "sys.path.append(parent_dir+'/functions/')\n",
    "\n",
    "\n",
    "%run imports.ipynb # import all imported packages from imports.ipynb\n",
    "\n",
    "\n"
   ]
  },
  {
   "attachments": {},
   "cell_type": "markdown",
   "metadata": {},
   "source": [
    "envirement\n"
   ]
  },
  {
   "cell_type": "code",
   "execution_count": null,
   "metadata": {
    "ExecuteTime": {
     "end_time": "2023-01-16T21:12:28.990551Z",
     "start_time": "2023-01-16T21:12:28.927491Z"
    },
    "execution": {
     "iopub.execute_input": "2023-12-13T20:50:36.556965Z",
     "iopub.status.busy": "2023-12-13T20:50:36.556282Z",
     "iopub.status.idle": "2023-12-13T20:50:39.572767Z",
     "shell.execute_reply": "2023-12-13T20:50:39.571756Z"
    }
   },
   "outputs": [],
   "source": [
    "\n",
    "# import sys,pathlib, os, warnings\n",
    "# from numba.core.errors import NumbaDeprecationWarning, NumbaPendingDeprecationWarning\n",
    "# warnings.simplefilter('ignore', category=NumbaDeprecationWarning)\n",
    "# warnings.simplefilter('ignore', category=NumbaPendingDeprecationWarning)\n",
    "# # from tqdm import tqdm_notebook, tqdm\n",
    "# import datetime,time\n",
    "# start = time.process_time()\n",
    "# date = datetime.date.today().strftime(\"%d%m%Y\")\n",
    "\n",
    "# import pandas as pd\n",
    "# import matplotlib.pyplot as plt\n",
    "# import numpy as np\n",
    "# # from IPython.display import Image, display\n",
    "# # from matplotlib.pyplot import rc_context\n",
    "# # from epinuc import *\n",
    "# sys.path.append(parent_dir+'/functions/')\n",
    "# from usefull_functions import *\n",
    "# from functions import *\n",
    "# from plot_functions import *\n",
    "# from clustering_functions import *\n",
    "# from xg_shap import * \n",
    "\n",
    "# plt.rcParams[\"figure.figsize\"] = (5.0, 4.0)  # Set default size of plots.\n",
    "# plt.rcParams[\"image.interpolation\"] = \"nearest\"\n",
    "# plt.rcParams[\"image.cmap\"] = \"gray\"\n",
    "# %matplotlib inline\n",
    "\n",
    "# pd.set_option('display.max_rows', 500)\n",
    "# pd.set_option('display.max_columns', 500)\n",
    "# pd.set_option('display.width', 180)  # according to screen width\n",
    "\n",
    "# %load_ext autoreload\n",
    "# %autoreload 2"
   ]
  },
  {
   "cell_type": "code",
   "execution_count": null,
   "metadata": {},
   "outputs": [],
   "source": []
  },
  {
   "attachments": {},
   "cell_type": "markdown",
   "metadata": {},
   "source": [
    "# load data; print data properties"
   ]
  },
  {
   "cell_type": "code",
   "execution_count": null,
   "metadata": {
    "ExecuteTime": {
     "end_time": "2023-01-16T21:12:29.090540Z",
     "start_time": "2023-01-16T21:12:28.992321Z"
    },
    "execution": {
     "iopub.execute_input": "2023-12-13T20:50:39.577207Z",
     "iopub.status.busy": "2023-12-13T20:50:39.576505Z",
     "iopub.status.idle": "2023-12-13T20:50:39.617385Z",
     "shell.execute_reply": "2023-12-13T20:50:39.616435Z"
    }
   },
   "outputs": [],
   "source": [
    "# def load_data():\n",
    "#     dir_data = os.path.abspath(os.path.join(    parent_dir, os.pardir))+f'/{dir_data1}/'\n",
    "#     dir_plots = os.path.abspath(os.path.join( parent_dir, os.pardir))+f'/_sample_{j}_{dir_data1}_{date}/'\n",
    "#     dir_index =  '/home/yishai/breast_cancer/indexes/'\n",
    "#     folderExists(dir_plots)\n",
    "#     settings = (dir_plots, args['show'], args['saveSVG'])\n",
    "#     singleSample = True if 'b' not in j else False\n",
    "#     print(f'singleSample is: {singleSample}')\n",
    "\n",
    "#     # ---------------------------------------\n",
    "\n",
    "#     k = pickle_load('k'+j+'_dict', dir_data)['k'].reset_index(drop=True)\n",
    "#     # CAll = pd.concat([k.copy()])\n",
    "#     print(f'k size: {len(k)}')\n",
    "\n",
    "\n",
    "#     names_dict = pickle_load('k'+j+'_names_dict', dir_data)\n",
    "#     # verify if needed; #remove them from the names_dict; they need to be only in cellcycle\n",
    "#     names_dict = names_dict if '.2a' not in j else removeFeatures(names_dict.copy(),remove_features = ['CyclinB1', 'pRB','H3S28p','DNA2'])#\n",
    "\n",
    "#     NamesAll = names_dict['NamesAll']\n",
    "\n",
    "\n",
    "#     # ---------------------------------------\n",
    "#     groups = [['CellIden',              'EpiCols',              'CellIden+EpiCols', ],\n",
    "#             [names_dict['CellIden'], names_dict['EpiCols'], names_dict['CellIden']+names_dict['EpiCols'],]]#EpiCols = ['EpiCols'] +['MBD']\n",
    "#     if '.2a' in j:\n",
    "#         groups[0].append('CyclinB1')\n",
    "#         groups[1].append(['CyclinB1', 'pRB','H3S28p','DNA2'])\n",
    "\n",
    "#     params = ['iden', 'epi', 'all','cell'][group_ind]\n",
    "#     name = groups[0][group_ind]\n",
    "#     title, featureGroup = f'samp{j} {name} Based ', groups[1][group_ind]\n",
    "#     figname = title.replace(' ','_')\n",
    "#     print(f'title; {title}, figname; {figname}, params (for db and umap);{params}')\n",
    "\n",
    "\n",
    "\n"
   ]
  },
  {
   "attachments": {},
   "cell_type": "markdown",
   "metadata": {},
   "source": [
    "### UMAP\n",
    "\n",
    "plot for each feature according to its intensity\n"
   ]
  },
  {
   "cell_type": "code",
   "execution_count": null,
   "metadata": {
    "ExecuteTime": {
     "end_time": "2023-01-16T21:12:51.555507Z",
     "start_time": "2023-01-16T21:12:29.195357Z"
    },
    "execution": {
     "iopub.execute_input": "2023-12-13T20:50:39.621832Z",
     "iopub.status.busy": "2023-12-13T20:50:39.621152Z",
     "iopub.status.idle": "2023-12-13T20:50:40.074288Z",
     "shell.execute_reply": "2023-12-13T20:50:40.073586Z"
    }
   },
   "outputs": [],
   "source": [
    "if not args['calc_umap'] and os.path.isfile(dir_data + f'umapData_{figname}.p'): \n",
    "    umapData = pickle_load(f'umapData_{figname}', dir_data)\n",
    "else: #either we want to calculate umap again or the file does not exist\n",
    "    min_dist, n_neighbors = getValsCsv( dir_data, vars=[params, 'umap', j],vals = [])\n",
    "    umapData = calculate_umap(k[featureGroup].copy(), n_neighbors, min_dist)\n",
    "    pickle_dump(f'umapData_{figname}', umapData, dir_data)\n",
    "\n",
    "drawUMAP(umapData, ['H4'], k.copy(), settings,\n",
    "        #  title=f'min_dist = {min_dist}, n_neighbors = {n_neighbors}',\n",
    "            title=f'{title} UMAP ',\n",
    "            Figname='1_'+figname+'UMAP_(core)')\n"
   ]
  },
  {
   "attachments": {},
   "cell_type": "markdown",
   "metadata": {},
   "source": [
    "### Dbscan and clusters\n"
   ]
  },
  {
   "attachments": {},
   "cell_type": "markdown",
   "metadata": {},
   "source": [
    "Dbscan\n"
   ]
  },
  {
   "cell_type": "code",
   "execution_count": null,
   "metadata": {
    "execution": {
     "iopub.execute_input": "2023-12-13T20:50:40.079948Z",
     "iopub.status.busy": "2023-12-13T20:50:40.079163Z",
     "iopub.status.idle": "2023-12-13T20:50:40.700116Z",
     "shell.execute_reply": "2023-12-13T20:50:40.699345Z"
    }
   },
   "outputs": [],
   "source": [
    "from plot_functions import *\n",
    "args['calc_db'] = False\n",
    "if not os.path.isfile(dir_data + f'dbLabels_{figname}.p') or args['calc_db']: \n",
    "        eps, min_samples = getValsCsv(dir_data, vars=[params, 'db', j],vals = [])\n",
    "        labels, dbData  = calculate_dbscan(umapData,list(k.index), eps, min_samples); \n",
    "        colors = cluster_colors(labels)\n",
    "        pickle_dump(f'dbLabels_{figname}', labels, dir_data); pickle_dump(f'dbData_{figname}', dbData, dir_data); pickle_dump(f'dbColors_{figname}', colors, dir_data)\n",
    "\n",
    "labels,dbData,colors = [pickle_load(f'{i}_{figname}', dir_data) for i in ['dbLabels','dbData','dbColors']]\n",
    "drawDbscan(labels,dbData, settings,colors,\n",
    "                # title=f'min_samples = {min_samples}, eps = {eps}',\n",
    "                title=f'{title} DBscan ',\n",
    "                figname='1_'+figname+'DBscan')\n",
    "k['Clust'] = labels\n",
    "   "
   ]
  },
  {
   "cell_type": "markdown",
   "metadata": {},
   "source": [
    "# clustering cellcycle "
   ]
  },
  {
   "cell_type": "markdown",
   "metadata": {},
   "source": [
    "bimodal gassian fit"
   ]
  },
  {
   "cell_type": "code",
   "execution_count": null,
   "metadata": {
    "execution": {
     "iopub.execute_input": "2023-12-13T20:50:40.705788Z",
     "iopub.status.busy": "2023-12-13T20:50:40.705065Z",
     "iopub.status.idle": "2023-12-13T20:50:40.737267Z",
     "shell.execute_reply": "2023-12-13T20:50:40.736313Z"
    }
   },
   "outputs": [],
   "source": [
    "# if '.2a' in j and group_ind == 3:\n",
    "#     labels = None# verify that the labels from previous are not used\n",
    "#     if '_arcsinh' in j:\n",
    "#         from gaussian_fit import *\n",
    "\n",
    "\n",
    "#         x, y = sns.kdeplot(k['pRB'].copy(),label='label').lines[0].get_data()\n",
    "#         y =  np.asarray(y)/.2 if '18.2' in j else  np.asarray(y)**.5 #highlight the gaussians diffrence\n",
    "#         # plt.plot(x,y)\n",
    "\n",
    "#         cutoff = bimodal_minima(x,y,maxfev = 5000,plot=True)\n",
    "\n",
    "\n",
    "#         labels = np.zeros(len(k)).astype(int)\n",
    "#         labels[k['pRB']>cutoff] = 1\n",
    "\n",
    "#         pickle_dump(f'Labels_{figname}', labels, dir_data)\n",
    "        \n",
    "#     try:labels = pickle_load(f'Labels_samp_arcsinh{j}_CellCycle_', dir_data) \n",
    "#     except:pass\n",
    "#     names = ['pRB_low','pRB_high']\n",
    "#     colors = draw_clusters(data = umapData.copy(),labels = labels,title='cutoff clusters',figname='cutoff_clusters',settings = settings,names =names)   \n",
    "\n",
    "\n",
    "#     k['Clust'] = [names[l] for l in labels]#labels\n",
    "\n",
    "\n",
    "# -------------------------------\n",
    "if '.2a' in j and group_ind == 3:\n",
    "    labels = None# verify that the labels from previous are not used\n",
    "    if '_arcsinh' in j:\n",
    "        from gaussian_fit import *\n",
    "\n",
    "\n",
    "        x, y = sns.kdeplot(k['pRB'].copy(),label='label').lines[0].get_data()\n",
    "        y =  np.asarray(y)/.2 if '18.2' in j else  np.asarray(y)**.5 #highlight the gaussians diffrence\n",
    "        # plt.plot(x,y)\n",
    "        dir,show,_ = settings;saveSVG = True\n",
    "        cutoff = bimodal_minima(x,y,maxfev = 5000,settings =(dir,show,saveSVG))\n",
    "\n",
    "\n",
    "        labels = np.zeros(len(k)).astype(int)\n",
    "        labels[k['pRB']>cutoff] = 1\n",
    "\n",
    "        pickle_dump(f'Labels_{figname}', labels, dir_data)\n",
    "        \n",
    "    try:labels = pickle_load(f'Labels_samp_arcsinh{j}_CellCycle_', dir_data) \n",
    "    except:pass\n",
    "    names = ['pRB_low','pRB_high']\n",
    "    colors = draw_clusters(data = umapData.copy(),labels = labels,title='cutoff clusters',figname='cutoff_clusters',settings = settings,names =names)   \n",
    "\n",
    "\n",
    "    k['Clust'] = [names[l] for l in labels]#labels"
   ]
  },
  {
   "cell_type": "markdown",
   "metadata": {},
   "source": [
    "kmeans"
   ]
  },
  {
   "cell_type": "code",
   "execution_count": null,
   "metadata": {
    "execution": {
     "iopub.execute_input": "2023-12-13T20:50:40.741920Z",
     "iopub.status.busy": "2023-12-13T20:50:40.740997Z",
     "iopub.status.idle": "2023-12-13T20:50:40.770262Z",
     "shell.execute_reply": "2023-12-13T20:50:40.769203Z"
    }
   },
   "outputs": [],
   "source": [
    "# from clustering_functions import *\n",
    "\n",
    "# if '.2a' in j and group_ind == 3:\n",
    "#     if '_arcsinh' in j:\n",
    "#         # high prb\n",
    "#         labels = kmeans_fit(np.hstack ((umapData.copy(),CAll[[ 'pRB']].copy()))\n",
    "#                             ,n_clusters=2,n_init=10,max_iter=300)\n",
    "#         colors = draw_clusters(data = umapData.copy(),labels = labels,title='kmeans all clusters',figname='kmeans_all_clusters',settings = settings,\n",
    "#                 names =['pRB- ','pRB+']  )\n",
    "#         ind,_ = highClust_ind(k['pRB'],labels)\n",
    "\n",
    "\n",
    "#         # high CyclinB1\n",
    "#         labels1 = kmeans_fit(CAll[['CyclinB1']].loc[ind].copy(),n_clusters=2,n_init=10,max_iter=300)\n",
    "#         ind11,ind2 = highClust_ind(k.loc[ind]['CyclinB1'],labels1)\n",
    "#         labels[ind11] = 2#labels1[ind2]+2\n",
    "\n",
    "#         # high H3S28p\n",
    "#         labels2 = kmeans_fit(CAll[['H3S28p']].loc[ind].copy(),n_clusters=2,n_init=10,max_iter=300)\n",
    "#         ind12,ind2 = highClust_ind(k.loc[ind]['H3S28p'],labels2)\n",
    "#         labels[ind12] = 3#labels2[ind2]+4\n",
    "\n",
    "#         ind13= [i for i in ind12 if i not in ind11]\n",
    "#         labels[ind13] = 4\n",
    "        \n",
    "#     # load arcsin data\n",
    "      \n",
    "#         colors = draw_clusters(data = umapData.copy(),labels = labels,title='kmeans all clusters',figname='kmeans_all_clusters',settings = settings,\n",
    "#                 names =['pRB+ not M&G2','pRB- (GO)','pRB+ G2','pRB+ M','pRB+ G2&M']  )\n",
    "    \n",
    "    \n",
    "#         labels[ind12] = 2#labels2[ind2]+2\n",
    "#         pickle_dump(f'kmeanLabels_{figname}', labels, dir_data)\n",
    "#         # pickle_dump(f'kmeanColors_{figname}', colors, dir_data)\n",
    "#         labels,labels2 = None,None\n",
    "#     names =['not M&G2','pRB- (GO)','M&G2']\n",
    "#     labels = pickle_load(f'kmeanLabels_samp_arcsinh14.2a_CellCycle_', dir_data) \n",
    "#     # colors = pickle_load(f'kmeanColors_samp_arcsinh14.2a_CellCycle_', dir_data)\n",
    "#     colors = draw_clusters(data = umapData.copy(),labels = labels,title='kmeans all clusters',figname='kmeans_all_clusters1',settings = settings,\n",
    "#                 names =names)   \n",
    "    \n",
    "#     k['Clust'] = [names[l] for l in labels]#labels\n",
    "\n"
   ]
  },
  {
   "cell_type": "code",
   "execution_count": null,
   "metadata": {
    "execution": {
     "iopub.execute_input": "2023-12-13T20:50:40.774697Z",
     "iopub.status.busy": "2023-12-13T20:50:40.773939Z",
     "iopub.status.idle": "2023-12-13T20:50:40.801189Z",
     "shell.execute_reply": "2023-12-13T20:50:40.800159Z"
    }
   },
   "outputs": [],
   "source": [
    "# from plot_functions import *\n",
    " \n",
    "# # colors = draw_kmeans(data = umapData.copy(),labels = labels,title='kmeans all clusters',figname='kmeans_all_clusters1',settings = settings,\n",
    "# #             names =names,crossLabels = [labels__,1,None])\n",
    "\n",
    "# for i in range (3):\n",
    "#     print(i)\n",
    "#     draw_kmeans(data = umapData.copy(),labels = labels,title='kmeans all clusters',figname='kmeans_all_clusters1',settings = settings,\n",
    "#             names =names,crossLabels = [labels__,1,i])\n",
    "\n"
   ]
  },
  {
   "attachments": {},
   "cell_type": "markdown",
   "metadata": {},
   "source": [
    "adjusted dataset\n"
   ]
  },
  {
   "cell_type": "code",
   "execution_count": null,
   "metadata": {
    "execution": {
     "iopub.execute_input": "2023-12-13T20:50:40.805854Z",
     "iopub.status.busy": "2023-12-13T20:50:40.805020Z",
     "iopub.status.idle": "2023-12-13T20:50:40.836722Z",
     "shell.execute_reply": "2023-12-13T20:50:40.835845Z"
    }
   },
   "outputs": [],
   "source": [
    "\n",
    "from plot_functions import *\n",
    "    \n",
    "\n",
    "# create_adjusted = True\n",
    "if group_ind==2 and create_adjusted: #(  or ( '.2' in j))\n",
    "    if ('b' in j and 'a' not in j):\n",
    "        # remove -1 cluster\n",
    "        indArr,idx_adj,idx_stroma = createAdjustedDataset(k,j,dbscanData, labels,core_samples_mask,settings,figname,\n",
    "                            clustersToRemove=[],limits = (-1.8,None,None,None),drawFunc = drawDbscan,contained_samples = False)\n",
    "        k = k.copy().reset_index(drop = True).loc[idx_adj];dbscanData, labels,core_samples_mask = dbscanData[idx_adj], labels[idx_adj],core_samples_mask[idx_adj]\n",
    "        \n",
    "        indArr,idx_adj,idx_stroma = createAdjustedDataset(k,j,dbscanData, labels,core_samples_mask,settings,figname,\n",
    "                            clustersToRemove=[],limits = (None,2,None,None),drawFunc = drawDbscan,contained_samples = True)\n",
    "    elif ('.2' in j):\n",
    "        # remove -1 cluster\n",
    "        indArr,idx_adj,idx_stroma = createAdjustedDataset(k,j,dbscanData, labels,core_samples_mask,settings,figname,\n",
    "                            clustersToRemove=[],limits = (-1,None,None,None),drawFunc = drawDbscan,contained_samples = False)\n",
    "        \n",
    "\n",
    "    for kInd,ind in indArr.items():\n",
    "        print(f'samp:{kInd}, len:{len(ind)}')     \n",
    "        pickle_dump(f\"{kInd}_indexes\", ind,dir_index)\n",
    "                            \n",
    "    for i,idx in zip(['a','s'],[idx_adj,idx_stroma]):\n",
    "        kInd = f'{j}{i}'\n",
    "        newK = k.copy().reset_index(drop = True).loc[idx]\n",
    "        dict = None;dict ={}\n",
    "        dict['k'] = newK.copy()\n",
    "        pickle_dump(f'k{kInd}_dict', dict,dir_data)\n",
    "        pickle_dump(f'k{kInd}_names_dict', names_dict,dir_data)\n",
    "    # print(len(k))\n",
    "    # print(len(newK))\n",
    "    # k = newK.copy()\n",
    "    # CAll = pd.concat([k.copy()])\n",
    "\n",
    "\n",
    "      \n",
    "    indArr = None\n",
    "    # K = pickle_load(f'k{sampNum_}_dict', dir_data)['k'].reset_index(drop=True)\n",
    "    # ind_samp = [i for i, j in zip(k['ind'],k['samp'] == sampNum) if j]\n",
    "    # ind_samp = [ K.index[K['ind']==i][0] for i in ind_samp ]\n",
    "    # 7933\n"
   ]
  },
  {
   "attachments": {},
   "cell_type": "markdown",
   "metadata": {},
   "source": [
    "clusters"
   ]
  },
  {
   "attachments": {},
   "cell_type": "markdown",
   "metadata": {},
   "source": [
    "### HeatMap by clusters\n"
   ]
  },
  {
   "cell_type": "code",
   "execution_count": null,
   "metadata": {
    "ExecuteTime": {
     "end_time": "2023-01-16T21:13:14.816792Z",
     "start_time": "2023-01-16T21:13:12.557211Z"
    },
    "execution": {
     "iopub.execute_input": "2023-12-13T20:50:40.840848Z",
     "iopub.status.busy": "2023-12-13T20:50:40.840145Z",
     "iopub.status.idle": "2023-12-13T20:50:40.867694Z",
     "shell.execute_reply": "2023-12-13T20:50:40.866917Z"
    }
   },
   "outputs": [],
   "source": [
    "\n",
    "if args['visualize']:\n",
    "    \n",
    "    for group_name, group in zip(groups[0], groups[1]):       \n",
    "        HeatMap(k[labels != -1], group, settings,clustFeature='Clust',\n",
    "                title='HeatMap ' + title + ': '+group_name,\n",
    "                figname='1_'+figname+'ClustHeatMap_by_'+group_name)\n",
    "    \n"
   ]
  },
  {
   "attachments": {},
   "cell_type": "markdown",
   "metadata": {},
   "source": [
    "specific clusters and features"
   ]
  },
  {
   "cell_type": "code",
   "execution_count": null,
   "metadata": {
    "execution": {
     "iopub.execute_input": "2023-12-13T20:50:40.871781Z",
     "iopub.status.busy": "2023-12-13T20:50:40.871116Z",
     "iopub.status.idle": "2023-12-13T20:50:40.898097Z",
     "shell.execute_reply": "2023-12-13T20:50:40.897188Z"
    }
   },
   "outputs": [],
   "source": [
    "# from plot_functions import *\n",
    "# if args['visualize']:\n",
    "#     clusters =[0,1]\n",
    "#     group_name, group = 'specific_markers', ['H3K9me2', 'H3K4me3','H3K36me3','H4K20me3']\n",
    "#     kk=k.copy()\n",
    "#     # -----------------\n",
    "#     k = k.loc[[True if c in clusters else False for c in k['Clust'] ]]\n",
    "#     HeatMap(k, group, settings,clustFeature='Clust',\n",
    "#     title='HeatMap ' + title + ': '+group_name,\n",
    "#                 figname='1_'+figname+'ClustHeatMap_by_'+group_name)\n",
    "#     # ---------------------\n",
    "#     k=kk.copy()\n",
    "#     kk = None\n",
    "\n"
   ]
  },
  {
   "attachments": {},
   "cell_type": "markdown",
   "metadata": {},
   "source": [
    "### HeatMap by sample\n"
   ]
  },
  {
   "cell_type": "code",
   "execution_count": null,
   "metadata": {
    "execution": {
     "iopub.execute_input": "2023-12-13T20:50:40.902294Z",
     "iopub.status.busy": "2023-12-13T20:50:40.901575Z",
     "iopub.status.idle": "2023-12-13T20:50:40.929842Z",
     "shell.execute_reply": "2023-12-13T20:50:40.929058Z"
    }
   },
   "outputs": [],
   "source": [
    "\n",
    "from plot_functions import *\n",
    "if args['visualize'] and not singleSample:\n",
    "    for group_name, group in zip(groups[0], groups[1]):\n",
    "    # group_name, group = groups[0][-1], groups[1][-1]\n",
    "        HeatMap(k, group, settings, clustFeature='samp',\n",
    "                title='HeatMap ' + title + ': ' + group_name+' by_sample',\n",
    "                figname='1_'+figname+'SampHeatMap_' + group_name)\n"
   ]
  },
  {
   "cell_type": "code",
   "execution_count": null,
   "metadata": {
    "execution": {
     "iopub.execute_input": "2023-12-13T20:50:40.934385Z",
     "iopub.status.busy": "2023-12-13T20:50:40.933691Z",
     "iopub.status.idle": "2023-12-13T20:50:40.966470Z",
     "shell.execute_reply": "2023-12-13T20:50:40.965693Z"
    }
   },
   "outputs": [],
   "source": [
    "compare =True\n",
    "if args['visualize'] and'b2345' in j and compare:# compare sample 11,stroma and rest of the cells\n",
    "    # load from file\n",
    "    stroma = pickle_load('k'+'b2345s'+'_dict', dir_data)['k'].reset_index(drop=True);stroma['samp'] = 'stroma'\n",
    "\n",
    "    df = pickle_load('k'+'b2345a'+'_dict', dir_data)['k'].copy().reset_index(drop=True)\n",
    "    types = {4:'LUM-A',5:'LUM-A',7:'LUM-B',8:'LUM-A',13:'LUM-B',14:'LUM-B',15:'LUM-A',\n",
    "             17:'LUM-B',18:'LUM-A',19:'LUM-A',20:'LUM-A',11:'TN',}\n",
    "\n",
    "    for samp in df['samp'].unique():\n",
    "        if '.1' in str(samp):\n",
    "            ind = df['samp']==samp\n",
    "            df.drop(df[ind].index,inplace=True)\n",
    "    IND = ~np.zeros(len(df)).astype(bool)\n",
    "\n",
    "    for samp,type in types.items():\n",
    "        ind = df['samp']==samp\n",
    "        df['samp'][ind] = type\n",
    "\n",
    "        IND*=~ind# remove the 11 from the rest of the cells\n",
    "\n",
    "    \n",
    "    df['samp'][IND] = 'rest'\n",
    "    df = pd.concat([df.copy(),stroma], ignore_index=True,axis=0,).reset_index(drop=True)\n",
    "    print(df['samp'].unique())\n",
    "\n",
    "\n",
    "\n",
    "    from plot_functions import *\n",
    "    for group_name, group in zip(groups[0], groups[1]):#df[labels != -1]\n",
    "        \n",
    "    # group_name, group = groups[0][-1], groups[1][-1]\n",
    "        HeatMap(df, group, settings, clustFeature='samp',\n",
    "                title='HeatMap ' + title + ': ' + group_name+' stroma_vs_11_vsrest',\n",
    "                figname='1_'+figname+'stroma_vs_11_vsrest_' + group_name)\n"
   ]
  },
  {
   "cell_type": "code",
   "execution_count": null,
   "metadata": {
    "execution": {
     "iopub.execute_input": "2023-12-13T20:50:40.970340Z",
     "iopub.status.busy": "2023-12-13T20:50:40.969798Z",
     "iopub.status.idle": "2023-12-13T20:50:40.997827Z",
     "shell.execute_reply": "2023-12-13T20:50:40.997013Z"
    }
   },
   "outputs": [],
   "source": [
    "# if compare:# compare sample 11,stroma and rest of the cells\n",
    "#     # load from file\n",
    "\n",
    "#     df_a = pickle_load('k'+'b2345a'+'_dict', dir_data)['k'].reset_index(drop=True)\n",
    "#     df_s = pickle_load('k'+'b2345s'+'_dict', dir_data)['k'].reset_index(drop=True)\n",
    "#     df11= df_a[df_a['samp']==11].copy().reset_index(drop=True)\n",
    "#     # df = pd.DataFrame(columns = k1['11'].columns)\n",
    "#     # for i,kk in k1.items():\n",
    "#     #     kk['samp'] = i\n",
    "#     #     df = pd.concat([df,kk.copy()], ignore_index=True,axis=0,)\n",
    "\n",
    "\n",
    "    \n",
    "\n",
    "\n",
    "\n",
    "\n",
    "\n",
    "\n",
    "\n",
    "#     keys = [f'{int(i)}a'  for i in k['samp'].unique() if '.1' not in str(i)];keys.remove('11a')\n",
    "#     keys = keys[:2]\n",
    "\n",
    "#     kk={}\n",
    "\n",
    "#     for i in keys:\n",
    "#         i_adj = f'{i}a'\n",
    "\n",
    "#         K = k[i].copy()\n",
    "#         # print(i_adj)\n",
    "#         # k[i_adj]= subsample_k(k[i].copy(),i_adj,dir_indexes)\n",
    "#         names[i_adj] = names[i].copy()\n",
    "#         idx = pickle_load(f\"{i_adj}_indexes\",dir_index)\n",
    "        \n",
    "#         newIdx = [ K.index[K['ind']==i][0] for i in idx ]\n",
    "#         kk[i_adj]=K.loc[newIdx].copy()\n",
    "#         print (f'original size: {len(k[i])}, new size: {len(k[i_adj])} indexes loaded from file')\n",
    "#         # del k[i];del names[i]\n",
    "\n",
    "\n",
    "\n",
    "\n",
    "\n",
    "\n",
    "#     print(keys)\n",
    "#     k1,names1= createAppendDataset(kk.copy(),names_dict.copy(),keys,[] )\n",
    "\n",
    "# #     for group_name, group in zip(groups[0], groups[1]):\n",
    "# #     # group_name, group = groups[0][-1], groups[1][-1]\n",
    "# #         HeatMap(k[labels != -1], group, settings, clustFeature='samp',\n",
    "# #                 title='HeatMap ' + title + ': ' + group_name+' by_sample',\n",
    "# #                 figname='1_'+figname+'SampHeatMap_'+group_name)\n",
    "\n",
    "\n"
   ]
  },
  {
   "attachments": {},
   "cell_type": "markdown",
   "metadata": {},
   "source": [
    "### MeanDist\n"
   ]
  },
  {
   "cell_type": "code",
   "execution_count": null,
   "metadata": {
    "ExecuteTime": {
     "end_time": "2023-01-16T21:13:15.949573Z",
     "start_time": "2023-01-16T21:13:14.820259Z"
    },
    "execution": {
     "iopub.execute_input": "2023-12-13T20:50:41.002898Z",
     "iopub.status.busy": "2023-12-13T20:50:41.002231Z",
     "iopub.status.idle": "2023-12-13T20:50:41.032406Z",
     "shell.execute_reply": "2023-12-13T20:50:41.031496Z"
    }
   },
   "outputs": [],
   "source": [
    "\n",
    "if args['visualize']:\n",
    "    for group_name, group in zip(groups[0], groups[1]):\n",
    "        MeanDist(k[labels == 0], k[labels == 1], group, settings,\n",
    "                title='MeanDist ' + title + ': '+group_name,\n",
    "                figname='1_'+figname+'ClustMeanDist_by_'+group_name)\n"
   ]
  },
  {
   "attachments": {},
   "cell_type": "markdown",
   "metadata": {},
   "source": [
    "## sample percentage\n"
   ]
  },
  {
   "attachments": {},
   "cell_type": "markdown",
   "metadata": {},
   "source": [
    "by sample"
   ]
  },
  {
   "cell_type": "code",
   "execution_count": null,
   "metadata": {
    "ExecuteTime": {
     "end_time": "2023-01-16T21:13:44.808076Z",
     "start_time": "2023-01-16T21:13:15.951592Z"
    },
    "execution": {
     "iopub.execute_input": "2023-12-13T20:50:41.037384Z",
     "iopub.status.busy": "2023-12-13T20:50:41.036720Z",
     "iopub.status.idle": "2023-12-13T20:50:41.067915Z",
     "shell.execute_reply": "2023-12-13T20:50:41.066948Z"
    }
   },
   "outputs": [],
   "source": [
    "# from plot_functions import *\n",
    "if args['visualize'] and not singleSample:\n",
    "    # unique by_sample values\n",
    "    for sampNum in np.unique(k['samp']):\n",
    "        ind_samp = [i for i, j in enumerate(k['samp'] == sampNum) if j]\n",
    "        labels_samp = np.ones(len(ind_samp))*sampNum\n",
    "        drawUMAPbySample(umapData, k, ind_samp, labels_samp, settings,\n",
    "                         title=title+f' UMAP - by_sample={sampNum}',\n",
    "                         Figname='4_'+figname+f'UMAP_sample{sampNum}_by_sample')\n",
    "    arr = []\n",
    "    clustNums = np.unique(k.Clust)\n",
    "    clustNums = clustNums[clustNums != -1]\n",
    "    for clustNum in clustNums:\n",
    "        ind = k.Clust == clustNum\n",
    "        PercentageBySample = ClustPercentageBySample(k[ind], 'samp')\n",
    "\n",
    "        arr.append([clustNum, PercentageBySample])\n",
    "    saveCsv(dir_plots, figname, arr)\n"
   ]
  },
  {
   "attachments": {},
   "cell_type": "markdown",
   "metadata": {},
   "source": [
    "all samples"
   ]
  },
  {
   "cell_type": "code",
   "execution_count": null,
   "metadata": {
    "execution": {
     "iopub.execute_input": "2023-12-13T20:50:41.073022Z",
     "iopub.status.busy": "2023-12-13T20:50:41.071643Z",
     "iopub.status.idle": "2023-12-13T20:50:41.104130Z",
     "shell.execute_reply": "2023-12-13T20:50:41.103250Z"
    }
   },
   "outputs": [],
   "source": [
    "from plot_functions import *\n",
    "\n",
    "\n",
    "if args['visualize'] and not singleSample:\n",
    "    # remove 4.1,7.1 and subsample \n",
    "    uniq = [ i   for i in k['samp'].unique() if i not in [4.1,7.1,8.1]]\n",
    "    ind_samp =[]\n",
    "    for i in uniq:\n",
    "        ind  = k.index.values[k['samp']==i]\n",
    "        ind = list(np.random.choice(ind, replace = False, size = int(20000/len(uniq))))\n",
    "        ind_samp += ind\n",
    "    ind_samp = np.asarray(ind_samp)\n",
    "\n",
    "    # ind_samp =k.index.values[[ True  if i in uniq else False for i in k['samp']]]\n",
    "    # ind_samp=np.random.choice(ind_samp, replace = False, size = int(len(ind_samp)/len(uniq)))\n",
    "    labels_samp = np.asarray(k['samp']).astype(int)[ind_samp]\n",
    "\n",
    "    # ind_samp = k.index.values\n",
    "    # labels_samp = np.asarray(k.by_sample)[ind_samp]\n",
    "\n",
    "\n",
    "    colors_samp = np.zeros((np.max(labels_samp)+2,4))\n",
    "    # hex colors\n",
    "    hex =  ['a6cee3','1f78b4','b2df8a','33a02c','fb9a99','e31a1c','fdbf6f','ff7f00','cab2d6','6a3d9a','ffff99','b15928']\n",
    "    # hex = ['00B3A4','3185FC','DB1374','490092','FEB6DB','F98510','E6C220','BFA180','920000','461A0A', \n",
    "    #        'FF0000','FF00FF',]\n",
    "        #    '00FFFF','0000FF','000080','008000','00FF00',   '808000','800000','800080','808080','C0C0C0','FFFFFF','000000']    \n",
    "    colors_samp[1+np.unique(labels_samp)] = np.asarray([hex_to_rgba(h) for h in hex])[:np.unique(labels_samp).shape[0]]\n",
    "    drawUMAPbySample(umapData, k, ind_samp, labels_samp, settings,colors_samp,backgroundColor = 'white',\n",
    "                        title=title+f' UMAP - by_sample=ALL',\n",
    "                        Figname='4_'+figname+f'UMAP_sampleAll_by_sample')\n",
    " \n"
   ]
  },
  {
   "attachments": {},
   "cell_type": "markdown",
   "metadata": {},
   "source": [
    "by cluster"
   ]
  },
  {
   "cell_type": "code",
   "execution_count": null,
   "metadata": {
    "execution": {
     "iopub.execute_input": "2023-12-13T20:50:41.108111Z",
     "iopub.status.busy": "2023-12-13T20:50:41.107422Z",
     "iopub.status.idle": "2023-12-13T20:50:41.139239Z",
     "shell.execute_reply": "2023-12-13T20:50:41.138170Z"
    }
   },
   "outputs": [],
   "source": [
    "from plot_functions import *\n",
    "if args['visualize'] and not singleSample and 'a' in j:#plot on adjusted\n",
    "    # plt.scatter(umapData[:,0],umapData[:,1],c = 'lightgrey', alpha=0.2,s=2)\n",
    "    uniq = [int(i) if (np.round(i,1) - np.round(i,0)==0) else float(i)  for i in np.unique(k['samp'])]\n",
    "    # print(uniq)\n",
    "    # unique by_sample values\n",
    "    for sampNum in uniq:\n",
    "        # sampNum = uniq[-1]\n",
    "        sampNum_ =f'{sampNum}a' if 'a' in j else sampNum     #load adjusted\n",
    "\n",
    "        # sample indexs which are the full dataset - filter db labels by it\n",
    "        K = pickle_load(f'k{sampNum_}_dict', dir_data)['k'].reset_index(drop=True)\n",
    "        if 'a' not in sampNum_:\n",
    "            ind_samp = [i for i, j in zip(k['ind'],k['samp'] == sampNum) if j]\n",
    "            ind_samp = [ K.index[K['ind']==i][0] for i in ind_samp ]\n",
    "        else:#all ind are in the full dataset\n",
    "            ind_samp = K.index\n",
    "\n",
    "\n",
    "        K = None\n",
    "        # corresponding indexes in the full data set - where each point in the full umap\n",
    "        ind_umap = [i for i, j in zip(k.index,k['samp'] == sampNum) if j]\n",
    "        labels_samp = np.asarray(pickle_load(f'dbLabels_samp{sampNum_}_{name}_Based_', dir_data))[ind_samp]\n",
    "\n",
    "        colors_samp = np.asarray(pickle_load(f'dbColors_samp{sampNum_}_{name}_Based_', dir_data))\n",
    "        # colors_samp = np.vstack(([0,0,0,1],np.asarray(pickle_load(f'dbColors_samp{sampNum_}_{name}_', dir_data))))\n",
    "\n",
    "        drawUMAPbySample(umapData, k, ind_umap, labels_samp, settings,colors_samp,\n",
    "                         title=title+f' UMAP - by_sample={sampNum} clusters',\n",
    "                         Figname='4_'+figname+f'UMAP_sample{sampNum}_by_sample_clusters')\n"
   ]
  },
  {
   "cell_type": "markdown",
   "metadata": {},
   "source": [
    "cellcycle clustering"
   ]
  },
  {
   "cell_type": "code",
   "execution_count": null,
   "metadata": {
    "execution": {
     "iopub.execute_input": "2023-12-13T20:50:41.143745Z",
     "iopub.status.busy": "2023-12-13T20:50:41.142923Z",
     "iopub.status.idle": "2023-12-13T20:50:41.170423Z",
     "shell.execute_reply": "2023-12-13T20:50:41.169501Z"
    }
   },
   "outputs": [],
   "source": [
    "\n",
    "# # # from plot_functions import *\n",
    "\n",
    "# #     # plt.scatter(umapData[:,0],umapData[:,1],c = 'lightgrey', alpha=0.2,s=2)\n",
    "# def read_labels_from_unique_samples():\n",
    "#     uniq = [int(i) if (np.round(i,1) - np.round(i,0)==0) else float(i)  for i in np.unique(k['samp'])]\n",
    "# #     # print(uniq)\n",
    "# #     # unique by_sample values\n",
    "#     clusters_list = []\n",
    "#     for sampNum in uniq:\n",
    "# #         # sampNum = uniq[-1]\n",
    "#         sampNum_ =f'{sampNum}a' if 'a' in j else sampNum     #load adjusted        \n",
    "# #         # sample indexs which are the full dataset - filter db labels by it\n",
    "#         K = pickle_load(f'k{sampNum_}_dict', dir_data)['k'].reset_index(drop=True)\n",
    "#         # if 'a' not in sampNum_:\n",
    "#         ind_samp = [i for i, j in zip(k['ind'],k['samp'] == sampNum) if j]\n",
    "#         ind_samp = [ K.index[K['ind']==i][0] for i in ind_samp ]\n",
    "#         # else:#all ind are in the full dataset\n",
    "#         #     ind_samp = K.index\n",
    "        \n",
    "#         # clusters of sample\n",
    "#         # labels_samp = np.asarray(pickle_load(f'dbLabels_samp{sampNum_}_{name}_', dir_data))[ind_samp]\n",
    "#         labels_samp = np.asarray(pickle_load(f'dbLabels_samp{sampNum_}_{name}_', dir_data))\n",
    "        \n",
    "#         clusters_list.append(labels_samp)\n",
    "#         K = None; ind_samp = None\n",
    "#     return clusters_list\n",
    "\n",
    "# from cellcycle_clustering import *   \n",
    "# if not singleSample:#plot on adjusted\n",
    "#     clusters_list  = read_labels_from_unique_samples()\n",
    "#     samples_list_ = split_into_unique_samples(k.copy())#split into list of uique i.e 4,4,1,7,8,8.1 etc -\n",
    "    \n",
    "#     drop_features =[]\n",
    "# # from cellcycle_clustering import *   \n",
    "\n",
    "#     dict = class_dict(add = '/home/yishai/Dropbox/CyTOF_Breast/Kaplan_5th/_clusters.csv',num=False)"
   ]
  },
  {
   "cell_type": "code",
   "execution_count": null,
   "metadata": {
    "execution": {
     "iopub.execute_input": "2023-12-13T20:50:41.174470Z",
     "iopub.status.busy": "2023-12-13T20:50:41.174147Z",
     "iopub.status.idle": "2023-12-13T20:50:41.200788Z",
     "shell.execute_reply": "2023-12-13T20:50:41.199811Z"
    }
   },
   "outputs": [],
   "source": [
    "# # drop_features = ['sample','cluster']\n",
    "# samples_list = samples_list_.copy()\n",
    "# feature_loc = 0\n",
    "\n",
    "# for samp,clust in zip(samples_list,clusters_list): # iterate on uniq sample\n",
    "#     ind0 = samp.index[0]\n",
    "    \n",
    "#     sampleID = samp.loc[ind0]['samp']\n",
    "   \n",
    "#     try:\n",
    "#         samp.insert(feature_loc,'class',[dict[(sampleID, cluster)] for  cluster in clust.copy()])\n",
    "#         samp.drop(drop_features,axis = 1,inplace = True)\n",
    "#         print(sampleID)\n",
    "#     except:pass\n",
    "# # print(samples_list[0])"
   ]
  },
  {
   "cell_type": "code",
   "execution_count": null,
   "metadata": {
    "execution": {
     "iopub.execute_input": "2023-12-13T20:50:41.205071Z",
     "iopub.status.busy": "2023-12-13T20:50:41.204284Z",
     "iopub.status.idle": "2023-12-13T20:50:41.232048Z",
     "shell.execute_reply": "2023-12-13T20:50:41.231180Z"
    }
   },
   "outputs": [],
   "source": [
    "\n",
    "# for df in samples_list:\n",
    "#     ind0 = df.index[0]\n",
    "#     sampleID = df.loc[ind0]['samp']\n",
    "#     if sampleID in [4.0,7.0,17.0,18.0,19.0,20.0]: \n",
    "#         # print(sampleID)\n",
    "#         arr={}\n",
    "#         arr['size'] = len(df)\n",
    "#         uniq = np.sort(df['class'].unique())\n",
    "#         for u in uniq:\n",
    "#             arr[u] = np.round(len(df[df['class']==u])/arr['size'],3)\n",
    "        \n",
    "            \n",
    "#         # print (uniq)\n",
    "#         print (sampleID, arr)"
   ]
  },
  {
   "cell_type": "markdown",
   "metadata": {},
   "source": [
    ".2_adj - load cellcycle_labels from arcsin sample"
   ]
  },
  {
   "cell_type": "code",
   "execution_count": null,
   "metadata": {
    "execution": {
     "iopub.execute_input": "2023-12-13T20:50:41.236852Z",
     "iopub.status.busy": "2023-12-13T20:50:41.236066Z",
     "iopub.status.idle": "2023-12-13T20:50:41.265967Z",
     "shell.execute_reply": "2023-12-13T20:50:41.264891Z"
    }
   },
   "outputs": [],
   "source": [
    "# from plot_functions import *\n",
    "if '.2a' in j and group_ind==2:  \n",
    "    # k['kmean_labels'] = pickle_load(f'kmeanLabels_samp{j}_CellCycle_', dir_data).astype(float)\n",
    "    k['cellcycle_labels'] = pickle_load(f'Labels_samp_arcsinh{j}_CellCycle_', dir_data).astype(float)\n",
    "    names =['pRB-','pRB+']\n",
    "\n",
    "    # colors = draw_kmeans(data = umapData.copy(),labels = labels,title='kmeans all clusters',figname='kmeans_all_clusters',settings = settings,\n",
    "    #             names =['not M&G1','pRB- (GO)','M&G1'])\n",
    "\n",
    "    arr = []\n",
    "    clustNums = np.unique(k.Clust)\n",
    "    clustNums = clustNums[clustNums != -1]\n",
    "    for clustNum in clustNums:\n",
    "        ind = k.Clust == clustNum #filter by db clusters\n",
    "        PercentageBySample = ClustPercentageBySample(k[ind], 'cellcycle_labels',names =names)#names =['not M&G2','pRB- (GO)','M&G2']#names = ['pRB+ not M&G2','pRB- (GO)','2','pRB+ G2','4','pRB+ M','pRB+ G2&M']\n",
    "        arr.append([clustNum, PercentageBySample])\n",
    "            \n",
    "\n",
    "\n",
    "    saveCsv(dir_plots, f'{j}_cellcycle_labels', arr)\n",
    " \n",
    "\n"
   ]
  },
  {
   "cell_type": "code",
   "execution_count": null,
   "metadata": {
    "execution": {
     "iopub.execute_input": "2023-12-13T20:50:41.270082Z",
     "iopub.status.busy": "2023-12-13T20:50:41.269324Z",
     "iopub.status.idle": "2023-12-13T20:50:41.296621Z",
     "shell.execute_reply": "2023-12-13T20:50:41.295700Z"
    }
   },
   "outputs": [],
   "source": [
    "    # for sampNum in clustNums:\n",
    "    #     # sampNum = uniq[-1]\n",
    "\n",
    "    #     # ind_umap = [i for i, j in enumerate(k.by_sample == sampNum) if j]\n",
    "    #     # labels_samp = np.asarray(pickle_load(f'dbLabels_samp{sampNum}_{name}_', dir_data))\n",
    "        \n",
    "    #     # sample indexs which are the full dataset - filter db labels by it\n",
    "    #     # K = pickle_load(f'k{sampNum}_dict', dir_data)['k'].reset_index(drop=True)\n",
    "    #     ind_samp = [i for i, j in zip(k.index,k['Clust'] == sampNum) if j]\n",
    "    #     # corresponding indexes in the full data set - where each point in the full umap\n",
    "    #     labels_samp = np.asarray(k['kmean_labels'])[ind_samp]\n",
    "    #     # colors_samp = pickle_load(f'dbColors_samp{sampNum}_{name}_', dir_data)\n",
    "    #     colors_samp = np.vstack(([0,0,0,1],colors))\n",
    "    #     # pickle_dump(f'dbColors_{figname}', colors, dir_data)\n",
    "\n",
    "    #     drawUMAPbySample(umapData, k, ind_samp, labels_samp, settings,colors_samp,\n",
    "    #                         title=title+f' UMAP - by_sample={sampNum} clusters',\n",
    "    #                         Figname='4_'+figname+f'UMAP_sample{sampNum}_by_sample_clusters')"
   ]
  },
  {
   "attachments": {},
   "cell_type": "markdown",
   "metadata": {},
   "source": [
    "## features on UMAP\n"
   ]
  },
  {
   "attachments": {},
   "cell_type": "markdown",
   "metadata": {},
   "source": [
    "shap"
   ]
  },
  {
   "cell_type": "code",
   "execution_count": null,
   "metadata": {
    "execution": {
     "iopub.execute_input": "2023-12-13T20:50:41.301095Z",
     "iopub.status.busy": "2023-12-13T20:50:41.300279Z",
     "iopub.status.idle": "2023-12-13T20:50:41.327505Z",
     "shell.execute_reply": "2023-12-13T20:50:41.326514Z"
    }
   },
   "outputs": [],
   "source": [
    "# if args['visualize'] and args['plotUMAP']:\n",
    "#     ind = labels !=-1 # drop unclustered rows (clust==-1)\n",
    "#     accuracy = xg_classification_shap(CAll[featureGroup].copy(),labels.copy(),ind,colors,\n",
    "#                                     settings,figname='5_'+figname+'shap')\n",
    "#     print(f\"accuracy {j}_{group_ind}: {accuracy}%\")"
   ]
  },
  {
   "attachments": {},
   "cell_type": "markdown",
   "metadata": {},
   "source": [
    "plot Clusters"
   ]
  },
  {
   "cell_type": "code",
   "execution_count": null,
   "metadata": {
    "execution": {
     "iopub.execute_input": "2023-12-13T20:50:41.331948Z",
     "iopub.status.busy": "2023-12-13T20:50:41.331374Z",
     "iopub.status.idle": "2023-12-13T20:50:41.359790Z",
     "shell.execute_reply": "2023-12-13T20:50:41.358761Z"
    }
   },
   "outputs": [],
   "source": [
    "# if args['visualize'] and args['plotUMAP']:\n",
    "#     plotClusters(k, umapData, labels, colors, NamesAll, settings,\n",
    "#                 title='Clusters ' + title,\n",
    "#                 figname='1_'+figname+'Clusters')"
   ]
  },
  {
   "attachments": {},
   "cell_type": "markdown",
   "metadata": {},
   "source": [
    "plot features on umap "
   ]
  },
  {
   "cell_type": "markdown",
   "metadata": {},
   "source": []
  },
  {
   "cell_type": "code",
   "execution_count": null,
   "metadata": {
    "execution": {
     "iopub.execute_input": "2023-12-13T20:50:41.364139Z",
     "iopub.status.busy": "2023-12-13T20:50:41.363634Z",
     "iopub.status.idle": "2023-12-13T20:50:41.394727Z",
     "shell.execute_reply": "2023-12-13T20:50:41.393774Z"
    }
   },
   "outputs": [],
   "source": [
    "if args['visualize'] and args['plotUMAP']:\n",
    "    cols = NamesAll.copy()\n",
    "    # cols = [NamesAll[0]]\n",
    "    for i in  ['CyclinB1', 'pRB','H3S28p','DNA2']:\n",
    "        if i not in cols and i in k:\n",
    "            cols.append(i)\n",
    "            # print(f'added {i} to NamesAll')\n",
    "\n",
    "    limits = np.hstack((np.floor([2*x for x in [umapData[:,0].min(),umapData[:,1].min()]])/2,\\\n",
    "                        np.ceil([2*x for x in [umapData[:,0].max(),umapData[:,1].max()]])/2))\n",
    "    ind = k.index\n",
    "    drawUMAP(umapData[ind], cols, k.copy().loc[ind], settings,limits = limits,\n",
    "             title='UMAP ' + title,\n",
    "             Figname='2_'+figname+'UMAP_')\n",
    "    \n",
    "    ind = list(ind[k.Clust != -1])#remove unclustered -1\n",
    "    # ind=np.random.choice(ind, replace = False, size = int(len(ind)/4)) #dilute sub sample so view is sparse\n",
    "    drawUMAP(umapData[ind], cols, k.copy().loc[ind], settings,limits = limits,\n",
    "            title='UMAP ' + title,\n",
    "            Figname='2_'+figname+'UMAP_without_unclustered(-1)_')\n",
    "    # ['CyclinB1', 'pRB','H3S28p','DNA2']\n"
   ]
  },
  {
   "cell_type": "markdown",
   "metadata": {},
   "source": [
    "plot histograms"
   ]
  },
  {
   "cell_type": "code",
   "execution_count": null,
   "metadata": {
    "execution": {
     "iopub.execute_input": "2023-12-13T20:50:41.399944Z",
     "iopub.status.busy": "2023-12-13T20:50:41.399176Z",
     "iopub.status.idle": "2023-12-13T20:50:41.428895Z",
     "shell.execute_reply": "2023-12-13T20:50:41.428065Z"
    }
   },
   "outputs": [],
   "source": [
    "from plot_functions import *    \n",
    "if '.2a' in j and group_ind==2:  \n",
    "    import seaborn as sns\n",
    "    K = {\n",
    "        'pRB+':k[k['cellcycle_labels']==1].copy(),\n",
    "        'pRB-':k[k['cellcycle_labels']==0].copy(),\n",
    "        }\n",
    "    plot_hist(K,NamesAll.copy(),figures ={'pRB+':1,'pRB-':1},settings = settings,numSubplots = 1,\n",
    "        func = sns.kdeplot,title = 'Cellcycle',Figname = '6_Hist_Cellcycle_' ) \n",
    "    K = None"
   ]
  },
  {
   "attachments": {},
   "cell_type": "markdown",
   "metadata": {},
   "source": [
    "## scatter figures\n"
   ]
  },
  {
   "cell_type": "code",
   "execution_count": null,
   "metadata": {
    "execution": {
     "iopub.execute_input": "2023-12-13T20:50:41.433612Z",
     "iopub.status.busy": "2023-12-13T20:50:41.432736Z",
     "iopub.status.idle": "2023-12-13T20:50:41.459406Z",
     "shell.execute_reply": "2023-12-13T20:50:41.458491Z"
    }
   },
   "outputs": [],
   "source": [
    "# if args['visualize']:\n",
    "#     try:\n",
    "#         scatter(k, 'MBD', 'DNA2', title, figname, settings)\n",
    "#     except:\n",
    "#         print('wanted features not in sample')\n",
    "# # k.columns"
   ]
  },
  {
   "attachments": {},
   "cell_type": "markdown",
   "metadata": {},
   "source": [
    "## clear data\n"
   ]
  },
  {
   "cell_type": "code",
   "execution_count": null,
   "metadata": {
    "ExecuteTime": {
     "end_time": "2023-01-16T21:13:44.860070Z",
     "start_time": "2023-01-16T21:13:44.809974Z"
    },
    "execution": {
     "iopub.execute_input": "2023-12-13T20:50:41.464452Z",
     "iopub.status.busy": "2023-12-13T20:50:41.463528Z",
     "iopub.status.idle": "2023-12-13T20:50:41.491374Z",
     "shell.execute_reply": "2023-12-13T20:50:41.490351Z"
    }
   },
   "outputs": [],
   "source": [
    "# dbscanData, umapData,k, CAll,labels = None,None,None,None,None\n",
    "# imList2pdf(dir_plots,j,['CellIden','EpiCols','CellIden+EpiCols'])\n"
   ]
  }
 ],
 "metadata": {
  "kernelspec": {
   "display_name": "torch39",
   "language": "python",
   "name": "python3"
  },
  "language_info": {
   "codemirror_mode": {
    "name": "ipython",
    "version": 3
   },
   "file_extension": ".py",
   "mimetype": "text/x-python",
   "name": "python",
   "nbconvert_exporter": "python",
   "pygments_lexer": "ipython3",
   "version": "3.9.16"
  },
  "toc": {
   "base_numbering": 1,
   "nav_menu": {},
   "number_sections": true,
   "sideBar": true,
   "skip_h1_title": false,
   "title_cell": "Table of Contents",
   "title_sidebar": "Contents",
   "toc_cell": false,
   "toc_position": {},
   "toc_section_display": true,
   "toc_window_display": false
  },
  "varInspector": {
   "cols": {
    "lenName": 16,
    "lenType": 16,
    "lenVar": 40
   },
   "kernels_config": {
    "python": {
     "delete_cmd_postfix": "",
     "delete_cmd_prefix": "del ",
     "library": "var_list.py",
     "varRefreshCmd": "print(var_dic_list())"
    },
    "r": {
     "delete_cmd_postfix": ") ",
     "delete_cmd_prefix": "rm(",
     "library": "var_list.r",
     "varRefreshCmd": "cat(var_dic_list()) "
    }
   },
   "types_to_exclude": [
    "module",
    "function",
    "builtin_function_or_method",
    "instance",
    "_Feature"
   ],
   "window_display": false
  },
  "vscode": {
   "interpreter": {
    "hash": "25238166783bd3667da868d9e05a785eda3f5ca355f77ce9c051267fa7411fd2"
   }
  },
  "widgets": {
   "application/vnd.jupyter.widget-state+json": {
    "state": {
     "06f3414c4d5f457ab2e1dd774ba4c5e7": {
      "model_module": "@jupyter-widgets/base",
      "model_module_version": "1.2.0",
      "model_name": "LayoutModel",
      "state": {
       "_model_module": "@jupyter-widgets/base",
       "_model_module_version": "1.2.0",
       "_model_name": "LayoutModel",
       "_view_count": null,
       "_view_module": "@jupyter-widgets/base",
       "_view_module_version": "1.2.0",
       "_view_name": "LayoutView",
       "align_content": null,
       "align_items": null,
       "align_self": null,
       "border": null,
       "bottom": null,
       "display": null,
       "flex": null,
       "flex_flow": null,
       "grid_area": null,
       "grid_auto_columns": null,
       "grid_auto_flow": null,
       "grid_auto_rows": null,
       "grid_column": null,
       "grid_gap": null,
       "grid_row": null,
       "grid_template_areas": null,
       "grid_template_columns": null,
       "grid_template_rows": null,
       "height": null,
       "justify_content": null,
       "justify_items": null,
       "left": null,
       "margin": null,
       "max_height": null,
       "max_width": null,
       "min_height": null,
       "min_width": null,
       "object_fit": null,
       "object_position": null,
       "order": null,
       "overflow": null,
       "overflow_x": null,
       "overflow_y": null,
       "padding": null,
       "right": null,
       "top": null,
       "visibility": null,
       "width": null
      }
     },
     "0e308bf6b7e14767b7ca9b2f922109b6": {
      "model_module": "@jupyter-widgets/base",
      "model_module_version": "1.2.0",
      "model_name": "LayoutModel",
      "state": {
       "_model_module": "@jupyter-widgets/base",
       "_model_module_version": "1.2.0",
       "_model_name": "LayoutModel",
       "_view_count": null,
       "_view_module": "@jupyter-widgets/base",
       "_view_module_version": "1.2.0",
       "_view_name": "LayoutView",
       "align_content": null,
       "align_items": null,
       "align_self": null,
       "border": null,
       "bottom": null,
       "display": null,
       "flex": null,
       "flex_flow": null,
       "grid_area": null,
       "grid_auto_columns": null,
       "grid_auto_flow": null,
       "grid_auto_rows": null,
       "grid_column": null,
       "grid_gap": null,
       "grid_row": null,
       "grid_template_areas": null,
       "grid_template_columns": null,
       "grid_template_rows": null,
       "height": null,
       "justify_content": null,
       "justify_items": null,
       "left": null,
       "margin": null,
       "max_height": null,
       "max_width": null,
       "min_height": null,
       "min_width": null,
       "object_fit": null,
       "object_position": null,
       "order": null,
       "overflow": null,
       "overflow_x": null,
       "overflow_y": null,
       "padding": null,
       "right": null,
       "top": null,
       "visibility": null,
       "width": null
      }
     },
     "16b218ae6a1d42d6ba3bcd3cd51868f8": {
      "model_module": "@jupyter-widgets/controls",
      "model_module_version": "1.5.0",
      "model_name": "HTMLModel",
      "state": {
       "_dom_classes": [],
       "_model_module": "@jupyter-widgets/controls",
       "_model_module_version": "1.5.0",
       "_model_name": "HTMLModel",
       "_view_count": null,
       "_view_module": "@jupyter-widgets/controls",
       "_view_module_version": "1.5.0",
       "_view_name": "HTMLView",
       "description": "",
       "description_tooltip": null,
       "layout": "IPY_MODEL_aa45da7e6f8d4978bcad0c6964dcdb45",
       "placeholder": "​",
       "style": "IPY_MODEL_963d770fa92546d2a2fee9963eea7ed9",
       "value": ""
      }
     },
     "23ddbb67697740dd8427d88ad1de2907": {
      "model_module": "@jupyter-widgets/base",
      "model_module_version": "1.2.0",
      "model_name": "LayoutModel",
      "state": {
       "_model_module": "@jupyter-widgets/base",
       "_model_module_version": "1.2.0",
       "_model_name": "LayoutModel",
       "_view_count": null,
       "_view_module": "@jupyter-widgets/base",
       "_view_module_version": "1.2.0",
       "_view_name": "LayoutView",
       "align_content": null,
       "align_items": null,
       "align_self": null,
       "border": null,
       "bottom": null,
       "display": null,
       "flex": null,
       "flex_flow": null,
       "grid_area": null,
       "grid_auto_columns": null,
       "grid_auto_flow": null,
       "grid_auto_rows": null,
       "grid_column": null,
       "grid_gap": null,
       "grid_row": null,
       "grid_template_areas": null,
       "grid_template_columns": null,
       "grid_template_rows": null,
       "height": null,
       "justify_content": null,
       "justify_items": null,
       "left": null,
       "margin": null,
       "max_height": null,
       "max_width": null,
       "min_height": null,
       "min_width": null,
       "object_fit": null,
       "object_position": null,
       "order": null,
       "overflow": null,
       "overflow_x": null,
       "overflow_y": null,
       "padding": null,
       "right": null,
       "top": null,
       "visibility": null,
       "width": null
      }
     },
     "38a56b43ec4f4532a81de796e66e72d5": {
      "model_module": "@jupyter-widgets/base",
      "model_module_version": "1.2.0",
      "model_name": "LayoutModel",
      "state": {
       "_model_module": "@jupyter-widgets/base",
       "_model_module_version": "1.2.0",
       "_model_name": "LayoutModel",
       "_view_count": null,
       "_view_module": "@jupyter-widgets/base",
       "_view_module_version": "1.2.0",
       "_view_name": "LayoutView",
       "align_content": null,
       "align_items": null,
       "align_self": null,
       "border": null,
       "bottom": null,
       "display": null,
       "flex": null,
       "flex_flow": null,
       "grid_area": null,
       "grid_auto_columns": null,
       "grid_auto_flow": null,
       "grid_auto_rows": null,
       "grid_column": null,
       "grid_gap": null,
       "grid_row": null,
       "grid_template_areas": null,
       "grid_template_columns": null,
       "grid_template_rows": null,
       "height": null,
       "justify_content": null,
       "justify_items": null,
       "left": null,
       "margin": null,
       "max_height": null,
       "max_width": null,
       "min_height": null,
       "min_width": null,
       "object_fit": null,
       "object_position": null,
       "order": null,
       "overflow": null,
       "overflow_x": null,
       "overflow_y": null,
       "padding": null,
       "right": null,
       "top": null,
       "visibility": null,
       "width": null
      }
     },
     "427df8bd34524867883d56842e1e3206": {
      "model_module": "@jupyter-widgets/controls",
      "model_module_version": "1.5.0",
      "model_name": "HTMLModel",
      "state": {
       "_dom_classes": [],
       "_model_module": "@jupyter-widgets/controls",
       "_model_module_version": "1.5.0",
       "_model_name": "HTMLModel",
       "_view_count": null,
       "_view_module": "@jupyter-widgets/controls",
       "_view_module_version": "1.5.0",
       "_view_name": "HTMLView",
       "description": "",
       "description_tooltip": null,
       "layout": "IPY_MODEL_aa45da7e6f8d4978bcad0c6964dcdb45",
       "placeholder": "​",
       "style": "IPY_MODEL_963d770fa92546d2a2fee9963eea7ed9",
       "value": "Epochs completed: 100%| "
      }
     },
     "46cfb27490464fb9bb8bbb4736e996d4": {
      "model_module": "@jupyter-widgets/controls",
      "model_module_version": "1.5.0",
      "model_name": "HBoxModel",
      "state": {
       "_dom_classes": [],
       "_model_module": "@jupyter-widgets/controls",
       "_model_module_version": "1.5.0",
       "_model_name": "HBoxModel",
       "_view_count": null,
       "_view_module": "@jupyter-widgets/controls",
       "_view_module_version": "1.5.0",
       "_view_name": "HBoxView",
       "box_style": "",
       "children": [
        "IPY_MODEL_427df8bd34524867883d56842e1e3206",
        "IPY_MODEL_57d7b943af584f85910737c463e86a22",
        "IPY_MODEL_fee3a2bc0026498caeed56ad392aa786"
       ],
       "layout": "IPY_MODEL_23ddbb67697740dd8427d88ad1de2907"
      }
     },
     "57d7b943af584f85910737c463e86a22": {
      "model_module": "@jupyter-widgets/controls",
      "model_module_version": "1.5.0",
      "model_name": "FloatProgressModel",
      "state": {
       "_dom_classes": [],
       "_model_module": "@jupyter-widgets/controls",
       "_model_module_version": "1.5.0",
       "_model_name": "FloatProgressModel",
       "_view_count": null,
       "_view_module": "@jupyter-widgets/controls",
       "_view_module_version": "1.5.0",
       "_view_name": "ProgressView",
       "bar_style": "success",
       "description": "",
       "description_tooltip": null,
       "layout": "IPY_MODEL_d4a865f2f6c148269ed582fb91283abe",
       "max": 200,
       "min": 0,
       "orientation": "horizontal",
       "style": "IPY_MODEL_625b7d51d5cb411dafd11d646d716ad7",
       "value": 200
      }
     },
     "625b7d51d5cb411dafd11d646d716ad7": {
      "model_module": "@jupyter-widgets/controls",
      "model_module_version": "1.5.0",
      "model_name": "ProgressStyleModel",
      "state": {
       "_model_module": "@jupyter-widgets/controls",
       "_model_module_version": "1.5.0",
       "_model_name": "ProgressStyleModel",
       "_view_count": null,
       "_view_module": "@jupyter-widgets/base",
       "_view_module_version": "1.2.0",
       "_view_name": "StyleView",
       "bar_color": null,
       "description_width": ""
      }
     },
     "6fa86c373c244ff083ddc97daa29d88c": {
      "model_module": "@jupyter-widgets/base",
      "model_module_version": "1.2.0",
      "model_name": "LayoutModel",
      "state": {
       "_model_module": "@jupyter-widgets/base",
       "_model_module_version": "1.2.0",
       "_model_name": "LayoutModel",
       "_view_count": null,
       "_view_module": "@jupyter-widgets/base",
       "_view_module_version": "1.2.0",
       "_view_name": "LayoutView",
       "align_content": null,
       "align_items": null,
       "align_self": null,
       "border": null,
       "bottom": null,
       "display": null,
       "flex": null,
       "flex_flow": null,
       "grid_area": null,
       "grid_auto_columns": null,
       "grid_auto_flow": null,
       "grid_auto_rows": null,
       "grid_column": null,
       "grid_gap": null,
       "grid_row": null,
       "grid_template_areas": null,
       "grid_template_columns": null,
       "grid_template_rows": null,
       "height": null,
       "justify_content": null,
       "justify_items": null,
       "left": null,
       "margin": null,
       "max_height": null,
       "max_width": null,
       "min_height": null,
       "min_width": null,
       "object_fit": null,
       "object_position": null,
       "order": null,
       "overflow": null,
       "overflow_x": null,
       "overflow_y": null,
       "padding": null,
       "right": null,
       "top": null,
       "visibility": null,
       "width": null
      }
     },
     "949c7d826b77466abe9f4a1b121983c4": {
      "model_module": "@jupyter-widgets/controls",
      "model_module_version": "1.5.0",
      "model_name": "HBoxModel",
      "state": {
       "_dom_classes": [],
       "_model_module": "@jupyter-widgets/controls",
       "_model_module_version": "1.5.0",
       "_model_name": "HBoxModel",
       "_view_count": null,
       "_view_module": "@jupyter-widgets/controls",
       "_view_module_version": "1.5.0",
       "_view_name": "HBoxView",
       "box_style": "",
       "children": [
        "IPY_MODEL_427df8bd34524867883d56842e1e3206",
        "IPY_MODEL_57d7b943af584f85910737c463e86a22",
        "IPY_MODEL_fee3a2bc0026498caeed56ad392aa786"
       ],
       "layout": "IPY_MODEL_23ddbb67697740dd8427d88ad1de2907"
      }
     },
     "95ea8ad6033d42f8a92123fe913b196c": {
      "model_module": "@jupyter-widgets/controls",
      "model_module_version": "1.5.0",
      "model_name": "DescriptionStyleModel",
      "state": {
       "_model_module": "@jupyter-widgets/controls",
       "_model_module_version": "1.5.0",
       "_model_name": "DescriptionStyleModel",
       "_view_count": null,
       "_view_module": "@jupyter-widgets/base",
       "_view_module_version": "1.2.0",
       "_view_name": "StyleView",
       "description_width": ""
      }
     },
     "963d770fa92546d2a2fee9963eea7ed9": {
      "model_module": "@jupyter-widgets/controls",
      "model_module_version": "1.5.0",
      "model_name": "DescriptionStyleModel",
      "state": {
       "_model_module": "@jupyter-widgets/controls",
       "_model_module_version": "1.5.0",
       "_model_name": "DescriptionStyleModel",
       "_view_count": null,
       "_view_module": "@jupyter-widgets/base",
       "_view_module_version": "1.2.0",
       "_view_name": "StyleView",
       "description_width": ""
      }
     },
     "aa45da7e6f8d4978bcad0c6964dcdb45": {
      "model_module": "@jupyter-widgets/base",
      "model_module_version": "1.2.0",
      "model_name": "LayoutModel",
      "state": {
       "_model_module": "@jupyter-widgets/base",
       "_model_module_version": "1.2.0",
       "_model_name": "LayoutModel",
       "_view_count": null,
       "_view_module": "@jupyter-widgets/base",
       "_view_module_version": "1.2.0",
       "_view_name": "LayoutView",
       "align_content": null,
       "align_items": null,
       "align_self": null,
       "border": null,
       "bottom": null,
       "display": null,
       "flex": null,
       "flex_flow": null,
       "grid_area": null,
       "grid_auto_columns": null,
       "grid_auto_flow": null,
       "grid_auto_rows": null,
       "grid_column": null,
       "grid_gap": null,
       "grid_row": null,
       "grid_template_areas": null,
       "grid_template_columns": null,
       "grid_template_rows": null,
       "height": null,
       "justify_content": null,
       "justify_items": null,
       "left": null,
       "margin": null,
       "max_height": null,
       "max_width": null,
       "min_height": null,
       "min_width": null,
       "object_fit": null,
       "object_position": null,
       "order": null,
       "overflow": null,
       "overflow_x": null,
       "overflow_y": null,
       "padding": null,
       "right": null,
       "top": null,
       "visibility": null,
       "width": null
      }
     },
     "aad6dc98a1ed4bb197b6a981b548ccd6": {
      "model_module": "@jupyter-widgets/controls",
      "model_module_version": "1.5.0",
      "model_name": "FloatProgressModel",
      "state": {
       "_dom_classes": [],
       "_model_module": "@jupyter-widgets/controls",
       "_model_module_version": "1.5.0",
       "_model_name": "FloatProgressModel",
       "_view_count": null,
       "_view_module": "@jupyter-widgets/controls",
       "_view_module_version": "1.5.0",
       "_view_name": "ProgressView",
       "bar_style": "",
       "description": "",
       "description_tooltip": null,
       "layout": "IPY_MODEL_d4a865f2f6c148269ed582fb91283abe",
       "max": 200,
       "min": 0,
       "orientation": "horizontal",
       "style": "IPY_MODEL_625b7d51d5cb411dafd11d646d716ad7",
       "value": 0
      }
     },
     "b9a850f8718b42ba970dadbbcafa7e2a": {
      "model_module": "@jupyter-widgets/controls",
      "model_module_version": "1.5.0",
      "model_name": "ProgressStyleModel",
      "state": {
       "_model_module": "@jupyter-widgets/controls",
       "_model_module_version": "1.5.0",
       "_model_name": "ProgressStyleModel",
       "_view_count": null,
       "_view_module": "@jupyter-widgets/base",
       "_view_module_version": "1.2.0",
       "_view_name": "StyleView",
       "bar_color": null,
       "description_width": ""
      }
     },
     "cfd5aba4761e4aac8a6a4e8e0492bdf9": {
      "model_module": "@jupyter-widgets/controls",
      "model_module_version": "1.5.0",
      "model_name": "HTMLModel",
      "state": {
       "_dom_classes": [],
       "_model_module": "@jupyter-widgets/controls",
       "_model_module_version": "1.5.0",
       "_model_name": "HTMLModel",
       "_view_count": null,
       "_view_module": "@jupyter-widgets/controls",
       "_view_module_version": "1.5.0",
       "_view_name": "HTMLView",
       "description": "",
       "description_tooltip": null,
       "layout": "IPY_MODEL_06f3414c4d5f457ab2e1dd774ba4c5e7",
       "placeholder": "​",
       "style": "IPY_MODEL_f058f060d3d9425d9e6e9690972c9f72",
       "value": ""
      }
     },
     "d4a865f2f6c148269ed582fb91283abe": {
      "model_module": "@jupyter-widgets/base",
      "model_module_version": "1.2.0",
      "model_name": "LayoutModel",
      "state": {
       "_model_module": "@jupyter-widgets/base",
       "_model_module_version": "1.2.0",
       "_model_name": "LayoutModel",
       "_view_count": null,
       "_view_module": "@jupyter-widgets/base",
       "_view_module_version": "1.2.0",
       "_view_name": "LayoutView",
       "align_content": null,
       "align_items": null,
       "align_self": null,
       "border": null,
       "bottom": null,
       "display": null,
       "flex": null,
       "flex_flow": null,
       "grid_area": null,
       "grid_auto_columns": null,
       "grid_auto_flow": null,
       "grid_auto_rows": null,
       "grid_column": null,
       "grid_gap": null,
       "grid_row": null,
       "grid_template_areas": null,
       "grid_template_columns": null,
       "grid_template_rows": null,
       "height": null,
       "justify_content": null,
       "justify_items": null,
       "left": null,
       "margin": null,
       "max_height": null,
       "max_width": null,
       "min_height": null,
       "min_width": null,
       "object_fit": null,
       "object_position": null,
       "order": null,
       "overflow": null,
       "overflow_x": null,
       "overflow_y": null,
       "padding": null,
       "right": null,
       "top": null,
       "visibility": null,
       "width": null
      }
     },
     "d5769f486e444416a006125b986d1e9f": {
      "model_module": "@jupyter-widgets/controls",
      "model_module_version": "1.5.0",
      "model_name": "DescriptionStyleModel",
      "state": {
       "_model_module": "@jupyter-widgets/controls",
       "_model_module_version": "1.5.0",
       "_model_name": "DescriptionStyleModel",
       "_view_count": null,
       "_view_module": "@jupyter-widgets/base",
       "_view_module_version": "1.2.0",
       "_view_name": "StyleView",
       "description_width": ""
      }
     },
     "f058f060d3d9425d9e6e9690972c9f72": {
      "model_module": "@jupyter-widgets/controls",
      "model_module_version": "1.5.0",
      "model_name": "DescriptionStyleModel",
      "state": {
       "_model_module": "@jupyter-widgets/controls",
       "_model_module_version": "1.5.0",
       "_model_name": "DescriptionStyleModel",
       "_view_count": null,
       "_view_module": "@jupyter-widgets/base",
       "_view_module_version": "1.2.0",
       "_view_name": "StyleView",
       "description_width": ""
      }
     },
     "f68112b4b5b94e1691a2c745051ef98e": {
      "model_module": "@jupyter-widgets/base",
      "model_module_version": "1.2.0",
      "model_name": "LayoutModel",
      "state": {
       "_model_module": "@jupyter-widgets/base",
       "_model_module_version": "1.2.0",
       "_model_name": "LayoutModel",
       "_view_count": null,
       "_view_module": "@jupyter-widgets/base",
       "_view_module_version": "1.2.0",
       "_view_name": "LayoutView",
       "align_content": null,
       "align_items": null,
       "align_self": null,
       "border": null,
       "bottom": null,
       "display": null,
       "flex": null,
       "flex_flow": null,
       "grid_area": null,
       "grid_auto_columns": null,
       "grid_auto_flow": null,
       "grid_auto_rows": null,
       "grid_column": null,
       "grid_gap": null,
       "grid_row": null,
       "grid_template_areas": null,
       "grid_template_columns": null,
       "grid_template_rows": null,
       "height": null,
       "justify_content": null,
       "justify_items": null,
       "left": null,
       "margin": null,
       "max_height": null,
       "max_width": null,
       "min_height": null,
       "min_width": null,
       "object_fit": null,
       "object_position": null,
       "order": null,
       "overflow": null,
       "overflow_x": null,
       "overflow_y": null,
       "padding": null,
       "right": null,
       "top": null,
       "visibility": null,
       "width": null
      }
     },
     "fee3a2bc0026498caeed56ad392aa786": {
      "model_module": "@jupyter-widgets/controls",
      "model_module_version": "1.5.0",
      "model_name": "HTMLModel",
      "state": {
       "_dom_classes": [],
       "_model_module": "@jupyter-widgets/controls",
       "_model_module_version": "1.5.0",
       "_model_name": "HTMLModel",
       "_view_count": null,
       "_view_module": "@jupyter-widgets/controls",
       "_view_module_version": "1.5.0",
       "_view_name": "HTMLView",
       "description": "",
       "description_tooltip": null,
       "layout": "IPY_MODEL_06f3414c4d5f457ab2e1dd774ba4c5e7",
       "placeholder": "​",
       "style": "IPY_MODEL_f058f060d3d9425d9e6e9690972c9f72",
       "value": " 200/200 [00:05]"
      }
     }
    },
    "version_major": 2,
    "version_minor": 0
   }
  }
 },
 "nbformat": 4,
 "nbformat_minor": 4
}
