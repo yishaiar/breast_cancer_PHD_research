{
 "cells": [
  {
   "attachments": {},
   "cell_type": "markdown",
   "metadata": {},
   "source": [
    "# Load and initialize\n"
   ]
  },
  {
   "attachments": {},
   "cell_type": "markdown",
   "metadata": {},
   "source": [
    "settings\n"
   ]
  },
  {
   "cell_type": "code",
   "execution_count": null,
   "metadata": {
    "ExecuteTime": {
     "end_time": "2023-01-16T21:12:28.925237Z",
     "start_time": "2023-01-16T21:12:28.891068Z"
    },
    "execution": {
     "iopub.execute_input": "2023-08-06T20:23:27.624747Z",
     "iopub.status.busy": "2023-08-06T20:23:27.624340Z",
     "iopub.status.idle": "2023-08-06T20:23:27.630800Z",
     "shell.execute_reply": "2023-08-06T20:23:27.630316Z"
    }
   },
   "outputs": [],
   "source": [
    "# sample number\n",
    "\n",
    "j = '_arcsinh'+'14.2'+'a'#'_raw'+'14.2'+'a'\n",
    "# j = '14.2'+'a'\n",
    "# j = '14.4'\n",
    "\n",
    "group_ind = 3\n",
    "dir_data1 = 'Data_'\n",
    "\n",
    "args = {\n",
    "        # create visualization (umap, dbscan are always shown)\n",
    "        'visualize':True,'plotUMAP' : True,\n",
    "        # show figures in notebook\n",
    "        'show' : True, 'saveSVG' :False,\n",
    "        # calculate umap\n",
    "        'calc_umap' : False\n",
    "        }\n",
    "create_adjusted = False\n",
    "print(j)"
   ]
  },
  {
   "attachments": {},
   "cell_type": "markdown",
   "metadata": {},
   "source": [
    "envirement\n"
   ]
  },
  {
   "cell_type": "code",
   "execution_count": null,
   "metadata": {
    "ExecuteTime": {
     "end_time": "2023-01-16T21:12:28.990551Z",
     "start_time": "2023-01-16T21:12:28.927491Z"
    },
    "execution": {
     "iopub.execute_input": "2023-08-06T20:23:27.633628Z",
     "iopub.status.busy": "2023-08-06T20:23:27.633049Z",
     "iopub.status.idle": "2023-08-06T20:23:30.069504Z",
     "shell.execute_reply": "2023-08-06T20:23:30.068852Z"
    }
   },
   "outputs": [],
   "source": [
    "\n",
    "from tqdm import tqdm_notebook, tqdm\n",
    "import datetime\n",
    "\n",
    "import pandas as pd\n",
    "from matplotlib.pyplot import rc_context\n",
    "import matplotlib.pyplot as plt\n",
    "import numpy as np\n",
    "from IPython.display import Image, display\n",
    "import sys\n",
    "import pathlib\n",
    "import os\n",
    "from numba.core.errors import NumbaDeprecationWarning, NumbaPendingDeprecationWarning\n",
    "import warnings\n",
    "warnings.simplefilter('ignore', category=NumbaDeprecationWarning)\n",
    "warnings.simplefilter('ignore', category=NumbaPendingDeprecationWarning)\n",
    "import time\n",
    "start = time.process_time()\n",
    "date = datetime.date.today().strftime(\"%d%m%Y\")\n",
    "# import time\n",
    "\n",
    "# import matplotlib\n",
    "\n",
    "plt.rcParams[\"figure.figsize\"] = (5.0, 4.0)  # Set default size of plots.\n",
    "plt.rcParams[\"image.interpolation\"] = \"nearest\"\n",
    "plt.rcParams[\"image.cmap\"] = \"gray\"\n",
    "%matplotlib inline\n",
    "\n",
    "pd.set_option('display.max_rows', 500)\n",
    "pd.set_option('display.max_columns', 500)\n",
    "pd.set_option('display.width', 180)  # according to screen width\n",
    "# from pandas.core.base import PandasObject\n",
    "# PandasObject.view = view #allows view meth pd.view\n",
    "\n",
    "# from scipy import signal, stats\n",
    "# import seaborn as sns\n",
    "\n",
    "# from sklearn import metrics\n",
    "\n",
    "# from sklearn.preprocessing import StandardScaler, KBinsDiscretizer\n",
    "# from sklearn.metrics import silhouette_samples,silhouette_score\n",
    "# from sklearn.neighbors import kneighbors_graph\n",
    "\n",
    "# from lmfit import minimize, Parameters\n",
    "\n",
    "\n",
    "parent_dir = os.path.abspath(os.path.join(os.getcwd(), os.pardir))\n",
    "\n",
    "sys.path.append(parent_dir+'/functions/')\n",
    "\n",
    "# from epinuc import *\n",
    "from usefull_functions import *\n",
    "from functions import *\n",
    "from plot_functions import *\n",
    "from clustering_functions import *\n",
    "from xg_shap import *    \n",
    "\n",
    "\n",
    "%load_ext autoreload\n",
    "%autoreload 2\n",
    "%reload_ext autoreload\n",
    "%autoreload 2\n",
    "\n",
    "\n",
    "# TF_ENABLE_ONEDNN_OPTS=0\n"
   ]
  },
  {
   "attachments": {},
   "cell_type": "markdown",
   "metadata": {},
   "source": [
    "load data; normalized (CD45-)\n"
   ]
  },
  {
   "cell_type": "code",
   "execution_count": null,
   "metadata": {
    "ExecuteTime": {
     "end_time": "2023-01-16T21:12:29.090540Z",
     "start_time": "2023-01-16T21:12:28.992321Z"
    },
    "execution": {
     "iopub.execute_input": "2023-08-06T20:23:30.073768Z",
     "iopub.status.busy": "2023-08-06T20:23:30.073168Z",
     "iopub.status.idle": "2023-08-06T20:23:30.142642Z",
     "shell.execute_reply": "2023-08-06T20:23:30.142021Z"
    }
   },
   "outputs": [],
   "source": [
    "j, group_ind, dir_data1,args = getJ(j, group_ind, dir_data1,args)\n",
    "\n",
    "\n",
    "\n",
    "dir_data = os.path.abspath(os.path.join(    parent_dir, os.pardir))+f'/{dir_data1}/'\n",
    "dir_plots = os.path.abspath(os.path.join(\n",
    "    parent_dir, os.pardir))+f'/_sample_{j}_{dir_data1}_{date}/'\n",
    "folderExists(dir_plots)\n",
    "settings = (dir_plots, args['show'], args['saveSVG'])\n",
    "\n",
    "if 'b' not in j:\n",
    "    singleSample = True\n",
    "else:\n",
    "    singleSample = False\n",
    "print(f'singleSample is: {singleSample}')\n",
    "\n",
    "# k_orig = pickle_load('k'+j+'_dict',dir_data )['k']\n",
    "# k = k_orig.copy()\n",
    "# CAll=pd.concat([k]).copy()\n",
    "\n",
    "k = pickle_load('k'+j+'_dict', dir_data)['k'].reset_index(drop=True)\n",
    "CAll = pd.concat([k.copy()])\n",
    "print(len(k))\n",
    "\n",
    "\n",
    "names_dict = pickle_load('k'+j+'_names_dict', dir_data)\n",
    "if '14.2a' in j: #remove them from the names_dict; they need to be only in cellcycle\n",
    "    names_dict = removeFeatures(names_dict.copy(),features =['CyclinB1', 'pRB','H3S28p','DNA2'])#\n",
    "\n",
    "\n",
    "NamesAll = names_dict['NamesAll']\n",
    "CellIden = names_dict['CellIden']\n",
    "EpiCols = names_dict['EpiCols']\n",
    "Core = names_dict['Core']\n",
    "CellIden_EpiCols = CellIden + EpiCols\n",
    "\n",
    "# dict = None\n",
    "\n",
    "groups = [['CellIden', 'EpiCols', 'CellIden+EpiCols',],\n",
    "          [CellIden, EpiCols, CellIden_EpiCols]]\n",
    "\n",
    "names = [[f'samp{j}_CellIden_', f'samp{j} CellIden Based'],\n",
    "         [f'samp{j}_EpiCols_', f'samp{j} EpiCols Based'],\n",
    "         [f'samp{j}_CellIden+EpiCols_', f'samp{j} CellIden+EpiCols Based'],\n",
    "         ]\n",
    "\n",
    "params = ['iden', 'epi', 'all',]\n",
    "\n",
    "if '14.2a'in j and group_ind==3:\n",
    "    groups[0].append( 'CellCycle')   \n",
    "    groups[1].append( ['CyclinB1', 'pRB','H3S28p','DNA2'] )   \n",
    "    names.append(   [f'samp{j}_CellCycle_', f'samp{j} CellCycle Based'])\n",
    "    params.append('cell')\n",
    "    print('cellcycle added')"
   ]
  },
  {
   "attachments": {},
   "cell_type": "markdown",
   "metadata": {},
   "source": [
    "Visualize data\n",
    "\n",
    "no point to print data.describe() as it is whitened (std~1, mean~0)\n"
   ]
  },
  {
   "cell_type": "code",
   "execution_count": null,
   "metadata": {
    "ExecuteTime": {
     "end_time": "2023-01-16T21:12:29.142002Z",
     "start_time": "2023-01-16T21:12:29.092846Z"
    },
    "execution": {
     "iopub.execute_input": "2023-08-06T20:23:30.146250Z",
     "iopub.status.busy": "2023-08-06T20:23:30.145791Z",
     "iopub.status.idle": "2023-08-06T20:23:30.186468Z",
     "shell.execute_reply": "2023-08-06T20:23:30.185833Z"
    }
   },
   "outputs": [],
   "source": [
    "# if show:\n",
    "\n",
    "#     for features in [NamesAll,Core,CellIden,EpiCols,CellIden_EpiCols]:\n",
    "#         print(len(features))\n",
    "#         print(features)\n"
   ]
  },
  {
   "attachments": {},
   "cell_type": "markdown",
   "metadata": {
    "tags": []
   },
   "source": [
    "# Cell Identity\n"
   ]
  },
  {
   "cell_type": "code",
   "execution_count": null,
   "metadata": {
    "ExecuteTime": {
     "end_time": "2023-01-16T21:12:29.193413Z",
     "start_time": "2023-01-16T21:12:29.143651Z"
    },
    "execution": {
     "iopub.execute_input": "2023-08-06T20:23:30.190287Z",
     "iopub.status.busy": "2023-08-06T20:23:30.189856Z",
     "iopub.status.idle": "2023-08-06T20:23:30.230599Z",
     "shell.execute_reply": "2023-08-06T20:23:30.230003Z"
    }
   },
   "outputs": [],
   "source": [
    "\n",
    "figname, title = names[group_ind]\n",
    "name, featureGroup = groups[0][group_ind], groups[1][group_ind]\n",
    "print(name, title, figname)\n"
   ]
  },
  {
   "attachments": {},
   "cell_type": "markdown",
   "metadata": {},
   "source": [
    "### UMAP\n",
    "\n",
    "plot for each feature according to its intensity\n"
   ]
  },
  {
   "cell_type": "code",
   "execution_count": null,
   "metadata": {
    "ExecuteTime": {
     "end_time": "2023-01-16T21:12:51.555507Z",
     "start_time": "2023-01-16T21:12:29.195357Z"
    },
    "execution": {
     "iopub.execute_input": "2023-08-06T20:23:30.234374Z",
     "iopub.status.busy": "2023-08-06T20:23:30.233782Z",
     "iopub.status.idle": "2023-08-06T20:27:57.811702Z",
     "shell.execute_reply": "2023-08-06T20:27:57.811044Z"
    }
   },
   "outputs": [],
   "source": [
    "\n",
    "min_dist, n_neighbors = getValsCsv(    dir_data, vars=[params[group_ind], 'umap', j])\n",
    "# min_dist, n_neighbors = 0.02,10\n",
    "print(f'min_dist:{min_dist}, n_neighbors:{n_neighbors}')\n",
    "# calc_umap = True\n",
    "if args['calc_umap']:\n",
    "    umapData = calculate_umap(CAll[featureGroup].copy(), n_neighbors, min_dist)\n",
    "    pickle_dump(f'umapData_{figname}', umapData, dir_data)\n",
    "else:\n",
    "    umapData = pickle_load(f'umapData_{figname}', dir_data)\n",
    "drawUMAP(umapData, ['H4'], CAll, settings,\n",
    "         title=f'min_dist = {min_dist}, n_neighbors = {n_neighbors}',\n",
    "         Figname='1_'+figname+'UMAP_(core)')\n"
   ]
  },
  {
   "attachments": {},
   "cell_type": "markdown",
   "metadata": {},
   "source": [
    "### Dbscan and clusters\n"
   ]
  },
  {
   "attachments": {},
   "cell_type": "markdown",
   "metadata": {},
   "source": [
    "Dbscan\n"
   ]
  },
  {
   "cell_type": "code",
   "execution_count": null,
   "metadata": {
    "ExecuteTime": {
     "end_time": "2023-01-16T21:12:56.828220Z",
     "start_time": "2023-01-16T21:12:51.557555Z"
    },
    "execution": {
     "iopub.execute_input": "2023-08-06T20:27:57.815099Z",
     "iopub.status.busy": "2023-08-06T20:27:57.814875Z",
     "iopub.status.idle": "2023-08-06T20:28:33.700316Z",
     "shell.execute_reply": "2023-08-06T20:28:33.699642Z"
    }
   },
   "outputs": [],
   "source": [
    "eps, min_samples = getValsCsv(dir_data, vars=[params[group_ind], 'db', j])\n",
    "# eps,min_samples = 0.14,55\n",
    "print(f'{eps}, {min_samples}')\n",
    "\n",
    "dbscanData, labels, core_samples_mask  = calculate_dbscan(umapData,list(k.index), eps, min_samples)\n",
    "colors = drawDbscan(dbscanData, labels, core_samples_mask, settings,\n",
    "                    title=f'min_samples = {min_samples}, eps = {eps}',\n",
    "                    figname='1_'+figname+'dbscan')\n",
    "k['Clust'] = labels\n",
    "pickle_dump(f'dbLabels_{figname}', labels, dir_data);pickle_dump(f'dbColors_{figname}', colors, dir_data)\n"
   ]
  },
  {
   "cell_type": "markdown",
   "metadata": {},
   "source": [
    "kmeans"
   ]
  },
  {
   "cell_type": "code",
   "execution_count": null,
   "metadata": {},
   "outputs": [],
   "source": [
    "if '14.2a' in j and group_ind == 3:\n",
    "\n",
    "    labels = kmeans_fit(np.hstack ((umapData.copy(),CAll[[ 'pRB']].copy()))\n",
    "                        ,n_clusters=2,n_init=10,max_iter=300)\n",
    "\n",
    "    # colors = draw_kmeans(data = umapData.copy(),labels = labels,title='pRB+',figname='kmeans_pRB_',settings = settings,\n",
    "    #             names =['pRB+ (G1/S, G2, M)','pRB- (GO)'])\n",
    "\n",
    "    # idx1 = [i for i,label in zip(K[ind],labels) if label==wantedLabel];newIdx1 = [ K.index[K[ind]==i][0] for i in idx1 ]\n",
    "    wantedLabel = 0\n",
    "    ind = [i for i,label in zip(k.index,labels) if label==wantedLabel]\n",
    "\n",
    "    wantedLabel = 1\n",
    "    labels1 = kmeans_fit(CAll[['CyclinB1']].loc[ind].copy(),n_clusters=2,n_init=10,max_iter=300)\n",
    "    ind11 = [i for i,j in zip(ind,labels1) if j==wantedLabel]\n",
    "    ind2 = [i for i,j in enumerate(labels1) if j==wantedLabel]\n",
    "    labels[ind11] = labels1[ind2]+2\n",
    "\n",
    "    wantedLabel = 1\n",
    "    labels2 = kmeans_fit(CAll[['H3S28p']].loc[ind].copy(),n_clusters=2,n_init=10,max_iter=300)\n",
    "    ind12 = [i for i,j in zip(ind,labels2) if j==wantedLabel]\n",
    "    ind2 = [i for i,j in enumerate(labels2) if j==wantedLabel]\n",
    "    labels[ind12] = labels2[ind2]+4\n",
    "\n",
    "    ind13= [i for i in ind12 if i not in ind11]\n",
    "    labels[ind13] = 6\n",
    "    colors = draw_kmeans(data = umapData.copy(),labels = labels,title='kmeans all clusters',figname='kmeans_all_clusters',settings = settings,\n",
    "              names =['pRB+ not M&G2','pRB- (GO)','2','pRB+ G2','4','pRB+ M','pRB+ G2&M']  )\n",
    "    \n",
    "    \n",
    "    labels[ind12] = labels2[ind2]+2\n",
    "    colors = draw_kmeans(data = umapData.copy(),labels = labels,title='kmeans all clusters',figname='kmeans_all_clusters1',settings = settings,\n",
    "                names =['not M&G2','pRB- (GO)','2','M&G2'])   \n",
    "    pickle_dump(f'kmeanLabels_{figname}', labels, dir_data);pickle_dump(f'kmeanColors_{figname}', colors, dir_data)\n",
    "    k['Clust'] = labels\n",
    "\n",
    "\n"
   ]
  },
  {
   "attachments": {},
   "cell_type": "markdown",
   "metadata": {},
   "source": [
    "adjusted dataset\n"
   ]
  },
  {
   "cell_type": "code",
   "execution_count": null,
   "metadata": {
    "execution": {
     "iopub.execute_input": "2023-08-06T20:28:33.748041Z",
     "iopub.status.busy": "2023-08-06T20:28:33.747592Z",
     "iopub.status.idle": "2023-08-06T20:28:33.791743Z",
     "shell.execute_reply": "2023-08-06T20:28:33.791134Z"
    }
   },
   "outputs": [],
   "source": [
    "\n",
    "# create_adjusted = True\n",
    "if (j == 'b234' or j == '14.2') and group_ind==2 and create_adjusted:\n",
    "    dir_indexes =  '/home/yishai/breast_cancer/indexes/'\n",
    "    kInd = j+'a'\n",
    "\n",
    "    clusters = [3,1]  # clusters to remove #1, 3#3,5\n",
    "    idx_ = ~np.zeros_like(labels).astype(bool)\n",
    "    for cluster in clusters:\n",
    "        idx_ *= ~(labels == cluster)\n",
    "    idx = np.asarray([i for i, j in enumerate(idx_) if j])\n",
    "    newK = k.copy().reset_index(drop = True).loc[idx]\n",
    "    print (f'k{j}; samples = ', len(newK), ', features = ', len(newK.columns),'; saved to file')\n",
    "\n",
    "\n",
    "\n",
    "    colors = drawDbscan(dbscanData[idx], labels[idx], core_samples_mask[idx], settings,\n",
    "                        title=f'min_samples = {min_samples}, eps = {eps}',\n",
    "                        figname='1_'+figname+'dbscan_adjusted')\n",
    "    # plotClusters(newK, umapData[ind], labels[ind], colors, NamesAll, settings,\n",
    "    #              title='Clusters ' + title,\n",
    "    #              figname='1_'+figname+'Clusters_adjusted')\n",
    "\n",
    "    dict = None;dict ={}\n",
    "    dict['k'] = newK.copy()\n",
    "    pickle_dump(f'{kInd}_dict', dict,dir_data)\n",
    "    pickle_dump(f'k{kInd}_names_dict', names_dict,dir_data)\n",
    "    ind = np.asarray(newK['ind'].copy())   \n",
    "    pickle_dump(f\"{kInd}_indexes\", ind,dir_indexes)\n",
    "    # for kInd in newK['samp'].unique():\n",
    "        \n",
    "    #     newK_ = newK[newK['samp']==kInd].copy()\n",
    "    #     ind = np.asarray(newK_['ind'].copy())\n",
    "    #     kInd = int(kInd) if (kInd!=4.1 and kInd!=7.1) else float(kInd)\n",
    "    #     print(kInd)\n",
    "    #     pickle_dump(f\"{kInd}a_indexes\", ind,dir_indexes)\n"
   ]
  },
  {
   "attachments": {},
   "cell_type": "markdown",
   "metadata": {},
   "source": [
    "clusters"
   ]
  },
  {
   "attachments": {},
   "cell_type": "markdown",
   "metadata": {},
   "source": [
    "### HeatMap by clusters\n"
   ]
  },
  {
   "cell_type": "code",
   "execution_count": null,
   "metadata": {
    "ExecuteTime": {
     "end_time": "2023-01-16T21:13:14.816792Z",
     "start_time": "2023-01-16T21:13:12.557211Z"
    },
    "execution": {
     "iopub.execute_input": "2023-08-06T20:28:33.795342Z",
     "iopub.status.busy": "2023-08-06T20:28:33.794721Z",
     "iopub.status.idle": "2023-08-06T20:28:33.834964Z",
     "shell.execute_reply": "2023-08-06T20:28:33.834351Z"
    }
   },
   "outputs": [],
   "source": [
    "from plot_functions import *\n",
    "\n",
    "if args['visualize']:\n",
    "    \n",
    "    for group_name, group in zip(groups[0], groups[1]):\n",
    "        \n",
    "        HeatMap(k[labels != -1], group, settings,clustFeature='Clust',\n",
    "                title='HeatMap ' + title + ': '+group_name,\n",
    "                figname='1_'+figname+'ClustHeatMap_by_'+group_name)\n",
    "    \n"
   ]
  },
  {
   "attachments": {},
   "cell_type": "markdown",
   "metadata": {},
   "source": [
    "specific clusters and features"
   ]
  },
  {
   "cell_type": "code",
   "execution_count": null,
   "metadata": {
    "execution": {
     "iopub.execute_input": "2023-08-06T20:28:33.838353Z",
     "iopub.status.busy": "2023-08-06T20:28:33.837997Z",
     "iopub.status.idle": "2023-08-06T20:28:33.876384Z",
     "shell.execute_reply": "2023-08-06T20:28:33.875796Z"
    }
   },
   "outputs": [],
   "source": [
    "# from plot_functions import *\n",
    "# if args['visualize']:\n",
    "#     clusters =[0,1]\n",
    "#     group_name, group = 'specific_markers', ['H3K9me2', 'H3K4me3','H3K36me3','H4K20me3']\n",
    "#     kk=k.copy()\n",
    "#     # -----------------\n",
    "#     k = k.loc[[True if c in clusters else False for c in k['Clust'] ]]\n",
    "#     HeatMap(k, group, settings,clustFeature='Clust',\n",
    "#     title='HeatMap ' + title + ': '+group_name,\n",
    "#                 figname='1_'+figname+'ClustHeatMap_by_'+group_name)\n",
    "#     # ---------------------\n",
    "#     k=kk.copy()\n",
    "#     kk = None\n",
    "\n"
   ]
  },
  {
   "attachments": {},
   "cell_type": "markdown",
   "metadata": {},
   "source": [
    "### HeatMap by sample\n"
   ]
  },
  {
   "cell_type": "code",
   "execution_count": null,
   "metadata": {
    "execution": {
     "iopub.execute_input": "2023-08-06T20:28:33.879462Z",
     "iopub.status.busy": "2023-08-06T20:28:33.879261Z",
     "iopub.status.idle": "2023-08-06T20:28:33.917566Z",
     "shell.execute_reply": "2023-08-06T20:28:33.916989Z"
    }
   },
   "outputs": [],
   "source": [
    "if args['visualize'] and not singleSample:\n",
    "    group_name, group = groups[0][-1], groups[1][-1]\n",
    "    HeatMap(k[labels != -1], group, settings, clustFeature='by_sample',\n",
    "            title='HeatMap ' + title + ': ' + group_name+' by_sample',\n",
    "            figname='1_'+figname+'SampHeatMap_'+group_name)\n"
   ]
  },
  {
   "attachments": {},
   "cell_type": "markdown",
   "metadata": {},
   "source": [
    "### MeanDist\n"
   ]
  },
  {
   "cell_type": "code",
   "execution_count": null,
   "metadata": {
    "ExecuteTime": {
     "end_time": "2023-01-16T21:13:15.949573Z",
     "start_time": "2023-01-16T21:13:14.820259Z"
    },
    "execution": {
     "iopub.execute_input": "2023-08-06T20:28:33.921318Z",
     "iopub.status.busy": "2023-08-06T20:28:33.920795Z",
     "iopub.status.idle": "2023-08-06T20:28:33.959760Z",
     "shell.execute_reply": "2023-08-06T20:28:33.959136Z"
    }
   },
   "outputs": [],
   "source": [
    "\n",
    "if args['visualize']:\n",
    "    for group_name, group in zip(groups[0], groups[1]):\n",
    "        MeanDist(k[labels == 0], k[labels == 1], group, settings,\n",
    "                title='MeanDist ' + title + ': '+group_name,\n",
    "                figname='1_'+figname+'ClustMeanDist_by_'+group_name)\n"
   ]
  },
  {
   "attachments": {},
   "cell_type": "markdown",
   "metadata": {},
   "source": [
    "## sample percentage\n"
   ]
  },
  {
   "attachments": {},
   "cell_type": "markdown",
   "metadata": {},
   "source": [
    "by sample"
   ]
  },
  {
   "cell_type": "code",
   "execution_count": null,
   "metadata": {
    "ExecuteTime": {
     "end_time": "2023-01-16T21:13:44.808076Z",
     "start_time": "2023-01-16T21:13:15.951592Z"
    },
    "execution": {
     "iopub.execute_input": "2023-08-06T20:28:33.963146Z",
     "iopub.status.busy": "2023-08-06T20:28:33.962931Z",
     "iopub.status.idle": "2023-08-06T20:28:34.003292Z",
     "shell.execute_reply": "2023-08-06T20:28:34.002720Z"
    }
   },
   "outputs": [],
   "source": [
    "# from plot_functions import *\n",
    "if args['visualize'] and not singleSample:\n",
    "    # unique by_sample values\n",
    "    for sampNum in np.unique(k['by_sample']):\n",
    "        ind_samp = [i for i, j in enumerate(k.by_sample == sampNum) if j]\n",
    "        labels_samp = np.ones(len(ind_samp))*sampNum\n",
    "        drawUMAPbySample(umapData, k, ind_samp, labels_samp, settings,\n",
    "                         title=title+f' UMAP - by_sample={sampNum}',\n",
    "                         Figname='4_'+figname+f'UMAP_sample{sampNum}_by_sample')\n",
    "    arr = []\n",
    "    clustNums = np.unique(k.Clust)\n",
    "    clustNums = clustNums[clustNums != -1]\n",
    "    for clustNum in clustNums:\n",
    "        ind = k.Clust == clustNum\n",
    "        PercentageBySample = ClustPercentageBySample(k[ind], 'by_sample')\n",
    "\n",
    "        arr.append([clustNum, PercentageBySample])\n",
    "    saveCsv(dir_plots, figname, arr)\n"
   ]
  },
  {
   "attachments": {},
   "cell_type": "markdown",
   "metadata": {},
   "source": [
    "all samples"
   ]
  },
  {
   "cell_type": "code",
   "execution_count": null,
   "metadata": {
    "execution": {
     "iopub.execute_input": "2023-08-06T20:28:34.006707Z",
     "iopub.status.busy": "2023-08-06T20:28:34.006256Z",
     "iopub.status.idle": "2023-08-06T20:28:34.046190Z",
     "shell.execute_reply": "2023-08-06T20:28:34.045604Z"
    }
   },
   "outputs": [],
   "source": [
    "# from plot_functions import *\n",
    "\n",
    "\n",
    "if args['visualize'] and not singleSample:\n",
    "    # remove 4.1,7.1 and subsample \n",
    "    ind_samp =k.index.values[[ True  if i!='4.1' and i!='7.1' else False for i in k.by_sample]]\n",
    "    ind_samp=np.random.choice(ind_samp, replace = False, size = int(len(k)/4))\n",
    "    labels_samp = np.asarray(k.by_sample).astype(int)[ind_samp]\n",
    "\n",
    "    # ind_samp = k.index.values\n",
    "    # labels_samp = np.asarray(k.by_sample)[ind_samp]\n",
    "\n",
    "\n",
    "    colors_samp = np.zeros((np.max(labels_samp)+2,4))\n",
    "    hex = ['00B3A4','3185FC','DB1374','490092','FEB6DB','F98510','E6C220','BFA180','920000','461A0A']\n",
    "    colors_samp[1+np.unique(labels_samp)] = np.asarray([hex_to_rgba(h) for h in hex])[:np.unique(labels_samp).shape[0]]\n",
    "    drawUMAPbySample(umapData, k, ind_samp, labels_samp, settings,colors_samp,backgroundColor = 'white',\n",
    "                        title=title+f' UMAP - by_sample=ALL',\n",
    "                        Figname='4_'+figname+f'UMAP_sampleAll_by_sample')\n",
    " \n"
   ]
  },
  {
   "attachments": {},
   "cell_type": "markdown",
   "metadata": {},
   "source": [
    "by cluster"
   ]
  },
  {
   "cell_type": "code",
   "execution_count": null,
   "metadata": {
    "execution": {
     "iopub.execute_input": "2023-08-06T20:28:34.049292Z",
     "iopub.status.busy": "2023-08-06T20:28:34.049089Z",
     "iopub.status.idle": "2023-08-06T20:28:34.089974Z",
     "shell.execute_reply": "2023-08-06T20:28:34.089365Z"
    }
   },
   "outputs": [],
   "source": [
    "from plot_functions import *\n",
    "if args['visualize'] and not singleSample:\n",
    "    # plt.scatter(umapData[:,0],umapData[:,1],c = 'lightgrey', alpha=0.2,s=2)\n",
    "    uniq = [int(i) if (np.round(i,1) - np.round(i,0)==0) else float(i)  for i in np.unique(k['by_sample'])]\n",
    "    # print(uniq)\n",
    "    # unique by_sample values\n",
    "    for sampNum in uniq:\n",
    "        # sampNum = uniq[-1]\n",
    "\n",
    "        # ind_umap = [i for i, j in enumerate(k.by_sample == sampNum) if j]\n",
    "        # labels_samp = np.asarray(pickle_load(f'dbLabels_samp{sampNum}_{name}_', dir_data))\n",
    "        \n",
    "        # sample indexs which are the full dataset - filter db labels by it\n",
    "        ind_samp = [i for i, j in zip(k.Ind,k.by_sample == sampNum) if j]\n",
    "        # corresponding indexes in the full data set - where each point in the full umap\n",
    "        ind_umap = [i for i, j in zip(k.index,k.by_sample == sampNum) if j]        \n",
    "        labels_samp = np.asarray(pickle_load(f'dbLabels_samp{sampNum}_{name}_', dir_data))[ind_samp]\n",
    "        # colors_samp = pickle_load(f'dbColors_samp{sampNum}_{name}_', dir_data)\n",
    "        colors_samp = np.vstack(([0,0,0,1],np.asarray(pickle_load(f'dbColors_samp{sampNum}_{name}_', dir_data))))\n",
    "        # pickle_dump(f'dbColors_{figname}', colors, dir_data)\n",
    "\n",
    "        drawUMAPbySample(umapData, k, ind_umap, labels_samp, settings,colors_samp,\n",
    "                         title=title+f' UMAP - by_sample={sampNum} clusters',\n",
    "                         Figname='4_'+figname+f'UMAP_sample{sampNum}_by_sample_clusters')\n",
    "        \n",
    "# [4, 4.1, 5, 7, 7.1, 8, 11, 13, 14, 15]\n"
   ]
  },
  {
   "cell_type": "markdown",
   "metadata": {},
   "source": [
    "14.2_adj"
   ]
  },
  {
   "cell_type": "code",
   "execution_count": null,
   "metadata": {
    "execution": {
     "iopub.execute_input": "2023-08-06T20:28:34.093326Z",
     "iopub.status.busy": "2023-08-06T20:28:34.092885Z",
     "iopub.status.idle": "2023-08-06T20:28:34.132332Z",
     "shell.execute_reply": "2023-08-06T20:28:34.131703Z"
    }
   },
   "outputs": [],
   "source": [
    "# from plot_functions import *\n",
    "if '14.2a' in j and group_ind==2:  \n",
    "    k['kmean_labels'] = pickle_load(f'kmeanLabels_samp{j}_CellCycle_', dir_data).astype(float)\n",
    "    # colors = draw_kmeans(data = umapData.copy(),labels = labels,title='kmeans all clusters',figname='kmeans_all_clusters',settings = settings,\n",
    "    #             names =['not M&G1','pRB- (GO)','M&G1'])\n",
    "\n",
    "    arr = []\n",
    "    clustNums = np.unique(k.Clust)\n",
    "    clustNums = clustNums[clustNums != -1]\n",
    "    for clustNum in clustNums:\n",
    "        ind = k.Clust == clustNum\n",
    "        PercentageBySample = ClustPercentageBySample(k[ind], 'kmean_labels',names =['not M&G2','pRB- (GO)','M&G2'])#names =['not M&G2','pRB- (GO)','M&G2']#names = ['pRB+ not M&G2','pRB- (GO)','2','pRB+ G2','4','pRB+ M','pRB+ G2&M']\n",
    "\n",
    "        arr.append([clustNum, PercentageBySample])\n",
    "\n",
    "    saveCsv(dir_plots, f'{j}_cellcycle_clusters', arr)"
   ]
  },
  {
   "attachments": {},
   "cell_type": "markdown",
   "metadata": {},
   "source": [
    "## features on UMAP\n"
   ]
  },
  {
   "attachments": {},
   "cell_type": "markdown",
   "metadata": {},
   "source": [
    "shap"
   ]
  },
  {
   "cell_type": "code",
   "execution_count": null,
   "metadata": {
    "execution": {
     "iopub.execute_input": "2023-08-06T20:28:34.135836Z",
     "iopub.status.busy": "2023-08-06T20:28:34.135370Z",
     "iopub.status.idle": "2023-08-06T20:28:34.174709Z",
     "shell.execute_reply": "2023-08-06T20:28:34.174090Z"
    }
   },
   "outputs": [],
   "source": [
    "if args['visualize'] and args['plotUMAP']:\n",
    "    ind = labels !=-1 # drop unclustered rows (clust==-1)\n",
    "    accuracy = xg_classification_shap(CAll[featureGroup].copy(),labels.copy(),ind,colors,\n",
    "                                    settings,figname='5_'+figname+'shap')\n",
    "    print(f\"accuracy {j}_{group_ind}: {accuracy}%\")"
   ]
  },
  {
   "attachments": {},
   "cell_type": "markdown",
   "metadata": {},
   "source": [
    "plot Clusters"
   ]
  },
  {
   "cell_type": "code",
   "execution_count": null,
   "metadata": {
    "execution": {
     "iopub.execute_input": "2023-08-06T20:28:34.178052Z",
     "iopub.status.busy": "2023-08-06T20:28:34.177613Z",
     "iopub.status.idle": "2023-08-06T20:28:34.216481Z",
     "shell.execute_reply": "2023-08-06T20:28:34.215881Z"
    }
   },
   "outputs": [],
   "source": [
    "if args['visualize'] and args['plotUMAP']:\n",
    "    plotClusters(k, umapData, labels, colors, NamesAll, settings,\n",
    "                title='Clusters ' + title,\n",
    "                figname='1_'+figname+'Clusters')"
   ]
  },
  {
   "attachments": {},
   "cell_type": "markdown",
   "metadata": {},
   "source": [
    "plot features on umap "
   ]
  },
  {
   "cell_type": "code",
   "execution_count": null,
   "metadata": {
    "execution": {
     "iopub.execute_input": "2023-08-06T20:28:34.219950Z",
     "iopub.status.busy": "2023-08-06T20:28:34.219325Z",
     "iopub.status.idle": "2023-08-06T20:28:34.258168Z",
     "shell.execute_reply": "2023-08-06T20:28:34.257530Z"
    }
   },
   "outputs": [],
   "source": [
    "if args['visualize'] and args['plotUMAP']:\n",
    "    drawUMAP(umapData, NamesAll, CAll, settings,\n",
    "             title='UMAP ' + title,\n",
    "             Figname='2_'+figname+'UMAP_')\n",
    "    # ['CyclinB1', 'pRB','H3S28p','DNA2']"
   ]
  },
  {
   "attachments": {},
   "cell_type": "markdown",
   "metadata": {},
   "source": [
    "## scatter figures\n"
   ]
  },
  {
   "cell_type": "code",
   "execution_count": null,
   "metadata": {
    "execution": {
     "iopub.execute_input": "2023-08-06T20:28:34.261816Z",
     "iopub.status.busy": "2023-08-06T20:28:34.261249Z",
     "iopub.status.idle": "2023-08-06T20:28:34.298985Z",
     "shell.execute_reply": "2023-08-06T20:28:34.298391Z"
    }
   },
   "outputs": [],
   "source": [
    "if args['visualize']:\n",
    "    try:\n",
    "        scatter(k, 'MBD', 'DNA2', title, figname, settings)\n",
    "    except:\n",
    "        print('no ncad in sample')\n",
    "# k.columns"
   ]
  },
  {
   "attachments": {},
   "cell_type": "markdown",
   "metadata": {},
   "source": [
    "## clear data\n"
   ]
  },
  {
   "cell_type": "code",
   "execution_count": null,
   "metadata": {
    "ExecuteTime": {
     "end_time": "2023-01-16T21:13:44.860070Z",
     "start_time": "2023-01-16T21:13:44.809974Z"
    },
    "execution": {
     "iopub.execute_input": "2023-08-06T20:28:34.302194Z",
     "iopub.status.busy": "2023-08-06T20:28:34.301912Z",
     "iopub.status.idle": "2023-08-06T20:28:34.338633Z",
     "shell.execute_reply": "2023-08-06T20:28:34.338007Z"
    }
   },
   "outputs": [],
   "source": [
    "# dbscanData, umapData,k, CAll,labels = None,None,None,None,None\n",
    "# imList2pdf(dir_plots,j,['CellIden','EpiCols','CellIden+EpiCols'])\n"
   ]
  }
 ],
 "metadata": {
  "kernelspec": {
   "display_name": "torch39",
   "language": "python",
   "name": "python3"
  },
  "language_info": {
   "codemirror_mode": {
    "name": "ipython",
    "version": 3
   },
   "file_extension": ".py",
   "mimetype": "text/x-python",
   "name": "python",
   "nbconvert_exporter": "python",
   "pygments_lexer": "ipython3",
   "version": "3.9.16"
  },
  "toc": {
   "base_numbering": 1,
   "nav_menu": {},
   "number_sections": true,
   "sideBar": true,
   "skip_h1_title": false,
   "title_cell": "Table of Contents",
   "title_sidebar": "Contents",
   "toc_cell": false,
   "toc_position": {},
   "toc_section_display": true,
   "toc_window_display": false
  },
  "varInspector": {
   "cols": {
    "lenName": 16,
    "lenType": 16,
    "lenVar": 40
   },
   "kernels_config": {
    "python": {
     "delete_cmd_postfix": "",
     "delete_cmd_prefix": "del ",
     "library": "var_list.py",
     "varRefreshCmd": "print(var_dic_list())"
    },
    "r": {
     "delete_cmd_postfix": ") ",
     "delete_cmd_prefix": "rm(",
     "library": "var_list.r",
     "varRefreshCmd": "cat(var_dic_list()) "
    }
   },
   "types_to_exclude": [
    "module",
    "function",
    "builtin_function_or_method",
    "instance",
    "_Feature"
   ],
   "window_display": false
  },
  "vscode": {
   "interpreter": {
    "hash": "25238166783bd3667da868d9e05a785eda3f5ca355f77ce9c051267fa7411fd2"
   }
  },
  "widgets": {
   "application/vnd.jupyter.widget-state+json": {
    "state": {
     "06f3414c4d5f457ab2e1dd774ba4c5e7": {
      "model_module": "@jupyter-widgets/base",
      "model_module_version": "1.2.0",
      "model_name": "LayoutModel",
      "state": {
       "_model_module": "@jupyter-widgets/base",
       "_model_module_version": "1.2.0",
       "_model_name": "LayoutModel",
       "_view_count": null,
       "_view_module": "@jupyter-widgets/base",
       "_view_module_version": "1.2.0",
       "_view_name": "LayoutView",
       "align_content": null,
       "align_items": null,
       "align_self": null,
       "border": null,
       "bottom": null,
       "display": null,
       "flex": null,
       "flex_flow": null,
       "grid_area": null,
       "grid_auto_columns": null,
       "grid_auto_flow": null,
       "grid_auto_rows": null,
       "grid_column": null,
       "grid_gap": null,
       "grid_row": null,
       "grid_template_areas": null,
       "grid_template_columns": null,
       "grid_template_rows": null,
       "height": null,
       "justify_content": null,
       "justify_items": null,
       "left": null,
       "margin": null,
       "max_height": null,
       "max_width": null,
       "min_height": null,
       "min_width": null,
       "object_fit": null,
       "object_position": null,
       "order": null,
       "overflow": null,
       "overflow_x": null,
       "overflow_y": null,
       "padding": null,
       "right": null,
       "top": null,
       "visibility": null,
       "width": null
      }
     },
     "0e308bf6b7e14767b7ca9b2f922109b6": {
      "model_module": "@jupyter-widgets/base",
      "model_module_version": "1.2.0",
      "model_name": "LayoutModel",
      "state": {
       "_model_module": "@jupyter-widgets/base",
       "_model_module_version": "1.2.0",
       "_model_name": "LayoutModel",
       "_view_count": null,
       "_view_module": "@jupyter-widgets/base",
       "_view_module_version": "1.2.0",
       "_view_name": "LayoutView",
       "align_content": null,
       "align_items": null,
       "align_self": null,
       "border": null,
       "bottom": null,
       "display": null,
       "flex": null,
       "flex_flow": null,
       "grid_area": null,
       "grid_auto_columns": null,
       "grid_auto_flow": null,
       "grid_auto_rows": null,
       "grid_column": null,
       "grid_gap": null,
       "grid_row": null,
       "grid_template_areas": null,
       "grid_template_columns": null,
       "grid_template_rows": null,
       "height": null,
       "justify_content": null,
       "justify_items": null,
       "left": null,
       "margin": null,
       "max_height": null,
       "max_width": null,
       "min_height": null,
       "min_width": null,
       "object_fit": null,
       "object_position": null,
       "order": null,
       "overflow": null,
       "overflow_x": null,
       "overflow_y": null,
       "padding": null,
       "right": null,
       "top": null,
       "visibility": null,
       "width": null
      }
     },
     "16b218ae6a1d42d6ba3bcd3cd51868f8": {
      "model_module": "@jupyter-widgets/controls",
      "model_module_version": "1.5.0",
      "model_name": "HTMLModel",
      "state": {
       "_dom_classes": [],
       "_model_module": "@jupyter-widgets/controls",
       "_model_module_version": "1.5.0",
       "_model_name": "HTMLModel",
       "_view_count": null,
       "_view_module": "@jupyter-widgets/controls",
       "_view_module_version": "1.5.0",
       "_view_name": "HTMLView",
       "description": "",
       "description_tooltip": null,
       "layout": "IPY_MODEL_aa45da7e6f8d4978bcad0c6964dcdb45",
       "placeholder": "​",
       "style": "IPY_MODEL_963d770fa92546d2a2fee9963eea7ed9",
       "value": ""
      }
     },
     "23ddbb67697740dd8427d88ad1de2907": {
      "model_module": "@jupyter-widgets/base",
      "model_module_version": "1.2.0",
      "model_name": "LayoutModel",
      "state": {
       "_model_module": "@jupyter-widgets/base",
       "_model_module_version": "1.2.0",
       "_model_name": "LayoutModel",
       "_view_count": null,
       "_view_module": "@jupyter-widgets/base",
       "_view_module_version": "1.2.0",
       "_view_name": "LayoutView",
       "align_content": null,
       "align_items": null,
       "align_self": null,
       "border": null,
       "bottom": null,
       "display": null,
       "flex": null,
       "flex_flow": null,
       "grid_area": null,
       "grid_auto_columns": null,
       "grid_auto_flow": null,
       "grid_auto_rows": null,
       "grid_column": null,
       "grid_gap": null,
       "grid_row": null,
       "grid_template_areas": null,
       "grid_template_columns": null,
       "grid_template_rows": null,
       "height": null,
       "justify_content": null,
       "justify_items": null,
       "left": null,
       "margin": null,
       "max_height": null,
       "max_width": null,
       "min_height": null,
       "min_width": null,
       "object_fit": null,
       "object_position": null,
       "order": null,
       "overflow": null,
       "overflow_x": null,
       "overflow_y": null,
       "padding": null,
       "right": null,
       "top": null,
       "visibility": null,
       "width": null
      }
     },
     "38a56b43ec4f4532a81de796e66e72d5": {
      "model_module": "@jupyter-widgets/base",
      "model_module_version": "1.2.0",
      "model_name": "LayoutModel",
      "state": {
       "_model_module": "@jupyter-widgets/base",
       "_model_module_version": "1.2.0",
       "_model_name": "LayoutModel",
       "_view_count": null,
       "_view_module": "@jupyter-widgets/base",
       "_view_module_version": "1.2.0",
       "_view_name": "LayoutView",
       "align_content": null,
       "align_items": null,
       "align_self": null,
       "border": null,
       "bottom": null,
       "display": null,
       "flex": null,
       "flex_flow": null,
       "grid_area": null,
       "grid_auto_columns": null,
       "grid_auto_flow": null,
       "grid_auto_rows": null,
       "grid_column": null,
       "grid_gap": null,
       "grid_row": null,
       "grid_template_areas": null,
       "grid_template_columns": null,
       "grid_template_rows": null,
       "height": null,
       "justify_content": null,
       "justify_items": null,
       "left": null,
       "margin": null,
       "max_height": null,
       "max_width": null,
       "min_height": null,
       "min_width": null,
       "object_fit": null,
       "object_position": null,
       "order": null,
       "overflow": null,
       "overflow_x": null,
       "overflow_y": null,
       "padding": null,
       "right": null,
       "top": null,
       "visibility": null,
       "width": null
      }
     },
     "427df8bd34524867883d56842e1e3206": {
      "model_module": "@jupyter-widgets/controls",
      "model_module_version": "1.5.0",
      "model_name": "HTMLModel",
      "state": {
       "_dom_classes": [],
       "_model_module": "@jupyter-widgets/controls",
       "_model_module_version": "1.5.0",
       "_model_name": "HTMLModel",
       "_view_count": null,
       "_view_module": "@jupyter-widgets/controls",
       "_view_module_version": "1.5.0",
       "_view_name": "HTMLView",
       "description": "",
       "description_tooltip": null,
       "layout": "IPY_MODEL_aa45da7e6f8d4978bcad0c6964dcdb45",
       "placeholder": "​",
       "style": "IPY_MODEL_963d770fa92546d2a2fee9963eea7ed9",
       "value": "Epochs completed: 100%| "
      }
     },
     "46cfb27490464fb9bb8bbb4736e996d4": {
      "model_module": "@jupyter-widgets/controls",
      "model_module_version": "1.5.0",
      "model_name": "HBoxModel",
      "state": {
       "_dom_classes": [],
       "_model_module": "@jupyter-widgets/controls",
       "_model_module_version": "1.5.0",
       "_model_name": "HBoxModel",
       "_view_count": null,
       "_view_module": "@jupyter-widgets/controls",
       "_view_module_version": "1.5.0",
       "_view_name": "HBoxView",
       "box_style": "",
       "children": [
        "IPY_MODEL_427df8bd34524867883d56842e1e3206",
        "IPY_MODEL_57d7b943af584f85910737c463e86a22",
        "IPY_MODEL_fee3a2bc0026498caeed56ad392aa786"
       ],
       "layout": "IPY_MODEL_23ddbb67697740dd8427d88ad1de2907"
      }
     },
     "57d7b943af584f85910737c463e86a22": {
      "model_module": "@jupyter-widgets/controls",
      "model_module_version": "1.5.0",
      "model_name": "FloatProgressModel",
      "state": {
       "_dom_classes": [],
       "_model_module": "@jupyter-widgets/controls",
       "_model_module_version": "1.5.0",
       "_model_name": "FloatProgressModel",
       "_view_count": null,
       "_view_module": "@jupyter-widgets/controls",
       "_view_module_version": "1.5.0",
       "_view_name": "ProgressView",
       "bar_style": "success",
       "description": "",
       "description_tooltip": null,
       "layout": "IPY_MODEL_d4a865f2f6c148269ed582fb91283abe",
       "max": 200,
       "min": 0,
       "orientation": "horizontal",
       "style": "IPY_MODEL_625b7d51d5cb411dafd11d646d716ad7",
       "value": 200
      }
     },
     "625b7d51d5cb411dafd11d646d716ad7": {
      "model_module": "@jupyter-widgets/controls",
      "model_module_version": "1.5.0",
      "model_name": "ProgressStyleModel",
      "state": {
       "_model_module": "@jupyter-widgets/controls",
       "_model_module_version": "1.5.0",
       "_model_name": "ProgressStyleModel",
       "_view_count": null,
       "_view_module": "@jupyter-widgets/base",
       "_view_module_version": "1.2.0",
       "_view_name": "StyleView",
       "bar_color": null,
       "description_width": ""
      }
     },
     "6fa86c373c244ff083ddc97daa29d88c": {
      "model_module": "@jupyter-widgets/base",
      "model_module_version": "1.2.0",
      "model_name": "LayoutModel",
      "state": {
       "_model_module": "@jupyter-widgets/base",
       "_model_module_version": "1.2.0",
       "_model_name": "LayoutModel",
       "_view_count": null,
       "_view_module": "@jupyter-widgets/base",
       "_view_module_version": "1.2.0",
       "_view_name": "LayoutView",
       "align_content": null,
       "align_items": null,
       "align_self": null,
       "border": null,
       "bottom": null,
       "display": null,
       "flex": null,
       "flex_flow": null,
       "grid_area": null,
       "grid_auto_columns": null,
       "grid_auto_flow": null,
       "grid_auto_rows": null,
       "grid_column": null,
       "grid_gap": null,
       "grid_row": null,
       "grid_template_areas": null,
       "grid_template_columns": null,
       "grid_template_rows": null,
       "height": null,
       "justify_content": null,
       "justify_items": null,
       "left": null,
       "margin": null,
       "max_height": null,
       "max_width": null,
       "min_height": null,
       "min_width": null,
       "object_fit": null,
       "object_position": null,
       "order": null,
       "overflow": null,
       "overflow_x": null,
       "overflow_y": null,
       "padding": null,
       "right": null,
       "top": null,
       "visibility": null,
       "width": null
      }
     },
     "949c7d826b77466abe9f4a1b121983c4": {
      "model_module": "@jupyter-widgets/controls",
      "model_module_version": "1.5.0",
      "model_name": "HBoxModel",
      "state": {
       "_dom_classes": [],
       "_model_module": "@jupyter-widgets/controls",
       "_model_module_version": "1.5.0",
       "_model_name": "HBoxModel",
       "_view_count": null,
       "_view_module": "@jupyter-widgets/controls",
       "_view_module_version": "1.5.0",
       "_view_name": "HBoxView",
       "box_style": "",
       "children": [
        "IPY_MODEL_427df8bd34524867883d56842e1e3206",
        "IPY_MODEL_57d7b943af584f85910737c463e86a22",
        "IPY_MODEL_fee3a2bc0026498caeed56ad392aa786"
       ],
       "layout": "IPY_MODEL_23ddbb67697740dd8427d88ad1de2907"
      }
     },
     "95ea8ad6033d42f8a92123fe913b196c": {
      "model_module": "@jupyter-widgets/controls",
      "model_module_version": "1.5.0",
      "model_name": "DescriptionStyleModel",
      "state": {
       "_model_module": "@jupyter-widgets/controls",
       "_model_module_version": "1.5.0",
       "_model_name": "DescriptionStyleModel",
       "_view_count": null,
       "_view_module": "@jupyter-widgets/base",
       "_view_module_version": "1.2.0",
       "_view_name": "StyleView",
       "description_width": ""
      }
     },
     "963d770fa92546d2a2fee9963eea7ed9": {
      "model_module": "@jupyter-widgets/controls",
      "model_module_version": "1.5.0",
      "model_name": "DescriptionStyleModel",
      "state": {
       "_model_module": "@jupyter-widgets/controls",
       "_model_module_version": "1.5.0",
       "_model_name": "DescriptionStyleModel",
       "_view_count": null,
       "_view_module": "@jupyter-widgets/base",
       "_view_module_version": "1.2.0",
       "_view_name": "StyleView",
       "description_width": ""
      }
     },
     "aa45da7e6f8d4978bcad0c6964dcdb45": {
      "model_module": "@jupyter-widgets/base",
      "model_module_version": "1.2.0",
      "model_name": "LayoutModel",
      "state": {
       "_model_module": "@jupyter-widgets/base",
       "_model_module_version": "1.2.0",
       "_model_name": "LayoutModel",
       "_view_count": null,
       "_view_module": "@jupyter-widgets/base",
       "_view_module_version": "1.2.0",
       "_view_name": "LayoutView",
       "align_content": null,
       "align_items": null,
       "align_self": null,
       "border": null,
       "bottom": null,
       "display": null,
       "flex": null,
       "flex_flow": null,
       "grid_area": null,
       "grid_auto_columns": null,
       "grid_auto_flow": null,
       "grid_auto_rows": null,
       "grid_column": null,
       "grid_gap": null,
       "grid_row": null,
       "grid_template_areas": null,
       "grid_template_columns": null,
       "grid_template_rows": null,
       "height": null,
       "justify_content": null,
       "justify_items": null,
       "left": null,
       "margin": null,
       "max_height": null,
       "max_width": null,
       "min_height": null,
       "min_width": null,
       "object_fit": null,
       "object_position": null,
       "order": null,
       "overflow": null,
       "overflow_x": null,
       "overflow_y": null,
       "padding": null,
       "right": null,
       "top": null,
       "visibility": null,
       "width": null
      }
     },
     "aad6dc98a1ed4bb197b6a981b548ccd6": {
      "model_module": "@jupyter-widgets/controls",
      "model_module_version": "1.5.0",
      "model_name": "FloatProgressModel",
      "state": {
       "_dom_classes": [],
       "_model_module": "@jupyter-widgets/controls",
       "_model_module_version": "1.5.0",
       "_model_name": "FloatProgressModel",
       "_view_count": null,
       "_view_module": "@jupyter-widgets/controls",
       "_view_module_version": "1.5.0",
       "_view_name": "ProgressView",
       "bar_style": "",
       "description": "",
       "description_tooltip": null,
       "layout": "IPY_MODEL_d4a865f2f6c148269ed582fb91283abe",
       "max": 200,
       "min": 0,
       "orientation": "horizontal",
       "style": "IPY_MODEL_625b7d51d5cb411dafd11d646d716ad7",
       "value": 0
      }
     },
     "b9a850f8718b42ba970dadbbcafa7e2a": {
      "model_module": "@jupyter-widgets/controls",
      "model_module_version": "1.5.0",
      "model_name": "ProgressStyleModel",
      "state": {
       "_model_module": "@jupyter-widgets/controls",
       "_model_module_version": "1.5.0",
       "_model_name": "ProgressStyleModel",
       "_view_count": null,
       "_view_module": "@jupyter-widgets/base",
       "_view_module_version": "1.2.0",
       "_view_name": "StyleView",
       "bar_color": null,
       "description_width": ""
      }
     },
     "cfd5aba4761e4aac8a6a4e8e0492bdf9": {
      "model_module": "@jupyter-widgets/controls",
      "model_module_version": "1.5.0",
      "model_name": "HTMLModel",
      "state": {
       "_dom_classes": [],
       "_model_module": "@jupyter-widgets/controls",
       "_model_module_version": "1.5.0",
       "_model_name": "HTMLModel",
       "_view_count": null,
       "_view_module": "@jupyter-widgets/controls",
       "_view_module_version": "1.5.0",
       "_view_name": "HTMLView",
       "description": "",
       "description_tooltip": null,
       "layout": "IPY_MODEL_06f3414c4d5f457ab2e1dd774ba4c5e7",
       "placeholder": "​",
       "style": "IPY_MODEL_f058f060d3d9425d9e6e9690972c9f72",
       "value": ""
      }
     },
     "d4a865f2f6c148269ed582fb91283abe": {
      "model_module": "@jupyter-widgets/base",
      "model_module_version": "1.2.0",
      "model_name": "LayoutModel",
      "state": {
       "_model_module": "@jupyter-widgets/base",
       "_model_module_version": "1.2.0",
       "_model_name": "LayoutModel",
       "_view_count": null,
       "_view_module": "@jupyter-widgets/base",
       "_view_module_version": "1.2.0",
       "_view_name": "LayoutView",
       "align_content": null,
       "align_items": null,
       "align_self": null,
       "border": null,
       "bottom": null,
       "display": null,
       "flex": null,
       "flex_flow": null,
       "grid_area": null,
       "grid_auto_columns": null,
       "grid_auto_flow": null,
       "grid_auto_rows": null,
       "grid_column": null,
       "grid_gap": null,
       "grid_row": null,
       "grid_template_areas": null,
       "grid_template_columns": null,
       "grid_template_rows": null,
       "height": null,
       "justify_content": null,
       "justify_items": null,
       "left": null,
       "margin": null,
       "max_height": null,
       "max_width": null,
       "min_height": null,
       "min_width": null,
       "object_fit": null,
       "object_position": null,
       "order": null,
       "overflow": null,
       "overflow_x": null,
       "overflow_y": null,
       "padding": null,
       "right": null,
       "top": null,
       "visibility": null,
       "width": null
      }
     },
     "d5769f486e444416a006125b986d1e9f": {
      "model_module": "@jupyter-widgets/controls",
      "model_module_version": "1.5.0",
      "model_name": "DescriptionStyleModel",
      "state": {
       "_model_module": "@jupyter-widgets/controls",
       "_model_module_version": "1.5.0",
       "_model_name": "DescriptionStyleModel",
       "_view_count": null,
       "_view_module": "@jupyter-widgets/base",
       "_view_module_version": "1.2.0",
       "_view_name": "StyleView",
       "description_width": ""
      }
     },
     "f058f060d3d9425d9e6e9690972c9f72": {
      "model_module": "@jupyter-widgets/controls",
      "model_module_version": "1.5.0",
      "model_name": "DescriptionStyleModel",
      "state": {
       "_model_module": "@jupyter-widgets/controls",
       "_model_module_version": "1.5.0",
       "_model_name": "DescriptionStyleModel",
       "_view_count": null,
       "_view_module": "@jupyter-widgets/base",
       "_view_module_version": "1.2.0",
       "_view_name": "StyleView",
       "description_width": ""
      }
     },
     "f68112b4b5b94e1691a2c745051ef98e": {
      "model_module": "@jupyter-widgets/base",
      "model_module_version": "1.2.0",
      "model_name": "LayoutModel",
      "state": {
       "_model_module": "@jupyter-widgets/base",
       "_model_module_version": "1.2.0",
       "_model_name": "LayoutModel",
       "_view_count": null,
       "_view_module": "@jupyter-widgets/base",
       "_view_module_version": "1.2.0",
       "_view_name": "LayoutView",
       "align_content": null,
       "align_items": null,
       "align_self": null,
       "border": null,
       "bottom": null,
       "display": null,
       "flex": null,
       "flex_flow": null,
       "grid_area": null,
       "grid_auto_columns": null,
       "grid_auto_flow": null,
       "grid_auto_rows": null,
       "grid_column": null,
       "grid_gap": null,
       "grid_row": null,
       "grid_template_areas": null,
       "grid_template_columns": null,
       "grid_template_rows": null,
       "height": null,
       "justify_content": null,
       "justify_items": null,
       "left": null,
       "margin": null,
       "max_height": null,
       "max_width": null,
       "min_height": null,
       "min_width": null,
       "object_fit": null,
       "object_position": null,
       "order": null,
       "overflow": null,
       "overflow_x": null,
       "overflow_y": null,
       "padding": null,
       "right": null,
       "top": null,
       "visibility": null,
       "width": null
      }
     },
     "fee3a2bc0026498caeed56ad392aa786": {
      "model_module": "@jupyter-widgets/controls",
      "model_module_version": "1.5.0",
      "model_name": "HTMLModel",
      "state": {
       "_dom_classes": [],
       "_model_module": "@jupyter-widgets/controls",
       "_model_module_version": "1.5.0",
       "_model_name": "HTMLModel",
       "_view_count": null,
       "_view_module": "@jupyter-widgets/controls",
       "_view_module_version": "1.5.0",
       "_view_name": "HTMLView",
       "description": "",
       "description_tooltip": null,
       "layout": "IPY_MODEL_06f3414c4d5f457ab2e1dd774ba4c5e7",
       "placeholder": "​",
       "style": "IPY_MODEL_f058f060d3d9425d9e6e9690972c9f72",
       "value": " 200/200 [00:05]"
      }
     }
    },
    "version_major": 2,
    "version_minor": 0
   }
  }
 },
 "nbformat": 4,
 "nbformat_minor": 4
}
