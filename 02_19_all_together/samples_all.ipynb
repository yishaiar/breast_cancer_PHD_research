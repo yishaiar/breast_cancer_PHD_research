{
 "cells": [
  {
   "cell_type": "markdown",
   "metadata": {},
   "source": [
    "# Load and initialize"
   ]
  },
  {
   "cell_type": "markdown",
   "metadata": {},
   "source": [
    "settings"
   ]
  },
  {
   "cell_type": "code",
   "execution_count": null,
   "metadata": {
    "ExecuteTime": {
     "end_time": "2023-01-16T21:12:28.925237Z",
     "start_time": "2023-01-16T21:12:28.891068Z"
    },
    "execution": {
     "iopub.execute_input": "2023-04-04T09:07:56.102871Z",
     "iopub.status.busy": "2023-04-04T09:07:56.102596Z",
     "iopub.status.idle": "2023-04-04T09:07:56.110175Z",
     "shell.execute_reply": "2023-04-04T09:07:56.109699Z"
    }
   },
   "outputs": [],
   "source": [
    "# sample number\n",
    "\n",
    "j='1'\n",
    "group_ind = 0\n",
    "# n_samples = 10000\n",
    "    # create visualization (umap, dbscan are always shown)\n",
    "visualize = True\n",
    "plotUMAP  = True\n",
    "    # show figures in notebook\n",
    "show = False\n",
    "\n",
    "saveSVG = False\n",
    "\n",
    "dir_data = 'Data_04042023'\n",
    "\n",
    "\n"
   ]
  },
  {
   "cell_type": "markdown",
   "metadata": {},
   "source": [
    "envirement"
   ]
  },
  {
   "cell_type": "code",
   "execution_count": null,
   "metadata": {
    "ExecuteTime": {
     "end_time": "2023-01-16T21:12:28.990551Z",
     "start_time": "2023-01-16T21:12:28.927491Z"
    },
    "execution": {
     "iopub.execute_input": "2023-04-04T09:07:56.112916Z",
     "iopub.status.busy": "2023-04-04T09:07:56.112715Z",
     "iopub.status.idle": "2023-04-04T09:07:58.195550Z",
     "shell.execute_reply": "2023-04-04T09:07:58.194910Z"
    }
   },
   "outputs": [],
   "source": [
    "import os\n",
    "\n",
    "import time \n",
    "start = time.process_time()\n",
    "import datetime \n",
    "date = datetime.date.today().strftime(\"%d%m%Y\")\n",
    "import pathlib\n",
    "import sys\n",
    "from IPython.display import Image, display\n",
    "from tqdm import tqdm_notebook,tqdm\n",
    "# import time\n",
    "\n",
    "import numpy as np\n",
    "# import matplotlib\n",
    "import matplotlib.pyplot as plt\n",
    "from matplotlib.pyplot import rc_context\n",
    "\n",
    "plt.rcParams[\"figure.figsize\"] = (5.0, 4.0)  # Set default size of plots.\n",
    "plt.rcParams[\"image.interpolation\"] = \"nearest\"\n",
    "plt.rcParams[\"image.cmap\"] = \"gray\"\n",
    "%matplotlib inline\n",
    "\n",
    "import pandas as pd\n",
    "pd.set_option('display.max_rows', 500)\n",
    "pd.set_option('display.max_columns', 500)\n",
    "pd.set_option('display.width', 180) #according to screen width\n",
    "# from pandas.core.base import PandasObject\n",
    "# PandasObject.view = view #allows view meth pd.view\n",
    "\n",
    "# from scipy import signal, stats\n",
    "# import seaborn as sns\n",
    "\n",
    "# from sklearn import metrics\n",
    "\n",
    "# from sklearn.preprocessing import StandardScaler, KBinsDiscretizer\n",
    "# from sklearn.metrics import silhouette_samples,silhouette_score\n",
    "# from sklearn.neighbors import kneighbors_graph\n",
    "\n",
    "# from lmfit import minimize, Parameters\n",
    "\n",
    "\n",
    "parent_dir = os.path.abspath(os.path.join(os.getcwd(), os.pardir))\n",
    "dir_data = os.path.abspath(os.path.join(parent_dir, os.pardir))+f'/{dir_data}/'\n",
    "sys.path.append(parent_dir+'/functions/')\n",
    "\n",
    "\n",
    "from usefull_functions import *\n",
    "from functions import *\n",
    "from plot_functions import *\n",
    "from clustering_functions import *\n",
    "# from epinuc import *\n",
    "\n",
    "\n",
    "\n",
    "%load_ext autoreload\n",
    "%autoreload 2\n",
    "%reload_ext autoreload\n",
    "%autoreload 2\n",
    "\n",
    "\n",
    "\n",
    "\n",
    "\n",
    "TF_ENABLE_ONEDNN_OPTS=0"
   ]
  },
  {
   "cell_type": "markdown",
   "metadata": {},
   "source": [
    "load data; normalized (CD45-)  "
   ]
  },
  {
   "cell_type": "code",
   "execution_count": null,
   "metadata": {
    "ExecuteTime": {
     "end_time": "2023-01-16T21:12:29.090540Z",
     "start_time": "2023-01-16T21:12:28.992321Z"
    },
    "execution": {
     "iopub.execute_input": "2023-04-04T09:07:58.198936Z",
     "iopub.status.busy": "2023-04-04T09:07:58.198710Z",
     "iopub.status.idle": "2023-04-04T09:07:58.238106Z",
     "shell.execute_reply": "2023-04-04T09:07:58.237546Z"
    }
   },
   "outputs": [],
   "source": [
    "j,group_ind = getJ(j,group_ind)\n",
    "dir_plots = os.path.abspath(os.path.join(parent_dir, os.pardir))+f'/_sample_{j}_{date}/'\n",
    "folderExists(dir_plots)\n",
    "settings =        (dir_plots,show,saveSVG)\n",
    "\n",
    "if 'b' not in j:\n",
    "    singleSample = True\n",
    "else:\n",
    "    singleSample = False\n",
    "print(f'singleSample is: {singleSample}')\n",
    "\n",
    "# k_orig = pickle_load('k'+j+'_dict',dir_data )['k']\n",
    "# k = k_orig.copy()\n",
    "# CAll=pd.concat([k]).copy()\n",
    "\n",
    "k = pickle_load('k'+j+'_dict',dir_data )['k']\n",
    "CAll=pd.concat([k.copy()])\n",
    "print(len(k))\n",
    "\n",
    "\n",
    "dict = pickle_load('k'+j+'_names_dict',dir_data )\n",
    "NamesAll = dict['NamesAll']\n",
    "CellIden = dict['CellIden']\n",
    "EpiCols = dict['EpiCols']\n",
    "Core = dict['Core']\n",
    "CellIden_EpiCols = CellIden + EpiCols\n",
    "dict = None\n",
    "\n",
    "groups = [['CellIden','EpiCols','CellIden+EpiCols'],[CellIden,EpiCols,CellIden_EpiCols]]\n",
    "\n",
    "names = [[f'samp{j}_CellIden_',f'samp{j} CellIden Based'],\n",
    "         [f'samp{j}_EpiCols_',f'samp{j} EpiCols Based'],\n",
    "         [f'samp{j}_CellIden+EpiCols_',f'samp{j} CellIden+EpiCols Based']]\n",
    "\n",
    "params = ['iden','epi','all']"
   ]
  },
  {
   "cell_type": "markdown",
   "metadata": {},
   "source": [
    "Visualize data\n",
    "\n",
    "no point to print data.describe() as it is whitened (std~1, mean~0) "
   ]
  },
  {
   "cell_type": "code",
   "execution_count": null,
   "metadata": {
    "ExecuteTime": {
     "end_time": "2023-01-16T21:12:29.142002Z",
     "start_time": "2023-01-16T21:12:29.092846Z"
    },
    "execution": {
     "iopub.execute_input": "2023-04-04T09:07:58.273817Z",
     "iopub.status.busy": "2023-04-04T09:07:58.273495Z",
     "iopub.status.idle": "2023-04-04T09:07:58.312245Z",
     "shell.execute_reply": "2023-04-04T09:07:58.311626Z"
    }
   },
   "outputs": [],
   "source": [
    "# if show:\n",
    "\n",
    "#     for features in [NamesAll,Core,CellIden,EpiCols,CellIden_EpiCols]:\n",
    "#         print(len(features))\n",
    "#         print(features)\n"
   ]
  },
  {
   "cell_type": "markdown",
   "metadata": {
    "tags": []
   },
   "source": [
    "# Cell Identity"
   ]
  },
  {
   "cell_type": "code",
   "execution_count": null,
   "metadata": {
    "ExecuteTime": {
     "end_time": "2023-01-16T21:12:29.193413Z",
     "start_time": "2023-01-16T21:12:29.143651Z"
    },
    "execution": {
     "iopub.execute_input": "2023-04-04T09:07:58.315696Z",
     "iopub.status.busy": "2023-04-04T09:07:58.315280Z",
     "iopub.status.idle": "2023-04-04T09:07:58.361742Z",
     "shell.execute_reply": "2023-04-04T09:07:58.361157Z"
    }
   },
   "outputs": [],
   "source": [
    "\n",
    "figname,title = names[group_ind]\n",
    "name,featureGroup = groups[0][group_ind],groups[1][group_ind]\n",
    "print(name,title,figname)\n"
   ]
  },
  {
   "cell_type": "markdown",
   "metadata": {},
   "source": [
    "### UMAP\n",
    "\n",
    "plot for each feature according to its intensity"
   ]
  },
  {
   "cell_type": "code",
   "execution_count": null,
   "metadata": {
    "ExecuteTime": {
     "end_time": "2023-01-16T21:12:51.555507Z",
     "start_time": "2023-01-16T21:12:29.195357Z"
    },
    "execution": {
     "iopub.execute_input": "2023-04-04T09:07:58.364903Z",
     "iopub.status.busy": "2023-04-04T09:07:58.364476Z",
     "iopub.status.idle": "2023-04-04T09:11:08.732677Z",
     "shell.execute_reply": "2023-04-04T09:11:08.732006Z"
    }
   },
   "outputs": [],
   "source": [
    "min_dist,n_neighbors = getValsCsv(dir_data,vars = [params[group_ind],'umap',j])\n",
    "print(min_dist,n_neighbors)\n",
    "\n",
    "umapData = calculate_umap(CAll[featureGroup],n_neighbors, min_dist)\n",
    "  \n",
    "drawUMAP(umapData, ['H4'],CAll,settings,\n",
    "            title = f'min_dist = {min_dist}, n_neighbors = {n_neighbors}',\n",
    "            Figname = '1_'+figname+'UMAP_(core)')"
   ]
  },
  {
   "cell_type": "markdown",
   "metadata": {},
   "source": [
    "### Dbscan and clusters"
   ]
  },
  {
   "cell_type": "code",
   "execution_count": null,
   "metadata": {
    "ExecuteTime": {
     "end_time": "2023-01-16T21:12:56.828220Z",
     "start_time": "2023-01-16T21:12:51.557555Z"
    },
    "execution": {
     "iopub.execute_input": "2023-04-04T09:11:08.736382Z",
     "iopub.status.busy": "2023-04-04T09:11:08.735919Z",
     "iopub.status.idle": "2023-04-04T09:11:11.565873Z",
     "shell.execute_reply": "2023-04-04T09:11:11.565188Z"
    }
   },
   "outputs": [],
   "source": [
    "\n",
    "eps,min_samples = getValsCsv(dir_data,vars = [params[group_ind],'db',j])\n",
    "print(eps,min_samples)\n",
    "\n",
    "dbscanData,labels,core_samples_mask = calculate_dbscan(umapData,eps,min_samples)\n",
    "\n",
    "colors = drawDbscan(dbscanData,labels,core_samples_mask,settings,\n",
    "        title=f'min_samples = {min_samples}, eps = {eps}',\n",
    "        figname = '1_'+figname+'dbscan')"
   ]
  },
  {
   "cell_type": "code",
   "execution_count": null,
   "metadata": {
    "ExecuteTime": {
     "end_time": "2023-01-16T21:13:12.555103Z",
     "start_time": "2023-01-16T21:12:56.830448Z"
    },
    "execution": {
     "iopub.execute_input": "2023-04-04T09:11:11.569527Z",
     "iopub.status.busy": "2023-04-04T09:11:11.568848Z",
     "iopub.status.idle": "2023-04-04T09:11:22.270200Z",
     "shell.execute_reply": "2023-04-04T09:11:22.269026Z"
    }
   },
   "outputs": [],
   "source": [
    "plotClusters(k,umapData,labels,colors,NamesAll,settings,\n",
    "             title = 'Clusters ' + title,\n",
    "             figname = '1_'+figname+'Clusters')\n",
    "             \n",
    "\n"
   ]
  },
  {
   "attachments": {},
   "cell_type": "markdown",
   "metadata": {},
   "source": [
    "### HeatMap by clusters"
   ]
  },
  {
   "cell_type": "code",
   "execution_count": null,
   "metadata": {
    "ExecuteTime": {
     "end_time": "2023-01-16T21:13:14.816792Z",
     "start_time": "2023-01-16T21:13:12.557211Z"
    },
    "execution": {
     "iopub.execute_input": "2023-04-04T09:11:22.273507Z",
     "iopub.status.busy": "2023-04-04T09:11:22.273291Z",
     "iopub.status.idle": "2023-04-04T09:11:25.398753Z",
     "shell.execute_reply": "2023-04-04T09:11:25.397968Z"
    }
   },
   "outputs": [],
   "source": [
    "if visualize:\n",
    "    for group_name,group in zip(groups[0],groups[1]):\n",
    "        HeatMap(k[k.Clust!=-1],group,settings,\n",
    "                title = 'HeatMap ' + title + ': '+group_name,\n",
    "                figname = '1_'+figname+'ClustHeatMap_by_'+group_name)\n",
    "    "
   ]
  },
  {
   "attachments": {},
   "cell_type": "markdown",
   "metadata": {},
   "source": [
    "### HeatMap by sample"
   ]
  },
  {
   "cell_type": "code",
   "execution_count": null,
   "metadata": {
    "execution": {
     "iopub.execute_input": "2023-04-04T09:11:25.402109Z",
     "iopub.status.busy": "2023-04-04T09:11:25.401873Z",
     "iopub.status.idle": "2023-04-04T09:11:26.378499Z",
     "shell.execute_reply": "2023-04-04T09:11:26.377818Z"
    }
   },
   "outputs": [],
   "source": [
    "if visualize and not singleSample :\n",
    "    group_name,group = groups[0][-1],groups[1][-1]\n",
    "    HeatMap(k[k.Clust!=-1],group,settings,clustFeature='by_sample',\n",
    "            title = 'HeatMap ' + title + ': '+ group_name+' by_sample',\n",
    "            figname = '1_'+figname+'SampHeatMap_'+group_name)\n",
    "        \n"
   ]
  },
  {
   "cell_type": "markdown",
   "metadata": {},
   "source": [
    "### MeanDist"
   ]
  },
  {
   "cell_type": "code",
   "execution_count": null,
   "metadata": {
    "ExecuteTime": {
     "end_time": "2023-01-16T21:13:15.949573Z",
     "start_time": "2023-01-16T21:13:14.820259Z"
    },
    "execution": {
     "iopub.execute_input": "2023-04-04T09:11:26.381895Z",
     "iopub.status.busy": "2023-04-04T09:11:26.381685Z",
     "iopub.status.idle": "2023-04-04T09:11:27.358112Z",
     "shell.execute_reply": "2023-04-04T09:11:27.356790Z"
    }
   },
   "outputs": [],
   "source": [
    "\n",
    "if visualize:\n",
    "    for group_name,group in zip(groups[0],groups[1]):\n",
    "        MeanDist(k [k.Clust==0],k [k.Clust==1],group,settings,\n",
    "                title = 'MeanDist ' + title + ': '+group_name,\n",
    "                figname = '1_'+figname+'ClustMeanDist_by_'+group_name)\n"
   ]
  },
  {
   "attachments": {},
   "cell_type": "markdown",
   "metadata": {},
   "source": [
    "## sample percentage"
   ]
  },
  {
   "cell_type": "code",
   "execution_count": null,
   "metadata": {
    "ExecuteTime": {
     "end_time": "2023-01-16T21:13:44.808076Z",
     "start_time": "2023-01-16T21:13:15.951592Z"
    },
    "execution": {
     "iopub.execute_input": "2023-04-04T09:11:27.361410Z",
     "iopub.status.busy": "2023-04-04T09:11:27.361189Z",
     "iopub.status.idle": "2023-04-04T09:11:28.859100Z",
     "shell.execute_reply": "2023-04-04T09:11:28.858428Z"
    }
   },
   "outputs": [],
   "source": [
    "if visualize and not singleSample:\n",
    "    # unique by_sample values\n",
    "    sampNums = np.unique(k['by_sample'])\n",
    "    for sampNum in sampNums:\n",
    "        drawUMAPbySample(umapData, k, sampNum,'by_sample',settings,\n",
    "                            title =title+' UMAP', \n",
    "                            Figname = '4_'+figname+f'UMAP_sample{sampNum}_')\n",
    "\n",
    "    arr =[]\n",
    "    clustNums = np.unique(k.Clust); clustNums = clustNums[clustNums!=-1]\n",
    "    for clustNum in clustNums:\n",
    "        ind = k.Clust == clustNum\n",
    "        PercentageBySample = ClustPercentageBySample(k[ind],'by_sample')\n",
    "\n",
    "        arr.append([clustNum,PercentageBySample])\n",
    "    saveCsv(dir_plots,figname,arr)"
   ]
  },
  {
   "cell_type": "markdown",
   "metadata": {},
   "source": [
    "## features on UMAP"
   ]
  },
  {
   "cell_type": "code",
   "execution_count": null,
   "metadata": {
    "execution": {
     "iopub.execute_input": "2023-04-04T09:11:28.861948Z",
     "iopub.status.busy": "2023-04-04T09:11:28.861588Z",
     "iopub.status.idle": "2023-04-04T09:11:44.199403Z",
     "shell.execute_reply": "2023-04-04T09:11:44.198683Z"
    }
   },
   "outputs": [],
   "source": [
    "if visualize and plotUMAP:\n",
    "    drawUMAP(umapData, NamesAll,CAll,settings,\n",
    "            title = 'UMAP ' + title, \n",
    "            Figname = '2_'+figname+'UMAP_')\n",
    "\n"
   ]
  },
  {
   "attachments": {},
   "cell_type": "markdown",
   "metadata": {},
   "source": [
    "## scatter figures"
   ]
  },
  {
   "cell_type": "code",
   "execution_count": null,
   "metadata": {
    "execution": {
     "iopub.execute_input": "2023-04-04T09:11:44.202948Z",
     "iopub.status.busy": "2023-04-04T09:11:44.202578Z",
     "iopub.status.idle": "2023-04-04T09:11:44.247473Z",
     "shell.execute_reply": "2023-04-04T09:11:44.246890Z"
    }
   },
   "outputs": [],
   "source": [
    "if visualize:\n",
    "    try:\n",
    "        scatter(k,'NCad','ECad',title,figname,settings)\n",
    "    except:\n",
    "        print('no ncad in sample')"
   ]
  },
  {
   "attachments": {},
   "cell_type": "markdown",
   "metadata": {},
   "source": [
    "## clear data"
   ]
  },
  {
   "cell_type": "code",
   "execution_count": null,
   "metadata": {
    "ExecuteTime": {
     "end_time": "2023-01-16T21:13:44.860070Z",
     "start_time": "2023-01-16T21:13:44.809974Z"
    },
    "execution": {
     "iopub.execute_input": "2023-04-04T09:11:44.250275Z",
     "iopub.status.busy": "2023-04-04T09:11:44.250071Z",
     "iopub.status.idle": "2023-04-04T09:11:44.283421Z",
     "shell.execute_reply": "2023-04-04T09:11:44.282320Z"
    }
   },
   "outputs": [],
   "source": [
    "# dbscanData, umapData,k, CAll,labels = None,None,None,None,None\n",
    "# imList2pdf(dir_plots,j,['CellIden','EpiCols','CellIden+EpiCols'])"
   ]
  }
 ],
 "metadata": {
  "kernelspec": {
   "display_name": "tf_39",
   "language": "python",
   "name": "python3"
  },
  "language_info": {
   "codemirror_mode": {
    "name": "ipython",
    "version": 3
   },
   "file_extension": ".py",
   "mimetype": "text/x-python",
   "name": "python",
   "nbconvert_exporter": "python",
   "pygments_lexer": "ipython3",
   "version": "3.9.16"
  },
  "toc": {
   "base_numbering": 1,
   "nav_menu": {},
   "number_sections": true,
   "sideBar": true,
   "skip_h1_title": false,
   "title_cell": "Table of Contents",
   "title_sidebar": "Contents",
   "toc_cell": false,
   "toc_position": {},
   "toc_section_display": true,
   "toc_window_display": false
  },
  "varInspector": {
   "cols": {
    "lenName": 16,
    "lenType": 16,
    "lenVar": 40
   },
   "kernels_config": {
    "python": {
     "delete_cmd_postfix": "",
     "delete_cmd_prefix": "del ",
     "library": "var_list.py",
     "varRefreshCmd": "print(var_dic_list())"
    },
    "r": {
     "delete_cmd_postfix": ") ",
     "delete_cmd_prefix": "rm(",
     "library": "var_list.r",
     "varRefreshCmd": "cat(var_dic_list()) "
    }
   },
   "types_to_exclude": [
    "module",
    "function",
    "builtin_function_or_method",
    "instance",
    "_Feature"
   ],
   "window_display": false
  },
  "vscode": {
   "interpreter": {
    "hash": "47461faa88aa067695cc57f541ef1d2dc4d6f921b9b537a7f257f46bf46d112f"
   }
  },
  "widgets": {
   "application/vnd.jupyter.widget-state+json": {
    "state": {
     "0740e8d88b1f440fa30b4d33d35e064c": {
      "model_module": "@jupyter-widgets/controls",
      "model_module_version": "1.5.0",
      "model_name": "HTMLModel",
      "state": {
       "_dom_classes": [],
       "_model_module": "@jupyter-widgets/controls",
       "_model_module_version": "1.5.0",
       "_model_name": "HTMLModel",
       "_view_count": null,
       "_view_module": "@jupyter-widgets/controls",
       "_view_module_version": "1.5.0",
       "_view_name": "HTMLView",
       "description": "",
       "description_tooltip": null,
       "layout": "IPY_MODEL_bc706caa69cd4bd78ce9f4245b678fc6",
       "placeholder": "​",
       "style": "IPY_MODEL_7c13320e8a2a44919caca571a6181762",
       "value": "Epochs completed: 100%| "
      }
     },
     "10e27f6b32bf485a9a23cb6731538633": {
      "model_module": "@jupyter-widgets/controls",
      "model_module_version": "1.5.0",
      "model_name": "HTMLModel",
      "state": {
       "_dom_classes": [],
       "_model_module": "@jupyter-widgets/controls",
       "_model_module_version": "1.5.0",
       "_model_name": "HTMLModel",
       "_view_count": null,
       "_view_module": "@jupyter-widgets/controls",
       "_view_module_version": "1.5.0",
       "_view_name": "HTMLView",
       "description": "",
       "description_tooltip": null,
       "layout": "IPY_MODEL_bc706caa69cd4bd78ce9f4245b678fc6",
       "placeholder": "​",
       "style": "IPY_MODEL_7c13320e8a2a44919caca571a6181762",
       "value": ""
      }
     },
     "11f85beb1f1b4d74bd2b7e973b473a48": {
      "model_module": "@jupyter-widgets/controls",
      "model_module_version": "1.5.0",
      "model_name": "HBoxModel",
      "state": {
       "_dom_classes": [],
       "_model_module": "@jupyter-widgets/controls",
       "_model_module_version": "1.5.0",
       "_model_name": "HBoxModel",
       "_view_count": null,
       "_view_module": "@jupyter-widgets/controls",
       "_view_module_version": "1.5.0",
       "_view_name": "HBoxView",
       "box_style": "",
       "children": [
        "IPY_MODEL_0740e8d88b1f440fa30b4d33d35e064c",
        "IPY_MODEL_e497d7f554ae4671b478f1c26f944942",
        "IPY_MODEL_5412e3ea2b984ed7ac6e70da3ed11837"
       ],
       "layout": "IPY_MODEL_bca87bbff6f140d8b5aef8094afa7af0"
      }
     },
     "347a99a46e304f3a8d341fc53c864d78": {
      "model_module": "@jupyter-widgets/base",
      "model_module_version": "1.2.0",
      "model_name": "LayoutModel",
      "state": {
       "_model_module": "@jupyter-widgets/base",
       "_model_module_version": "1.2.0",
       "_model_name": "LayoutModel",
       "_view_count": null,
       "_view_module": "@jupyter-widgets/base",
       "_view_module_version": "1.2.0",
       "_view_name": "LayoutView",
       "align_content": null,
       "align_items": null,
       "align_self": null,
       "border": null,
       "bottom": null,
       "display": null,
       "flex": null,
       "flex_flow": null,
       "grid_area": null,
       "grid_auto_columns": null,
       "grid_auto_flow": null,
       "grid_auto_rows": null,
       "grid_column": null,
       "grid_gap": null,
       "grid_row": null,
       "grid_template_areas": null,
       "grid_template_columns": null,
       "grid_template_rows": null,
       "height": null,
       "justify_content": null,
       "justify_items": null,
       "left": null,
       "margin": null,
       "max_height": null,
       "max_width": null,
       "min_height": null,
       "min_width": null,
       "object_fit": null,
       "object_position": null,
       "order": null,
       "overflow": null,
       "overflow_x": null,
       "overflow_y": null,
       "padding": null,
       "right": null,
       "top": null,
       "visibility": null,
       "width": null
      }
     },
     "35eca67ab5a74dc296466eb339baba34": {
      "model_module": "@jupyter-widgets/base",
      "model_module_version": "1.2.0",
      "model_name": "LayoutModel",
      "state": {
       "_model_module": "@jupyter-widgets/base",
       "_model_module_version": "1.2.0",
       "_model_name": "LayoutModel",
       "_view_count": null,
       "_view_module": "@jupyter-widgets/base",
       "_view_module_version": "1.2.0",
       "_view_name": "LayoutView",
       "align_content": null,
       "align_items": null,
       "align_self": null,
       "border": null,
       "bottom": null,
       "display": null,
       "flex": null,
       "flex_flow": null,
       "grid_area": null,
       "grid_auto_columns": null,
       "grid_auto_flow": null,
       "grid_auto_rows": null,
       "grid_column": null,
       "grid_gap": null,
       "grid_row": null,
       "grid_template_areas": null,
       "grid_template_columns": null,
       "grid_template_rows": null,
       "height": null,
       "justify_content": null,
       "justify_items": null,
       "left": null,
       "margin": null,
       "max_height": null,
       "max_width": null,
       "min_height": null,
       "min_width": null,
       "object_fit": null,
       "object_position": null,
       "order": null,
       "overflow": null,
       "overflow_x": null,
       "overflow_y": null,
       "padding": null,
       "right": null,
       "top": null,
       "visibility": null,
       "width": null
      }
     },
     "5412e3ea2b984ed7ac6e70da3ed11837": {
      "model_module": "@jupyter-widgets/controls",
      "model_module_version": "1.5.0",
      "model_name": "HTMLModel",
      "state": {
       "_dom_classes": [],
       "_model_module": "@jupyter-widgets/controls",
       "_model_module_version": "1.5.0",
       "_model_name": "HTMLModel",
       "_view_count": null,
       "_view_module": "@jupyter-widgets/controls",
       "_view_module_version": "1.5.0",
       "_view_name": "HTMLView",
       "description": "",
       "description_tooltip": null,
       "layout": "IPY_MODEL_35eca67ab5a74dc296466eb339baba34",
       "placeholder": "​",
       "style": "IPY_MODEL_7dc4083dcf0a4f1c9a5397f7692fae06",
       "value": " 200/200 [00:07]"
      }
     },
     "70172629b4a2419aabe1f84fc0aa19fc": {
      "model_module": "@jupyter-widgets/controls",
      "model_module_version": "1.5.0",
      "model_name": "HTMLModel",
      "state": {
       "_dom_classes": [],
       "_model_module": "@jupyter-widgets/controls",
       "_model_module_version": "1.5.0",
       "_model_name": "HTMLModel",
       "_view_count": null,
       "_view_module": "@jupyter-widgets/controls",
       "_view_module_version": "1.5.0",
       "_view_name": "HTMLView",
       "description": "",
       "description_tooltip": null,
       "layout": "IPY_MODEL_35eca67ab5a74dc296466eb339baba34",
       "placeholder": "​",
       "style": "IPY_MODEL_7dc4083dcf0a4f1c9a5397f7692fae06",
       "value": ""
      }
     },
     "7679125536114bab9b5b6884c0be05e9": {
      "model_module": "@jupyter-widgets/controls",
      "model_module_version": "1.5.0",
      "model_name": "ProgressStyleModel",
      "state": {
       "_model_module": "@jupyter-widgets/controls",
       "_model_module_version": "1.5.0",
       "_model_name": "ProgressStyleModel",
       "_view_count": null,
       "_view_module": "@jupyter-widgets/base",
       "_view_module_version": "1.2.0",
       "_view_name": "StyleView",
       "bar_color": null,
       "description_width": ""
      }
     },
     "77295af3e274447a8445980605287fa3": {
      "model_module": "@jupyter-widgets/base",
      "model_module_version": "1.2.0",
      "model_name": "LayoutModel",
      "state": {
       "_model_module": "@jupyter-widgets/base",
       "_model_module_version": "1.2.0",
       "_model_name": "LayoutModel",
       "_view_count": null,
       "_view_module": "@jupyter-widgets/base",
       "_view_module_version": "1.2.0",
       "_view_name": "LayoutView",
       "align_content": null,
       "align_items": null,
       "align_self": null,
       "border": null,
       "bottom": null,
       "display": null,
       "flex": null,
       "flex_flow": null,
       "grid_area": null,
       "grid_auto_columns": null,
       "grid_auto_flow": null,
       "grid_auto_rows": null,
       "grid_column": null,
       "grid_gap": null,
       "grid_row": null,
       "grid_template_areas": null,
       "grid_template_columns": null,
       "grid_template_rows": null,
       "height": null,
       "justify_content": null,
       "justify_items": null,
       "left": null,
       "margin": null,
       "max_height": null,
       "max_width": null,
       "min_height": null,
       "min_width": null,
       "object_fit": null,
       "object_position": null,
       "order": null,
       "overflow": null,
       "overflow_x": null,
       "overflow_y": null,
       "padding": null,
       "right": null,
       "top": null,
       "visibility": null,
       "width": null
      }
     },
     "7c13320e8a2a44919caca571a6181762": {
      "model_module": "@jupyter-widgets/controls",
      "model_module_version": "1.5.0",
      "model_name": "DescriptionStyleModel",
      "state": {
       "_model_module": "@jupyter-widgets/controls",
       "_model_module_version": "1.5.0",
       "_model_name": "DescriptionStyleModel",
       "_view_count": null,
       "_view_module": "@jupyter-widgets/base",
       "_view_module_version": "1.2.0",
       "_view_name": "StyleView",
       "description_width": ""
      }
     },
     "7dc4083dcf0a4f1c9a5397f7692fae06": {
      "model_module": "@jupyter-widgets/controls",
      "model_module_version": "1.5.0",
      "model_name": "DescriptionStyleModel",
      "state": {
       "_model_module": "@jupyter-widgets/controls",
       "_model_module_version": "1.5.0",
       "_model_name": "DescriptionStyleModel",
       "_view_count": null,
       "_view_module": "@jupyter-widgets/base",
       "_view_module_version": "1.2.0",
       "_view_name": "StyleView",
       "description_width": ""
      }
     },
     "8288f7cc6f4c46438d733f23f2c22550": {
      "model_module": "@jupyter-widgets/base",
      "model_module_version": "1.2.0",
      "model_name": "LayoutModel",
      "state": {
       "_model_module": "@jupyter-widgets/base",
       "_model_module_version": "1.2.0",
       "_model_name": "LayoutModel",
       "_view_count": null,
       "_view_module": "@jupyter-widgets/base",
       "_view_module_version": "1.2.0",
       "_view_name": "LayoutView",
       "align_content": null,
       "align_items": null,
       "align_self": null,
       "border": null,
       "bottom": null,
       "display": null,
       "flex": null,
       "flex_flow": null,
       "grid_area": null,
       "grid_auto_columns": null,
       "grid_auto_flow": null,
       "grid_auto_rows": null,
       "grid_column": null,
       "grid_gap": null,
       "grid_row": null,
       "grid_template_areas": null,
       "grid_template_columns": null,
       "grid_template_rows": null,
       "height": null,
       "justify_content": null,
       "justify_items": null,
       "left": null,
       "margin": null,
       "max_height": null,
       "max_width": null,
       "min_height": null,
       "min_width": null,
       "object_fit": null,
       "object_position": null,
       "order": null,
       "overflow": null,
       "overflow_x": null,
       "overflow_y": null,
       "padding": null,
       "right": null,
       "top": null,
       "visibility": null,
       "width": null
      }
     },
     "8518adb7ea5f46b49dae736217b61ae8": {
      "model_module": "@jupyter-widgets/controls",
      "model_module_version": "1.5.0",
      "model_name": "DescriptionStyleModel",
      "state": {
       "_model_module": "@jupyter-widgets/controls",
       "_model_module_version": "1.5.0",
       "_model_name": "DescriptionStyleModel",
       "_view_count": null,
       "_view_module": "@jupyter-widgets/base",
       "_view_module_version": "1.2.0",
       "_view_name": "StyleView",
       "description_width": ""
      }
     },
     "9b96d182d2eb494b93a58e4dfc6f1712": {
      "model_module": "@jupyter-widgets/controls",
      "model_module_version": "1.5.0",
      "model_name": "FloatProgressModel",
      "state": {
       "_dom_classes": [],
       "_model_module": "@jupyter-widgets/controls",
       "_model_module_version": "1.5.0",
       "_model_name": "FloatProgressModel",
       "_view_count": null,
       "_view_module": "@jupyter-widgets/controls",
       "_view_module_version": "1.5.0",
       "_view_name": "ProgressView",
       "bar_style": "",
       "description": "",
       "description_tooltip": null,
       "layout": "IPY_MODEL_a814b20046184a07a3d88597516ab006",
       "max": 200,
       "min": 0,
       "orientation": "horizontal",
       "style": "IPY_MODEL_f0b6a2b5874e402180e1bb8026d6faa4",
       "value": 0
      }
     },
     "a814b20046184a07a3d88597516ab006": {
      "model_module": "@jupyter-widgets/base",
      "model_module_version": "1.2.0",
      "model_name": "LayoutModel",
      "state": {
       "_model_module": "@jupyter-widgets/base",
       "_model_module_version": "1.2.0",
       "_model_name": "LayoutModel",
       "_view_count": null,
       "_view_module": "@jupyter-widgets/base",
       "_view_module_version": "1.2.0",
       "_view_name": "LayoutView",
       "align_content": null,
       "align_items": null,
       "align_self": null,
       "border": null,
       "bottom": null,
       "display": null,
       "flex": null,
       "flex_flow": null,
       "grid_area": null,
       "grid_auto_columns": null,
       "grid_auto_flow": null,
       "grid_auto_rows": null,
       "grid_column": null,
       "grid_gap": null,
       "grid_row": null,
       "grid_template_areas": null,
       "grid_template_columns": null,
       "grid_template_rows": null,
       "height": null,
       "justify_content": null,
       "justify_items": null,
       "left": null,
       "margin": null,
       "max_height": null,
       "max_width": null,
       "min_height": null,
       "min_width": null,
       "object_fit": null,
       "object_position": null,
       "order": null,
       "overflow": null,
       "overflow_x": null,
       "overflow_y": null,
       "padding": null,
       "right": null,
       "top": null,
       "visibility": null,
       "width": null
      }
     },
     "b94a77dee88a4555b9a3127a3a5ac0c8": {
      "model_module": "@jupyter-widgets/base",
      "model_module_version": "1.2.0",
      "model_name": "LayoutModel",
      "state": {
       "_model_module": "@jupyter-widgets/base",
       "_model_module_version": "1.2.0",
       "_model_name": "LayoutModel",
       "_view_count": null,
       "_view_module": "@jupyter-widgets/base",
       "_view_module_version": "1.2.0",
       "_view_name": "LayoutView",
       "align_content": null,
       "align_items": null,
       "align_self": null,
       "border": null,
       "bottom": null,
       "display": null,
       "flex": null,
       "flex_flow": null,
       "grid_area": null,
       "grid_auto_columns": null,
       "grid_auto_flow": null,
       "grid_auto_rows": null,
       "grid_column": null,
       "grid_gap": null,
       "grid_row": null,
       "grid_template_areas": null,
       "grid_template_columns": null,
       "grid_template_rows": null,
       "height": null,
       "justify_content": null,
       "justify_items": null,
       "left": null,
       "margin": null,
       "max_height": null,
       "max_width": null,
       "min_height": null,
       "min_width": null,
       "object_fit": null,
       "object_position": null,
       "order": null,
       "overflow": null,
       "overflow_x": null,
       "overflow_y": null,
       "padding": null,
       "right": null,
       "top": null,
       "visibility": null,
       "width": null
      }
     },
     "bc706caa69cd4bd78ce9f4245b678fc6": {
      "model_module": "@jupyter-widgets/base",
      "model_module_version": "1.2.0",
      "model_name": "LayoutModel",
      "state": {
       "_model_module": "@jupyter-widgets/base",
       "_model_module_version": "1.2.0",
       "_model_name": "LayoutModel",
       "_view_count": null,
       "_view_module": "@jupyter-widgets/base",
       "_view_module_version": "1.2.0",
       "_view_name": "LayoutView",
       "align_content": null,
       "align_items": null,
       "align_self": null,
       "border": null,
       "bottom": null,
       "display": null,
       "flex": null,
       "flex_flow": null,
       "grid_area": null,
       "grid_auto_columns": null,
       "grid_auto_flow": null,
       "grid_auto_rows": null,
       "grid_column": null,
       "grid_gap": null,
       "grid_row": null,
       "grid_template_areas": null,
       "grid_template_columns": null,
       "grid_template_rows": null,
       "height": null,
       "justify_content": null,
       "justify_items": null,
       "left": null,
       "margin": null,
       "max_height": null,
       "max_width": null,
       "min_height": null,
       "min_width": null,
       "object_fit": null,
       "object_position": null,
       "order": null,
       "overflow": null,
       "overflow_x": null,
       "overflow_y": null,
       "padding": null,
       "right": null,
       "top": null,
       "visibility": null,
       "width": null
      }
     },
     "bca87bbff6f140d8b5aef8094afa7af0": {
      "model_module": "@jupyter-widgets/base",
      "model_module_version": "1.2.0",
      "model_name": "LayoutModel",
      "state": {
       "_model_module": "@jupyter-widgets/base",
       "_model_module_version": "1.2.0",
       "_model_name": "LayoutModel",
       "_view_count": null,
       "_view_module": "@jupyter-widgets/base",
       "_view_module_version": "1.2.0",
       "_view_name": "LayoutView",
       "align_content": null,
       "align_items": null,
       "align_self": null,
       "border": null,
       "bottom": null,
       "display": null,
       "flex": null,
       "flex_flow": null,
       "grid_area": null,
       "grid_auto_columns": null,
       "grid_auto_flow": null,
       "grid_auto_rows": null,
       "grid_column": null,
       "grid_gap": null,
       "grid_row": null,
       "grid_template_areas": null,
       "grid_template_columns": null,
       "grid_template_rows": null,
       "height": null,
       "justify_content": null,
       "justify_items": null,
       "left": null,
       "margin": null,
       "max_height": null,
       "max_width": null,
       "min_height": null,
       "min_width": null,
       "object_fit": null,
       "object_position": null,
       "order": null,
       "overflow": null,
       "overflow_x": null,
       "overflow_y": null,
       "padding": null,
       "right": null,
       "top": null,
       "visibility": null,
       "width": null
      }
     },
     "bf52b38212564fdc932c82a00215c3c1": {
      "model_module": "@jupyter-widgets/controls",
      "model_module_version": "1.5.0",
      "model_name": "HBoxModel",
      "state": {
       "_dom_classes": [],
       "_model_module": "@jupyter-widgets/controls",
       "_model_module_version": "1.5.0",
       "_model_name": "HBoxModel",
       "_view_count": null,
       "_view_module": "@jupyter-widgets/controls",
       "_view_module_version": "1.5.0",
       "_view_name": "HBoxView",
       "box_style": "",
       "children": [
        "IPY_MODEL_0740e8d88b1f440fa30b4d33d35e064c",
        "IPY_MODEL_e497d7f554ae4671b478f1c26f944942",
        "IPY_MODEL_5412e3ea2b984ed7ac6e70da3ed11837"
       ],
       "layout": "IPY_MODEL_bca87bbff6f140d8b5aef8094afa7af0"
      }
     },
     "c273b2743c0646b4b6d553e5a83ab1f7": {
      "model_module": "@jupyter-widgets/controls",
      "model_module_version": "1.5.0",
      "model_name": "DescriptionStyleModel",
      "state": {
       "_model_module": "@jupyter-widgets/controls",
       "_model_module_version": "1.5.0",
       "_model_name": "DescriptionStyleModel",
       "_view_count": null,
       "_view_module": "@jupyter-widgets/base",
       "_view_module_version": "1.2.0",
       "_view_name": "StyleView",
       "description_width": ""
      }
     },
     "e497d7f554ae4671b478f1c26f944942": {
      "model_module": "@jupyter-widgets/controls",
      "model_module_version": "1.5.0",
      "model_name": "FloatProgressModel",
      "state": {
       "_dom_classes": [],
       "_model_module": "@jupyter-widgets/controls",
       "_model_module_version": "1.5.0",
       "_model_name": "FloatProgressModel",
       "_view_count": null,
       "_view_module": "@jupyter-widgets/controls",
       "_view_module_version": "1.5.0",
       "_view_name": "ProgressView",
       "bar_style": "success",
       "description": "",
       "description_tooltip": null,
       "layout": "IPY_MODEL_a814b20046184a07a3d88597516ab006",
       "max": 200,
       "min": 0,
       "orientation": "horizontal",
       "style": "IPY_MODEL_f0b6a2b5874e402180e1bb8026d6faa4",
       "value": 200
      }
     },
     "f0b6a2b5874e402180e1bb8026d6faa4": {
      "model_module": "@jupyter-widgets/controls",
      "model_module_version": "1.5.0",
      "model_name": "ProgressStyleModel",
      "state": {
       "_model_module": "@jupyter-widgets/controls",
       "_model_module_version": "1.5.0",
       "_model_name": "ProgressStyleModel",
       "_view_count": null,
       "_view_module": "@jupyter-widgets/base",
       "_view_module_version": "1.2.0",
       "_view_name": "StyleView",
       "bar_color": null,
       "description_width": ""
      }
     }
    },
    "version_major": 2,
    "version_minor": 0
   }
  }
 },
 "nbformat": 4,
 "nbformat_minor": 4
}
