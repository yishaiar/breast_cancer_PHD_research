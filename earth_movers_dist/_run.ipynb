{
 "cells": [
  {
   "cell_type": "code",
   "execution_count": 68,
   "metadata": {},
   "outputs": [],
   "source": [
    "import numpy as np \n",
    "import pandas as pd\n",
    "import matplotlib.pyplot as plt\n",
    "import seaborn as sns\n",
    "import os\n",
    "import warnings\n",
    "warnings.filterwarnings('ignore')\n",
    "import cv2"
   ]
  },
  {
   "cell_type": "code",
   "execution_count": 87,
   "metadata": {},
   "outputs": [
    {
     "name": "stdout",
     "output_type": "stream",
     "text": [
      "[[1.         3.60555128 7.61577311]\n",
      " [2.23606798 1.         5.09901951]\n",
      " [5.83095189 3.16227766 3.60555128]]\n",
      "[1.         1.         3.60555128]\n",
      "(3, 2) (3, 2)\n",
      "Earth Mover's Distance: 5.60555127546399\n"
     ]
    }
   ],
   "source": [
    "import numpy as np\n",
    "from scipy.spatial.distance import cdist\n",
    "from scipy.optimize import linear_sum_assignment\n",
    "\n",
    "def emd_2d(dist1, dist2):\n",
    "    # Calculate pairwise distances between points in the two distributions\n",
    "    distances = cdist(dist1, dist2)\n",
    "\n",
    "    # Solve the linear sum assignment problem to find the optimal point-to-point assignments\n",
    "    row_indices, col_indices = linear_sum_assignment(distances) \n",
    "\n",
    "    # Calculate the Earth Mover's Distance\n",
    "    emd = np.sum(distances[row_indices, col_indices])\n",
    "    \n",
    "    print(distances)\n",
    "    print(distances[row_indices, col_indices])\n",
    "    print(dist1.shape, dist2.shape)\n",
    "    return emd\n",
    "\n",
    "# Example 2D distributions as numpy arrays\n",
    "distribution1 = np.array([[1, 2], [3, 4], [5, 7]])\n",
    "distribution2 = np.array([[2, 2], [4, 4], [8, 5]])\n",
    "\n",
    "emd_distance = emd_2d(distribution1, distribution2)\n",
    "print(\"Earth Mover's Distance:\", emd_distance)\n"
   ]
  },
  {
   "cell_type": "code",
   "execution_count": 63,
   "metadata": {},
   "outputs": [
    {
     "ename": "IndexError",
     "evalue": "index 2 is out of bounds for axis 0 with size 2",
     "output_type": "error",
     "traceback": [
      "\u001b[0;31m---------------------------------------------------------------------------\u001b[0m",
      "\u001b[0;31mIndexError\u001b[0m                                Traceback (most recent call last)",
      "Cell \u001b[0;32mIn[63], line 2\u001b[0m\n\u001b[1;32m      1\u001b[0m \u001b[39mfrom\u001b[39;00m \u001b[39mscipy\u001b[39;00m\u001b[39m.\u001b[39;00m\u001b[39mstats\u001b[39;00m \u001b[39mimport\u001b[39;00m wasserstein_distance\n\u001b[0;32m----> 2\u001b[0m wasserstein_distance([[\u001b[39m0\u001b[39;49m, \u001b[39m1\u001b[39;49m, \u001b[39m2\u001b[39;49m],[\u001b[39m0\u001b[39;49m, \u001b[39m1\u001b[39;49m, \u001b[39m2\u001b[39;49m]], [[\u001b[39m6\u001b[39;49m,\u001b[39m7\u001b[39;49m, \u001b[39m8\u001b[39;49m],[\u001b[39m6\u001b[39;49m,\u001b[39m7\u001b[39;49m, \u001b[39m8\u001b[39;49m]])\n",
      "File \u001b[0;32m~/anaconda3/envs/torch39/lib/python3.9/site-packages/scipy/stats/_stats_py.py:9081\u001b[0m, in \u001b[0;36mwasserstein_distance\u001b[0;34m(u_values, v_values, u_weights, v_weights)\u001b[0m\n\u001b[1;32m   9007\u001b[0m \u001b[39mdef\u001b[39;00m \u001b[39mwasserstein_distance\u001b[39m(u_values, v_values, u_weights\u001b[39m=\u001b[39m\u001b[39mNone\u001b[39;00m, v_weights\u001b[39m=\u001b[39m\u001b[39mNone\u001b[39;00m):\n\u001b[1;32m   9008\u001b[0m \u001b[39m    \u001b[39m\u001b[39mr\u001b[39m\u001b[39m\"\"\"\u001b[39;00m\n\u001b[1;32m   9009\u001b[0m \u001b[39m    Compute the first Wasserstein distance between two 1D distributions.\u001b[39;00m\n\u001b[1;32m   9010\u001b[0m \n\u001b[0;32m   (...)\u001b[0m\n\u001b[1;32m   9079\u001b[0m \n\u001b[1;32m   9080\u001b[0m \u001b[39m    \"\"\"\u001b[39;00m\n\u001b[0;32m-> 9081\u001b[0m     \u001b[39mreturn\u001b[39;00m _cdf_distance(\u001b[39m1\u001b[39;49m, u_values, v_values, u_weights, v_weights)\n",
      "File \u001b[0;32m~/anaconda3/envs/torch39/lib/python3.9/site-packages/scipy/stats/_stats_py.py:9228\u001b[0m, in \u001b[0;36m_cdf_distance\u001b[0;34m(p, u_values, v_values, u_weights, v_weights)\u001b[0m\n\u001b[1;32m   9224\u001b[0m deltas \u001b[39m=\u001b[39m np\u001b[39m.\u001b[39mdiff(all_values)\n\u001b[1;32m   9226\u001b[0m \u001b[39m# Get the respective positions of the values of u and v among the values of\u001b[39;00m\n\u001b[1;32m   9227\u001b[0m \u001b[39m# both distributions.\u001b[39;00m\n\u001b[0;32m-> 9228\u001b[0m u_cdf_indices \u001b[39m=\u001b[39m u_values[u_sorter]\u001b[39m.\u001b[39msearchsorted(all_values[:\u001b[39m-\u001b[39m\u001b[39m1\u001b[39m], \u001b[39m'\u001b[39m\u001b[39mright\u001b[39m\u001b[39m'\u001b[39m)\n\u001b[1;32m   9229\u001b[0m v_cdf_indices \u001b[39m=\u001b[39m v_values[v_sorter]\u001b[39m.\u001b[39msearchsorted(all_values[:\u001b[39m-\u001b[39m\u001b[39m1\u001b[39m], \u001b[39m'\u001b[39m\u001b[39mright\u001b[39m\u001b[39m'\u001b[39m)\n\u001b[1;32m   9231\u001b[0m \u001b[39m# Calculate the CDFs of u and v using their weights, if specified.\u001b[39;00m\n",
      "\u001b[0;31mIndexError\u001b[0m: index 2 is out of bounds for axis 0 with size 2"
     ]
    }
   ],
   "source": [
    "from scipy.stats import wasserstein_distance\n",
    "wasserstein_distance([[0, 1, 2],[0, 1, 2]], [[6,7, 8],[6,7, 8]])"
   ]
  },
  {
   "cell_type": "code",
   "execution_count": 44,
   "metadata": {},
   "outputs": [],
   "source": [
    "#reference array:\n",
    "H, edges = np.histogramdd(ref[0], bins = 80)\n",
    "a = np.zeros((len(H), 2))\n",
    "for i, x in enumerate(H):\n",
    "    a[i][0] = x\n",
    "    a[i][1] = edges[0][i]\n",
    "\n",
    "\n",
    "# #measured array:\n",
    "\n",
    "H, edges = np.histogramdd(data[0], bins = 80)\n",
    "aa = np.zeros((len(H), 2))\n",
    "for ii, xx in enumerate(H):\n",
    "    aa[ii][0] = xx\n",
    "    aa[i][1] = edges[0][ii]\n"
   ]
  },
  {
   "cell_type": "code",
   "execution_count": 73,
   "metadata": {},
   "outputs": [
    {
     "ename": "error",
     "evalue": "OpenCV(4.8.0) /io/opencv/modules/imgproc/src/emd.cpp:187: error: (-210:Unsupported format or combination of formats) The signatures must be 32fC1 in function 'cvCalcEMD2'\n",
     "output_type": "error",
     "traceback": [
      "\u001b[0;31m---------------------------------------------------------------------------\u001b[0m",
      "\u001b[0;31merror\u001b[0m                                     Traceback (most recent call last)",
      "Cell \u001b[0;32mIn[73], line 14\u001b[0m\n\u001b[1;32m     10\u001b[0m a322 \u001b[39m=\u001b[39m aa\n\u001b[1;32m     11\u001b[0m \u001b[39m# a322 = cv.CreateMat(cv_array_meas.rows, cv_array_meas.cols, cv2.cv.CV_32FC1)\u001b[39;00m\n\u001b[1;32m     12\u001b[0m \u001b[39m# cv2.cv.Convert(cv_array_meas, a322)\u001b[39;00m\n\u001b[0;32m---> 14\u001b[0m cv\u001b[39m.\u001b[39;49mEMD(a32, a322,distType\u001b[39m=\u001b[39;49m\u001b[39m1\u001b[39;49m)\n",
      "\u001b[0;31merror\u001b[0m: OpenCV(4.8.0) /io/opencv/modules/imgproc/src/emd.cpp:187: error: (-210:Unsupported format or combination of formats) The signatures must be 32fC1 in function 'cvCalcEMD2'\n"
     ]
    }
   ],
   "source": [
    "# ref array\n",
    "# cv_array_ref = cv2.cv.fromarray(a)\n",
    "cv_array_ref = a\n",
    "a32 = a\n",
    "# a32 = cv.CreateMat(cv_array_ref.rows, cv_array_ref.cols,cv.CV_32FC1)\n",
    "# cv2.cv.Convert(cv_array_ref, a32)\n",
    "#measured array:\n",
    "# cv_array_meas = cv2.cv.fromarray(aa)\n",
    "cv_array_meas = aa\n",
    "a322 = aa\n",
    "# a322 = cv.CreateMat(cv_array_meas.rows, cv_array_meas.cols, cv2.cv.CV_32FC1)\n",
    "# cv2.cv.Convert(cv_array_meas, a322)\n",
    "\n",
    "cv.EMD(a32, a322,distType=1)\n",
    "\n",
    "\n",
    "# vis2 = cv.CreateMat(h, w, cv.CV_32FC3)\n",
    "# vis0 = cv.fromarray(vis)"
   ]
  }
 ],
 "metadata": {
  "kernelspec": {
   "display_name": "torch39",
   "language": "python",
   "name": "python3"
  },
  "language_info": {
   "codemirror_mode": {
    "name": "ipython",
    "version": 3
   },
   "file_extension": ".py",
   "mimetype": "text/x-python",
   "name": "python",
   "nbconvert_exporter": "python",
   "pygments_lexer": "ipython3",
   "version": "3.9.16"
  },
  "orig_nbformat": 4
 },
 "nbformat": 4,
 "nbformat_minor": 2
}
