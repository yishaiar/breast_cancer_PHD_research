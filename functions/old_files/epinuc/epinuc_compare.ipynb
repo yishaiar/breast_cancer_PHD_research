{
 "cells": [
  {
   "cell_type": "markdown",
   "metadata": {},
   "source": [
    "# Load and initialize"
   ]
  },
  {
   "cell_type": "markdown",
   "metadata": {},
   "source": [
    "settings"
   ]
  },
  {
   "cell_type": "code",
   "execution_count": 1,
   "metadata": {
    "ExecuteTime": {
     "end_time": "2023-01-16T21:12:28.925237Z",
     "start_time": "2023-01-16T21:12:28.891068Z"
    }
   },
   "outputs": [],
   "source": [
    "# sample number\n",
    "# j=str(1245)\n",
    "# n_samples = 10000\n",
    "    # create visualization\n",
    "# visualize = True\n",
    "#     # show figures\n",
    "show = False\n",
    "\n",
    "# load_from_file = False\n",
    "import os\n",
    "parent_dir = os.path.abspath(os.path.join(os.getcwd(), os.pardir))\n",
    "dir_data = parent_dir+'/Data/'\n",
    "# dir_data = parent_dir+'/Data_sampNormScale/'\n",
    "# dir_data = parent_dir+'/Data_sampScale/'"
   ]
  },
  {
   "cell_type": "markdown",
   "metadata": {},
   "source": [
    "envirement"
   ]
  },
  {
   "cell_type": "code",
   "execution_count": 2,
   "metadata": {
    "ExecuteTime": {
     "end_time": "2023-01-16T21:12:28.990551Z",
     "start_time": "2023-01-16T21:12:28.927491Z"
    }
   },
   "outputs": [],
   "source": [
    "import os\n",
    "\n",
    "import time \n",
    "start = time.process_time()\n",
    "import pathlib\n",
    "import sys\n",
    "from IPython.display import Image, display\n",
    "from tqdm import tqdm_notebook,tqdm\n",
    "# import time\n",
    "\n",
    "import numpy as np\n",
    "# import matplotlib\n",
    "import matplotlib.pyplot as plt\n",
    "from matplotlib.pyplot import rc_context\n",
    "\n",
    "plt.rcParams[\"figure.figsize\"] = (5.0, 4.0)  # Set default size of plots.\n",
    "plt.rcParams[\"image.interpolation\"] = \"nearest\"\n",
    "plt.rcParams[\"image.cmap\"] = \"gray\"\n",
    "%matplotlib inline\n",
    "\n",
    "import pandas as pd\n",
    "# pd.set_option('display.max_rows', 500)\n",
    "# pd.set_option('display.max_columns', 500)\n",
    "# pd.set_option('display.width', 180) #according to screen width\n",
    "# from pandas.core.base import PandasObject\n",
    "# PandasObject.view = view #allows view meth pd.view\n",
    "\n",
    "# from scipy import signal, stats\n",
    "# import seaborn as sns\n",
    "\n",
    "# from sklearn import metrics\n",
    "\n",
    "# from sklearn.preprocessing import StandardScaler, KBinsDiscretizer\n",
    "# from sklearn.metrics import silhouette_samples,silhouette_score\n",
    "# from sklearn.neighbors import kneighbors_graph\n",
    "\n",
    "# from lmfit import minimize, Parameters\n",
    "\n",
    "\n",
    "sys.path.append(parent_dir+'/functions/')\n",
    "sys.path.append(parent_dir+'/epinuc/')\n",
    "\n",
    "from usefull_functions import *\n",
    "from functions import *\n",
    "from plot_functions import *\n",
    "from clustering_functions import *\n",
    "from epinuc import *\n",
    "\n",
    "\n",
    "\n",
    "%load_ext autoreload\n",
    "%autoreload 2\n",
    "%reload_ext autoreload\n",
    "%autoreload 2\n",
    "\n",
    "\n",
    "dir_plots = parent_dir+'/plots_epinuc/'\n",
    "saveSVG  =False\n",
    "settings =        (dir_plots,show,saveSVG)\n",
    "folderExists(dir_plots)\n",
    "\n",
    "TF_ENABLE_ONEDNN_OPTS=0\n",
    "from plot_functions import *\n",
    "from usefull_functions import *\n",
    "from preprocess_functions import *\n",
    "from functions import *"
   ]
  },
  {
   "attachments": {},
   "cell_type": "markdown",
   "metadata": {},
   "source": [
    "# load epinuc"
   ]
  },
  {
   "cell_type": "code",
   "execution_count": 3,
   "metadata": {},
   "outputs": [],
   "source": [
    "    \n",
    "kEpinuc =  loadEpinucData(\"EPINUC_BCK.csv\",sampleMax=5)\n",
    "# tuple of raw data; 1- Xi,2- Xi/Xj,3- Xi+Xj\n",
    "EpinucData =  CreateRawMats(kEpinuc)"
   ]
  },
  {
   "attachments": {},
   "cell_type": "markdown",
   "metadata": {},
   "source": [
    "# create set  with all features normalized"
   ]
  },
  {
   "cell_type": "code",
   "execution_count": 4,
   "metadata": {
    "ExecuteTime": {
     "end_time": "2023-01-16T21:12:29.090540Z",
     "start_time": "2023-01-16T21:12:28.992321Z"
    }
   },
   "outputs": [
    {
     "name": "stdout",
     "output_type": "stream",
     "text": [
      "k1_names_dict ; loaded from file\n",
      "k1_prenorm_dict ; loaded from file\n",
      "1771\n",
      "k2_names_dict ; loaded from file\n",
      "k2_prenorm_dict ; loaded from file\n",
      "39256\n",
      "k4_names_dict ; loaded from file\n",
      "k4_prenorm_dict ; loaded from file\n",
      "366648\n",
      "k5_names_dict ; loaded from file\n",
      "k5_prenorm_dict ; loaded from file\n",
      "63390\n"
     ]
    }
   ],
   "source": [
    "\n",
    "# prenorm; load data+create the new epinuc features\n",
    "k = {};names = {}\n",
    "for j in [\"1\",\"2\",\"4\",\"5\"]:\n",
    "    # add epinuc fetures into toNorm\n",
    "    names[j] = pickle_load('k'+j+'_names_dict',dir_data )\n",
    "    names[j]['ToNorm']+='H3K9ac/H3K4me1', 'H3K4me3/H3K27me3', 'H3K36me3/H3K9me3', 'H3K4me1+H3K9ac', 'H3K27me3+H3K4me3', 'H3K9me3+H3K36me3'\n",
    "    names[j]['NamesAll']+='H3K9ac/H3K4me1', 'H3K4me3/H3K27me3', 'H3K36me3/H3K9me3', 'H3K4me1+H3K9ac', 'H3K27me3+H3K4me3', 'H3K9me3+H3K36me3'\n",
    "    # load data prenorm_dict\n",
    "    K = pickle_load('k'+j+'_prenorm_dict',dir_data )['k']\n",
    "    #      # creat epinuc features\n",
    "    K,neededFeatures = epinucFeaturesInCytof(K)\n",
    "    # print(K[neededFeatures].describe())\n",
    "    k[j] = K\n",
    "    print(len(k[j]))\n",
    "# load names\n",
    "\n",
    "# dict = pickle_load('k'+j+'_names_dict',dir_data )\n",
    "# NamesAll = dict['NamesAll']\n",
    "# CellIden = dict['CellIden']\n",
    "# EpiCols = dict['EpiCols']\n",
    "# Core = dict['Core']"
   ]
  },
  {
   "cell_type": "code",
   "execution_count": 5,
   "metadata": {},
   "outputs": [
    {
     "name": "stdout",
     "output_type": "stream",
     "text": [
      "\n",
      "sample 1 zero value percentage\n",
      "H3K27me3: 24.957651044607566\n",
      "H3K9me3: 6.549971767363072\n",
      "H3K4me1: 0.7905138339920948\n",
      "\n",
      "sample 2 zero value percentage\n",
      "H3K27me3: 32.49439576115753\n",
      "H3K9me3: 9.259730996535561\n",
      "H3K4me1: 11.040350519665784\n",
      "\n",
      "sample 4 zero value percentage\n",
      "H3K27me3: 14.080807750212736\n",
      "H3K9me3: 3.9359276472256766\n",
      "H3K4me1: 1.797636970609413\n",
      "\n",
      "sample 5 zero value percentage\n",
      "H3K27me3: 8.108534469159173\n",
      "H3K9me3: 1.2935794289320082\n",
      "H3K4me1: 0.08518693800283957\n"
     ]
    }
   ],
   "source": [
    "for i,K in k.items():\n",
    "    print('')\n",
    "    print(f'sample {i} zero value percentage')\n",
    "    for f in ['H3K27me3','H3K9me3','H3K4me1']:\n",
    "        print(f'{f}: {len(K[K[f]==0])/len(K)*100}')"
   ]
  },
  {
   "cell_type": "code",
   "execution_count": 6,
   "metadata": {},
   "outputs": [],
   "source": [
    "def normalize_data(k,sample,names):\n",
    "    for j, K in k.items():\n",
    "        \n",
    "        \n",
    "        # FIRST STEP - normalize_gardient by core \n",
    "        # SECOND STEP - normalize ToNorm fetures by the core features ['H3.3','H4']\n",
    "        \n",
    "        if j=='1' or j=='2':\n",
    "          K=NormalizeNew2(K,names[j]['ToNorm'])\n",
    "          K = Mean_Core_normalization(K, names[j]['ToNorm'],coreFetures=['H3.3','H4'])\n",
    "          \n",
    "        elif j=='4' or  j=='5':\n",
    "          K=NormalizeNew(K,names[j]['ToNorm'])\n",
    "          K = Mean_Core_normalization(K, names[j]['ToNorm'],coreFetures=['H4','H3', 'H3.3'])\n",
    "        else: \n",
    "          print ('error')\n",
    "          break\n",
    "        \n",
    "        k[j] = K \n",
    "        # print (sample + j,f'; normalized with method {j}')\n",
    "    return k\n",
    "\n",
    "k = normalize_data(k,'k',names)\n",
    "old_k= k.copy()\n",
    "k={}"
   ]
  },
  {
   "cell_type": "code",
   "execution_count": 7,
   "metadata": {},
   "outputs": [
    {
     "name": "stdout",
     "output_type": "stream",
     "text": [
      " size =  1771\n",
      " size =  39256\n",
      "new size =  1771\n",
      " size =  366648\n",
      "new size =  1771\n",
      " size =  63390\n",
      "new size =  1771\n"
     ]
    },
    {
     "name": "stderr",
     "output_type": "stream",
     "text": [
      "/tmp/ipykernel_7049/2610829581.py:40: FutureWarning: The frame.append method is deprecated and will be removed from pandas in a future version. Use pandas.concat instead.\n",
      "  k = k.append(K, ignore_index=True)\n",
      "/tmp/ipykernel_7049/2610829581.py:40: FutureWarning: The frame.append method is deprecated and will be removed from pandas in a future version. Use pandas.concat instead.\n",
      "  k = k.append(K, ignore_index=True)\n",
      "/tmp/ipykernel_7049/2610829581.py:40: FutureWarning: The frame.append method is deprecated and will be removed from pandas in a future version. Use pandas.concat instead.\n",
      "  k = k.append(K, ignore_index=True)\n",
      "/tmp/ipykernel_7049/2610829581.py:40: FutureWarning: The frame.append method is deprecated and will be removed from pandas in a future version. Use pandas.concat instead.\n",
      "  k = k.append(K, ignore_index=True)\n"
     ]
    }
   ],
   "source": [
    "uncommonFeatures = ['NCad','ECad','panKeratin',  'p53', 'ZEB1' ]\n",
    "\n",
    "\n",
    "# remove from the  mutual list uncommonFeatures\n",
    "N = names['1'].copy()\n",
    "\n",
    "for j, sublist in N.items():\n",
    "    for f in uncommonFeatures:\n",
    "        try:\n",
    "            sublist.remove(f)\n",
    "        except:\n",
    "            pass\n",
    "    N[j] = sublist\n",
    "names['1245'] = N\n",
    "\n",
    "# names['figures'].append(2)\n",
    "\n",
    "\n",
    " # remove from data\n",
    "appendDict ={}\n",
    "for i, KK in old_k.items():\n",
    "    K=KK.copy()\n",
    "    for f in uncommonFeatures:\n",
    "        try:\n",
    "            K = K.drop(columns=[f])\n",
    "        except:\n",
    "            pass\n",
    "    # print (K.columns)\n",
    "    appendDict[i ] = K\n",
    "    \n",
    "# del k; k=dict \n",
    "\n",
    "# append data\n",
    "NamesAll = names['1245']['NamesAll']\n",
    "k= pd.DataFrame(columns =NamesAll+['by_sample'])\n",
    "for i, K in appendDict.items():\n",
    "\n",
    "    K= subsample_k(K[NamesAll].copy(),n=1771)\n",
    "    K['by_sample'] = int(i)\n",
    "    k = k.append(K, ignore_index=True)\n",
    "by_sampleInd = k['by_sample'].copy()\n",
    "kFeaturesNorm = k.copy()\n",
    "k={};K={}\n",
    "\n",
    "# k['1245']['by_sample'] = by_sampleInd\n",
    "# k_append['by_sample'] = by_sampleInd\n",
    "# print(len(by_sampleInd))"
   ]
  },
  {
   "attachments": {},
   "cell_type": "markdown",
   "metadata": {},
   "source": [
    "epinuc calculations"
   ]
  },
  {
   "cell_type": "code",
   "execution_count": 8,
   "metadata": {},
   "outputs": [
    {
     "name": "stderr",
     "output_type": "stream",
     "text": [
      "/home/yishai/breast_cancer/epinuc/epinuc.py:56: FutureWarning: The frame.append method is deprecated and will be removed from pandas in a future version. Use pandas.concat instead.\n",
      "  rawMat = kEpinuc.append(k)\n",
      "/home/yishai/breast_cancer/epinuc/epinuc.py:56: FutureWarning: The frame.append method is deprecated and will be removed from pandas in a future version. Use pandas.concat instead.\n",
      "  rawMat = kEpinuc.append(k)\n",
      "/home/yishai/breast_cancer/epinuc/epinuc.py:56: FutureWarning: The frame.append method is deprecated and will be removed from pandas in a future version. Use pandas.concat instead.\n",
      "  rawMat = kEpinuc.append(k)\n",
      "/home/yishai/breast_cancer/epinuc/epinuc.py:56: FutureWarning: The frame.append method is deprecated and will be removed from pandas in a future version. Use pandas.concat instead.\n",
      "  rawMat = kEpinuc.append(k)\n"
     ]
    },
    {
     "data": {
      "image/png": "[encoded data removed]",
      "text/plain": [
       "<Figure size 600x1000 with 4 Axes>"
      ]
     },
     "metadata": {},
     "output_type": "display_data"
    }
   ],
   "source": [
    "# average over epinuc features after normalizing them\n",
    "# divide into the 3 mats\n",
    "kBeforeAverage =  CreateRawMats(kFeaturesNorm.groupby(by='by_sample').mean()[neededFeatures])\n",
    "\n",
    "# caculate anothr dataset which is the sum of the average rather than the average of the sum\n",
    "kAfterAverage,_ = epinucFeaturesInCytof(kBeforeAverage[0].copy())\n",
    "kAfterAverage =  CreateRawMats(kAfterAverage)\n",
    "\n",
    "# for i,[k,kEpinuc] in enumerate(zip(kBeforeAverage,EpinucData)):\n",
    "#     try:\n",
    "#         createCorrMat(k,kEpinuc.copy(),settings,title='computation before averaged',figname = f'{i}_FeturesNormed_compBeforeAvg',method ='spearman')\n",
    "#     except:\n",
    "#         pass\n",
    "# for i,[k,kEpinuc] in enumerate(zip(kAfterAverage,EpinucData)):\n",
    "#     try:\n",
    "#         createCorrMat(k,kEpinuc.copy(),settings,title='computation after averaged',figname = f'{i}_FeturesNormed_compAfterAvg',method ='spearman')\n",
    "#     except:\n",
    "#         pass\n",
    "\n",
    "\n",
    "for j,[cytofData,tit,fig] in enumerate(zip([kBeforeAverage,kAfterAverage],\n",
    "                             ['computation before averaged','computation after averaged'],\n",
    "                             ['_FeturesNormed_compBeforeAvg','_FeturesNormed_compAfterAvg'])):\n",
    "    for i,[k,kEpinuc] in enumerate(zip(cytofData,EpinucData)):\n",
    "        if i>0:\n",
    "            try:\n",
    "                createCorrMat(k,kEpinuc.copy(),settings,title=tit,figname = str(i)+fig)\n",
    "            except:\n",
    "                pass"
   ]
  },
  {
   "attachments": {},
   "cell_type": "markdown",
   "metadata": {},
   "source": [
    "# load data after normalization (features aren't normalized)\n"
   ]
  },
  {
   "cell_type": "code",
   "execution_count": 9,
   "metadata": {},
   "outputs": [
    {
     "name": "stdout",
     "output_type": "stream",
     "text": [
      "k1245_prescaled_dict ; loaded from file\n",
      "7084\n"
     ]
    }
   ],
   "source": [
    "# kFeaturesWithoutNorm =\n",
    "kFeaturesWithoutNorm,neededFeatures = epinucFeaturesInCytof(pickle_load('k1245_prescaled_dict',dir_data )['k'])\n",
    "print (len (kFeaturesWithoutNorm))"
   ]
  },
  {
   "cell_type": "code",
   "execution_count": 11,
   "metadata": {},
   "outputs": [
    {
     "name": "stderr",
     "output_type": "stream",
     "text": [
      "/home/yishai/breast_cancer/epinuc/epinuc.py:56: FutureWarning: The frame.append method is deprecated and will be removed from pandas in a future version. Use pandas.concat instead.\n",
      "  rawMat = kEpinuc.append(k)\n"
     ]
    }
   ],
   "source": [
    "# average over epinuc features after normalizing them\n",
    "# divide into the 3 mats\n",
    "kBeforeAverage =  CreateRawMats(kFeaturesWithoutNorm.groupby(by='by_sample').mean()[neededFeatures])\n",
    "\n",
    "# caculate anothr dataset which is the sum of the average rather than the average of the sum\n",
    "kAfterAverage,_ = epinucFeaturesInCytof(kBeforeAverage[0].copy())\n",
    "kAfterAverage =  CreateRawMats(kAfterAverage)\n",
    "for j,[cytofData,tit,fig] in enumerate(zip([kBeforeAverage,kAfterAverage],\n",
    "                             ['computation before averaged','computation after averaged'],\n",
    "                             ['_FeturesWithoutNorm_compBeforeAvg','_FeturesWithoutNorm_compAfterAvg'])):\n",
    "    for i,[k,kEpinuc] in enumerate(zip(cytofData,EpinucData)):\n",
    "        if i !=1 or k[k.columns[0]].isna().sum()==0:\n",
    "\n",
    "            try:\n",
    "                createCorrMat(k,kEpinuc.copy(),settings,title=tit,figname = str(i)+fig)\n",
    "            except:\n",
    "                pass\n"
   ]
  },
  {
   "cell_type": "markdown",
   "metadata": {},
   "source": [
    "Visualize data\n",
    "\n",
    "no point to print data.describe() as it is whitened (std~1, mean~0) "
   ]
  },
  {
   "cell_type": "code",
   "execution_count": 11,
   "metadata": {
    "ExecuteTime": {
     "end_time": "2023-01-16T21:12:29.142002Z",
     "start_time": "2023-01-16T21:12:29.092846Z"
    }
   },
   "outputs": [],
   "source": [
    "# if show:\n",
    "\n",
    "#     for name in [NamesAll,Core,CellIden,EpiCols,CellIden_EpiCols]:\n",
    "#         print(len(name))\n",
    "#         print(name)\n"
   ]
  },
  {
   "cell_type": "markdown",
   "metadata": {
    "tags": []
   },
   "source": [
    "# Cell Identity"
   ]
  },
  {
   "cell_type": "code",
   "execution_count": null,
   "metadata": {
    "ExecuteTime": {
     "end_time": "2023-01-16T21:12:29.193413Z",
     "start_time": "2023-01-16T21:12:29.143651Z"
    }
   },
   "outputs": [],
   "source": [
    "k = k_orig.copy()\n",
    "CAll=pd.concat([k]).copy()\n",
    "s ={}\n",
    "s['min_dist'] = {}\n",
    "s['n_neighbors'] = {}\n",
    "s['min_samples'] = {}\n",
    "s['eps'] = {}\n",
    "\n",
    "\n",
    "name = 'Tumor'+j+'_CellIden_'\n"
   ]
  },
  {
   "cell_type": "markdown",
   "metadata": {},
   "source": [
    "### UMAP\n",
    "\n",
    "plot for each feature according to its intensity"
   ]
  },
  {
   "cell_type": "code",
   "execution_count": null,
   "metadata": {
    "ExecuteTime": {
     "end_time": "2023-01-16T21:12:51.555507Z",
     "start_time": "2023-01-16T21:12:29.195357Z"
    }
   },
   "outputs": [],
   "source": [
    "s['min_dist']['245']=0.001\n",
    "s['n_neighbors']['245']=10\n",
    "s['min_dist']['1245']=0.01\n",
    "s['n_neighbors']['1245']=50\n",
    "\n",
    "min_dist = s['min_dist'][j]\n",
    "n_neighbors = s['n_neighbors'][j]\n",
    "\n",
    "\n",
    "\n",
    "umapData = calculate_umap(CAll[CellIden],n_neighbors, min_dist)\n",
    "if visualize:\n",
    "  \n",
    "\n",
    "  drawUMAP(umapData, ['H4'],CAll,settings,\n",
    "              title = f'min_dist = {min_dist}, n_neighbors = {n_neighbors}',\n",
    "              Figname = name+'1_UMAP_(core)')\n",
    "\n",
    "# umap_params(k,CellIden,dir_plots,\n",
    "#             valA = min_dist, valB = n_neighbors\n",
    "#             )\n",
    "\n",
    "# if j=='4':\n",
    "#     ind  = np.where(umapData[:,0]<5)\n",
    "#     k_orig.drop(k_orig.index[ind],inplace=True)\n",
    "#     k = k_orig.copy();CAll=pd.concat([k]).copy()\n",
    "    \n",
    "    # umapData = calculate_umap(CAll[CellIden],n_neighbors, min_dist)\n",
    "    # drawUMAP(umapData, ['H4'],CAll,settings,\n",
    "    #             title = f'min_dist = {min_dist}, n_neighbors = {n_neighbors}',\n",
    "    #             Figname = name+'1_UMAP_(core)')\n",
    "    \n"
   ]
  },
  {
   "cell_type": "markdown",
   "metadata": {},
   "source": [
    "### Dbscan and clusters"
   ]
  },
  {
   "cell_type": "code",
   "execution_count": null,
   "metadata": {
    "ExecuteTime": {
     "end_time": "2023-01-16T21:12:56.828220Z",
     "start_time": "2023-01-16T21:12:51.557555Z"
    }
   },
   "outputs": [],
   "source": [
    "s['min_samples']['245']=50\n",
    "s['eps']['245']=0.19\n",
    "s['min_samples']['1245']=140\n",
    "s['eps']['1245']=0.18\n",
    "\n",
    "eps=s['eps'][j];min_samples=s['min_samples'][j]\n",
    "dbscanData,labels,core_samples_mask = calculate_dbscan(umapData,eps,min_samples)\n",
    "if visualize:\n",
    "  drawDbscan(dbscanData,labels,core_samples_mask,settings,\n",
    "              title=f'min_samples = {min_samples}, eps = {eps}',\n",
    "              figname = name+'1_dbscan')\n",
    "              \n",
    "  \n",
    "\n",
    "\n",
    "# dbscan_params(X_2d,\n",
    "#                   valA = eps, valB = min_samples,\n",
    "#                   itersA = 3, itersB = 3,\n",
    "#                   )\n"
   ]
  },
  {
   "cell_type": "code",
   "execution_count": null,
   "metadata": {
    "ExecuteTime": {
     "end_time": "2023-01-16T21:13:12.555103Z",
     "start_time": "2023-01-16T21:12:56.830448Z"
    }
   },
   "outputs": [],
   "source": [
    "\n",
    "plotClusters(k,umapData,labels,NamesAll,settings,\n",
    "             title = 'Clusters Tumor '+j+' - Cell Iden Based',\n",
    "             figname = name+'1_Clusters')\n",
    "             \n",
    "\n"
   ]
  },
  {
   "attachments": {},
   "cell_type": "markdown",
   "metadata": {},
   "source": [
    "### HeatMap by clusters"
   ]
  },
  {
   "cell_type": "code",
   "execution_count": null,
   "metadata": {
    "ExecuteTime": {
     "end_time": "2023-01-16T21:13:14.816792Z",
     "start_time": "2023-01-16T21:13:12.557211Z"
    }
   },
   "outputs": [],
   "source": [
    "### HeatMap by clusters\n",
    "            \n",
    "if visualize:\n",
    "    for group_name,group in zip(groups[0],groups[1]):\n",
    "        group_name,group = groups[0][-1],groups[1][-1]\n",
    "        HeatMap(k[k.Clust!=-1],group,settings,\n",
    "                title = 'T'+j+' Cell Iden Based: '+group_name,\n",
    "                figname = name+'1_HeatMap_'+group_name)\n"
   ]
  },
  {
   "attachments": {},
   "cell_type": "markdown",
   "metadata": {},
   "source": [
    "### HeatMap by sample"
   ]
  },
  {
   "cell_type": "code",
   "execution_count": null,
   "metadata": {},
   "outputs": [],
   "source": [
    "if visualize:\n",
    "    for group_name,group in zip(groups[0],groups[1]):\n",
    "        group_name,group = groups[0][-1],groups[1][-1]\n",
    "        HeatMap(k[k.Clust!=-1],group,settings,clustFeature='by_sample',\n",
    "                title = 'T'+j+' Cell Iden Based: '+group_name+'by_sample',\n",
    "                figname = name+'1_HeatMap_'+group_name+'by_sample')\n"
   ]
  },
  {
   "cell_type": "markdown",
   "metadata": {},
   "source": [
    "### MeanDist"
   ]
  },
  {
   "cell_type": "code",
   "execution_count": null,
   "metadata": {
    "ExecuteTime": {
     "end_time": "2023-01-16T21:13:15.949573Z",
     "start_time": "2023-01-16T21:13:14.820259Z"
    }
   },
   "outputs": [],
   "source": [
    "\n",
    "if visualize:\n",
    "    for group_name,group in zip(groups[0],groups[1]):\n",
    "        MeanDist(k [k.Clust==0],k [k.Clust==1],group,settings,\n",
    "                title='MeanDist CellIdentity based: '+group_name,\n",
    "                figname = name+'1_MeanDist_'+group_name)\n"
   ]
  },
  {
   "attachments": {},
   "cell_type": "markdown",
   "metadata": {},
   "source": [
    "## sample percentage"
   ]
  },
  {
   "cell_type": "code",
   "execution_count": null,
   "metadata": {
    "ExecuteTime": {
     "end_time": "2023-01-16T21:13:44.808076Z",
     "start_time": "2023-01-16T21:13:15.951592Z"
    }
   },
   "outputs": [],
   "source": [
    "arr =[]\n",
    "# full map\n",
    "ind = k.Clust != -1\n",
    "_ = drawUMAP_intVals(umapData,k,ind, 'by_sample',settings,\n",
    "        title ='Tumor '+j+' Celliden UMAP', \n",
    "        Figname = name+'4_UMAP_(samples)')\n",
    "# map of each cluster\n",
    "vals = np.unique(k.Clust); vals = vals[vals!=-1]\n",
    "for val in vals:\n",
    "    ind = k.Clust == val\n",
    "    percentage_arr = drawUMAP_intVals(umapData,k,ind ,'by_sample',settings,\n",
    "        title ='Tumor '+j+' Celliden UMAP clust' + str(val), \n",
    "        Figname = name+'4_UMAP_clust'+str(val)+'_(samples)')\n",
    "    arr.append([val,percentage_arr])\n",
    "saveCsv(dir_plots,name,arr)"
   ]
  },
  {
   "cell_type": "markdown",
   "metadata": {},
   "source": [
    "## features on UMAP"
   ]
  },
  {
   "cell_type": "code",
   "execution_count": null,
   "metadata": {},
   "outputs": [],
   "source": [
    "if visualize:\n",
    "    drawUMAP(umapData, NamesAll,CAll,settings,\n",
    "            title ='Tumor'+j+ ' Cell Iden UMAP', \n",
    "            Figname = name+'2_UMAP_')"
   ]
  },
  {
   "cell_type": "markdown",
   "metadata": {},
   "source": [
    "## save data to file"
   ]
  },
  {
   "cell_type": "code",
   "execution_count": null,
   "metadata": {
    "ExecuteTime": {
     "end_time": "2023-01-16T21:13:44.860070Z",
     "start_time": "2023-01-16T21:13:44.809974Z"
    }
   },
   "outputs": [],
   "source": [
    "dbscanData, umapData,k, CAll,labels,s = None,None,None,None,None,None"
   ]
  },
  {
   "cell_type": "markdown",
   "metadata": {
    "tags": []
   },
   "source": [
    "# Epigenetics Based"
   ]
  },
  {
   "cell_type": "code",
   "execution_count": null,
   "metadata": {
    "ExecuteTime": {
     "end_time": "2023-01-16T21:13:44.916374Z",
     "start_time": "2023-01-16T21:13:44.862019Z"
    }
   },
   "outputs": [],
   "source": [
    "\n",
    "\n",
    "k = k_orig.copy()\n",
    "CAll=pd.concat([k]).copy()\n",
    "\n",
    "s ={}\n",
    "s['min_dist'] = {}\n",
    "s['n_neighbors'] = {}\n",
    "s['min_samples'] = {}\n",
    "s['eps'] = {}\n",
    "\n",
    "name = 'Tumor'+j+'_EpiCols_'\n",
    "\n"
   ]
  },
  {
   "cell_type": "markdown",
   "metadata": {},
   "source": [
    "### UMAP\n",
    "\n",
    "plot for each feature according to its intensity"
   ]
  },
  {
   "cell_type": "code",
   "execution_count": null,
   "metadata": {
    "ExecuteTime": {
     "end_time": "2023-01-16T21:14:02.232768Z",
     "start_time": "2023-01-16T21:13:44.918034Z"
    }
   },
   "outputs": [],
   "source": [
    "s['min_dist']['245']=0.001\n",
    "s['n_neighbors']['245']=10\n",
    "s['min_dist']['1245']=0.001\n",
    "s['n_neighbors']['1245']=10\n",
    "\n",
    "min_dist = s['min_dist'][j]\n",
    "n_neighbors = s['n_neighbors'][j]\n",
    "\n",
    "\n",
    "umapData = calculate_umap(CAll[EpiCols],n_neighbors, min_dist)\n",
    "if visualize:\n",
    "    drawUMAP(umapData, ['H4'],CAll,settings,\n",
    "              title = f'min_dist = {min_dist}, n_neighbors = {n_neighbors}',\n",
    "              Figname = name+'1_UMAP_(core)')\n",
    "    \n",
    "\n",
    "\n",
    "# umap_params(k,MRK,dir_plots,\n",
    "#             valA = min_dist, valB = n_neighbors,\n",
    "#             )\n",
    "\n",
    "# umap_params(k,MRK,dir_plots,\n",
    "#             valA = 0.2, valB = 300,\n",
    "#             )\n",
    "# umap_params(k,MRK,dir_plots,\n",
    "#             valA = 0.1, valB = 300,\n",
    "#             )\n",
    "\n",
    "# umap_params(k,MRK,dir_plots,\n",
    "#             valA = 0.001, valB = 300,\n",
    "#             )"
   ]
  },
  {
   "cell_type": "markdown",
   "metadata": {},
   "source": [
    "### Dbscan and clusters"
   ]
  },
  {
   "cell_type": "code",
   "execution_count": null,
   "metadata": {
    "ExecuteTime": {
     "end_time": "2023-01-16T21:14:07.559760Z",
     "start_time": "2023-01-16T21:14:02.234525Z"
    }
   },
   "outputs": [],
   "source": [
    "s['min_samples']['245']=50\n",
    "s['eps']['245']=0.19\n",
    "s['min_samples']['1245']=100\n",
    "s['eps']['1245']=0.2\n",
    "min_samples = s['min_samples'][j]\n",
    "eps = s['eps'][j]\n",
    "\n",
    "\n",
    "dbscanData,labels,core_samples_mask = calculate_dbscan(umapData,eps=eps,min_samples=min_samples)\n",
    "if visualize:\n",
    "  drawDbscan(dbscanData,labels,core_samples_mask,settings,\n",
    "              title=f'min_samples = {min_samples}, eps = {eps}',\n",
    "              figname = name+'1_dbscan')\n",
    "              \n",
    "        \n",
    "        \n",
    "\n",
    "# dbscan_params(X_2d,dir_plots,\n",
    "#                   valA = eps, valB = min_samples,\n",
    "#                   itersA = 3, itersB = 3,\n",
    "#                   )\n",
    "\n",
    "\n",
    "  \n",
    " "
   ]
  },
  {
   "cell_type": "code",
   "execution_count": null,
   "metadata": {
    "ExecuteTime": {
     "end_time": "2023-01-16T21:14:22.458261Z",
     "start_time": "2023-01-16T21:14:07.561373Z"
    }
   },
   "outputs": [],
   "source": [
    "plotClusters(k,umapData,labels,NamesAll,settings,\n",
    "             title = 'Clusters Tumor '+j+' - Epigen Based',\n",
    "             figname = name+'1_Clusters')\n"
   ]
  },
  {
   "attachments": {},
   "cell_type": "markdown",
   "metadata": {},
   "source": [
    "## HeatMap by cluster"
   ]
  },
  {
   "cell_type": "code",
   "execution_count": null,
   "metadata": {
    "ExecuteTime": {
     "end_time": "2023-01-16T21:14:24.984449Z",
     "start_time": "2023-01-16T21:14:22.459958Z"
    }
   },
   "outputs": [],
   "source": [
    "\n",
    "if visualize:\n",
    "    for group_name,group in zip(groups[0],groups[1]):\n",
    "    \n",
    "        HeatMap(k[k.Clust!=-1],group,settings,\n",
    "                title = 'T'+j+' Epigen Based: '+group_name,\n",
    "                figname = name+'1_HeatMap_'+group_name)\n"
   ]
  },
  {
   "attachments": {},
   "cell_type": "markdown",
   "metadata": {},
   "source": [
    "### HeatMap by sample"
   ]
  },
  {
   "cell_type": "code",
   "execution_count": null,
   "metadata": {},
   "outputs": [],
   "source": [
    "\n",
    "if visualize:\n",
    "\n",
    "    group_name,group = groups[0][-1],groups[1][-1]\n",
    "    HeatMap(k[k.Clust!=-1],group,settings,clustFeature='by_sample',\n",
    "            title = 'T'+j+' Cell Iden Based: '+group_name+'by_sample',\n",
    "            figname = name+'1_HeatMap_'+group_name+'by_sample')\n"
   ]
  },
  {
   "attachments": {},
   "cell_type": "markdown",
   "metadata": {},
   "source": [
    "epinuc"
   ]
  },
  {
   "cell_type": "code",
   "execution_count": null,
   "metadata": {},
   "outputs": [],
   "source": [
    "Kepinuc = loadEpinuc(\"EPINUC_BCK.csv\",sampleMax=5)\n",
    "\n",
    "# group_name,group = groups[0][-1],groups[1][-1]\n",
    "# HeatMap(k,group,settings,clustFeature='by_sample',\n",
    "#         title = 'T'+j+' Cell Iden Based: '+group_name+'by_sample',\n",
    "#         figname = name+'1_HeatMap_'+group_name+'by_sample')\n",
    "Mat=   k.groupby(by='by_sample').mean()[Kepinuc.columns]\n",
    "Mat.index = Mat.index.astype(int).astype(str)+'_cytof'\n",
    "Kepinuc = Kepinuc.append(Mat)\n",
    "# print(Kepinuc)\n",
    "# print(Kepinuc.T.corr())\n",
    "\n",
    "import matplotlib.pyplot as plt\n",
    "from matplotlib.pyplot import cm\n",
    "import seaborn as sns\n",
    "g=sns.clustermap(Kepinuc.T.corr(),cmap=plt.cm.seismic,\n",
    "                #  vmin=amin,vmax=amax,\n",
    "                # figsize=(10,20), annot_kws={\"size\":8}, center=0,\n",
    "                figsize=(6, 10), annot_kws={\"size\":8}, center=0,\n",
    "                annot=True, linewidths=1,linecolor='k',)\n",
    "g.ax_col_dendrogram.set_title('corr map') \n",
    "plt.savefig('corr.png', format=\"png\", bbox_inches=\"tight\", pad_inches=0.2)"
   ]
  },
  {
   "cell_type": "markdown",
   "metadata": {},
   "source": [
    "## Meandist"
   ]
  },
  {
   "cell_type": "code",
   "execution_count": null,
   "metadata": {
    "ExecuteTime": {
     "end_time": "2023-01-16T21:14:26.282712Z",
     "start_time": "2023-01-16T21:14:24.986122Z"
    }
   },
   "outputs": [],
   "source": [
    "if visualize:\n",
    "    for group_name,group in zip(groups[0],groups[1]):\n",
    "        MeanDist(k [k.Clust==0],k [k.Clust==1],group,settings,\n",
    "                title='MeanDist Epigen based: '+group_name,\n",
    "                figname = name+'1_MeanDist_'+group_name)\n"
   ]
  },
  {
   "attachments": {},
   "cell_type": "markdown",
   "metadata": {},
   "source": [
    "## sample percentage"
   ]
  },
  {
   "cell_type": "code",
   "execution_count": null,
   "metadata": {
    "ExecuteTime": {
     "end_time": "2023-01-16T21:13:44.808076Z",
     "start_time": "2023-01-16T21:13:15.951592Z"
    }
   },
   "outputs": [],
   "source": [
    "arr =[]\n",
    "# full map\n",
    "ind = k.Clust != -1\n",
    "_ = drawUMAP_intVals(umapData,k,ind, 'by_sample',settings,\n",
    "        title ='Tumor '+j+' Celliden UMAP', \n",
    "        Figname = name+'4_UMAP_(samples)')\n",
    "# map of each cluster\n",
    "vals = np.unique(k.Clust); vals = vals[vals!=-1]\n",
    "for val in vals:\n",
    "    ind = k.Clust == val\n",
    "    percentage_arr = drawUMAP_intVals(umapData,k,ind ,'by_sample',settings,\n",
    "        title ='Tumor '+j+' Epi UMAP clust' + str(val), \n",
    "        Figname = name+'4_UMAP_clust'+str(val)+'_(samples)')\n",
    "    arr.append([val,percentage_arr])\n",
    "saveCsv(dir_plots,name,arr)\n"
   ]
  },
  {
   "cell_type": "markdown",
   "metadata": {},
   "source": [
    "## features on UMAP"
   ]
  },
  {
   "cell_type": "code",
   "execution_count": null,
   "metadata": {
    "ExecuteTime": {
     "end_time": "2023-01-16T21:14:56.355162Z",
     "start_time": "2023-01-16T21:14:26.284383Z"
    }
   },
   "outputs": [],
   "source": [
    "\n",
    "if visualize:\n",
    "    drawUMAP(umapData, NamesAll,CAll,settings,\n",
    "            title ='Tumor '+j+' Epigen UMAP', \n",
    "            Figname = name+'2_UMAP_')\n",
    "    "
   ]
  },
  {
   "cell_type": "markdown",
   "metadata": {},
   "source": [
    "## save data to file"
   ]
  },
  {
   "cell_type": "code",
   "execution_count": null,
   "metadata": {
    "ExecuteTime": {
     "end_time": "2023-01-16T21:14:56.404893Z",
     "start_time": "2023-01-16T21:14:56.356724Z"
    }
   },
   "outputs": [],
   "source": [
    "dbscanData, umapData,k, CAll,labels,s = None,None,None,None,None,None"
   ]
  },
  {
   "cell_type": "markdown",
   "metadata": {
    "tags": []
   },
   "source": [
    "# ALL (Epigenetics + Cell identity Based)"
   ]
  },
  {
   "cell_type": "code",
   "execution_count": null,
   "metadata": {
    "ExecuteTime": {
     "end_time": "2023-01-16T21:14:56.459226Z",
     "start_time": "2023-01-16T21:14:56.406498Z"
    }
   },
   "outputs": [],
   "source": [
    "\n",
    "k = k_orig.copy()\n",
    "CAll=pd.concat([k]).copy()\n",
    "\n",
    "s ={}\n",
    "s['min_dist'] = {}\n",
    "s['n_neighbors'] = {}\n",
    "s['min_samples'] = {}\n",
    "s['eps'] = {}\n",
    "\n",
    "name = 'Tumor'+j+'_CellIden+EpiCols_'\n",
    "\n"
   ]
  },
  {
   "cell_type": "markdown",
   "metadata": {},
   "source": [
    "### UMAP\n",
    "\n",
    "plot for each feature according to its intensity"
   ]
  },
  {
   "cell_type": "code",
   "execution_count": null,
   "metadata": {
    "ExecuteTime": {
     "end_time": "2023-01-16T21:15:14.165013Z",
     "start_time": "2023-01-16T21:14:56.461064Z"
    }
   },
   "outputs": [],
   "source": [
    "s['min_dist']['245']=0.001\n",
    "s['n_neighbors']['245']=10\n",
    "s['min_dist']['1245']=0.001\n",
    "s['n_neighbors']['1245']=10\n",
    "\n",
    "min_dist = s['min_dist'][j]\n",
    "n_neighbors = s['n_neighbors'][j]\n",
    "\n",
    "\n",
    "umapData = calculate_umap(CAll[CellIden_EpiCols],n_neighbors, min_dist)\n",
    "if visualize:\n",
    "    drawUMAP(umapData, ['H4'],CAll,settings,\n",
    "              title = f'min_dist = {min_dist}, n_neighbors = {n_neighbors}',\n",
    "              Figname = name+'1_UMAP_(core)')\n",
    "    \n",
    "\n",
    "\n",
    "# umap_params(k,MRK,dir_plots,\n",
    "#             valA = min_dist, valB = n_neighbors,\n",
    "#             )\n",
    "\n",
    "# umap_params(k,MRK,dir_plots,\n",
    "#             valA = 0.2, valB = 300,\n",
    "#             )\n",
    "# umap_params(k,MRK,dir_plots,\n",
    "#             valA = 0.1, valB = 300,\n",
    "#             )\n",
    "\n",
    "# umap_params(k,MRK,dir_plots,\n",
    "#             valA = 0.001, valB = 300,\n",
    "#             )"
   ]
  },
  {
   "cell_type": "markdown",
   "metadata": {},
   "source": [
    "### Dbscan and clusters"
   ]
  },
  {
   "cell_type": "code",
   "execution_count": null,
   "metadata": {
    "ExecuteTime": {
     "end_time": "2023-01-16T21:15:19.225519Z",
     "start_time": "2023-01-16T21:15:14.166485Z"
    }
   },
   "outputs": [],
   "source": [
    "s['min_samples']['245']=50\n",
    "s['eps']['245']=0.19\n",
    "s['min_samples']['1245']=65\n",
    "s['eps']['1245']=0.12\n",
    "\n",
    "\n",
    "min_samples = s['min_samples'][j]\n",
    "eps = s['eps'][j]\n",
    "dbscanData,labels,core_samples_mask = calculate_dbscan(umapData,eps=eps,min_samples=min_samples)\n",
    "if visualize:\n",
    "  drawDbscan(dbscanData,labels,core_samples_mask,settings,\n",
    "              title=f'min_samples = {min_samples}, eps = {eps}',\n",
    "              figname = name+'1_dbscan')\n",
    "              \n",
    "# dbscan_params(X_2d,dir_plots,\n",
    "#                   valA = eps, valB = min_samples,\n",
    "#                   itersA = 3, itersB = 3,\n",
    "#                   )\n",
    "# l = labels==4\n",
    "# s['min_samples']['1245']=70\n",
    "# s['eps']['1245']=0.2\n",
    "# dbscanData_,labels_,core_samples_mask_ = calculate_dbscan(umapData[l],eps=eps,min_samples=min_samples)\n",
    "# labels[l] = labels_\n",
    "# drawDbscan(dbscanData,labels,core_samples_mask,settings,\n",
    "#               title=f'min_samples = {min_samples}, eps = {eps}',\n",
    "#               figname = name+'1_dbscan')"
   ]
  },
  {
   "cell_type": "code",
   "execution_count": null,
   "metadata": {
    "ExecuteTime": {
     "end_time": "2023-01-16T21:15:34.143383Z",
     "start_time": "2023-01-16T21:15:19.227133Z"
    }
   },
   "outputs": [],
   "source": [
    "plotClusters(k,umapData,labels,NamesAll,settings,\n",
    "             title = 'Clusters Tumor '+j+' - Epigen +Cell identity Based',\n",
    "             figname = name+'1_Clusters')\n"
   ]
  },
  {
   "attachments": {},
   "cell_type": "markdown",
   "metadata": {},
   "source": [
    "## HeatMap by cluster"
   ]
  },
  {
   "cell_type": "code",
   "execution_count": null,
   "metadata": {
    "ExecuteTime": {
     "end_time": "2023-01-16T21:15:36.270468Z",
     "start_time": "2023-01-16T21:15:34.145027Z"
    }
   },
   "outputs": [],
   "source": [
    "\n",
    "if visualize:\n",
    "    for group_name,group in zip(groups[0],groups[1]):\n",
    "    \n",
    "        HeatMap(k[k.Clust!=-1],group,settings,\n",
    "                title = 'T'+j+' Epigen+Cell Based: '+group_name,\n",
    "                figname = name+'1_HeatMap_'+group_name)  \n"
   ]
  },
  {
   "attachments": {},
   "cell_type": "markdown",
   "metadata": {},
   "source": [
    "### HeatMap by sample"
   ]
  },
  {
   "cell_type": "code",
   "execution_count": null,
   "metadata": {},
   "outputs": [],
   "source": [
    "if visualize:\n",
    "    for group_name,group in zip(groups[0],groups[1]):\n",
    "        group_name,group = groups[0][-1],groups[1][-1]\n",
    "        HeatMap(k[k.Clust!=-1],group,settings,clustFeature='by_sample',\n",
    "                title = 'T'+j+' Cell Iden Based: '+group_name+'by_sample',\n",
    "                figname = name+'1_HeatMap_'+group_name+'by_sample')\n"
   ]
  },
  {
   "cell_type": "markdown",
   "metadata": {},
   "source": [
    "## Meandist"
   ]
  },
  {
   "cell_type": "code",
   "execution_count": null,
   "metadata": {
    "ExecuteTime": {
     "end_time": "2023-01-16T21:15:37.401606Z",
     "start_time": "2023-01-16T21:15:36.272003Z"
    }
   },
   "outputs": [],
   "source": [
    "\n",
    "if visualize:\n",
    "    for group_name,group in zip(groups[0],groups[1]):\n",
    "        MeanDist(k [k.Clust==0],k [k.Clust==1],group,settings,\n",
    "                title='MeanDist Epigen+Cell based: '+group_name,\n",
    "                figname = name+'1_MeanDist_'+group_name)\n"
   ]
  },
  {
   "attachments": {},
   "cell_type": "markdown",
   "metadata": {},
   "source": [
    "## sample percentage"
   ]
  },
  {
   "cell_type": "code",
   "execution_count": null,
   "metadata": {
    "ExecuteTime": {
     "end_time": "2023-01-16T21:13:44.808076Z",
     "start_time": "2023-01-16T21:13:15.951592Z"
    }
   },
   "outputs": [],
   "source": [
    "arr =[]\n",
    "# full map\n",
    "ind = k.Clust != -1\n",
    "_ = drawUMAP_intVals(umapData,k,ind, 'by_sample',settings,\n",
    "        title ='Tumor '+j+' Epi+Celliden UMAP', \n",
    "        Figname = name+'4_UMAP_(samples)')\n",
    "# map of each cluster\n",
    "vals = np.unique(k.Clust); vals = vals[vals!=-1]\n",
    "for val in vals:\n",
    "    ind = k.Clust == val\n",
    "    percentage_arr = drawUMAP_intVals(umapData,k,ind ,'by_sample',settings,\n",
    "        title ='Tumor '+j+' Epi+Celliden UMAP clust' + str(val), \n",
    "        Figname = name+'4_UMAP_clust'+str(val)+'_(samples)')\n",
    "    arr.append([val,percentage_arr])\n",
    "saveCsv(dir_plots, name,arr)\n",
    "\n"
   ]
  },
  {
   "cell_type": "markdown",
   "metadata": {},
   "source": [
    "## features on UMAP"
   ]
  },
  {
   "cell_type": "code",
   "execution_count": null,
   "metadata": {
    "ExecuteTime": {
     "end_time": "2023-01-16T21:16:06.732362Z",
     "start_time": "2023-01-16T21:15:37.403222Z"
    }
   },
   "outputs": [],
   "source": [
    "\n",
    "if visualize:\n",
    "    drawUMAP(umapData, NamesAll,CAll,settings,\n",
    "            title ='Tumor '+j+' Epigen +Cell identity UMAP', \n",
    "            Figname = name+'2_UMAP_')\n",
    "    "
   ]
  },
  {
   "cell_type": "markdown",
   "metadata": {},
   "source": [
    "## save data to file"
   ]
  },
  {
   "cell_type": "code",
   "execution_count": null,
   "metadata": {},
   "outputs": [],
   "source": []
  },
  {
   "cell_type": "code",
   "execution_count": null,
   "metadata": {
    "ExecuteTime": {
     "end_time": "2023-01-16T21:16:06.787300Z",
     "start_time": "2023-01-16T21:16:06.737660Z"
    }
   },
   "outputs": [],
   "source": [
    "dbscanData, umapData,k, CAll,labels,s = None,None,None,None,None,None"
   ]
  },
  {
   "cell_type": "markdown",
   "metadata": {},
   "source": [
    "# copy to single pdf"
   ]
  },
  {
   "cell_type": "code",
   "execution_count": null,
   "metadata": {
    "ExecuteTime": {
     "end_time": "2023-01-16T21:16:36.415564Z",
     "start_time": "2023-01-16T21:16:06.788889Z"
    }
   },
   "outputs": [],
   "source": [
    "dict ={}\n",
    "dict['k'] = k_orig\n",
    "pickle_dump('k'+j+'_sample', dict,dir_data)\n",
    "\n",
    "imList2pdf(dir_plots,j,['CellIden','EpiCols','CellIden+EpiCols'])\n",
    "\n",
    "end = time.process_time()\n",
    "print ('total run time =', end-start )"
   ]
  },
  {
   "cell_type": "code",
   "execution_count": null,
   "metadata": {},
   "outputs": [],
   "source": [
    "# imList2pdf(dir_plots,j,['CellIden','EpiCols','CellIden+EpiCols'])"
   ]
  }
 ],
 "metadata": {
  "kernelspec": {
   "display_name": "tf_39",
   "language": "python",
   "name": "python3"
  },
  "language_info": {
   "codemirror_mode": {
    "name": "ipython",
    "version": 3
   },
   "file_extension": ".py",
   "mimetype": "text/x-python",
   "name": "python",
   "nbconvert_exporter": "python",
   "pygments_lexer": "ipython3",
   "version": "3.9.16 (main, Jan 11 2023, 16:05:54) \n[GCC 11.2.0]"
  },
  "toc": {
   "base_numbering": 1,
   "nav_menu": {},
   "number_sections": true,
   "sideBar": true,
   "skip_h1_title": false,
   "title_cell": "Table of Contents",
   "title_sidebar": "Contents",
   "toc_cell": false,
   "toc_position": {},
   "toc_section_display": true,
   "toc_window_display": false
  },
  "varInspector": {
   "cols": {
    "lenName": 16,
    "lenType": 16,
    "lenVar": 40
   },
   "kernels_config": {
    "python": {
     "delete_cmd_postfix": "",
     "delete_cmd_prefix": "del ",
     "library": "var_list.py",
     "varRefreshCmd": "print(var_dic_list())"
    },
    "r": {
     "delete_cmd_postfix": ") ",
     "delete_cmd_prefix": "rm(",
     "library": "var_list.r",
     "varRefreshCmd": "cat(var_dic_list()) "
    }
   },
   "types_to_exclude": [
    "module",
    "function",
    "builtin_function_or_method",
    "instance",
    "_Feature"
   ],
   "window_display": false
  },
  "vscode": {
   "interpreter": {
    "hash": "47461faa88aa067695cc57f541ef1d2dc4d6f921b9b537a7f257f46bf46d112f"
   }
  }
 },
 "nbformat": 4,
 "nbformat_minor": 4
}
