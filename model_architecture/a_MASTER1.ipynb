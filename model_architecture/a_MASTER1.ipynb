{
 "cells": [
  {
   "cell_type": "code",
   "execution_count": 1,
   "metadata": {},
   "outputs": [
    {
     "name": "stdout",
     "output_type": "stream",
     "text": [
      "./preprocess_data/exp1/\n"
     ]
    }
   ],
   "source": [
    "import  print_n_log  \n",
    "from usefull_funcs import folderExists\n",
    "# pip install nbformat nbclient ipykernel\n",
    "\n",
    "import os\n",
    "\n",
    "try:\n",
    "    print = original_print\n",
    "except:\n",
    "    pass\n",
    "DATA_DIR = \"./preprocess_data/exp1/\"\n",
    "EXP_DIR = \"./exp_data/exp1/\"\n",
    "METRICS_DIR = './metrics/exp1/'\n",
    "\n",
    "folderExists(DATA_DIR)\n",
    "folderExists(EXP_DIR)\n",
    "folderExists(METRICS_DIR)\n",
    "print(DATA_DIR)"
   ]
  },
  {
   "cell_type": "code",
   "execution_count": 2,
   "metadata": {},
   "outputs": [],
   "source": [
    "# Parameters for Preprocessing Notebook\n",
    "#---------------------------------------------\n",
    "use_MASTER = True # Remember this? We need to set this to True in MASTER Notebook so that it does not use the default parameters in processing notebook.\n",
    "RAW_FILE = f'/path/to/smallData.csv' # use \"small data\" here\n",
    "PROCESSED_FILE = f'{DATA_DIR}processed.pkl' # always use pickle for fast I/O!\n",
    "OTHER_PREPROCESS_PARAMETER = ... # like batch size, sliding\n",
    "\n",
    "#---------------------------------------------------\n",
    "MODEL_FILE = f'{EXP_DIR}model.pkl'\n",
    "PREDICTION_FILE = f'{EXP_DIR}ypred.pkl'\n",
    "OTHER_MODEL_PARAMETERS = ... # like N_ESTIMATOR, GAMMA, etc\n",
    "\n",
    "#--------------------------------------------------\n",
    "# Let's save the original print method in original_print and set the print method to be modified print\n",
    "original_print = print\n",
    "print = print_n_log.run('preproc', './logs/preprocess.log', 'DEBUG')\n",
    "# Now, we run the Preprocessing Notebook using the %run magic\n",
    "#-------------------------------------------------------------\n",
    "%run b_preprocess.ipynb\n",
    "\n",
    "%run c_model_randomForest.ipynb\n",
    "\n",
    "# Finally, after running notebook, we set the print method back to the original print method.\n",
    "#-----------------------------------------------------\n",
    "print = original_print"
   ]
  },
  {
   "cell_type": "code",
   "execution_count": 3,
   "metadata": {},
   "outputs": [
    {
     "data": {
      "text/plain": [
       "Ellipsis"
      ]
     },
     "execution_count": 3,
     "metadata": {},
     "output_type": "execute_result"
    }
   ],
   "source": [
    "OTHER_PREPROCESS_PARAMETER"
   ]
  }
 ],
 "metadata": {
  "kernelspec": {
   "display_name": "Python 3",
   "language": "python",
   "name": "python3"
  },
  "language_info": {
   "codemirror_mode": {
    "name": "ipython",
    "version": 3
   },
   "file_extension": ".py",
   "mimetype": "text/x-python",
   "name": "python",
   "nbconvert_exporter": "python",
   "pygments_lexer": "ipython3",
   "version": "3.9.16"
  }
 },
 "nbformat": 4,
 "nbformat_minor": 2
}
