{
 "cells": [
  {
   "cell_type": "code",
   "execution_count": 1,
   "metadata": {},
   "outputs": [],
   "source": [
    "# PARAMETER\n",
    "#-------------\n",
    "# check if IS_MASTER exists, this variable will only exist if it's being called by MASTER notebook.\n",
    "# if it does not exist, set it to False\n",
    "try: use_MASTER\n",
    "except: use_MASTER = False\n",
    "# The code below will only run if it's NOT being called from MASTER notebook\n",
    "if not use_MASTER:\n",
    "    DATA_DIR = './preprocess_data/_temp/' # \n",
    "\n",
    "    from usefull_funcs import folderExists\n",
    "    folderExists(DATA_DIR)\n",
    "    RAW_FILE = f'/path/to/smallData.csv' # use \"small data\" here\n",
    "    PROCESSED_FILE = f'{DATA_DIR}processed.pkl' # always use pickle for fast I/O!\n",
    "    OTHER_PREPROCESS_PARAMETER = ... # e.g. batch size, sliding window size, etc\n"
   ]
  },
  {
   "cell_type": "code",
   "execution_count": 2,
   "metadata": {},
   "outputs": [
    {
     "name": "stdout",
     "output_type": "stream",
     "text": [
      "1\n"
     ]
    }
   ],
   "source": [
    "print(1)"
   ]
  },
  {
   "cell_type": "code",
   "execution_count": 3,
   "metadata": {},
   "outputs": [],
   "source": [
    "# ending\n",
    "PROCESSED_data =[1]\n",
    "import pickle\n",
    "with open(PROCESSED_FILE, 'wb') as f:\n",
    "    pickle.dump(PROCESSED_data, f)\n",
    "   \n",
    "ggg=1"
   ]
  }
 ],
 "metadata": {
  "kernelspec": {
   "display_name": "Python 3",
   "language": "python",
   "name": "python3"
  },
  "language_info": {
   "codemirror_mode": {
    "name": "ipython",
    "version": 3
   },
   "file_extension": ".py",
   "mimetype": "text/x-python",
   "name": "python",
   "nbconvert_exporter": "python",
   "pygments_lexer": "ipython3",
   "version": "3.11.6"
  }
 },
 "nbformat": 4,
 "nbformat_minor": 2
}
