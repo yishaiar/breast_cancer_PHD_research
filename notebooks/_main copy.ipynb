{
 "cells": [
  {
   "attachments": {},
   "cell_type": "markdown",
   "metadata": {},
   "source": [
    "## Load and initialize\n"
   ]
  },
  {
   "attachments": {},
   "cell_type": "markdown",
   "metadata": {},
   "source": [
    "settings\n"
   ]
  },
  {
   "cell_type": "code",
   "execution_count": null,
   "metadata": {
    "ExecuteTime": {
     "end_time": "2023-01-16T21:12:28.925237Z",
     "start_time": "2023-01-16T21:12:28.891068Z"
    },
    "execution": {
     "iopub.execute_input": "2024-02-25T22:24:05.633343Z",
     "iopub.status.busy": "2024-02-25T22:24:05.633174Z",
     "iopub.status.idle": "2024-02-25T22:24:08.603392Z",
     "shell.execute_reply": "2024-02-25T22:24:08.602914Z"
    }
   },
   "outputs": [],
   "source": [
    "# sample number\n",
    "\n",
    "# j = '_arcsinh'+'18.2'+'a'# '18.2'+'a'#\n",
    "# j = '18'+'a'#  '_arcsinh'+'18.2'+'a'#'14.2'+'a'#'_raw'+'14.2'+'a'#\n",
    "            \n",
    "# '7.1a','13a','14a','15a','17a','18a','19a','20a','8.1a'\n",
    "\n",
    "# j = '13'+'a'\n",
    "# j = 'b2345'+'a'\n",
    "# j = '5a'\n",
    "# j = '18.2'+'a'\n",
    "# j = 'b2345'+'s'#stroma - exists only in batch\n",
    "\n",
    "# j = 'b2345'+'a'\n",
    "# j = 'b2345'+'s'+'_prescaled'\n",
    "args = {\n",
    "        'j' : j,\n",
    "        'feautures_ind':2,\n",
    "        'data_folder' : 'Data_',\n",
    "        # 'data_folder' : 'age_prescaled',\n",
    "        # create visualization (umap, dbscan are always shown)\n",
    "        # 'visualize':True,'plotUMAP' : True,\n",
    "        \n",
    "        # show figures in notebook\n",
    "        'show' : True, 'saveSVG' :False,\n",
    "        'recalculate_umap' : False,# calculate umap\n",
    "        'recalculate_db' : False,# calculate dbscan\n",
    "        'create_adjusted' : False,\n",
    "        'compare' : False,# compare 11,stroma and rest of the cells\n",
    "             \n",
    "        }\n",
    "# create_adjusted = False\n",
    "# compare = False# compare 11,stroma and rest of the cells\n",
    "# print(j, 'ind:',config['feautures_ind'], dir_data1, config, create_adjusted)\n",
    "\n",
    "# parent_dir = '/home/yishai/breast_cancer_PHD_research'\n",
    "\n",
    "\n",
    "\n",
    "use_MASTER = True\n",
    "\n",
    "\n",
    "\n",
    "\n",
    "\n",
    "%run imports.ipynb # import all imported packages from imports.ipynb\n",
    "\n",
    "samples = Series(df['samp'])\n",
    "uniq_samples = samples.unique()# don't drop anchor samples\n",
    "config['dir_data']"
   ]
  },
  {
   "cell_type": "markdown",
   "metadata": {},
   "source": [
    "log into file"
   ]
  },
  {
   "cell_type": "code",
   "execution_count": null,
   "metadata": {
    "execution": {
     "iopub.execute_input": "2024-02-25T22:24:08.633871Z",
     "iopub.status.busy": "2024-02-25T22:24:08.633545Z",
     "iopub.status.idle": "2024-02-25T22:24:08.662537Z",
     "shell.execute_reply": "2024-02-25T22:24:08.662068Z"
    }
   },
   "outputs": [],
   "source": [
    "import  print_n_log  \n",
    "print = print_n_log.run('log', f'{config[\"dir_plots\"]}/logs.log', 'DEBUG')\n",
    "# try:\n",
    "#     print = original_print#if print function was saved in original_print  - return it to print - happens in the second run\n",
    "# except:\n",
    "#     original_print = print#if print function was not saved in original_print  - save it in original_print (for future use) - happens in the first run\n",
    "#     print = print_n_log.run('log', f'{config[\"dir_plots\"]}/logs.log', 'DEBUG')\n"
   ]
  },
  {
   "cell_type": "markdown",
   "metadata": {},
   "source": [
    "##  clustering"
   ]
  },
  {
   "attachments": {},
   "cell_type": "markdown",
   "metadata": {},
   "source": [
    "UMAP\n",
    "\n",
    "plot for each feature according to its intensity\n"
   ]
  },
  {
   "cell_type": "code",
   "execution_count": null,
   "metadata": {
    "execution": {
     "iopub.execute_input": "2024-02-25T22:24:08.666219Z",
     "iopub.status.busy": "2024-02-25T22:24:08.665923Z",
     "iopub.status.idle": "2024-02-25T22:24:16.735546Z",
     "shell.execute_reply": "2024-02-25T22:24:16.734977Z"
    }
   },
   "outputs": [],
   "source": [
    "# %run umap.ipynb   \n",
    "from clustering import *\n",
    "clustering = Clustering(**config)\n",
    "\n",
    "from plots import *\n",
    "plot = Plots(**config)#build Umap_dbscan class (either from MASTER or from here) using parent class containg the config data\n"
   ]
  },
  {
   "cell_type": "code",
   "execution_count": null,
   "metadata": {
    "execution": {
     "iopub.execute_input": "2024-02-25T22:24:16.738574Z",
     "iopub.status.busy": "2024-02-25T22:24:16.738205Z",
     "iopub.status.idle": "2024-02-25T22:24:18.211490Z",
     "shell.execute_reply": "2024-02-25T22:24:18.210682Z"
    }
   },
   "outputs": [],
   "source": [
    "\n",
    "umapData = clustering.umap(df)\n",
    "plot.umap(umapData,df['H4'].copy(),\n",
    "            title = f'{config[\"title\"]} UMAP ',\n",
    "            figname = '1_'+config[\"figname\"]+'UMAP_(core)')\n",
    "\n"
   ]
  },
  {
   "cell_type": "code",
   "execution_count": null,
   "metadata": {},
   "outputs": [],
   "source": [
    "\n",
    "# samples = samples[(samples==19)].copy()\n",
    "# umapData = umapData.loc[samples.index].copy()\n",
    "# df = df.loc[samples.index].copy()\n",
    "# uniq_samples = samples.unique()# don't drop anchor samples\n",
    "\n",
    "# print(samples.unique(), len(umapData),)\n",
    "\n",
    "# config['j'] = '19'\n",
    "# config[\"title\"] = 'samp19.1a CellIden+EpiCols Based '\n",
    "# config['figname'] = 'samp19.1a_CellIden+EpiCols_Based_'\n",
    "\n",
    "# if len(uniq_samples)==1:\n",
    "#     config['isSingleSample'] = True\n",
    "\n",
    "\n",
    "# # %run umap.ipynb   \n",
    "# from clustering import *\n",
    "# clustering = Clustering(**config)\n",
    "# clustering.umapData = umapData\n",
    "# from plots import *\n",
    "# plot = Plots(**config)#build Umap_dbscan class (either from MASTER or from here) using parent class containg the config data\n",
    "\n",
    "# plot.umap(umapData,df['H4'].copy(),\n",
    "#             title = f'{config[\"title\"]} UMAP ',\n",
    "#             figname = '1_'+config[\"figname\"]+'UMAP_(core)')\n",
    "\n"
   ]
  },
  {
   "attachments": {},
   "cell_type": "markdown",
   "metadata": {},
   "source": [
    "Dbscan\n"
   ]
  },
  {
   "cell_type": "code",
   "execution_count": null,
   "metadata": {
    "execution": {
     "iopub.execute_input": "2024-02-25T22:24:18.214396Z",
     "iopub.status.busy": "2024-02-25T22:24:18.214168Z",
     "iopub.status.idle": "2024-02-25T22:24:19.053211Z",
     "shell.execute_reply": "2024-02-25T22:24:19.052763Z"
    }
   },
   "outputs": [],
   "source": [
    "labels = clustering.DBscan(cluster_colors())#,params = [0.15,50]\n",
    "# from plot_functions import drawDbscan\n",
    "plot.DBscan(labels,clustering.dbData,clustering.colors,\n",
    "            title=f'{config[\"title\"]} DBscan ',\n",
    "            figname='1_'+config[\"figname\"]+'DBscan')\n"
   ]
  },
  {
   "cell_type": "markdown",
   "metadata": {},
   "source": [
    "Dbscan without noise"
   ]
  },
  {
   "cell_type": "code",
   "execution_count": null,
   "metadata": {
    "execution": {
     "iopub.execute_input": "2024-02-25T22:24:19.056689Z",
     "iopub.status.busy": "2024-02-25T22:24:19.056401Z",
     "iopub.status.idle": "2024-02-25T22:24:19.870351Z",
     "shell.execute_reply": "2024-02-25T22:24:19.869550Z"
    }
   },
   "outputs": [],
   "source": [
    "plot.DBscan(labels[labels!=-1],clustering.dbData,clustering.colors,\n",
    "            title=f'{config[\"title\"]} DBscan ',\n",
    "            figname='1_'+config[\"figname\"]+'DBscan_without_noise')"
   ]
  },
  {
   "cell_type": "code",
   "execution_count": null,
   "metadata": {},
   "outputs": [],
   "source": [
    "labels.index = df.index"
   ]
  },
  {
   "cell_type": "markdown",
   "metadata": {},
   "source": [
    "todo: plot Clusters"
   ]
  },
  {
   "cell_type": "code",
   "execution_count": null,
   "metadata": {
    "execution": {
     "iopub.execute_input": "2024-02-25T22:24:19.873494Z",
     "iopub.status.busy": "2024-02-25T22:24:19.873231Z",
     "iopub.status.idle": "2024-02-25T22:24:19.913917Z",
     "shell.execute_reply": "2024-02-25T22:24:19.913369Z"
    }
   },
   "outputs": [],
   "source": [
    "# from plot_functions import *\n",
    "# # if config['visualize'] and config['plotUMAP']:\n",
    "# plotClusters(df, umapData, labels, clustering.colors, config['groups']['NamesAll'], config,\n",
    "#             title='Clusters ' + config['title'],\n",
    "#             figname='1_'+config['figname']+'Clusters')"
   ]
  },
  {
   "cell_type": "markdown",
   "metadata": {},
   "source": [
    "load single samples labels from file"
   ]
  },
  {
   "cell_type": "code",
   "execution_count": null,
   "metadata": {
    "execution": {
     "iopub.execute_input": "2024-02-25T22:24:19.917290Z",
     "iopub.status.busy": "2024-02-25T22:24:19.917055Z",
     "iopub.status.idle": "2024-02-25T22:24:19.989147Z",
     "shell.execute_reply": "2024-02-25T22:24:19.988536Z"
    }
   },
   "outputs": [],
   "source": []
  },
  {
   "cell_type": "markdown",
   "metadata": {},
   "source": [
    "## classification"
   ]
  },
  {
   "cell_type": "code",
   "execution_count": null,
   "metadata": {
    "execution": {
     "iopub.execute_input": "2024-02-25T22:24:19.991853Z",
     "iopub.status.busy": "2024-02-25T22:24:19.991658Z",
     "iopub.status.idle": "2024-02-25T22:24:20.042907Z",
     "shell.execute_reply": "2024-02-25T22:24:20.041877Z"
    }
   },
   "outputs": [],
   "source": [
    "# %run classes.ipynb\n",
    "from classes import *\n",
    "classification = Classification(**config)#build class (either from MASTER or from here) using parent class containg the config data\n",
    "labels_to_classes_dict = classification.classes_dict(f\"{classification.dir_data}_clusters.csv\")\n",
    "\n"
   ]
  },
  {
   "cell_type": "markdown",
   "metadata": {},
   "source": [
    "assign classes\n",
    "\n",
    "load csv of class for every cluster in every sample - and assign to every data point in every sample"
   ]
  },
  {
   "cell_type": "code",
   "execution_count": null,
   "metadata": {},
   "outputs": [],
   "source": [
    "# if not config['isSingleSample']:\n",
    "# sample_labels = Series(index = df.index)#initialize as none\n",
    "classes = Series(index = df.index)#initialize as none\n",
    "for sampNum in uniq_samples:\n",
    "    print(sampNum)\n",
    "    try:#load classes from file\n",
    "        classes.loc[df.index[df['samp'] == sampNum]] = clustering.pickle_load(f\"classes_samp{f'{sampNum}a'}_{config['name']}_Based_\", config['dir_data'])\n",
    "    except:#calculate classes\n",
    "        print(f'{sampNum} class calculated from dbLabels_sample')\n",
    "        sample_labels = Series(clustering.pickle_load(f\"dbLabels_samp{f'{sampNum}a'}_{config['name']}_Based_\", config['dir_data']),     index = df.index[df['samp'] == sampNum])\n",
    "        classes.loc[df.index[df['samp'] == sampNum]] = classification.get_classes(samples[samples==sampNum],sample_labels,labels_to_classes_dict)\n",
    "    \n",
    "del sampNum\n",
    "# else:\n",
    "#     sample_labels = labels\n",
    "\n",
    "print (f'unique classes: {sorted(classes.unique())}')\n",
    "print ('classification - done')"
   ]
  },
  {
   "cell_type": "code",
   "execution_count": null,
   "metadata": {},
   "outputs": [],
   "source": [
    "# classes"
   ]
  },
  {
   "cell_type": "markdown",
   "metadata": {},
   "source": [
    "create Basal like 2 class"
   ]
  },
  {
   "cell_type": "code",
   "execution_count": null,
   "metadata": {},
   "outputs": [],
   "source": [
    "if not config['isSingleSample'] and 'Basal-like2' not in classes.unique():\n",
    "    classes1 = classes.copy()\n",
    "    classes1.loc[umapData[umapData['umap2']>4.12].index] = 'Basal-like2'\n",
    "    classes1[(classes=='Cycling') & (classes1=='Basal-like2')] = 'Cycling-Basal-like2'\n",
    "    # classes1 = classes1[classes1!='Noise']\n",
    "    classes1[(classes1!='Cycling') & (classes1!='Basal-like2')& (classes1!='Cycling-Basal-like2')&(classes1!='Noise')] = 'Rest'\n",
    "    classes = classes1\n",
    "    # -----------\n",
    "    # df = df.loc[classes.index].copy()\n",
    "    # samples = samples.loc[classes.index].copy()\n",
    "    # labels = labels.loc[classes.index].copy()\n",
    "    # umapData = umapData.loc[samples.index].copy()\n",
    "    uniq_samples = samples.unique()# don't drop anchor samples\n",
    "    \n",
    "    \n",
    "    # # (classes1.index == sample_labels.index).all()\n",
    "    # for sampNum in uniq_samples:\n",
    "    #     print(sampNum)\n",
    "    #     print(f\"classes_samp{f'{sampNum}a'}_{config['name']}_Based_\")\n",
    "    #     clustering.pickle_dump(f\"classes_samp{f'{sampNum}a'}_{config['name']}_Based_\",classes.loc[samples.index[samples == sampNum]].to_numpy(),  config['dir_data'])\n",
    "    #     # = clustering.pickle_load(f\"dbLabels_samp{f'{sampNum}a'}_{config['name']}_Based_\", config['dir_data'])\n"
   ]
  },
  {
   "cell_type": "markdown",
   "metadata": {},
   "source": [
    "plot by class"
   ]
  },
  {
   "cell_type": "code",
   "execution_count": null,
   "metadata": {},
   "outputs": [],
   "source": [
    "plot.labeled_umap(umapData,classes.copy(),colors = class_colors(),\n",
    "                    title=config['title']+f' UMAP - classes',\n",
    "                    figname='4_'+config['figname']+f'UMAP_by_classes')"
   ]
  },
  {
   "cell_type": "code",
   "execution_count": null,
   "metadata": {},
   "outputs": [],
   "source": []
  },
  {
   "cell_type": "markdown",
   "metadata": {},
   "source": [
    "bimodal gassian fit"
   ]
  },
  {
   "cell_type": "code",
   "execution_count": null,
   "metadata": {
    "execution": {
     "iopub.execute_input": "2024-02-25T22:24:20.362003Z",
     "iopub.status.busy": "2024-02-25T22:24:20.361413Z",
     "iopub.status.idle": "2024-02-25T22:24:20.406377Z",
     "shell.execute_reply": "2024-02-25T22:24:20.405338Z"
    }
   },
   "outputs": [],
   "source": [
    "\n",
    "# if '.2a' in config['j'] and config['feautures_ind'] == 3:\n",
    "    \n",
    "#     labels = None# verify that the labels from previous are not used\n",
    "#     if '_arcsinh' in j:\n",
    "#         from gaussian_fit import *\n",
    "\n",
    "\n",
    "#         x, y = sns.kdeplot(k['pRB'].copy(),label='label').lines[0].get_data()\n",
    "#         y =  np.asarray(y)/.2 if '18.2' in j else  np.asarray(y)**.5 #highlight the gaussians diffrence\n",
    "#         # plt.plot(x,y)\n",
    "#         dir,show,_ = settings;saveSVG = True\n",
    "#         cutoff = bimodal_minima(x,y, maxfev = 5000,settings =(dir,show,saveSVG)  ,manual_minima =None)#manual_minima =3.70\n",
    "\n",
    "\n",
    "#         labels = np.zeros(len(k)).astype(int)\n",
    "#         labels[k['pRB']>cutoff] = 1\n",
    "\n",
    "#         pickle_dump(f'Labels_{figname}', labels, dir_data)\n",
    "#     names = ['pRB_low','pRB_high']    \n",
    "#     try:\n",
    "#         labels = pickle_load(f'Labels_samp_arcsinh{j}_CellCycle_Based_', dir_data) \n",
    "        \n",
    "#         colors = draw_clusters(data = umapData.copy(),labels = labels,title='cutoff clusters',figname='cutoff_clusters',settings = settings,names =names.copy()) \n",
    "#     except:print('for clusters plot: change from -arcsin to processed data')\n",
    "      \n",
    "\n",
    "\n",
    "#     # k['Clust'] = [names[l] for l in labels]#labels\n",
    "#     # labels = None"
   ]
  },
  {
   "cell_type": "code",
   "execution_count": null,
   "metadata": {},
   "outputs": [],
   "source": []
  },
  {
   "cell_type": "markdown",
   "metadata": {},
   "source": [
    "kmeans"
   ]
  },
  {
   "cell_type": "code",
   "execution_count": null,
   "metadata": {
    "execution": {
     "iopub.execute_input": "2024-02-25T22:24:20.409937Z",
     "iopub.status.busy": "2024-02-25T22:24:20.409722Z",
     "iopub.status.idle": "2024-02-25T22:24:20.452356Z",
     "shell.execute_reply": "2024-02-25T22:24:20.451400Z"
    }
   },
   "outputs": [],
   "source": [
    "\n",
    "if config['isCellCycle'] and config['feautures_ind'] == 3:\n",
    "    from clustering_functions import *\n",
    "\n",
    "# if '.2a' in j and config['feautures_ind'] == 3:\n",
    "    if '_arcsinh' in config['j']:\n",
    "        print('arcsinh')\n",
    "        # high prb\n",
    "        labels = kmeans_fit(np.hstack ((umapData.copy(),df[[ 'pRB']].copy()))\n",
    "                            ,n_clusters=2,n_init=10,max_iter=300)\n",
    "        colors = draw_clusters(data = umapData.copy(),labels = labels,title='kmeans all clusters',figname='kmeans_all_clusters',settings = settings,\n",
    "                names =['pRB- ','pRB+']  )\n",
    "        ind,_ = highClust_ind(k['pRB'],labels)\n",
    "\n",
    "\n",
    "        # high CyclinB1\n",
    "        labels1 = kmeans_fit(df[['CyclinB1']].loc[ind].copy(),n_clusters=2,n_init=10,max_iter=300)\n",
    "        ind11,ind2 = highClust_ind(df.loc[ind]['CyclinB1'],labels1)\n",
    "        labels[ind11] = 2#labels1[ind2]+2\n",
    "\n",
    "        # high H3S28p\n",
    "        labels2 = kmeans_fit(df[['H3S28p']].loc[ind].copy(),n_clusters=2,n_init=10,max_iter=300)\n",
    "        ind12,ind2 = highClust_ind(df.loc[ind]['H3S28p'],labels2)\n",
    "        labels[ind12] = 3#labels2[ind2]+4\n",
    "\n",
    "        ind13= [i for i in ind12 if i not in ind11]\n",
    "        labels[ind13] = 4\n",
    "        \n",
    "    # load arcsin data\n",
    "      \n",
    "        colors = draw_clusters(data = umapData.copy(),labels = labels,title='kmeans all clusters',figname='kmeans_all_clusters',settings = settings,\n",
    "                names =['pRB+ not M&G2','pRB- (GO)','pRB+ G2','pRB+ M','pRB+ G2&M']  )\n",
    "    \n",
    "    \n",
    "        labels[ind12] = 2#labels2[ind2]+2\n",
    "        pickle_dump(f'kmeanLabels_{figname}', labels, dir_data)\n",
    "        # pickle_dump(f'kmeanColors_{figname}', colors, dir_data)\n",
    "        labels,labels2 = None,None\n",
    "    names =['not M&G2','pRB- (GO)','M&G2']\n",
    "    labels = pickle_load(f'kmeanLabels_samp_arcsinh14.2a_CellCycle_', dir_data) \n",
    "    colors = pickle_load(f'kmeanColors_samp_arcsinh14.2a_CellCycle_', dir_data)\n",
    "    colors = draw_clusters(data = umapData.copy(),labels = labels,title='kmeans all clusters',figname='kmeans_all_clusters1',settings = settings,\n",
    "                names =names)   \n",
    "    \n",
    "    k['Clust'] = [names[l] for l in labels]#labels\n",
    "\n"
   ]
  },
  {
   "cell_type": "code",
   "execution_count": null,
   "metadata": {
    "execution": {
     "iopub.execute_input": "2024-02-25T22:24:20.455904Z",
     "iopub.status.busy": "2024-02-25T22:24:20.455718Z",
     "iopub.status.idle": "2024-02-25T22:24:20.498614Z",
     "shell.execute_reply": "2024-02-25T22:24:20.497579Z"
    }
   },
   "outputs": [],
   "source": [
    "# from plot_functions import *\n",
    " \n",
    "# # colors = draw_kmeans(data = umapData.copy(),labels = labels,title='kmeans all clusters',figname='kmeans_all_clusters1',settings = settings,\n",
    "# #             names =names,crossLabels = [labels__,1,None])\n",
    "\n",
    "# for i in range (3):\n",
    "#     print(i)\n",
    "#     draw_kmeans(data = umapData.copy(),labels = labels,title='kmeans all clusters',figname='kmeans_all_clusters1',settings = settings,\n",
    "#             names =names,crossLabels = [labels__,1,i])\n",
    "\n"
   ]
  },
  {
   "attachments": {},
   "cell_type": "markdown",
   "metadata": {},
   "source": [
    "adjusted dataset\n"
   ]
  },
  {
   "cell_type": "code",
   "execution_count": null,
   "metadata": {
    "execution": {
     "iopub.execute_input": "2024-02-25T22:24:20.501953Z",
     "iopub.status.busy": "2024-02-25T22:24:20.501714Z",
     "iopub.status.idle": "2024-02-25T22:24:20.544078Z",
     "shell.execute_reply": "2024-02-25T22:24:20.543606Z"
    }
   },
   "outputs": [],
   "source": [
    "\n",
    "# from plot_functions import *\n",
    "    \n",
    "\n",
    "# # create_adjusted = True\n",
    "# if config['feautures_ind']==2 and config['create_adjusted']: #(  or ( '.2' in j))\n",
    "#     if ('b' in j and 'a' not in j):\n",
    "#         # remove -1 cluster\n",
    "#         indArr,idx_adj,idx_stroma = createAdjustedDataset(k,j,dbscanData, labels,core_samples_mask,settings,figname,\n",
    "#                             clustersToRemove=[],limits = (-1.8,None,None,None),drawFunc = drawDbscan,contained_samples = False)\n",
    "#         k = k.copy().reset_index(drop = True).loc[idx_adj];dbscanData, labels,core_samples_mask = dbscanData[idx_adj], labels[idx_adj],core_samples_mask[idx_adj]\n",
    "        \n",
    "#         indArr,idx_adj,idx_stroma = createAdjustedDataset(k,j,dbscanData, labels,core_samples_mask,settings,figname,\n",
    "#                             clustersToRemove=[],limits = (None,2,None,None),drawFunc = drawDbscan,contained_samples = True)\n",
    "#     elif ('.2' in j):\n",
    "#         # remove -1 cluster\n",
    "#         indArr,idx_adj,idx_stroma = createAdjustedDataset(k,j,dbscanData, labels,core_samples_mask,settings,figname,\n",
    "#                             clustersToRemove=[],limits = (-1,None,None,None),drawFunc = drawDbscan,contained_samples = False)\n",
    "        \n",
    "\n",
    "#     for kInd,ind in indArr.items():\n",
    "#         print(f'samp:{kInd}, len:{len(ind)}')     \n",
    "#         pickle_dump(f\"{kInd}_indexes\", ind,dir_index)\n",
    "                            \n",
    "#     for i,idx in zip(['a','s'],[idx_adj,idx_stroma]):\n",
    "#         kInd = f'{j}{i}'\n",
    "#         newK = k.copy().reset_index(drop = True).loc[idx]\n",
    "#         dict = None;dict ={}\n",
    "#         dict['k'] = newK.copy()\n",
    "#         pickle_dump(f'k{kInd}_dict', dict,dir_data)\n",
    "#         pickle_dump(f'k{kInd}_names_dict', names_dict,dir_data)\n",
    "#     # print(len(k))\n",
    "#     # print(len(newK))\n",
    "#     # k = newK.copy()\n",
    "#     # CAll = pd.concat([k.copy()])\n",
    "\n",
    "\n",
    "      \n",
    "#     indArr = None\n",
    "#     # K = pickle_load(f'k{sampNum_}_dict', dir_data)['k'].reset_index(drop=True)\n",
    "#     # ind_samp = [i for i, j in zip(k['ind'],k['samp'] == sampNum) if j]\n",
    "#     # ind_samp = [ K.index[K['ind']==i][0] for i in ind_samp ]\n",
    "#     # 7933\n"
   ]
  },
  {
   "attachments": {},
   "cell_type": "markdown",
   "metadata": {},
   "source": [
    "## HeatMap\n"
   ]
  },
  {
   "cell_type": "code",
   "execution_count": null,
   "metadata": {
    "execution": {
     "iopub.execute_input": "2024-02-25T22:24:20.546813Z",
     "iopub.status.busy": "2024-02-25T22:24:20.546636Z",
     "iopub.status.idle": "2024-02-25T22:24:20.637937Z",
     "shell.execute_reply": "2024-02-25T22:24:20.637469Z"
    }
   },
   "outputs": [],
   "source": [
    "from heatmap import *\n",
    "heatmaps = Heatmap(**config)#build class (either from MASTER or from here) using parent class containg the config data\n"
   ]
  },
  {
   "cell_type": "markdown",
   "metadata": {},
   "source": [
    "HeatMap by clusters\n"
   ]
  },
  {
   "cell_type": "code",
   "execution_count": null,
   "metadata": {},
   "outputs": [],
   "source": []
  },
  {
   "cell_type": "code",
   "execution_count": null,
   "metadata": {
    "execution": {
     "iopub.execute_input": "2024-02-25T22:24:20.640566Z",
     "iopub.status.busy": "2024-02-25T22:24:20.640359Z",
     "iopub.status.idle": "2024-02-25T22:24:23.990318Z",
     "shell.execute_reply": "2024-02-25T22:24:23.989851Z"
    }
   },
   "outputs": [],
   "source": [
    "for features_group in heatmaps.features_groups:# CellCycle features are present only in the '.2' data other wise only epigenetic and cellcycle features\n",
    "    heatmaps.plot(  df.copy(), labels.copy(),\n",
    "                    features = config['groups'][features_group].copy(),\n",
    "                    ind = list(df.index[labels != -1]),#remove unclustered -1\n",
    "                    title='HeatMap clusters -' + config['title'] + ': '+features_group,\n",
    "                    figname='3_HeatMap_clusters_'+config['figname']+'using_'+features_group,)\n",
    "    \n",
    "print('HeatMap by clusters - done')   \n"
   ]
  },
  {
   "cell_type": "markdown",
   "metadata": {},
   "source": [
    "HeatMap by sample"
   ]
  },
  {
   "cell_type": "code",
   "execution_count": null,
   "metadata": {
    "execution": {
     "iopub.execute_input": "2024-02-25T22:24:23.992918Z",
     "iopub.status.busy": "2024-02-25T22:24:23.992709Z",
     "iopub.status.idle": "2024-02-25T22:24:27.666152Z",
     "shell.execute_reply": "2024-02-25T22:24:27.665656Z"
    }
   },
   "outputs": [],
   "source": [
    "if not config['isSingleSample']:\n",
    "    for features_group in heatmaps.features_groups:# CellCycle features are present only in the '.2' data other wise only epigenetic and cellcycle features  \n",
    "        heatmaps.plot(  df.copy(), samples.copy(),\n",
    "                        features = config['groups'][features_group].copy(),\n",
    "                        # ind = list(df.index[labels != -1]),#remove unclustered -1\n",
    "                        title='HeatMap samples -' + config['title'] + ': '+features_group,\n",
    "                        figname='3_HeatMap_samples_'+config['figname']+'using_'+features_group,)\n",
    "        del features_group\n",
    "        print('HeatMap by sample - done')"
   ]
  },
  {
   "cell_type": "markdown",
   "metadata": {},
   "source": [
    "Heatmap by class"
   ]
  },
  {
   "cell_type": "code",
   "execution_count": null,
   "metadata": {},
   "outputs": [],
   "source": [
    "if not config['isSingleSample']:\n",
    "    for features_group in heatmaps.features_groups:# CellCycle features are present only in the '.2' data other wise only epigenetic and cellcycle features  \n",
    "        heatmaps.plot(  df.copy(), classes.copy(),\n",
    "                        features = config['groups'][features_group].copy(),\n",
    "                        # ind = list(df.index[labels != -1]),#remove unclustered -1\n",
    "                        title='HeatMap classes -' + config['title'] + ': '+features_group,\n",
    "                        figname='3_HeatMap_classes_'+config['figname']+'using_'+features_group,)\n",
    "        del features_group\n",
    "        print('HeatMap by sample - done')"
   ]
  },
  {
   "cell_type": "markdown",
   "metadata": {},
   "source": [
    "Heatmap by sample and class"
   ]
  },
  {
   "cell_type": "code",
   "execution_count": null,
   "metadata": {
    "execution": {
     "iopub.execute_input": "2024-02-25T22:24:27.668965Z",
     "iopub.status.busy": "2024-02-25T22:24:27.668787Z",
     "iopub.status.idle": "2024-02-25T22:24:39.578794Z",
     "shell.execute_reply": "2024-02-25T22:24:39.578328Z"
    }
   },
   "outputs": [],
   "source": [
    "# if not config['isSingleSample']:\n",
    "ind = classes.copy()[classes!='noise'][classes!='unknown'][classes!='classification_error'].index\n",
    "\n",
    "samp_class = Series(samples.astype(str)+'_'+classes.astype(str))\n",
    "heatmaps.pickle_dump(f'samp_class_{config[\"name\"]}', samp_class, config['save_add'])\n",
    "heatmaps.pickle_dump(f'classes_{config[\"name\"]}', classes, config['save_add'])\n",
    "heatmaps.pickle_dump(f'df_{config[\"name\"]}', df, config['save_add'])\n",
    "\n",
    "\n",
    "for features_group in heatmaps.features_groups:# CellCycle features are present only in the '.2' data other wise only epigenetic and cellcycle features\n",
    "    heatmaps.plot(  df.copy().loc[ind], samp_class.copy().loc[ind],features = config['groups'][features_group].copy(),\n",
    "                    # ind = list(df.index[labels != -1]),#remove unclustered -1\n",
    "                    title='HeatMap samples and class - ' + config['title'] + ': '+features_group,\n",
    "                        figname='3_HeatMap_samples_and_classes'+config['figname']+'using_'+features_group,)\n",
    "del samp_class,features_group, ind\n",
    "print('heatmap by sample and and class - done')\n"
   ]
  },
  {
   "cell_type": "markdown",
   "metadata": {},
   "source": [
    "todo: heatmap by comparing 11,stroma and rest of the cells (in heatmaps notebook)"
   ]
  },
  {
   "attachments": {},
   "cell_type": "markdown",
   "metadata": {},
   "source": [
    "MeanDist - in heatmaps notebook (currently not used)\n"
   ]
  },
  {
   "attachments": {},
   "cell_type": "markdown",
   "metadata": {},
   "source": [
    "## advance umap plots\n"
   ]
  },
  {
   "cell_type": "markdown",
   "metadata": {},
   "source": [
    "all samples by color in mutual umap figure \n",
    "\n",
    "(without anchor samples)"
   ]
  },
  {
   "cell_type": "code",
   "execution_count": null,
   "metadata": {
    "execution": {
     "iopub.execute_input": "2024-02-25T22:24:39.584785Z",
     "iopub.status.busy": "2024-02-25T22:24:39.584487Z",
     "iopub.status.idle": "2024-02-25T22:24:40.304153Z",
     "shell.execute_reply": "2024-02-25T22:24:40.303669Z"
    }
   },
   "outputs": [],
   "source": [
    "samples_without_repeats = samples.loc[~samples.copy().astype(str).str.contains('.1')]# drop anchor samples\n",
    "plot.labeled_umap(umapData,samples_without_repeats.copy(),colors = sample_colors(),\n",
    "                    title = f'{config[\"title\"]} UMAP - by_sample=ALL',\n",
    "                    figname='4_'+config[\"figname\"]+f'UMAP_sampleALL_by_sample')\n",
    "del samples_without_repeats\n",
    "print('UMAP all samples by color in mutual umap figure  - done')"
   ]
  },
  {
   "cell_type": "markdown",
   "metadata": {},
   "source": [
    "each single sample by color in mutual umap figure \n"
   ]
  },
  {
   "cell_type": "code",
   "execution_count": null,
   "metadata": {
    "execution": {
     "iopub.execute_input": "2024-02-25T22:24:40.307322Z",
     "iopub.status.busy": "2024-02-25T22:24:40.307088Z",
     "iopub.status.idle": "2024-02-25T22:24:45.433554Z",
     "shell.execute_reply": "2024-02-25T22:24:45.433123Z"
    }
   },
   "outputs": [],
   "source": [
    "for sampNum in sorted(samples.unique()):\n",
    "    single_sample = samples.loc[samples[samples == sampNum].index].copy()\n",
    "    plot.labeled_umap(umapData,single_sample.copy(),\n",
    "                        title = f'{config[\"title\"]} UMAP - by_sample={sampNum}',\n",
    "                        figname='4_'+config[\"figname\"]+f'UMAP_sample{sampNum}_by_sample')\n",
    "del single_sample\n",
    "print('UMAP by single sample in mutual umap figure  - done')"
   ]
  },
  {
   "cell_type": "markdown",
   "metadata": {},
   "source": [
    "each mutual cluster's samples by color in the mutual umap\n",
    "\n",
    "how a single cluster is with diffrent clusters"
   ]
  },
  {
   "cell_type": "code",
   "execution_count": null,
   "metadata": {
    "execution": {
     "iopub.execute_input": "2024-02-25T22:24:45.512337Z",
     "iopub.status.busy": "2024-02-25T22:24:45.512086Z",
     "iopub.status.idle": "2024-02-25T22:24:45.555383Z",
     "shell.execute_reply": "2024-02-25T22:24:45.554674Z"
    }
   },
   "outputs": [],
   "source": [
    "# for clustNum in sorted(labels.unique()):\n",
    "#     single_cluster_samples = samples.loc[labels[labels == clustNum].index].copy()\n",
    "#     plot.labeled_umap(umapData,single_cluster_samples.copy(),\n",
    "#                         title = f'{config[\"title\"]} UMAP - by_cluster={clustNum}',\n",
    "#                         figname='4_'+config[\"figname\"]+f'UMAP_cluster{clustNum}_by_sample')\n",
    "#     print('UMAP by mutual cluster samples  - done')\n",
    "# del single_cluster_samples\n",
    "# print('UMAP by mutual cluster samples  - done')"
   ]
  },
  {
   "attachments": {},
   "cell_type": "markdown",
   "metadata": {},
   "source": [
    "plot each single sample using its single sample clusters in mutual umap"
   ]
  },
  {
   "cell_type": "code",
   "execution_count": null,
   "metadata": {
    "execution": {
     "iopub.execute_input": "2024-02-25T22:24:45.558068Z",
     "iopub.status.busy": "2024-02-25T22:24:45.557849Z",
     "iopub.status.idle": "2024-02-25T22:24:52.136857Z",
     "shell.execute_reply": "2024-02-25T22:24:52.136192Z"
    }
   },
   "outputs": [],
   "source": [
    "# if config['visualize'] :#plot on adjusted\n",
    "if not config['isSingleSample']:\n",
    "\n",
    "    for sampNum in sorted(samples.loc[~samples.copy().astype(str).str.contains('.1')].unique()):# drop anchor samples:\n",
    "\n",
    "        single_sample_labels = sample_labels.loc[samples [samples== sampNum].index].copy()#clusters of specific sample\n",
    "        # plot.labeled_umap_by_sample(umapData,  single_sample_labels.copy(),\n",
    "        #                         title=config['title']+f' UMAP - by_sample={sampNum} clusters',\n",
    "        #                         figname='4_'+config['figname']+f'UMAP_sample{sampNum}_by_sample_clusters')\n",
    "        plot.labeled_umap(umapData,single_sample_labels.copy(),\n",
    "                                title=config['title']+f' UMAP - by_sample={sampNum} clusters',\n",
    "                                figname='4_'+config['figname']+f'UMAP_sample{sampNum}_by_sample_clusters')\n",
    "        del single_sample_labels,sampNum\n",
    "    print('single sample using its single sample clusters - done')"
   ]
  },
  {
   "cell_type": "markdown",
   "metadata": {},
   "source": [
    "each single samples classes in mutual umap\n"
   ]
  },
  {
   "cell_type": "code",
   "execution_count": null,
   "metadata": {
    "execution": {
     "iopub.execute_input": "2024-02-25T22:24:52.139520Z",
     "iopub.status.busy": "2024-02-25T22:24:52.139365Z",
     "iopub.status.idle": "2024-02-25T22:25:05.276394Z",
     "shell.execute_reply": "2024-02-25T22:25:05.275638Z"
    }
   },
   "outputs": [],
   "source": [
    "\n",
    "for sampNum in sorted(samples.unique()):\n",
    "    \n",
    "\n",
    "    single_sample_classes = classes.loc[samples [samples== sampNum].index].copy()#clusters of specific sample\n",
    "    plot.labeled_umap(umapData,single_sample_classes.copy(),colors = class_colors(),\n",
    "                        title=config['title']+f' UMAP - by_sample={sampNum} classes',\n",
    "                        figname='4_'+config['figname']+f'UMAP_sample{sampNum}_by_sample_classes_with_noise')\n",
    "    \n",
    "    # drop noise and unknowns\n",
    "    single_sample_classes = single_sample_classes[(single_sample_classes!='Noise')&(single_sample_classes!='Unknown')]\n",
    "\n",
    "\n",
    "    plot.labeled_umap(umapData,single_sample_classes.copy(),\n",
    "\n",
    "                            title=config['title']+f' UMAP - by_sample={sampNum} classes',colors = class_colors(),\n",
    "                            figname='4_'+config['figname']+f'UMAP_sample{sampNum}_by_sample_classes')\n",
    "del single_sample_classes\n",
    "    "
   ]
  },
  {
   "cell_type": "markdown",
   "metadata": {},
   "source": [
    "## Percentage"
   ]
  },
  {
   "cell_type": "markdown",
   "metadata": {},
   "source": [
    "class sample's percentage and sample class's percentage (inverse)"
   ]
  },
  {
   "cell_type": "code",
   "execution_count": null,
   "metadata": {},
   "outputs": [],
   "source": [
    "cluster_samples_probability(samples,classes,config,fname = 'samples_internal_classes_probability',cluster_type_name='sample')\n",
    "print(\"UMAP sample class's probability  - done\")\n",
    "if not config['isSingleSample']:# no meaning for single sample as \n",
    "    cluster_samples_probability(classes,samples,config,fname = 'classes_samples_probability',cluster_type_name='class')\n",
    "    print(\"UMAP class sample's probability  - done\")"
   ]
  },
  {
   "cell_type": "markdown",
   "metadata": {},
   "source": [
    "class cluster's percentage:\n",
    "    with noise class (noise of the batch clustering) \n",
    "    without noise class (noise of the batch clustering) i.e with cluster -1 which comes from each of the sampl's clustering\n",
    "cluster class's percentage (inverse)"
   ]
  },
  {
   "cell_type": "code",
   "execution_count": null,
   "metadata": {},
   "outputs": [],
   "source": [
    "cluster_samples_probability(labels,classes,config,fname = 'class_prob',cluster_type_name='cluster')\n",
    "\n",
    "cluster_samples_probability(labels[classes!='noise'],classes[classes!='noise'],config,fname = 'class_prob_without_noise',cluster_type_name='cluster')\n",
    "print(\"UMAP cluster classification's probability  - done\")\n",
    "   \n",
    "   \n",
    "cluster_samples_probability(classes,labels,config,fname = 'cluster_class_prob',cluster_type_name='class') "
   ]
  },
  {
   "cell_type": "markdown",
   "metadata": {},
   "source": [
    "sample cluster's percentage and cluster sample's percentage (inverse)"
   ]
  },
  {
   "cell_type": "code",
   "execution_count": null,
   "metadata": {},
   "outputs": [],
   "source": [
    "cluster_samples_probability(labels,samples,config,fname = 'cluster_samples_probability',cluster_type_name='cluster')\n",
    "cluster_samples_probability(samples,labels,config,fname = 'sample_cluster_probability',cluster_type_name='sample')\n",
    "\n",
    "print(\"UMAP cluster sample's probability  - done\")"
   ]
  },
  {
   "cell_type": "markdown",
   "metadata": {},
   "source": [
    "## cellcycle clustering"
   ]
  },
  {
   "cell_type": "markdown",
   "metadata": {},
   "source": [
    "pRb classes"
   ]
  },
  {
   "cell_type": "code",
   "execution_count": null,
   "metadata": {},
   "outputs": [],
   "source": [
    "if config['isCellCycle']:\n",
    "    c =  ['pRb-','pRb+']\n",
    "    # pRb = Series([c[i] for i in np.random.randint(0,len(c),len(df))],index = df.index)#random classes for testing\n",
    "\n",
    "    pRb = clustering.pickle_load(f\"Labels_samp_arcsinh{config['j']}_CellCycle_Based_\", config['dir_data'])\n",
    "    pRb = Series([c[i] for i in pRb])\n",
    "    del c\n",
    "    print(pRb)\n"
   ]
  },
  {
   "cell_type": "markdown",
   "metadata": {},
   "source": [
    "pRb vs clusters percentage and class vs pRb percentage (inverse)\n"
   ]
  },
  {
   "cell_type": "code",
   "execution_count": null,
   "metadata": {},
   "outputs": [],
   "source": [
    "\n",
    "    \n",
    "if config['isCellCycle']:\n",
    "\n",
    "    cluster_samples_probability(pRb,labels,config,fname = 'pRb_clusters_probability',cluster_type_name='')\n",
    "    print(\"pRb clusters's probability  - done\")\n",
    "\n",
    "    cluster_samples_probability(labels,pRb,config,fname = 'clusters_pRb_probability',cluster_type_name='cluster')\n",
    "    print(\"clusters pRb's probability  - done\")\n"
   ]
  },
  {
   "cell_type": "markdown",
   "metadata": {},
   "source": [
    "pRb vs class percentage and class vs pRb percentage (inverse)\n"
   ]
  },
  {
   "cell_type": "code",
   "execution_count": null,
   "metadata": {},
   "outputs": [],
   "source": [
    "if config['isCellCycle']:\n",
    "\n",
    "    cluster_samples_probability(pRb,classes,config,fname = 'pRb_classes_probability',cluster_type_name='')\n",
    "    print(\"pRb class's probability  - done\")\n",
    "\n",
    "    cluster_samples_probability(classes,pRb,config,fname = 'classes_pRb_probability',cluster_type_name='class')\n",
    "    print(\"class pRb's probability  - done\")"
   ]
  },
  {
   "cell_type": "markdown",
   "metadata": {},
   "source": [
    "pRb in umap\n"
   ]
  },
  {
   "cell_type": "code",
   "execution_count": null,
   "metadata": {},
   "outputs": [],
   "source": [
    "if config['isCellCycle']:\n",
    "\n",
    "    plot.labeled_umap(umapData,pRb.copy(),colors = class_colors(),\n",
    "                        title=config['title']+f'UMAP - by pRb',\n",
    "                        figname='4_'+config['figname']+f'UMAP_by_pRb')\n",
    "\n",
    "\n",
    "    "
   ]
  },
  {
   "cell_type": "markdown",
   "metadata": {},
   "source": [
    "heatmap pRb"
   ]
  },
  {
   "cell_type": "code",
   "execution_count": null,
   "metadata": {},
   "outputs": [],
   "source": [
    "if config['isCellCycle']:\n",
    "    for features_group in heatmaps.features_groups:# CellCycle features are present only in the '.2' data other wise only epigenetic and cellcycle features\n",
    "        heatmaps.plot(  df.copy(), pRb.copy(),\n",
    "                        features = config['groups'][features_group].copy(),\n",
    "                        ind = list(df.index[labels != -1]),#remove unclustered -1\n",
    "                        title='HeatMap clusters -' + config['title'] + ': '+features_group,\n",
    "                        figname='3_HeatMap_pRb_'+config['figname']+'using_'+features_group,)\n",
    "        \n",
    "    print('HeatMap by clusters - done')   \n"
   ]
  },
  {
   "cell_type": "code",
   "execution_count": null,
   "metadata": {
    "execution": {
     "iopub.execute_input": "2024-02-25T22:25:05.562827Z",
     "iopub.status.busy": "2024-02-25T22:25:05.562659Z",
     "iopub.status.idle": "2024-02-25T22:25:05.614048Z",
     "shell.execute_reply": "2024-02-25T22:25:05.613456Z"
    }
   },
   "outputs": [],
   "source": [
    "# %run cellcycle.ipynb"
   ]
  },
  {
   "cell_type": "markdown",
   "metadata": {},
   "source": [
    "## XGBClassifier fit, calculate metrics & shap"
   ]
  },
  {
   "cell_type": "code",
   "execution_count": null,
   "metadata": {},
   "outputs": [],
   "source": [
    "from metrics_and_dataset_utils import *  \n",
    "from xg_shap import Shap, fitXGBClassifier\n"
   ]
  },
  {
   "cell_type": "markdown",
   "metadata": {},
   "source": [
    "by cluster - currently not very interesting"
   ]
  },
  {
   "cell_type": "markdown",
   "metadata": {},
   "source": [
    "split into datasets - methods"
   ]
  },
  {
   "cell_type": "code",
   "execution_count": null,
   "metadata": {},
   "outputs": [],
   "source": [
    "X_train, X_test, y_train, y_test = createDataset(df[config['features']].copy(),samples.copy())\n",
    "# X_train, X_test, y_train, y_test = createDataset(df[config['features']].copy(),classes0.copy(),samples.copy(),train_samples = [  5,11,13,15,17,18,19,20],test_samples = [4,7,8,14] )\n",
    "# X_train, X_test, y_train, y_test = createDataset(df[config['features']].copy(),samples.copy(),samples.copy(),train_samples = [4.1],test_samples = [  4])"
   ]
  },
  {
   "cell_type": "markdown",
   "metadata": {},
   "source": [
    "create new classes: \n",
    "1. classes - ['Unknown' 'Noise' 'Cycling' 'Luminal' 'Basal-like']\n",
    "2. classes0 - ['Cycling' 'Luminal' 'Basal-like']\n",
    "2. classes1 - ['Cycling' 'Lum&Basal']\n",
    "3. classes2 - ['Luminal' 'Basal-like']"
   ]
  },
  {
   "cell_type": "code",
   "execution_count": null,
   "metadata": {},
   "outputs": [],
   "source": [
    "# classes0 = classes[('Basal-like' in classes.)].copy()"
   ]
  },
  {
   "cell_type": "code",
   "execution_count": null,
   "metadata": {},
   "outputs": [],
   "source": [
    "\n",
    "classes0 = classes[(classes=='Basal-like')|('Luminal' in classes)|(classes=='Cycling')].copy()\n",
    "classes1 = classes[(classes=='Basal-like')|(classes=='Luminal')|(classes=='Cycling')].copy()\n",
    "classes1[(classes=='Basal-like')|(classes=='Luminal')] = 'Lum&Basal'\n",
    "classes2 = classes[(classes=='Basal-like')|(classes=='Luminal')].copy()\n",
    "print(sorted(classes.unique()))\n",
    "print(sorted(classes0.unique()))\n",
    "print(sorted(classes1.unique()))\n",
    "print(sorted(classes2.unique()))"
   ]
  },
  {
   "cell_type": "markdown",
   "metadata": {},
   "source": [
    "original classes (all 3 & noise and unknown); XGBClassifier fit, calculate metrics & shap"
   ]
  },
  {
   "cell_type": "code",
   "execution_count": null,
   "metadata": {},
   "outputs": [],
   "source": [
    "if len(classes0.unique())>1: #more than 1 class\n",
    "    # drop df rows without label (drop points without label) and split randomly\n",
    "    X_train, X_test, y_train, y_test = createDataset(df[config['features']].copy(),classes0.copy(),LEN = 5000)\n",
    "    # X_train, X_test, y_train, y_test = createDataset(df[config['features']].copy(),classes0.copy(),samples.copy(),train_samples = [  5,11,13,15,17,18,19,20],test_samples = [4,7,8,14] )\n",
    "    model,label_encoder = fitXGBClassifier(X_train.copy(), y_train.copy())\n",
    "\n",
    "    # predict y_test_pred using X_test and inverse transform it back to the original class labels - compare y_test_pred results to y_test\n",
    "    accuracy = ClassificationMetrics(y_test,    Series(label_encoder.inverse_transform(model.predict(X_test))))\\\n",
    "                                    .plot_all(config['dir_plots'] +'5_'+ config['figname']+'using_'+'all_classes_')\n",
    "    print(f\"classes accuracy {config['j']}_{config['feautures_ind']}: {accuracy}%\")\n",
    "    Shap(**config).calculate(X_test,model,label_encoder,accuracy,colors = class_colors(),LEN = 1000,\n",
    "                            figname = '5_Shap_' + config['figname']+'using_'+'all_classes_')"
   ]
  },
  {
   "cell_type": "code",
   "execution_count": null,
   "metadata": {},
   "outputs": [],
   "source": []
  },
  {
   "cell_type": "markdown",
   "metadata": {},
   "source": [
    "Lum&Basal_vs_Cycling"
   ]
  },
  {
   "cell_type": "code",
   "execution_count": null,
   "metadata": {},
   "outputs": [],
   "source": [
    "if len(classes1.unique())>1: #more than 1 class\n",
    "    # drop df rows without label (drop points without label) and split randomly\n",
    "    X_train, X_test, y_train, y_test = createDataset(df[config['features']].copy(),classes1.copy(),LEN=5000)\n",
    "\n",
    "    model,label_encoder = fitXGBClassifier(X_train.copy(), y_train.copy())\n",
    "\n",
    "    # predict y_test_pred using X_test and inverse transform it back to the original class labels - compare y_test_pred results to y_test\n",
    "    accuracy = ClassificationMetrics(y_test,    Series(label_encoder.inverse_transform(model.predict(X_test))))\\\n",
    "                                    .plot_all(config['dir_plots'] + '5_'+config['figname']+'using_'+'Lum&Basal_vs_Cycling_')\n",
    "\n",
    "    Shap(**config).calculate(X_test,model,label_encoder,accuracy,colors = class_colors(),LEN = 1000,\n",
    "                            figname = '5_Shap_' + config['figname']+'using_'+'Lum&Basal_vs_Cycling_')\n",
    "    print(f\"classes accuracy {config['j']}_{config['feautures_ind']}: {accuracy}%\")\n"
   ]
  },
  {
   "cell_type": "markdown",
   "metadata": {},
   "source": [
    "Lum_vs_Basal"
   ]
  },
  {
   "cell_type": "code",
   "execution_count": null,
   "metadata": {},
   "outputs": [],
   "source": [
    "if len(classes2.unique())>1: #more than 1 class\n",
    "    # drop df rows without label (drop points without label) and split randomly\n",
    "    X_train, X_test, y_train, y_test = createDataset(df[config['features']].copy(),classes2.copy(),LEN=5000)\n",
    "\n",
    "    model,label_encoder = fitXGBClassifier(X_train.copy(), y_train.copy())\n",
    "\n",
    "    # predict y_test_pred using X_test and inverse transform it back to the original class labels - compare y_test_pred results to y_test\n",
    "    accuracy = ClassificationMetrics(y_test,    Series(label_encoder.inverse_transform(model.predict(X_test))))\\\n",
    "                                    .plot_all(config['dir_plots'] + '5_'+config['figname']+'using_'+'Lum_vs_Basal_')\n",
    "\n",
    "    Shap(**config).calculate(X_test,model,label_encoder,accuracy,colors = class_colors(),LEN = 1000,\n",
    "                            figname = '5_Shap_' + config['figname']+'using_'+'Lum_vs_Basal_')\n",
    "    print(f\"classes accuracy {config['j']}_{config['feautures_ind']}: {accuracy}%\")\n"
   ]
  },
  {
   "attachments": {},
   "cell_type": "markdown",
   "metadata": {},
   "source": [
    "## features analysis\n"
   ]
  },
  {
   "attachments": {},
   "cell_type": "markdown",
   "metadata": {},
   "source": [
    "plot features on umap "
   ]
  },
  {
   "cell_type": "code",
   "execution_count": null,
   "metadata": {
    "execution": {
     "iopub.execute_input": "2024-02-25T22:25:08.985943Z",
     "iopub.status.busy": "2024-02-25T22:25:08.985724Z",
     "iopub.status.idle": "2024-02-25T22:26:34.913441Z",
     "shell.execute_reply": "2024-02-25T22:26:34.912722Z"
    }
   },
   "outputs": [],
   "source": [
    "cols = config['groups']['NamesAll'].copy()\n",
    "# add non-mutual features to specific samples\n",
    "[(cols.append(feature) if (feature not in cols) and (feature in df.columns) else None)       for feature in ['CyclinB1', 'pRB','H3S28p','DNA2']]\n",
    "        \n",
    "\n",
    "# limits = np.hstack((np.floor([2*x for x in [umapData[:,0].min(),umapData[:,1].min()]])/2,\\\n",
    "#                     np.ceil([2*x for x in [umapData[:,0].max(),umapData[:,1].max()]])/2))\n",
    "plot.umap_by_feature(umapData.copy(),df.copy(), cols, #df.copy().loc[ind], config,#limits = limits,\n",
    "        title='UMAP ' + config[\"title\"],\n",
    "        figname='2_'+config[\"figname\"]+'UMAP_')\n",
    "\n",
    "plot.umap_by_feature(umapData.copy(),df.copy(), cols, ind = list(df.index[labels != -1]),#remove unclustered -1\n",
    "                        #df.copy().loc[ind], config,#limits = limits,\n",
    "        title='UMAP without -1' + config[\"title\"],\n",
    "        figname='2_'+config[\"figname\"]+'UMAP_without_unclustered(-1)_')\n",
    "del cols\n",
    "\n"
   ]
  },
  {
   "cell_type": "markdown",
   "metadata": {},
   "source": []
  },
  {
   "attachments": {},
   "cell_type": "markdown",
   "metadata": {},
   "source": [
    "\n",
    "scatter figures\n"
   ]
  },
  {
   "cell_type": "code",
   "execution_count": null,
   "metadata": {
    "execution": {
     "iopub.execute_input": "2024-02-25T22:26:34.916632Z",
     "iopub.status.busy": "2024-02-25T22:26:34.916347Z",
     "iopub.status.idle": "2024-02-25T22:26:34.956921Z",
     "shell.execute_reply": "2024-02-25T22:26:34.956266Z"
    }
   },
   "outputs": [],
   "source": [
    "# if config['visualize']:\n",
    "#     try:\n",
    "#         scatter(k, 'MBD', 'DNA2', title, figname, settings)\n",
    "#     except:\n",
    "#         print('wanted features not in sample')\n",
    "# # k.columns"
   ]
  },
  {
   "cell_type": "markdown",
   "metadata": {},
   "source": [
    "## finalize"
   ]
  },
  {
   "cell_type": "code",
   "execution_count": null,
   "metadata": {
    "ExecuteTime": {
     "end_time": "2023-01-16T21:13:44.860070Z",
     "start_time": "2023-01-16T21:13:44.809974Z"
    },
    "execution": {
     "iopub.execute_input": "2024-02-25T22:26:34.959669Z",
     "iopub.status.busy": "2024-02-25T22:26:34.959450Z",
     "iopub.status.idle": "2024-02-25T22:26:35.006881Z",
     "shell.execute_reply": "2024-02-25T22:26:35.006037Z"
    }
   },
   "outputs": [],
   "source": [
    "\n",
    "# imList2pdf(dir_plots,j,['CellIden','EpiCols','CellIden+EpiCols'])\n"
   ]
  }
 ],
 "metadata": {
  "kernelspec": {
   "display_name": "torch39",
   "language": "python",
   "name": "python3"
  },
  "language_info": {
   "codemirror_mode": {
    "name": "ipython",
    "version": 3
   },
   "file_extension": ".py",
   "mimetype": "text/x-python",
   "name": "python",
   "nbconvert_exporter": "python",
   "pygments_lexer": "ipython3",
   "version": "3.11.6"
  },
  "toc": {
   "base_numbering": 1,
   "nav_menu": {},
   "number_sections": true,
   "sideBar": true,
   "skip_h1_title": false,
   "title_cell": "Table of Contents",
   "title_sidebar": "Contents",
   "toc_cell": false,
   "toc_position": {},
   "toc_section_display": true,
   "toc_window_display": false
  },
  "varInspector": {
   "cols": {
    "lenName": 16,
    "lenType": 16,
    "lenVar": 40
   },
   "kernels_config": {
    "python": {
     "delete_cmd_postfix": "",
     "delete_cmd_prefix": "del ",
     "library": "var_list.py",
     "varRefreshCmd": "print(var_dic_list())"
    },
    "r": {
     "delete_cmd_postfix": ") ",
     "delete_cmd_prefix": "rm(",
     "library": "var_list.r",
     "varRefreshCmd": "cat(var_dic_list()) "
    }
   },
   "types_to_exclude": [
    "module",
    "function",
    "builtin_function_or_method",
    "instance",
    "_Feature"
   ],
   "window_display": false
  },
  "vscode": {
   "interpreter": {
    "hash": "25238166783bd3667da868d9e05a785eda3f5ca355f77ce9c051267fa7411fd2"
   }
  },
  "widgets": {
   "application/vnd.jupyter.widget-state+json": {
    "state": {
     "06f3414c4d5f457ab2e1dd774ba4c5e7": {
      "model_module": "@jupyter-widgets/base",
      "model_module_version": "1.2.0",
      "model_name": "LayoutModel",
      "state": {
       "_model_module": "@jupyter-widgets/base",
       "_model_module_version": "1.2.0",
       "_model_name": "LayoutModel",
       "_view_count": null,
       "_view_module": "@jupyter-widgets/base",
       "_view_module_version": "1.2.0",
       "_view_name": "LayoutView",
       "align_content": null,
       "align_items": null,
       "align_self": null,
       "border": null,
       "bottom": null,
       "display": null,
       "flex": null,
       "flex_flow": null,
       "grid_area": null,
       "grid_auto_columns": null,
       "grid_auto_flow": null,
       "grid_auto_rows": null,
       "grid_column": null,
       "grid_gap": null,
       "grid_row": null,
       "grid_template_areas": null,
       "grid_template_columns": null,
       "grid_template_rows": null,
       "height": null,
       "justify_content": null,
       "justify_items": null,
       "left": null,
       "margin": null,
       "max_height": null,
       "max_width": null,
       "min_height": null,
       "min_width": null,
       "object_fit": null,
       "object_position": null,
       "order": null,
       "overflow": null,
       "overflow_x": null,
       "overflow_y": null,
       "padding": null,
       "right": null,
       "top": null,
       "visibility": null,
       "width": null
      }
     },
     "0e308bf6b7e14767b7ca9b2f922109b6": {
      "model_module": "@jupyter-widgets/base",
      "model_module_version": "1.2.0",
      "model_name": "LayoutModel",
      "state": {
       "_model_module": "@jupyter-widgets/base",
       "_model_module_version": "1.2.0",
       "_model_name": "LayoutModel",
       "_view_count": null,
       "_view_module": "@jupyter-widgets/base",
       "_view_module_version": "1.2.0",
       "_view_name": "LayoutView",
       "align_content": null,
       "align_items": null,
       "align_self": null,
       "border": null,
       "bottom": null,
       "display": null,
       "flex": null,
       "flex_flow": null,
       "grid_area": null,
       "grid_auto_columns": null,
       "grid_auto_flow": null,
       "grid_auto_rows": null,
       "grid_column": null,
       "grid_gap": null,
       "grid_row": null,
       "grid_template_areas": null,
       "grid_template_columns": null,
       "grid_template_rows": null,
       "height": null,
       "justify_content": null,
       "justify_items": null,
       "left": null,
       "margin": null,
       "max_height": null,
       "max_width": null,
       "min_height": null,
       "min_width": null,
       "object_fit": null,
       "object_position": null,
       "order": null,
       "overflow": null,
       "overflow_x": null,
       "overflow_y": null,
       "padding": null,
       "right": null,
       "top": null,
       "visibility": null,
       "width": null
      }
     },
     "16b218ae6a1d42d6ba3bcd3cd51868f8": {
      "model_module": "@jupyter-widgets/controls",
      "model_module_version": "1.5.0",
      "model_name": "HTMLModel",
      "state": {
       "_dom_classes": [],
       "_model_module": "@jupyter-widgets/controls",
       "_model_module_version": "1.5.0",
       "_model_name": "HTMLModel",
       "_view_count": null,
       "_view_module": "@jupyter-widgets/controls",
       "_view_module_version": "1.5.0",
       "_view_name": "HTMLView",
       "description": "",
       "description_tooltip": null,
       "layout": "IPY_MODEL_aa45da7e6f8d4978bcad0c6964dcdb45",
       "placeholder": "​",
       "style": "IPY_MODEL_963d770fa92546d2a2fee9963eea7ed9",
       "value": ""
      }
     },
     "23ddbb67697740dd8427d88ad1de2907": {
      "model_module": "@jupyter-widgets/base",
      "model_module_version": "1.2.0",
      "model_name": "LayoutModel",
      "state": {
       "_model_module": "@jupyter-widgets/base",
       "_model_module_version": "1.2.0",
       "_model_name": "LayoutModel",
       "_view_count": null,
       "_view_module": "@jupyter-widgets/base",
       "_view_module_version": "1.2.0",
       "_view_name": "LayoutView",
       "align_content": null,
       "align_items": null,
       "align_self": null,
       "border": null,
       "bottom": null,
       "display": null,
       "flex": null,
       "flex_flow": null,
       "grid_area": null,
       "grid_auto_columns": null,
       "grid_auto_flow": null,
       "grid_auto_rows": null,
       "grid_column": null,
       "grid_gap": null,
       "grid_row": null,
       "grid_template_areas": null,
       "grid_template_columns": null,
       "grid_template_rows": null,
       "height": null,
       "justify_content": null,
       "justify_items": null,
       "left": null,
       "margin": null,
       "max_height": null,
       "max_width": null,
       "min_height": null,
       "min_width": null,
       "object_fit": null,
       "object_position": null,
       "order": null,
       "overflow": null,
       "overflow_x": null,
       "overflow_y": null,
       "padding": null,
       "right": null,
       "top": null,
       "visibility": null,
       "width": null
      }
     },
     "38a56b43ec4f4532a81de796e66e72d5": {
      "model_module": "@jupyter-widgets/base",
      "model_module_version": "1.2.0",
      "model_name": "LayoutModel",
      "state": {
       "_model_module": "@jupyter-widgets/base",
       "_model_module_version": "1.2.0",
       "_model_name": "LayoutModel",
       "_view_count": null,
       "_view_module": "@jupyter-widgets/base",
       "_view_module_version": "1.2.0",
       "_view_name": "LayoutView",
       "align_content": null,
       "align_items": null,
       "align_self": null,
       "border": null,
       "bottom": null,
       "display": null,
       "flex": null,
       "flex_flow": null,
       "grid_area": null,
       "grid_auto_columns": null,
       "grid_auto_flow": null,
       "grid_auto_rows": null,
       "grid_column": null,
       "grid_gap": null,
       "grid_row": null,
       "grid_template_areas": null,
       "grid_template_columns": null,
       "grid_template_rows": null,
       "height": null,
       "justify_content": null,
       "justify_items": null,
       "left": null,
       "margin": null,
       "max_height": null,
       "max_width": null,
       "min_height": null,
       "min_width": null,
       "object_fit": null,
       "object_position": null,
       "order": null,
       "overflow": null,
       "overflow_x": null,
       "overflow_y": null,
       "padding": null,
       "right": null,
       "top": null,
       "visibility": null,
       "width": null
      }
     },
     "427df8bd34524867883d56842e1e3206": {
      "model_module": "@jupyter-widgets/controls",
      "model_module_version": "1.5.0",
      "model_name": "HTMLModel",
      "state": {
       "_dom_classes": [],
       "_model_module": "@jupyter-widgets/controls",
       "_model_module_version": "1.5.0",
       "_model_name": "HTMLModel",
       "_view_count": null,
       "_view_module": "@jupyter-widgets/controls",
       "_view_module_version": "1.5.0",
       "_view_name": "HTMLView",
       "description": "",
       "description_tooltip": null,
       "layout": "IPY_MODEL_aa45da7e6f8d4978bcad0c6964dcdb45",
       "placeholder": "​",
       "style": "IPY_MODEL_963d770fa92546d2a2fee9963eea7ed9",
       "value": "Epochs completed: 100%| "
      }
     },
     "46cfb27490464fb9bb8bbb4736e996d4": {
      "model_module": "@jupyter-widgets/controls",
      "model_module_version": "1.5.0",
      "model_name": "HBoxModel",
      "state": {
       "_dom_classes": [],
       "_model_module": "@jupyter-widgets/controls",
       "_model_module_version": "1.5.0",
       "_model_name": "HBoxModel",
       "_view_count": null,
       "_view_module": "@jupyter-widgets/controls",
       "_view_module_version": "1.5.0",
       "_view_name": "HBoxView",
       "box_style": "",
       "children": [
        "IPY_MODEL_427df8bd34524867883d56842e1e3206",
        "IPY_MODEL_57d7b943af584f85910737c463e86a22",
        "IPY_MODEL_fee3a2bc0026498caeed56ad392aa786"
       ],
       "layout": "IPY_MODEL_23ddbb67697740dd8427d88ad1de2907"
      }
     },
     "57d7b943af584f85910737c463e86a22": {
      "model_module": "@jupyter-widgets/controls",
      "model_module_version": "1.5.0",
      "model_name": "FloatProgressModel",
      "state": {
       "_dom_classes": [],
       "_model_module": "@jupyter-widgets/controls",
       "_model_module_version": "1.5.0",
       "_model_name": "FloatProgressModel",
       "_view_count": null,
       "_view_module": "@jupyter-widgets/controls",
       "_view_module_version": "1.5.0",
       "_view_name": "ProgressView",
       "bar_style": "success",
       "description": "",
       "description_tooltip": null,
       "layout": "IPY_MODEL_d4a865f2f6c148269ed582fb91283abe",
       "max": 200,
       "min": 0,
       "orientation": "horizontal",
       "style": "IPY_MODEL_625b7d51d5cb411dafd11d646d716ad7",
       "value": 200
      }
     },
     "625b7d51d5cb411dafd11d646d716ad7": {
      "model_module": "@jupyter-widgets/controls",
      "model_module_version": "1.5.0",
      "model_name": "ProgressStyleModel",
      "state": {
       "_model_module": "@jupyter-widgets/controls",
       "_model_module_version": "1.5.0",
       "_model_name": "ProgressStyleModel",
       "_view_count": null,
       "_view_module": "@jupyter-widgets/base",
       "_view_module_version": "1.2.0",
       "_view_name": "StyleView",
       "bar_color": null,
       "description_width": ""
      }
     },
     "6fa86c373c244ff083ddc97daa29d88c": {
      "model_module": "@jupyter-widgets/base",
      "model_module_version": "1.2.0",
      "model_name": "LayoutModel",
      "state": {
       "_model_module": "@jupyter-widgets/base",
       "_model_module_version": "1.2.0",
       "_model_name": "LayoutModel",
       "_view_count": null,
       "_view_module": "@jupyter-widgets/base",
       "_view_module_version": "1.2.0",
       "_view_name": "LayoutView",
       "align_content": null,
       "align_items": null,
       "align_self": null,
       "border": null,
       "bottom": null,
       "display": null,
       "flex": null,
       "flex_flow": null,
       "grid_area": null,
       "grid_auto_columns": null,
       "grid_auto_flow": null,
       "grid_auto_rows": null,
       "grid_column": null,
       "grid_gap": null,
       "grid_row": null,
       "grid_template_areas": null,
       "grid_template_columns": null,
       "grid_template_rows": null,
       "height": null,
       "justify_content": null,
       "justify_items": null,
       "left": null,
       "margin": null,
       "max_height": null,
       "max_width": null,
       "min_height": null,
       "min_width": null,
       "object_fit": null,
       "object_position": null,
       "order": null,
       "overflow": null,
       "overflow_x": null,
       "overflow_y": null,
       "padding": null,
       "right": null,
       "top": null,
       "visibility": null,
       "width": null
      }
     },
     "949c7d826b77466abe9f4a1b121983c4": {
      "model_module": "@jupyter-widgets/controls",
      "model_module_version": "1.5.0",
      "model_name": "HBoxModel",
      "state": {
       "_dom_classes": [],
       "_model_module": "@jupyter-widgets/controls",
       "_model_module_version": "1.5.0",
       "_model_name": "HBoxModel",
       "_view_count": null,
       "_view_module": "@jupyter-widgets/controls",
       "_view_module_version": "1.5.0",
       "_view_name": "HBoxView",
       "box_style": "",
       "children": [
        "IPY_MODEL_427df8bd34524867883d56842e1e3206",
        "IPY_MODEL_57d7b943af584f85910737c463e86a22",
        "IPY_MODEL_fee3a2bc0026498caeed56ad392aa786"
       ],
       "layout": "IPY_MODEL_23ddbb67697740dd8427d88ad1de2907"
      }
     },
     "95ea8ad6033d42f8a92123fe913b196c": {
      "model_module": "@jupyter-widgets/controls",
      "model_module_version": "1.5.0",
      "model_name": "DescriptionStyleModel",
      "state": {
       "_model_module": "@jupyter-widgets/controls",
       "_model_module_version": "1.5.0",
       "_model_name": "DescriptionStyleModel",
       "_view_count": null,
       "_view_module": "@jupyter-widgets/base",
       "_view_module_version": "1.2.0",
       "_view_name": "StyleView",
       "description_width": ""
      }
     },
     "963d770fa92546d2a2fee9963eea7ed9": {
      "model_module": "@jupyter-widgets/controls",
      "model_module_version": "1.5.0",
      "model_name": "DescriptionStyleModel",
      "state": {
       "_model_module": "@jupyter-widgets/controls",
       "_model_module_version": "1.5.0",
       "_model_name": "DescriptionStyleModel",
       "_view_count": null,
       "_view_module": "@jupyter-widgets/base",
       "_view_module_version": "1.2.0",
       "_view_name": "StyleView",
       "description_width": ""
      }
     },
     "aa45da7e6f8d4978bcad0c6964dcdb45": {
      "model_module": "@jupyter-widgets/base",
      "model_module_version": "1.2.0",
      "model_name": "LayoutModel",
      "state": {
       "_model_module": "@jupyter-widgets/base",
       "_model_module_version": "1.2.0",
       "_model_name": "LayoutModel",
       "_view_count": null,
       "_view_module": "@jupyter-widgets/base",
       "_view_module_version": "1.2.0",
       "_view_name": "LayoutView",
       "align_content": null,
       "align_items": null,
       "align_self": null,
       "border": null,
       "bottom": null,
       "display": null,
       "flex": null,
       "flex_flow": null,
       "grid_area": null,
       "grid_auto_columns": null,
       "grid_auto_flow": null,
       "grid_auto_rows": null,
       "grid_column": null,
       "grid_gap": null,
       "grid_row": null,
       "grid_template_areas": null,
       "grid_template_columns": null,
       "grid_template_rows": null,
       "height": null,
       "justify_content": null,
       "justify_items": null,
       "left": null,
       "margin": null,
       "max_height": null,
       "max_width": null,
       "min_height": null,
       "min_width": null,
       "object_fit": null,
       "object_position": null,
       "order": null,
       "overflow": null,
       "overflow_x": null,
       "overflow_y": null,
       "padding": null,
       "right": null,
       "top": null,
       "visibility": null,
       "width": null
      }
     },
     "aad6dc98a1ed4bb197b6a981b548ccd6": {
      "model_module": "@jupyter-widgets/controls",
      "model_module_version": "1.5.0",
      "model_name": "FloatProgressModel",
      "state": {
       "_dom_classes": [],
       "_model_module": "@jupyter-widgets/controls",
       "_model_module_version": "1.5.0",
       "_model_name": "FloatProgressModel",
       "_view_count": null,
       "_view_module": "@jupyter-widgets/controls",
       "_view_module_version": "1.5.0",
       "_view_name": "ProgressView",
       "bar_style": "",
       "description": "",
       "description_tooltip": null,
       "layout": "IPY_MODEL_d4a865f2f6c148269ed582fb91283abe",
       "max": 200,
       "min": 0,
       "orientation": "horizontal",
       "style": "IPY_MODEL_625b7d51d5cb411dafd11d646d716ad7",
       "value": 0
      }
     },
     "b9a850f8718b42ba970dadbbcafa7e2a": {
      "model_module": "@jupyter-widgets/controls",
      "model_module_version": "1.5.0",
      "model_name": "ProgressStyleModel",
      "state": {
       "_model_module": "@jupyter-widgets/controls",
       "_model_module_version": "1.5.0",
       "_model_name": "ProgressStyleModel",
       "_view_count": null,
       "_view_module": "@jupyter-widgets/base",
       "_view_module_version": "1.2.0",
       "_view_name": "StyleView",
       "bar_color": null,
       "description_width": ""
      }
     },
     "cfd5aba4761e4aac8a6a4e8e0492bdf9": {
      "model_module": "@jupyter-widgets/controls",
      "model_module_version": "1.5.0",
      "model_name": "HTMLModel",
      "state": {
       "_dom_classes": [],
       "_model_module": "@jupyter-widgets/controls",
       "_model_module_version": "1.5.0",
       "_model_name": "HTMLModel",
       "_view_count": null,
       "_view_module": "@jupyter-widgets/controls",
       "_view_module_version": "1.5.0",
       "_view_name": "HTMLView",
       "description": "",
       "description_tooltip": null,
       "layout": "IPY_MODEL_06f3414c4d5f457ab2e1dd774ba4c5e7",
       "placeholder": "​",
       "style": "IPY_MODEL_f058f060d3d9425d9e6e9690972c9f72",
       "value": ""
      }
     },
     "d4a865f2f6c148269ed582fb91283abe": {
      "model_module": "@jupyter-widgets/base",
      "model_module_version": "1.2.0",
      "model_name": "LayoutModel",
      "state": {
       "_model_module": "@jupyter-widgets/base",
       "_model_module_version": "1.2.0",
       "_model_name": "LayoutModel",
       "_view_count": null,
       "_view_module": "@jupyter-widgets/base",
       "_view_module_version": "1.2.0",
       "_view_name": "LayoutView",
       "align_content": null,
       "align_items": null,
       "align_self": null,
       "border": null,
       "bottom": null,
       "display": null,
       "flex": null,
       "flex_flow": null,
       "grid_area": null,
       "grid_auto_columns": null,
       "grid_auto_flow": null,
       "grid_auto_rows": null,
       "grid_column": null,
       "grid_gap": null,
       "grid_row": null,
       "grid_template_areas": null,
       "grid_template_columns": null,
       "grid_template_rows": null,
       "height": null,
       "justify_content": null,
       "justify_items": null,
       "left": null,
       "margin": null,
       "max_height": null,
       "max_width": null,
       "min_height": null,
       "min_width": null,
       "object_fit": null,
       "object_position": null,
       "order": null,
       "overflow": null,
       "overflow_x": null,
       "overflow_y": null,
       "padding": null,
       "right": null,
       "top": null,
       "visibility": null,
       "width": null
      }
     },
     "d5769f486e444416a006125b986d1e9f": {
      "model_module": "@jupyter-widgets/controls",
      "model_module_version": "1.5.0",
      "model_name": "DescriptionStyleModel",
      "state": {
       "_model_module": "@jupyter-widgets/controls",
       "_model_module_version": "1.5.0",
       "_model_name": "DescriptionStyleModel",
       "_view_count": null,
       "_view_module": "@jupyter-widgets/base",
       "_view_module_version": "1.2.0",
       "_view_name": "StyleView",
       "description_width": ""
      }
     },
     "f058f060d3d9425d9e6e9690972c9f72": {
      "model_module": "@jupyter-widgets/controls",
      "model_module_version": "1.5.0",
      "model_name": "DescriptionStyleModel",
      "state": {
       "_model_module": "@jupyter-widgets/controls",
       "_model_module_version": "1.5.0",
       "_model_name": "DescriptionStyleModel",
       "_view_count": null,
       "_view_module": "@jupyter-widgets/base",
       "_view_module_version": "1.2.0",
       "_view_name": "StyleView",
       "description_width": ""
      }
     },
     "f68112b4b5b94e1691a2c745051ef98e": {
      "model_module": "@jupyter-widgets/base",
      "model_module_version": "1.2.0",
      "model_name": "LayoutModel",
      "state": {
       "_model_module": "@jupyter-widgets/base",
       "_model_module_version": "1.2.0",
       "_model_name": "LayoutModel",
       "_view_count": null,
       "_view_module": "@jupyter-widgets/base",
       "_view_module_version": "1.2.0",
       "_view_name": "LayoutView",
       "align_content": null,
       "align_items": null,
       "align_self": null,
       "border": null,
       "bottom": null,
       "display": null,
       "flex": null,
       "flex_flow": null,
       "grid_area": null,
       "grid_auto_columns": null,
       "grid_auto_flow": null,
       "grid_auto_rows": null,
       "grid_column": null,
       "grid_gap": null,
       "grid_row": null,
       "grid_template_areas": null,
       "grid_template_columns": null,
       "grid_template_rows": null,
       "height": null,
       "justify_content": null,
       "justify_items": null,
       "left": null,
       "margin": null,
       "max_height": null,
       "max_width": null,
       "min_height": null,
       "min_width": null,
       "object_fit": null,
       "object_position": null,
       "order": null,
       "overflow": null,
       "overflow_x": null,
       "overflow_y": null,
       "padding": null,
       "right": null,
       "top": null,
       "visibility": null,
       "width": null
      }
     },
     "fee3a2bc0026498caeed56ad392aa786": {
      "model_module": "@jupyter-widgets/controls",
      "model_module_version": "1.5.0",
      "model_name": "HTMLModel",
      "state": {
       "_dom_classes": [],
       "_model_module": "@jupyter-widgets/controls",
       "_model_module_version": "1.5.0",
       "_model_name": "HTMLModel",
       "_view_count": null,
       "_view_module": "@jupyter-widgets/controls",
       "_view_module_version": "1.5.0",
       "_view_name": "HTMLView",
       "description": "",
       "description_tooltip": null,
       "layout": "IPY_MODEL_06f3414c4d5f457ab2e1dd774ba4c5e7",
       "placeholder": "​",
       "style": "IPY_MODEL_f058f060d3d9425d9e6e9690972c9f72",
       "value": " 200/200 [00:05]"
      }
     }
    },
    "version_major": 2,
    "version_minor": 0
   }
  }
 },
 "nbformat": 4,
 "nbformat_minor": 4
}
