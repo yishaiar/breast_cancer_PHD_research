{
 "cells": [
  {
   "cell_type": "code",
   "execution_count": 1,
   "metadata": {},
   "outputs": [],
   "source": [
    "\n",
    "\n",
    "   \n",
    "# def split(arr,size=5):\n",
    "#     arr_,arr1=[],[]\n",
    "#     for i,cell in enumerate(arr):\n",
    "#         arr_.append(cell)\n",
    "#         if i%size==4 or i==len(arr)-1:\n",
    "#             arr1.append(arr_)\n",
    "#             arr_=[]\n",
    "        \n",
    "        \n",
    "\n",
    "#     return arr1        \n",
    "# def iter_samples(samples,data='data'):               \n",
    "#     arr=[]\n",
    "#     for add in [data]:\n",
    "#         # for group_ind in [0,1,2]:\n",
    "#         for group_ind in [2]:\n",
    "#             for j in samples:\n",
    "#                 # j += 'a'\n",
    "#                 arr.append([j,group_ind,add,args])\n",
    "#     return arr\n",
    "# # Run the notebook with different arguments\n",
    "\n",
    "# args = {\n",
    "#         # create visualization (umap, dbscan are always shown)\n",
    "#         'visualize':True,'plotUMAP' : True,\n",
    "#         # show figures in notebook\n",
    "#         'show' : True, 'saveSVG' :False,\n",
    "#         # calculate umap\n",
    "#         'calc_umap' : False\n",
    "#         }\n",
    "\n",
    "# samples = [\n",
    "#             '7.1a','13a','14a','15a','17a','18a','19a','20a',\n",
    "#             '4a','4.1a','5a','7a','8a','11a',\n",
    "#             '8.1a',\n",
    "#             ]\n",
    "\n",
    "\n",
    "# for batch in split(iter_samples(samples,data = 'Data_'),size=5):\n",
    "#     pArr=[]\n",
    "#     for j,group_ind,add,args in batch:\n",
    "#         print(f'started: j = {j} ,group_ind: {group_ind}, address: {add}')\n",
    "#         p = run_notebook_paralel('samples_all.ipynb',args)\n",
    "#         pArr.append(p)\n",
    "#     # [p.communicate() for p in pArr]\n",
    "#     # [p.terminate() for p in pArr]\n",
    "#     # for ind,[j,group_ind,add,args] in enumerate(batch):\n",
    "#     #     print(f'finished: j = {j} ,group_ind: {group_ind}, address: {add}')"
   ]
  },
  {
   "cell_type": "code",
   "execution_count": 2,
   "metadata": {},
   "outputs": [],
   "source": [
    "PYDEVD_DISABLE_FILE_VALIDATION=1"
   ]
  },
  {
   "cell_type": "code",
   "execution_count": 3,
   "metadata": {},
   "outputs": [
    {
     "name": "stdout",
     "output_type": "stream",
     "text": [
      "1 - started: {'j': '7.1a', 'feautures_ind': 2, 'data_folder': 'Data_', 'show': True, 'saveSVG': False, 'recalculate_umap': False, 'recalculate_db': False, 'create_adjusted': False, 'compare': False}\n",
      "2 - started: {'j': '13a', 'feautures_ind': 2, 'data_folder': 'Data_', 'show': True, 'saveSVG': False, 'recalculate_umap': False, 'recalculate_db': False, 'create_adjusted': False, 'compare': False}\n"
     ]
    },
    {
     "name": "stderr",
     "output_type": "stream",
     "text": [
      "[NbConvertApp] Converting notebook _main.ipynb to notebook\n",
      "0.00s - Debugger warning: It seems that frozen modules are being used, which may\n",
      "0.00s - make the debugger miss breakpoints. Please pass -Xfrozen_modules=off\n",
      "0.00s - to python to disable frozen modules.\n",
      "0.00s - Note: Debugging will proceed. Set PYDEVD_DISABLE_FILE_VALIDATION=1 to disable this validation.\n",
      "0.00s - Debugger warning: It seems that frozen modules are being used, which may\n",
      "0.00s - make the debugger miss breakpoints. Please pass -Xfrozen_modules=off\n",
      "0.00s - to python to disable frozen modules.\n",
      "0.00s - Note: Debugging will proceed. Set PYDEVD_DISABLE_FILE_VALIDATION=1 to disable this validation.\n"
     ]
    },
    {
     "name": "stdout",
     "output_type": "stream",
     "text": [
      "--------------------\n",
      "finished: {'j': '7.1a', 'feautures_ind': 2, 'data_folder': 'Data_', 'show': True, 'saveSVG': False, 'recalculate_umap': False, 'recalculate_db': False, 'create_adjusted': False, 'compare': False}\n",
      "finished: {'j': '13a', 'feautures_ind': 2, 'data_folder': 'Data_', 'show': True, 'saveSVG': False, 'recalculate_umap': False, 'recalculate_db': False, 'create_adjusted': False, 'compare': False}\n",
      "--------------------\n",
      "3 - started: {'j': '14a', 'feautures_ind': 2, 'data_folder': 'Data_', 'show': True, 'saveSVG': False, 'recalculate_umap': False, 'recalculate_db': False, 'create_adjusted': False, 'compare': False}\n"
     ]
    },
    {
     "name": "stderr",
     "output_type": "stream",
     "text": [
      "[NbConvertApp] Converting notebook _main.ipynb to notebook\n",
      "0.00s - Debugger warning: It seems that frozen modules are being used, which may\n",
      "0.00s - make the debugger miss breakpoints. Please pass -Xfrozen_modules=off\n",
      "0.00s - to python to disable frozen modules.\n",
      "0.00s - Note: Debugging will proceed. Set PYDEVD_DISABLE_FILE_VALIDATION=1 to disable this validation.\n",
      "0.00s - Debugger warning: It seems that frozen modules are being used, which may\n",
      "0.00s - make the debugger miss breakpoints. Please pass -Xfrozen_modules=off\n",
      "0.00s - to python to disable frozen modules.\n",
      "0.00s - Note: Debugging will proceed. Set PYDEVD_DISABLE_FILE_VALIDATION=1 to disable this validation.\n"
     ]
    },
    {
     "name": "stdout",
     "output_type": "stream",
     "text": [
      "4 - started: {'j': '15a', 'feautures_ind': 2, 'data_folder': 'Data_', 'show': True, 'saveSVG': False, 'recalculate_umap': False, 'recalculate_db': False, 'create_adjusted': False, 'compare': False}\n"
     ]
    },
    {
     "name": "stderr",
     "output_type": "stream",
     "text": [
      "[NbConvertApp] Converting notebook _main.ipynb to notebook\n",
      "0.00s - Debugger warning: It seems that frozen modules are being used, which may\n",
      "0.00s - make the debugger miss breakpoints. Please pass -Xfrozen_modules=off\n",
      "0.00s - to python to disable frozen modules.\n",
      "0.00s - Note: Debugging will proceed. Set PYDEVD_DISABLE_FILE_VALIDATION=1 to disable this validation.\n",
      "0.00s - Debugger warning: It seems that frozen modules are being used, which may\n",
      "0.00s - make the debugger miss breakpoints. Please pass -Xfrozen_modules=off\n",
      "0.00s - to python to disable frozen modules.\n",
      "0.00s - Note: Debugging will proceed. Set PYDEVD_DISABLE_FILE_VALIDATION=1 to disable this validation.\n",
      "[NbConvertApp] Writing 15379789 bytes to _main.ipynb\n"
     ]
    },
    {
     "name": "stdout",
     "output_type": "stream",
     "text": [
      "--------------------\n",
      "finished: {'j': '14a', 'feautures_ind': 2, 'data_folder': 'Data_', 'show': True, 'saveSVG': False, 'recalculate_umap': False, 'recalculate_db': False, 'create_adjusted': False, 'compare': False}\n",
      "finished: {'j': '15a', 'feautures_ind': 2, 'data_folder': 'Data_', 'show': True, 'saveSVG': False, 'recalculate_umap': False, 'recalculate_db': False, 'create_adjusted': False, 'compare': False}\n",
      "--------------------\n",
      "5 - started: {'j': '17a', 'feautures_ind': 2, 'data_folder': 'Data_', 'show': True, 'saveSVG': False, 'recalculate_umap': False, 'recalculate_db': False, 'create_adjusted': False, 'compare': False}\n"
     ]
    },
    {
     "name": "stderr",
     "output_type": "stream",
     "text": [
      "[NbConvertApp] Converting notebook _main.ipynb to notebook\n",
      "0.00s - Debugger warning: It seems that frozen modules are being used, which may\n",
      "0.00s - make the debugger miss breakpoints. Please pass -Xfrozen_modules=off\n",
      "0.00s - to python to disable frozen modules.\n",
      "0.00s - Note: Debugging will proceed. Set PYDEVD_DISABLE_FILE_VALIDATION=1 to disable this validation.\n",
      "0.00s - Debugger warning: It seems that frozen modules are being used, which may\n",
      "0.00s - make the debugger miss breakpoints. Please pass -Xfrozen_modules=off\n",
      "0.00s - to python to disable frozen modules.\n",
      "0.00s - Note: Debugging will proceed. Set PYDEVD_DISABLE_FILE_VALIDATION=1 to disable this validation.\n",
      "[NbConvertApp] Writing 14708148 bytes to _main.ipynb\n"
     ]
    },
    {
     "name": "stdout",
     "output_type": "stream",
     "text": [
      "6 - started: {'j': '18a', 'feautures_ind': 2, 'data_folder': 'Data_', 'show': True, 'saveSVG': False, 'recalculate_umap': False, 'recalculate_db': False, 'create_adjusted': False, 'compare': False}\n"
     ]
    },
    {
     "name": "stderr",
     "output_type": "stream",
     "text": [
      "[NbConvertApp] Converting notebook _main.ipynb to notebook\n",
      "0.00s - Debugger warning: It seems that frozen modules are being used, which may\n",
      "0.00s - make the debugger miss breakpoints. Please pass -Xfrozen_modules=off\n",
      "0.00s - to python to disable frozen modules.\n",
      "0.00s - Note: Debugging will proceed. Set PYDEVD_DISABLE_FILE_VALIDATION=1 to disable this validation.\n",
      "0.00s - Debugger warning: It seems that frozen modules are being used, which may\n",
      "0.00s - make the debugger miss breakpoints. Please pass -Xfrozen_modules=off\n",
      "0.00s - to python to disable frozen modules.\n",
      "0.00s - Note: Debugging will proceed. Set PYDEVD_DISABLE_FILE_VALIDATION=1 to disable this validation.\n",
      "[NbConvertApp] Writing 13327804 bytes to _main.ipynb\n"
     ]
    },
    {
     "name": "stdout",
     "output_type": "stream",
     "text": [
      "--------------------\n",
      "finished: {'j': '17a', 'feautures_ind': 2, 'data_folder': 'Data_', 'show': True, 'saveSVG': False, 'recalculate_umap': False, 'recalculate_db': False, 'create_adjusted': False, 'compare': False}\n",
      "finished: {'j': '18a', 'feautures_ind': 2, 'data_folder': 'Data_', 'show': True, 'saveSVG': False, 'recalculate_umap': False, 'recalculate_db': False, 'create_adjusted': False, 'compare': False}\n",
      "--------------------\n",
      "7 - started: {'j': '19a', 'feautures_ind': 2, 'data_folder': 'Data_', 'show': True, 'saveSVG': False, 'recalculate_umap': False, 'recalculate_db': False, 'create_adjusted': False, 'compare': False}\n"
     ]
    },
    {
     "name": "stderr",
     "output_type": "stream",
     "text": [
      "[NbConvertApp] Converting notebook _main.ipynb to notebook\n",
      "0.00s - Debugger warning: It seems that frozen modules are being used, which may\n",
      "0.00s - make the debugger miss breakpoints. Please pass -Xfrozen_modules=off\n",
      "0.00s - to python to disable frozen modules.\n",
      "0.00s - Note: Debugging will proceed. Set PYDEVD_DISABLE_FILE_VALIDATION=1 to disable this validation.\n",
      "0.00s - Debugger warning: It seems that frozen modules are being used, which may\n",
      "0.00s - make the debugger miss breakpoints. Please pass -Xfrozen_modules=off\n",
      "0.00s - to python to disable frozen modules.\n",
      "0.00s - Note: Debugging will proceed. Set PYDEVD_DISABLE_FILE_VALIDATION=1 to disable this validation.\n",
      "[NbConvertApp] Writing 13490382 bytes to _main.ipynb\n"
     ]
    },
    {
     "name": "stdout",
     "output_type": "stream",
     "text": [
      "8 - started: {'j': '20a', 'feautures_ind': 2, 'data_folder': 'Data_', 'show': True, 'saveSVG': False, 'recalculate_umap': False, 'recalculate_db': False, 'create_adjusted': False, 'compare': False}\n"
     ]
    },
    {
     "name": "stderr",
     "output_type": "stream",
     "text": [
      "[NbConvertApp] Converting notebook _main.ipynb to notebook\n",
      "0.00s - Debugger warning: It seems that frozen modules are being used, which may\n",
      "0.00s - make the debugger miss breakpoints. Please pass -Xfrozen_modules=off\n",
      "0.00s - to python to disable frozen modules.\n",
      "0.00s - Note: Debugging will proceed. Set PYDEVD_DISABLE_FILE_VALIDATION=1 to disable this validation.\n",
      "0.00s - Debugger warning: It seems that frozen modules are being used, which may\n",
      "0.00s - make the debugger miss breakpoints. Please pass -Xfrozen_modules=off\n",
      "0.00s - to python to disable frozen modules.\n",
      "0.00s - Note: Debugging will proceed. Set PYDEVD_DISABLE_FILE_VALIDATION=1 to disable this validation.\n",
      "[NbConvertApp] Writing 13548670 bytes to _main.ipynb\n"
     ]
    },
    {
     "name": "stdout",
     "output_type": "stream",
     "text": [
      "--------------------\n",
      "finished: {'j': '19a', 'feautures_ind': 2, 'data_folder': 'Data_', 'show': True, 'saveSVG': False, 'recalculate_umap': False, 'recalculate_db': False, 'create_adjusted': False, 'compare': False}\n",
      "finished: {'j': '20a', 'feautures_ind': 2, 'data_folder': 'Data_', 'show': True, 'saveSVG': False, 'recalculate_umap': False, 'recalculate_db': False, 'create_adjusted': False, 'compare': False}\n",
      "--------------------\n",
      "9 - started: {'j': '4a', 'feautures_ind': 2, 'data_folder': 'Data_', 'show': True, 'saveSVG': False, 'recalculate_umap': False, 'recalculate_db': False, 'create_adjusted': False, 'compare': False}\n"
     ]
    },
    {
     "name": "stderr",
     "output_type": "stream",
     "text": [
      "[NbConvertApp] Converting notebook _main.ipynb to notebook\n",
      "0.00s - Debugger warning: It seems that frozen modules are being used, which may\n",
      "0.00s - make the debugger miss breakpoints. Please pass -Xfrozen_modules=off\n",
      "0.00s - to python to disable frozen modules.\n",
      "0.00s - Note: Debugging will proceed. Set PYDEVD_DISABLE_FILE_VALIDATION=1 to disable this validation.\n",
      "0.00s - Debugger warning: It seems that frozen modules are being used, which may\n",
      "0.00s - make the debugger miss breakpoints. Please pass -Xfrozen_modules=off\n",
      "0.00s - to python to disable frozen modules.\n",
      "0.00s - Note: Debugging will proceed. Set PYDEVD_DISABLE_FILE_VALIDATION=1 to disable this validation.\n",
      "[NbConvertApp] Writing 13266160 bytes to _main.ipynb\n"
     ]
    },
    {
     "name": "stdout",
     "output_type": "stream",
     "text": [
      "10 - started: {'j': '4.1a', 'feautures_ind': 2, 'data_folder': 'Data_', 'show': True, 'saveSVG': False, 'recalculate_umap': False, 'recalculate_db': False, 'create_adjusted': False, 'compare': False}\n"
     ]
    },
    {
     "name": "stderr",
     "output_type": "stream",
     "text": [
      "[NbConvertApp] Converting notebook _main.ipynb to notebook\n",
      "0.00s - Debugger warning: It seems that frozen modules are being used, which may\n",
      "0.00s - make the debugger miss breakpoints. Please pass -Xfrozen_modules=off\n",
      "0.00s - to python to disable frozen modules.\n",
      "0.00s - Note: Debugging will proceed. Set PYDEVD_DISABLE_FILE_VALIDATION=1 to disable this validation.\n",
      "0.00s - Debugger warning: It seems that frozen modules are being used, which may\n",
      "0.00s - make the debugger miss breakpoints. Please pass -Xfrozen_modules=off\n",
      "0.00s - to python to disable frozen modules.\n",
      "0.00s - Note: Debugging will proceed. Set PYDEVD_DISABLE_FILE_VALIDATION=1 to disable this validation.\n",
      "[NbConvertApp] Writing 13019979 bytes to _main.ipynb\n"
     ]
    },
    {
     "name": "stdout",
     "output_type": "stream",
     "text": [
      "--------------------\n",
      "finished: {'j': '4a', 'feautures_ind': 2, 'data_folder': 'Data_', 'show': True, 'saveSVG': False, 'recalculate_umap': False, 'recalculate_db': False, 'create_adjusted': False, 'compare': False}\n",
      "finished: {'j': '4.1a', 'feautures_ind': 2, 'data_folder': 'Data_', 'show': True, 'saveSVG': False, 'recalculate_umap': False, 'recalculate_db': False, 'create_adjusted': False, 'compare': False}\n",
      "--------------------\n",
      "11 - started: {'j': '5a', 'feautures_ind': 2, 'data_folder': 'Data_', 'show': True, 'saveSVG': False, 'recalculate_umap': False, 'recalculate_db': False, 'create_adjusted': False, 'compare': False}\n"
     ]
    },
    {
     "name": "stderr",
     "output_type": "stream",
     "text": [
      "[NbConvertApp] Converting notebook _main.ipynb to notebook\n",
      "0.00s - Debugger warning: It seems that frozen modules are being used, which may\n",
      "0.00s - make the debugger miss breakpoints. Please pass -Xfrozen_modules=off\n",
      "0.00s - to python to disable frozen modules.\n",
      "0.00s - Note: Debugging will proceed. Set PYDEVD_DISABLE_FILE_VALIDATION=1 to disable this validation.\n",
      "0.00s - Debugger warning: It seems that frozen modules are being used, which may\n",
      "0.00s - make the debugger miss breakpoints. Please pass -Xfrozen_modules=off\n",
      "0.00s - to python to disable frozen modules.\n",
      "0.00s - Note: Debugging will proceed. Set PYDEVD_DISABLE_FILE_VALIDATION=1 to disable this validation.\n",
      "[NbConvertApp] Writing 12814528 bytes to _main.ipynb\n"
     ]
    },
    {
     "name": "stdout",
     "output_type": "stream",
     "text": [
      "12 - started: {'j': '7a', 'feautures_ind': 2, 'data_folder': 'Data_', 'show': True, 'saveSVG': False, 'recalculate_umap': False, 'recalculate_db': False, 'create_adjusted': False, 'compare': False}\n"
     ]
    },
    {
     "name": "stderr",
     "output_type": "stream",
     "text": [
      "[NbConvertApp] Converting notebook _main.ipynb to notebook\n",
      "0.00s - Debugger warning: It seems that frozen modules are being used, which may\n",
      "0.00s - make the debugger miss breakpoints. Please pass -Xfrozen_modules=off\n",
      "0.00s - to python to disable frozen modules.\n",
      "0.00s - Note: Debugging will proceed. Set PYDEVD_DISABLE_FILE_VALIDATION=1 to disable this validation.\n",
      "0.00s - Debugger warning: It seems that frozen modules are being used, which may\n",
      "0.00s - make the debugger miss breakpoints. Please pass -Xfrozen_modules=off\n",
      "0.00s - to python to disable frozen modules.\n",
      "0.00s - Note: Debugging will proceed. Set PYDEVD_DISABLE_FILE_VALIDATION=1 to disable this validation.\n",
      "[NbConvertApp] Writing 13640120 bytes to _main.ipynb\n"
     ]
    },
    {
     "name": "stdout",
     "output_type": "stream",
     "text": [
      "--------------------\n",
      "finished: {'j': '5a', 'feautures_ind': 2, 'data_folder': 'Data_', 'show': True, 'saveSVG': False, 'recalculate_umap': False, 'recalculate_db': False, 'create_adjusted': False, 'compare': False}\n",
      "finished: {'j': '7a', 'feautures_ind': 2, 'data_folder': 'Data_', 'show': True, 'saveSVG': False, 'recalculate_umap': False, 'recalculate_db': False, 'create_adjusted': False, 'compare': False}\n",
      "--------------------\n",
      "13 - started: {'j': '8a', 'feautures_ind': 2, 'data_folder': 'Data_', 'show': True, 'saveSVG': False, 'recalculate_umap': False, 'recalculate_db': False, 'create_adjusted': False, 'compare': False}\n"
     ]
    },
    {
     "name": "stderr",
     "output_type": "stream",
     "text": [
      "[NbConvertApp] Converting notebook _main.ipynb to notebook\n",
      "0.00s - Debugger warning: It seems that frozen modules are being used, which may\n",
      "0.00s - make the debugger miss breakpoints. Please pass -Xfrozen_modules=off\n",
      "0.00s - to python to disable frozen modules.\n",
      "0.00s - Note: Debugging will proceed. Set PYDEVD_DISABLE_FILE_VALIDATION=1 to disable this validation.\n",
      "0.00s - Debugger warning: It seems that frozen modules are being used, which may\n",
      "0.00s - make the debugger miss breakpoints. Please pass -Xfrozen_modules=off\n",
      "0.00s - to python to disable frozen modules.\n",
      "0.00s - Note: Debugging will proceed. Set PYDEVD_DISABLE_FILE_VALIDATION=1 to disable this validation.\n",
      "[NbConvertApp] Writing 13202670 bytes to _main.ipynb\n"
     ]
    },
    {
     "name": "stdout",
     "output_type": "stream",
     "text": [
      "14 - started: {'j': '11a', 'feautures_ind': 2, 'data_folder': 'Data_', 'show': True, 'saveSVG': False, 'recalculate_umap': False, 'recalculate_db': False, 'create_adjusted': False, 'compare': False}\n"
     ]
    },
    {
     "name": "stderr",
     "output_type": "stream",
     "text": [
      "[NbConvertApp] Converting notebook _main.ipynb to notebook\n",
      "0.00s - Debugger warning: It seems that frozen modules are being used, which may\n",
      "0.00s - make the debugger miss breakpoints. Please pass -Xfrozen_modules=off\n",
      "0.00s - to python to disable frozen modules.\n",
      "0.00s - Note: Debugging will proceed. Set PYDEVD_DISABLE_FILE_VALIDATION=1 to disable this validation.\n",
      "0.00s - Debugger warning: It seems that frozen modules are being used, which may\n",
      "0.00s - make the debugger miss breakpoints. Please pass -Xfrozen_modules=off\n",
      "0.00s - to python to disable frozen modules.\n",
      "0.00s - Note: Debugging will proceed. Set PYDEVD_DISABLE_FILE_VALIDATION=1 to disable this validation.\n",
      "[NbConvertApp] Writing 15994743 bytes to _main.ipynb\n"
     ]
    },
    {
     "name": "stdout",
     "output_type": "stream",
     "text": [
      "--------------------\n",
      "finished: {'j': '8a', 'feautures_ind': 2, 'data_folder': 'Data_', 'show': True, 'saveSVG': False, 'recalculate_umap': False, 'recalculate_db': False, 'create_adjusted': False, 'compare': False}\n",
      "finished: {'j': '11a', 'feautures_ind': 2, 'data_folder': 'Data_', 'show': True, 'saveSVG': False, 'recalculate_umap': False, 'recalculate_db': False, 'create_adjusted': False, 'compare': False}\n",
      "--------------------\n",
      "15 - started: {'j': '8.1a', 'feautures_ind': 2, 'data_folder': 'Data_', 'show': True, 'saveSVG': False, 'recalculate_umap': False, 'recalculate_db': False, 'create_adjusted': False, 'compare': False}\n"
     ]
    },
    {
     "name": "stderr",
     "output_type": "stream",
     "text": [
      "[NbConvertApp] Converting notebook _main.ipynb to notebook\n",
      "0.00s - Debugger warning: It seems that frozen modules are being used, which may\n",
      "0.00s - make the debugger miss breakpoints. Please pass -Xfrozen_modules=off\n",
      "0.00s - to python to disable frozen modules.\n",
      "0.00s - Note: Debugging will proceed. Set PYDEVD_DISABLE_FILE_VALIDATION=1 to disable this validation.\n",
      "0.00s - Debugger warning: It seems that frozen modules are being used, which may\n",
      "0.00s - make the debugger miss breakpoints. Please pass -Xfrozen_modules=off\n",
      "0.00s - to python to disable frozen modules.\n",
      "0.00s - Note: Debugging will proceed. Set PYDEVD_DISABLE_FILE_VALIDATION=1 to disable this validation.\n",
      "[NbConvertApp] Writing 13109155 bytes to _main.ipynb\n"
     ]
    },
    {
     "name": "stdout",
     "output_type": "stream",
     "text": [
      "16 - started: {'j': 'b2345a', 'feautures_ind': 2, 'data_folder': 'Data_', 'show': True, 'saveSVG': False, 'recalculate_umap': False, 'recalculate_db': False, 'create_adjusted': False, 'compare': False}\n"
     ]
    },
    {
     "name": "stderr",
     "output_type": "stream",
     "text": [
      "[NbConvertApp] Converting notebook _main.ipynb to notebook\n",
      "0.00s - Debugger warning: It seems that frozen modules are being used, which may\n",
      "0.00s - make the debugger miss breakpoints. Please pass -Xfrozen_modules=off\n",
      "0.00s - to python to disable frozen modules.\n",
      "0.00s - Note: Debugging will proceed. Set PYDEVD_DISABLE_FILE_VALIDATION=1 to disable this validation.\n",
      "0.00s - Debugger warning: It seems that frozen modules are being used, which may\n",
      "0.00s - make the debugger miss breakpoints. Please pass -Xfrozen_modules=off\n",
      "0.00s - to python to disable frozen modules.\n",
      "0.00s - Note: Debugging will proceed. Set PYDEVD_DISABLE_FILE_VALIDATION=1 to disable this validation.\n",
      "[NbConvertApp] Writing 13248025 bytes to _main.ipynb\n"
     ]
    },
    {
     "name": "stdout",
     "output_type": "stream",
     "text": [
      "--------------------\n",
      "finished: {'j': '8.1a', 'feautures_ind': 2, 'data_folder': 'Data_', 'show': True, 'saveSVG': False, 'recalculate_umap': False, 'recalculate_db': False, 'create_adjusted': False, 'compare': False}\n",
      "finished: {'j': 'b2345a', 'feautures_ind': 2, 'data_folder': 'Data_', 'show': True, 'saveSVG': False, 'recalculate_umap': False, 'recalculate_db': False, 'create_adjusted': False, 'compare': False}\n",
      "--------------------\n"
     ]
    },
    {
     "name": "stderr",
     "output_type": "stream",
     "text": [
      "[NbConvertApp] Converting notebook _main.ipynb to notebook\n",
      "0.00s - Debugger warning: It seems that frozen modules are being used, which may\n",
      "0.00s - make the debugger miss breakpoints. Please pass -Xfrozen_modules=off\n",
      "0.00s - to python to disable frozen modules.\n",
      "0.00s - Note: Debugging will proceed. Set PYDEVD_DISABLE_FILE_VALIDATION=1 to disable this validation.\n",
      "0.00s - Debugger warning: It seems that frozen modules are being used, which may\n",
      "0.00s - make the debugger miss breakpoints. Please pass -Xfrozen_modules=off\n",
      "0.00s - to python to disable frozen modules.\n",
      "0.00s - Note: Debugging will proceed. Set PYDEVD_DISABLE_FILE_VALIDATION=1 to disable this validation.\n",
      "[NbConvertApp] Writing 14276296 bytes to _main.ipynb\n",
      "[NbConvertApp] Writing 15280124 bytes to _main.ipynb\n",
      "Traceback (most recent call last):\n",
      "  File \"/Users/yishai/Desktop/breast_cancer_PHD_research/.venv/bin/jupyter-nbconvert\", line 8, in <module>\n",
      "    sys.exit(main())\n",
      "             ^^^^^^\n",
      "  File \"/Users/yishai/Desktop/breast_cancer_PHD_research/.venv/lib/python3.11/site-packages/jupyter_core/application.py\", line 285, in launch_instance\n",
      "    return super().launch_instance(argv=argv, **kwargs)\n",
      "           ^^^^^^^^^^^^^^^^^^^^^^^^^^^^^^^^^^^^^^^^^^^^\n",
      "  File \"/Users/yishai/Desktop/breast_cancer_PHD_research/.venv/lib/python3.11/site-packages/traitlets/config/application.py\", line 1043, in launch_instance\n",
      "    app.start()\n",
      "  File \"/Users/yishai/Desktop/breast_cancer_PHD_research/.venv/lib/python3.11/site-packages/nbconvert/nbconvertapp.py\", line 414, in start\n",
      "    self.convert_notebooks()\n",
      "  File \"/Users/yishai/Desktop/breast_cancer_PHD_research/.venv/lib/python3.11/site-packages/nbconvert/nbconvertapp.py\", line 589, in convert_notebooks\n",
      "    self.convert_single_notebook(notebook_filename)\n",
      "  File \"/Users/yishai/Desktop/breast_cancer_PHD_research/.venv/lib/python3.11/site-packages/nbconvert/nbconvertapp.py\", line 555, in convert_single_notebook\n",
      "    output, resources = self.export_single_notebook(\n",
      "                        ^^^^^^^^^^^^^^^^^^^^^^^^^^^^\n",
      "  File \"/Users/yishai/Desktop/breast_cancer_PHD_research/.venv/lib/python3.11/site-packages/nbconvert/nbconvertapp.py\", line 481, in export_single_notebook\n",
      "    output, resources = self.exporter.from_filename(\n",
      "                        ^^^^^^^^^^^^^^^^^^^^^^^^^^^^\n",
      "  File \"/Users/yishai/Desktop/breast_cancer_PHD_research/.venv/lib/python3.11/site-packages/nbconvert/exporters/exporter.py\", line 201, in from_filename\n",
      "    return self.from_file(f, resources=resources, **kw)\n",
      "           ^^^^^^^^^^^^^^^^^^^^^^^^^^^^^^^^^^^^^^^^^^^^\n",
      "  File \"/Users/yishai/Desktop/breast_cancer_PHD_research/.venv/lib/python3.11/site-packages/nbconvert/exporters/exporter.py\", line 220, in from_file\n",
      "    return self.from_notebook_node(\n",
      "           ^^^^^^^^^^^^^^^^^^^^^^^^\n",
      "  File \"/Users/yishai/Desktop/breast_cancer_PHD_research/.venv/lib/python3.11/site-packages/nbconvert/exporters/notebook.py\", line 36, in from_notebook_node\n",
      "    nb_copy, resources = super().from_notebook_node(nb, resources, **kw)\n",
      "                         ^^^^^^^^^^^^^^^^^^^^^^^^^^^^^^^^^^^^^^^^^^^^^^^\n",
      "  File \"/Users/yishai/Desktop/breast_cancer_PHD_research/.venv/lib/python3.11/site-packages/nbconvert/exporters/exporter.py\", line 154, in from_notebook_node\n",
      "    nb_copy, resources = self._preprocess(nb_copy, resources)\n",
      "                         ^^^^^^^^^^^^^^^^^^^^^^^^^^^^^^^^^^^^\n",
      "  File \"/Users/yishai/Desktop/breast_cancer_PHD_research/.venv/lib/python3.11/site-packages/nbconvert/exporters/exporter.py\", line 352, in _preprocess\n",
      "    nbc, resc = preprocessor(nbc, resc)\n",
      "                ^^^^^^^^^^^^^^^^^^^^^^^\n",
      "  File \"/Users/yishai/Desktop/breast_cancer_PHD_research/.venv/lib/python3.11/site-packages/nbconvert/preprocessors/base.py\", line 48, in __call__\n",
      "    return self.preprocess(nb, resources)\n",
      "           ^^^^^^^^^^^^^^^^^^^^^^^^^^^^^^\n",
      "  File \"/Users/yishai/Desktop/breast_cancer_PHD_research/.venv/lib/python3.11/site-packages/nbconvert/preprocessors/execute.py\", line 100, in preprocess\n",
      "    self.preprocess_cell(cell, resources, index)\n",
      "  File \"/Users/yishai/Desktop/breast_cancer_PHD_research/.venv/lib/python3.11/site-packages/nbconvert/preprocessors/execute.py\", line 121, in preprocess_cell\n",
      "    cell = self.execute_cell(cell, index, store_history=True)\n",
      "           ^^^^^^^^^^^^^^^^^^^^^^^^^^^^^^^^^^^^^^^^^^^^^^^^^^\n",
      "  File \"/Users/yishai/Desktop/breast_cancer_PHD_research/.venv/lib/python3.11/site-packages/jupyter_core/utils/__init__.py\", line 166, in wrapped\n",
      "    return loop.run_until_complete(inner)\n",
      "           ^^^^^^^^^^^^^^^^^^^^^^^^^^^^^^\n",
      "  File \"/Library/Frameworks/Python.framework/Versions/3.11/lib/python3.11/asyncio/base_events.py\", line 653, in run_until_complete\n",
      "    return future.result()\n",
      "           ^^^^^^^^^^^^^^^\n",
      "  File \"/Users/yishai/Desktop/breast_cancer_PHD_research/.venv/lib/python3.11/site-packages/nbclient/client.py\", line 1058, in async_execute_cell\n",
      "    await self._check_raise_for_error(cell, cell_index, exec_reply)\n",
      "  File \"/Users/yishai/Desktop/breast_cancer_PHD_research/.venv/lib/python3.11/site-packages/nbclient/client.py\", line 914, in _check_raise_for_error\n",
      "    raise CellExecutionError.from_cell_and_msg(cell, exec_reply_content)\n",
      "nbclient.exceptions.CellExecutionError: An error occurred while executing the following cell:\n",
      "------------------\n",
      "# if config['visualize'] :#plot on adjusted\n",
      "if not config['isSingleSample']:\n",
      "\n",
      "    for sampNum in sorted(samples.loc[~samples.copy().astype(str).str.contains('.1')].unique()):# drop anchor samples:\n",
      "\n",
      "        single_sample_labels = sample_labels.loc[samples [samples== sampNum].index].copy()#clusters of specific sample\n",
      "        # plot.labeled_umap_by_sample(umapData,  single_sample_labels.copy(),\n",
      "        #                         title=config['title']+f' UMAP - by_sample={sampNum} clusters',\n",
      "        #                         figname='4_'+config['figname']+f'UMAP_sample{sampNum}_by_sample_clusters')\n",
      "        plot.labeled_umap(umapData,single_sample_labels.copy(),\n",
      "                                title=config['title']+f' UMAP - by_sample={sampNum} clusters',\n",
      "                                figname='4_'+config['figname']+f'UMAP_sample{sampNum}_by_sample_clusters')\n",
      "        del single_sample_labels,sampNum\n",
      "    print('single sample using its single sample clusters - done')\n",
      "------------------\n",
      "\n",
      "\n",
      "\u001b[0;31m---------------------------------------------------------------------------\u001b[0m\n",
      "\u001b[0;31mNameError\u001b[0m                                 Traceback (most recent call last)\n",
      "Cell \u001b[0;32mIn[27], line 6\u001b[0m\n",
      "\u001b[1;32m      2\u001b[0m \u001b[38;5;28;01mif\u001b[39;00m \u001b[38;5;129;01mnot\u001b[39;00m config[\u001b[38;5;124m'\u001b[39m\u001b[38;5;124misSingleSample\u001b[39m\u001b[38;5;124m'\u001b[39m]:\n",
      "\u001b[1;32m      4\u001b[0m     \u001b[38;5;28;01mfor\u001b[39;00m sampNum \u001b[38;5;129;01min\u001b[39;00m \u001b[38;5;28msorted\u001b[39m(samples\u001b[38;5;241m.\u001b[39mloc[\u001b[38;5;241m~\u001b[39msamples\u001b[38;5;241m.\u001b[39mcopy()\u001b[38;5;241m.\u001b[39mastype(\u001b[38;5;28mstr\u001b[39m)\u001b[38;5;241m.\u001b[39mstr\u001b[38;5;241m.\u001b[39mcontains(\u001b[38;5;124m'\u001b[39m\u001b[38;5;124m.1\u001b[39m\u001b[38;5;124m'\u001b[39m)]\u001b[38;5;241m.\u001b[39munique()):\u001b[38;5;66;03m# drop anchor samples:\u001b[39;00m\n",
      "\u001b[0;32m----> 6\u001b[0m         single_sample_labels \u001b[38;5;241m=\u001b[39m \u001b[43msample_labels\u001b[49m\u001b[38;5;241m.\u001b[39mloc[samples [samples\u001b[38;5;241m==\u001b[39m sampNum]\u001b[38;5;241m.\u001b[39mindex]\u001b[38;5;241m.\u001b[39mcopy()\u001b[38;5;66;03m#clusters of specific sample\u001b[39;00m\n",
      "\u001b[1;32m      7\u001b[0m         \u001b[38;5;66;03m# plot.labeled_umap_by_sample(umapData,  single_sample_labels.copy(),\u001b[39;00m\n",
      "\u001b[1;32m      8\u001b[0m         \u001b[38;5;66;03m#                         title=config['title']+f' UMAP - by_sample={sampNum} clusters',\u001b[39;00m\n",
      "\u001b[1;32m      9\u001b[0m         \u001b[38;5;66;03m#                         figname='4_'+config['figname']+f'UMAP_sample{sampNum}_by_sample_clusters')\u001b[39;00m\n",
      "\u001b[1;32m     10\u001b[0m         plot\u001b[38;5;241m.\u001b[39mlabeled_umap(umapData,single_sample_labels\u001b[38;5;241m.\u001b[39mcopy(),\n",
      "\u001b[1;32m     11\u001b[0m                                 title\u001b[38;5;241m=\u001b[39mconfig[\u001b[38;5;124m'\u001b[39m\u001b[38;5;124mtitle\u001b[39m\u001b[38;5;124m'\u001b[39m]\u001b[38;5;241m+\u001b[39m\u001b[38;5;124mf\u001b[39m\u001b[38;5;124m'\u001b[39m\u001b[38;5;124m UMAP - by_sample=\u001b[39m\u001b[38;5;132;01m{\u001b[39;00msampNum\u001b[38;5;132;01m}\u001b[39;00m\u001b[38;5;124m clusters\u001b[39m\u001b[38;5;124m'\u001b[39m,\n",
      "\u001b[1;32m     12\u001b[0m                                 figname\u001b[38;5;241m=\u001b[39m\u001b[38;5;124m'\u001b[39m\u001b[38;5;124m4_\u001b[39m\u001b[38;5;124m'\u001b[39m\u001b[38;5;241m+\u001b[39mconfig[\u001b[38;5;124m'\u001b[39m\u001b[38;5;124mfigname\u001b[39m\u001b[38;5;124m'\u001b[39m]\u001b[38;5;241m+\u001b[39m\u001b[38;5;124mf\u001b[39m\u001b[38;5;124m'\u001b[39m\u001b[38;5;124mUMAP_sample\u001b[39m\u001b[38;5;132;01m{\u001b[39;00msampNum\u001b[38;5;132;01m}\u001b[39;00m\u001b[38;5;124m_by_sample_clusters\u001b[39m\u001b[38;5;124m'\u001b[39m)\n",
      "\n",
      "\u001b[0;31mNameError\u001b[0m: name 'sample_labels' is not defined\n",
      "\n"
     ]
    }
   ],
   "source": [
    "# General settings\n",
    "base_settings =  {\n",
    "       \n",
    "\n",
    "        # create visualization (umap, dbscan are always shown)\n",
    "        # 'visualize':True,'plotUMAP' : True,\n",
    "        \n",
    "        # show figures in notebook\n",
    "        'show' : True, 'saveSVG' :False,\n",
    "        'recalculate_umap' : False,# calculate umap\n",
    "        'recalculate_db' : False,# calculate dbscan\n",
    "        'create_adjusted' : False,\n",
    "        'compare' : False,# compare 11,stroma and rest of the cells\n",
    "             \n",
    "        }\n",
    "\n",
    "        \n",
    "# Grid search\n",
    "grid = {\n",
    "    'j' : [\n",
    "            '7.1a','13a','14a','15a','17a','18a','19a','20a',\n",
    "            '4a','4.1a','5a','7a','8a','11a',\n",
    "            '8.1a','b2345a'\n",
    "            ],\n",
    "    'feautures_ind':[2,],\n",
    "    'data_folder' : ['Data_'],\n",
    "\n",
    "}\n",
    "import itertools\n",
    "import json\n",
    "import subprocess\n",
    "import time\n",
    "\n",
    "def run_notebook_paralel(notebook_file,args,time_ =  30):#func= subprocess.Popen\n",
    "    \"\"\"Pass arguments to a Jupyter notebook, run it and convert to html.\"\"\"\n",
    "    time.sleep(time_)\n",
    "    \n",
    "    # Create the arguments file\n",
    "    with open('args.json', 'w') as f:\n",
    "        json.dump(args, f)\n",
    "    # Run the notebook\n",
    "    p = subprocess.Popen([\n",
    "        'jupyter-nbconvert',\n",
    "        '--execute',\n",
    "        notebook_file,\n",
    "        '--to', notebook_file,\n",
    "        # '--stdout',\n",
    "        '--inplace',\n",
    "        \n",
    "        ])\n",
    "    return p\n",
    "    # return None\n",
    "def grid_search(grid={},base_settings={}):\n",
    "    arr =[]\n",
    "    # Loop over al grid search combinations\n",
    "    for values in itertools.product(*grid.values()):\n",
    "        point = dict(zip(grid.keys(), values))\n",
    "        # merge the general args\n",
    "        args = {**point,**base_settings}\n",
    "        arr.append(args)\n",
    "        # print(args)\n",
    "    return arr\n",
    "\n",
    "args_list = grid_search(grid ,base_settings)\n",
    "pArr=[];arr=[]\n",
    "# print(len(args_list))\n",
    "for i, args in enumerate(args_list,1):\n",
    "    print(f'{i} - started: {args}')\n",
    "    p = run_notebook_paralel('_main.ipynb',args)\n",
    "    pArr.append(p)\n",
    "    arr.append(args)\n",
    "    if i%2 != 0 and i < len(args_list) :\n",
    "        pass\n",
    "\n",
    "        \n",
    "    else:\n",
    "        # [p.communicate() for p in pArr]\n",
    "        # [p.terminate() for p in pArr][\\]\n",
    "        print('-'*20)\n",
    "        for ind,args in enumerate(arr):\n",
    "            print(f'finished: {args}')\n",
    "        print('-'*20)\n",
    "        pArr=[];arr=[]\n",
    "        # break\n",
    "\n",
    "\n"
   ]
  },
  {
   "cell_type": "code",
   "execution_count": 3,
   "metadata": {},
   "outputs": [
    {
     "data": {
      "text/plain": [
       "[None, None, None, None]"
      ]
     },
     "execution_count": 3,
     "metadata": {},
     "output_type": "execute_result"
    }
   ],
   "source": [
    "[p.terminate() for p in pArr]\n",
    "\n",
    "\n",
    "\n",
    "\n",
    "\n",
    "\n",
    "\n"
   ]
  }
 ],
 "metadata": {
  "kernelspec": {
   "display_name": "torch39",
   "language": "python",
   "name": "python3"
  },
  "language_info": {
   "codemirror_mode": {
    "name": "ipython",
    "version": 3
   },
   "file_extension": ".py",
   "mimetype": "text/x-python",
   "name": "python",
   "nbconvert_exporter": "python",
   "pygments_lexer": "ipython3",
   "version": "3.11.6"
  },
  "orig_nbformat": 4,
  "vscode": {
   "interpreter": {
    "hash": "25238166783bd3667da868d9e05a785eda3f5ca355f77ce9c051267fa7411fd2"
   }
  }
 },
 "nbformat": 4,
 "nbformat_minor": 2
}
