{
 "cells": [
  {
   "cell_type": "code",
   "execution_count": 1,
   "metadata": {},
   "outputs": [
    {
     "name": "stdout",
     "output_type": "stream",
     "text": [
      "The directory already exists!\n",
      "sample b2345s_prescaled loaded from file\n",
      "j         : b2345s_prescaled\n",
      "feautures_ind: 3\n",
      "data_folder: age_prescaled\n",
      "show      : True\n",
      "saveSVG   : False\n",
      "recalculate_umap: False\n",
      "recalculate_db: False\n",
      "create_adjusted: False\n",
      "compare   : False\n",
      "isSingleSample: False\n",
      "isCellCycle: False\n",
      "home      : /Users/yishai\n",
      "dir_data  : /Users/yishai/Dropbox/CyTOF_Breast/data_yishai/age_prescaled/\n",
      "dir_index : /Users/yishai/Dropbox/CyTOF_Breast/data_yishai/indexes/\n",
      "dir_plots : /Users/yishai/Dropbox/CyTOF_Breast/data_yishai//plots/_sample_b2345s_prescaled_13032024_age_prescaled/\n",
      "dir_functions: /Users/yishai/Desktop/breast_cancer_PHD_research/functions/\n",
      "save_add  : /Users/yishai/Dropbox/CyTOF_Breast/data_yishai/\n",
      "b2345s_prescaled with size: 7597\n",
      "Sample is: batch\n",
      "title; sampb2345s_prescaled CellCycle Based , figname; sampb2345s_prescaled_CellCycle_Based_\n",
      "dict_keys(['j', 'feautures_ind', 'data_folder', 'show', 'saveSVG', 'recalculate_umap', 'recalculate_db', 'create_adjusted', 'compare', 'isSingleSample', 'isCellCycle', 'home', 'dir_data', 'dir_index', 'dir_plots', 'dir_functions', 'save_add', 'name', 'title', 'figname', 'features', 'groups'])\n"
     ]
    }
   ],
   "source": [
    "# sample number\n",
    "\n",
    "# j = '_arcsinh'+'18.2'+'a'# '18.2'+'a'#\n",
    "# j = '18'+'a'#  '_arcsinh'+'18.2'+'a'#'14.2'+'a'#'_raw'+'14.2'+'a'#\n",
    "            \n",
    "# '7.1a','13a','14a','15a','17a','18a','19a','20a','8.1a'\n",
    "\n",
    "# j = '13'+'a'\n",
    "# j = 'b2345'+'a'\n",
    "# j = '5a'\n",
    "# j = '18.2'+'a'\n",
    "# j = 'b2345'+'s'#stroma - exists only in batch\n",
    "\n",
    "j = 'b2345'+'a'\n",
    "j = 'b2345'+'s'+'_prescaled'\n",
    "args = {\n",
    "        'j' : j,\n",
    "        'feautures_ind':3,\n",
    "        # 'data_folder' : 'Data_',\n",
    "        'data_folder' : 'age_prescaled',\n",
    "        # create visualization (umap, dbscan are always shown)\n",
    "        # 'visualize':True,'plotUMAP' : True,\n",
    "        \n",
    "        # show figures in notebook\n",
    "        'show' : True, 'saveSVG' :False,\n",
    "        'recalculate_umap' : False,# calculate umap\n",
    "        'recalculate_db' : False,# calculate dbscan\n",
    "        'create_adjusted' : False,\n",
    "        'compare' : False,# compare 11,stroma and rest of the cells\n",
    "             \n",
    "        }\n",
    "# create_adjusted = False\n",
    "# compare = False# compare 11,stroma and rest of the cells\n",
    "# print(j, 'ind:',config['feautures_ind'], dir_data1, config, create_adjusted)\n",
    "\n",
    "# parent_dir = '/home/yishai/breast_cancer_PHD_research'\n",
    "\n",
    "\n",
    "\n",
    "use_MASTER = True\n",
    "\n",
    "\n",
    "\n",
    "\n",
    "\n",
    "%run imports.ipynb # import all imported packages from imports.ipynb\n",
    "\n",
    "samples = Series(df['samp'])\n",
    "uniq_samples = samples.unique()# don't drop anchor samples\n",
    "\n",
    "\n"
   ]
  },
  {
   "cell_type": "markdown",
   "metadata": {},
   "source": [
    "LOAD AGE DATA and order acoording to uniq samples order"
   ]
  },
  {
   "cell_type": "code",
   "execution_count": 2,
   "metadata": {},
   "outputs": [
    {
     "name": "stdout",
     "output_type": "stream",
     "text": [
      "[ 4.  5.  7.  8. 11. 13. 14. 15. 17. 18. 19. 20.]\n",
      "0     61\n",
      "1     87\n",
      "2     37\n",
      "3     46\n",
      "4     76\n",
      "5     73\n",
      "6     64\n",
      "7     63\n",
      "8     62\n",
      "9     67\n",
      "10    44\n",
      "11    69\n",
      "dtype: int64\n"
     ]
    }
   ],
   "source": [
    "import pathlib\n",
    "home = str(pathlib.Path.home())\n",
    "add = f'{home}/Dropbox/CyTOF_Breast/Kaplan_5th/'\n",
    "import pandas as pd\n",
    "age = pd.read_csv(add +'Age_key.txt',header=None,sep='\\t')\n",
    "age.columns=['sample','Age']\n",
    "age['sample'] = age['sample'].str.replace('BCK-','').astype(float)  \n",
    "# epinuc = pd.read_csv(add +'20240305_EPINUC_age.csv')[['sample', 'Age']]\n",
    "\n",
    "\n",
    "uniq_samples = samples.unique()\n",
    "uniq_samples = np.asarray([i for i in uniq_samples.astype(str) if '.1' not in i]).astype(float)# drop anchor samples\n",
    "print(uniq_samples)\n",
    "ages = Series([age['Age'].loc[age[age['sample']==key].index[0]] for key in uniq_samples])\n",
    "\n",
    "print(ages)\n"
   ]
  },
  {
   "cell_type": "markdown",
   "metadata": {},
   "source": [
    "calculate mean, std matrices"
   ]
  },
  {
   "cell_type": "code",
   "execution_count": 3,
   "metadata": {},
   "outputs": [
    {
     "data": {
      "text/plain": [
       "<bound method NDFrame.head of           H4        H3      H3.3      ECad  panKeratin        K5     EpCam  H3K27me2      EZH2     gH2AX      aSMA  H3K36me2   H3K4me1   H3K9me2   H4K16ac     H2Aub  Vimentin  \\\n",
       "37  0.140692  0.186070  0.123217  0.419685    0.249642  0.254326  0.634569  0.299008  0.242885  0.249490  0.417868  0.363060  0.225082  0.207488  0.260721  0.235933  0.508688   \n",
       "44  0.238115  0.164278  0.225352  0.512400    0.196529  0.281471  0.754269  0.351943  0.312319  0.239709  0.357393  0.448725  0.249401  0.237992  0.268553  0.298538  0.504294   \n",
       "46  0.149144  0.199193  0.127994  0.507152    0.249485  0.242346  0.735499  0.403189  0.263619  0.253736  0.429046  0.450974  0.248695  0.231181  0.312811  0.340265  0.555652   \n",
       "61  0.159770  0.182859  0.109841  0.408327    0.402953  0.175567  1.481203  0.249756  0.242477  0.053039  0.233463  0.211535  0.315995  0.159526  0.167498  0.086108  0.542567   \n",
       "62  0.224495  0.159121  0.236354  0.517484    0.172464  0.334844  0.822544  0.353551  0.292116  0.244536  0.356510  0.484105  0.228519  0.227978  0.254622  0.302044  0.467915   \n",
       "63  0.198354  0.151829  0.195298  0.475917    0.272272  0.252493  0.505464  0.240654  0.231521  0.226172  0.316915  0.290601  0.226575  0.233404  0.212793  0.204398  0.412280   \n",
       "64  0.186225  0.173131  0.187050  0.695774    0.249244  0.204883  0.652099  0.272673  0.218049  0.240329  0.365133  0.334208  0.223811  0.192346  0.236832  0.225775  0.426042   \n",
       "67  0.225886  0.153153  0.206909  0.491646    0.173523  0.207645  0.788795  0.352204  0.272533  0.253414  0.354355  0.485304  0.223187  0.219674  0.304200  0.303255  0.508113   \n",
       "69  0.248314  0.155591  0.267754  0.537385    0.151975  0.233757  0.650608  0.381984  0.304095  0.303159  0.340562  0.478913  0.245123  0.233222  0.246692  0.298697  0.513103   \n",
       "73  0.201152  0.174015  0.196601  0.575523    0.246064  0.231193  0.612962  0.280562  0.202798  0.255036  0.412577  0.381777  0.244556  0.228875  0.245724  0.208189  0.443696   \n",
       "76  0.119514  0.161197  0.108830  0.515435    0.232388  0.239314  0.674734  0.354279  0.223352  0.272950  0.349519  0.422103  0.235961  0.193793  0.285673  0.305361  0.464324   \n",
       "87  0.158748  0.189530  0.154038  0.503907    0.247945  0.248806  0.782343  0.574582  0.242069  0.320796  0.307577  0.642574  0.284462  0.224529  0.403075  0.625901  0.575173   \n",
       "\n",
       "     H3K64ac     BMI-1   H3K27ac  H4K20me3        ER     CD49f      CD24     GATA3    H3K9ac   H3K9me3      CD44      Ki67     K8-18  H3K36me3   H3K4me3  H3K27me3    H3S28p  \\\n",
       "37  0.335709  0.261496  0.278493  0.226772  0.247535  1.858321  0.242044  0.220795  0.240771  0.262850  1.387250  0.158497  0.100939  0.226085  0.267158  0.285830  0.254968   \n",
       "44  0.359683  0.308746  0.320651  0.202982  0.337845  2.920899  0.089832  0.090716  0.247540  0.294873  1.311474  0.243449  0.117580  0.288724  0.301808  0.337071  0.251372   \n",
       "46  0.409388  0.274203  0.359322  0.243431  0.222194  2.709153  0.330025  0.214946  0.284327  0.297659  1.210786  0.118758  0.109880  0.239482  0.332393  0.383194  0.254349   \n",
       "61  0.209737  0.214627  0.158184  0.137087  0.157053  2.425751  0.245153  0.177908  0.213938  0.266878  0.858136  0.085314  0.406400  0.227901  0.255361  0.228271  0.162840   \n",
       "62  0.320386  0.268195  0.303891  0.174456  0.300267  2.948922  0.304282  0.092751  0.231288  0.308646  1.844835  0.299610  0.097876  0.276843  0.273560  0.343049  0.226046   \n",
       "63  0.269417  0.220115  0.242889  0.212225  0.316950  1.564684  0.223167  0.187736  0.203202  0.258421  1.681444  0.226083  0.151384  0.267596  0.215630  0.231355  0.230018   \n",
       "64  0.336317  0.235769  0.370088  0.218378  0.270186  2.184469  0.339708  0.180953  0.266118  0.276351  1.736670  0.258165  0.132535  0.256179  0.216749  0.267610  0.248949   \n",
       "67  0.312039  0.263725  0.325882  0.183651  0.311609  2.532743  0.194932  0.104002  0.220382  0.298102  1.530080  0.241636  0.112568  0.250325  0.255599  0.332195  0.216692   \n",
       "69  0.331546  0.284901  0.299940  0.185645  0.322688  2.815160  0.102140  0.101714  0.240845  0.253909  1.271871  0.348356  0.105271  0.257748  0.300576  0.295781  0.274879   \n",
       "73  0.317744  0.243402  0.337649  0.220057  0.330882  2.202320  0.289765  0.153245  0.252673  0.282978  1.232264  0.133272  0.107974  0.292966  0.245124  0.249617  0.236213   \n",
       "76  0.363294  0.230023  0.333468  0.210299  0.213353  1.510664  0.365783  0.210386  0.262666  0.273017  1.799593  0.295495  0.115982  0.207137  0.285235  0.324192  0.243900   \n",
       "87  0.516456  0.222412  0.529371  0.214017  0.293791  2.233167  0.325461  0.198225  0.400966  0.456099  1.436273  0.343152  0.395847  0.231693  0.412300  0.503030  0.307004   \n",
       "\n",
       "        CD45  \n",
       "37  0.009979  \n",
       "44  0.032261  \n",
       "46  0.010346  \n",
       "61  0.000000  \n",
       "62  0.062623  \n",
       "63  0.008817  \n",
       "64  0.011442  \n",
       "67  0.028875  \n",
       "69  0.013562  \n",
       "73  0.088485  \n",
       "76  0.021937  \n",
       "87  0.369012  >"
      ]
     },
     "execution_count": 3,
     "metadata": {},
     "output_type": "execute_result"
    }
   ],
   "source": [
    "mean = DataFrame(columns=df.columns,index = uniq_samples)\n",
    "std = DataFrame(columns=df.columns,index = uniq_samples)\n",
    "# std\n",
    "\n",
    "for samp in uniq_samples:\n",
    "    # print(samp)\n",
    "    d = df[df['samp']==samp].copy()\n",
    "    mean.loc[samp] = d.mean()\n",
    "    std.loc[samp] = d.std()\n",
    "    # print(d.mean())\n",
    "    # print(d.std())\n",
    "    # break\n",
    "# samp and ind features are not needed\n",
    "std.drop(['samp','ind'],axis=1,inplace=True)\n",
    "mean.drop(['samp','ind'],axis=1,inplace=True)\n",
    "\n",
    "# change index from samp number to age\n",
    "std.index = ages\n",
    "mean.index = ages\n",
    "\n",
    "# std.sort_index(inplace=True)\n",
    "# mean.sort_index(inplace=True)\n",
    "std = std.astype(float).sort_index()\n",
    "mean = mean.astype(float).sort_index()\n",
    "\n",
    "std.head"
   ]
  },
  {
   "cell_type": "markdown",
   "metadata": {},
   "source": [
    "plot with error bar"
   ]
  },
  {
   "cell_type": "code",
   "execution_count": 4,
   "metadata": {},
   "outputs": [],
   "source": [
    "# import matplotlib.pyplot as plt\n",
    "# import numpy as np\n",
    "\n",
    "# def plot_with_errorBar(x,y,y_error,xlabel,ylabel,title,fname=None):\n",
    "#     plt.figure(figsize=(20,10))\n",
    "#     plt.title(title)\n",
    "#     plt.xlabel(xlabel)\n",
    "#     plt.ylabel(ylabel)\n",
    "#     plt.plot(x,y)\n",
    "\n",
    "#     # function to plot errorbar with the line plots\n",
    "#     plt.errorbar(x,y,yerr=y_error,ecolor='r',elinewidth=5,fmt='s',color='k')\n",
    "#     plt.grid()\n",
    "#     plt.xticks(np.arange(min(x), max(x)+1, 1.0))\n",
    "    \n",
    "#     if fname is not None:\n",
    "#         print('saving:', fname)\n",
    "#         plt.savefig(fname)\n",
    "#     plt.show()\n",
    "    \n",
    "# for col in mean.columns:\n",
    "#     y = mean[col]\n",
    "#     x = list(mean.index)\n",
    "#     y_error = std[col]\n",
    "#     xlabel = 'Age'\n",
    "#     ylabel = col\n",
    "#     title = f'{col} vs Age'\n",
    "    \n",
    "#     fname = f'{config[\"dir_plots\"]}{col}.png'\n",
    "#     # print(fname)\n",
    "#     plot_with_errorBar(x,y,y_error,xlabel ,ylabel,title,fname )"
   ]
  },
  {
   "cell_type": "markdown",
   "metadata": {},
   "source": [
    "correlation for each feature compared to age"
   ]
  },
  {
   "cell_type": "code",
   "execution_count": 5,
   "metadata": {},
   "outputs": [],
   "source": [
    "# mean['age'] = mean.index\n",
    "import seaborn as sns\n",
    "mean.insert(0, 'age', mean.index  ) \n",
    "corr = pd.DataFrame(mean.copy().corr(method = 'spearman')['age'])\n",
    "corr.to_csv(config['dir_plots']+config['figname']+'age_corr_spearman.csv')"
   ]
  },
  {
   "cell_type": "markdown",
   "metadata": {},
   "source": [
    "pps score  - detect non liniar relations (better than correlation)\n",
    "\n",
    "https://towardsdatascience.com/rip-correlation-introducing-the-predictive-power-score-3d90808b9598"
   ]
  },
  {
   "cell_type": "code",
   "execution_count": 6,
   "metadata": {},
   "outputs": [],
   "source": [
    "import ppscore as pps\n",
    "# pps.score(df, \"feature_column\", \"target_column\")\n",
    "pps_score = pps.matrix(mean)\n"
   ]
  },
  {
   "cell_type": "code",
   "execution_count": 7,
   "metadata": {},
   "outputs": [],
   "source": [
    "pps_score\n",
    "\n",
    "pps_age = pps_score[(pps_score['x'] == 'age')+ (pps_score['y'] == 'age')]\\\n",
    "    .sort_values(by='ppscore',ascending=False).reset_index(drop=True)\n",
    "pps_age.to_csv(config['dir_plots']+config['figname']+'age_pps_score.csv')\n"
   ]
  },
  {
   "cell_type": "code",
   "execution_count": 8,
   "metadata": {},
   "outputs": [],
   "source": [
    "# import seaborn as sns\n",
    "# import matplotlib.pyplot as plt \n",
    "# plt.figure(figsize=(20,10))\n",
    "# sns.heatmap(corr,annot = True, linewidths=.5)"
   ]
  },
  {
   "cell_type": "code",
   "execution_count": 9,
   "metadata": {},
   "outputs": [],
   "source": [
    "# from heatmap import Heatmap\n",
    "# heatmaps = Heatmap(**config)"
   ]
  },
  {
   "cell_type": "markdown",
   "metadata": {},
   "source": []
  }
 ],
 "metadata": {
  "kernelspec": {
   "display_name": ".venv",
   "language": "python",
   "name": "python3"
  },
  "language_info": {
   "codemirror_mode": {
    "name": "ipython",
    "version": 3
   },
   "file_extension": ".py",
   "mimetype": "text/x-python",
   "name": "python",
   "nbconvert_exporter": "python",
   "pygments_lexer": "ipython3",
   "version": "3.11.6"
  }
 },
 "nbformat": 4,
 "nbformat_minor": 2
}
