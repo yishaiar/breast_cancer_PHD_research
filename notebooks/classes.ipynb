{
 "cells": [
  {
   "cell_type": "markdown",
   "metadata": {},
   "source": [
    "## init"
   ]
  },
  {
   "cell_type": "markdown",
   "metadata": {},
   "source": [
    "load test data (if not loaded from outside)"
   ]
  },
  {
   "cell_type": "code",
   "execution_count": 1,
   "metadata": {},
   "outputs": [],
   "source": [
    "# check if IS_MASTER exists, this variable will only exist if it's being called by MASTER notebook.\n",
    "# if it does not exist, set it to False\n",
    "\n",
    "\n",
    "\n",
    "try: use_MASTER\n",
    "except: use_MASTER = False\n",
    "\n",
    "if not use_MASTER:\n",
    "    #%run imports.ipynb\n",
    "    from pathlib import Path\n",
    "    import pickle,os,sys\n",
    "    home = str(Path.home())\n",
    "    \n",
    "    #add the path were the functions are and load the small dataset (used for testing) and config data\n",
    "    sys.path.append(f'{home}/Desktop/breast_cancer_PHD_research/functions/')\n",
    "    with open(f'{home}/Dropbox/CyTOF_Breast/data_yishai/default_data.p', 'rb') as f:\n",
    "      [df,config] = pickle.load(f)\n",
    "    del f, home\n",
    "    \n",
    "\n",
    "# config['show'] = False\n"
   ]
  },
  {
   "cell_type": "markdown",
   "metadata": {},
   "source": [
    "import needed packages"
   ]
  },
  {
   "cell_type": "code",
   "execution_count": 2,
   "metadata": {},
   "outputs": [],
   "source": [
    "import os\n",
    "os.environ['TF_CPP_MIN_LOG_LEVEL'] = '1' \n",
    "import numpy as np\n",
    "# remove avx warning:\n",
    "# I tensorflow/core/platform/cpu_feature_guard.cc:182] This TensorFlow binary is optimized to use available CPU instructions in performance-critical operations.\n",
    "# To enable the following instructions: AVX2 FMA, in other operations, rebuild TensorFlow with the appropriate compiler flags.\n",
    "\n",
    "from pandas import DataFrame,Series\n",
    "\n",
    "\n",
    "\n"
   ]
  },
  {
   "cell_type": "markdown",
   "metadata": {},
   "source": [
    "define classification class"
   ]
  },
  {
   "cell_type": "code",
   "execution_count": 3,
   "metadata": {},
   "outputs": [
    {
     "name": "stdout",
     "output_type": "stream",
     "text": [
      "The directory already exists!\n",
      "j         : b2345a_reduced\n",
      "feautures_ind: 2\n",
      "data_folder: Data_\n",
      "visualize : True\n",
      "plotUMAP  : True\n",
      "show      : True\n",
      "saveSVG   : False\n",
      "recalculate_umap: True\n",
      "recalculate_db: True\n",
      "create_adjusted: False\n",
      "compare   : False\n",
      "isSingleSample: False\n",
      "home      : /Users/yishai\n",
      "dir_data  : /Users/yishai/Dropbox/CyTOF_Breast/data_yishai/Data_/\n",
      "dir_index : /Users/yishai/Dropbox/CyTOF_Breast/data_yishai/indexes/\n",
      "dir_plots : /Users/yishai/Dropbox/CyTOF_Breast/data_yishai//plots/_sample_b2345a_28022024_Data_/\n",
      "dir_functions: /Users/yishai/Desktop/breast_cancer_PHD_research/functions/\n",
      "save_add  : /Users/yishai/Dropbox/CyTOF_Breast/data_yishai/\n",
      "name      : CellIden+EpiCols\n",
      "title     : sampb2345a_reduced CellIden+EpiCols Based \n",
      "figname   : sampb2345a_reduced_CellIden+EpiCols_Based_\n",
      "features  : ['K5', 'EpCam', 'aSMA', 'Vimentin', 'ER', 'CD49f', 'CD24', 'GATA3', 'CD44', 'K8-18', 'Ki67', 'ECad', 'panKeratin', 'H3K27me2', 'H3K36me2', 'H3K4me1', 'H3K9me2', 'H4K16ac', 'H2Aub', 'H3K64ac', 'H3K27ac', 'H4K20me3', 'BMI-1', 'EZH2', 'gH2AX', 'H3K9ac', 'H3K9me3', 'H3S28p', 'H3K36me3', 'H3K4me3', 'H3K27me3']\n",
      "groups    : {'CellIden': ['K5', 'EpCam', 'aSMA', 'Vimentin', 'ER', 'CD49f', 'CD24', 'GATA3', 'CD44', 'K8-18', 'Ki67', 'ECad', 'panKeratin'], 'EpiCols': ['H3K27me2', 'H3K36me2', 'H3K4me1', 'H3K9me2', 'H4K16ac', 'H2Aub', 'H3K64ac', 'H3K27ac', 'H4K20me3', 'BMI-1', 'EZH2', 'gH2AX', 'H3K9ac', 'H3K9me3', 'H3S28p', 'H3K36me3', 'H3K4me3', 'H3K27me3'], 'CellIden+EpiCols': ['K5', 'EpCam', 'aSMA', 'Vimentin', 'ER', 'CD49f', 'CD24', 'GATA3', 'CD44', 'K8-18', 'Ki67', 'ECad', 'panKeratin', 'H3K27me2', 'H3K36me2', 'H3K4me1', 'H3K9me2', 'H4K16ac', 'H2Aub', 'H3K64ac', 'H3K27ac', 'H4K20me3', 'BMI-1', 'EZH2', 'gH2AX', 'H3K9ac', 'H3K9me3', 'H3S28p', 'H3K36me3', 'H3K4me3', 'H3K27me3'], 'CellCycle': ['CyclinB1', 'pRB', 'H3S28p', 'DNA2'], 'Core': ['H4', 'H3', 'H3.3'], 'NamesAll': ['H4', 'H3', 'H3.3', 'ECad', 'panKeratin', 'K5', 'EpCam', 'H3K27me2', 'EZH2', 'gH2AX', 'aSMA', 'H3K36me2', 'H3K4me1', 'H3K9me2', 'H4K16ac', 'H2Aub', 'Vimentin', 'H3K64ac', 'BMI-1', 'H3K27ac', 'H4K20me3', 'ER', 'CD49f', 'CD24', 'GATA3', 'H3K9ac', 'H3K9me3', 'CD44', 'Ki67', 'K8-18', 'H3K36me3', 'H3K4me3', 'H3K27me3', 'H3S28p']}\n"
     ]
    }
   ],
   "source": [
    "\n",
    "\n",
    "\n",
    "from classes import *\n",
    "from usefull_functions_new import random_list\n",
    "from xg_shap import *\n",
    "from plot_functions_new import class_colors\n",
    "classification = Classification(**config)#build class (either from MASTER or from here) using parent class containg the config data\n",
    "\n",
    "if not use_MASTER:\n",
    "    \n",
    "    classification.get_attribute()#print all attributes (config info)      \n",
    "        "
   ]
  },
  {
   "cell_type": "markdown",
   "metadata": {},
   "source": [
    "get labels for classification"
   ]
  },
  {
   "cell_type": "code",
   "execution_count": 4,
   "metadata": {},
   "outputs": [],
   "source": [
    "if not use_MASTER:\n",
    "    samples = Series(df['samp'])\n",
    "    # .strdrop_duplicates()\n",
    "    labels = Series(np.random.randint(-1,5,df.shape[0]),index = df.index)#random labels for testing\n",
    "    \n",
    "    # the labels of each single sample clustering\n",
    "    sample_labels = Series(np.random.randint(-1,5,df.shape[0]),index = df.index)#random labels for testing\n",
    "    sample_labels.loc[0],samples.loc[0]=-99,4.0#add error to test error handling\n"
   ]
  },
  {
   "cell_type": "markdown",
   "metadata": {},
   "source": []
  },
  {
   "cell_type": "code",
   "execution_count": 5,
   "metadata": {},
   "outputs": [
    {
     "name": "stdout",
     "output_type": "stream",
     "text": [
      "error in sample 4.0 and label -99\n",
      "unique classes: ['Basal-like', 'Cycling', 'Luminal', 'Noise', 'Unknown', 'classification_error']\n",
      "classification - done\n"
     ]
    }
   ],
   "source": [
    "\n",
    "if not use_MASTER:\n",
    "\n",
    "    # labels_to_classes_dict = classification.classes_dict(f\"{classification.dir_data}_clusters_temp.csv\")\n",
    "    # classes = classification.get_classes(samples,sample_labels,labels_to_classes_dict)\n",
    "    # # print(classes)\n",
    "    # ind = classes.copy()[classes!='noise'][classes!='unknown'][classes!='classification_error'].index\n",
    "    \n",
    "    \n",
    "    labels_to_classes_dict = classification.classes_dict(f\"{classification.dir_data}_clusters.csv\")\n",
    "    classes = classification.get_classes(samples,sample_labels,labels_to_classes_dict)\n",
    "    # print(classes)\n",
    "    del labels_to_classes_dict\n",
    "    print (f'unique classes: {sorted(classes.unique())}')\n",
    "\n",
    "    print ('classification - done')\n",
    "\n"
   ]
  },
  {
   "cell_type": "code",
   "execution_count": 6,
   "metadata": {},
   "outputs": [
    {
     "name": "stdout",
     "output_type": "stream",
     "text": [
      "/Users/yishai/Dropbox/CyTOF_Breast/data_yishai/Data_/\n",
      "classes_sampb2345a_reduced_CellIden+EpiCols_Based_ ; loaded from file\n",
      "unique classes: ['Basal-like', 'Cycling', 'Luminal', 'Noise', 'Unknown', 'classification_error']\n"
     ]
    }
   ],
   "source": [
    "print(classification.dir_data)\n",
    "\n",
    "if isfile(classification.dir_data + f'classes_{classification.figname}.p') : \n",
    "    classes = classification.pickle_load(f'classes_{classification.figname}', classification.dir_data)\n",
    "    # loaded as pd series\n",
    "else: #either we want to calculate classes again or the file does not exist\n",
    "    labels_to_classes_dict = classification.classes_dict(f\"{classification.dir_data}_clusters.csv\")\n",
    "    classes = classification.get_classes(samples,sample_labels,labels_to_classes_dict)\n",
    "    # print(classes)\n",
    "    classification.pickle_dump(f'classes_{classification.figname}', classes, classification.dir_data)\n",
    "print (f'unique classes: {sorted(classes.unique())}')\n"
   ]
  },
  {
   "cell_type": "code",
   "execution_count": 7,
   "metadata": {},
   "outputs": [
    {
     "data": {
      "text/plain": [
       "'/Users/yishai/Dropbox/CyTOF_Breast/data_yishai/Data_/classes_sampb2345a_reduced_CellIden+EpiCols_Based_.p'"
      ]
     },
     "execution_count": 7,
     "metadata": {},
     "output_type": "execute_result"
    }
   ],
   "source": [
    "classification.dir_data + f'classes_{classification.figname}.p'"
   ]
  },
  {
   "cell_type": "code",
   "execution_count": 8,
   "metadata": {},
   "outputs": [
    {
     "name": "stdout",
     "output_type": "stream",
     "text": [
      "head of dataframe:\n",
      "                     0\n",
      "0                   -1\n",
      "1  Basal-like : 16.48%\n",
      "2      Cycling : 26.7%\n",
      "3     Luminal : 40.34%\n",
      "4       Noise : 13.07%\n",
      "head of dataframe:\n",
      "                     0\n",
      "0                   -1\n",
      "1  Basal-like : 16.48%\n",
      "2      Cycling : 26.7%\n",
      "3     Luminal : 40.34%\n",
      "4       Noise : 13.07%\n",
      "UMAP cluster classification's probability  - done\n"
     ]
    }
   ],
   "source": [
    "if not use_MASTER:\n",
    "    from usefull_functions_new import cluster_samples_probability\n",
    "    cluster_samples_probability(labels,classes,config,fname = 'class_prob')\n",
    "\n",
    "    from usefull_functions_new import cluster_samples_probability\n",
    "    cluster_samples_probability(labels[classes!='noise'],classes[classes!='noise'],config,fname = 'class_prob_without_noise')\n",
    "    \n",
    "    print(\"UMAP cluster classification's probability  - done\")"
   ]
  },
  {
   "cell_type": "code",
   "execution_count": 9,
   "metadata": {},
   "outputs": [],
   "source": [
    "if not use_MASTER:\n",
    "\n",
    "    classes = Series(random_list(LEN = df.shape[0], arr = ['Unknown', 'Noise' ,'Luminal' ,'Basal-like' ,'Cycling']),index = df.index)\n"
   ]
  },
  {
   "cell_type": "code",
   "execution_count": 10,
   "metadata": {},
   "outputs": [
    {
     "name": "stdout",
     "output_type": "stream",
     "text": [
      "['Basal-like' 'Noise' 'Cycling' 'Luminal' 'Unknown']\n",
      "['Lum&Basal' 'Cycling']\n",
      "['Basal-like' 'Luminal']\n"
     ]
    }
   ],
   "source": [
    "if not use_MASTER:\n",
    "\n",
    "    # ['Unknown' 'Noise' 'Luminal' 'Basal-like' 'Cycling']\n",
    "    print(classes.unique())\n",
    "    classes1 = classes[(classes=='Basal-like')|(classes=='Luminal')|(classes=='Cycling')].copy()\n",
    "    classes1[(classes=='Basal-like')|(classes=='Luminal')] = 'Lum&Basal'\n",
    "    classes2 = classes[(classes=='Basal-like')|(classes=='Luminal')].copy()\n",
    "\n",
    "    print(classes1.unique())\n",
    "    print(classes2.unique())"
   ]
  },
  {
   "cell_type": "code",
   "execution_count": null,
   "metadata": {},
   "outputs": [],
   "source": [
    "\n"
   ]
  }
 ],
 "metadata": {
  "kernelspec": {
   "display_name": ".venv",
   "language": "python",
   "name": "python3"
  },
  "language_info": {
   "codemirror_mode": {
    "name": "ipython",
    "version": 3
   },
   "file_extension": ".py",
   "mimetype": "text/x-python",
   "name": "python",
   "nbconvert_exporter": "python",
   "pygments_lexer": "ipython3",
   "version": "3.11.6"
  }
 },
 "nbformat": 4,
 "nbformat_minor": 2
}
