{
 "cells": [
  {
   "cell_type": "code",
   "execution_count": 1,
   "metadata": {},
   "outputs": [],
   "source": [
    "try: use_MASTER\n",
    "except: use_MASTER = False\n",
    "\n",
    "if not use_MASTER:\n",
    "    j='b2345a'#all samples\n",
    "    # j='b2345_prescaled'\n",
    "    args =  {\n",
    "            'j' : j,\n",
    "            'feautures_ind':4,\n",
    "            'data_folder' : 'Data_',\n",
    "            # 'data_folder' : 'age_prescaled',\n",
    "            \n",
    "            # create visualization (umap, dbscan are always shown)\n",
    "            'visualize':True,'plotUMAP' : True,\n",
    "            # show figures in notebook\n",
    "            'show' : True, 'saveSVG' :False,\n",
    "            'recalculate_umap' : False,# calculate umap\n",
    "            'recalculate_db' : True,# calculate db\n",
    "            'create_adjusted' : False,\n",
    "            'compare' : False,# compare 11,stroma and rest of the cells     \n",
    "            \n",
    "            }\n"
   ]
  },
  {
   "cell_type": "code",
   "execution_count": 2,
   "metadata": {},
   "outputs": [],
   "source": [
    "\n",
    "\n",
    "\n",
    "import json\n",
    "\n",
    "import sys,pathlib, os, warnings\n",
    "from numba.core.errors import NumbaDeprecationWarning, NumbaPendingDeprecationWarning\n",
    "warnings.simplefilter('ignore', category=NumbaDeprecationWarning)\n",
    "warnings.simplefilter('ignore', category=NumbaPendingDeprecationWarning)\n",
    "# from tqdm import tqdm_notebook, tqdm\n",
    "import datetime,time\n",
    "# start = time.process_time()\n",
    "\n",
    "import pandas as pd\n",
    "import matplotlib.pyplot as plt\n",
    "import numpy as np\n",
    "import matplotlib\n",
    "# from typing import List\n",
    "\n",
    "matplotlib.rcParams['pdf.fonttype'] = 42\n",
    "matplotlib.rcParams['ps.fonttype'] = 42\n",
    "plt.rcParams['pdf.fonttype'] = 42\n",
    "plt.rcParams['ps.fonttype'] = 42\n",
    "# from IPython.display import Image, display\n",
    "# from matplotlib.pyplot import rc_context\n",
    "# from epinuc import *\n",
    "sys.path.append(f'{str(pathlib.Path.home())}/Desktop/breast_cancer_PHD_research/functions/')\n",
    "\n",
    "from parent_class import Parent \n",
    "# import  print_n_log \n",
    "\n",
    "\n",
    "\n",
    "# from usefull_functions_new import *\n",
    "from usefull_functions_new import cluster_samples_probability,removeFeatures\n",
    "\n",
    "# from functions import *\n",
    "# # from plot_functions import *\n",
    "# # from clustering_functions import *\n",
    "from xg_shap import * \n",
    "from plot_functions_new import *\n",
    "\n",
    "\n",
    "\n",
    "\n",
    "plt.rcParams[\"figure.figsize\"] = (5.0, 4.0)  # Set default size of plots.\n",
    "plt.rcParams[\"image.interpolation\"] = \"nearest\"\n",
    "plt.rcParams[\"image.cmap\"] = \"gray\"\n",
    "%matplotlib inline\n",
    "\n",
    "pd.set_option('display.max_rows', 500)\n",
    "pd.set_option('display.max_columns', 500)\n",
    "pd.set_option('display.width', 180)  # according to screen width\n",
    "\n",
    "%load_ext autoreload\n",
    "%autoreload 2"
   ]
  },
  {
   "cell_type": "code",
   "execution_count": 3,
   "metadata": {},
   "outputs": [],
   "source": [
    "from pandas import DataFrame,Series\n",
    "# from typing import List\n",
    "from numpy import ndarray\n",
    "from matplotlib.pyplot import figure"
   ]
  },
  {
   "cell_type": "code",
   "execution_count": 4,
   "metadata": {},
   "outputs": [
    {
     "name": "stdout",
     "output_type": "stream",
     "text": [
      "/Users/yishai/Desktop/breast_cancer_PHD_research/phd_extras/data_yishai/Data_/\n",
      "The directory already exists!\n"
     ]
    }
   ],
   "source": [
    "\n",
    "\n",
    "class Config(Parent):\n",
    "\n",
    "    def __init__(self, **args):\n",
    "        '''\n",
    "        args is a dictionary of parameters inserted by user\n",
    "        '''\n",
    "        loaded_args = self.args_from_json() \n",
    "        args = args if not loaded_args else loaded_args\n",
    "        self.__dict__.update(args)\n",
    "        \n",
    "        self.isSingleSample = True if 'b' not in self.j else False\n",
    "        self.isCellCycle = True if '.2'  in self.j else False#18.2,14.2\n",
    "        \n",
    "        self.home = str(pathlib.Path.home())\n",
    "        self.dir_functions = f'{self.home}/Desktop/breast_cancer_PHD_research/functions/'\n",
    "        # self.dir_data_parent = f'{self.home}/Dropbox/CyTOF_Breast/data_yishai/'\n",
    "        self.dir_data_parent = f'{self.home}/Desktop/breast_cancer_PHD_research/phd_extras/data_yishai/'\n",
    "        \n",
    "        self.dir_data = f'{self.dir_data_parent}{self.data_folder}/'\n",
    "        print(self.dir_data )\n",
    "        self.dir_index =  f'{self.dir_data_parent}indexes/'\n",
    "        # self.dir_plots = f'{self.home}/Desktop/plots/_sample_{self.j}_{datetime.date.today().strftime(\"%d%m%Y\")}_{self.data_folder}/'\n",
    "        self.dir_plots = f'{self.dir_data_parent}plots/_sample_{self.j}_{datetime.date.today().strftime(\"%d%m%Y\")}_{self.data_folder}/'\n",
    "        #data for tetsing\n",
    "        self.save_add =  f'{self.dir_data_parent}'\n",
    "        \n",
    "        # self.params = ['iden', 'epi', 'all','cell'][self.feautures_ind]#params (for db and umap)\n",
    "        \n",
    "        # self.print()\n",
    "        \n",
    "        self.folderExists(self.dir_plots)\n",
    "\n",
    "    def update(self, **kwargs):\n",
    "        \n",
    "        self.__dict__.update(kwargs)\n",
    "    def args_from_json(self):\n",
    "        # if thers an external program running script (saving a json file) - take it\n",
    "        # otherwise take the input j\n",
    "        try:   \n",
    "            with open('args.json', 'r') as f: \n",
    "                args =  json.load(f)#load args dictionary from file\n",
    "            os.remove('args.json')\n",
    "            print('loaded from file')\n",
    "        except:\n",
    "            args = None\n",
    "        return args\n",
    "        \n",
    "    def getNames(self,names):\n",
    "        self.name = list(names)[self.feautures_ind]\n",
    "\n",
    "        self.title = f'samp{self.j} {self.name} Based '\n",
    "        self.figname = self.title.replace(' ','_')      \n",
    "    def print(self):\n",
    "        print(f\"Sample is: {'single' if self.isSingleSample else 'batch'}\")\n",
    "        # print(f'title; {title}, figname; {figname}, params (for db and umap);{params}')\n",
    "        print(f'title; {self.title}, figname; {self.figname}')#, params (for db and umap);{self.params}\n",
    "\n",
    "    def get_dict(self):\n",
    "        \"\"\"\n",
    "        Prints all attribute of the config object\n",
    "        \"\"\"\n",
    "       \n",
    "        config_dict = {}\n",
    "        for i in (vars(self)):\n",
    "            #print(\"{0:10}: {1}\".format(i, vars(self)[i]))\n",
    "            config_dict[i] = vars(self)[i]\n",
    "        \n",
    "        return config_dict\n",
    "\n",
    "\n",
    "config = Config(**args)\n",
    "\n"
   ]
  },
  {
   "cell_type": "code",
   "execution_count": 5,
   "metadata": {},
   "outputs": [
    {
     "name": "stdout",
     "output_type": "stream",
     "text": [
      "sample b2345a loaded from file\n"
     ]
    }
   ],
   "source": [
    "try: # json instead of pickle - slower but readable\n",
    "    with open(f'{config.dir_data}{config.j}_sample.json', \"r\") as f:\n",
    "        df = pd.DataFrame.from_dict(json.load(f)).reset_index(drop=True)\n",
    "    with open(f'{config.dir_data}{config.j}_features.json', \"r\") as f:\n",
    "        names_dict = json.load(f)\n",
    "    print (f'sample {config.j} loaded from file')\n",
    "        \n",
    "        \n",
    "except:# json file doesnt exist - create it\n",
    "    df1 = config.pickle_load('k'+config.j+'_dict', config.dir_data)['k'].reset_index(drop=True)\n",
    "    names_dict1 = config.pickle_load('k'+config.j+'_names_dict', config.dir_data)\n",
    "    with open(f'{config.dir_data}{config.j}_sample.json', \"w\") as f:\n",
    "        json.dump(df1.to_dict(),f, )#indent = 4\n",
    "    with open(f'{config.dir_data}{config.j}_features.json', \"w\") as f:\n",
    "        json.dump(names_dict1,f, )#indent = 4 \n",
    "        \n",
    "    with open(f'{config.dir_data}{config.j}_sample.json', \"r\") as f:\n",
    "        df = pd.DataFrame.from_dict(json.load(f)).reset_index(drop=True)\n",
    "    with open(f'{config.dir_data}{config.j}_features.json', \"r\") as f:\n",
    "        names_dict = json.load(f) \n",
    "    print((df1==df).all().all())\n",
    "    print(names_dict1==names_dict) \n",
    "    print('json files created and loaded')  \n",
    "del f"
   ]
  },
  {
   "cell_type": "code",
   "execution_count": 6,
   "metadata": {},
   "outputs": [
    {
     "data": {
      "text/plain": [
       "'/Users/yishai/Desktop/breast_cancer_PHD_research/phd_extras/data_yishai/Data_/'"
      ]
     },
     "execution_count": 6,
     "metadata": {},
     "output_type": "execute_result"
    }
   ],
   "source": [
    "config.dir_data"
   ]
  },
  {
   "cell_type": "code",
   "execution_count": 7,
   "metadata": {},
   "outputs": [
    {
     "name": "stdout",
     "output_type": "stream",
     "text": [
      "j         : b2345a\n",
      "feautures_ind: 4\n",
      "data_folder: Data_\n",
      "visualize : True\n",
      "plotUMAP  : True\n",
      "show      : True\n",
      "saveSVG   : False\n",
      "recalculate_umap: False\n",
      "recalculate_db: True\n",
      "create_adjusted: False\n",
      "compare   : False\n",
      "isSingleSample: False\n",
      "isCellCycle: False\n",
      "home      : /Users/yishai\n",
      "dir_functions: /Users/yishai/Desktop/breast_cancer_PHD_research/functions/\n",
      "dir_data_parent: /Users/yishai/Desktop/breast_cancer_PHD_research/phd_extras/data_yishai/\n",
      "dir_data  : /Users/yishai/Desktop/breast_cancer_PHD_research/phd_extras/data_yishai/Data_/\n",
      "dir_index : /Users/yishai/Desktop/breast_cancer_PHD_research/phd_extras/data_yishai/indexes/\n",
      "dir_plots : /Users/yishai/Desktop/breast_cancer_PHD_research/phd_extras/data_yishai/plots/_sample_b2345a_05062024_Data_/\n",
      "save_add  : /Users/yishai/Desktop/breast_cancer_PHD_research/phd_extras/data_yishai/\n"
     ]
    }
   ],
   "source": [
    "config.get_attribute()#print all attributes (config info)      "
   ]
  },
  {
   "cell_type": "code",
   "execution_count": 8,
   "metadata": {},
   "outputs": [
    {
     "name": "stdout",
     "output_type": "stream",
     "text": [
      "not use_MASTER - df is shuffled and reduced to 1000\n",
      "k size: 1000\n"
     ]
    }
   ],
   "source": [
    "if not use_MASTER:\n",
    "    LEN = 1000\n",
    "    \n",
    "    ind = list(df.index)\n",
    "    np.random.shuffle(ind)  \n",
    "    df = df.loc[ind[:LEN]].reset_index(drop=True)\n",
    "    del ind\n",
    "    print (f'not use_MASTER - df is shuffled and reduced to {LEN}')\n",
    "    print(f'k size: {len(df)}')\n",
    "\n",
    "    config.j = config.j + '_reduced'"
   ]
  },
  {
   "cell_type": "code",
   "execution_count": 9,
   "metadata": {},
   "outputs": [
    {
     "name": "stdout",
     "output_type": "stream",
     "text": [
      "b2345a_reduced with size: 1000\n",
      "Sample is: batch\n",
      "title; sampb2345a_reduced setA Based , figname; sampb2345a_reduced_setA_Based_\n"
     ]
    }
   ],
   "source": [
    "\n",
    "\n",
    "\n",
    "\n",
    "# try:#batch's stroma data if exists\n",
    "#     stroma = config.pickle_load('k'+config.j[:-1]+'s'+'_dict', config.dir_data)['k'].reset_index(drop=True)\n",
    "# except:\n",
    "#     pass\n",
    "\n",
    "# CAll = pd.concat([k.copy()])\n",
    "print(f'{config.j} with size: {len(df)}')\n",
    "\n",
    "\n",
    "# verify if needed; #remove them from the names_dict; they need to be only in cellcycle\n",
    "names_dict = names_dict if '.2a' not in config.j else removeFeatures(names_dict.copy(),remove_features = ['CyclinB1', 'pRB','H3S28p','DNA2'])#\n",
    "\n",
    "# NamesAll = names_dict['NamesAll']\n",
    "# Core = names_dict['Core']\n",
    "\n",
    "# ---------------------------------------\n",
    "# groups = [['CellIden',              'EpiCols',              'CellIden+EpiCols', ],\n",
    "#         [names_dict['CellIden'], names_dict['EpiCols'], names_dict['CellIden']+names_dict['EpiCols'],]]#EpiCols = ['EpiCols'] +['MBD']\n",
    "groups = {'CellIden':names_dict['CellIden'],             'EpiCols':names_dict['EpiCols'] ,            'CellIden+EpiCols' :names_dict['CellIden']+names_dict['EpiCols'] ,\n",
    "           'CellCycle': ['CyclinB1', 'pRB','H3S28p','DNA2'],\n",
    "           'setA':['K5', 'GATA3', 'ER', 'H3K4me3', 'H3K27me3', 'H3K4me1', 'H3K9me2', 'H3K36me3', 'H4K20me3', 'H3K27me2', 'H3K9me3'],\n",
    "          'Core' : names_dict['Core'],              'NamesAll': names_dict['NamesAll'],\n",
    "            \n",
    "            \n",
    "          }\n",
    "\n",
    "\n",
    "config.getNames(groups.keys())\n",
    "config.features =  groups[config.name]\n",
    "config.groups = groups; del groups\n",
    "config.print()\n",
    "\n",
    "\n",
    "\n",
    "\n"
   ]
  },
  {
   "cell_type": "code",
   "execution_count": 10,
   "metadata": {},
   "outputs": [],
   "source": [
    "# p=0.99\n",
    "\n",
    "\n",
    "# def predict_with_threshold(data,model ,label_encoder = None,thresh = 0.99,):\n",
    "    \n",
    "#     proba,preds  = model.predict_proba(data), model.predict(data)\n",
    "#     preds[proba[np.arange(len(proba)),preds]<thresh] = len(np.unique(preds))#set all values that are not classified with high thresh to new class not in the original classes\n",
    "#     if label_encoder is None:\n",
    "#         return preds#don't inverse transform labels\n",
    "#     labels = label_encoder.classes_\n",
    "#     label_encoder.classes_ = np.append(labels, 'unclassified')#add the new class to the label encoder\n",
    "#     preds =  label_encoder.inverse_transform(preds)\n",
    "#     label_encoder.classes_ = labels#return the original classes to the label encoder\n",
    "#     return preds\n",
    "# ind_to_predict = classes3[classes3=='Noise'].index#predict only Noise & unknown\n",
    "# for thresh in [0,0.1,0.2,0.2,0.5,0.7,0.9,0.99]:\n",
    "#     preds = predict_with_threshold(data = df[config['features']].loc[ind_to_predict],thresh = thresh,model = model,label_encoder = label_encoder,)\n",
    "#     print(thresh,len(preds[preds=='unclassified'])/len(preds),len(preds[preds=='unclassified']))\n",
    "    \n"
   ]
  },
  {
   "cell_type": "code",
   "execution_count": 11,
   "metadata": {},
   "outputs": [
    {
     "name": "stdout",
     "output_type": "stream",
     "text": [
      "dict_keys(['j', 'feautures_ind', 'data_folder', 'visualize', 'plotUMAP', 'show', 'saveSVG', 'recalculate_umap', 'recalculate_db', 'create_adjusted', 'compare', 'isSingleSample', 'isCellCycle', 'home', 'dir_functions', 'dir_data_parent', 'dir_data', 'dir_index', 'dir_plots', 'save_add', 'name', 'title', 'figname', 'features', 'groups'])\n",
      "saved into: /Users/yishai/Desktop/breast_cancer_PHD_research/phd_extras/data_yishai/\n",
      "/Users/yishai/Desktop/breast_cancer_PHD_research/phd_extras/data_yishai/plots/_sample_b2345a_05062024_Data_/\n",
      "/Users/yishai/Desktop/breast_cancer_PHD_research/phd_extras/data_yishai/Data_/\n"
     ]
    }
   ],
   "source": [
    "\n",
    "\n",
    "try:\n",
    "    del names_dict,args,j\n",
    "    config = config.get_dict()\n",
    "except:\n",
    "    pass\n",
    "print(config.keys())\n",
    "if not use_MASTER:\n",
    "    # import pickle\n",
    "    # with open(config['save_add']+'default_data'+'.p', \"wb\") as f:\n",
    "    #     pickle.dump([df,config], file, protocol=pickle.HIGHEST_PROTOCOL)\n",
    "    with open(f'{config[\"save_add\"]}default_sample.json', \"w\") as f:\n",
    "        json.dump(df.to_dict(),f, )#indent = 4\n",
    "    # print(config[\"dir_data\"])\n",
    "    # config[\"dir_data\"] = config[\"save_add\"]#change default saving and loading folder\n",
    "    # print(config[\"dir_data\"])\n",
    "    with open(f'{config[\"save_add\"]}default_config.json', \"w\") as f:\n",
    "        json.dump(config,f, )#indent = 4 \n",
    "    print(f'saved into: {config[\"save_add\"]}')\n",
    "    print (config['dir_plots'])\n",
    "    print (config['dir_data'])\n",
    "    del f\n"
   ]
  }
 ],
 "metadata": {
  "kernelspec": {
   "display_name": "torch39",
   "language": "python",
   "name": "python3"
  },
  "language_info": {
   "codemirror_mode": {
    "name": "ipython",
    "version": 3
   },
   "file_extension": ".py",
   "mimetype": "text/x-python",
   "name": "python",
   "nbconvert_exporter": "python",
   "pygments_lexer": "ipython3",
   "version": "3.11.6"
  }
 },
 "nbformat": 4,
 "nbformat_minor": 2
}
