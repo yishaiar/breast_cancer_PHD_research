{
 "cells": [
  {
   "cell_type": "code",
   "execution_count": 1,
   "metadata": {},
   "outputs": [],
   "source": [
    "import os\n",
    "from openai import AzureOpenAI\n",
    "api_key = 'a3b0ddd7b12f4e0a8147efce6335cb86'\n",
    "azure_endpoint = 'https://yishai-test1.openai.azure.com/'\n",
    "client = AzureOpenAI(\n",
    "    api_key=api_key,  \n",
    "    api_version=\"2024-02-01\",\n",
    "    azure_endpoint = azure_endpoint\n",
    "    )\n",
    "    \n",
    "    \n"
   ]
  },
  {
   "cell_type": "code",
   "execution_count": 2,
   "metadata": {},
   "outputs": [
    {
     "name": "stdout",
     "output_type": "stream",
     "text": [
      "Sending a test completion job\n",
      "Write a tagline for an ice cream shop. \n",
      "\n",
      "\"Scoops of Happiness in Every Bite!\"\n"
     ]
    }
   ],
   "source": [
    "deployment_name='gpt-35-turbo-instruct'\n",
    "\n",
    "# turbo-instruct' #This will correspond to the custom name you chose for your deployment when you deployed a model. Use a gpt-35-turbo-instruct deployment. \n",
    "    \n",
    "# Send a completion call to generate an answer\n",
    "print('Sending a test completion job')\n",
    "start_phrase = 'Write a tagline for an ice cream shop. '\n",
    "response = client.completions.create(model=deployment_name, prompt=start_phrase, max_tokens=10)\n",
    "print(start_phrase+response.choices[0].text)"
   ]
  },
  {
   "cell_type": "code",
   "execution_count": 3,
   "metadata": {},
   "outputs": [
    {
     "name": "stdout",
     "output_type": "stream",
     "text": [
      "{\n",
      "  \"id\": \"chatcmpl-9eJERy1Hq5tYseTLH1TatqY1WcPgA\",\n",
      "  \"choices\": [\n",
      "    {\n",
      "      \"finish_reason\": \"stop\",\n",
      "      \"index\": 0,\n",
      "      \"message\": {\n",
      "        \"content\": \"In the context of an opinion mining service, \\\"DRI\\\" typically refers to the Directly Responsible Individual who is accountable for overseeing the development, management, and execution of the service. This person is in charge of ensuring that the opinion mining tools and processes effectively capture, analyze, and interpret user opinions from various data sources. Their responsibilities may include:\\n\\n- Leading the development team to build and improve opinion mining algorithms and software.\\n- Coordinating with data scientists to refine sentiment analysis models.\\n- Managing data collection and preprocessing tasks.\\n- Ensuring the accuracy and reliability of opinion analysis reports.\\n- Collaborating with stakeholders to tailor the service to meet business needs.\\n\\nThe specific individual who serves as the DRI will vary based on the organization offering the opinion mining service. This role may be filled by a product manager, data scientist, or another key figure within the company.\",\n",
      "        \"role\": \"assistant\"\n",
      "      },\n",
      "      \"content_filter_results\": {\n",
      "        \"hate\": {\n",
      "          \"filtered\": false,\n",
      "          \"severity\": \"safe\"\n",
      "        },\n",
      "        \"self_harm\": {\n",
      "          \"filtered\": false,\n",
      "          \"severity\": \"safe\"\n",
      "        },\n",
      "        \"sexual\": {\n",
      "          \"filtered\": false,\n",
      "          \"severity\": \"safe\"\n",
      "        },\n",
      "        \"violence\": {\n",
      "          \"filtered\": false,\n",
      "          \"severity\": \"safe\"\n",
      "        }\n",
      "      }\n",
      "    }\n",
      "  ],\n",
      "  \"created\": 1719394075,\n",
      "  \"model\": \"gpt-4o-2024-05-13\",\n",
      "  \"object\": \"chat.completion\",\n",
      "  \"system_fingerprint\": \"fp_abc28019ad\",\n",
      "  \"usage\": {\n",
      "    \"completion_tokens\": 173,\n",
      "    \"prompt_tokens\": 42,\n",
      "    \"total_tokens\": 215\n",
      "  },\n",
      "  \"prompt_filter_results\": [\n",
      "    {\n",
      "      \"prompt_index\": 0,\n",
      "      \"content_filter_results\": {\n",
      "        \"hate\": {\n",
      "          \"filtered\": false,\n",
      "          \"severity\": \"safe\"\n",
      "        },\n",
      "        \"self_harm\": {\n",
      "          \"filtered\": false,\n",
      "          \"severity\": \"safe\"\n",
      "        },\n",
      "        \"sexual\": {\n",
      "          \"filtered\": false,\n",
      "          \"severity\": \"safe\"\n",
      "        },\n",
      "        \"violence\": {\n",
      "          \"filtered\": false,\n",
      "          \"severity\": \"safe\"\n",
      "        }\n",
      "      }\n",
      "    }\n",
      "  ]\n",
      "}\n"
     ]
    }
   ],
   "source": [
    "\n",
    "import os\n",
    "from openai import AzureOpenAI\n",
    "\n",
    "deployment_name='gpt-4-turbo'\n",
    "deployment_name='gpt-4o'     \n",
    "completion = client.chat.completions.create(\n",
    "    model=deployment_name,\n",
    "    messages=[\n",
    "        {\n",
    "            \"role\": \"user\",\n",
    "            \"content\": \"Who is DRI?\",\n",
    "        },\n",
    "        {\n",
    "            \"role\": \"assistant\",\n",
    "            \"content\": \"DRI stands for Directly Responsible Individual of a service. Which service are you asking about?\"\n",
    "        },\n",
    "        {\n",
    "            \"role\": \"user\",\n",
    "            \"content\": \"Opinion mining service\"\n",
    "        }\n",
    "    ],\n",
    "    # extra_body={\n",
    "    #     \"data_sources\": [\n",
    "    #         {\n",
    "    #             \"type\": \"azure_search\",\n",
    "    #             \"parameters\": {\n",
    "    #                 \"endpoint\": search_endpoint,\n",
    "    #                 \"index_name\": search_index,\n",
    "    #                 \"authentication\": {\n",
    "    #                     \"type\": \"system_assigned_managed_identity\"\n",
    "    #                 }\n",
    "    #             }\n",
    "            # }\n",
    "        # ]\n",
    "    # }\n",
    ")\n",
    "      \n",
    "print(completion.to_json())"
   ]
  },
  {
   "cell_type": "markdown",
   "metadata": {},
   "source": []
  }
 ],
 "metadata": {
  "kernelspec": {
   "display_name": ".venv",
   "language": "python",
   "name": "python3"
  },
  "language_info": {
   "codemirror_mode": {
    "name": "ipython",
    "version": 3
   },
   "file_extension": ".py",
   "mimetype": "text/x-python",
   "name": "python",
   "nbconvert_exporter": "python",
   "pygments_lexer": "ipython3",
   "version": "3.11.6"
  }
 },
 "nbformat": 4,
 "nbformat_minor": 2
}
