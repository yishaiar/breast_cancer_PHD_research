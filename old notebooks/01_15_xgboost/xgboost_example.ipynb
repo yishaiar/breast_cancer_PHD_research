{
 "cells": [
  {
   "attachments": {},
   "cell_type": "markdown",
   "metadata": {},
   "source": [
    "regression"
   ]
  },
  {
   "cell_type": "code",
   "execution_count": 1,
   "metadata": {},
   "outputs": [
    {
     "name": "stderr",
     "output_type": "stream",
     "text": [
      "/home/yishai/Data/anaconda3/envs/tf_39/lib/python3.9/site-packages/xgboost/compat.py:36: FutureWarning: pandas.Int64Index is deprecated and will be removed from pandas in a future version. Use pandas.Index with the appropriate dtype instead.\n",
      "  from pandas import MultiIndex, Int64Index\n"
     ]
    }
   ],
   "source": [
    "import xgboost as xgb\n",
    "import numpy as np\n",
    "from sklearn.model_selection import train_test_split\n",
    "from sklearn.metrics import accuracy_score\n",
    "from sklearn.metrics import mean_squared_error\n",
    "\n",
    "# Set the parameters for the model:\n",
    "params = {\n",
    "    'objective': 'reg:squarederror',\n",
    "    # the objective function to optimize,\n",
    "    'eval_metric': 'rmse',\n",
    "    # the evaluation metric to use, \n",
    "    'max_depth': 3,\n",
    "    # the maximum depth of the decision trees\n",
    "    'subsample': 0.5,\n",
    "    # Subsample ratio of the training instances; prevent overfitting.\n",
    "    'eta': 0.1\n",
    "    # learning rate (step weight)\n",
    "}"
   ]
  },
  {
   "cell_type": "code",
   "execution_count": 39,
   "metadata": {},
   "outputs": [],
   "source": [
    "# Create some example data - random data for the inputs and outputs\n",
    "N=100\n",
    "X = np.random.rand(N, 5)\n",
    "y = np.random.rand(N)\n"
   ]
  },
  {
   "cell_type": "code",
   "execution_count": 40,
   "metadata": {},
   "outputs": [],
   "source": [
    "x_train, x_val, y_train, y_val = train_test_split(X, y, train_size=0.85)\n",
    "\n",
    "# Fit the model\n",
    "# num_boost_round parameter controls the number of boosting rounds to perform.\n",
    "xg_reg = xgb.train(params, xgb.DMatrix(x_train, label=y_train), num_boost_round=100)"
   ]
  },
  {
   "cell_type": "code",
   "execution_count": 41,
   "metadata": {},
   "outputs": [
    {
     "name": "stdout",
     "output_type": "stream",
     "text": [
      "[0.18361392 0.63283575 0.05486231 0.80371151 0.63106665 0.03627778\n",
      " 0.72004909 0.07642556 0.94889637 0.88718621 0.9683425  0.35387592\n",
      " 0.90973005 0.98934819 0.5049131 ]\n",
      "[ 0.38639677  0.3714008   0.38339356  0.7066531   0.51028347  0.4405099\n",
      "  0.7368475   0.46929583  0.37410334  0.4954321  -0.01867209  0.42942196\n",
      "  0.31609666  0.42887527  0.65310866]\n",
      "0.1807799566171134\n"
     ]
    }
   ],
   "source": [
    "y_val_pred = xg_reg.predict(xgb.DMatrix(x_val, label=y_val))\n",
    "print(y_val)\n",
    "print (y_val_pred)\n",
    "# print accuracy score\n",
    "\n",
    "\n",
    "mse = mean_squared_error(y_val_pred, y_val)\n",
    "print (mse)\n"
   ]
  },
  {
   "attachments": {},
   "cell_type": "markdown",
   "metadata": {},
   "source": [
    "classification"
   ]
  },
  {
   "cell_type": "code",
   "execution_count": 1,
   "metadata": {},
   "outputs": [
    {
     "name": "stderr",
     "output_type": "stream",
     "text": [
      "/home/yishai/anaconda3/envs/tf_39/lib/python3.9/site-packages/xgboost/compat.py:36: FutureWarning: pandas.Int64Index is deprecated and will be removed from pandas in a future version. Use pandas.Index with the appropriate dtype instead.\n",
      "  from pandas import MultiIndex, Int64Index\n"
     ]
    }
   ],
   "source": [
    "from xgboost import XGBClassifier\n",
    "from sklearn.model_selection import train_test_split\n",
    "from sklearn.metrics import accuracy_score\n",
    "\n",
    "import xgboost as xgb\n",
    "import numpy as np\n"
   ]
  },
  {
   "cell_type": "code",
   "execution_count": 2,
   "metadata": {},
   "outputs": [],
   "source": [
    "\n",
    "from sklearn.datasets import load_wine\n",
    "X, y = load_wine(return_X_y=True, as_frame=True)"
   ]
  },
  {
   "cell_type": "code",
   "execution_count": 3,
   "metadata": {},
   "outputs": [
    {
     "name": "stderr",
     "output_type": "stream",
     "text": [
      "/home/yishai/anaconda3/envs/tf_39/lib/python3.9/site-packages/xgboost/sklearn.py:1224: UserWarning: The use of label encoder in XGBClassifier is deprecated and will be removed in a future release. To remove this warning, do the following: 1) Pass option use_label_encoder=False when constructing XGBClassifier object; and 2) Encode your labels (y) as integers starting with 0, i.e. 0, 1, 2, ..., [num_class - 1].\n",
      "  warnings.warn(label_encoder_deprecation_msg, UserWarning)\n",
      "/home/yishai/anaconda3/envs/tf_39/lib/python3.9/site-packages/xgboost/data.py:250: FutureWarning: pandas.Int64Index is deprecated and will be removed from pandas in a future version. Use pandas.Index with the appropriate dtype instead.\n",
      "  elif isinstance(data.columns, (pd.Int64Index, pd.RangeIndex)):\n"
     ]
    },
    {
     "data": {
      "text/plain": [
       "XGBClassifier(base_score=0.5, booster='gbtree', colsample_bylevel=1,\n",
       "              colsample_bynode=1, colsample_bytree=1, enable_categorical=False,\n",
       "              eval_metric='mlogloss', gamma=0, gpu_id=-1, importance_type=None,\n",
       "              interaction_constraints='', learning_rate=0.300000012,\n",
       "              max_delta_step=0, max_depth=6, min_child_weight=1, missing=nan,\n",
       "              monotone_constraints='()', n_estimators=100, n_jobs=16,\n",
       "              num_parallel_tree=1, objective='multi:softprob', predictor='auto',\n",
       "              random_state=0, reg_alpha=0, reg_lambda=1, scale_pos_weight=None,\n",
       "              subsample=1, tree_method='exact', validate_parameters=1,\n",
       "              verbosity=None)"
      ]
     },
     "execution_count": 3,
     "metadata": {},
     "output_type": "execute_result"
    }
   ],
   "source": [
    "\n",
    "X_train, X_val, y_train, y_val = train_test_split(X, y, test_size=0.3, random_state=1)\n",
    "xg_classify = XGBClassifier(eval_metric='mlogloss')\n",
    "\n",
    "# train\n",
    "xg_classify.fit(X_train, y_train)"
   ]
  },
  {
   "cell_type": "code",
   "execution_count": 4,
   "metadata": {},
   "outputs": [
    {
     "name": "stdout",
     "output_type": "stream",
     "text": [
      "Accuracy: 96.30%\n"
     ]
    }
   ],
   "source": [
    "y_val_pred = xg_classify.predict(X_val)\n",
    "predictions = [round(value) for value in y_val_pred]\n",
    "accuracy = accuracy_score(y_val, predictions)\n",
    "print(\"Accuracy: %.2f%%\" % (accuracy * 100.0))\n",
    "\n"
   ]
  },
  {
   "attachments": {},
   "cell_type": "markdown",
   "metadata": {},
   "source": [
    "# XGBoost SHAP waterfall implementation,"
   ]
  },
  {
   "attachments": {},
   "cell_type": "markdown",
   "metadata": {},
   "source": [
    "To create an XGBoost SHAP waterfall implementation:\n",
    "\n",
    "Train an XGBoost model on your data.\n",
    "\n",
    "Use the \"shap.Explainer\" function to create a SHAP explainer object. This will allow you to compute SHAP values for your model predictions.\n",
    "\n",
    "Use the \"explainer.shap_values\" method to compute the SHAP values for each prediction in your dataset.\n",
    "\n",
    "Plot the SHAP values as a waterfall chart using a library such as Plotly or Matplotlib.\n",
    "\n",
    "Interactively explore the waterfall chart to understand the contribution of each feature to the model's predictions.\n",
    "\n",
    "shap_values.data == x sample\n",
    "\n"
   ]
  },
  {
   "cell_type": "code",
   "execution_count": 11,
   "metadata": {},
   "outputs": [],
   "source": [
    "import shap\n",
    "# Create a SHAP explainer object\n",
    "explainer = shap.Explainer(xg_classify.predict_proba, X_val)\n",
    "# Compute the SHAP values for each prediction\n",
    "shap_values = explainer(X_val)\n"
   ]
  },
  {
   "cell_type": "code",
   "execution_count": 15,
   "metadata": {},
   "outputs": [
    {
     "name": "stderr",
     "output_type": "stream",
     "text": [
      "pandas.Int64Index is deprecated and will be removed from pandas in a future version. Use pandas.Index with the appropriate dtype instead.\n",
      "ntree_limit is deprecated, use `iteration_range` or model slicing instead.\n"
     ]
    },
    {
     "data": {
      "image/png": "[encoded data removed]",
      "text/plain": [
       "<Figure size 800x670 with 1 Axes>"
      ]
     },
     "metadata": {},
     "output_type": "display_data"
    }
   ],
   "source": [
    "tree_explainer = shap.TreeExplainer(xg_classify)\n",
    "shap_values_tree = tree_explainer.shap_values(X_val)\n",
    "shap.summary_plot(shap_values_tree, X_val)"
   ]
  },
  {
   "cell_type": "code",
   "execution_count": 16,
   "metadata": {},
   "outputs": [
    {
     "ename": "TypeError",
     "evalue": "waterfall() got an unexpected keyword argument 'features'",
     "output_type": "error",
     "traceback": [
      "\u001b[0;31m---------------------------------------------------------------------------\u001b[0m",
      "\u001b[0;31mTypeError\u001b[0m                                 Traceback (most recent call last)",
      "\u001b[0;32m/tmp/ipykernel_6856/3283785430.py\u001b[0m in \u001b[0;36m<module>\u001b[0;34m\u001b[0m\n\u001b[0;32m----> 1\u001b[0;31m \u001b[0mshap\u001b[0m\u001b[0;34m.\u001b[0m\u001b[0mwaterfall_plot\u001b[0m\u001b[0;34m(\u001b[0m\u001b[0mtree_explainer\u001b[0m\u001b[0;34m.\u001b[0m\u001b[0mexpected_value\u001b[0m\u001b[0;34m[\u001b[0m\u001b[0;36m0\u001b[0m\u001b[0;34m]\u001b[0m\u001b[0;34m,\u001b[0m \u001b[0mshap_values_tree\u001b[0m\u001b[0;34m[\u001b[0m\u001b[0;36m0\u001b[0m\u001b[0;34m]\u001b[0m\u001b[0;34m[\u001b[0m\u001b[0;36m0\u001b[0m\u001b[0;34m]\u001b[0m\u001b[0;34m,\u001b[0m \u001b[0mfeatures\u001b[0m\u001b[0;34m=\u001b[0m \u001b[0mX_val\u001b[0m\u001b[0;34m.\u001b[0m\u001b[0miloc\u001b[0m\u001b[0;34m[\u001b[0m\u001b[0;36m0\u001b[0m\u001b[0;34m,\u001b[0m\u001b[0;34m:\u001b[0m\u001b[0;34m]\u001b[0m\u001b[0;34m,\u001b[0m \u001b[0mfeature_names\u001b[0m\u001b[0;34m=\u001b[0m \u001b[0mX_val\u001b[0m\u001b[0;34m.\u001b[0m\u001b[0mcolumns\u001b[0m\u001b[0;34m,\u001b[0m \u001b[0mshow\u001b[0m\u001b[0;34m=\u001b[0m \u001b[0;32mFalse\u001b[0m\u001b[0;34m)\u001b[0m\u001b[0;34m\u001b[0m\u001b[0;34m\u001b[0m\u001b[0m\n\u001b[0m",
      "\u001b[0;31mTypeError\u001b[0m: waterfall() got an unexpected keyword argument 'features'"
     ]
    }
   ],
   "source": [
    "shap.waterfall_plot(tree_explainer.expected_value[0], shap_values_tree[0][0], features= X_val.iloc[0,:], feature_names= X_val.columns, show= False)"
   ]
  },
  {
   "cell_type": "code",
   "execution_count": null,
   "metadata": {},
   "outputs": [
    {
     "ename": "IndexError",
     "evalue": "list index out of range",
     "output_type": "error",
     "traceback": [
      "\u001b[0;31m---------------------------------------------------------------------------\u001b[0m",
      "\u001b[0;31mIndexError\u001b[0m                                Traceback (most recent call last)",
      "\u001b[0;32m/tmp/ipykernel_6270/2410768442.py\u001b[0m in \u001b[0;36m<module>\u001b[0;34m\u001b[0m\n\u001b[1;32m      5\u001b[0m \u001b[0;31m# shap.plots.waterfall(shap_values[0][0])\u001b[0m\u001b[0;34m\u001b[0m\u001b[0;34m\u001b[0m\u001b[0m\n\u001b[1;32m      6\u001b[0m \u001b[0msample_ind\u001b[0m \u001b[0;34m=\u001b[0m \u001b[0;36m53\u001b[0m\u001b[0;34m\u001b[0m\u001b[0;34m\u001b[0m\u001b[0m\n\u001b[0;32m----> 7\u001b[0;31m \u001b[0mshap\u001b[0m\u001b[0;34m.\u001b[0m\u001b[0mplots\u001b[0m\u001b[0;34m.\u001b[0m\u001b[0mwaterfall\u001b[0m\u001b[0;34m(\u001b[0m\u001b[0mshap_values\u001b[0m\u001b[0;34m[\u001b[0m\u001b[0msample_ind\u001b[0m\u001b[0;34m]\u001b[0m\u001b[0;34m,\u001b[0m \u001b[0mmax_display\u001b[0m\u001b[0;34m=\u001b[0m\u001b[0;36m14\u001b[0m\u001b[0;34m)\u001b[0m\u001b[0;34m\u001b[0m\u001b[0;34m\u001b[0m\u001b[0m\n\u001b[0m\u001b[1;32m      8\u001b[0m \u001b[0;31m# shap.waterfall_plot(explainer.base_values[0], values[0][0], X_val[0])\u001b[0m\u001b[0;34m\u001b[0m\u001b[0;34m\u001b[0m\u001b[0m\n\u001b[1;32m      9\u001b[0m \u001b[0mshap\u001b[0m\u001b[0;34m.\u001b[0m\u001b[0mwaterfall_plot\u001b[0m\u001b[0;34m(\u001b[0m\u001b[0mshap_values\u001b[0m\u001b[0;34m.\u001b[0m\u001b[0mbase_values\u001b[0m\u001b[0;34m[\u001b[0m\u001b[0msample_ind\u001b[0m\u001b[0;34m]\u001b[0m\u001b[0;34m,\u001b[0m\u001b[0mshap_values\u001b[0m\u001b[0;34m.\u001b[0m\u001b[0mvalues\u001b[0m\u001b[0;34m[\u001b[0m\u001b[0msample_ind\u001b[0m\u001b[0;34m]\u001b[0m\u001b[0;34m[\u001b[0m\u001b[0;36m0\u001b[0m\u001b[0;34m]\u001b[0m\u001b[0;34m,\u001b[0m  \u001b[0mshap_values\u001b[0m\u001b[0;34m.\u001b[0m\u001b[0mdata\u001b[0m\u001b[0;34m[\u001b[0m\u001b[0msample_ind\u001b[0m\u001b[0;34m]\u001b[0m\u001b[0;34m)\u001b[0m\u001b[0;34m\u001b[0m\u001b[0;34m\u001b[0m\u001b[0m\n",
      "\u001b[0;31mIndexError\u001b[0m: list index out of range"
     ]
    }
   ],
   "source": [
    "\n",
    "import matplotlib.pyplot as plt\n",
    "\n",
    "\n",
    "# shap.plots.waterfall(shap_values[0][0])\n",
    "sample_ind = 53\n",
    "shap.plots.waterfall(shap_values[sample_ind], max_display=14)\n",
    "# shap.waterfall_plot(explainer.base_values[0], values[0][0], X_val[0])\n",
    "shap.waterfall_plot(shap_values.base_values[sample_ind],shap_values.values[sample_ind][0],  shap_values.data[sample_ind])\n",
    "# sample_ind = 53\n",
    "# shap.plots.waterfall(shap_values[sample_ind], max_display=14)\n",
    "# shap.waterfall_plot(explainer.base_values[0], values[0][0], X_val[0])\n",
    "# # idx = 3\n",
    "# np.asarray(X_val.iloc[0])\n",
    "# \n",
    "# exp = shap.Explanation(shap_values.values, shap_values.base_values[0][0], shap_values.data)\n",
    "# shap.plots.waterfall(exp)\n",
    "\n",
    "\n",
    "# Plot Shapley values as a waterfall plot\n",
    "# for i in range(len(X_val)):\n",
    "#     plt.figure(figsize=(10,5))\n",
    "#     shap.plots.waterfall(shap_values[i])\n",
    "#     plt.title(f'Waterfall Plot for Wine Example {i}')\n",
    "#     plt.xlabel('Features')\n",
    "#     plt.ylabel('SHAP Value')\n",
    "#     plt.show()"
   ]
  },
  {
   "cell_type": "code",
   "execution_count": null,
   "metadata": {},
   "outputs": [
    {
     "data": {
      "text/plain": [
       "(124, 13, 3)"
      ]
     },
     "execution_count": 14,
     "metadata": {},
     "output_type": "execute_result"
    }
   ],
   "source": [
    "for i in range(len(X_val)):\n",
    "    plt.figure(figsize=(10,5))\n",
    "    shap.plots.waterfall(shap_values[i])\n",
    "    plt.title(f'Waterfall Plot for Wine Example {i}')\n",
    "    plt.xlabel('Features')\n",
    "    plt.ylabel('SHAP Value')\n",
    "    plt.show()\n"
   ]
  },
  {
   "cell_type": "code",
   "execution_count": null,
   "metadata": {},
   "outputs": [
    {
     "data": {
      "text/plain": [
       "(124, 13)"
      ]
     },
     "execution_count": 15,
     "metadata": {},
     "output_type": "execute_result"
    }
   ],
   "source": [
    "X_train.shape"
   ]
  }
 ],
 "metadata": {
  "kernelspec": {
   "display_name": "tf_39",
   "language": "python",
   "name": "python3"
  },
  "language_info": {
   "codemirror_mode": {
    "name": "ipython",
    "version": 3
   },
   "file_extension": ".py",
   "mimetype": "text/x-python",
   "name": "python",
   "nbconvert_exporter": "python",
   "pygments_lexer": "ipython3",
   "version": "3.9.16 (main, Jan 11 2023, 16:05:54) \n[GCC 11.2.0]"
  },
  "orig_nbformat": 4,
  "vscode": {
   "interpreter": {
    "hash": "47461faa88aa067695cc57f541ef1d2dc4d6f921b9b537a7f257f46bf46d112f"
   }
  }
 },
 "nbformat": 4,
 "nbformat_minor": 2
}
