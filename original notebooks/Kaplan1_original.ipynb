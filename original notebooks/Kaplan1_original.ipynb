{
 "cells": [
  {
   "cell_type": "code",
   "execution_count": null,
   "metadata": {},
   "outputs": [],
   "source": [
    "#!/usr/bin/env python3\n",
    "# -*- coding: utf-8 -*-\n",
    "\"\"\"\n",
    "Created on Mon Feb 22 20:09:58 2021\n",
    "\n",
    "@author: ronguy\n",
    "\"\"\"\n",
    "import os\n",
    "os.environ['TF_ENABLE_ONEDNN_OPTS'] = '0'\n",
    "\n",
    "import numpy as np\n",
    "import matplotlib\n",
    "\n",
    "import matplotlib.pyplot as plt\n",
    "\n",
    "import time\n",
    "import pandas as pd\n",
    "import numpy as np\n",
    "import seaborn as sns\n",
    "from sklearn.cluster import KMeans\n",
    "import umap\n",
    "from sklearn.cluster import DBSCAN\n",
    "from sklearn import metrics\n",
    "\n",
    "from tqdm import tqdm_notebook\n",
    "from lmfit import minimize, Parameters\n",
    "from sklearn.preprocessing import StandardScaler\n",
    "import matplotlib.pyplot as pl\n"
   ]
  },
  {
   "cell_type": "markdown",
   "metadata": {
    "tags": []
   },
   "source": [
    "# define a bunch of functions "
   ]
  },
  {
   "cell_type": "code",
   "execution_count": null,
   "metadata": {},
   "outputs": [],
   "source": [
    "def wfall(shap_values, max_display=10, show=True):\n",
    "    \"\"\" Plots an explantion of a single prediction as a waterfall plot.\n",
    "    The SHAP value of a feature represents the impact of the evidence provided by that feature on the model's\n",
    "    output. The waterfall plot is designed to visually display how the SHAP values (evidence) of each feature\n",
    "    move the model output from our prior expectation under the background data distribution, to the final model\n",
    "    prediction given the evidence of all the features. Features are sorted by the magnitude of their SHAP values\n",
    "    with the smallest magnitude features grouped together at the bottom of the plot when the number of features\n",
    "    in the models exceeds the max_display parameter.\n",
    "    \n",
    "    Parameters\n",
    "    ----------\n",
    "    shap_values : Explanation\n",
    "        A one-dimensional Explanation object that contains the feature values and SHAP values to plot.\n",
    "    max_display : str\n",
    "        The maximum number of features to plot.\n",
    "    show : bool\n",
    "        Whether matplotlib.pyplot.show() is called before returning. Setting this to False allows the plot\n",
    "        to be customized further after it has been created.\n",
    "    \"\"\"\n",
    "    dark_o= mpl.colors.to_rgb('dimgray')\n",
    "    dim_g= mpl.colors.to_rgb('darkorange')\n",
    "\n",
    "    base_values = shap_values.base_values\n",
    "    \n",
    "    features = shap_values.data\n",
    "    feature_names = shap_values.feature_names\n",
    "    lower_bounds = getattr(shap_values, \"lower_bounds\", None)\n",
    "    upper_bounds = getattr(shap_values, \"upper_bounds\", None)\n",
    "    values = shap_values.values\n",
    "\n",
    "    # make sure we only have a single output to explain\n",
    "    if (type(base_values) == np.ndarray and len(base_values) > 0) or type(base_values) == list:\n",
    "        raise Exception(\"waterfall_plot requires a scalar base_values of the model output as the first \" \\\n",
    "                        \"parameter, but you have passed an array as the first parameter! \" \\\n",
    "                        \"Try shap.waterfall_plot(explainer.base_values[0], values[0], X[0]) or \" \\\n",
    "                        \"for multi-output models try \" \\\n",
    "                        \"shap.waterfall_plot(explainer.base_values[0], values[0][0], X[0]).\")\n",
    "\n",
    "    # make sure we only have a single explanation to plot\n",
    "    if len(values.shape) == 2:\n",
    "        raise Exception(\"The waterfall_plot can currently only plot a single explanation but a matrix of explanations was passed!\")\n",
    "    \n",
    "    # unwrap pandas series\n",
    "    if safe_isinstance(features, \"pandas.core.series.Series\"):\n",
    "        if feature_names is None:\n",
    "            feature_names = list(features.index)\n",
    "        features = features.values\n",
    "\n",
    "    # fallback feature names\n",
    "    if feature_names is None:\n",
    "        feature_names = np.array([labels['FEATURE'] % str(i) for i in range(len(values))])\n",
    "    \n",
    "    # init variables we use for tracking the plot locations\n",
    "    num_features = min(max_display, len(values))\n",
    "    row_height = 0.5\n",
    "    rng = range(num_features - 1, -1, -1)\n",
    "    order = np.argsort(-np.abs(values))\n",
    "    pos_lefts = []\n",
    "    pos_inds = []\n",
    "    pos_widths = []\n",
    "    pos_low = []\n",
    "    pos_high = []\n",
    "    neg_lefts = []\n",
    "    neg_inds = []\n",
    "    neg_widths = []\n",
    "    neg_low = []\n",
    "    neg_high = []\n",
    "    loc = base_values + values.sum()\n",
    "    yticklabels = [\"\" for i in range(num_features + 1)]\n",
    "    \n",
    "    # size the plot based on how many features we are plotting\n",
    "    pl.gcf().set_size_inches(8, num_features * row_height + 1.5)\n",
    "\n",
    "    # see how many individual (vs. grouped at the end) features we are plotting\n",
    "    if num_features == len(values):\n",
    "        num_individual = num_features\n",
    "    else:\n",
    "        num_individual = num_features - 1\n",
    "\n",
    "    # compute the locations of the individual features and plot the dashed connecting lines\n",
    "    for i in range(num_individual):\n",
    "        sval = values[order[i]]\n",
    "        loc -= sval\n",
    "        if sval >= 0:\n",
    "            pos_inds.append(rng[i])\n",
    "            pos_widths.append(sval)\n",
    "            if lower_bounds is not None:\n",
    "                pos_low.append(lower_bounds[order[i]])\n",
    "                pos_high.append(upper_bounds[order[i]])\n",
    "            pos_lefts.append(loc)\n",
    "        else:\n",
    "            neg_inds.append(rng[i])\n",
    "            neg_widths.append(sval)\n",
    "            if lower_bounds is not None:\n",
    "                neg_low.append(lower_bounds[order[i]])\n",
    "                neg_high.append(upper_bounds[order[i]])\n",
    "            neg_lefts.append(loc)\n",
    "        if num_individual != num_features or i + 4 < num_individual:\n",
    "            pl.plot([loc, loc], [rng[i] -1 - 0.4, rng[i] + 0.4], color=\"#bbbbbb\", linestyle=\"--\", linewidth=0.5, zorder=-1)\n",
    "        if features is None:\n",
    "            yticklabels[rng[i]] = feature_names[order[i]]\n",
    "        else:\n",
    "            yticklabels[rng[i]] = format_value(features[order[i]], \"%0.03f\") + \" = \" + feature_names[order[i]] \n",
    "    \n",
    "    # add a last grouped feature to represent the impact of all the features we didn't show\n",
    "    if num_features < len(values):\n",
    "        yticklabels[0] = \"%d other features\" % (len(values) - num_features + 1)\n",
    "        remaining_impact = base_values - loc\n",
    "        if remaining_impact < 0:\n",
    "            pos_inds.append(0)\n",
    "            pos_widths.append(-remaining_impact)\n",
    "            pos_lefts.append(loc + remaining_impact)\n",
    "            c = dim_g  #colors.red_rgb\n",
    "        else:\n",
    "            neg_inds.append(0)\n",
    "            neg_widths.append(-remaining_impact)\n",
    "            neg_lefts.append(loc + remaining_impact)\n",
    "            c = dark_o #colors.blue_rgb\n",
    "\n",
    "    points = pos_lefts + list(np.array(pos_lefts) + np.array(pos_widths)) + neg_lefts + list(np.array(neg_lefts) + np.array(neg_widths))\n",
    "    dataw = np.max(points) - np.min(points)\n",
    "    \n",
    "    # draw invisible bars just for sizing the axes\n",
    "    label_padding = np.array([0.1*dataw if w < 1 else 0 for w in pos_widths])\n",
    "    pl.barh(pos_inds, np.array(pos_widths) + label_padding + 0.02*dataw, left=np.array(pos_lefts) - 0.01*dataw, color=colors.red_rgb, alpha=0)\n",
    "    label_padding = np.array([-0.1*dataw  if -w < 1 else 0 for w in neg_widths])\n",
    "    pl.barh(neg_inds, np.array(neg_widths) + label_padding - 0.02*dataw, left=np.array(neg_lefts) + 0.01*dataw, color=colors.blue_rgb, alpha=0)\n",
    "    \n",
    "    # define variable we need for plotting the arrows\n",
    "    head_length = 0.08\n",
    "    bar_width = 0.8\n",
    "    xlen = pl.xlim()[1] - pl.xlim()[0]\n",
    "    fig = pl.gcf()\n",
    "    ax = pl.gca()\n",
    "    xticks = ax.get_xticks()\n",
    "    bbox = ax.get_window_extent().transformed(fig.dpi_scale_trans.inverted())\n",
    "    width, height = bbox.width, bbox.height\n",
    "    bbox_to_xscale = xlen/width\n",
    "    hl_scaled = bbox_to_xscale * head_length\n",
    "    renderer = fig.canvas.get_renderer()\n",
    "    \n",
    "    # draw the positive arrows\n",
    "    for i in range(len(pos_inds)):\n",
    "        dist = pos_widths[i]\n",
    "        arrow_obj = pl.arrow(\n",
    "            pos_lefts[i], pos_inds[i], max(dist-hl_scaled, 0.000001), 0,\n",
    "            head_length=min(dist, hl_scaled),\n",
    "            color=dim_g, width=bar_width,\n",
    "            head_width=bar_width\n",
    "        )\n",
    "        \n",
    "        if pos_low is not None and i < len(pos_low):\n",
    "            pl.errorbar(\n",
    "                pos_lefts[i] + pos_widths[i], pos_inds[i], \n",
    "                xerr=np.array([[pos_widths[i] - pos_low[i]], [pos_high[i] - pos_widths[i]]]),\n",
    "                ecolor=dim_g\n",
    "            )\n",
    "\n",
    "        txt_obj = pl.text(\n",
    "            pos_lefts[i] + 0.5*dist, pos_inds[i], format_value(pos_widths[i], '%+0.02f'),\n",
    "            horizontalalignment='center', verticalalignment='center', color=\"white\",\n",
    "            fontsize=12\n",
    "        )\n",
    "        text_bbox = txt_obj.get_window_extent(renderer=renderer)\n",
    "        arrow_bbox = arrow_obj.get_window_extent(renderer=renderer)\n",
    "        \n",
    "        # if the text overflows the arrow then draw it after the arrow\n",
    "        if text_bbox.width > arrow_bbox.width: \n",
    "            txt_obj.remove()\n",
    "            \n",
    "            txt_obj = pl.text(\n",
    "                pos_lefts[i] + (5/72)*bbox_to_xscale + dist, pos_inds[i], format_value(pos_widths[i], '%+0.02f'),\n",
    "                horizontalalignment='left', verticalalignment='center', color=dim_g,\n",
    "                fontsize=12\n",
    "            )\n",
    "    \n",
    "    # draw the negative arrows\n",
    "    for i in range(len(neg_inds)):\n",
    "        dist = neg_widths[i]\n",
    "        \n",
    "        arrow_obj = pl.arrow(\n",
    "            neg_lefts[i], neg_inds[i], -max(-dist-hl_scaled, 0.000001), 0,\n",
    "            head_length=min(-dist, hl_scaled),\n",
    "            color=dark_o, width=bar_width,\n",
    "            head_width=bar_width\n",
    "        )\n",
    "\n",
    "        if neg_low is not None and i < len(neg_low):\n",
    "            pl.errorbar(\n",
    "                neg_lefts[i] + neg_widths[i], neg_inds[i], \n",
    "                xerr=np.array([[neg_widths[i] - neg_low[i]], [neg_high[i] - neg_widths[i]]]),\n",
    "                ecolor=dark_o\n",
    "            )\n",
    "        \n",
    "        txt_obj = pl.text(\n",
    "            neg_lefts[i] + 0.5*dist, neg_inds[i], format_value(neg_widths[i], '%+0.02f'),\n",
    "            horizontalalignment='center', verticalalignment='center', color=\"white\",\n",
    "            fontsize=12\n",
    "        )\n",
    "        text_bbox = txt_obj.get_window_extent(renderer=renderer)\n",
    "        arrow_bbox = arrow_obj.get_window_extent(renderer=renderer)\n",
    "        \n",
    "        # if the text overflows the arrow then draw it after the arrow\n",
    "        if text_bbox.width > arrow_bbox.width: \n",
    "            txt_obj.remove()\n",
    "            \n",
    "            txt_obj = pl.text(\n",
    "                neg_lefts[i] - (5/72)*bbox_to_xscale + dist, neg_inds[i], format_value(neg_widths[i], '%+0.02f'),\n",
    "                horizontalalignment='right', verticalalignment='center', color=dark_o,\n",
    "                fontsize=12\n",
    "            )\n",
    "\n",
    "    # draw the y-ticks twice, once in gray and then again with just the feature names in black\n",
    "    ytick_pos = list(range(num_features)) + list(np.arange(num_features)+1e-8) # The 1e-8 is so matplotlib 3.3 doesn't try and collapse the ticks\n",
    "    pl.yticks(ytick_pos, yticklabels[:-1] + [l.split('=')[-1] for l in yticklabels[:-1]], fontsize=13)\n",
    "    \n",
    "    # put horizontal lines for each feature row\n",
    "    for i in range(num_features):\n",
    "        pl.axhline(i, color=\"#cccccc\", lw=0.5, dashes=(1, 5), zorder=-1)\n",
    "    \n",
    "    # mark the prior expected value and the model prediction\n",
    "    pl.axvline(base_values, 0, 1/num_features, color=\"#bbbbbb\", linestyle=\"--\", linewidth=0.5, zorder=-1)\n",
    "    fx = base_values + values.sum()\n",
    "    pl.axvline(fx, 0, 1, color=\"#bbbbbb\", linestyle=\"--\", linewidth=0.5, zorder=-1)\n",
    "    \n",
    "    # clean up the main axis\n",
    "    pl.gca().xaxis.set_ticks_position('bottom')\n",
    "    pl.gca().yaxis.set_ticks_position('none')\n",
    "    pl.gca().spines['right'].set_visible(False)\n",
    "    pl.gca().spines['top'].set_visible(False)\n",
    "    pl.gca().spines['left'].set_visible(False)\n",
    "    ax.tick_params(labelsize=13)\n",
    "    #pl.xlabel(\"\\nModel output\", fontsize=12)\n",
    "\n",
    "    # draw the E[f(X)] tick mark\n",
    "    xmin,xmax = ax.get_xlim()\n",
    "    ax2=ax.twiny()\n",
    "    ax2.set_xlim(xmin,xmax)\n",
    "    ax2.set_xticks([base_values, base_values+1e-8]) # The 1e-8 is so matplotlib 3.3 doesn't try and collapse the ticks\n",
    "    ax2.set_xticklabels([\"\\n$E[f(X)]$\",\"\\n$ = \"+format_value(base_values, \"%0.03f\")+\"$\"], fontsize=12, ha=\"left\")\n",
    "    ax2.spines['right'].set_visible(False)\n",
    "    ax2.spines['top'].set_visible(False)\n",
    "    ax2.spines['left'].set_visible(False)\n",
    "\n",
    "    # draw the f(x) tick mark\n",
    "    ax3=ax2.twiny()\n",
    "    ax3.set_xlim(xmin,xmax)\n",
    "    ax3.set_xticks([base_values + values.sum(), base_values + values.sum() + 1e-8]) # The 1e-8 is so matplotlib 3.3 doesn't try and collapse the ticks\n",
    "    ax3.set_xticklabels([\"$f(x)$\",\"$ = \"+format_value(fx, \"%0.03f\")+\"$\"], fontsize=12, ha=\"left\")\n",
    "    tick_labels = ax3.xaxis.get_majorticklabels()\n",
    "    tick_labels[0].set_transform(tick_labels[0].get_transform() + matplotlib.transforms.ScaledTranslation(-10/72., 0, fig.dpi_scale_trans))\n",
    "    tick_labels[1].set_transform(tick_labels[1].get_transform() + matplotlib.transforms.ScaledTranslation(12/72., 0, fig.dpi_scale_trans))\n",
    "    tick_labels[1].set_color(\"#999999\")\n",
    "    ax3.spines['right'].set_visible(False)\n",
    "    ax3.spines['top'].set_visible(False)\n",
    "    ax3.spines['left'].set_visible(False)\n",
    "\n",
    "    # adjust the position of the E[f(X)] = x.xx label\n",
    "    tick_labels = ax2.xaxis.get_majorticklabels()\n",
    "    tick_labels[0].set_transform(tick_labels[0].get_transform() + matplotlib.transforms.ScaledTranslation(-20/72., 0, fig.dpi_scale_trans))\n",
    "    tick_labels[1].set_transform(tick_labels[1].get_transform() + matplotlib.transforms.ScaledTranslation(22/72., -1/72., fig.dpi_scale_trans))\n",
    "    \n",
    "    tick_labels[1].set_color(\"#999999\")\n",
    "\n",
    "    # color the y tick labels that have the feature values as gray\n",
    "    # (these fall behind the black ones with just the feature name)\n",
    "    tick_labels = ax.yaxis.get_majorticklabels()\n",
    "    for i in range(num_features):\n",
    "        tick_labels[i].set_color(\"#999999\")\n",
    "    \n",
    "    if show:\n",
    "        pl.show()\n",
    "\n",
    "def dbscan_plot(data,eps=0.1,min_samples=50):\n",
    "    X=data\n",
    "    X = StandardScaler().fit_transform(X)\n",
    "    db = DBSCAN(eps=eps, min_samples=min_samples).fit(X)\n",
    "    core_samples_mask = np.zeros_like(db.labels_, dtype=bool)\n",
    "    core_samples_mask[db.core_sample_indices_] = True\n",
    "    labels = db.labels_\n",
    "\n",
    "    # Number of clusters in labels, ignoring noise if present.\n",
    "    n_clusters_ = len(set(labels)) - (1 if -1 in labels else 0)\n",
    "    n_noise_ = list(labels).count(-1)\n",
    "\n",
    "    print('Estimated number of clusters: %d' % n_clusters_)\n",
    "    print('Estimated number of noise points: %d' % n_noise_)\n",
    "    print(\"Silhouette Coefficient: %0.3f\"\n",
    "          % metrics.silhouette_score(X, labels))\n",
    "\n",
    "    # Black removed and is used for noise instead.\n",
    "    plt.figure(figsize=(10, 10))\n",
    "    unique_labels = set(labels)\n",
    "    colors = [plt.cm.Spectral(each)\n",
    "              for each in np.linspace(0, 1, len(unique_labels))]\n",
    "    for k, col in zip(unique_labels, colors):\n",
    "        if k == -1:\n",
    "            # Black used for noise.\n",
    "            col = [0, 0, 0, 1]\n",
    "\n",
    "        class_member_mask = (labels == k)\n",
    "        \n",
    "        xy = X[class_member_mask & core_samples_mask]\n",
    "        plt.plot(xy[:, 0], xy[:, 1], 'o', markerfacecolor=tuple(col),label = k,\n",
    "                 markeredgecolor='k', markersize=14)\n",
    "        \n",
    "        xy = X[class_member_mask & ~core_samples_mask]\n",
    "        plt.plot(xy[:, 0], xy[:, 1], 'o', markerfacecolor=tuple(col),\n",
    "                 markeredgecolor='k', markersize=6)\n",
    "    \n",
    "    plt.legend(fontsize=15, title_fontsize='40')    \n",
    "    plt.title('Estimated number of clusters: %d' % n_clusters_)\n",
    "#    plt.show()\n",
    "    return labels\n",
    "\n",
    "\n",
    "\n",
    "def residual(params, x, data):\n",
    "    alpha = params['alpha']\n",
    "    beta = params['beta']\n",
    "    gam = params['gamma']\n",
    " \n",
    " \n",
    "    avMarkers=x['H3.3']*alpha+x['H4']*beta+x['H3']*gam\n",
    "    od=x.subtract(avMarkers,axis=0)\n",
    "    return np.std(od['H3.3'])+np.std(od['H4'])+np.std(od['H3'])\n",
    "\n",
    "\n",
    "def residual2(params, x, data):\n",
    "    beta = params['beta']\n",
    "    gam = params['gamma']\n",
    " \n",
    " \n",
    "    avMarkers=x['H4']*beta+x['H3.3']*gam\n",
    "    od=x.subtract(avMarkers,axis=0)\n",
    "    return np.std(od['H4'])+np.std(od['H3.3'])\n",
    "\n",
    "\n",
    "\n",
    "def twoSampZ(X1, X2):\n",
    "    from numpy import sqrt, abs, round\n",
    "    from scipy.stats import norm\n",
    "    mudiff=np.mean(X1)-np.mean(X2)\n",
    "    sd1=np.std(X1)\n",
    "    sd2=np.std(X2)\n",
    "    n1=len(X1)\n",
    "    n2=len(X2)\n",
    "    pooledSE = sqrt(sd1**2/n1 + sd2**2/n2)\n",
    "    z = ((X1 - X2) - mudiff)/pooledSE\n",
    "    pval = 2*(1 - norm.cdf(abs(z)))\n",
    "    return round(pval, 4)\n",
    "\n",
    "def statistic(dframe):\n",
    "    return dframe.corr().loc[Var1,Var2]\n",
    "\n",
    "\n",
    "def draw_umap(data,n_neighbors=15, min_dist=0.1, n_components=2, metric='euclidean', title=''\n",
    "              ,cc=0,rstate=42,dens=False):\n",
    "    fit = umap.UMAP(\n",
    "        n_neighbors=n_neighbors,\n",
    "        min_dist=min_dist,\n",
    "        n_components=n_components,\n",
    "        metric=metric, random_state=rstate, verbose=True, densmap=dens\n",
    "    )\n",
    "    u = fit.fit_transform(data);\n",
    "    plt.figure(figsize=(6, 5))\n",
    "    if n_components == 2:\n",
    "        plt.scatter(u[:,0], u[:,1], c=cc,s=3,cmap=plt.cm.seismic)\n",
    "        plt.clim(-5,5)\n",
    "        plt.colorbar()\n",
    "    plt.title(title, fontsize=18)\n",
    "    return u;\n",
    "\n",
    "\n",
    "def NormMark(data):\n",
    "    params = Parameters()\n",
    "    params.add('beta', value=0.1, min=0)\n",
    "    params.add('gamma', value=0.1, min=0)\n",
    "    params.add('alpha', value=0.1, min=0)\n",
    "    ddf=data.copy()\n",
    "    ddf2=data.copy()\n",
    "    out = minimize(residual, params, args=(ddf, ddf),method='cg')\n",
    "    beta=out.params['beta'].value\n",
    "    gam=out.params['gamma'].value\n",
    "    alpha=out.params['alpha'].value\n",
    "    avMarkers=ddf['H3.3']*alpha+ddf['H4']*beta+ddf['H3']*gam\n",
    "    ddf=ddf.subtract(avMarkers,axis=0)\n",
    "    data=ddf\n",
    "    ddf2[EpiCols]=data[EpiCols]\n",
    "#    BCKData[NamesAll]=data[NamesAll]\n",
    "    data=ddf2.copy()\n",
    "    del ddf\n",
    "    del ddf2\n",
    "    return data\n",
    "\n",
    "def NormMark2(data):\n",
    "    params = Parameters()\n",
    "    params.add('beta', value=0.1, min=-1000)\n",
    "    params.add('gamma', value=0.1, min=-1000)\n",
    "\n",
    "    ddf=data.copy()\n",
    "    ddf2=data.copy()\n",
    "    out = minimize(residual2, params, args=(ddf, ddf),method='cg')\n",
    "    beta=out.params['beta'].value\n",
    "    gam=out.params['gamma'].value\n",
    "\n",
    "    avMarkers=ddf['H4']*beta+ddf['H3.3']*gam\n",
    "    ddf=ddf.subtract(avMarkers,axis=0)\n",
    "    data=ddf\n",
    "    ddf2[EpiCols_M]=data[EpiCols_M]\n",
    "#    BCKData[NamesAll]=data[NamesAll]\n",
    "    data=ddf2.copy()\n",
    "    del ddf\n",
    "    del ddf2\n",
    "    return data\n",
    "\n",
    "\n",
    "\n",
    "\n",
    "\n",
    "\n",
    "def f(): raise Exception(\"Found exit()\")\n",
    "\n",
    "\n",
    "\n",
    "def BPlots(data,NMS,xVar='type'):\n",
    "    for NN in NMS:\n",
    "        BoxVar=NN\n",
    "        plt.figure(figsize=(3, 5))    \n",
    "        ax = sns.boxplot(x=xVar, y=NN, data=data,showfliers=False,palette=['red','blue'])\n",
    "        plt.title(NN+\" MGG\")\n",
    "        plt.show()   \n",
    "\n",
    "def VPlots(data,NMS,xVar='type'):\n",
    "    for NN in NMS:\n",
    "        BoxVar=NN\n",
    "        plt.figure(figsize=(3, 5))    \n",
    "        ax = sns.violinplot(x=xVar, y=NN, data=data,showfliers=False,palette=['red','blue'])\n",
    "        plt.title(NN+\" MGG\")\n",
    "        plt.show()   \n",
    "\n",
    "\n",
    "def KPlots(data,NMS,titleSup=''):\n",
    "    for NN in NMS:\n",
    "        plt.figure(figsize=(10,10))\n",
    "        sns.kdeplot(data=data,x=NN,color='blue')\n",
    "        \n",
    "#        plt.legend()\n",
    "        plt.title(\"\"+NN+\" \"+titleSup)\n",
    "        plt.show()\n",
    "\n",
    "\n",
    "\n",
    "def MeanDist(data1,data2,Markers,title='',clr=['darkgreen','purple']):\n",
    "    sns.set_style({'legend.frameon':True})\n",
    " \n",
    "    dd0=data1[Markers].mean().sort_values(ascending=False)\n",
    "    dd1=data2[Markers].mean().sort_values()\n",
    "    diffs=(dd1-dd0).sort_values(ascending=False)    \n",
    "\n",
    "    colors = [clr[0] if x < 0 else clr[1] for x in diffs]\n",
    "    \n",
    "    fig, ax = plt.subplots(figsize=(16,10), dpi= 80)\n",
    "    plt.hlines(y=diffs.index, xmin=0, xmax=diffs, color=colors, alpha=1, linewidth=5)\n",
    "    # Decorations\n",
    "    plt.gca().set(ylabel='', xlabel='')\n",
    "    plt.xticks(fontsize=20 ) \n",
    "    plt.yticks(fontsize=16 ) \n",
    "\n",
    "    plt.title(title, fontdict={'size':20})\n",
    "    plt.grid(linestyle='--', alpha=0.5)\n",
    "\n",
    "    \n",
    "def MedDist(data1,data2,Markers,title='',clr=['darkgreen','purple']):\n",
    "    sns.set_style({'legend.frameon':True})\n",
    " \n",
    "    dd0=data1[Markers].median().sort_values(ascending=False)\n",
    "    dd1=data2[Markers].median().sort_values()\n",
    "    diffs=(dd1-dd0).sort_values(ascending=False)    \n",
    "\n",
    "    colors = [clr[0] if x < 0 else clr[1] for x in diffs]\n",
    "    \n",
    "    fig, ax = plt.subplots(figsize=(16,10), dpi= 80)\n",
    "    plt.hlines(y=diffs.index, xmin=0, xmax=diffs, color=colors, alpha=1, linewidth=5)\n",
    "    # Decorations\n",
    "    plt.gca().set(ylabel='', xlabel='')\n",
    "    plt.xticks(fontsize=20 ) \n",
    "    plt.yticks(fontsize=16 ) \n",
    "\n",
    "    plt.title(title, fontdict={'size':20})\n",
    "    plt.grid(linestyle='--', alpha=0.5)    \n",
    "    \n",
    "def MeanDistIdU(data1,data2,Markers,title=''):\n",
    "    sns.set_style({'legend.frameon':True})\n",
    " \n",
    "    dd0=data1[Markers].mean().sort_values(ascending=False)\n",
    "    dd1=data2[Markers].mean().sort_values()\n",
    "    diffs=(dd1-dd0).sort_values(ascending=False)    \n",
    "    colors = ['dodgerblue' if x < 0 else 'darkmagenta' for x in diffs]\n",
    "    \n",
    "    fig, ax = plt.subplots(figsize=(16,10), dpi= 80)\n",
    "    plt.hlines(y=diffs.index, xmin=0, xmax=diffs, color=colors, alpha=1, linewidth=5)\n",
    "    # Decorations\n",
    "    plt.gca().set(ylabel='', xlabel='')\n",
    "    plt.xticks(fontsize=20 ) \n",
    "    plt.yticks(fontsize=16 ) \n",
    "\n",
    "    plt.title(title, fontdict={'size':20})\n",
    "    plt.grid(linestyle='--', alpha=0.5)\n",
    "\n",
    "def KPlot_Mrk(Mark,titleSup=''):\n",
    "    plt.figure(figsize=(10,10))\n",
    "    sns.kdeplot(data=C01,x=Mark,label=\"C01\")\n",
    "    sns.kdeplot(data=C02,x=Mark,label=\"C02\")\n",
    "    sns.kdeplot(data=C03,x=Mark,label=\"C03\")\n",
    "    sns.kdeplot(data=C04,x=Mark,label=\"C04\")\n",
    "    sns.kdeplot(data=C05,x=Mark,label=\"C05\")\n",
    "    plt.legend()\n",
    "    plt.title(\"\"+Mark+\" \"+titleSup)\n",
    "    plt.show()\n",
    "    \n",
    "    \n",
    "    \n",
    "    \n",
    "\n",
    "def UMAP_Plot(data1,data2,Markers,Set1='C01',Set2='Other',titleSup=''):\n",
    "    data1=data1.assign(Set=Set1)\n",
    "    data2=data2.assign(Set=Set2)\n",
    "    CAll=data1.append(data2).sample(frac=0.1).copy()\n",
    "    print(CAll)\n",
    "    X_2d=draw_umap(CAll[Markers],cc=CAll['H3'],min_dist=0.01)\n",
    "    for NN in NamesAll:\n",
    "        cc=CAll[NN]#[mask]\n",
    "        plt.figure(figsize=(6, 5))\n",
    "        plt.scatter(X_2d[:,0],X_2d[:,1],s=2,\n",
    "                    c=cc, cmap=plt.cm.jet)\n",
    "    #    cmap = matplotlib.cm.get_cmap('jet')\n",
    "        plt.colorbar()\n",
    "    #    plt.clim(-3.5,3.5)\n",
    "        plt.clim(cc.quantile(0.01),cc.quantile(0.99))\n",
    "    #    mask=CAllmask[TSNEVar]==True\n",
    "    #    rgba = cmap(-10)\n",
    "    #    plt.scatter(X_2d[mask][:,0],X_2d[mask][:,1],s=2,\n",
    "    #                color=rgba) \n",
    "        plt.title(NN+\" \"+titleSup)\n",
    "        plt.show()\n",
    "\n",
    "    plt.figure(figsize=(6, 5))\n",
    "    mask=CAll.Set==Set1\n",
    "    plt.scatter(X_2d[mask,0],X_2d[mask,1],s=2,\n",
    "            c='blue', label=Set1)        \n",
    "    mask=CAll.Set==Set2\n",
    "    plt.scatter(X_2d[mask,0],X_2d[mask,1],s=2,\n",
    "            c='red', label=Set2)        \n",
    "    plt.legend()\n",
    "    plt.show()\n",
    "       \n",
    "\n",
    "def DeltaCorr(data1,data2,Markers,titleSup=''):\n",
    "    params = {'axes.titlesize': 30,\n",
    "              'legend.fontsize': 20,\n",
    "              'figure.figsize': (16, 10),\n",
    "              'axes.labelsize': 20,\n",
    "              'axes.titlesize': 20,\n",
    "              'xtick.labelsize': 16,\n",
    "              'ytick.labelsize': 16,\n",
    "              'figure.titlesize': 30}\n",
    "    plt.rcParams.update(params)\n",
    "    plt.style.use('seaborn-whitegrid')\n",
    "    sns.set_style(\"white\")\n",
    "\n",
    "    print(titleSup)\n",
    "    plt.figure(figsize=(20,20))\n",
    "    matrix=data2[Markers].corr()-data1[Markers].corr()\n",
    "    g=sns.clustermap(matrix, annot=True, annot_kws={\"size\":8},\n",
    "                     cmap=plt.cm.jet,vmin=matrix.min().min(),vmax=matrix.max().max(),linewidths=.1); \n",
    "    plt.xticks(rotation=0); \n",
    "    plt.yticks(rotation=0); \n",
    "\n",
    "    plt.title(titleSup)\n",
    "    plt.show()\n",
    "    \n",
    "    \n",
    "def DefStyle():\n",
    "    params = {'axes.titlesize': 30,\n",
    "          'legend.fontsize': 20,\n",
    "          'figure.figsize': (6, 5),\n",
    "          'axes.labelsize': 20,\n",
    "          'axes.titlesize': 20,\n",
    "          'xtick.labelsize': 20,\n",
    "          'ytick.labelsize': 20,\n",
    "          'figure.titlesize': 30}\n",
    "    plt.rcParams.update(params)\n",
    "    plt.style.use('seaborn-whitegrid')\n",
    "    sns.set_style(\"white\")"
   ]
  },
  {
   "cell_type": "markdown",
   "metadata": {
    "tags": []
   },
   "source": [
    "# Load and initialize"
   ]
  },
  {
   "cell_type": "code",
   "execution_count": null,
   "metadata": {},
   "outputs": [],
   "source": [
    "NamesAll=['CD45',\n",
    " 'H3',\n",
    " 'K5',\n",
    " 'EpCam',\n",
    " 'H3K27me2',\n",
    " 'p53',\n",
    " 'EZH2',\n",
    " 'H3K4me3',\n",
    " 'gH2AX',\n",
    " 'aSMA',\n",
    " 'H3K36me2',\n",
    " 'H3K4me1',\n",
    " 'H3K9me2',\n",
    " 'H4K16ac',\n",
    " 'H2Aub',\n",
    " 'Vimentin',\n",
    " 'H3.3',\n",
    " 'H3K64ac',\n",
    " 'BMI-1',\n",
    " 'ZEB1',\n",
    " 'H4',\n",
    " 'H3K27ac',\n",
    " 'H4K20me3',\n",
    " 'ER',\n",
    " 'CD49f',\n",
    " 'H3K36me3',\n",
    " 'CD24',\n",
    " 'GATA3',\n",
    " 'H3K27me3',\n",
    " 'H3K9ac',\n",
    " 'H3K9me3',\n",
    " 'CD44',\n",
    " 'Ki67',\n",
    " 'K8-18',\n",
    " 'H3S28p',\n",
    " 'Ir_DNA2',\n",
    " 'Live_Dead']\n",
    "\n",
    "\n",
    "EpiCols=[\n",
    " 'H3',\n",
    " 'H3K27me2',\n",
    " 'H3K4me3',\n",
    " 'H3K36me2',\n",
    " 'H3K4me1',\n",
    " 'H3K9me2',\n",
    " 'H4K16ac',\n",
    " 'H2Aub',\n",
    " 'H3.3',\n",
    " 'H3K64ac',\n",
    " 'H4',\n",
    " 'H3K27ac',\n",
    " 'H4K20me3',\n",
    " 'H3K36me3',\n",
    " 'H3K27me3',\n",
    " 'H3K9ac',\n",
    " 'H3K9me3',\n",
    " 'H3S28p',\n",
    "]\n",
    "\n",
    "CellIden=[\n",
    " 'CD45',\n",
    " 'K5',\n",
    " 'EpCam',\n",
    " 'aSMA',\n",
    " 'Vimentin',\n",
    " 'ZEB1',\n",
    " 'ER',\n",
    " 'CD49f',\n",
    " 'CD24',\n",
    " 'GATA3',\n",
    " 'CD44',\n",
    " 'K8-18',\n",
    "]\n",
    "\n",
    "\n",
    "ToNorm=[\n",
    " 'H3',\n",
    " 'K5',\n",
    " 'H3K27me2',\n",
    " 'p53',\n",
    " 'EZH2',\n",
    " 'H3K4me3',\n",
    " 'gH2AX',\n",
    " 'aSMA',\n",
    " 'H3K36me2',\n",
    " 'H3K4me1',\n",
    " 'H3K9me2',\n",
    " 'H4K16ac',\n",
    " 'H2Aub',\n",
    " 'Vimentin',\n",
    " 'H3.3',\n",
    " 'H3K64ac',\n",
    " 'BMI-1',\n",
    " 'ZEB1',\n",
    " 'H4',\n",
    " 'H3K27ac',\n",
    " 'H4K20me3',\n",
    " 'ER',\n",
    " 'H3K36me3',\n",
    " 'GATA3',\n",
    " 'H3K27me3',\n",
    " 'H3K9ac',\n",
    " 'H3K9me3',\n",
    " 'Ki67',\n",
    " 'K8-18',\n",
    " 'H3S28p',\n",
    " ]\n",
    "\n",
    "NMS=['CD45',\n",
    " 'K5',\n",
    " 'EpCam',\n",
    " 'H3K27me2',\n",
    " 'p53',\n",
    " 'EZH2',\n",
    " 'H3K4me3',\n",
    " 'gH2AX',\n",
    " 'aSMA',\n",
    " 'H3K36me2',\n",
    " 'H3K4me1',\n",
    " 'H3K9me2',\n",
    " 'H4K16ac',\n",
    " 'H2Aub',\n",
    " 'Vimentin',\n",
    " 'H3K64ac',\n",
    " 'BMI-1',\n",
    " 'ZEB1',\n",
    " 'H3K27ac',\n",
    " 'H4K20me3',\n",
    " 'ER',\n",
    " 'CD49f',\n",
    " 'H3K36me3',\n",
    " 'CD24',\n",
    " 'GATA3',\n",
    " 'H3K27me3',\n",
    " 'H3K9ac',\n",
    " 'H3K9me3',\n",
    " 'CD44',\n",
    " 'Ki67',\n",
    " 'K8-18',\n",
    " 'H3S28p',\n",
    "]"
   ]
  },
  {
   "cell_type": "code",
   "execution_count": null,
   "metadata": {
    "tags": []
   },
   "outputs": [],
   "source": [
    "# dir=\"~/Dropbox/CyTOF_Breast/Kaplan_1st/\"\n",
    "dir=\"~/Desktop/biology/breast_cancer/data/\"\n",
    "\n",
    "K1=pd.read_csv(dir+\"BCK-01_noaf_18Sep2022_01_0.fcs_file_internal_comp_residual.csv\")\n",
    "K2=pd.read_csv(dir+\"BCK-02_noaf_18Sep2022_01_0.fcs_file_internal_comp_residual.csv\")\n",
    "\n",
    "\n",
    "params = {'axes.titlesize': 30,\n",
    "          'legend.fontsize': 20,\n",
    "          'figure.figsize': (6, 5),\n",
    "          'axes.labelsize': 20,\n",
    "          'axes.titlesize': 20,\n",
    "          'xtick.labelsize': 20,\n",
    "          'ytick.labelsize': 20,\n",
    "          'figure.titlesize': 30}\n",
    "plt.rcParams.update(params)\n",
    "plt.style.use('seaborn-whitegrid')\n",
    "sns.set_style(\"white\")\n",
    "\n",
    "K1=K1[NamesAll]\n",
    "K2=K2[NamesAll]\n",
    "\n"
   ]
  },
  {
   "cell_type": "code",
   "execution_count": null,
   "metadata": {},
   "outputs": [],
   "source": []
  },
  {
   "cell_type": "markdown",
   "metadata": {
    "tags": []
   },
   "source": [
    "# Gate on H3.3/H4 too low, but also remove outliers 99.99% from all "
   ]
  },
  {
   "cell_type": "code",
   "execution_count": null,
   "metadata": {},
   "outputs": [],
   "source": []
  },
  {
   "cell_type": "code",
   "execution_count": null,
   "metadata": {},
   "outputs": [],
   "source": []
  },
  {
   "cell_type": "code",
   "execution_count": null,
   "metadata": {},
   "outputs": [],
   "source": []
  },
  {
   "cell_type": "code",
   "execution_count": null,
   "metadata": {},
   "outputs": [],
   "source": []
  },
  {
   "cell_type": "code",
   "execution_count": null,
   "metadata": {},
   "outputs": [],
   "source": [
    "GateColumns=['H3.3','H4']#,'H3']#,'H3']\n",
    "\n",
    "\n",
    "def Gate(data,name):\n",
    "    ddf=data.copy()\n",
    "    print(name)\n",
    "    print(\"Initial \",len(ddf))\n",
    "    ddf=ddf[(ddf[GateColumns]>5).all(axis=1)]\n",
    "    print(\"Core Gate \",len(ddf))\n",
    "    ddf=ddf[(ddf<np.quantile(ddf,0.9999,axis=0)).all(axis=1)]\n",
    "    print(\"Outlier Gate \",len(ddf))\n",
    "    data=ddf.copy()\n",
    "    del ddf\n",
    "    return data\n",
    "\n",
    "\n",
    "K1=Gate(K1,\"K1\")\n",
    "K2=Gate(K2,\"K2\")"
   ]
  },
  {
   "cell_type": "code",
   "execution_count": null,
   "metadata": {},
   "outputs": [],
   "source": [
    "\n",
    "scFac=5\n",
    "K1=np.arcsinh(K1/scFac)\n",
    "K2=np.arcsinh(K2/scFac)\n"
   ]
  },
  {
   "cell_type": "raw",
   "metadata": {
    "tags": []
   },
   "source": [
    "for M in NamesAll:\n",
    "    plt.figure()\n",
    "    sns.kdeplot(K1[M],c='r',label='Tumor 1')\n",
    "    sns.kdeplot(K2[M],c='g',label='Tumor 2')\n",
    "   \n",
    "    plt.legend()\n",
    "    plt.title('ArcSinh Unnormalized')\n",
    "    plt.savefig('Plots/Hist_'+M+'.png')\n",
    "    plt.show()"
   ]
  },
  {
   "cell_type": "code",
   "execution_count": null,
   "metadata": {},
   "outputs": [],
   "source": []
  },
  {
   "cell_type": "raw",
   "metadata": {},
   "source": [
    "ThK1={}\n",
    "from scipy import signal\n",
    "for N in ['CD45']:\n",
    "    kernel = stats.gaussian_kde(K1[N])\n",
    "    r=np.linspace(K1[N].min(),5,100)\n",
    "    inv_data = 1/kernel(r)\n",
    "    # minima : use builtin function fo find (min) peaks (use inversed data)\n",
    "    min_peakind = signal.find_peaks_cwt(inv_data, np.arange(0.02,20,0.001))\n",
    "\n",
    "    print(min_peakind)\n",
    "    plt.figure(figsize=(3,3))\n",
    "    plt.plot(r,kernel(r))\n",
    "    sns.kdeplot(K1[N])\n",
    "    plt.scatter(r[min_peakind],kernel(r[min_peakind]))\n",
    "#    plt.yscale('log')\n",
    "    plt.show()\n",
    "    Q=input(\"Peak Num (0 based):\")\n",
    "    ThK1[N]=r[min_peakind[np.int(Q)]]"
   ]
  },
  {
   "cell_type": "raw",
   "metadata": {},
   "source": [
    "ThK2={}\n",
    "from scipy import signal\n",
    "for N in ['CD45']:\n",
    "    kernel = stats.gaussian_kde(K2[N])\n",
    "    r=np.linspace(K2[N].min(),5,100)\n",
    "    inv_data = 1/kernel(r)\n",
    "    # minima : use builtin function fo find (min) peaks (use inversed data)\n",
    "    min_peakind = signal.find_peaks_cwt(inv_data, np.arange(0.02,20,0.001))\n",
    "\n",
    "    print(min_peakind)\n",
    "    plt.figure(figsize=(3,3))\n",
    "    plt.plot(r,kernel(r))\n",
    "    sns.kdeplot(K2[N])\n",
    "    plt.scatter(r[min_peakind],kernel(r[min_peakind]))\n",
    "#    plt.yscale('log')\n",
    "    plt.show()\n",
    "    Q=input(\"Peak Num (0 based):\")\n",
    "    ThK2[N]=r[min_peakind[np.int(Q)]]"
   ]
  },
  {
   "cell_type": "code",
   "execution_count": null,
   "metadata": {},
   "outputs": [],
   "source": [
    "ThK1={'CD45': 1.8686868686868687}\n",
    "ThK2={'CD45': 2.1717171717171717}\n"
   ]
  },
  {
   "cell_type": "code",
   "execution_count": null,
   "metadata": {},
   "outputs": [],
   "source": [
    "K1CD45Neg=K1[K1.CD45<ThK1['CD45']].copy()\n",
    "K2CD45Neg=K2[K2.CD45<ThK2['CD45']].copy()\n"
   ]
  },
  {
   "cell_type": "code",
   "execution_count": null,
   "metadata": {},
   "outputs": [],
   "source": [
    "sns.histplot(K1.CD45,color='b',label='T1',stat='density',element='step',fill=False,)\n",
    "#sns.histplot(K2.CD45,color='b',label='T2',stat='density')"
   ]
  },
  {
   "cell_type": "code",
   "execution_count": null,
   "metadata": {},
   "outputs": [],
   "source": [
    "sns.kdeplot(K1.CD45,color='b',label='T1')\n",
    "sns.kdeplot(K1CD45Neg.CD45,color='b',ls='--',label='T1 CD45-')\n",
    "sns.kdeplot(K2.CD45,c='r',label='T2')\n",
    "sns.kdeplot(K2CD45Neg.CD45,c='r',ls='--',label='T2 CD45-')\n",
    "plt.legend(loc='upper left',bbox_to_anchor=(1,1))\n",
    "plt.yscale('log')\n",
    "#plt.savefig('Plots/aSMA.png',dpi=200,bbox_inches='tight')"
   ]
  },
  {
   "cell_type": "markdown",
   "metadata": {
    "tags": []
   },
   "source": [
    "# Normalize using new method on all intercellular markers"
   ]
  },
  {
   "cell_type": "code",
   "execution_count": null,
   "metadata": {},
   "outputs": [],
   "source": [
    "def R(p,x,data,Q,M,M1,M2,M3):\n",
    "    a=p['a']\n",
    "    b=p['b']\n",
    "    d=x.divide(a*M1+(1-a-b)*M2+b*M3,axis=0)\n",
    "    return (d.std()['H3.3']+d.std()['H4']+d.std()['H3'])**2\n",
    "\n",
    "def NormalizeNew(data):\n",
    "    \n",
    "    params = Parameters()\n",
    "    params.add('a', value=0.1,min=0,max=1)\n",
    "    params.add('b', value=0.1,min=0,max=1)\n",
    "    ddf=data.copy()\n",
    "    ddf2=data.copy()\n",
    "    Q=ddf.mean()\n",
    "    M=(ddf/Q)[['H3.3','H4','H3']].mean(axis=1)\n",
    "    M1=(ddf/Q)['H3.3']\n",
    "    M2=(ddf/Q)['H4']\n",
    "    M3=(ddf/Q)['H3']\n",
    "\n",
    "    out=minimize(R, params ,args=(ddf, ddf,Q,M,M1,M2,M3),method='cg')\n",
    "    AA=out.params['a'].value\n",
    "    BB=out.params['b'].value\n",
    "    M=M1*AA+M2*(1-AA-BB)+M3*BB\n",
    "    ddf=ddf.divide(M,axis=0).copy()\n",
    "    data=ddf\n",
    "    ddf2[EpiCols]=data[EpiCols]\n",
    "    data=ddf2.copy()\n",
    "    del ddf \n",
    "    del ddf2\n",
    "    return data\n",
    "    \n",
    "def R2(p,x,data,Q,M,M1,M2):\n",
    "    a=p['a']\n",
    "    d=x.divide(a*M1+(1-a)*M2,axis=0)\n",
    "    return (d.std()['H3.3'])**2+(d.std()['H4'])**2\n",
    "\n",
    "def NormalizeNew2(data):\n",
    "    \n",
    "    params = Parameters()\n",
    "    params.add('a', value=0.5,min=0.3,max=1)\n",
    "    ddf=data.copy()\n",
    "    ddf2=data.copy()\n",
    "    Q=ddf.mean()\n",
    "    M=(ddf/Q)[['H3.3','H4']].mean(axis=1)\n",
    "    M1=(ddf/Q)['H3.3']\n",
    "    M2=(ddf/Q)['H4']\n",
    " \n",
    "    out=minimize(R2, params ,args=(ddf, ddf,Q,M,M1,M2),method='cg')\n",
    "    AA=out.params['a'].value\n",
    "\n",
    "    M=M1*AA+M2*(1-AA)\n",
    "    ddf=ddf.divide(M,axis=0).copy()\n",
    "    data=ddf.copy()\n",
    "    print(data.shape,ddf2.shape)\n",
    "    ddf2[EpiCols]=data[EpiCols]\n",
    "    data=ddf2.copy()\n",
    "    del ddf \n",
    "    del ddf2\n",
    "    return data"
   ]
  },
  {
   "cell_type": "code",
   "execution_count": null,
   "metadata": {},
   "outputs": [],
   "source": [
    "K1.std()"
   ]
  },
  {
   "cell_type": "code",
   "execution_count": null,
   "metadata": {},
   "outputs": [],
   "source": [
    "EpiBCK=EpiCols.copy()\n",
    "EpiCols=ToNorm.copy()\n",
    "\n",
    "\n",
    "\n",
    "\n",
    "\n",
    "\n",
    "print(\"K1\")\n",
    "print(K1.std()['H3.3']+K1.std()['H4'])#+K1.std()['H3'])\n",
    "K1=NormalizeNew2(K1)\n",
    "print(K1.std()['H3.3']+K1.std()['H4'])#+K1.std()['H3'])\n",
    "\n",
    "print(\"K2\")\n",
    "print(K2.std()['H3.3']+K2.std()['H4'])#+K2.std()['H3'])\n",
    "K2=NormalizeNew2(K2)\n",
    "print(K2.std()['H3.3']+K2.std()['H4'])#+K2.std()['H3'])\n",
    "\n",
    "\n",
    "K1CD45Neg=NormalizeNew2(K1CD45Neg)\n",
    "K2CD45Neg=NormalizeNew2(K2CD45Neg)\n",
    "\n",
    "EpiCols=EpiBCK.copy()\n"
   ]
  },
  {
   "cell_type": "code",
   "execution_count": null,
   "metadata": {},
   "outputs": [],
   "source": [
    "K1.std()"
   ]
  },
  {
   "cell_type": "code",
   "execution_count": null,
   "metadata": {},
   "outputs": [],
   "source": [
    "sns.kdeplot(K1.EpCam)"
   ]
  },
  {
   "cell_type": "code",
   "execution_count": null,
   "metadata": {},
   "outputs": [],
   "source": [
    "K2.columns"
   ]
  },
  {
   "cell_type": "code",
   "execution_count": null,
   "metadata": {},
   "outputs": [],
   "source": [
    "from tqdm import tqdm\n",
    "Mean_Core=K1[['H3.3','H4']].mean(axis=1)\n",
    "for N in tqdm(ToNorm):\n",
    "    K1[N]=K1[N]/Mean_Core\n",
    "    \n",
    "    \n",
    "from tqdm import tqdm\n",
    "Mean_Core=K2[['H3.3','H4']].mean(axis=1)\n",
    "for N in tqdm(ToNorm):\n",
    "    K2[N]=K2[N]/Mean_Core"
   ]
  },
  {
   "cell_type": "code",
   "execution_count": null,
   "metadata": {},
   "outputs": [],
   "source": [
    "from tqdm import tqdm\n",
    "Mean_Core=K1[['H3.3','H4']].mean(axis=1)\n",
    "for N in tqdm(ToNorm):\n",
    "    K1[N]=K1[N]/Mean_Core\n",
    "    \n",
    "    \n",
    "from tqdm import tqdm\n",
    "Mean_Core=K2[['H3.3','H4']].mean(axis=1)\n",
    "for N in tqdm(ToNorm):\n",
    "    K2[N]=K2[N]/Mean_Core\n",
    "\n",
    "from tqdm import tqdm\n",
    "Mean_Core=K1CD45Neg[['H3.3','H4']].mean(axis=1)\n",
    "for N in tqdm(ToNorm):\n",
    "    K1CD45Neg[N]=K1CD45Neg[N]/Mean_Core\n",
    "    \n",
    "    \n",
    "from tqdm import tqdm\n",
    "Mean_Core=K2CD45Neg[['H3.3','H4']].mean(axis=1)\n",
    "for N in tqdm(ToNorm):\n",
    "    K2CD45Neg[N]=K2CD45Neg[N]/Mean_Core"
   ]
  },
  {
   "cell_type": "code",
   "execution_count": null,
   "metadata": {},
   "outputs": [],
   "source": [
    "sns.kdeplot(K1.CD45)\n",
    "sns.kdeplot(K2.CD45)"
   ]
  },
  {
   "cell_type": "code",
   "execution_count": null,
   "metadata": {},
   "outputs": [],
   "source": [
    "aaaa=pd.concat([K1]).copy()\n",
    "m=np.mean(aaaa)\n",
    "s=np.std(aaaa)\n",
    "K1=(K1-m)/s\n",
    "\n",
    "aaaa=pd.concat([K2]).copy()\n",
    "m=np.mean(aaaa)\n",
    "s=np.std(aaaa)\n",
    "K2=(K2-m)/s\n",
    "\n",
    "aaaa=pd.concat([K1CD45Neg]).copy()\n",
    "m=np.mean(aaaa)\n",
    "s=np.std(aaaa)\n",
    "K1CD45Neg=(K1CD45Neg-m)/s\n",
    "\n",
    "aaaa=pd.concat([K2CD45Neg]).copy()\n",
    "m=np.mean(aaaa)\n",
    "s=np.std(aaaa)\n",
    "K2CD45Neg=(K2CD45Neg-m)/s\n",
    "\n",
    "\n",
    "print(aaaa.std())\n",
    "\n",
    "params = {'axes.titlesize': 30,\n",
    "          'legend.fontsize': 20,\n",
    "          'figure.figsize': (6, 5),\n",
    "          'axes.labelsize': 20,\n",
    "          'axes.titlesize': 20,\n",
    "          'xtick.labelsize': 20,\n",
    "          'ytick.labelsize': 20,\n",
    "          'figure.titlesize': 30}\n",
    "plt.rcParams.update(params)\n",
    "plt.style.use('seaborn-whitegrid')\n",
    "sns.set_style(\"white\")"
   ]
  },
  {
   "cell_type": "code",
   "execution_count": null,
   "metadata": {},
   "outputs": [],
   "source": [
    "Lines=['Tumor1','Tumor2']"
   ]
  },
  {
   "cell_type": "raw",
   "metadata": {
    "tags": []
   },
   "source": [
    "for M in NamesAll:\n",
    "    plt.figure()\n",
    "    sns.kdeplot(K1[M],c='r',label='Tumor 1')\n",
    "    sns.kdeplot(K2[M],c='g',label='Tumor 2')\n",
    "   \n",
    "    plt.legend()\n",
    "    plt.title('Normalized + Scaled ')\n",
    "#    plt.savefig('Plots/Hist_Norm_Scaled_'+M+'.png')\n",
    "    plt.show()"
   ]
  },
  {
   "cell_type": "code",
   "execution_count": null,
   "metadata": {},
   "outputs": [],
   "source": [
    "print(len(K1),len(K2))\n",
    "print(len(K1CD45Neg),len(K2CD45Neg))"
   ]
  },
  {
   "cell_type": "code",
   "execution_count": null,
   "metadata": {},
   "outputs": [],
   "source": [
    "sns.kdeplot(K1CD45Neg.aSMA)"
   ]
  },
  {
   "cell_type": "markdown",
   "metadata": {
    "jp-MarkdownHeadingCollapsed": true,
    "tags": []
   },
   "source": [
    "# UMAP Tumor 1 - ALL"
   ]
  },
  {
   "cell_type": "markdown",
   "metadata": {
    "tags": []
   },
   "source": [
    "## Cell Identity"
   ]
  },
  {
   "cell_type": "code",
   "execution_count": null,
   "metadata": {},
   "outputs": [],
   "source": [
    "\n",
    "CAll=pd.concat([K1]).copy()"
   ]
  },
  {
   "cell_type": "code",
   "execution_count": null,
   "metadata": {},
   "outputs": [],
   "source": [
    "#CAll=pd.read_csv(\"1.csv\")"
   ]
  },
  {
   "cell_type": "code",
   "execution_count": null,
   "metadata": {},
   "outputs": [],
   "source": [
    "CellIden"
   ]
  },
  {
   "cell_type": "code",
   "execution_count": null,
   "metadata": {},
   "outputs": [],
   "source": [
    "#CellIden.remove('CD45')\n",
    "X_2d=draw_umap(CAll[CellIden+['p53']],cc=CAll['H4'],min_dist=0.05,n_neighbors=150,rstate=42)\n",
    "plt.show()"
   ]
  },
  {
   "cell_type": "code",
   "execution_count": null,
   "metadata": {
    "tags": []
   },
   "outputs": [],
   "source": [
    "for NN in NamesAll:\n",
    "    Var=NN\n",
    "    TSNEVar=NN\n",
    "    cc=CAll[NN]#[mask]\n",
    "    plt.figure(figsize=(6, 5))\n",
    "    plt.scatter(X_2d[:,0],X_2d[:,1],s=2,\n",
    "                c=cc, cmap=plt.cm.seismic)\n",
    "\n",
    "    plt.colorbar()\n",
    "\n",
    "    plt.clim(cc.quantile(0.01),cc.quantile(0.99))\n",
    "    plt.title(\"Tumor 1 Cell Iden UMAP - \"+TSNEVar)\n",
    "    plt.savefig('Plots/Tumor1_UMAP_CellIdentity_'+NN+'.png',dpi=200,bbox_inches='tight')\n",
    "\n",
    "    plt.show()"
   ]
  },
  {
   "cell_type": "code",
   "execution_count": null,
   "metadata": {},
   "outputs": [],
   "source": [
    "labels=dbscan_plot(X_2d,eps=0.1,min_samples=40)"
   ]
  },
  {
   "cell_type": "code",
   "execution_count": null,
   "metadata": {},
   "outputs": [],
   "source": [
    "m=labels!=-1"
   ]
  },
  {
   "cell_type": "code",
   "execution_count": null,
   "metadata": {},
   "outputs": [],
   "source": [
    "sns.histplot(K1[labels!=0].CD45,color='r',element='step',fill=False,stat='density')\n",
    "sns.histplot(K1.CD45,element='step',fill=False,stat='density')\n",
    "plt.yscale('symlog')"
   ]
  },
  {
   "cell_type": "code",
   "execution_count": null,
   "metadata": {},
   "outputs": [],
   "source": [
    "import scanpy as sc\n",
    "import anndata"
   ]
  },
  {
   "cell_type": "code",
   "execution_count": null,
   "metadata": {},
   "outputs": [],
   "source": [
    "K1AN=anndata.AnnData(K1[m],dtype=np.float32)"
   ]
  },
  {
   "cell_type": "code",
   "execution_count": null,
   "metadata": {},
   "outputs": [],
   "source": [
    "K1['Clust']=labels"
   ]
  },
  {
   "cell_type": "code",
   "execution_count": null,
   "metadata": {},
   "outputs": [],
   "source": [
    "K1AN=K1AN[:100]"
   ]
  },
  {
   "cell_type": "code",
   "execution_count": null,
   "metadata": {},
   "outputs": [],
   "source": [
    "sc.pp.neighbors(K1AN)\n",
    "sc.tl.umap(K1AN,n_components=3)"
   ]
  },
  {
   "cell_type": "code",
   "execution_count": null,
   "metadata": {},
   "outputs": [],
   "source": [
    "# import schist as scs\n",
    "# scs.inference.nested_model(K1AN)"
   ]
  },
  {
   "cell_type": "code",
   "execution_count": null,
   "metadata": {},
   "outputs": [],
   "source": [
    "K1AN.obsm['X_umap']=X_2d[m]"
   ]
  },
  {
   "cell_type": "code",
   "execution_count": null,
   "metadata": {},
   "outputs": [],
   "source": [
    "K1AN.obs['clust']=K1[m].Clust.astype('category').values"
   ]
  },
  {
   "cell_type": "code",
   "execution_count": null,
   "metadata": {
    "tags": []
   },
   "outputs": [],
   "source": [
    "from matplotlib.pyplot import rc_context\n",
    "\n",
    "with rc_context({'figure.figsize': (5, 5)}):\n",
    "    sc.pl.umap(K1AN, color='clust', add_outline=True, legend_loc='on data',\n",
    "               legend_fontsize=12, legend_fontoutline=2,frameon=True,\n",
    "               title='Clusters Tumor 1 - Cell Iden Based', palette=['r','orange','yellow','b'],show=False,projection='2d',)\n",
    "plt.savefig(\"Plots/Clust_T1_CellIden.png\")"
   ]
  },
  {
   "cell_type": "code",
   "execution_count": null,
   "metadata": {},
   "outputs": [],
   "source": [
    "K1AN\n"
   ]
  },
  {
   "cell_type": "code",
   "execution_count": null,
   "metadata": {
    "tags": []
   },
   "outputs": [],
   "source": [
    "Mat=K1[K1.Clust!=-1].groupby(by='Clust').mean()[NMS]\n",
    "amin=Mat[NMS].min().min()\n",
    "amax=Mat[NMS].max().max()\n",
    "g=sns.clustermap(Mat[NMS].T,cmap=plt.cm.seismic,vmin=amin,vmax=amax,\n",
    "                figsize=(10,20), annot_kws={\"size\":8}, center=0,\n",
    "                annot=True, linewidths=1,linecolor='k',)\n",
    "g.ax_col_dendrogram.set_title('T1 Cell Iden Based') \n",
    "plt.savefig('Plots/T1_CellIden.png')"
   ]
  },
  {
   "cell_type": "markdown",
   "metadata": {
    "tags": []
   },
   "source": [
    "## Epigenetics Based"
   ]
  },
  {
   "cell_type": "code",
   "execution_count": null,
   "metadata": {},
   "outputs": [],
   "source": [
    "MRK=EpiCols.copy()\n",
    "MRK.remove('H3')\n",
    "MRK.remove('H3.3')\n",
    "MRK.remove('H4')\n",
    "X_2d=draw_umap(CAll[MRK],cc=CAll['H4'],min_dist=0.05,n_neighbors=150,rstate=42)\n",
    "plt.show()"
   ]
  },
  {
   "cell_type": "code",
   "execution_count": null,
   "metadata": {},
   "outputs": [],
   "source": [
    "for NN in NamesAll:\n",
    "    Var=NN\n",
    "    TSNEVar=NN\n",
    "    cc=CAll[NN]#[mask]\n",
    "    plt.figure(figsize=(6, 5))\n",
    "    plt.scatter(X_2d[:,0],X_2d[:,1],s=2,\n",
    "                c=cc, cmap=plt.cm.seismic)\n",
    "\n",
    "    plt.colorbar()\n",
    "\n",
    "    plt.clim(cc.quantile(0.01),cc.quantile(0.99))\n",
    "    plt.title(\"Tumor 1 Epigen UMAP - \"+TSNEVar)\n",
    "    plt.savefig('Plots/Tumor1_UMAP_Epi'+NN+'.png',dpi=200,bbox_inches='tight')\n",
    "\n",
    "    plt.show()"
   ]
  },
  {
   "cell_type": "code",
   "execution_count": null,
   "metadata": {},
   "outputs": [],
   "source": [
    "labels=dbscan_plot(X_2d,eps=0.2,min_samples=50)"
   ]
  },
  {
   "cell_type": "code",
   "execution_count": null,
   "metadata": {},
   "outputs": [],
   "source": [
    "m=labels!=-1"
   ]
  },
  {
   "cell_type": "code",
   "execution_count": null,
   "metadata": {},
   "outputs": [],
   "source": [
    "import scanpy as sc\n",
    "import anndata"
   ]
  },
  {
   "cell_type": "code",
   "execution_count": null,
   "metadata": {},
   "outputs": [],
   "source": [
    "K1AN=anndata.AnnData(K1[m],dtype=np.float32)"
   ]
  },
  {
   "cell_type": "code",
   "execution_count": null,
   "metadata": {},
   "outputs": [],
   "source": [
    "K1['Clust']=labels"
   ]
  },
  {
   "cell_type": "code",
   "execution_count": null,
   "metadata": {},
   "outputs": [],
   "source": [
    "sc.pp.neighbors(K1AN)\n",
    "sc.tl.umap(K1AN,n_components=3)\n",
    "K1AN.obsm['X_umap']=X_2d[m]"
   ]
  },
  {
   "cell_type": "code",
   "execution_count": null,
   "metadata": {},
   "outputs": [],
   "source": [
    "K1AN.obsm['X_umap']=X_2d[m]"
   ]
  },
  {
   "cell_type": "code",
   "execution_count": null,
   "metadata": {},
   "outputs": [],
   "source": [
    "K1AN.obs['clust']=K1[m].Clust.astype('category').values"
   ]
  },
  {
   "cell_type": "code",
   "execution_count": null,
   "metadata": {
    "tags": []
   },
   "outputs": [],
   "source": [
    "from matplotlib.pyplot import rc_context\n",
    "\n",
    "with rc_context({'figure.figsize': (5, 5)}):\n",
    "    sc.pl.umap(K1AN, color='clust', add_outline=True, legend_loc='on data',\n",
    "               legend_fontsize=16, legend_fontoutline=4,frameon=True,\n",
    "               title='Clusters Tumor 1 - Epigen Based', palette=['r','orange','yellow','b'],show=False,projection='2d',)\n",
    "plt.savefig(\"Plots/Clust_T1_Epigen.png\")"
   ]
  },
  {
   "cell_type": "code",
   "execution_count": null,
   "metadata": {
    "tags": []
   },
   "outputs": [],
   "source": [
    "Mat=K1[K1.Clust!=-1].groupby(by='Clust').mean()[NMS]\n",
    "amin=Mat[NMS].min().min()\n",
    "amax=Mat[NMS].max().max()\n",
    "g=sns.clustermap(Mat[NMS].T,cmap=plt.cm.seismic,vmin=amin,vmax=amax,\n",
    "                figsize=(10,20), annot_kws={\"size\":8}, center=0,\n",
    "                annot=True, linewidths=1,linecolor='k',)\n",
    "g.ax_col_dendrogram.set_title('T1 Epigen Based') \n",
    "plt.savefig('Plots/T1_Epigen.png')"
   ]
  },
  {
   "cell_type": "markdown",
   "metadata": {
    "tags": []
   },
   "source": [
    "## All Markers"
   ]
  },
  {
   "cell_type": "code",
   "execution_count": null,
   "metadata": {},
   "outputs": [],
   "source": [
    "MRK=[\n",
    " 'CD45',\n",
    " 'K5',\n",
    " 'EpCam',\n",
    " 'H3K27me2',\n",
    " 'p53',\n",
    " 'EZH2',\n",
    " 'H3K4me3',\n",
    " 'gH2AX',\n",
    " 'aSMA',\n",
    " 'H3K36me2',\n",
    " 'H3K4me1',\n",
    " 'H3K9me2',\n",
    " 'H4K16ac',\n",
    " 'H2Aub',\n",
    " 'Vimentin',\n",
    " 'H3K64ac',\n",
    " 'BMI-1',\n",
    " 'ZEB1',\n",
    " 'H3K27ac',\n",
    " 'H4K20me3',\n",
    " 'ER',\n",
    " 'CD49f',\n",
    " 'H3K36me3',\n",
    " 'CD24',\n",
    " 'GATA3',\n",
    " 'H3K27me3',\n",
    " 'H3K9ac',\n",
    " 'H3K9me3',\n",
    " 'CD44',\n",
    " 'Ki67',\n",
    " 'K8-18',\n",
    " 'H3S28p',\n",
    "]"
   ]
  },
  {
   "cell_type": "code",
   "execution_count": null,
   "metadata": {},
   "outputs": [],
   "source": [
    "\n",
    "X_2d=draw_umap(CAll[MRK],cc=CAll['H4'],min_dist=0.05,n_neighbors=150,rstate=42)\n",
    "plt.show()"
   ]
  },
  {
   "cell_type": "code",
   "execution_count": null,
   "metadata": {},
   "outputs": [],
   "source": [
    "for NN in NamesAll:\n",
    "    Var=NN\n",
    "    TSNEVar=NN\n",
    "    cc=CAll[NN]#[mask]\n",
    "    plt.figure(figsize=(6, 5))\n",
    "    plt.scatter(X_2d[:,0],X_2d[:,1],s=2,\n",
    "                c=cc, cmap=plt.cm.seismic)\n",
    "\n",
    "    plt.colorbar()\n",
    "\n",
    "    plt.clim(cc.quantile(0.01),cc.quantile(0.99))\n",
    "    plt.title(\"Tumor 1 All Markers UMAP - \"+TSNEVar)\n",
    "    plt.savefig('Plots/Tumor1_UMAP_All'+NN+'.png',dpi=200,bbox_inches='tight')\n",
    "\n",
    "    plt.show()"
   ]
  },
  {
   "cell_type": "code",
   "execution_count": null,
   "metadata": {},
   "outputs": [],
   "source": [
    "labels=dbscan_plot(X_2d,eps=0.18,min_samples=50)"
   ]
  },
  {
   "cell_type": "code",
   "execution_count": null,
   "metadata": {},
   "outputs": [],
   "source": [
    "m=labels!=-1"
   ]
  },
  {
   "cell_type": "code",
   "execution_count": null,
   "metadata": {},
   "outputs": [],
   "source": [
    "import scanpy as sc\n",
    "import anndata"
   ]
  },
  {
   "cell_type": "code",
   "execution_count": null,
   "metadata": {},
   "outputs": [],
   "source": [
    "K1AN=anndata.AnnData(K1[m],dtype=np.float32)"
   ]
  },
  {
   "cell_type": "code",
   "execution_count": null,
   "metadata": {},
   "outputs": [],
   "source": [
    "K1['Clust']=labels"
   ]
  },
  {
   "cell_type": "code",
   "execution_count": null,
   "metadata": {},
   "outputs": [],
   "source": [
    "sc.pp.neighbors(K1AN)\n",
    "sc.tl.umap(K1AN,n_components=3)\n",
    "K1AN.obsm['X_umap']=X_2d[m]"
   ]
  },
  {
   "cell_type": "code",
   "execution_count": null,
   "metadata": {},
   "outputs": [],
   "source": [
    "K1AN.obsm['X_umap']=X_2d[m]"
   ]
  },
  {
   "cell_type": "code",
   "execution_count": null,
   "metadata": {},
   "outputs": [],
   "source": [
    "K1AN.obs['clust']=K1[m].Clust.astype('category').values"
   ]
  },
  {
   "cell_type": "code",
   "execution_count": null,
   "metadata": {
    "tags": []
   },
   "outputs": [],
   "source": [
    "from matplotlib.pyplot import rc_context\n",
    "\n",
    "with rc_context({'figure.figsize': (5, 5)}):\n",
    "    sc.pl.umap(K1AN, color='clust', add_outline=True, legend_loc='on data',\n",
    "               legend_fontsize=16, legend_fontoutline=4,frameon=True,\n",
    "               title='Clusters Tumor 1 - All MRK Based', palette=['r','orange','yellow','b'],show=False,projection='2d',)\n",
    "plt.savefig(\"Plots/Clust_T1_All.png\")"
   ]
  },
  {
   "cell_type": "code",
   "execution_count": null,
   "metadata": {
    "tags": []
   },
   "outputs": [],
   "source": [
    "Mat=K1[K1.Clust!=-1].groupby(by='Clust').mean()[NMS]\n",
    "amin=Mat[NMS].min().min()\n",
    "amax=Mat[NMS].max().max()\n",
    "g=sns.clustermap(Mat[NMS].T,cmap=plt.cm.seismic,vmin=amin,vmax=amax,\n",
    "                figsize=(10,20), annot_kws={\"size\":8}, center=0,\n",
    "                annot=True, linewidths=1,linecolor='k',)\n",
    "g.ax_col_dendrogram.set_title('T1 All MRK Based') \n",
    "plt.savefig('Plots/T1_All.png')"
   ]
  },
  {
   "cell_type": "code",
   "execution_count": null,
   "metadata": {},
   "outputs": [],
   "source": []
  },
  {
   "cell_type": "code",
   "execution_count": null,
   "metadata": {},
   "outputs": [],
   "source": []
  },
  {
   "cell_type": "markdown",
   "metadata": {
    "tags": []
   },
   "source": [
    "# UMAP Tumor 1 - CD 45 Negative"
   ]
  },
  {
   "cell_type": "code",
   "execution_count": null,
   "metadata": {},
   "outputs": [],
   "source": [
    "K1Bck=K1.copy()\n",
    "K1=K1CD45Neg.copy()"
   ]
  },
  {
   "cell_type": "markdown",
   "metadata": {
    "tags": []
   },
   "source": [
    "## Cell Identity"
   ]
  },
  {
   "cell_type": "code",
   "execution_count": null,
   "metadata": {},
   "outputs": [],
   "source": [
    "\n",
    "CAll=pd.concat([K1]).copy()"
   ]
  },
  {
   "cell_type": "code",
   "execution_count": null,
   "metadata": {},
   "outputs": [],
   "source": [
    "#CellIden.remove('CD45')\n",
    "X_2d=draw_umap(CAll[CellIden],cc=CAll['H4'],min_dist=0.01,n_neighbors=150,rstate=42)\n",
    "plt.show()"
   ]
  },
  {
   "cell_type": "code",
   "execution_count": null,
   "metadata": {
    "tags": []
   },
   "outputs": [],
   "source": [
    "for NN in NamesAll:\n",
    "    Var=NN\n",
    "    TSNEVar=NN\n",
    "    cc=CAll[NN]#[mask]\n",
    "    plt.figure(figsize=(6, 5))\n",
    "    plt.scatter(X_2d[:,0],X_2d[:,1],s=2,\n",
    "                c=cc, cmap=plt.cm.seismic)\n",
    "\n",
    "    plt.colorbar()\n",
    "\n",
    "    plt.clim(cc.quantile(0.01),cc.quantile(0.99))\n",
    "    plt.title(\"CD45- Tumor 1 Cell Iden UMAP - \"+TSNEVar)\n",
    "    plt.savefig('Plots/Tumor1_CD45Neg_UMAP_CellIdentity_'+NN+'.png',dpi=200,bbox_inches='tight')\n",
    "\n",
    "    plt.show()"
   ]
  },
  {
   "cell_type": "code",
   "execution_count": null,
   "metadata": {},
   "outputs": [],
   "source": [
    "labels=dbscan_plot(X_2d,eps=0.35,min_samples=60)"
   ]
  },
  {
   "cell_type": "code",
   "execution_count": null,
   "metadata": {},
   "outputs": [],
   "source": [
    "m=labels!=-1"
   ]
  },
  {
   "cell_type": "code",
   "execution_count": null,
   "metadata": {},
   "outputs": [],
   "source": [
    "import scanpy as sc\n",
    "import anndata"
   ]
  },
  {
   "cell_type": "code",
   "execution_count": null,
   "metadata": {},
   "outputs": [],
   "source": [
    "K1AN=anndata.AnnData(K1[m],dtype=np.float32)"
   ]
  },
  {
   "cell_type": "code",
   "execution_count": null,
   "metadata": {},
   "outputs": [],
   "source": [
    "K1['Clust']=labels"
   ]
  },
  {
   "cell_type": "code",
   "execution_count": null,
   "metadata": {},
   "outputs": [],
   "source": [
    "sc.pp.neighbors(K1AN)\n",
    "#sc.tl.umap(K1AN,n_components=3)\n",
    "K1AN.obsm['X_umap']=X_2d[m]"
   ]
  },
  {
   "cell_type": "code",
   "execution_count": null,
   "metadata": {},
   "outputs": [],
   "source": [
    "K1AN.obsm['X_umap']=X_2d[m]"
   ]
  },
  {
   "cell_type": "code",
   "execution_count": null,
   "metadata": {},
   "outputs": [],
   "source": [
    "K1AN.obs['clust']=K1[m].Clust.astype('category').values"
   ]
  },
  {
   "cell_type": "code",
   "execution_count": null,
   "metadata": {
    "tags": []
   },
   "outputs": [],
   "source": [
    "from matplotlib.pyplot import rc_context\n",
    "\n",
    "with rc_context({'figure.figsize': (5, 5)}):\n",
    "    sc.pl.umap(K1AN, color='clust', add_outline=True, legend_loc='on data',\n",
    "               legend_fontsize=16, legend_fontoutline=4,frameon=True,\n",
    "               title='Clusters Tumor 1 - Cell Iden Based (CD45-)', palette=['r','orange','yellow','b'],show=False,projection='2d',)\n",
    "plt.savefig(\"Plots/Clust_T1_CellIden_CD45Neg.png\")"
   ]
  },
  {
   "cell_type": "code",
   "execution_count": null,
   "metadata": {
    "tags": []
   },
   "outputs": [],
   "source": [
    "with rc_context({'figure.figsize': (4, 4)}):\n",
    "    sc.pl.umap(K1AN, color=NamesAll+['clust'],ncols=5,vmax='p99.9',vmin='p0.001',\n",
    "           cmap=plt.cm.seismic,add_outline=True,show=False)\n",
    "    plt.savefig(\"Plots/T.pdf\",dpi=200,bbox_inches='tight')\n"
   ]
  },
  {
   "cell_type": "code",
   "execution_count": null,
   "metadata": {
    "tags": []
   },
   "outputs": [],
   "source": [
    "Mat=K1[K1.Clust!=-1].groupby(by='Clust').mean()[NMS]\n",
    "amin=Mat[NMS].min().min()\n",
    "amax=Mat[NMS].max().max()\n",
    "g=sns.clustermap(Mat[NMS].T,cmap=plt.cm.seismic,vmin=amin,vmax=amax,\n",
    "                figsize=(10,15), annot_kws={\"size\":12}, center=0,yticklabels=True,\n",
    "                annot=True, linewidths=1,linecolor='k',)\n",
    "g.ax_col_dendrogram.set_title('T1 Cell Iden Based (45-)') \n",
    "plt.savefig('Plots/T1_CellIden_CD45Neg.png')"
   ]
  },
  {
   "cell_type": "code",
   "execution_count": null,
   "metadata": {},
   "outputs": [],
   "source": [
    "EP=EpiCols.copy()\n",
    "EP.remove('H3')\n",
    "EP.remove('H3.3')\n",
    "EP.remove('H4')"
   ]
  },
  {
   "cell_type": "code",
   "execution_count": null,
   "metadata": {},
   "outputs": [],
   "source": [
    "Mat=K1[K1.Clust!=-1].groupby(by='Clust').mean()[EP]\n",
    "amin=Mat[EP].min().min()\n",
    "amax=Mat[EP].max().max()\n",
    "g=sns.clustermap(Mat[EP].T,cmap=plt.cm.seismic,vmin=amin,vmax=amax,\n",
    "                figsize=(10,15), annot_kws={\"size\":12}, center=0,yticklabels=True,col_cluster=False,row_cluster=True,\n",
    "                annot=True, linewidths=1,linecolor='k',)\n",
    "g.ax_col_dendrogram.set_title('T1 Cell Iden Based (45-)') \n",
    "plt.savefig('Plots/T1_CellIden_CD45Neg_Epi.png')"
   ]
  },
  {
   "cell_type": "code",
   "execution_count": null,
   "metadata": {},
   "outputs": [],
   "source": [
    "MeanDist(K1[K1.Clust==0],K1[K1.Clust==1],EP)"
   ]
  },
  {
   "cell_type": "code",
   "execution_count": null,
   "metadata": {},
   "outputs": [],
   "source": []
  },
  {
   "cell_type": "code",
   "execution_count": null,
   "metadata": {},
   "outputs": [],
   "source": []
  },
  {
   "cell_type": "markdown",
   "metadata": {
    "tags": []
   },
   "source": [
    "## Epigenetics Based"
   ]
  },
  {
   "cell_type": "code",
   "execution_count": null,
   "metadata": {},
   "outputs": [],
   "source": [
    "MRK=EpiCols.copy()\n",
    "MRK.remove('H3')\n",
    "MRK.remove('H3.3')\n",
    "MRK.remove('H4')\n",
    "X_2d=draw_umap(CAll[MRK],cc=CAll['H4'],min_dist=0.05,n_neighbors=150,rstate=42)\n",
    "plt.show()"
   ]
  },
  {
   "cell_type": "code",
   "execution_count": null,
   "metadata": {
    "tags": []
   },
   "outputs": [],
   "source": [
    "for NN in NamesAll:\n",
    "    Var=NN\n",
    "    TSNEVar=NN\n",
    "    cc=CAll[NN]#[mask]\n",
    "    plt.figure(figsize=(6, 5))\n",
    "    plt.scatter(X_2d[:,0],X_2d[:,1],s=2,\n",
    "                c=cc, cmap=plt.cm.seismic)\n",
    "\n",
    "    plt.colorbar()\n",
    "\n",
    "    plt.clim(cc.quantile(0.01),cc.quantile(0.99))\n",
    "    plt.title(\"(CD45-) Tumor 1 Epigen UMAP - \"+TSNEVar)\n",
    "    plt.savefig('Plots/Tumor1_UMAP_Epi_CD45Neg'+NN+'.png',dpi=200,bbox_inches='tight')\n",
    "\n",
    "    plt.show()"
   ]
  },
  {
   "cell_type": "code",
   "execution_count": null,
   "metadata": {},
   "outputs": [],
   "source": [
    "labels=dbscan_plot(X_2d,eps=0.3,min_samples=50)"
   ]
  },
  {
   "cell_type": "code",
   "execution_count": null,
   "metadata": {},
   "outputs": [],
   "source": [
    "m=labels!=-1"
   ]
  },
  {
   "cell_type": "code",
   "execution_count": null,
   "metadata": {},
   "outputs": [],
   "source": [
    "import scanpy as sc\n",
    "import anndata"
   ]
  },
  {
   "cell_type": "code",
   "execution_count": null,
   "metadata": {},
   "outputs": [],
   "source": [
    "K1AN=anndata.AnnData(K1[m],dtype=np.float32)"
   ]
  },
  {
   "cell_type": "code",
   "execution_count": null,
   "metadata": {},
   "outputs": [],
   "source": [
    "K1['Clust']=labels"
   ]
  },
  {
   "cell_type": "code",
   "execution_count": null,
   "metadata": {},
   "outputs": [],
   "source": [
    "sc.pp.neighbors(K1AN)\n",
    "sc.tl.umap(K1AN,n_components=3)\n",
    "K1AN.obsm['X_umap']=X_2d[m]"
   ]
  },
  {
   "cell_type": "code",
   "execution_count": null,
   "metadata": {},
   "outputs": [],
   "source": [
    "K1AN.obsm['X_umap']=X_2d[m]"
   ]
  },
  {
   "cell_type": "code",
   "execution_count": null,
   "metadata": {},
   "outputs": [],
   "source": [
    "K1AN.obs['clust']=K1[m].Clust.astype('category').values"
   ]
  },
  {
   "cell_type": "code",
   "execution_count": null,
   "metadata": {
    "tags": []
   },
   "outputs": [],
   "source": [
    "from matplotlib.pyplot import rc_context\n",
    "\n",
    "with rc_context({'figure.figsize': (5, 5)}):\n",
    "    sc.pl.umap(K1AN, color='clust', add_outline=True, legend_loc='on data',\n",
    "               legend_fontsize=16, legend_fontoutline=4,frameon=True,\n",
    "               title='Clusters Tumor 1 - Epigen Based (CD45-)', palette=['r','orange','yellow','b'],show=False,projection='2d',)\n",
    "plt.savefig(\"Plots/Clust_T1_Epigen_CD45Neg.png\")"
   ]
  },
  {
   "cell_type": "code",
   "execution_count": null,
   "metadata": {
    "tags": []
   },
   "outputs": [],
   "source": [
    "Mat=K1[K1.Clust!=-1].groupby(by='Clust').mean()[NMS]\n",
    "amin=Mat[NMS].min().min()\n",
    "amax=Mat[CellIden].max().max()\n",
    "g=sns.clustermap(Mat[NMS].T,cmap=plt.cm.seismic,vmin=amin,vmax=amax,\n",
    "                 annot_kws={\"size\":8}, center=0,figsize=(10,20),\n",
    "                annot=True, linewidths=1,linecolor='k',)\n",
    "g.ax_col_dendrogram.set_title('T1 Epigen Based (CD45-)') \n",
    "plt.savefig('Plots/T1_Epigen_CD45Neg.png')"
   ]
  },
  {
   "cell_type": "markdown",
   "metadata": {
    "tags": []
   },
   "source": [
    "## All Markers"
   ]
  },
  {
   "cell_type": "code",
   "execution_count": null,
   "metadata": {},
   "outputs": [],
   "source": [
    "MRK=[\n",
    " 'CD45',\n",
    " 'K5',\n",
    " 'EpCam',\n",
    " 'H3K27me2',\n",
    " 'p53',\n",
    " 'EZH2',\n",
    " 'H3K4me3',\n",
    " 'gH2AX',\n",
    " 'aSMA',\n",
    " 'H3K36me2',\n",
    " 'H3K4me1',\n",
    " 'H3K9me2',\n",
    " 'H4K16ac',\n",
    " 'H2Aub',\n",
    " 'Vimentin',\n",
    " 'H3K64ac',\n",
    " 'BMI-1',\n",
    " 'ZEB1',\n",
    " 'H3K27ac',\n",
    " 'H4K20me3',\n",
    " 'ER',\n",
    " 'CD49f',\n",
    " 'H3K36me3',\n",
    " 'CD24',\n",
    " 'GATA3',\n",
    " 'H3K27me3',\n",
    " 'H3K9ac',\n",
    " 'H3K9me3',\n",
    " 'CD44',\n",
    " 'Ki67',\n",
    " 'K8-18',\n",
    " 'H3S28p',\n",
    "]"
   ]
  },
  {
   "cell_type": "code",
   "execution_count": null,
   "metadata": {},
   "outputs": [],
   "source": [
    "\n",
    "X_2d=draw_umap(CAll[MRK],cc=CAll['H4'],min_dist=0.05,n_neighbors=150,rstate=42)\n",
    "plt.show()"
   ]
  },
  {
   "cell_type": "code",
   "execution_count": null,
   "metadata": {
    "tags": []
   },
   "outputs": [],
   "source": [
    "for NN in NamesAll:\n",
    "    Var=NN\n",
    "    TSNEVar=NN\n",
    "    cc=CAll[NN]#[mask]\n",
    "    plt.figure(figsize=(6, 5))\n",
    "    plt.scatter(X_2d[:,0],X_2d[:,1],s=2,\n",
    "                c=cc, cmap=plt.cm.seismic)\n",
    "\n",
    "    plt.colorbar()\n",
    "\n",
    "    plt.clim(cc.quantile(0.01),cc.quantile(0.99))\n",
    "    plt.title(\"(CD45-) Tumor 1 All Markers UMAP - \"+TSNEVar)\n",
    "    plt.savefig('Plots/Tumor1_UMAP_All_CD45Neg'+NN+'.png',dpi=200,bbox_inches='tight')\n",
    "\n",
    "    plt.show()"
   ]
  },
  {
   "cell_type": "code",
   "execution_count": null,
   "metadata": {},
   "outputs": [],
   "source": [
    "labels=dbscan_plot(X_2d,eps=0.17,min_samples=10)"
   ]
  },
  {
   "cell_type": "code",
   "execution_count": null,
   "metadata": {},
   "outputs": [],
   "source": [
    "m=labels!=-1"
   ]
  },
  {
   "cell_type": "code",
   "execution_count": null,
   "metadata": {},
   "outputs": [],
   "source": [
    "import scanpy as sc\n",
    "import anndata"
   ]
  },
  {
   "cell_type": "code",
   "execution_count": null,
   "metadata": {},
   "outputs": [],
   "source": [
    "K1AN=anndata.AnnData(K1[m],dtype=np.float32)"
   ]
  },
  {
   "cell_type": "code",
   "execution_count": null,
   "metadata": {},
   "outputs": [],
   "source": [
    "K1['Clust']=labels"
   ]
  },
  {
   "cell_type": "code",
   "execution_count": null,
   "metadata": {},
   "outputs": [],
   "source": [
    "sc.pp.neighbors(K1AN)\n",
    "sc.tl.umap(K1AN,n_components=3)\n",
    "K1AN.obsm['X_umap']=X_2d[m]"
   ]
  },
  {
   "cell_type": "code",
   "execution_count": null,
   "metadata": {},
   "outputs": [],
   "source": [
    "K1AN.obsm['X_umap']=X_2d[m]"
   ]
  },
  {
   "cell_type": "code",
   "execution_count": null,
   "metadata": {},
   "outputs": [],
   "source": [
    "K1AN.obs['clust']=K1[m].Clust.astype('category').values"
   ]
  },
  {
   "cell_type": "code",
   "execution_count": null,
   "metadata": {
    "tags": []
   },
   "outputs": [],
   "source": [
    "from matplotlib.pyplot import rc_context\n",
    "\n",
    "with rc_context({'figure.figsize': (5, 5)}):\n",
    "    sc.pl.umap(K1AN, color='clust', add_outline=True, legend_loc='on data',\n",
    "               legend_fontsize=16, legend_fontoutline=4,frameon=True,\n",
    "               title='Clusters Tumor 1 - All MRK Based (CD45-)', palette=['r','orange','yellow','b'],show=False,projection='2d',)\n",
    "plt.savefig(\"Plots/Clust_T1_All_CD45Neg.png\")"
   ]
  },
  {
   "cell_type": "code",
   "execution_count": null,
   "metadata": {
    "tags": []
   },
   "outputs": [],
   "source": [
    "Mat=K1[K1.Clust!=-1].groupby(by='Clust').mean()[NMS]\n",
    "amin=Mat[NMS].min().min()\n",
    "amax=Mat[NMS].max().max()\n",
    "g=sns.clustermap(Mat[NMS].T,cmap=plt.cm.seismic,vmin=amin,vmax=amax,\n",
    "                figsize=(10,20), annot_kws={\"size\":8}, center=0,\n",
    "                annot=True, linewidths=1,linecolor='k',)\n",
    "g.ax_col_dendrogram.set_title('T1 All MRK Based (CD45-)') \n",
    "plt.savefig('Plots/T1_All_CD45Neg.png')"
   ]
  },
  {
   "cell_type": "code",
   "execution_count": null,
   "metadata": {},
   "outputs": [],
   "source": []
  },
  {
   "cell_type": "code",
   "execution_count": null,
   "metadata": {},
   "outputs": [],
   "source": []
  },
  {
   "cell_type": "code",
   "execution_count": null,
   "metadata": {},
   "outputs": [],
   "source": []
  },
  {
   "cell_type": "code",
   "execution_count": null,
   "metadata": {},
   "outputs": [],
   "source": []
  },
  {
   "cell_type": "code",
   "execution_count": null,
   "metadata": {},
   "outputs": [],
   "source": []
  },
  {
   "cell_type": "code",
   "execution_count": null,
   "metadata": {},
   "outputs": [],
   "source": []
  },
  {
   "cell_type": "code",
   "execution_count": null,
   "metadata": {},
   "outputs": [],
   "source": []
  },
  {
   "cell_type": "code",
   "execution_count": null,
   "metadata": {},
   "outputs": [],
   "source": []
  },
  {
   "cell_type": "code",
   "execution_count": null,
   "metadata": {},
   "outputs": [],
   "source": []
  },
  {
   "cell_type": "code",
   "execution_count": null,
   "metadata": {},
   "outputs": [],
   "source": []
  },
  {
   "cell_type": "code",
   "execution_count": null,
   "metadata": {},
   "outputs": [],
   "source": []
  },
  {
   "cell_type": "code",
   "execution_count": null,
   "metadata": {
    "tags": []
   },
   "outputs": [],
   "source": []
  },
  {
   "cell_type": "code",
   "execution_count": null,
   "metadata": {},
   "outputs": [],
   "source": []
  },
  {
   "cell_type": "code",
   "execution_count": null,
   "metadata": {},
   "outputs": [],
   "source": []
  },
  {
   "cell_type": "code",
   "execution_count": null,
   "metadata": {},
   "outputs": [],
   "source": []
  },
  {
   "cell_type": "code",
   "execution_count": null,
   "metadata": {},
   "outputs": [],
   "source": []
  },
  {
   "cell_type": "code",
   "execution_count": null,
   "metadata": {},
   "outputs": [],
   "source": []
  },
  {
   "cell_type": "markdown",
   "metadata": {
    "jp-MarkdownHeadingCollapsed": true,
    "tags": []
   },
   "source": [
    "# UMAP Tumor 2"
   ]
  },
  {
   "cell_type": "code",
   "execution_count": null,
   "metadata": {},
   "outputs": [],
   "source": [
    "CAll=pd.concat([K2]).copy()\n",
    "X_2d=draw_umap(CAll[CellIden],cc=CAll['H4'],min_dist=0.001,n_neighbors=60,rstate=42)\n",
    "plt.show()"
   ]
  },
  {
   "cell_type": "code",
   "execution_count": null,
   "metadata": {
    "tags": []
   },
   "outputs": [],
   "source": [
    "for NN in ['CD45']:\n",
    "    Var=NN\n",
    "    TSNEVar=NN\n",
    "    cc=CAllB[NN]#[mask]\n",
    "    plt.figure(figsize=(6, 5))\n",
    "    plt.scatter(X_2dB[:,0],X_2dB[:,1],s=2,\n",
    "                c=cc, cmap=plt.cm.seismic)\n",
    "\n",
    "    plt.colorbar()\n",
    "\n",
    "    plt.clim(cc.quantile(0.01),cc.quantile(0.99))\n",
    "    plt.title(\"Tumor 2 \"+TSNEVar)\n",
    "#    plt.savefig('Plots/Tumor2_'+NN+'.png',dpi=200,bbox_inches='tight')\n",
    "\n",
    "    plt.show()"
   ]
  },
  {
   "cell_type": "code",
   "execution_count": null,
   "metadata": {},
   "outputs": [],
   "source": [
    "CAll.reset_index(inplace=True)"
   ]
  },
  {
   "cell_type": "code",
   "execution_count": null,
   "metadata": {},
   "outputs": [],
   "source": [
    "X_2dB=X_2d.copy()\n",
    "CAllB=CAll.copy()"
   ]
  },
  {
   "cell_type": "code",
   "execution_count": null,
   "metadata": {},
   "outputs": [],
   "source": [
    "X_2d=X_2dB.copy()\n",
    "CAll=CAllB.copy()"
   ]
  },
  {
   "cell_type": "code",
   "execution_count": null,
   "metadata": {},
   "outputs": [],
   "source": [
    "idx=np.random.choice(CAll.index,replace=False,size=10000)\n",
    "\n",
    "plt.scatter(X_2d[idx,0],X_2d[idx,1])\n",
    "X_2d=X_2d[idx]\n",
    "CAll=CAll.iloc[idx]"
   ]
  },
  {
   "cell_type": "code",
   "execution_count": null,
   "metadata": {},
   "outputs": [],
   "source": [
    "for NN in CellIden:\n",
    "    Var=NN\n",
    "    TSNEVar=NN\n",
    "    cc=CAll[NN]#[mask]\n",
    "    plt.figure(figsize=(6, 5))\n",
    "    plt.scatter(X_2d[:,0],X_2d[:,1],s=2,\n",
    "                c=cc, cmap=plt.cm.seismic)\n",
    "\n",
    "    plt.colorbar()\n",
    "\n",
    "    plt.clim(cc.quantile(0.01),cc.quantile(0.99))\n",
    "    plt.title(\"Tumor 2 \"+TSNEVar)\n",
    "#    plt.savefig('Plots/Tumor2_'+NN+'.png',dpi=200,bbox_inches='tight')\n",
    "\n",
    "    plt.show()"
   ]
  },
  {
   "cell_type": "code",
   "execution_count": null,
   "metadata": {},
   "outputs": [],
   "source": [
    "labels=dbscan_plot(X_2d,eps=0.11,min_samples=100)"
   ]
  },
  {
   "cell_type": "code",
   "execution_count": null,
   "metadata": {},
   "outputs": [],
   "source": [
    "m=labels!=-1\n",
    "import scanpy as sc\n",
    "import anndata"
   ]
  },
  {
   "cell_type": "code",
   "execution_count": null,
   "metadata": {},
   "outputs": [],
   "source": [
    "K2AN=anndata.AnnData(CAll[m][CellIden],dtype=np.float32)"
   ]
  },
  {
   "cell_type": "code",
   "execution_count": null,
   "metadata": {},
   "outputs": [],
   "source": [
    "sc.pp.neighbors(K2AN)\n",
    "sc.tl.umap(K2AN)\n",
    "K2AN.obsm['X_umap']=X_2d[m]"
   ]
  },
  {
   "cell_type": "code",
   "execution_count": null,
   "metadata": {},
   "outputs": [],
   "source": [
    "CAll['Clust']=labels"
   ]
  },
  {
   "cell_type": "code",
   "execution_count": null,
   "metadata": {},
   "outputs": [],
   "source": [
    "K2AN.obs['clust']=CAll[m].Clust.astype('category').values"
   ]
  },
  {
   "cell_type": "code",
   "execution_count": null,
   "metadata": {},
   "outputs": [],
   "source": [
    "from matplotlib.pyplot import rc_context\n",
    "\n",
    "with rc_context({'figure.figsize': (5, 5)}):\n",
    "    sc.pl.umap(K2AN, color='clust', add_outline=True, legend_loc='on data',\n",
    "               legend_fontsize=12, legend_fontoutline=2,frameon=True,\n",
    "               title='Clusters Tumor 2', palette=['r','orange','yellow','g','b','indigo','magenta'],show=False)\n",
    "plt.savefig(\"Plots/Clust_T2.png\")"
   ]
  },
  {
   "cell_type": "code",
   "execution_count": null,
   "metadata": {},
   "outputs": [],
   "source": [
    "Mat=CAll[CAll.Clust!=-1].groupby(by='Clust').mean()[NamesAll]\n",
    "amin=Mat[CellIden].min().min()\n",
    "amax=Mat[CellIden].max().max()\n",
    "g=sns.clustermap(Mat[CellIden].T,cmap=plt.cm.seismic,vmin=amin,vmax=amax,\n",
    "                figsize=(10,10), annot_kws={\"size\":8}, center=0,\n",
    "                annot=True, linewidths=1,linecolor='k',)\n",
    "plt.savefig('Plots/T2.png')"
   ]
  },
  {
   "cell_type": "code",
   "execution_count": null,
   "metadata": {},
   "outputs": [],
   "source": []
  },
  {
   "cell_type": "code",
   "execution_count": null,
   "metadata": {},
   "outputs": [],
   "source": [
    "sns.kdeplot(K1.CD45)\n",
    "sns.kdeplot(K2.CD45)"
   ]
  },
  {
   "cell_type": "code",
   "execution_count": null,
   "metadata": {},
   "outputs": [],
   "source": []
  },
  {
   "cell_type": "code",
   "execution_count": null,
   "metadata": {},
   "outputs": [],
   "source": []
  },
  {
   "cell_type": "code",
   "execution_count": null,
   "metadata": {},
   "outputs": [],
   "source": []
  },
  {
   "cell_type": "code",
   "execution_count": null,
   "metadata": {},
   "outputs": [],
   "source": []
  },
  {
   "cell_type": "code",
   "execution_count": null,
   "metadata": {
    "tags": []
   },
   "outputs": [],
   "source": []
  },
  {
   "cell_type": "code",
   "execution_count": null,
   "metadata": {},
   "outputs": [],
   "source": []
  },
  {
   "cell_type": "markdown",
   "metadata": {
    "jp-MarkdownHeadingCollapsed": true,
    "tags": []
   },
   "source": [
    "# Bins Plot"
   ]
  },
  {
   "cell_type": "code",
   "execution_count": null,
   "metadata": {},
   "outputs": [],
   "source": [
    "from sklearn.preprocessing import KBinsDiscretizer"
   ]
  },
  {
   "cell_type": "code",
   "execution_count": null,
   "metadata": {},
   "outputs": [],
   "source": [
    "C05.shape[1]*[20]"
   ]
  },
  {
   "cell_type": "code",
   "execution_count": null,
   "metadata": {},
   "outputs": [],
   "source": [
    "NamesAll"
   ]
  },
  {
   "cell_type": "code",
   "execution_count": null,
   "metadata": {},
   "outputs": [],
   "source": [
    "MRK=NamesAll.copy()\n",
    "MRK.remove('BCL6')\n",
    "MRK.remove('H3')\n",
    "MRK.remove('H3.3')\n",
    "MRK.remove('H4')\n",
    "MRK.remove('Iridium')\n",
    "KS=KBinsDiscretizer(n_bins=np.asarray([20]*C05.shape[1]),encode='ordinal',strategy='uniform')\n",
    "C05_Binned=pd.DataFrame(KS.fit_transform(C05[NamesAll]).copy(),columns=C05.columns)\n",
    "DF1=C05_Binned.groupby('BCL6').mean()\n",
    "#EPC.remove('BCL6')\n",
    "plt.figure()\n",
    "for N in MRK:\n",
    "    plt.plot(DF1.index,DF1[N],label=N,lw=3)\n",
    "    plt.scatter(DF1.index,DF1[N],s=15)\n",
    "plt.legend(bbox_to_anchor=(1.05, 1), loc='upper left', borderaxespad=0)\n",
    "plt.xlabel('Binned BCL6')\n",
    "plt.ylabel('Binned Marker')\n",
    "plt.title('C05')\n",
    "plt.savefig('Plots/C05_Strip.png',dpi=200,bbox_inches='tight')"
   ]
  },
  {
   "cell_type": "code",
   "execution_count": null,
   "metadata": {},
   "outputs": [],
   "source": [
    "KS=KBinsDiscretizer(n_bins=np.asarray([20]*C06.shape[1]),encode='ordinal',strategy='uniform')\n",
    "C06_Binned=pd.DataFrame(KS.fit_transform(C06[NamesAll]).copy(),columns=C06.columns)\n",
    "DF1=C06_Binned.groupby('BCL6').mean()\n",
    "#EPC.remove('BCL6')\n",
    "plt.figure()\n",
    "for N in MRK:\n",
    "    plt.plot(DF1.index,DF1[N],label=N,lw=3)\n",
    "    plt.scatter(DF1.index,DF1[N],s=15)\n",
    "plt.legend(bbox_to_anchor=(1.05, 1), loc='upper left', borderaxespad=0)\n",
    "plt.xlabel('Binned BCL6')\n",
    "plt.ylabel('Binned Marker')\n",
    "plt.title('C06')\n",
    "plt.savefig('Plots/C06_Strip.png',dpi=200,bbox_inches='tight')"
   ]
  },
  {
   "cell_type": "code",
   "execution_count": null,
   "metadata": {},
   "outputs": [],
   "source": [
    "KS=KBinsDiscretizer(n_bins=np.asarray([20]*C07.shape[1]),encode='ordinal',strategy='uniform')\n",
    "C07_Binned=pd.DataFrame(KS.fit_transform(C07[NamesAll]).copy(),columns=C07.columns)\n",
    "DF1=C07_Binned.groupby('BCL6').mean()\n",
    "#EPC.remove('BCL6')\n",
    "plt.figure()\n",
    "for N in MRK:\n",
    "    plt.plot(DF1.index,DF1[N],label=N,lw=3)\n",
    "    plt.scatter(DF1.index,DF1[N],s=15)\n",
    "plt.legend(bbox_to_anchor=(1.05, 1), loc='upper left', borderaxespad=0)\n",
    "plt.xlabel('Binned BCL6')\n",
    "plt.ylabel('Binned Marker')\n",
    "plt.title('C07')\n",
    "plt.savefig('Plots/C07_Strip.png',dpi=200,bbox_inches='tight')"
   ]
  },
  {
   "cell_type": "code",
   "execution_count": null,
   "metadata": {},
   "outputs": [],
   "source": [
    "KS=KBinsDiscretizer(n_bins=np.asarray([20]*C08.shape[1]),encode='ordinal',strategy='uniform')\n",
    "C08_Binned=pd.DataFrame(KS.fit_transform(C08[NamesAll]).copy(),columns=C08.columns)\n",
    "DF1=C08_Binned.groupby('BCL6').mean()\n",
    "#EPC.remove('BCL6')\n",
    "plt.figure()\n",
    "for N in MRK:\n",
    "    plt.plot(DF1.index,DF1[N],label=N,lw=3)\n",
    "    plt.scatter(DF1.index,DF1[N],s=15)\n",
    "plt.legend(bbox_to_anchor=(1.05, 1), loc='upper left', borderaxespad=0)\n",
    "plt.xlabel('Binned BCL6')\n",
    "plt.ylabel('Binned Marker')\n",
    "plt.title('C08')\n",
    "plt.savefig('Plots/C08_Strip.png',dpi=200,bbox_inches='tight')"
   ]
  },
  {
   "cell_type": "code",
   "execution_count": null,
   "metadata": {},
   "outputs": [],
   "source": [
    "KS=KBinsDiscretizer(n_bins=np.asarray([20]*C09.shape[1]),encode='ordinal',strategy='uniform')\n",
    "C09_Binned=pd.DataFrame(KS.fit_transform(C09[NamesAll]).copy(),columns=C09.columns)\n",
    "DF1=C09_Binned.groupby('BCL6').mean()\n",
    "#EPC.remove('BCL6')\n",
    "plt.figure()\n",
    "for N in MRK:\n",
    "    plt.plot(DF1.index,DF1[N],label=N,lw=3)\n",
    "    plt.scatter(DF1.index,DF1[N],s=15)\n",
    "plt.legend(bbox_to_anchor=(1.05, 1), loc='upper left', borderaxespad=0)\n",
    "plt.xlabel('Binned BCL6')\n",
    "plt.ylabel('Binned Marker')\n",
    "plt.title('C09')\n",
    "plt.savefig('Plots/C09_Strip.png',dpi=200,bbox_inches='tight')"
   ]
  },
  {
   "cell_type": "code",
   "execution_count": null,
   "metadata": {},
   "outputs": [],
   "source": [
    "KS=KBinsDiscretizer(n_bins=np.asarray([20]*C10.shape[1]),encode='ordinal',strategy='uniform')\n",
    "C10_Binned=pd.DataFrame(KS.fit_transform(C10[NamesAll]).copy(),columns=C10.columns)\n",
    "DF1=C10_Binned.groupby('BCL6').mean()\n",
    "#EPC.remove('BCL6')\n",
    "plt.figure()\n",
    "for N in MRK:\n",
    "    plt.plot(DF1.index,DF1[N],label=N,lw=3)\n",
    "    plt.scatter(DF1.index,DF1[N],s=15)\n",
    "plt.legend(bbox_to_anchor=(1.05, 1), loc='upper left', borderaxespad=0)\n",
    "plt.xlabel('Binned BCL6')\n",
    "plt.ylabel('Binned Marker')\n",
    "plt.title('C10')\n",
    "plt.savefig('Plots/C10_Strip.png',dpi=200,bbox_inches='tight')"
   ]
  },
  {
   "cell_type": "code",
   "execution_count": null,
   "metadata": {},
   "outputs": [],
   "source": []
  },
  {
   "cell_type": "code",
   "execution_count": null,
   "metadata": {},
   "outputs": [],
   "source": []
  },
  {
   "cell_type": "code",
   "execution_count": null,
   "metadata": {},
   "outputs": [],
   "source": []
  },
  {
   "cell_type": "code",
   "execution_count": null,
   "metadata": {},
   "outputs": [],
   "source": [
    "aaa"
   ]
  },
  {
   "cell_type": "code",
   "execution_count": null,
   "metadata": {},
   "outputs": [],
   "source": []
  },
  {
   "cell_type": "markdown",
   "metadata": {
    "jp-MarkdownHeadingCollapsed": true,
    "tags": []
   },
   "source": [
    "# Rest"
   ]
  },
  {
   "cell_type": "code",
   "execution_count": null,
   "metadata": {},
   "outputs": [],
   "source": [
    "sns.kdeplot(C05.H3K27me3,c='r',label=Lines[0])\n",
    "sns.kdeplot(C06.H3K27me3,c='g',label=Lines[1])\n",
    "sns.kdeplot(C07.H3K27me3,c='b',label=Lines[2])\n",
    "sns.kdeplot(C08.H3K27me3,c='y',label=Lines[3])\n",
    "sns.kdeplot(C09.H3K27me3,c='magenta',label=Lines[4])\n",
    "sns.kdeplot(C10.H3K27me3,c='pink',label=Lines[5])\n",
    "plt.legend(bbox_to_anchor=(1.0, 1.0), loc='upper left')\n",
    "plt.xlim([-5,5])\n",
    "plt.savefig('Plots/KDE_H3K27me3.png',dpi=200,bbox_inches='tight')\n"
   ]
  },
  {
   "cell_type": "code",
   "execution_count": null,
   "metadata": {},
   "outputs": [],
   "source": [
    "# sns.kdeplot(C05.H3K27me3,c='r',label=Lines[0])\n",
    "# sns.kdeplot(C06.H3K27me3,c='g',label=Lines[1])\n",
    "# sns.kdeplot(C07.H3K27me3,c='b',label=Lines[2])\n",
    "sns.kdeplot(C08.H3K27me3,c='y',label=Lines[3])\n",
    "sns.kdeplot(C09.H3K27me3,c='magenta',label=Lines[4])\n",
    "sns.kdeplot(C10.H3K27me3,c='pink',label=Lines[5])\n",
    "plt.legend(bbox_to_anchor=(1.0, 1.0), loc='upper left')\n",
    "plt.xlim([-5,5])\n",
    "plt.savefig('Plots/KDE_H3K27me3_2.png',dpi=200,bbox_inches='tight')"
   ]
  },
  {
   "cell_type": "code",
   "execution_count": null,
   "metadata": {},
   "outputs": [],
   "source": [
    "sns.kdeplot(C05.H3K27me3,c='r',label=Lines[0])\n",
    "sns.kdeplot(C06.H3K27me3,c='g',label=Lines[1])\n",
    "sns.kdeplot(C07.H3K27me3,c='b',label=Lines[2])\n",
    "plt.legend(bbox_to_anchor=(1.0, 1.0), loc='upper left')\n",
    "plt.xlim([-5,5])\n",
    "plt.savefig('Plots/KDE_H3K27me3_3.png',dpi=200,bbox_inches='tight')"
   ]
  },
  {
   "cell_type": "markdown",
   "metadata": {},
   "source": [
    "# UMAP "
   ]
  },
  {
   "cell_type": "code",
   "execution_count": null,
   "metadata": {},
   "outputs": [],
   "source": [
    "C05=C05.assign(Line=Lines[0])\n",
    "C06=C06.assign(Line=Lines[1])\n",
    "C07=C07.assign(Line=Lines[2])\n",
    "C08=C08.assign(Line=Lines[3])\n",
    "C09=C09.assign(Line=Lines[4])\n",
    "C10=C10.assign(Line=Lines[5])"
   ]
  },
  {
   "cell_type": "code",
   "execution_count": null,
   "metadata": {},
   "outputs": [],
   "source": [
    "EPC=EpiCols.copy()\n",
    "EPC.remove('H3.3')\n",
    "EPC.remove('H3')\n",
    "EPC.remove('H4')\n",
    "CAll=pd.concat([C05.sample(n=20000,replace=True),\n",
    "                C08.sample(n=20000,replace=True)]).copy()"
   ]
  },
  {
   "cell_type": "code",
   "execution_count": null,
   "metadata": {},
   "outputs": [],
   "source": [
    "X_2d=draw_umap(CAll[EPC],cc=CAll['H4'],min_dist=0.001,n_neighbors=60,rstate=42)\n",
    "plt.show()"
   ]
  },
  {
   "cell_type": "code",
   "execution_count": null,
   "metadata": {},
   "outputs": [],
   "source": [
    "m=CAll.Line=='Ly7'\n",
    "plt.scatter(X_2d[m,0],X_2d[m,1],s=1,c='dodgerblue',label='Ly7')\n",
    "m=CAll.Line=='EZH2'\n",
    "plt.scatter(X_2d[m,0],X_2d[m,1],s=1,c='purple',label='EZH2')\n",
    "plt.legend(markerscale=10)\n",
    "plt.savefig('Plots/UMAP_Lines_EZH_Ly7.png',dpi=200,bbox_inches='tight')"
   ]
  },
  {
   "cell_type": "code",
   "execution_count": null,
   "metadata": {
    "tags": []
   },
   "outputs": [],
   "source": [
    "for NN in NamesAll:\n",
    "    Var=NN\n",
    "    TSNEVar=NN\n",
    "    cc=CAll[NN]#[mask]\n",
    "    plt.figure(figsize=(6, 5))\n",
    "    plt.scatter(X_2d[:,0],X_2d[:,1],s=2,\n",
    "                c=cc, cmap=plt.cm.seismic)\n",
    "\n",
    "    plt.colorbar()\n",
    "\n",
    "    plt.clim(cc.quantile(0.01),cc.quantile(0.99))\n",
    "    plt.title(\" \"+TSNEVar)\n",
    "    plt.savefig('Plots/Ly7_EZH2_'+NN+'.png',dpi=200,bbox_inches='tight')\n",
    "\n",
    "    plt.show()"
   ]
  },
  {
   "cell_type": "code",
   "execution_count": null,
   "metadata": {},
   "outputs": [],
   "source": [
    "EPC=EpiCols.copy()\n",
    "EPC.remove('H3.3')\n",
    "EPC.remove('H3')\n",
    "EPC.remove('H4')\n",
    "CAll=pd.concat([C05.sample(n=20000,replace=True),\n",
    "                C06.sample(n=20000,replace=True),\n",
    "                C07.sample(n=20000,replace=True),\n",
    "                C08.sample(n=20000,replace=True),\n",
    "                C09.sample(n=20000,replace=True),\n",
    "                C10.sample(n=20000,replace=True)]).copy()"
   ]
  },
  {
   "cell_type": "code",
   "execution_count": null,
   "metadata": {},
   "outputs": [],
   "source": [
    "X_2d=draw_umap(CAll[EPC],cc=CAll['H3K27Ac'],min_dist=0.001,n_neighbors=60,rstate=42)\n",
    "plt.show()"
   ]
  },
  {
   "cell_type": "code",
   "execution_count": null,
   "metadata": {},
   "outputs": [],
   "source": [
    "m=CAll.Line==Lines[0]\n",
    "plt.scatter(X_2d[m,0],X_2d[m,1],s=1,c='r',label=Lines[0])\n",
    "m=CAll.Line==Lines[1]\n",
    "plt.scatter(X_2d[m,0],X_2d[m,1],s=1,c='g',label=Lines[1])\n",
    "m=CAll.Line==Lines[2]\n",
    "plt.scatter(X_2d[m,0],X_2d[m,1],s=1,c='b',label=Lines[2])\n",
    "m=CAll.Line==Lines[3]\n",
    "plt.scatter(X_2d[m,0],X_2d[m,1],s=1,c='yellow',label=Lines[3])\n",
    "m=CAll.Line==Lines[4]\n",
    "plt.scatter(X_2d[m,0],X_2d[m,1],s=1,c='magenta',label=Lines[4])\n",
    "m=CAll.Line==Lines[5]\n",
    "plt.scatter(X_2d[m,0],X_2d[m,1],s=1,c='pink',label=Lines[5])\n",
    "plt.legend(markerscale=10)\n",
    "plt.savefig('Plots/UMAP_Lines.png',dpi=200,bbox_inches='tight')"
   ]
  },
  {
   "cell_type": "markdown",
   "metadata": {},
   "source": [
    "# Pride "
   ]
  },
  {
   "cell_type": "code",
   "execution_count": null,
   "metadata": {},
   "outputs": [],
   "source": [
    "CAll=pd.concat([C05,C06,C07,C08,C09,C10]).copy()"
   ]
  },
  {
   "cell_type": "code",
   "execution_count": null,
   "metadata": {},
   "outputs": [],
   "source": [
    "Names=NamesAll.copy()\n",
    "Names.remove('H3')\n",
    "Names.remove('H3.3')\n",
    "Names.remove('H4')\n",
    "# Names.remove('H3K64ac')\n",
    "# Names.remove('H4K16ac')\n",
    "\n",
    "sns.set_style({'legend.frameon':True})\n",
    "\n",
    "dd0=(C05[Names].median(axis=0)).sort_values(ascending=False)\n",
    "dd1=(C06[Names].median(axis=0)).sort_values(ascending=False)\n",
    "dd2=(C07[Names].median(axis=0)).sort_values(ascending=False)\n",
    "dd3=(C08[Names].median(axis=0)).sort_values(ascending=False)\n",
    "dd4=(C09[Names].median(axis=0)).sort_values(ascending=False)\n",
    "dd5=(C10[Names].median(axis=0)).sort_values(ascending=False)\n",
    "\n",
    "    \n",
    "fig, ax = plt.subplots(figsize=(16,10), dpi= 80)\n",
    "ax.hlines(y=dd0.index, xmin=-5, xmax=5, color='gray', alpha=0.7, \n",
    "          linewidth=1, linestyles='dashdot')\n",
    "\n",
    "ax.scatter(y=dd0.index, x=dd0, s=100, c='red', alpha=0.7,\n",
    "           label=Lines[0])\n",
    "ax.scatter(y=dd1.index, x=dd1, s=100, c='g', alpha=0.7,\n",
    "           label=Lines[1])\n",
    "ax.scatter(y=dd2.index, x=dd2, s=100, c='b', alpha=0.7,\n",
    "           label=Lines[2])\n",
    "\n",
    "ax.scatter(y=dd3.index, x=dd3, s=100, c='yellow', alpha=0.7,\n",
    "           label=Lines[3])\n",
    "\n",
    "ax.scatter(y=dd4.index, x=dd4, s=100, c='magenta', alpha=0.7,\n",
    "           label=Lines[4])\n",
    "\n",
    "ax.scatter(y=dd5.index, x=dd5, s=100, c='pink', alpha=0.7,\n",
    "           label=Lines[5])\n",
    "\n",
    "ax.vlines(x=0, ymin=0, ymax=len(dd0)-1, color='black', alpha=0.7, linewidth=2, linestyles='dotted')\n",
    "plt.legend(fontsize=30,\n",
    "           facecolor='White', framealpha=1,frameon=True,\n",
    "           bbox_to_anchor=(1.0, .50, 0.3, 0.2), loc='upper left')\n",
    "\n",
    "ax.set_title('Median Value', fontdict={'size':30})\n",
    "#ax.set_xlim(-1.5, 1.5)\n",
    "\n",
    "labels = dd0.index.to_list()\n",
    "#labels[8]=\"H3-K27M\"\n",
    "ax.set_yticklabels(labels)\n",
    "ax.set_xlim([-2.5,2.5])\n",
    "plt.setp(ax.get_xticklabels(), fontsize=24)\n",
    "plt.setp(ax.get_yticklabels(), fontsize=24)\n",
    "\n",
    "plt.savefig('Plots/All_Pride.png',dpi=200,bbox_inches='tight')\n",
    "plt.show()"
   ]
  },
  {
   "cell_type": "markdown",
   "metadata": {},
   "source": [
    "# Just Ly7/EZH2/Ly7-EZH2i/EZH2-EZH2i"
   ]
  },
  {
   "cell_type": "code",
   "execution_count": null,
   "metadata": {
    "tags": []
   },
   "outputs": [],
   "source": [
    "dir=\"/Users/ronguy/Dropbox/Lymphoma CyTOF/CyTOF4/\"\n",
    "C05=pd.read_csv(dir+\"c05_Ly7.csv\")\n",
    "C06=pd.read_csv(dir+\"c06_Ly7_EZH2i.csv\")\n",
    "C07=pd.read_csv(dir+\"c07_Ly7_GSKJ4.csv\")\n",
    "C08=pd.read_csv(dir+\"c08_EZH2.csv\")\n",
    "C09=pd.read_csv(dir+\"c09_EZH2_EZH2i.csv\")\n",
    "C10=pd.read_csv(dir+\"c10_EZH2_GSKJ4.csv\")\n",
    "\n",
    "params = {'axes.titlesize': 30,\n",
    "          'legend.fontsize': 20,\n",
    "          'figure.figsize': (6, 5),\n",
    "          'axes.labelsize': 20,\n",
    "          'axes.titlesize': 20,\n",
    "          'xtick.labelsize': 20,\n",
    "          'ytick.labelsize': 20,\n",
    "          'figure.titlesize': 30}\n",
    "plt.rcParams.update(params)\n",
    "plt.style.use('seaborn-whitegrid')\n",
    "sns.set_style(\"white\")\n",
    "\n",
    "C05=C05[NamesAll]\n",
    "C06=C06[NamesAll]\n",
    "C07=C07[NamesAll]\n",
    "C08=C08[NamesAll]\n",
    "C09=C09[NamesAll]\n",
    "C10=C10[NamesAll]\n",
    "\n"
   ]
  },
  {
   "cell_type": "code",
   "execution_count": null,
   "metadata": {},
   "outputs": [],
   "source": [
    "sns.kdeplot(C05['H4'],c='r')\n",
    "sns.kdeplot(C05['H3'],c='g')\n",
    "sns.kdeplot(C05['H3.3'],c='b')\n"
   ]
  },
  {
   "cell_type": "markdown",
   "metadata": {
    "tags": []
   },
   "source": [
    "# Gate on H3.3/H4 too low, but also remove outliers 99.99% from all "
   ]
  },
  {
   "cell_type": "code",
   "execution_count": null,
   "metadata": {},
   "outputs": [],
   "source": [
    "GateColumns=['H3.3','H4','H3']#,'H3']#,'H3']\n",
    "# #Ly7\n",
    "# print(\"C01 Ly7\")\n",
    "# print(len(C01),len(C01))\n",
    "# C01=C01[(C01[GateColumns]>5).all(axis=1)]\n",
    "# print(len(C01),len(C01))\n",
    "# C01=C01[(C01<np.quantile(C01,0.9999,axis=0)).all(axis=1)]\n",
    "# print(len(C01),len(C01))\n",
    "\n",
    "# #EZH2\n",
    "# print(\"C03 EZH2\")\n",
    "# print(len(C03))\n",
    "# C03=C03[(C03[GateColumns]>5).all(axis=1)]\n",
    "# print(len(C03))\n",
    "# C03=C03[(C03<np.quantile(C03,0.9999,axis=0)).all(axis=1)]\n",
    "# print(len(C03))\n",
    "\n",
    "\n",
    "def Gate(data,name):\n",
    "    ddf=data.copy()\n",
    "    print(name)\n",
    "    print(\"Initial \",len(ddf))\n",
    "    ddf=ddf[(ddf[GateColumns]>5).all(axis=1)]\n",
    "    print(\"Core Gate \",len(ddf))\n",
    "    ddf=ddf[(ddf<np.quantile(ddf,0.9999,axis=0)).all(axis=1)]\n",
    "    print(\"Outlier Gate \",len(ddf))\n",
    "    data=ddf.copy()\n",
    "    del ddf\n",
    "    return data\n",
    "\n",
    "\n",
    "C05=Gate(C05,\"5\")\n",
    "C06=Gate(C06,\"\")\n",
    "C07=Gate(C07,\"\")\n",
    "C08=Gate(C08,\"\")\n",
    "C09=Gate(C09,\"\")\n",
    "C10=Gate(C10,\"\")"
   ]
  },
  {
   "cell_type": "code",
   "execution_count": null,
   "metadata": {},
   "outputs": [],
   "source": [
    "\n",
    "scFac=5\n",
    "C05=np.arcsinh(C05/scFac)\n",
    "C06=np.arcsinh(C06/scFac)\n",
    "C07=np.arcsinh(C07/scFac)\n",
    "C08=np.arcsinh(C08/scFac)\n",
    "C09=np.arcsinh(C09/scFac)\n",
    "C10=np.arcsinh(C10/scFac)"
   ]
  },
  {
   "cell_type": "code",
   "execution_count": null,
   "metadata": {},
   "outputs": [],
   "source": [
    "EpiCols.append('BCL6')\n",
    "\n",
    "\n",
    "print(\"C05\")\n",
    "print(C05.std()['H3.3']+C05.std()['H4']+C05.std()['H3'])\n",
    "C05=NormalizeNew(C05)\n",
    "print(C05.std()['H3.3']+C05.std()['H4']+C05.std()['H3'])\n",
    "\n",
    "print(\"C06\")\n",
    "print(C06.std()['H3.3']+C06.std()['H4']+C06.std()['H3'])\n",
    "C06=NormalizeNew(C06)\n",
    "print(C06.std()['H3.3']+C06.std()['H4']+C06.std()['H3'])\n",
    "\n",
    "print(\"C07\")\n",
    "print(C07.std()['H3.3']+C07.std()['H4']+C07.std()['H3'])\n",
    "C07=NormalizeNew(C07)\n",
    "print(C07.std()['H3.3']+C07.std()['H4']+C07.std()['H3'])\n",
    "\n",
    "print(\"C08\")\n",
    "print(C08.std()['H3.3']+C08.std()['H4']+C08.std()['H3'])\n",
    "C08=NormalizeNew(C08)\n",
    "print(C08.std()['H3.3']+C08.std()['H4']+C08.std()['H3'])\n",
    "\n",
    "print(\"C09\")\n",
    "print(C09.std()['H3.3']+C09.std()['H4']+C09.std()['H3'])\n",
    "C09=NormalizeNew(C09)\n",
    "print(C09.std()['H3.3']+C09.std()['H4']+C09.std()['H3'])\n",
    "\n",
    "print(\"C05\")\n",
    "print(C05.std()['H3.3']+C05.std()['H4']+C05.std()['H3'])\n",
    "C05=NormalizeNew(C05)\n",
    "print(C05.std()['H3.3']+C05.std()['H4']+C05.std()['H3'])\n",
    "\n",
    "print(\"C10\")\n",
    "print(C10.std()['H3.3']+C10.std()['H4']+C10.std()['H3'])\n",
    "C10=NormalizeNew(C10)\n",
    "print(C10.std()['H3.3']+C10.std()['H4']+C10.std()['H3'])\n",
    "\n",
    "\n",
    "EpiCols.remove('BCL6')\n"
   ]
  },
  {
   "cell_type": "code",
   "execution_count": null,
   "metadata": {},
   "outputs": [],
   "source": [
    "aaaa=pd.concat([C05.sample(n=20000,replace=False),\n",
    "                C06.sample(n=20000,replace=False),\n",
    "#                C07.sample(n=20000,replace=False),\n",
    "                C08.sample(n=20000,replace=False),\n",
    "                C09.sample(n=20000,replace=False),\n",
    "#                C10.sample(n=20000,replace=False)]\n",
    "               ]).copy()#C01.append(C02).append(C03).append(C04).append(C05).append(C06).copy()\n",
    "m=np.mean(aaaa)\n",
    "s=np.std(aaaa)\n",
    "\n",
    "C05=(C05-m)/s\n",
    "C06=(C06-m)/s\n",
    "C07=(C07-m)/s\n",
    "C08=(C08-m)/s\n",
    "C09=(C09-m)/s\n",
    "C10=(C10-m)/s\n",
    "\n",
    "\n",
    "\n",
    "\n",
    "print(aaaa.std())\n",
    "\n",
    "params = {'axes.titlesize': 30,\n",
    "          'legend.fontsize': 20,\n",
    "          'figure.figsize': (6, 5),\n",
    "          'axes.labelsize': 20,\n",
    "          'axes.titlesize': 20,\n",
    "          'xtick.labelsize': 20,\n",
    "          'ytick.labelsize': 20,\n",
    "          'figure.titlesize': 30}\n",
    "plt.rcParams.update(params)\n",
    "plt.style.use('seaborn-whitegrid')\n",
    "sns.set_style(\"white\")"
   ]
  },
  {
   "cell_type": "code",
   "execution_count": null,
   "metadata": {},
   "outputs": [],
   "source": [
    "Lines=['Ly7','Ly7-EZH2i','Ly7-GSKJ4','EZH2','EZH2-EZH2i','EZH2-GSKJ4']"
   ]
  },
  {
   "cell_type": "code",
   "execution_count": null,
   "metadata": {},
   "outputs": [],
   "source": [
    "C05=C05.assign(Line=Lines[0])\n",
    "C06=C06.assign(Line=Lines[1])\n",
    "C07=C07.assign(Line=Lines[2])\n",
    "C08=C08.assign(Line=Lines[3])\n",
    "C09=C09.assign(Line=Lines[4])\n",
    "C10=C10.assign(Line=Lines[5])"
   ]
  },
  {
   "cell_type": "code",
   "execution_count": null,
   "metadata": {},
   "outputs": [],
   "source": [
    "EPC=EpiCols.copy()\n",
    "EPC.remove('H3.3')\n",
    "EPC.remove('H3')\n",
    "EPC.remove('H4')\n",
    "CAll=pd.concat([C05.sample(n=20000,replace=True),\n",
    "                C06.sample(n=20000,replace=True),\n",
    "                C08.sample(n=20000,replace=True),\n",
    "                C09.sample(n=20000,replace=True),\n",
    "               ]).copy()"
   ]
  },
  {
   "cell_type": "code",
   "execution_count": null,
   "metadata": {},
   "outputs": [],
   "source": [
    "X_2d=draw_umap(CAll[EPC],cc=CAll['H3K27Ac'],min_dist=0.001,n_neighbors=60,rstate=42)\n",
    "plt.show()"
   ]
  },
  {
   "cell_type": "code",
   "execution_count": null,
   "metadata": {},
   "outputs": [],
   "source": [
    "m=CAll.Line==Lines[0]\n",
    "plt.scatter(X_2d[m,0],X_2d[m,1],s=1,c='r',label=Lines[0])\n",
    "m=CAll.Line==Lines[1]\n",
    "plt.scatter(X_2d[m,0],X_2d[m,1],s=1,c='g',label=Lines[1])\n",
    "m=CAll.Line==Lines[2]\n",
    "#plt.scatter(X_2d[m,0],X_2d[m,1],s=1,c='b',label=Lines[2])\n",
    "m=CAll.Line==Lines[3]\n",
    "plt.scatter(X_2d[m,0],X_2d[m,1],s=1,c='yellow',label=Lines[3])\n",
    "m=CAll.Line==Lines[4]\n",
    "plt.scatter(X_2d[m,0],X_2d[m,1],s=1,c='magenta',label=Lines[4])\n",
    "m=CAll.Line==Lines[5]\n",
    "#plt.scatter(X_2d[m,0],X_2d[m,1],s=1,c='pink',label=Lines[5])\n",
    "plt.legend(markerscale=10)\n",
    "plt.savefig('Plots/UMAP_Lines_2.png',dpi=200,bbox_inches='tight')"
   ]
  },
  {
   "cell_type": "code",
   "execution_count": null,
   "metadata": {},
   "outputs": [],
   "source": [
    "m1=(X_2d[:,0]<5) & (X_2d[:,1]>0) & (X_2d[:,1]<10)"
   ]
  },
  {
   "cell_type": "code",
   "execution_count": null,
   "metadata": {},
   "outputs": [],
   "source": [
    "(m1 & (CAll.Line=='Ly7')).sum()"
   ]
  },
  {
   "cell_type": "code",
   "execution_count": null,
   "metadata": {},
   "outputs": [],
   "source": [
    "CAll[m1].groupby(by='Line').count()/m1.sum()"
   ]
  },
  {
   "cell_type": "code",
   "execution_count": null,
   "metadata": {},
   "outputs": [],
   "source": [
    "for NN in NamesAll:\n",
    "    Var=NN\n",
    "    TSNEVar=NN\n",
    "    cc=CAll[NN]#[mask]\n",
    "    plt.figure(figsize=(6, 5))\n",
    "    plt.scatter(X_2d[:,0],X_2d[:,1],s=2,\n",
    "                c=cc, cmap=plt.cm.seismic)\n",
    "\n",
    "    plt.colorbar()\n",
    "\n",
    "    plt.clim(cc.quantile(0.01),cc.quantile(0.99))\n",
    "    plt.title(\" \"+TSNEVar)\n",
    "    plt.savefig('Plots/Ly7_EZH2_andInhibitors'+NN+'.png',dpi=200,bbox_inches='tight')\n",
    "\n",
    "    plt.show()"
   ]
  },
  {
   "cell_type": "code",
   "execution_count": null,
   "metadata": {},
   "outputs": [],
   "source": [
    "BiggerEffect=(~m1 & (CAll.Line=='Ly7-EZH2i'))\n",
    "SmallerEffect=(m1 & (CAll.Line=='Ly7-EZH2i'))"
   ]
  },
  {
   "cell_type": "code",
   "execution_count": null,
   "metadata": {},
   "outputs": [],
   "source": [
    "MRK=NamesAll.copy()\n",
    "MRK.remove('H3')\n",
    "MRK.remove('H3.3')\n",
    "MRK.remove('H4')\n",
    "\n",
    "\n",
    "MeanDist(CAll[SmallerEffect],CAll[BiggerEffect],MRK,\n",
    "         title='Ly7 Inhibitor Large Effect - Small Effect',clr=['dodgerblue','orchid'])\n",
    "plt.savefig('Plots/Ly7-EZH2i_2Groups.png',dpi=200,bbox_inches='tight')\n"
   ]
  },
  {
   "cell_type": "code",
   "execution_count": null,
   "metadata": {},
   "outputs": [],
   "source": [
    "MeanDist(C05,CAll[SmallerEffect],MRK,\n",
    "         title='Ly7 Inhibitor Small Effect - Ly7',clr=['dodgerblue','orchid'])\n",
    "plt.savefig('Plots/Ly7-EZH2i-Small-Ly7.png',dpi=200,bbox_inches='tight')\n"
   ]
  },
  {
   "cell_type": "code",
   "execution_count": null,
   "metadata": {},
   "outputs": [],
   "source": []
  },
  {
   "cell_type": "code",
   "execution_count": null,
   "metadata": {},
   "outputs": [],
   "source": []
  },
  {
   "cell_type": "code",
   "execution_count": null,
   "metadata": {},
   "outputs": [],
   "source": []
  },
  {
   "cell_type": "code",
   "execution_count": null,
   "metadata": {},
   "outputs": [],
   "source": []
  },
  {
   "cell_type": "code",
   "execution_count": null,
   "metadata": {},
   "outputs": [],
   "source": []
  },
  {
   "cell_type": "code",
   "execution_count": null,
   "metadata": {},
   "outputs": [],
   "source": []
  },
  {
   "cell_type": "code",
   "execution_count": null,
   "metadata": {},
   "outputs": [],
   "source": []
  },
  {
   "cell_type": "code",
   "execution_count": null,
   "metadata": {},
   "outputs": [],
   "source": [
    "MRK=NamesAll.copy()\n",
    "MRK.remove('H3')\n",
    "MRK.remove('H3.3')\n",
    "MRK.remove('H4')\n",
    "\n",
    "\n",
    "MeanDist(C01,C02,MRK,title='KMT2D - Ly7',clr=['dodgerblue','orchid'])\n",
    "plt.savefig('Plots/Ly7_KMT2D.png',dpi=200,bbox_inches='tight')\n",
    "\n",
    "MeanDist(C01,C03,MRK,title='EZH2 - Ly7',clr=['dodgerblue','orchid'])\n",
    "plt.savefig('Plots/Ly7_EZH2.png',dpi=200,bbox_inches='tight')\n",
    "\n",
    "MeanDist(C01,C04,MRK,title='CREBBP - Ly7',clr=['dodgerblue','orchid'])\n",
    "plt.savefig('Plots/Ly7_CREBBP.png',dpi=200,bbox_inches='tight')\n",
    "\n",
    "MeanDist(C01,C05,MRK,title='KMT2D/EZH2 - Ly7',clr=['dodgerblue','orchid'])\n",
    "plt.savefig('Plots/Ly7_KMT2D+EZH2.png',dpi=200,bbox_inches='tight')\n",
    "\n",
    "MeanDist(C01,C06,MRK,title='KMT2D/CREBBP - Ly7',clr=['dodgerblue','orchid'])\n",
    "plt.savefig('Plots/Ly7_KMT2D+CREBBP.png',dpi=200,bbox_inches='tight')\n"
   ]
  },
  {
   "cell_type": "code",
   "execution_count": null,
   "metadata": {},
   "outputs": [],
   "source": []
  },
  {
   "cell_type": "code",
   "execution_count": null,
   "metadata": {},
   "outputs": [],
   "source": []
  },
  {
   "cell_type": "code",
   "execution_count": null,
   "metadata": {},
   "outputs": [],
   "source": []
  },
  {
   "cell_type": "code",
   "execution_count": null,
   "metadata": {},
   "outputs": [],
   "source": []
  },
  {
   "cell_type": "code",
   "execution_count": null,
   "metadata": {},
   "outputs": [],
   "source": []
  },
  {
   "cell_type": "code",
   "execution_count": null,
   "metadata": {},
   "outputs": [],
   "source": []
  },
  {
   "cell_type": "code",
   "execution_count": null,
   "metadata": {},
   "outputs": [],
   "source": []
  },
  {
   "cell_type": "code",
   "execution_count": null,
   "metadata": {},
   "outputs": [],
   "source": []
  },
  {
   "cell_type": "markdown",
   "metadata": {
    "jp-MarkdownHeadingCollapsed": true,
    "tags": []
   },
   "source": [
    "# VIF"
   ]
  },
  {
   "cell_type": "code",
   "execution_count": null,
   "metadata": {},
   "outputs": [],
   "source": [
    "VMRK=list(C01.columns)\n",
    "VMRK.remove('H3.3')\n",
    "VMRK.remove('H3')\n",
    "VMRK.remove('H4')\n",
    "\n",
    "from statsmodels.stats.outliers_influence import variance_inflation_factor\n",
    "from tqdm import tqdm\n",
    "vif_data = pd.DataFrame()\n",
    "vif_data[\"feature\"] = VMRK\n",
    "  \n",
    "# calculating VIF for each feature\n",
    "vif_data[\"VIF\"] = [variance_inflation_factor(C03[VMRK].values, i)\n",
    "                          for i in tqdm(range(len(VMRK)))]"
   ]
  },
  {
   "cell_type": "code",
   "execution_count": null,
   "metadata": {},
   "outputs": [],
   "source": [
    "vif_data.sort_values(by='VIF')"
   ]
  },
  {
   "cell_type": "code",
   "execution_count": null,
   "metadata": {},
   "outputs": [],
   "source": [
    "pd.DataFrame(vif_data.sort_values(by='VIF')).to_excel(\"Plots/C03_VIF.xlsx\")"
   ]
  },
  {
   "cell_type": "code",
   "execution_count": null,
   "metadata": {},
   "outputs": [],
   "source": [
    "i=C01[VMRK].columns.get_loc(\"H3K27me3\") \n",
    "x_i = C01[VMRK].values[:, i]\n",
    "mask = np.arange(len(VMRK)) != i\n",
    "x_noti = C01[VMRK].values[:, mask]"
   ]
  },
  {
   "cell_type": "code",
   "execution_count": null,
   "metadata": {},
   "outputs": [],
   "source": [
    "i"
   ]
  },
  {
   "cell_type": "code",
   "execution_count": null,
   "metadata": {},
   "outputs": [],
   "source": [
    "np.asarray(VMRK)[mask]"
   ]
  },
  {
   "cell_type": "code",
   "execution_count": null,
   "metadata": {},
   "outputs": [],
   "source": [
    "from statsmodels.graphics._regressionplots_doc import _plot_influence_doc\n",
    "from statsmodels.regression.linear_model import OLS\n",
    "\n",
    "ols = OLS(x_i, x_noti).fit()\n"
   ]
  },
  {
   "cell_type": "code",
   "execution_count": null,
   "metadata": {},
   "outputs": [],
   "source": [
    "Coef=pd.DataFrame()\n",
    "Coef[\"MRK\"]=np.asarray((VMRK))[mask]\n",
    "Coef[\"Coef\"]=ols.params"
   ]
  },
  {
   "cell_type": "code",
   "execution_count": null,
   "metadata": {},
   "outputs": [],
   "source": [
    "Coef.sort_values(by='Coef',ascending=False,key=abs)"
   ]
  },
  {
   "cell_type": "code",
   "execution_count": null,
   "metadata": {},
   "outputs": [],
   "source": [
    "plt.figure(figsize=(10,5))\n",
    "ax=sns.barplot(data=Coef,x='MRK',y='Coef')\n",
    "ax.set_xticklabels(ax.get_xticklabels(),rotation = 90)\n"
   ]
  },
  {
   "cell_type": "code",
   "execution_count": null,
   "metadata": {},
   "outputs": [],
   "source": [
    "def PlotInfluences(dat,Col,Tit=\"\"):\n",
    "    i=dat[VMRK].columns.get_loc(Col) \n",
    "    x_i = dat[VMRK].values[:, i]\n",
    "    mask = np.arange(len(VMRK)) != i\n",
    "    x_noti = dat[VMRK].values[:, mask]\n",
    "    ols = OLS(x_i, x_noti).fit()\n",
    "    Coef=pd.DataFrame()\n",
    "    Coef[\"MRK\"]=np.asarray((VMRK))[mask]\n",
    "    Coef[\"Coef\"]=ols.params\n",
    "    plt.figure(figsize=(10,5))\n",
    "    ax=sns.barplot(data=Coef,x='MRK',y='Coef')\n",
    "    ax.set_xticklabels(ax.get_xticklabels(),rotation = 90)\n",
    "    plt.title(\"Coefficients of Regression (R2=\"+str(round(ols.rsquared,2))+\") for \"+Col+\" \"+Tit)\n",
    "    plt.ylim([-1,1]) "
   ]
  },
  {
   "cell_type": "code",
   "execution_count": null,
   "metadata": {},
   "outputs": [],
   "source": [
    "for V in VMRK:\n",
    "    PlotInfluences(C01,V,\" - C01\")\n",
    "#    plt.savefig('Plots/C01_Reg_'+V+'.png',dpi=200,bbox_inches='tight')\n",
    "    "
   ]
  },
  {
   "cell_type": "code",
   "execution_count": null,
   "metadata": {},
   "outputs": [],
   "source": [
    "str(round(ols.rsquared,2))\n"
   ]
  },
  {
   "cell_type": "code",
   "execution_count": null,
   "metadata": {},
   "outputs": [],
   "source": []
  },
  {
   "cell_type": "markdown",
   "metadata": {
    "tags": []
   },
   "source": [
    "# Rest"
   ]
  },
  {
   "cell_type": "code",
   "execution_count": null,
   "metadata": {},
   "outputs": [],
   "source": [
    "sns.ecdfplot(C03['BCL6'])"
   ]
  },
  {
   "cell_type": "code",
   "execution_count": null,
   "metadata": {},
   "outputs": [],
   "source": [
    "C01=C01.assign(Line='Ly7')\n",
    "C02=C02.assign(Line='KMT2D')\n",
    "C03=C03.assign(Line='EZH2')\n",
    "C04=C04.assign(Line='CREBBP')\n",
    "C05=C05.assign(Line='KMT2D/EZH2')\n",
    "C06=C06.assign(Line='KMT2D/CREBBP')\n"
   ]
  },
  {
   "cell_type": "code",
   "execution_count": null,
   "metadata": {},
   "outputs": [],
   "source": [
    "CAll=pd.concat([C01,C02,C03,C04,C05,C06]).copy()\n"
   ]
  },
  {
   "cell_type": "markdown",
   "metadata": {
    "tags": []
   },
   "source": [
    "# KMT2D Double Mutant Analysis"
   ]
  },
  {
   "cell_type": "code",
   "execution_count": null,
   "metadata": {},
   "outputs": [],
   "source": [
    "MRK=NamesAll.copy()\n",
    "MRK.remove('H3')\n",
    "MRK.remove('H3.3')\n",
    "MRK.remove('H4')\n",
    "\n",
    "\n",
    "MeanDist(C01,C05,MRK,title='KMT2D/ETH - Ly7',clr=['dodgerblue','orchid'])\n",
    "plt.savefig('Plots/Ly7_KMT2D+ETH_Diff.png',dpi=200,bbox_inches='tight')\n"
   ]
  },
  {
   "cell_type": "code",
   "execution_count": null,
   "metadata": {},
   "outputs": [],
   "source": [
    "MeanDist(C02,C05,MRK,title='KMT2D/ETH - KMT2D',clr=['dodgerblue','orchid'])\n",
    "plt.savefig('Plots/KMT2D_KMT2D+ETH_Diff.png',dpi=200,bbox_inches='tight')"
   ]
  },
  {
   "cell_type": "code",
   "execution_count": null,
   "metadata": {},
   "outputs": [],
   "source": [
    "EPC=EpiCols.copy()\n",
    "EPC.remove('H3.3')\n",
    "EPC.remove('H3')\n",
    "EPC.remove('H4')\n",
    "CAll=pd.concat([C01,C05]).copy()"
   ]
  },
  {
   "cell_type": "code",
   "execution_count": null,
   "metadata": {},
   "outputs": [],
   "source": [
    "X_2d=draw_umap(CAll[EPC],cc=CAll['H3K27Ac'],min_dist=0.001,n_neighbors=60,rstate=42)\n",
    "plt.show()"
   ]
  },
  {
   "cell_type": "code",
   "execution_count": null,
   "metadata": {},
   "outputs": [],
   "source": [
    "m=CAll.Line=='Ly7'\n",
    "plt.scatter(X_2d[m,0],X_2d[m,1],s=1,c='dodgerblue')\n",
    "m=CAll.Line=='KMT2D/EZH2'\n",
    "plt.scatter(X_2d[m,0],X_2d[m,1],s=1,c='purple')"
   ]
  },
  {
   "cell_type": "code",
   "execution_count": null,
   "metadata": {},
   "outputs": [],
   "source": [
    "plt.savefig('Plots/Ly7_KMT2D+ETH.png',dpi=200,bbox_inches='tight')"
   ]
  },
  {
   "cell_type": "code",
   "execution_count": null,
   "metadata": {},
   "outputs": [],
   "source": [
    "labels=dbscan_plot(X_2d,eps=0.05,min_samples=100)"
   ]
  },
  {
   "cell_type": "code",
   "execution_count": null,
   "metadata": {},
   "outputs": [],
   "source": [
    "labels2=labels.copy()\n",
    "labels[np.isin(labels2,[0,7])]=0\n",
    "labels[np.isin(labels2,[6])]=1\n",
    "labels[np.isin(labels2,[3])]=2\n",
    "labels[np.isin(labels2,[4])]=3\n",
    "labels[np.isin(labels2,[1,5,2])]=3"
   ]
  },
  {
   "cell_type": "code",
   "execution_count": null,
   "metadata": {},
   "outputs": [],
   "source": [
    "CAll=CAll.assign(C=labels)"
   ]
  },
  {
   "cell_type": "code",
   "execution_count": null,
   "metadata": {},
   "outputs": [],
   "source": [
    "plt.figure(figsize=(6,5))\n",
    "for i in CAll.C.unique():\n",
    "    m=CAll.C==i\n",
    "    plt.scatter(X_2d[m,0],X_2d[m,1],s=1,label=i)\n",
    "\n",
    "plt.savefig('Plots/Ly7_KMT2D+ETH_Clusts.png',dpi=200,bbox_inches='tight')\n",
    "plt.legend(markerscale=10,bbox_to_anchor=(1.0, 1.0), loc='upper left')\n",
    "\n",
    "plt.show()"
   ]
  },
  {
   "cell_type": "code",
   "execution_count": null,
   "metadata": {},
   "outputs": [],
   "source": [
    "with open('Plots/ClusteringRatios.txt', 'w') as f:\n",
    "    print(\"Per Line by Cluster\",file=f)\n",
    "    print(\"Ly7\",file=f)\n",
    "    for CC in [-1,0,1,2,3]:\n",
    "        m=CAll.Line=='Ly7'\n",
    "        m2=CAll.C==CC\n",
    "        print(f\"Cluster {CC} - {(m&m2).sum()/m.sum()}\",file=f) \n",
    "#        print((CAll[m].groupby(['Line']).count()/len(CAll[m]))['H3'])\n",
    "#        print((CAll[m].groupby(['Line']).count()/len(CAll[m]))['H3'], file=f)\n",
    "    print(\"KMT2D/EZH2\",file=f)\n",
    "    for CC in [-1,0,1,2,3]:\n",
    "#        print(CC,file=f)\n",
    "        m=CAll.Line=='KMT2D/EZH2'\n",
    "        m2=CAll.C==CC\n",
    "        print(f\"Cluster {CC} - {(m&m2).sum()/m.sum()}\",file=f) \n",
    "#        print((CAll[m].groupby(['Line']).count()/len(CAll[m]))['H3'])\n",
    "#        print((CAll[m].groupby(['Line']).count()/len(CAll[m]))['H3'], file=f)\n",
    "\n",
    "    print(\"\\nPer Cluster by Line\",file=f)\n",
    "    for CC in [-1,0,1,2,3]:\n",
    "        m=CAll.C==CC\n",
    "        print(f\"Cluster {CC}\",file=f) \n",
    "        print((CAll[m].groupby(['Line']).count()/len(CAll[m]))['H3'])\n",
    "        print((CAll[m].groupby(['Line']).count()/len(CAll[m]))['H3'], file=f)\n"
   ]
  },
  {
   "cell_type": "markdown",
   "metadata": {
    "tags": []
   },
   "source": [
    "## Diff Plots "
   ]
  },
  {
   "cell_type": "code",
   "execution_count": null,
   "metadata": {},
   "outputs": [],
   "source": [
    "m1=(CAll.Line=='Ly7') & (CAll.C==0)\n",
    "m2=(CAll.Line=='KMT2D/EZH2') & (CAll.C==0)\n",
    "MeanDist(CAll[m1],CAll[m2],MRK,title='KMT2D/ETH (WTL) - Ly7',clr=['dodgerblue','orchid'])\n",
    "plt.savefig('Plots/LY7_KMT2D+ETH_WTL_Diff.png',dpi=200,bbox_inches='tight')"
   ]
  },
  {
   "cell_type": "code",
   "execution_count": null,
   "metadata": {},
   "outputs": [],
   "source": [
    "\n",
    "MeanDist(C01,C02,MRK,title='KMT2D - Ly7',clr=['dodgerblue','orchid'])\n",
    "plt.savefig('Plots/Ly7_KMT2D.png',dpi=200,bbox_inches='tight')\n",
    "\n",
    "MeanDist(C01,C04,MRK,title='CREBBP - Ly7',clr=['dodgerblue','orchid'])\n",
    "plt.savefig('Plots/Ly7_CREBBP.png',dpi=200,bbox_inches='tight')\n",
    "\n",
    "MeanDist(C01,C06,MRK,title='KMT2D/CREBBP - Ly7',clr=['dodgerblue','orchid'])\n",
    "plt.savefig('Plots/Ly7_MKT2D+CREBBP.png',dpi=200,bbox_inches='tight')"
   ]
  },
  {
   "cell_type": "code",
   "execution_count": null,
   "metadata": {},
   "outputs": [],
   "source": [
    "MeanDist(C02,C06,MRK,title='KMT2D/CREBBP - CREBBP',clr=['dodgerblue','orchid'])\n",
    "plt.savefig('Plots/KMT2D_KMT2D+CREBBP.png',dpi=200,bbox_inches='tight')"
   ]
  },
  {
   "cell_type": "code",
   "execution_count": null,
   "metadata": {},
   "outputs": [],
   "source": []
  },
  {
   "cell_type": "code",
   "execution_count": null,
   "metadata": {},
   "outputs": [],
   "source": []
  },
  {
   "cell_type": "code",
   "execution_count": null,
   "metadata": {},
   "outputs": [],
   "source": []
  },
  {
   "cell_type": "code",
   "execution_count": null,
   "metadata": {},
   "outputs": [],
   "source": []
  },
  {
   "cell_type": "code",
   "execution_count": null,
   "metadata": {},
   "outputs": [],
   "source": []
  },
  {
   "cell_type": "markdown",
   "metadata": {},
   "source": [
    "## Other Lines"
   ]
  },
  {
   "cell_type": "code",
   "execution_count": null,
   "metadata": {},
   "outputs": [],
   "source": [
    "MeanDist(CAll[m1],CAll[m2],MRK,title='KMT2D/ETH Ex - WTL',clr=['dodgerblue','orchid'])\n",
    "plt.savefig('Plots/LY7_KMT2D+ETH_Ex_Diff.png',dpi=200,bbox_inches='tight')"
   ]
  },
  {
   "cell_type": "code",
   "execution_count": null,
   "metadata": {},
   "outputs": [],
   "source": []
  },
  {
   "cell_type": "code",
   "execution_count": null,
   "metadata": {},
   "outputs": [],
   "source": []
  },
  {
   "cell_type": "code",
   "execution_count": null,
   "metadata": {},
   "outputs": [],
   "source": []
  },
  {
   "cell_type": "code",
   "execution_count": null,
   "metadata": {},
   "outputs": [],
   "source": []
  },
  {
   "cell_type": "markdown",
   "metadata": {
    "tags": []
   },
   "source": [
    "# AE Ly7/EZH2"
   ]
  },
  {
   "cell_type": "code",
   "execution_count": null,
   "metadata": {},
   "outputs": [],
   "source": [
    "CAll=pd.concat([C01,C03])\n",
    "CAll.shape"
   ]
  },
  {
   "cell_type": "code",
   "execution_count": null,
   "metadata": {},
   "outputs": [],
   "source": [
    "EPC=EpiCols.copy()\n",
    "EPC.remove('H3.3')\n",
    "EPC.remove('H3')\n",
    "EPC.remove('H4')\n",
    "scaler = MinMaxScaler()\n",
    "data_scaled = scaler.fit_transform(CAll[EPC].values)\n",
    "x_train=data_scaled"
   ]
  },
  {
   "cell_type": "code",
   "execution_count": null,
   "metadata": {},
   "outputs": [],
   "source": [
    "import keras\n",
    "from keras import layers\n",
    "LE=len(EPC)\n",
    "# This is the size of our encoded representations\n",
    "encoding_dim = 2  # 32 floats -> compression of factor 24.5, assuming the input is 784 floats\n",
    "\n",
    "# This is our input image\n",
    "input_img = keras.Input(shape=(LE,))\n",
    "# \"encoded\" is the encoded representation of the input\n",
    "#encoded = layers.Dense(encoding_dim, activation='relu')(input_img)\n",
    "# \"decoded\" is the lossy reconstruction of the input\n",
    "#decoded = layers.Dense(len(EPC), activation='sigmoid')(encoded)\n",
    "\n",
    "\n",
    "encoded = layers.Dense(np.int(LE/2), activation='relu')(input_img)\n",
    "encoded = layers.Dense(LE*2, activation='relu')(encoded)\n",
    "encoded = layers.Dense(8, activation='relu')(encoded)\n",
    "\n",
    "decoded = layers.Dense(LE*2, activation='relu')(encoded)\n",
    "decoded = layers.Dense(np.int(LE/2), activation='relu')(decoded)\n",
    "decoded = layers.Dense(len(EPC), activation='sigmoid')(decoded)\n",
    "\n",
    "\n",
    "\n",
    "\n",
    "# This model maps an input to its reconstruction\n",
    "autoencoder = keras.Model(input_img, decoded)\n",
    "encoder = keras.Model(input_img, encoded)\n",
    "# This is our encoded (32-dimensional) input\n",
    "encoded_input = keras.Input(shape=(encoding_dim,))\n",
    "# Retrieve the last layer of the autoencoder model\n",
    "decoder_layer = autoencoder.layers[-1]\n",
    "# Create the decoder model\n",
    "#decoder = keras.Model(encoded_input, decoder_layer(encoded_input))\n"
   ]
  },
  {
   "cell_type": "code",
   "execution_count": null,
   "metadata": {},
   "outputs": [],
   "source": [
    "encoder.summary()"
   ]
  },
  {
   "cell_type": "code",
   "execution_count": null,
   "metadata": {
    "tags": []
   },
   "outputs": [],
   "source": [
    "from keras.callbacks import EarlyStopping\n",
    "\n",
    "from keras.callbacks import ModelCheckpoint\n",
    "es = EarlyStopping(monitor='val_loss', mode='min', verbose=1, patience=20)\n",
    "mc = ModelCheckpoint('best_model.h5', monitor='val_loss', mode='min', save_best_only=True)\n",
    "autoencoder.compile(optimizer='adam', loss='mse')\n",
    "autoencoder.fit(x_train, x_train,\n",
    "                epochs=250,\n",
    "                batch_size=256,\n",
    "                shuffle=True,\n",
    "                validation_data=(x_train, x_train), verbose=2,\n",
    "                callbacks=[es,mc])\n"
   ]
  },
  {
   "cell_type": "markdown",
   "metadata": {},
   "source": [
    "encoder=keras.models.load_model(\"CyTOF3_Encoder_Ly7_EZH2.h5\")\n",
    "encoder.compile(optimizer='adam', loss='mse')\n"
   ]
  },
  {
   "cell_type": "code",
   "execution_count": null,
   "metadata": {},
   "outputs": [],
   "source": [
    "encoded = encoder.predict(x_train)\n"
   ]
  },
  {
   "cell_type": "code",
   "execution_count": null,
   "metadata": {},
   "outputs": [],
   "source": [
    "CAll.shape"
   ]
  },
  {
   "cell_type": "code",
   "execution_count": null,
   "metadata": {},
   "outputs": [],
   "source": [
    "%matplotlib inline\n",
    "X_2d=draw_umap(encoded,cc=CAll['H3K27Ac'],min_dist=0.001)"
   ]
  },
  {
   "cell_type": "code",
   "execution_count": null,
   "metadata": {
    "tags": []
   },
   "outputs": [],
   "source": [
    "Lines=['Ly7']\n",
    "%matplotlib widget\n",
    "idx=np.random.choice(range(len(CAll)),size=10000,replace=False)\n",
    "CAll=CAll.assign(U0=X_2d[:,0])\n",
    "CAll=CAll.assign(U1=X_2d[:,1])\n",
    "\n",
    "#CAll=CAll.iloc[idx]\n",
    "f=plt.figure(figsize=(6,5))\n",
    "for L,c in zip(Lines,Col):\n",
    "    m=CAll.Line==L\n",
    "    plt.scatter(CAll[m].U0,CAll[m].U1,s=1,label=L,c=c)\n",
    "\n",
    "plt.legend(markerscale=10,bbox_to_anchor=(1.0, 1.0), loc='upper left')\n",
    "\n",
    "CAll=CC.copy()\n",
    "\n",
    "pos = []\n",
    "def onclick(event):\n",
    "    pos.append([event.xdata,event.ydata])\n",
    "f.canvas.mpl_connect('button_press_event', onclick)\n",
    "f.show()\n"
   ]
  },
  {
   "cell_type": "code",
   "execution_count": null,
   "metadata": {},
   "outputs": [],
   "source": [
    "%matplotlib widget\n",
    "idx=np.random.choice(range(len(CAll)),size=10000,replace=False)\n",
    "CAll=CAll.assign(U0=X_2d[:,0])\n",
    "CAll=CAll.assign(U1=X_2d[:,1])\n",
    "\n",
    "#CAll=CAll.iloc[idx]\n",
    "f=plt.figure(figsize=(6,5))\n",
    "for L,c in zip(Lines,Col):\n",
    "    m=CAll.Line==L\n",
    "    plt.scatter(CAll[m].U0,CAll[m].U1,s=1,label=L,c=c)\n",
    "\n",
    "plt.legend(markerscale=10,bbox_to_anchor=(1.0, 1.0), loc='upper left')\n",
    "\n",
    "CAll=CC.copy()\n",
    "\n",
    "pos = []\n",
    "def onclick(event):\n",
    "    pos.append([event.xdata,event.ydata])\n",
    "f.canvas.mpl_connect('button_press_event', onclick)\n",
    "f.show()\n",
    "%matplotlib inline\n",
    "pos\n",
    "p = Polygon(pos)"
   ]
  },
  {
   "cell_type": "code",
   "execution_count": null,
   "metadata": {},
   "outputs": [],
   "source": [
    "Lines=['Ly7','EZH2']\n",
    "\n",
    "idx=np.random.choice(range(len(CAll)),size=10000,replace=False)\n",
    "CC=CAll.copy()\n",
    "CAll=CAll.assign(U0=X_2d[:,0])\n",
    "CAll=CAll.assign(U1=X_2d[:,1])\n",
    "CAll=CAll.iloc[idx]\n",
    "f=plt.figure(figsize=(6,5))\n",
    "for L,c in zip(Lines,Col):\n",
    "    m=CAll.Line==L\n",
    "    plt.scatter(CAll[m].U0,CAll[m].U1,s=1,label=L,c=c)\n",
    "\n",
    "plt.legend(markerscale=10,bbox_to_anchor=(1.0, 1.0), loc='upper left')\n",
    "CAll=CC.copy()\n"
   ]
  },
  {
   "cell_type": "markdown",
   "metadata": {},
   "source": [
    "encoder.save(\"CyTOF3_Encoder_Ly7_EZH2.h5\")"
   ]
  },
  {
   "cell_type": "markdown",
   "metadata": {},
   "source": [
    "labels=dbscan_plot(X_2d,eps=0.075,min_samples=60)"
   ]
  },
  {
   "cell_type": "code",
   "execution_count": null,
   "metadata": {},
   "outputs": [],
   "source": [
    "CAll=CAll.assign(C=labels)"
   ]
  },
  {
   "cell_type": "code",
   "execution_count": null,
   "metadata": {},
   "outputs": [],
   "source": [
    "for CC in CAll.C.unique():\n",
    "    print(CC)\n",
    "    m=CAll.C==CC\n",
    "    print((CAll[m].groupby(['Line']).count()/len(CAll[m]))['H3'])"
   ]
  },
  {
   "cell_type": "code",
   "execution_count": null,
   "metadata": {},
   "outputs": [],
   "source": []
  },
  {
   "cell_type": "code",
   "execution_count": null,
   "metadata": {},
   "outputs": [],
   "source": []
  },
  {
   "cell_type": "code",
   "execution_count": null,
   "metadata": {},
   "outputs": [],
   "source": []
  },
  {
   "cell_type": "markdown",
   "metadata": {
    "tags": []
   },
   "source": [
    "# Joint UMAP"
   ]
  },
  {
   "cell_type": "code",
   "execution_count": null,
   "metadata": {},
   "outputs": [],
   "source": [
    "EPC=EpiCols.copy()\n",
    "EPC.remove('H3.3')\n",
    "EPC.remove('H3')\n",
    "EPC.remove('H4')\n",
    "#EPC.remove('Iridium')\n",
    "\n",
    "X_2d=draw_umap(CAll[EPC],cc=CAll['H3K27Ac'],min_dist=0.001,n_neighbors=60,rstate=42)\n",
    "plt.show()"
   ]
  },
  {
   "cell_type": "code",
   "execution_count": null,
   "metadata": {},
   "outputs": [],
   "source": [
    "Col=['r','orange','yellow','green','blue','magenta']\n",
    "Lines=CAll.Line.unique()"
   ]
  },
  {
   "cell_type": "code",
   "execution_count": null,
   "metadata": {},
   "outputs": [],
   "source": [
    "idx=np.random.choice(range(len(CAll)),size=10000,replace=False)\n",
    "CC=CAll.copy()\n",
    "CAll=CAll.assign(U0=X_2d[:,0])\n",
    "CAll=CAll.assign(U1=X_2d[:,1])\n",
    "CAll=CAll.iloc[idx]\n",
    "plt.figure(figsize=(6,5))\n",
    "for L,c in zip(Lines,Col):\n",
    "    m=CAll.Line==L\n",
    "    plt.scatter(CAll[m].U0,CAll[m].U1,s=1,label=L,c=c)\n",
    "\n",
    "plt.legend(markerscale=10,bbox_to_anchor=(1.0, 1.0), loc='upper left')\n",
    "plt.savefig('Plots/Clusts_All.png',dpi=200,bbox_inches='tight')\n",
    "\n",
    "CAll=CC.copy()"
   ]
  },
  {
   "cell_type": "code",
   "execution_count": null,
   "metadata": {},
   "outputs": [],
   "source": [
    "Names=EpiCols.copy()\n",
    "Names.remove('H3')\n",
    "Names.remove('H3.3')\n",
    "Names.remove('H4')\n",
    "# Names.remove('H3K64ac')\n",
    "# Names.remove('H4K16ac')\n",
    "\n",
    "sns.set_style({'legend.frameon':True})\n",
    "\n",
    "dd0=np.mean(CAll[CAll.Line=='Ly7'][MRK]).sort_values(ascending=False)\n",
    "dd1=np.mean(CAll[CAll.Line=='KMT2D'][MRK]).sort_values()\n",
    "dd2=np.mean(CAll[CAll.Line=='EZH2'][MRK]).sort_values()\n",
    "dd3=np.mean(CAll[CAll.Line=='CREBBP'][MRK]).sort_values()\n",
    "dd4=np.mean(CAll[CAll.Line=='KTM2D/EZH2'][MRK]).sort_values()\n",
    "dd5=np.mean(CAll[CAll.Line=='KMT2D/CREBBP'][MRK]).sort_values()\n",
    "\n",
    "\n",
    "\n",
    "sz0=np.full(len(dd0),0,dtype=np.float64)\n",
    "sz1=np.full(len(dd1),0,dtype=np.float64)\n",
    "sz2=np.full(len(dd2),0,dtype=np.float64)\n",
    "\n",
    "#dd0=dd0-dd0\n",
    "#dd1=dd1-dd0\n",
    "#dd2=dd2-dd0\n",
    "\n",
    "\n",
    "LabDict={}\n",
    "LabDict['Ly7']='Ly7'\n",
    "LabDict['EZH2_Ex']='EZH2_Ex'\n",
    "LabDict['EZH2_WTL']='EZH2_WTL'\n",
    "    \n",
    "fig, ax = plt.subplots(figsize=(16,10), dpi= 80)\n",
    "ax.hlines(y=dd0.index, xmin=-5, xmax=5, color='gray', alpha=0.7, \n",
    "          linewidth=1, linestyles='dashdot')\n",
    "\n",
    "ax.scatter(y=dd0.index, x=dd0, s=100, c=Col[0], alpha=0.7,\n",
    "           label='Ly7',)\n",
    "ax.scatter(y=dd1.index, x=dd1, s=100, c=Col[1], alpha=0.7,\n",
    "           label='KMT2D',)\n",
    "ax.scatter(y=dd2.index, x=dd2, s=100, c=Col[2], alpha=0.7,\n",
    "           label='EZH2',)\n",
    "\n",
    "ax.scatter(y=dd3.index, x=dd0, s=100, c=Col[3], alpha=0.7,\n",
    "           label='CREBBP',)\n",
    "ax.scatter(y=dd4.index, x=dd1, s=100, c=Col[4], alpha=0.7,\n",
    "           label='KMT2D/EZH2',)\n",
    "ax.scatter(y=dd5.index, x=dd2, s=100, c=Col[5], alpha=0.7,\n",
    "           label='KMT2D/CREBBP',)\n",
    "\n",
    "\n",
    "\n",
    "ax.vlines(x=0, ymin=0, ymax=len(dd0)-1, color='black', alpha=0.7, linewidth=2, linestyles='dotted')\n",
    "plt.legend(fontsize=30,\n",
    "           facecolor='White', framealpha=1,frameon=True,\n",
    "           bbox_to_anchor=(1.0, .50, 0.3, 0.2), loc='upper left')\n",
    "\n",
    "ax.set_title('Mean Value', fontdict={'size':30})\n",
    "#ax.set_xlim(-1.5, 1.5)\n",
    "\n",
    "labels = dd0.index.to_list()\n",
    "#labels[8]=\"H3-K27M\"\n",
    "ax.set_yticklabels(labels)\n",
    "ax.set_xlim([-2.5,2.5])\n",
    "plt.setp(ax.get_xticklabels(), fontsize=24)\n",
    "plt.setp(ax.get_yticklabels(), fontsize=24)\n",
    "\n",
    "plt.savefig('Plots/All_Means.png',dpi=200,bbox_inches='tight')\n",
    "plt.show()"
   ]
  },
  {
   "cell_type": "code",
   "execution_count": null,
   "metadata": {},
   "outputs": [],
   "source": [
    "for l,c in zip(Lines,Col):\n",
    "    print(l)\n",
    "    sns.kdeplot(data=CAll[CAll.Line==l],x='H3K27me2',c=c,label=l)\n",
    "\n",
    "plt.legend()"
   ]
  },
  {
   "cell_type": "code",
   "execution_count": null,
   "metadata": {},
   "outputs": [],
   "source": [
    "Lines"
   ]
  },
  {
   "cell_type": "markdown",
   "metadata": {
    "tags": []
   },
   "source": [
    "# Ly7/EZH2 UMAP"
   ]
  },
  {
   "cell_type": "code",
   "execution_count": null,
   "metadata": {},
   "outputs": [],
   "source": [
    "CAll=pd.concat([C01,C03,C05]).sample(frac=0.25,replace=False).copy()#C01.append(C03).copy()"
   ]
  },
  {
   "cell_type": "code",
   "execution_count": null,
   "metadata": {
    "tags": []
   },
   "outputs": [],
   "source": [
    "EPC=EpiCols.copy()\n",
    "EPC.remove('H3.3')\n",
    "EPC.remove('H3')\n",
    "EPC.remove('H4')\n",
    "EPC.append('BCL6')\n",
    "EPC.append('CD10')\n",
    "#EPC.remove('Iridium')\n",
    "\n",
    "X_2d=draw_umap(CAll[EPC],cc=CAll['H3K27Ac'],min_dist=0.001,n_neighbors=30,rstate=42)\n",
    "plt.show()"
   ]
  },
  {
   "cell_type": "code",
   "execution_count": null,
   "metadata": {},
   "outputs": [],
   "source": [
    "idx=np.random.choice(range(len(CAll)),size=25000,replace=False)\n",
    "CC=CAll.copy()\n",
    "CAll=CAll.assign(U0=X_2d[:,0])\n",
    "CAll=CAll.assign(U1=X_2d[:,1])\n",
    "CAll=CAll.iloc[idx]\n",
    "\n",
    "plt.figure(figsize=(6,5))\n",
    "m=CAll.Line=='Ly7'\n",
    "plt.scatter(CAll[m].U0,CAll[m].U1,c='dodgerblue',label='Ly7',s=1)\n",
    "m=CAll.Line=='EZH2'\n",
    "plt.scatter(CAll[m].U0,CAll[m].U1,c='orchid',label='EZH2',s=1)\n",
    "\n",
    "m=CAll.Line=='KMT2D/EZH2'\n",
    "plt.scatter(CAll[m].U0,CAll[m].U1,c='thistle',label='KMT2D/EZH2',s=1)\n",
    "\n",
    "\n",
    "plt.legend(markerscale=10)\n",
    "CAll=CC.copy()\n",
    "plt.savefig('Plots/Ly7_EZH2_KMT2DEZH2_Clusters.png',dpi=200,bbox_inches='tight')\n"
   ]
  },
  {
   "cell_type": "code",
   "execution_count": null,
   "metadata": {
    "tags": []
   },
   "outputs": [],
   "source": [
    "from shapely.geometry import Point\n",
    "from shapely.geometry.polygon import Polygon\n",
    "%matplotlib widget\n",
    "idx=np.random.choice(range(len(CAll)),size=10000,replace=False)\n",
    "CAll=CAll.assign(U0=X_2d[:,0])\n",
    "CAll=CAll.assign(U1=X_2d[:,1])\n",
    "\n",
    "#CAll=CAll.iloc[idx]\n",
    "f=plt.figure(figsize=(6,5))\n",
    "for L,c in zip(['Ly7'],['r','b']):\n",
    "    m=CAll.Line==L\n",
    "    plt.scatter(CAll[m].U0,CAll[m].U1,s=1,label=L,c=c)\n",
    "\n",
    "plt.legend(markerscale=10,bbox_to_anchor=(1.0, 1.0), loc='upper left')\n",
    "\n",
    "CAll=CC.copy()\n",
    "\n",
    "pos = []\n",
    "def onclick(event):\n",
    "    pos.append([event.xdata,event.ydata])\n",
    "f.canvas.mpl_connect('button_press_event', onclick)\n",
    "f.show()\n",
    "#%matplotlib inline\n",
    "\n",
    "p = Polygon(pos)"
   ]
  },
  {
   "cell_type": "code",
   "execution_count": null,
   "metadata": {},
   "outputs": [],
   "source": [
    "%matplotlib inline\n",
    "p = Polygon(pos)\n",
    "idx=np.random.choice(range(len(CAll)),size=10000,replace=False)\n",
    "CAll=CAll.assign(U0=X_2d[:,0])\n",
    "CAll=CAll.assign(U1=X_2d[:,1])\n",
    "\n",
    "#CAll=CAll.iloc[idx]\n",
    "f=plt.figure(figsize=(6,5))\n",
    "for L,c in zip(['Ly7','EZH2'],['r','b']):\n",
    "    m=CAll.Line==L\n",
    "    plt.scatter(CAll[m].U0,CAll[m].U1,s=1,label=L,c=c)\n",
    "\n",
    "plt.legend(markerscale=10,bbox_to_anchor=(1.0, 1.0), loc='upper left')\n",
    "x,y=p.exterior.xy\n",
    "plt.plot(x,y)\n",
    "CAll=CC.copy()\n"
   ]
  },
  {
   "cell_type": "code",
   "execution_count": null,
   "metadata": {},
   "outputs": [],
   "source": [
    "m2=np.full_like(CAll,False)\n",
    "for i in range(len(X_2d)):\n",
    "    if p.contains(Point(X_2d[i,0],X_2d[i,1])):\n",
    "#        print(i,X_2d[i,0],X_2d[i,1])\n",
    "        m2[i]=True\n",
    "    \n"
   ]
  },
  {
   "cell_type": "code",
   "execution_count": null,
   "metadata": {},
   "outputs": [],
   "source": [
    "m=m2[:,0]"
   ]
  },
  {
   "cell_type": "code",
   "execution_count": null,
   "metadata": {},
   "outputs": [],
   "source": [
    "m=m==True"
   ]
  },
  {
   "cell_type": "code",
   "execution_count": null,
   "metadata": {},
   "outputs": [],
   "source": [
    "m2=m & (CAll.Line=='EZH2')\n",
    "plt.scatter(X_2d[m2,0],X_2d[m2,1],s=1)\n",
    "\n",
    "m2=m & (CAll.Line=='Ly7')\n",
    "plt.scatter(X_2d[m2,0],X_2d[m2,1],s=1)"
   ]
  },
  {
   "cell_type": "code",
   "execution_count": null,
   "metadata": {},
   "outputs": [],
   "source": [
    "MRK=NamesAll.copy()\n",
    "MRK.remove('H3')\n",
    "MRK.remove('H3.3')\n",
    "MRK.remove('H4')\n",
    "\n",
    "MeanDist(CAll[(CAll.Line=='Ly7') & m],CAll[(CAll.Line=='EZH2') & m],MRK,title='EZH2 WTL - Ly7 (Cluster 2)',clr=['dodgerblue','orchid'])"
   ]
  },
  {
   "cell_type": "code",
   "execution_count": null,
   "metadata": {},
   "outputs": [],
   "source": [
    "labels=dbscan_plot(X_2d,eps=0.15,min_samples=60)"
   ]
  },
  {
   "cell_type": "code",
   "execution_count": null,
   "metadata": {},
   "outputs": [],
   "source": [
    "labels2=np.full_like(labels,0)\n",
    "labels2[labels==5]=1\n",
    "labels2[labels==3]=2\n",
    "labels2[labels==4]=3\n",
    "labels2[labels==1]=4\n",
    "labels2[labels==2]=4\n",
    "labels2[labels==6]=4\n",
    "labels2[labels==-1]=-1\n",
    "CAll=CAll.assign(C=labels2)"
   ]
  },
  {
   "cell_type": "code",
   "execution_count": null,
   "metadata": {},
   "outputs": [],
   "source": [
    "CAll=CAll.assign(C=labels2)\n",
    "plt.figure()\n",
    "for CC in [0,1,2,3,4]:\n",
    "    m=CAll.C==CC\n",
    "    plt.scatter(X_2d[m,0],X_2d[m,1],s=1,label=CC)\n",
    "    \n",
    "plt.legend(markerscale=10)\n",
    "plt.savefig('Plots/Ly7_EZH2_Clustering.png',dpi=200,bbox_inches='tight')\n"
   ]
  },
  {
   "cell_type": "code",
   "execution_count": null,
   "metadata": {},
   "outputs": [],
   "source": [
    "#CAll=CAll.assign(C=labels)\n",
    "#Labs=list(CAll.C.unique())\n",
    "\n",
    "with open('Plots/ClusteringRatios.txt', 'w') as f:\n",
    "    for CC in [0,1,2,3,4]:\n",
    "        print(CC)\n",
    "        print(CC,file=f)\n",
    "        m=CAll.C==CC\n",
    "        print((CAll[m].groupby(['Line']).count()/len(CAll[m]))['H3'])\n",
    "        print((CAll[m].groupby(['Line']).count()/len(CAll[m]))['H3'], file=f)"
   ]
  },
  {
   "cell_type": "code",
   "execution_count": null,
   "metadata": {
    "tags": []
   },
   "outputs": [],
   "source": [
    "for NN in NamesAll:\n",
    "    Var=NN\n",
    "    TSNEVar=NN\n",
    "    cc=CAll[NN]#[mask]\n",
    "    plt.figure(figsize=(6, 5))\n",
    "    plt.scatter(X_2d[:,0],X_2d[:,1],s=2,\n",
    "                c=cc, cmap=plt.cm.seismic)\n",
    "\n",
    "    plt.colorbar()\n",
    "\n",
    "    plt.clim(cc.quantile(0.01),cc.quantile(0.99))\n",
    "    plt.title(\" \"+TSNEVar)\n",
    "    plt.savefig('Plots/Ly7_EZH2_ALLMRK_'+NN+'.png',dpi=200,bbox_inches='tight')\n",
    "\n",
    "    plt.show()"
   ]
  },
  {
   "cell_type": "code",
   "execution_count": null,
   "metadata": {},
   "outputs": [],
   "source": [
    "sns.kdeplot(C03['H4'])"
   ]
  },
  {
   "cell_type": "code",
   "execution_count": null,
   "metadata": {},
   "outputs": [],
   "source": [
    "NamekdeplotesAll.copy()\n",
    "Names.remove('H3')\n",
    "Names.remove('H3.3')\n",
    "Names.remove('H4')\n",
    "# Names.remove('H3K64ac')\n",
    "# Names.remove('H4K16ac')\n",
    "\n",
    "sns.set_style({'legend.frameon':True})\n",
    "\n",
    "dd0=np.mean(CAll[CAll.C==0][Names]).sort_values(ascending=False)\n",
    "dd1=np.mean(CAll[CAll.C==1][Names]).sort_values()\n",
    "dd2=np.mean(CAll[CAll.C==2][Names]).sort_values()\n",
    "dd3=np.mean(CAll[CAll.C==3][Names]).sort_values()\n",
    "\n",
    "\n",
    "    \n",
    "fig, ax = plt.subplots(figsize=(16,10), dpi= 80)\n",
    "ax.hlines(y=dd0.index, xmin=-5, xmax=5, color='gray', alpha=0.7, \n",
    "          linewidth=1, linestyles='dashdot')\n",
    "\n",
    "ax.scatter(y=dd0.index, x=dd0, s=100, c='blue', alpha=0.7,\n",
    "           label=0)\n",
    "ax.scatter(y=dd1.index, x=dd1, s=100, c='orange', alpha=0.7,\n",
    "           label=1)\n",
    "ax.scatter(y=dd2.index, x=dd2, s=100, c='green', alpha=0.7,\n",
    "           label=2)\n",
    "\n",
    "ax.scatter(y=dd3.index, x=dd2, s=100, c='red', alpha=0.7,\n",
    "           label=3)\n",
    "\n",
    "\n",
    "ax.vlines(x=0, ymin=0, ymax=len(dd0)-1, color='black', alpha=0.7, linewidth=2, linestyles='dotted')\n",
    "plt.legend(fontsize=30,\n",
    "           facecolor='White', framealpha=1,frameon=True,\n",
    "           bbox_to_anchor=(1.0, .50, 0.3, 0.2), loc='upper left')\n",
    "\n",
    "ax.set_title('Mean Value', fontdict={'size':30})\n",
    "#ax.set_xlim(-1.5, 1.5)\n",
    "\n",
    "labels = dd0.index.to_list()\n",
    "#labels[8]=\"H3-K27M\"\n",
    "ax.set_yticklabels(labels)\n",
    "ax.set_xlim([-2.5,2.5])\n",
    "plt.setp(ax.get_xticklabels(), fontsize=24)\n",
    "plt.setp(ax.get_yticklabels(), fontsize=24)\n",
    "\n",
    "plt.savefig('Plots/All_Pride.png',dpi=200,bbox_inches='tight')\n",
    "plt.show()"
   ]
  },
  {
   "cell_type": "code",
   "execution_count": null,
   "metadata": {},
   "outputs": [],
   "source": []
  },
  {
   "cell_type": "code",
   "execution_count": null,
   "metadata": {},
   "outputs": [],
   "source": []
  },
  {
   "cell_type": "code",
   "execution_count": null,
   "metadata": {},
   "outputs": [],
   "source": []
  },
  {
   "cell_type": "code",
   "execution_count": null,
   "metadata": {},
   "outputs": [],
   "source": []
  },
  {
   "cell_type": "code",
   "execution_count": null,
   "metadata": {},
   "outputs": [],
   "source": [
    "MRK=NamesAll.copy()\n",
    "MRK.remove('H3')\n",
    "MRK.remove('H3.3')\n",
    "MRK.remove('H4')\n",
    "\n",
    "m=(CAll.C==0)# | (CAll.C==2)\n",
    "\n",
    "MeanDist(CAll[CAll.Line=='Ly7'],CAll[(CAll.Line=='EZH2') & m],MRK,title='EZH2 WTL (Clusters 0/2) - Ly7',clr=['dodgerblue','orchid'])\n",
    "plt.savefig('Plots/Ly7_EZH2_WTL_Diff.png',dpi=200,bbox_inches='tight')\n"
   ]
  },
  {
   "cell_type": "code",
   "execution_count": null,
   "metadata": {},
   "outputs": [],
   "source": [
    "CAll.C==0"
   ]
  },
  {
   "cell_type": "code",
   "execution_count": null,
   "metadata": {},
   "outputs": [],
   "source": [
    "MRK=NamesAll.copy()\n",
    "MRK.remove('H3')\n",
    "MRK.remove('H3.3')\n",
    "MRK.remove('H4')\n",
    "m=CAll.C==2\n",
    "MeanDist(CAll[(CAll.Line=='Ly7') & m],CAll[(CAll.Line=='EZH2') & m],MRK,title='EZH2 WTL - Ly7 (Cluster 2)',clr=['dodgerblue','orchid'])\n",
    "#plt.savefig('Plots/Ly7_EZH2_Diff.png',dpi=200,bbox_inches='tight')\n"
   ]
  },
  {
   "cell_type": "code",
   "execution_count": null,
   "metadata": {},
   "outputs": [],
   "source": []
  },
  {
   "cell_type": "code",
   "execution_count": null,
   "metadata": {},
   "outputs": [],
   "source": []
  },
  {
   "cell_type": "code",
   "execution_count": null,
   "metadata": {},
   "outputs": [],
   "source": []
  },
  {
   "cell_type": "code",
   "execution_count": null,
   "metadata": {},
   "outputs": [],
   "source": []
  },
  {
   "cell_type": "code",
   "execution_count": null,
   "metadata": {},
   "outputs": [],
   "source": []
  },
  {
   "cell_type": "markdown",
   "metadata": {
    "tags": []
   },
   "source": [
    "# Ly7 UMAP"
   ]
  },
  {
   "cell_type": "code",
   "execution_count": null,
   "metadata": {},
   "outputs": [],
   "source": [
    "EPC=EpiCols.copy()\n",
    "EPC.remove('H3.3')\n",
    "EPC.remove('H3')\n",
    "EPC.remove('H4')\n",
    "EPC.append('BCL6')\n",
    "EPC.append('CD10')\n",
    "#EPC.remove('Iridium')\n",
    "CAll=C01.sample(frac=0.25,replace=False).copy()\n",
    "X_2d=draw_umap(CAll[EPC],cc=CAll['H3K27Ac'],min_dist=0.001,n_neighbors=100,rstate=42,dens=True)\n",
    "plt.show()"
   ]
  },
  {
   "cell_type": "code",
   "execution_count": null,
   "metadata": {},
   "outputs": [],
   "source": [
    "\n",
    "for NN in NamesAll:\n",
    "    Var=NN\n",
    "    TSNEVar=NN\n",
    "    cc=CAll[NN]#[mask]\n",
    "    plt.figure(figsize=(6, 5))\n",
    "    plt.scatter(X_2d[:,0],X_2d[:,1],s=2,\n",
    "                c=cc, cmap=plt.cm.seismic)\n",
    "\n",
    "    plt.colorbar()\n",
    "\n",
    "    plt.clim(cc.quantile(0.01),cc.quantile(0.99))\n",
    "    plt.title(\" \"+TSNEVar)\n",
    "#    plt.savefig('Plots/Ly7_ALLMRK_'+NN+'.png',dpi=200,bbox_inches='tight')\n",
    "\n",
    "    plt.show()"
   ]
  },
  {
   "cell_type": "code",
   "execution_count": null,
   "metadata": {},
   "outputs": [],
   "source": [
    "labels=dbscan_plot(X_2d,eps=0.09,min_samples=60)"
   ]
  },
  {
   "cell_type": "code",
   "execution_count": null,
   "metadata": {},
   "outputs": [],
   "source": [
    "CAll=CAll.assign(C=labels)"
   ]
  },
  {
   "cell_type": "code",
   "execution_count": null,
   "metadata": {},
   "outputs": [],
   "source": [
    "MRK=NamesAll.copy()\n",
    "MRK.remove('H3')\n",
    "MRK.remove('H3.3')\n",
    "MRK.remove('H4')\n",
    "MRK.remove('Iridium')\n",
    "plt.figure(figsize=(25,25))\n",
    "sns.set(font_scale=1.2)\n",
    "sns.clustermap(CAll[CAll.C==0][MRK].corr(),cmap=\"jet\", linewidths=0.2,annot_kws={\"size\": 8},vmin=-1,vmax=1,annot=True)\n",
    "plt.savefig('Plots/Ly7_Corr_Clust0.png',dpi=200,bbox_inches='tight')\n",
    "sns.clustermap(CAll[CAll.C==1][MRK].corr(),cmap=\"jet\", linewidths=0.2,annot_kws={\"size\": 8},vmin=-1,vmax=1,annot=True)\n",
    "plt.savefig('Plots/Ly7_Corr_Clust1.png',dpi=200,bbox_inches='tight')\n",
    "sns.clustermap(CAll[(CAll.C==0)|(CAll.C==1)][MRK].corr(),cmap=\"jet\", linewidths=0.2,annot_kws={\"size\": 8},vmin=-1,vmax=1,annot=True)\n",
    "plt.savefig('Plots/Ly7_Corr_Clust0_1.png',dpi=200,bbox_inches='tight')\n"
   ]
  },
  {
   "cell_type": "code",
   "execution_count": null,
   "metadata": {},
   "outputs": [],
   "source": [
    "DefStyle()\n",
    "sns.kdeplot(data=CAll[CAll.C==0],x='BCL6',y='H3K27me3',c='r')\n",
    "sns.kdeplot(data=CAll[CAll.C==1],x='BCL6',y='H3K27me3',c='b')"
   ]
  },
  {
   "cell_type": "code",
   "execution_count": null,
   "metadata": {},
   "outputs": [],
   "source": [
    "sns.clustermap(C03[MRK].corr(),cmap=\"jet\", linewidths=0.2,annot_kws={\"size\": 8},vmin=-1,vmax=1,annot=True)"
   ]
  },
  {
   "cell_type": "code",
   "execution_count": null,
   "metadata": {},
   "outputs": [],
   "source": []
  },
  {
   "cell_type": "code",
   "execution_count": null,
   "metadata": {},
   "outputs": [],
   "source": []
  },
  {
   "cell_type": "code",
   "execution_count": null,
   "metadata": {},
   "outputs": [],
   "source": []
  },
  {
   "cell_type": "code",
   "execution_count": null,
   "metadata": {},
   "outputs": [],
   "source": []
  },
  {
   "cell_type": "code",
   "execution_count": null,
   "metadata": {},
   "outputs": [],
   "source": []
  },
  {
   "cell_type": "code",
   "execution_count": null,
   "metadata": {},
   "outputs": [],
   "source": [
    "Names=NamesAll.copy()\n",
    "Names.remove('H3')\n",
    "Names.remove('H3.3')\n",
    "Names.remove('H4')\n",
    "# Names.remove('H3K64ac')\n",
    "# Names.remove('H4K16ac')\n",
    "\n",
    "sns.set_style({'legend.frameon':True})\n",
    "\n",
    "dd0=np.mean(CAll[CAll.C==0][Names]).sort_values(ascending=False)\n",
    "dd1=np.mean(CAll[CAll.C==1][Names]).sort_values()\n",
    "dd2=np.mean(CAll[CAll.C==2][Names]).sort_values()\n",
    "dd3=np.mean(CAll[CAll.C==3][Names]).sort_values()\n",
    "\n",
    "\n",
    "    \n",
    "fig, ax = plt.subplots(figsize=(16,10), dpi= 80)\n",
    "ax.hlines(y=dd0.index, xmin=-5, xmax=5, color='gray', alpha=0.7, \n",
    "          linewidth=1, linestyles='dashdot')\n",
    "\n",
    "ax.scatter(y=dd0.index, x=dd0, s=100, c='blue', alpha=0.7,\n",
    "           label=0)\n",
    "ax.scatter(y=dd1.index, x=dd1, s=100, c='orange', alpha=0.7,\n",
    "           label=1)\n",
    "ax.scatter(y=dd2.index, x=dd2, s=100, c='green', alpha=0.7,\n",
    "           label=2)\n",
    "\n",
    "ax.scatter(y=dd3.index, x=dd2, s=100, c='red', alpha=0.7,\n",
    "           label=3)\n",
    "\n",
    "\n",
    "ax.vlines(x=0, ymin=0, ymax=len(dd0)-1, color='black', alpha=0.7, linewidth=2, linestyles='dotted')\n",
    "plt.legend(fontsize=30,\n",
    "           facecolor='White', framealpha=1,frameon=True,\n",
    "           bbox_to_anchor=(1.0, .50, 0.3, 0.2), loc='upper left')\n",
    "\n",
    "ax.set_title('Mean Value', fontdict={'size':30})\n",
    "#ax.set_xlim(-1.5, 1.5)\n",
    "\n",
    "labels = dd0.index.to_list()\n",
    "#labels[8]=\"H3-K27M\"\n",
    "ax.set_yticklabels(labels)\n",
    "ax.set_xlim([-2.5,2.5])\n",
    "plt.setp(ax.get_xticklabels(), fontsize=24)\n",
    "plt.setp(ax.get_yticklabels(), fontsize=24)\n",
    "\n",
    "#plt.savefig('Plots/All_Pride.png',dpi=200,bbox_inches='tight')\n",
    "plt.show()"
   ]
  },
  {
   "cell_type": "code",
   "execution_count": null,
   "metadata": {},
   "outputs": [],
   "source": [
    "MRK=NamesAll.copy()\n",
    "MRK.remove('H3')\n",
    "MRK.remove('H3.3')\n",
    "MRK.remove('H4')\n",
    "MRK.remove('Iridium')\n",
    "plt.figure(figsize=(25,25))\n",
    "sns.set(font_scale=1.2)\n",
    "sns.clustermap(C01[MRK].corr(),cmap=\"jet\", linewidths=0.2,annot_kws={\"size\": 8},vmin=-1,vmax=1,annot=True)\n",
    "plt.savefig('Plots/Ly7_Corr.png',dpi=200,bbox_inches='tight')\n"
   ]
  },
  {
   "cell_type": "code",
   "execution_count": null,
   "metadata": {},
   "outputs": [],
   "source": [
    "DefStyle()\n",
    "\n",
    "sns.kdeplot(data=C01,x='BCL6',y='H3K27me3',s=1)\n",
    "sns.kdeplot(data=C03,x='BCL6',y='H3K27me3',s=1)"
   ]
  },
  {
   "cell_type": "code",
   "execution_count": null,
   "metadata": {},
   "outputs": [],
   "source": [
    "sns.kdeplot(C01.BCL6)"
   ]
  },
  {
   "cell_type": "code",
   "execution_count": null,
   "metadata": {},
   "outputs": [],
   "source": []
  },
  {
   "cell_type": "code",
   "execution_count": null,
   "metadata": {},
   "outputs": [],
   "source": [
    "m=labels==0"
   ]
  },
  {
   "cell_type": "code",
   "execution_count": null,
   "metadata": {},
   "outputs": [],
   "source": [
    "CAll=CAll[m]\n",
    "X_2d=X_2d[m]"
   ]
  },
  {
   "cell_type": "code",
   "execution_count": null,
   "metadata": {},
   "outputs": [],
   "source": [
    "\n",
    "%matplotlib inline\n",
    "plt.scatter(X_2d[:,0],X_2d[:,1],\n",
    "            c=CAll['BCL6'],s=1,cmap=plt.cm.seismic)\n",
    "plt.colorbar()"
   ]
  },
  {
   "cell_type": "code",
   "execution_count": null,
   "metadata": {},
   "outputs": [],
   "source": [
    "from shapely.geometry import Point\n",
    "from shapely.geometry.polygon import Polygon\n",
    "polygon = Polygon([(0.63,-3.15),\n",
    "                  (3.66,0.45),\n",
    "                  (5.22,0.38),\n",
    "                  (4.80,-03.36),\n",
    "                  (0.56,-3.57)])"
   ]
  },
  {
   "cell_type": "code",
   "execution_count": null,
   "metadata": {},
   "outputs": [],
   "source": [
    "m=CAll.BCL6>2."
   ]
  },
  {
   "cell_type": "code",
   "execution_count": null,
   "metadata": {},
   "outputs": [],
   "source": [
    "plt.figure(figsize=(6, 5))\n",
    "\n",
    "plt.scatter(X_2d[:,0],X_2d[:,1],\n",
    "            c=CAll['BCL6'],s=1,cmap=plt.cm.seismic)\n",
    "\n",
    "x,y = polygon.exterior.xy\n",
    "plt.plot(x,y)\n",
    "plt.savefig('Plots/Ly7_BCL6_Select.png',dpi=200,bbox_inches='tight')\n"
   ]
  },
  {
   "cell_type": "code",
   "execution_count": null,
   "metadata": {},
   "outputs": [],
   "source": [
    "m2=np.full_like(CAll,False)\n",
    "for i in range(len(X_2d)):\n",
    "    if polygon.contains(Point(X_2d[i,0],X_2d[i,1])):\n",
    "#        print(i,X_2d[i,0],X_2d[i,1])\n",
    "        m2[i]=True"
   ]
  },
  {
   "cell_type": "code",
   "execution_count": null,
   "metadata": {},
   "outputs": [],
   "source": [
    "m2=m2[:,0]"
   ]
  },
  {
   "cell_type": "code",
   "execution_count": null,
   "metadata": {},
   "outputs": [],
   "source": [
    "m2.sum()"
   ]
  },
  {
   "cell_type": "code",
   "execution_count": null,
   "metadata": {},
   "outputs": [],
   "source": [
    "plt.figure(figsize=(6, 5))\n",
    "\n",
    "plt.scatter(X_2d[m2==1,0],X_2d[m2==1,1],\n",
    "            c='r',s=1,cmap=plt.cm.seismic)\n",
    "plt.scatter(X_2d[m2==0,0],X_2d[m2==0,1],\n",
    "            c='b',s=1,cmap=plt.cm.seismic)"
   ]
  },
  {
   "cell_type": "code",
   "execution_count": null,
   "metadata": {},
   "outputs": [],
   "source": [
    "MRK=NamesAll.copy()\n",
    "MRK.remove('H3')\n",
    "MRK.remove('H3.3')\n",
    "MRK.remove('H4')\n",
    "MeanDist(CAll[m2==0],CAll[m2==1],MRK,title='Ly7 BCL6 High - Ly7 Rest',clr=['red','dodgerblue'])\n",
    "plt.savefig('Plots/Ly7_BCL6_Diff.png',dpi=200,bbox_inches='tight')\n"
   ]
  },
  {
   "cell_type": "code",
   "execution_count": null,
   "metadata": {},
   "outputs": [],
   "source": [
    "MRK=NamesAll.copy()\n",
    "MRK.remove('H3')\n",
    "MRK.remove('H3.3')\n",
    "MRK.remove('H4')\n",
    "MRK.remove('Irridium')\n",
    "plt.figure(figsize=(25,25))\n",
    "sns.set(font_scale=1.2)\n",
    "sns.clustermap(CAll[MRK].corr(),cmap=\"jet\", linewidths=0.2,annot_kws={\"size\": 10},vmin=-1,vmax=1,annot=True)\n",
    "plt.savefig('Plots/Ly7_Main_Corr.png',dpi=200,bbox_inches='tight')\n"
   ]
  },
  {
   "cell_type": "code",
   "execution_count": null,
   "metadata": {},
   "outputs": [],
   "source": [
    "MRK=NamesAll.copy()\n",
    "MRK.remove('H3')\n",
    "MRK.remove('H3.3')\n",
    "MRK.remove('H4')\n",
    "MRK.remove('Irridium')\n",
    "plt.figure(figsize=(25,25))\n",
    "sns.set(font_scale=1.2)\n",
    "sns.clustermap(CAll[m2==0][MRK].corr(),cmap=\"jet\", linewidths=0.2,annot_kws={\"size\": 10},vmin=-1,vmax=1,annot=True)\n",
    "plt.savefig('Plots/Ly7_Main_BCL6_Low_Corr.png',dpi=200,bbox_inches='tight')\n"
   ]
  },
  {
   "cell_type": "code",
   "execution_count": null,
   "metadata": {},
   "outputs": [],
   "source": [
    "MRK=NamesAll.copy()\n",
    "MRK.remove('H3')\n",
    "MRK.remove('H3.3')\n",
    "MRK.remove('H4')\n",
    "MRK.remove('Irridium')\n",
    "plt.figure(figsize=(25,25))\n",
    "sns.set(font_scale=1.2)\n",
    "sns.clustermap(CAll[m2==1][MRK].corr(),cmap=\"jet\", linewidths=0.2,annot_kws={\"size\": 10},vmin=-1,vmax=1,annot=True)\n",
    "plt.savefig('Plots/Ly7_Main_BCL6_High_Corr.png',dpi=200,bbox_inches='tight')\n"
   ]
  },
  {
   "cell_type": "code",
   "execution_count": null,
   "metadata": {},
   "outputs": [],
   "source": []
  },
  {
   "cell_type": "code",
   "execution_count": null,
   "metadata": {},
   "outputs": [],
   "source": []
  },
  {
   "cell_type": "code",
   "execution_count": null,
   "metadata": {},
   "outputs": [],
   "source": []
  },
  {
   "cell_type": "code",
   "execution_count": null,
   "metadata": {},
   "outputs": [],
   "source": []
  },
  {
   "cell_type": "code",
   "execution_count": null,
   "metadata": {},
   "outputs": [],
   "source": []
  },
  {
   "cell_type": "code",
   "execution_count": null,
   "metadata": {},
   "outputs": [],
   "source": []
  },
  {
   "cell_type": "code",
   "execution_count": null,
   "metadata": {},
   "outputs": [],
   "source": []
  },
  {
   "cell_type": "code",
   "execution_count": null,
   "metadata": {},
   "outputs": [],
   "source": []
  },
  {
   "cell_type": "code",
   "execution_count": null,
   "metadata": {},
   "outputs": [],
   "source": []
  },
  {
   "cell_type": "code",
   "execution_count": null,
   "metadata": {},
   "outputs": [],
   "source": []
  },
  {
   "cell_type": "code",
   "execution_count": null,
   "metadata": {},
   "outputs": [],
   "source": []
  },
  {
   "cell_type": "code",
   "execution_count": null,
   "metadata": {},
   "outputs": [],
   "source": []
  },
  {
   "cell_type": "code",
   "execution_count": null,
   "metadata": {},
   "outputs": [],
   "source": []
  },
  {
   "cell_type": "code",
   "execution_count": null,
   "metadata": {},
   "outputs": [],
   "source": []
  },
  {
   "cell_type": "code",
   "execution_count": null,
   "metadata": {},
   "outputs": [],
   "source": []
  },
  {
   "cell_type": "markdown",
   "metadata": {
    "jp-MarkdownHeadingCollapsed": true,
    "tags": []
   },
   "source": [
    "# Correlation HeatMaps"
   ]
  },
  {
   "cell_type": "code",
   "execution_count": null,
   "metadata": {},
   "outputs": [],
   "source": [
    "MRK=NamesAll.copy()\n",
    "MRK.remove('H3')\n",
    "MRK.remove('H3.3')\n",
    "MRK.remove('H4')\n",
    "MRK.remove('Irridium')\n",
    "plt.figure(figsize=(25,25))\n",
    "sns.set(font_scale=1.2)\n",
    "sns.clustermap(C13[MRK].corr(),cmap=\"jet\", linewidths=0.2,annot_kws={\"size\": 10},vmin=-1,vmax=1,annot=True)\n",
    "plt.savefig('Plots/Ly7_Corr.png',dpi=200,bbox_inches='tight')\n"
   ]
  },
  {
   "cell_type": "code",
   "execution_count": null,
   "metadata": {},
   "outputs": [],
   "source": [
    "plt.figure(figsize=(25,25))\n",
    "sns.set(font_scale=1.2)\n",
    "sns.clustermap(C14[MRK].corr(),cmap=\"jet\", linewidths=0.2,annot_kws={\"size\": 10},vmin=-1,vmax=1,annot=True)\n",
    "plt.savefig('Plots/EZH2_Corr.png',dpi=200,bbox_inches='tight')\n"
   ]
  },
  {
   "cell_type": "markdown",
   "metadata": {
    "jp-MarkdownHeadingCollapsed": true,
    "tags": []
   },
   "source": [
    "# Joint UMAPs"
   ]
  },
  {
   "cell_type": "code",
   "execution_count": null,
   "metadata": {},
   "outputs": [],
   "source": [
    "EPC=EpiCols.copy()\n",
    "EPC.remove('H3.3')\n",
    "EPC.remove('H3')\n",
    "EPC.remove('H4')\n",
    "CAll=C13.append(C14).copy()\n",
    "X_2d=draw_umap(CAll[EPC],cc=CAll['H3K27Ac'],min_dist=0.001,n_neighbors=60,rstate=42)\n",
    "plt.show()"
   ]
  },
  {
   "cell_type": "code",
   "execution_count": null,
   "metadata": {
    "tags": []
   },
   "outputs": [],
   "source": [
    "NNN=['H3','H3.3','H4','H3K27Ac']\n",
    "for NN in NNN:\n",
    "    Var=NN\n",
    "    TSNEVar=NN\n",
    "    cc=CAll[NN]#[mask]\n",
    "    plt.figure(figsize=(6, 5))\n",
    "    plt.scatter(X_2d[:,0],X_2d[:,1],s=2,\n",
    "                c=cc, cmap=plt.cm.seismic)\n",
    "\n",
    "    plt.colorbar()\n",
    "\n",
    "    plt.clim(cc.quantile(0.01),cc.quantile(0.99))\n",
    "    plt.title(\" \"+TSNEVar)\n",
    "#    plt.savefig('Plots/Ly7_EZH2_NoH3_NewNorm_'+NN+'.png',dpi=200,bbox_inches='tight')\n",
    "\n",
    "    plt.show()"
   ]
  },
  {
   "cell_type": "code",
   "execution_count": null,
   "metadata": {},
   "outputs": [],
   "source": [
    "idx=np.random.choice(range(len(CAll)),size=10000,replace=False)\n",
    "Q=CAll.iloc[idx]\n",
    "X=X_2d[idx]\n",
    "m=Q.Line=='Ly7'\n",
    "plt.figure()\n",
    "plt.scatter(X[m,0],X[m,1],c='dodgerblue',s=1)\n",
    "plt.scatter(X[~m,0],X[~m,1],c='orchid',s=1)\n",
    "#plt.savefig('Plots/Ly7_EZH2_UMAP.png',dpi=200,bbox_inches='tight')"
   ]
  },
  {
   "cell_type": "markdown",
   "metadata": {
    "tags": []
   },
   "source": [
    "# EZH2 Assignments"
   ]
  },
  {
   "cell_type": "code",
   "execution_count": null,
   "metadata": {},
   "outputs": [],
   "source": [
    "m=(X_2d[:,0]<1) & (CAll.Line=='EZH2')\n",
    "CAll[m].mean().BCL6\n",
    "EZH2_Ex=CAll[m].copy()"
   ]
  },
  {
   "cell_type": "code",
   "execution_count": null,
   "metadata": {},
   "outputs": [],
   "source": [
    "m=(X_2d[:,0]>1) & (CAll.Line=='EZH2')\n",
    "CAll[m].mean().BCL6\n",
    "EZH2_WTL=CAll[m].copy()"
   ]
  },
  {
   "cell_type": "code",
   "execution_count": null,
   "metadata": {},
   "outputs": [],
   "source": [
    "m=(X_2d[:,0]>1) & (CAll.Line=='Ly7')\n",
    "CAll[m].mean().BCL6\n",
    "Ly7=CAll[m].copy()"
   ]
  },
  {
   "cell_type": "code",
   "execution_count": null,
   "metadata": {},
   "outputs": [],
   "source": [
    "sns.kdeplot(C13.CD10)\n",
    "sns.kdeplot(C14.CD10)\n",
    "plt.yscale('log')"
   ]
  },
  {
   "cell_type": "code",
   "execution_count": null,
   "metadata": {},
   "outputs": [],
   "source": [
    "LVL=10#[1-0.997,1-0.96,1-0.68,0.95,0.997]\n",
    "sns.kdeplot(data=C14.sample(n=1000,replace=False),x='H3K27me2',y='H3K27me3',linestyles='dashed',color='red',\n",
    "           levels=LVL)\n",
    "sns.kdeplot(data=Ly7.sample(n=1000,replace=False),x='H3K27me2',y='H3K27me3',color='dodgerblue',\n",
    "           levels=LVL)\n",
    "handles = [mpatches.Patch(facecolor='red', label=\"EZH2 GOF (All)\"),\n",
    "           mpatches.Patch(facecolor='dodgerblue', label=\"Ly7\"),\n",
    "#           mpatches.Patch(facecolor='skyblue', label=\"EZH2 WT Like\")\n",
    "          ]\n",
    "plt.legend(handles=handles,\n",
    "          facecolor='White', framealpha=1,frameon=True,\n",
    "           bbox_to_anchor=(1.0, 1.0), loc='upper left')\n",
    "\n",
    "\n",
    "plt.title('Ly7/EZH2')\n",
    "#plt.savefig('Plots/C1.png',dpi=200,bbox_inches='tight')"
   ]
  },
  {
   "cell_type": "code",
   "execution_count": null,
   "metadata": {},
   "outputs": [],
   "source": [
    "import matplotlib.patches as  mpatches\n",
    "sns.kdeplot(data=Ly7.sample(n=1000,replace=False),x='H3K27me2',y='H3K27me3',color='dodgerblue',\n",
    "           levels=LVL,linestyles='dashed')\n",
    "sns.kdeplot(data=EZH2_Ex.sample(n=1000,replace=False),x='H3K27me2',y='H3K27me3',color='orchid',\n",
    "            levels=LVL)\n",
    "sns.kdeplot(data=EZH2_WTL.sample(n=1000,replace=False),x='H3K27me2',y='H3K27me3',color='skyblue',\n",
    "           levels=LVL)\n",
    "handles = [mpatches.Patch(facecolor='dodgerblue', label=\"Ly7\"),\n",
    "           mpatches.Patch(facecolor='orchid', label=\"EZH2 Extreme\"),\n",
    "           mpatches.Patch(facecolor='skyblue', label=\"EZH2 WT Like\")\n",
    "          ]\n",
    "plt.legend(handles=handles,\n",
    "          facecolor='White', framealpha=1,frameon=True,\n",
    "           bbox_to_anchor=(1.0, 1.0), loc='upper left')\n",
    "\n",
    "\n",
    "plt.title('EZH2 (Groups)/Ly7')\n",
    "#plt.savefig('Plots/C2.png',dpi=200,bbox_inches='tight')"
   ]
  },
  {
   "cell_type": "code",
   "execution_count": null,
   "metadata": {},
   "outputs": [],
   "source": [
    "print(Ly7.corr()['BCL6']['H3K27me3'])\n",
    "print(C14.corr()['BCL6']['H3K27me3'])\n",
    "print(EZH2_Ex.corr()['BCL6']['H3K27me3'])\n",
    "print(EZH2_WTL.corr()['BCL6']['H3K27me3'])"
   ]
  },
  {
   "cell_type": "code",
   "execution_count": null,
   "metadata": {},
   "outputs": [],
   "source": [
    "print(Ly7.corr()['H3K27me2']['H3K27me3'])\n",
    "print(C14.corr()['H3K27me2']['H3K27me3'])\n",
    "print(EZH2_Ex.corr()['H3K27me2']['H3K27me3'])\n",
    "print(EZH2_WTL.corr()['H3K27me2']['H3K27me3'])"
   ]
  },
  {
   "cell_type": "code",
   "execution_count": null,
   "metadata": {},
   "outputs": [],
   "source": []
  },
  {
   "cell_type": "code",
   "execution_count": null,
   "metadata": {},
   "outputs": [],
   "source": [
    "MRK=NamesAll.copy()\n",
    "MRK.remove('H3')\n",
    "MRK.remove('H3.3')\n",
    "MRK.remove('H4')\n",
    "plt.figure(figsize=(25,25))\n",
    "sns.set(font_scale=1.2)\n",
    "sns.clustermap(EZH2_WTL[MRK].corr(),cmap=\"jet\", linewidths=0.2,annot_kws={\"size\": 10},vmin=-1,vmax=1,annot=True)\n",
    "plt.savefig('Plots/EZH2_WTL_Corr.png',dpi=200,bbox_inches='tight')\n"
   ]
  },
  {
   "cell_type": "code",
   "execution_count": null,
   "metadata": {},
   "outputs": [],
   "source": [
    "plt.figure(figsize=(25,25))\n",
    "sns.set(font_scale=1.2)\n",
    "sns.clustermap(EZH2_Ex[MRK].corr(),cmap=\"jet\", linewidths=0.2,annot_kws={\"size\": 10},vmin=-1,vmax=1,annot=True)\n",
    "plt.savefig('Plots/EZH2_Ex_Corr.png',dpi=200,bbox_inches='tight')"
   ]
  },
  {
   "cell_type": "code",
   "execution_count": null,
   "metadata": {},
   "outputs": [],
   "source": [
    "DefStyle()\n",
    "sns.kdeplot(EZH2_Ex.H3K27me2,c='r')\n",
    "sns.kdeplot(EZH2_WTL.H3K27me2,c='b')\n",
    "#plt.yscale('log')"
   ]
  },
  {
   "cell_type": "code",
   "execution_count": null,
   "metadata": {},
   "outputs": [],
   "source": [
    "len(EZH2_WTL)/(len(EZH2_WTL)+len(EZH2_Ex))"
   ]
  },
  {
   "cell_type": "code",
   "execution_count": null,
   "metadata": {},
   "outputs": [],
   "source": []
  },
  {
   "cell_type": "code",
   "execution_count": null,
   "metadata": {},
   "outputs": [],
   "source": []
  },
  {
   "cell_type": "markdown",
   "metadata": {
    "tags": []
   },
   "source": [
    "# Diff Plots\n"
   ]
  },
  {
   "cell_type": "code",
   "execution_count": null,
   "metadata": {},
   "outputs": [],
   "source": [
    "MRK=NamesAll.copy()\n",
    "MRK.remove('H3')\n",
    "MRK.remove('H3.3')\n",
    "MRK.remove('H4')\n",
    "MeanDist(C13,C14,MRK,title='EZH2 - Ly7',clr=['dodgerblue','orchid'])\n",
    "plt.savefig('Plots/Diff1.png',dpi=200,bbox_inches='tight')"
   ]
  },
  {
   "cell_type": "code",
   "execution_count": null,
   "metadata": {},
   "outputs": [],
   "source": [
    "MeanDist(EZH2_WTL,EZH2_Ex,MRK,title='EZH2 Ex - EZH2 WT Like',clr=['skyblue','orchid'])\n",
    "plt.savefig('Plots/Diff2.png',dpi=200,bbox_inches='tight')"
   ]
  },
  {
   "cell_type": "code",
   "execution_count": null,
   "metadata": {},
   "outputs": [],
   "source": [
    "MeanDist(Ly7,EZH2_WTL,MRK,title='EZH2 WT Like - Ly7',clr=['dodgerblue','skyblue'])\n",
    "plt.savefig('Plots/Diff3.png',dpi=200,bbox_inches='tight')"
   ]
  },
  {
   "cell_type": "code",
   "execution_count": null,
   "metadata": {},
   "outputs": [],
   "source": [
    "MeanDist(Ly7,EZH2_Ex,MRK,title='EZH2 Ex - Ly7',clr=['dodgerblue','orchid'])\n",
    "plt.savefig('Plots/Diff4.png',dpi=200,bbox_inches='tight')"
   ]
  },
  {
   "cell_type": "code",
   "execution_count": null,
   "metadata": {},
   "outputs": [],
   "source": [
    "Names=EpiCols.copy()\n",
    "Names.remove('H3')\n",
    "Names.remove('H3.3')\n",
    "Names.remove('H4')\n",
    "# Names.remove('H3K64ac')\n",
    "# Names.remove('H4K16ac')\n",
    "\n",
    "sns.set_style({'legend.frameon':True})\n",
    "\n",
    "dd0=np.mean(Ly7[MRK]).sort_values(ascending=False)\n",
    "dd1=np.mean(EZH2_Ex[MRK]).sort_values()\n",
    "dd2=np.mean(EZH2_WTL[MRK]).sort_values()\n",
    "\n",
    "sz0=np.full(len(dd0),0,dtype=np.float64)\n",
    "sz1=np.full(len(dd1),0,dtype=np.float64)\n",
    "sz2=np.full(len(dd2),0,dtype=np.float64)\n",
    "\n",
    "#dd0=dd0-dd0\n",
    "dd1=dd1-dd0\n",
    "dd2=dd2-dd0\n",
    "\n",
    "\n",
    "LabDict={}\n",
    "LabDict['Ly7']='Ly7'\n",
    "LabDict['EZH2_Ex']='EZH2_Ex'\n",
    "LabDict['EZH2_WTL']='EZH2_WTL'\n",
    "    \n",
    "fig, ax = plt.subplots(figsize=(16,10), dpi= 80)\n",
    "ax.hlines(y=dd0.index, xmin=-5, xmax=5, color='gray', alpha=0.7, \n",
    "          linewidth=1, linestyles='dashdot')\n",
    "\n",
    "ax.scatter(y=dd0.index, x=dd0, s=100, c='dodgerblue', alpha=0.7,\n",
    "           label=LabDict[\"Ly7\"],)\n",
    "ax.scatter(y=dd1.index, x=dd1, s=100, c='orchid', alpha=0.7,\n",
    "           label=LabDict[\"EZH2_Ex\"],)\n",
    "ax.scatter(y=dd2.index, x=dd2, s=100, c='skyblue', alpha=0.7,\n",
    "           label=LabDict[\"EZH2_WTL\"],)\n",
    "\n",
    "\n",
    "\n",
    "ax.vlines(x=0, ymin=0, ymax=len(dd0)-1, color='black', alpha=0.7, linewidth=2, linestyles='dotted')\n",
    "plt.legend(fontsize=30,\n",
    "           facecolor='White', framealpha=1,frameon=True,\n",
    "           bbox_to_anchor=(1.0, .50, 0.3, 0.2), loc='upper left')\n",
    "\n",
    "ax.set_title('Mean Value', fontdict={'size':30})\n",
    "#ax.set_xlim(-1.5, 1.5)\n",
    "\n",
    "labels = dd0.index.to_list()\n",
    "#labels[8]=\"H3-K27M\"\n",
    "ax.set_yticklabels(labels)\n",
    "ax.set_xlim([-2.5,2.5])\n",
    "plt.setp(ax.get_xticklabels(), fontsize=24)\n",
    "plt.setp(ax.get_yticklabels(), fontsize=24)\n",
    "\n",
    "plt.savefig('Plots/All_Means.png',dpi=200,bbox_inches='tight')\n",
    "plt.show()"
   ]
  },
  {
   "cell_type": "code",
   "execution_count": null,
   "metadata": {
    "tags": []
   },
   "outputs": [],
   "source": [
    "sns.kdeplot(data=C14.sample(n=10000,replace=False),x='BCL6',y='H3K27me3',color='orchid',label='EZH2')\n",
    "sns.kdeplot(data=C13.sample(n=10000,replace=False),x='BCL6',y='H3K27me3',color='dodgerblue',label='Ly7')\n",
    "#plt.legend(markerscale=5)\n",
    "plt.ylim([-4,3])\n",
    "plt.xlim([-3,3])\n",
    "plt.title('EZH2 (All)/Ly7')\n",
    "plt.savefig('Plots/Contours_EZH2_Ly7.png',dpi=200,bbox_inches='tight')\n"
   ]
  },
  {
   "cell_type": "code",
   "execution_count": null,
   "metadata": {},
   "outputs": [],
   "source": [
    "sns.kdeplot(data=EZH2_Ex.sample(n=10000,replace=False),x='BCL6',y='H3K27me3',color='orchid',label='EZH2')\n",
    "sns.kdeplot(data=EZH2_WTL.sample(n=10000,replace=False),x='BCL6',y='H3K27me3',color='skyblue',label='Ly7')\n",
    "sns.kdeplot(data=C13.sample(n=10000,replace=False),x='BCL6',y='H3K27me3',color='dodgerblue',label='Ly7')\n",
    "#plt.legend(markerscale=5)\n",
    "\n",
    "plt.ylim([-4,4])\n",
    "plt.xlim([-4,4])\n",
    "plt.savefig('Plots/Contours_EZh2_SubPop_Ly7.png',dpi=200,bbox_inches='tight')"
   ]
  },
  {
   "cell_type": "code",
   "execution_count": null,
   "metadata": {},
   "outputs": [],
   "source": [
    "sns.kdeplot(data=C13.sample(n=10000,replace=False),x='BCL6',y='H3K27me3',color='dodgerblue',label='Ly7')\n",
    "sns.kdeplot(data=Ly7.sample(n=10000,replace=False),x='BCL6',y='H3K27me3',color='blue',label='Ly7')"
   ]
  },
  {
   "cell_type": "code",
   "execution_count": null,
   "metadata": {},
   "outputs": [],
   "source": [
    "sns.kdeplot(Ly7.BCL6)\n",
    "Q=np.quantile(Ly7.BCL6,q=1-.1365)\n",
    "plt.plot([Q,Q],[0,0.4])\n",
    "plt.yscale('log')"
   ]
  },
  {
   "cell_type": "code",
   "execution_count": null,
   "metadata": {},
   "outputs": [],
   "source": [
    "A=C14.sample(n=10000).assign(group='A').copy()\n",
    "B=EZH2_Ex.sample(n=10000).assign(group='B').copy()\n",
    "C=EZH2_WTL.sample(n=10000).assign(group='C').copy()"
   ]
  },
  {
   "cell_type": "code",
   "execution_count": null,
   "metadata": {},
   "outputs": [],
   "source": [
    "D=A.append(B).append(C).copy()"
   ]
  },
  {
   "cell_type": "code",
   "execution_count": null,
   "metadata": {},
   "outputs": [],
   "source": [
    "DefStyle()\n",
    "sns.scatterplot(data=C14.sample(n=10000),x='BCL6',y='H3K27me3',color='r')\n",
    "sns.scatterplot(data=EZH2_Ex.sample(n=10000),x='BCL6',y='H3K27me3',color='b',s=2)\n",
    "sns.scatterplot(data=EZH2_WTL.sample(n=10000),x='BCL6',y='H3K27me3',color='g',s=2)"
   ]
  },
  {
   "cell_type": "code",
   "execution_count": null,
   "metadata": {},
   "outputs": [],
   "source": [
    "DefStyle()\n",
    "sns.scatterplot(data=C14.sample(n=10000),x='H3K27me2',y='H3K27me3',color='r')\n",
    "sns.scatterplot(data=EZH2_Ex.sample(n=10000),x='H3K27me2',y='H3K27me3',color='b',s=2)\n",
    "sns.scatterplot(data=EZH2_WTL.sample(n=10000),x='H3K27me2',y='H3K27me3',color='g',s=2)"
   ]
  },
  {
   "cell_type": "code",
   "execution_count": null,
   "metadata": {
    "tags": []
   },
   "outputs": [],
   "source": [
    "sns.kdeplot(data=EZH2_Ex.sample(n=10000,replace=False),x='BCL6',y='H3K27me3',color='orchid',label='EZH2')\n",
    "sns.kdeplot(data=EZH2_WTL.sample(n=10000,replace=False),x='BCL6',y='H3K27me3',color='skyblue',label='Ly7')\n",
    "sns.kdeplot(data=C14.sample(n=10000,replace=False),x='BCL6',y='H3K27me3',color='dodgerblue',label='Ly7')"
   ]
  },
  {
   "cell_type": "code",
   "execution_count": null,
   "metadata": {},
   "outputs": [],
   "source": []
  },
  {
   "cell_type": "code",
   "execution_count": null,
   "metadata": {},
   "outputs": [],
   "source": []
  },
  {
   "cell_type": "code",
   "execution_count": null,
   "metadata": {},
   "outputs": [],
   "source": [
    "sns.kdeplot(data=C14.sample(n=30000,replace=False),x='BCL6',y='CD10',color='orchid',label='EZH2')\n",
    "sns.kdeplot(data=C13.sample(n=30000,replace=False),x='BCL6',y='CD10',color='dodgerblue',label='Ly7')\n",
    "#plt.legend(markerscale=5)\n",
    "\n",
    "plt.savefig('Plots/Contours2.png',dpi=200,bbox_inches='tight')\n"
   ]
  },
  {
   "cell_type": "code",
   "execution_count": null,
   "metadata": {},
   "outputs": [],
   "source": [
    "Q15=np.quantile(Ly7.BCL6,q=0.85)\n"
   ]
  },
  {
   "cell_type": "code",
   "execution_count": null,
   "metadata": {},
   "outputs": [],
   "source": [
    "m=Ly7.BCL6>Q15"
   ]
  },
  {
   "cell_type": "code",
   "execution_count": null,
   "metadata": {},
   "outputs": [],
   "source": [
    "MeanDist(Ly7[~m],Ly7[m],MRK,title='Ly7 High 15% BCL6 - Ly7',clr=['dodgerblue','indigo'])\n",
    "#plt.savefig('Plots/Ly7_HighBCL6_vs_Rest.png',dpi=200,bbox_inches='tight')\n"
   ]
  },
  {
   "cell_type": "code",
   "execution_count": null,
   "metadata": {},
   "outputs": [],
   "source": [
    "Q15=np.quantile(Ly7.CD10,q=0.15)\n",
    "m=Ly7.CD10<Q15"
   ]
  },
  {
   "cell_type": "code",
   "execution_count": null,
   "metadata": {},
   "outputs": [],
   "source": [
    "MeanDist(Ly7[~m],Ly7[m],MRK,title='Ly7 Low 15% CD10 - Ly7',clr=['dodgerblue','indigo'])\n",
    "plt.savefig('Plots/Ly7_LowCD10_vs_Rest.png',dpi=200,bbox_inches='tight')\n"
   ]
  },
  {
   "cell_type": "code",
   "execution_count": null,
   "metadata": {},
   "outputs": [],
   "source": [
    "sns.kdeplot(data=EZH2_Ex.sample(n=10000,replace=False),x='CD10',y='H3K27me3',color='orchid',label='EZH2')\n",
    "sns.kdeplot(data=EZH2_WTL.sample(n=10000,replace=False),x='CD10',y='H3K27me3',color='skyblue',label='Ly7')\n",
    "sns.kdeplot(data=Ly7.sample(n=10000,replace=False),x='CD10',y='H3K27me3',color='dodgerblue',label='Ly7')\n",
    "#plt.legend(markerscale=5)\n",
    "\n",
    "plt.ylim([-4,4])\n",
    "plt.xlim([-4,4])\n",
    "plt.savefig('Plots/Contours1_1.png',dpi=200,bbox_inches='tight')"
   ]
  },
  {
   "cell_type": "code",
   "execution_count": null,
   "metadata": {},
   "outputs": [],
   "source": [
    "sns.kdeplot(data=EZH2_Ex.sample(n=10000,replace=False),x='CD10',y='H3K27Ac',color='orchid',label='EZH2')\n",
    "sns.kdeplot(data=EZH2_WTL.sample(n=10000,replace=False),x='CD10',y='H3K27Ac',color='skyblue',label='Ly7')\n",
    "sns.kdeplot(data=Ly7.sample(n=10000,replace=False),x='CD10',y='H3K27Ac',color='dodgerblue',label='Ly7')\n",
    "#plt.legend(markerscale=5)\n",
    "\n",
    "plt.ylim([-4,4])\n",
    "plt.xlim([-4,4])\n",
    "plt.savefig('Plots/Contours1_2.png',dpi=200,bbox_inches='tight')"
   ]
  },
  {
   "cell_type": "code",
   "execution_count": null,
   "metadata": {},
   "outputs": [],
   "source": [
    "sns.kdeplot(data=EZH2_Ex.sample(n=10000,replace=False),x='BCL6',y='H3K27Ac',color='orchid',label='EZH2')\n",
    "sns.kdeplot(data=EZH2_WTL.sample(n=10000,replace=False),x='BCL6',y='H3K27Ac',color='skyblue',label='Ly7')\n",
    "sns.kdeplot(data=Ly7.sample(n=10000,replace=False),x='BCL6',y='H3K27Ac',color='dodgerblue',label='Ly7',zorder=0)\n",
    "#plt.legend(markerscale=5)\n",
    "\n",
    "plt.ylim([-4,4])\n",
    "plt.xlim([-4,4])\n",
    "plt.savefig('Plots/Contours1_3.png',dpi=200,bbox_inches='tight')"
   ]
  },
  {
   "cell_type": "code",
   "execution_count": null,
   "metadata": {},
   "outputs": [],
   "source": [
    "#sns.kdeplot(data=EZH2_Ex.sample(n=10000,replace=False),x='BCL6',y='H3K27Ac',color='orchid',label='EZH2')\n",
    "sns.kdeplot(data=EZH2_WTL.sample(n=10000,replace=False),x='BCL6',y='H3K27Ac',color='skyblue',label='Ly7')\n",
    "sns.kdeplot(data=Ly7.sample(n=10000,replace=False),x='BCL6',y='H3K27Ac',color='dodgerblue',label='Ly7',zorder=0)\n",
    "#plt.legend(markerscale=5)\n",
    "\n",
    "plt.ylim([-4,4])\n",
    "plt.xlim([-4,4])\n",
    "plt.savefig('Plots/Contours1_4.png',dpi=200,bbox_inches='tight')"
   ]
  },
  {
   "cell_type": "code",
   "execution_count": null,
   "metadata": {},
   "outputs": [],
   "source": [
    "sns.kdeplot(data=EZH2_Ex.sample(n=10000,replace=False),x='BCL6',y='H3K27Ac',color='orchid',label='EZH2')\n",
    "sns.kdeplot(data=EZH2_WTL.sample(n=10000,replace=False),x='BCL6',y='H3K27Ac',color='skyblue',label='Ly7')\n",
    "#sns.kdeplot(data=Ly7.sample(n=10000,replace=False),x='BCL6',y='H3K27Ac',color='dodgerblue',label='Ly7',zorder=0)\n",
    "#plt.legend(markerscale=5)\n",
    "\n",
    "plt.ylim([-4,4])\n",
    "plt.xlim([-4,4])\n",
    "plt.savefig('Plots/Contours1_5.png',dpi=200,bbox_inches='tight')"
   ]
  },
  {
   "cell_type": "code",
   "execution_count": null,
   "metadata": {},
   "outputs": [],
   "source": [
    "# UMAP Just WTL EZH2 and WT Ly7\n",
    "CAll=EZH2_WTL.append(Ly7).copy()"
   ]
  },
  {
   "cell_type": "code",
   "execution_count": null,
   "metadata": {},
   "outputs": [],
   "source": [
    "Q=CAll.sample(frac=1,replace=False).copy()\n",
    "X_2d=draw_umap(Q[EpiCols],cc=Q['H3K27Ac'],min_dist=0.00001,n_neighbors=60,rstate=42)\n",
    "plt.show()"
   ]
  },
  {
   "cell_type": "code",
   "execution_count": null,
   "metadata": {},
   "outputs": [],
   "source": [
    "m=Q.Line=='Ly7'\n",
    "plt.scatter(X_2d[m,0],X_2d[m,1],c='dodgerblue',s=1,label='Ly7')\n",
    "\n",
    "plt.scatter(X_2d[~m,0],X_2d[~m,1],c='skyblue',s=1,label='EZH2 WTL')\n",
    "plt.legend(markerscale=10,bbox_to_anchor=(1.1, 1.05))\n",
    "plt.title('UMAP Ly7/EZH2-WTL')"
   ]
  },
  {
   "cell_type": "markdown",
   "metadata": {
    "jp-MarkdownHeadingCollapsed": true,
    "tags": []
   },
   "source": [
    "# EZH2 UMAP"
   ]
  },
  {
   "cell_type": "code",
   "execution_count": null,
   "metadata": {},
   "outputs": [],
   "source": [
    "EPC=EpiCols.copy()\n",
    "EPC.remove('H3.3')\n",
    "EPC.remove('H3')\n",
    "EPC.remove('H4')\n",
    "CAll=C14.copy()\n",
    "X_2d=draw_umap(CAll[EPC],cc=CAll['H3K27Ac'],min_dist=0.001,n_neighbors=60,rstate=42)\n",
    "plt.show()"
   ]
  },
  {
   "cell_type": "code",
   "execution_count": null,
   "metadata": {},
   "outputs": [],
   "source": [
    "for NN in NamesAll:\n",
    "    Var=NN\n",
    "    TSNEVar=NN\n",
    "    cc=CAll[NN]#[mask]\n",
    "    plt.figure(figsize=(6, 5))\n",
    "    plt.scatter(X_2d[:,0],X_2d[:,1],s=2,\n",
    "                c=cc, cmap=plt.cm.seismic)\n",
    "\n",
    "    plt.colorbar()\n",
    "\n",
    "    plt.clim(cc.quantile(0.01),cc.quantile(0.99))\n",
    "    plt.title(\" \"+TSNEVar)\n",
    "    plt.savefig('Plots/EZH2_NoH3_NewNorm_'+NN+'.png',dpi=200,bbox_inches='tight')\n",
    "\n",
    "    plt.show()"
   ]
  },
  {
   "cell_type": "code",
   "execution_count": null,
   "metadata": {},
   "outputs": [],
   "source": []
  },
  {
   "cell_type": "code",
   "execution_count": null,
   "metadata": {},
   "outputs": [],
   "source": []
  },
  {
   "cell_type": "code",
   "execution_count": null,
   "metadata": {},
   "outputs": [],
   "source": []
  },
  {
   "cell_type": "code",
   "execution_count": null,
   "metadata": {},
   "outputs": [],
   "source": []
  },
  {
   "cell_type": "markdown",
   "metadata": {
    "tags": []
   },
   "source": [
    "# Other"
   ]
  },
  {
   "cell_type": "code",
   "execution_count": null,
   "metadata": {},
   "outputs": [],
   "source": [
    "print(\"Ly7 - STD\")\n",
    "print('----')\n",
    "print(Ly7.std())\n",
    "print(\"EZH2 - STD\")\n",
    "print('----')\n",
    "print(EZH2_Ex.append(EZH2_WTL).std())\n"
   ]
  },
  {
   "cell_type": "markdown",
   "metadata": {},
   "source": [
    "# Try clustering without UMAP - Use Agg clustering and silouette score"
   ]
  },
  {
   "cell_type": "code",
   "execution_count": null,
   "metadata": {},
   "outputs": [],
   "source": [
    "from sklearn.metrics import silhouette_samples,silhouette_score"
   ]
  },
  {
   "cell_type": "code",
   "execution_count": null,
   "metadata": {},
   "outputs": [],
   "source": [
    "Cls=AgglomerativeClustering(2)"
   ]
  },
  {
   "cell_type": "code",
   "execution_count": null,
   "metadata": {},
   "outputs": [],
   "source": [
    "CAll=pd.concat([C13,C14]).sample(n=5000,replace=False).copy()"
   ]
  },
  {
   "cell_type": "code",
   "execution_count": null,
   "metadata": {},
   "outputs": [],
   "source": [
    "EPC=NamesAll.copy()\n",
    "EPC.remove('H3.3')\n",
    "EPC.remove('H3')\n",
    "EPC.remove('H4')\n",
    "lab=Cls.fit_predict(CAll[EPC])"
   ]
  },
  {
   "cell_type": "code",
   "execution_count": null,
   "metadata": {},
   "outputs": [],
   "source": [
    "from sklearn.cluster import MiniBatchKMeans\n",
    "from sklearn.neighbors import kneighbors_graph"
   ]
  },
  {
   "cell_type": "code",
   "execution_count": null,
   "metadata": {},
   "outputs": [],
   "source": [
    "A=kneighbors_graph(CAll[EPC],n_neighbors=10)"
   ]
  },
  {
   "cell_type": "code",
   "execution_count": null,
   "metadata": {},
   "outputs": [],
   "source": [
    "Cls.fit_predict(CAll[EPC])"
   ]
  },
  {
   "cell_type": "code",
   "execution_count": null,
   "metadata": {},
   "outputs": [],
   "source": [
    "T=10\n",
    "x=range(4,12)\n",
    "SS=np.full((T,8),0.)\n",
    "for j in range(T):\n",
    "    print(j)\n",
    "    CAll=pd.concat([C13,C14]).sample(n=2000,replace=False).copy()\n",
    "    A=kneighbors_graph(CAll[EPC],n_neighbors=10)\n",
    "    for i in range (4,12):\n",
    "\n",
    "        #Cls=MiniBatchKMeans(i)\n",
    "        Cls=AgglomerativeClustering(i,connectivity=A)\n",
    "        lab=Cls.fit_predict(CAll[EPC])\n",
    "        s=silhouette_score(CAll[EPC],lab)\n",
    "#        print(j,i-4,s)\n",
    "        SS[j,i-4]=s\n",
    "        "
   ]
  },
  {
   "cell_type": "code",
   "execution_count": null,
   "metadata": {},
   "outputs": [],
   "source": [
    "plt.errorbar(x,SS.mean(axis=0),yerr=SS.std(axis=0))"
   ]
  },
  {
   "cell_type": "code",
   "execution_count": null,
   "metadata": {},
   "outputs": [],
   "source": [
    "from castle.common import GraphDAG\n",
    "from castle.metrics import MetricsDAG\n",
    "from castle.datasets import IIDSimulation, DAG\n",
    "from castle.algorithms import PC,Notears,GOLEM,ANMNonlinear,DirectLiNGAM,ICALiNGAM,NotearsLowRank\n",
    "\n",
    "# data simulation, simulate true casal dag and train_data.\n",
    "weighted_random_dag = DAG.erdos_renyi(n_nodes=10, n_edges=10,\n",
    "                                      weight_range=(0.5, 2.0), seed=1)\n",
    "dataset = IIDSimulation(W=weighted_random_dag, n=2000, method='linear',\n",
    "                        sem_type='gauss')"
   ]
  },
  {
   "cell_type": "code",
   "execution_count": null,
   "metadata": {
    "tags": []
   },
   "outputs": [],
   "source": [
    "# data simulation, simulate true causal dag and train_data.\n",
    "\n",
    "#dataset = IIDSimulation(W=weighted_random_dag, n=20000, method='linear',\n",
    "                      #  sem_type='gauss')\n",
    "#true_causal_matrix, X = dataset.B, dataset.X\n",
    "VV=['H3K27me3','BCL6','H3K27me2','EZH2',]\n",
    "\n",
    "VV2=[\n",
    " 'H3K27me2',\n",
    " 'EZH2',\n",
    " 'H3K4me3',\n",
    " 'pH2Ax',\n",
    " 'H3K36me2',\n",
    " 'H3K9me2',\n",
    " 'H4K16Ac',\n",
    " 'H2AK119Ub',\n",
    " 'H3K4me1',\n",
    " 'H3K64Ac',\n",
    " 'H3K27Ac',\n",
    " 'H4K20me3',\n",
    " 'BCL6',\n",
    " 'H3K27me3',\n",
    " 'H3K9Ac',\n",
    " 'H3K9me3',\n",
    " ]\n",
    "\n",
    "# structure learning\n",
    "pc = PC()\n",
    "g = GOLEM()\n",
    "#g.learn(X)\n",
    "\n",
    "# plot predict_dag and true_dag\n",
    "#GraphDAG(g.causal_matrix)#, true_causal_matrix)\n",
    "\n",
    "# calculate metrics\n",
    "#mt = MetricsDAG(pc.causal_matrix)#, true_causal_matrix)\n",
    "#print(mt.metrics)"
   ]
  },
  {
   "cell_type": "code",
   "execution_count": null,
   "metadata": {},
   "outputs": [],
   "source": [
    "B=np.random.normal(0,1,size=1000)+np.random.normal(0,0.1,size=1000)\n",
    "C=np.random.uniform(0,1,size=1000)+np.random.normal(0,0.2,size=1000)\n",
    "D=np.random.exponential(1,size=1000)+0.1*B\n",
    "A=D+C+np.random.normal(0,0.5,size=1000)"
   ]
  },
  {
   "cell_type": "code",
   "execution_count": null,
   "metadata": {},
   "outputs": [],
   "source": [
    "X=pd.DataFrame(np.asarray([A,B,C,D]).T)\n",
    "X=C01[VV2].sample(n=1000,replace=False).copy()"
   ]
  },
  {
   "cell_type": "code",
   "execution_count": null,
   "metadata": {},
   "outputs": [],
   "source": [
    "g=GOLEM(num_iter=25000,non_equal_variances=True,graph_thres=0.0,lambda_1=0,lambda_2=0)\n",
    "g=Notears(w_threshold=0.01,lambda1=0.01,h_tol=1e-6)\n",
    "#g=NotearsLowRank(w_threshold=0.01)\n",
    "#g=ICALiNGAM(thresh=0)\n",
    "g.learn(X,)#C01[VV].sample(frac=0.1,replace=False))\n",
    "GraphDAG(g.causal_matrix)\n",
    "AdMat=np.asarray(g.causal_matrix)"
   ]
  },
  {
   "cell_type": "code",
   "execution_count": null,
   "metadata": {},
   "outputs": [],
   "source": [
    "import networkx as nx"
   ]
  },
  {
   "cell_type": "code",
   "execution_count": null,
   "metadata": {},
   "outputs": [],
   "source": [
    "Col=VV2#['A','B','C','D']\n",
    "G=nx.DiGraph()\n",
    "for C in Col:\n",
    "    G.add_node(C)\n",
    "\n",
    "for i,Row in enumerate(AdMat):\n",
    "    for j,C in enumerate(Row):\n",
    "        if C==1:\n",
    "            G.add_edge(Col[i],Col[j])"
   ]
  },
  {
   "cell_type": "code",
   "execution_count": null,
   "metadata": {},
   "outputs": [],
   "source": [
    "nx.draw(G,with_labels=True)"
   ]
  },
  {
   "cell_type": "code",
   "execution_count": null,
   "metadata": {},
   "outputs": [],
   "source": [
    "import networkx\n",
    "import pydot\n",
    "\n",
    "# See NetworkX documentation on how to build a NetworkX graph.\n",
    "\n",
    "graph = networkx.drawing.nx_pydot.to_pydot(G)\n"
   ]
  },
  {
   "cell_type": "code",
   "execution_count": null,
   "metadata": {},
   "outputs": [],
   "source": [
    "from IPython.display import Image, display\n",
    "\n",
    "def view_pydot(pdot):\n",
    "    plt = Image(pdot.create_png())\n",
    "    display(plt)\n"
   ]
  },
  {
   "cell_type": "code",
   "execution_count": null,
   "metadata": {},
   "outputs": [],
   "source": [
    "view_pydot(graph)"
   ]
  },
  {
   "cell_type": "code",
   "execution_count": null,
   "metadata": {
    "tags": []
   },
   "outputs": [],
   "source": [
    "Mat=[]\n",
    "g=Notears(w_threshold=0.01,lambda1=0.01,h_tol=1e-5,)\n",
    "\n",
    "for H in tqdm(range(50)):\n",
    "    X=C01[VV2].sample(n=2000,replace=False).copy()\n",
    "    g.learn(X,verbose=False)#C01[VV].sample(frac=0.1,replace=False))\n",
    "    Mat.append(g.causal_matrix)"
   ]
  },
  {
   "cell_type": "code",
   "execution_count": null,
   "metadata": {},
   "outputs": [],
   "source": [
    "AdMat=np.asarray(Mat).mean(axis=0)\n",
    "AdMatS=np.asarray(Mat).std(axis=0)"
   ]
  },
  {
   "cell_type": "code",
   "execution_count": null,
   "metadata": {},
   "outputs": [],
   "source": [
    "Col=VV2#['A','B','C','D']\n",
    "G=nx.DiGraph()\n",
    "Alph=[]\n",
    "for C in Col:\n",
    "    G.add_node(C)\n",
    "\n",
    "for i,Row in enumerate(AdMat):    \n",
    "    for j,C in enumerate(Row):\n",
    "        S=AdMatS[i,j]\n",
    "        if (C>0.1):\n",
    "            if (C/S)>3:\n",
    "                G.add_edge(Col[i],Col[j],penwidth=C*2,weight=C*10,color='blue',label=str(C)+'+/-'+str(round(S,2)))\n",
    "    #            G.add_weighted_edges_from([(Col[i],Col[j],C)]) \n",
    "                Alph.append(C)\n",
    "graph = networkx.drawing.nx_pydot.to_pydot(G)\n",
    "view_pydot(graph)"
   ]
  },
  {
   "cell_type": "code",
   "execution_count": null,
   "metadata": {},
   "outputs": [],
   "source": [
    "pos = nx.nx_pydot.pydot_layout(G, prog=\"dot\")"
   ]
  },
  {
   "cell_type": "code",
   "execution_count": null,
   "metadata": {},
   "outputs": [],
   "source": [
    "\n",
    "to_pdot = nx.drawing.nx_pydot.to_pydot\n",
    "pdot = to_pdot(G)"
   ]
  },
  {
   "cell_type": "code",
   "execution_count": null,
   "metadata": {},
   "outputs": [],
   "source": [
    "view_pydot(pdot)"
   ]
  },
  {
   "cell_type": "code",
   "execution_count": null,
   "metadata": {},
   "outputs": [],
   "source": []
  },
  {
   "cell_type": "code",
   "execution_count": null,
   "metadata": {},
   "outputs": [],
   "source": []
  },
  {
   "cell_type": "code",
   "execution_count": null,
   "metadata": {},
   "outputs": [],
   "source": [
    "import sys\n",
    "sys.path.insert(0, '~/Dropbox/Work/CyTOF_Lymphoma/notears')\n",
    "#import notears\n",
    "import notears.notears as notears"
   ]
  },
  {
   "cell_type": "code",
   "execution_count": null,
   "metadata": {},
   "outputs": [],
   "source": [
    "num_nodes = 10\n",
    "num_edges = 10\n",
    "edge_coefficient_range = [0.5, 2.0]\n",
    "\n",
    "true_adj_mat, _ = notears.utils.generate_random_dag(num_nodes, num_edges, edge_coefficient_range=edge_coefficient_range)\n"
   ]
  },
  {
   "cell_type": "code",
   "execution_count": null,
   "metadata": {},
   "outputs": [],
   "source": [
    "n_sample = 1000\n",
    "\n",
    "data = notears.utils.simulate_from_dag_lg(true_adj_mat, n_sample, mean=0, variance=1)\n"
   ]
  },
  {
   "cell_type": "code",
   "execution_count": null,
   "metadata": {},
   "outputs": [],
   "source": [
    "output_dict = notears.run(notears.notears_standard, X, notears.loss.least_squares_loss, notears.loss.least_squares_loss_grad, e=1e-6, verbose=True)"
   ]
  },
  {
   "cell_type": "code",
   "execution_count": null,
   "metadata": {},
   "outputs": [],
   "source": [
    "print('Acyclicity loss: {}'.format(output_dict['h']))\n",
    "print('Least squares loss: {}'.format(output_dict['loss']))\n"
   ]
  },
  {
   "cell_type": "code",
   "execution_count": null,
   "metadata": {},
   "outputs": [],
   "source": [
    "plt.matshow(output_dict['W'])\n",
    "plt.title(\"Learned adjacency matrix\")\n",
    "plt.colorbar()\n",
    "\n",
    "plt.matshow(true_adj_mat)\n",
    "plt.title(\"True adjacency matrix\")\n",
    "plt.colorbar()\n"
   ]
  },
  {
   "cell_type": "code",
   "execution_count": null,
   "metadata": {},
   "outputs": [],
   "source": [
    "acyclic_W = notears.utils.threshold_output(output_dict['W'])"
   ]
  },
  {
   "cell_type": "code",
   "execution_count": null,
   "metadata": {},
   "outputs": [],
   "source": [
    "plt.matshow(output_dict['W'])\n",
    "plt.title(\"Learned adjacency matrix\")\n",
    "plt.colorbar()\n",
    "\n",
    "plt.matshow(acyclic_W)\n",
    "plt.title(\"Learned adjacency matrix (thresholded)\")\n",
    "plt.colorbar()\n",
    "\n",
    "plt.matshow(true_adj_mat)\n",
    "plt.title(\"True adjacency matrix\")\n",
    "plt.colorbar()\n"
   ]
  },
  {
   "cell_type": "code",
   "execution_count": null,
   "metadata": {},
   "outputs": [],
   "source": [
    "Col=VV2#['A','B','C','D']\n",
    "G=nx.DiGraph()\n",
    "for C in Col:\n",
    "    G.add_node(C)\n",
    "\n",
    "for i,Row in enumerate(acyclic_W):    \n",
    "    for j,C in enumerate(Row):\n",
    "\n",
    "        if C==1:\n",
    "\n",
    "            G.add_edge(Col[i],Col[j])\n",
    "            \n",
    "graph = networkx.drawing.nx_pydot.to_pydot(G)\n",
    "view_pydot(graph)"
   ]
  },
  {
   "cell_type": "code",
   "execution_count": null,
   "metadata": {},
   "outputs": [],
   "source": [
    "acyclic_W.shape"
   ]
  },
  {
   "cell_type": "code",
   "execution_count": null,
   "metadata": {},
   "outputs": [],
   "source": []
  }
 ],
 "metadata": {
  "kernelspec": {
   "display_name": "base",
   "language": "python",
   "name": "python3"
  },
  "language_info": {
   "codemirror_mode": {
    "name": "ipython",
    "version": 3
   },
   "file_extension": ".py",
   "mimetype": "text/x-python",
   "name": "python",
   "nbconvert_exporter": "python",
   "pygments_lexer": "ipython3",
   "version": "3.9.15 (main, Nov 24 2022, 14:31:59) \n[GCC 11.2.0]"
  },
  "vscode": {
   "interpreter": {
    "hash": "47461faa88aa067695cc57f541ef1d2dc4d6f921b9b537a7f257f46bf46d112f"
   }
  }
 },
 "nbformat": 4,
 "nbformat_minor": 4
}
