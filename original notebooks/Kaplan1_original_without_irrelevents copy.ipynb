{
 "cells": [
  {
   "cell_type": "code",
   "execution_count": null,
   "metadata": {},
   "outputs": [],
   "source": [
    "\n",
    "#!/usr/bin/env python3\n",
    "# -*- coding: utf-8 -*-\n",
    "\"\"\"\n",
    "Created on Mon Feb 22 20:09:58 2021\n",
    "\n",
    "@author: ronguy\n",
    "\"\"\"\n",
    "import time \n",
    "start = time.process_time()\n",
    "\n",
    "import sys\n",
    "from IPython.display import Image, display\n",
    "from tqdm import tqdm_notebook,tqdm\n",
    "# import time\n",
    "\n",
    "import numpy as np\n",
    "# import matplotlib\n",
    "import matplotlib.pyplot as plt\n",
    "from matplotlib.pyplot import rc_context\n",
    "# import matplotlib.patches as  mpatches\n",
    "plt.rcParams[\"figure.figsize\"] = (5.0, 4.0)  # Set default size of plots.\n",
    "plt.rcParams[\"image.interpolation\"] = \"nearest\"\n",
    "plt.rcParams[\"image.cmap\"] = \"gray\"\n",
    "\n",
    "import pandas as pd\n",
    "pd.set_option('display.max_rows', 500)\n",
    "pd.set_option('display.max_columns', 500)\n",
    "pd.set_option('display.width', 180) #according to screen width\n",
    "# from pandas.core.base import PandasObject\n",
    "# PandasObject.view = view #allows view meth pd.view\n",
    "\n",
    "from scipy import signal, stats\n",
    "import seaborn as sns\n",
    "\n",
    "from sklearn import metrics\n",
    "from sklearn.cluster import KMeans, DBSCAN, MiniBatchKMeans\n",
    "# from sklearn.preprocessing import StandardScaler, KBinsDiscretizer\n",
    "# from sklearn.metrics import silhouette_samples,silhouette_score\n",
    "# from sklearn.neighbors import kneighbors_graph\n",
    "\n",
    "from lmfit import minimize, Parameters\n",
    "from umap import UMAP\n",
    "\n",
    "import scanpy as sc\n",
    "import anndata\n",
    "\n",
    "# import schist as scs\n",
    "\n",
    "# import networkx as nx\n",
    "\n",
    "# from castle.common import GraphDAG\n",
    "# from castle.metrics import MetricsDAG\n",
    "# from castle.datasets import IIDSimulation, DAG\n",
    "# from castle.algorithms import PC,Notears,GOLEM,ANMNonlinear,DirectLiNGAM,ICALiNGAM,NotearsLowRank\n",
    "# import notears.notears as notears\n",
    "\n",
    "# from shapely.geometry import Point\n",
    "# from shapely.geometry.polygon import Polygon\n",
    "\n",
    "# import keras\n",
    "# from keras import layers\n",
    "# from keras.callbacks import EarlyStopping\n",
    "# from keras.callbacks import ModelCheckpoint\n",
    "\n",
    "# from statsmodels.graphics._regressionplots_doc import _plot_influence_doc\n",
    "# from statsmodels.regression.linear_model import OLS\n",
    "# from statsmodels.stats.outliers_influence import variance_inflation_factor\n",
    "\n",
    "\n",
    "\n",
    "\n",
    "from functions import *\n",
    "\n",
    "%matplotlib inline\n",
    "%load_ext autoreload\n",
    "%autoreload 2\n"
   ]
  },
  {
   "cell_type": "markdown",
   "metadata": {
    "tags": []
   },
   "source": [
    "# Load and initialize"
   ]
  },
  {
   "cell_type": "code",
   "execution_count": null,
   "metadata": {},
   "outputs": [],
   "source": [
    "NamesAll=['CD45',\n",
    " 'H3',\n",
    " 'K5',\n",
    " 'EpCam',\n",
    " 'H3K27me2',\n",
    " 'p53',\n",
    " 'EZH2',\n",
    " 'H3K4me3',\n",
    " 'gH2AX',\n",
    " 'aSMA',\n",
    " 'H3K36me2',\n",
    " 'H3K4me1',\n",
    " 'H3K9me2',\n",
    " 'H4K16ac',\n",
    " 'H2Aub',\n",
    " 'Vimentin',\n",
    " 'H3.3',\n",
    " 'H3K64ac',\n",
    " 'BMI-1',\n",
    " 'ZEB1',\n",
    " 'H4',\n",
    " 'H3K27ac',\n",
    " 'H4K20me3',\n",
    " 'ER',\n",
    " 'CD49f',\n",
    " 'H3K36me3',\n",
    " 'CD24',\n",
    " 'GATA3',\n",
    " 'H3K27me3',\n",
    " 'H3K9ac',\n",
    " 'H3K9me3',\n",
    " 'CD44',\n",
    " 'Ki67',\n",
    " 'K8-18',\n",
    " 'H3S28p',\n",
    " 'Ir_DNA2',\n",
    " 'Live_Dead']\n",
    "\n",
    "\n",
    "EpiCols=[\n",
    " 'H3',\n",
    " 'H3K27me2',\n",
    " 'H3K4me3',\n",
    " 'H3K36me2',\n",
    " 'H3K4me1',\n",
    " 'H3K9me2',\n",
    " 'H4K16ac',\n",
    " 'H2Aub',\n",
    " 'H3.3',\n",
    " 'H3K64ac',\n",
    " 'H4',\n",
    " 'H3K27ac',\n",
    " 'H4K20me3',\n",
    " 'H3K36me3',\n",
    " 'H3K27me3',\n",
    " 'H3K9ac',\n",
    " 'H3K9me3',\n",
    " 'H3S28p',\n",
    "]\n",
    "\n",
    "CellIden=[\n",
    " 'CD45',\n",
    " 'K5',\n",
    " 'EpCam',\n",
    " 'aSMA',\n",
    " 'Vimentin',\n",
    " 'ZEB1',\n",
    " 'ER',\n",
    " 'CD49f',\n",
    " 'CD24',\n",
    " 'GATA3',\n",
    " 'CD44',\n",
    " 'K8-18',\n",
    "]\n",
    "\n",
    "\n",
    "ToNorm=[\n",
    " 'H3',\n",
    " 'K5',\n",
    " 'H3K27me2',\n",
    " 'p53',\n",
    " 'EZH2',\n",
    " 'H3K4me3',\n",
    " 'gH2AX',\n",
    " 'aSMA',\n",
    " 'H3K36me2',\n",
    " 'H3K4me1',\n",
    " 'H3K9me2',\n",
    " 'H4K16ac',\n",
    " 'H2Aub',\n",
    " 'Vimentin',\n",
    " 'H3.3',\n",
    " 'H3K64ac',\n",
    " 'BMI-1',\n",
    " 'ZEB1',\n",
    " 'H4',\n",
    " 'H3K27ac',\n",
    " 'H4K20me3',\n",
    " 'ER',\n",
    " 'H3K36me3',\n",
    " 'GATA3',\n",
    " 'H3K27me3',\n",
    " 'H3K9ac',\n",
    " 'H3K9me3',\n",
    " 'Ki67',\n",
    " 'K8-18',\n",
    " 'H3S28p',\n",
    " ]\n",
    "\n",
    "NMS=['CD45',\n",
    " 'K5',\n",
    " 'EpCam',\n",
    " 'H3K27me2',\n",
    " 'p53',\n",
    " 'EZH2',\n",
    " 'H3K4me3',\n",
    " 'gH2AX',\n",
    " 'aSMA',\n",
    " 'H3K36me2',\n",
    " 'H3K4me1',\n",
    " 'H3K9me2',\n",
    " 'H4K16ac',\n",
    " 'H2Aub',\n",
    " 'Vimentin',\n",
    " 'H3K64ac',\n",
    " 'BMI-1',\n",
    " 'ZEB1',\n",
    " 'H3K27ac',\n",
    " 'H4K20me3',\n",
    " 'ER',\n",
    " 'CD49f',\n",
    " 'H3K36me3',\n",
    " 'CD24',\n",
    " 'GATA3',\n",
    " 'H3K27me3',\n",
    " 'H3K9ac',\n",
    " 'H3K9me3',\n",
    " 'CD44',\n",
    " 'Ki67',\n",
    " 'K8-18',\n",
    " 'H3S28p',\n",
    "]"
   ]
  },
  {
   "cell_type": "code",
   "execution_count": null,
   "metadata": {
    "tags": []
   },
   "outputs": [],
   "source": [
    "# dir=\"~/Desktop/CyTOF_Breast/Kaplan_1st/\"\n",
    "# dir=\"~/Desktop/biology/breast_cancer/data/\"\n",
    "dir=\"C:/Users/yishai/Dropbox/CyTOF_Breast/Kaplan_1st/\"\n",
    "K1=pd.read_csv(dir+\"BCK-01_noaf_18Sep2022_01_0.fcs_file_internal_comp_residual.csv\")\n",
    "K2=pd.read_csv(dir+\"BCK-02_noaf_18Sep2022_01_0.fcs_file_internal_comp_residual.csv\")\n",
    "\n",
    "\n",
    "params = {'axes.titlesize': 30,\n",
    "          'legend.fontsize': 20,\n",
    "          'figure.figsize': (6, 5),\n",
    "          'axes.labelsize': 20,\n",
    "          'axes.titlesize': 20,\n",
    "          'xtick.labelsize': 20,\n",
    "          'ytick.labelsize': 20,\n",
    "          'figure.titlesize': 30}\n",
    "plt.rcParams.update(params)\n",
    "plt.style.use('seaborn-whitegrid')\n",
    "sns.set_style(\"white\")\n",
    "\n",
    "K1=K1[NamesAll]\n",
    "K2=K2[NamesAll]\n",
    "\n"
   ]
  },
  {
   "cell_type": "markdown",
   "metadata": {
    "tags": []
   },
   "source": [
    "# Gate on H3.3/H4 too low, but also remove outliers 99.99% from all "
   ]
  },
  {
   "cell_type": "code",
   "execution_count": null,
   "metadata": {},
   "outputs": [],
   "source": [
    "GateColumns=['H3.3','H4']#,'H3']#,'H3']\n",
    "\n",
    "\n",
    "def Gate(data,name):\n",
    "    ddf=data.copy()\n",
    "    print(name)\n",
    "    print(\"Initial \",len(ddf))\n",
    "    ddf=ddf[(ddf[GateColumns]>5).all(axis=1)]\n",
    "    print(\"Core Gate \",len(ddf))\n",
    "    ddf=ddf[(ddf<np.quantile(ddf,0.9999,axis=0)).all(axis=1)]\n",
    "    print(\"Outlier Gate \",len(ddf))\n",
    "    data=ddf.copy()\n",
    "    del ddf\n",
    "    return data\n",
    "\n",
    "\n",
    "K1=Gate(K1,\"K1\")\n",
    "K2=Gate(K2,\"K2\")"
   ]
  },
  {
   "cell_type": "code",
   "execution_count": null,
   "metadata": {},
   "outputs": [],
   "source": [
    "\n",
    "scFac=5\n",
    "K1=np.arcsinh(K1/scFac)\n",
    "K2=np.arcsinh(K2/scFac)\n"
   ]
  },
  {
   "cell_type": "code",
   "execution_count": null,
   "metadata": {
    "tags": []
   },
   "outputs": [],
   "source": [
    "for M in NamesAll:\n",
    "    plt.figure()\n",
    "    sns.kdeplot(K1[M],c='r',label='Tumor 1')\n",
    "    sns.kdeplot(K2[M],c='g',label='Tumor 2')\n",
    "   \n",
    "    plt.legend()\n",
    "    plt.title('ArcSinh Unnormalized')\n",
    "    plt.savefig('Plots/Hist_'+M+'.png')\n",
    "    plt.show()"
   ]
  },
  {
   "cell_type": "code",
   "execution_count": null,
   "metadata": {},
   "outputs": [],
   "source": []
  },
  {
   "cell_type": "code",
   "execution_count": null,
   "metadata": {},
   "outputs": [],
   "source": [
    "ThK1={}\n",
    "for N in ['CD45']:\n",
    "    kernel = stats.gaussian_kde(K1[N])\n",
    "    r=np.linspace(K1[N].min(),5,100)\n",
    "    inv_data = 1/kernel(r)\n",
    "    # minima : use builtin function fo find (min) peaks (use inversed data)\n",
    "    min_peakind = signal.find_peaks_cwt(inv_data, np.arange(0.02,20,0.001))\n",
    "\n",
    "    print(min_peakind)\n",
    "    plt.figure(figsize=(3,3))\n",
    "    plt.plot(r,kernel(r))\n",
    "    sns.kdeplot(K1[N])\n",
    "    plt.scatter(r[min_peakind],kernel(r[min_peakind]))\n",
    "#    plt.yscale('log')\n",
    "    plt.show()\n",
    "    # Q=input(\"Peak Num (0 based):\")\n",
    "    Q=0\n",
    "    ThK1[N]=r[min_peakind[np.int(Q)]]"
   ]
  },
  {
   "cell_type": "code",
   "execution_count": null,
   "metadata": {},
   "outputs": [],
   "source": [
    "ThK2={}\n",
    "for N in ['CD45']:\n",
    "    kernel = stats.gaussian_kde(K2[N])\n",
    "    r=np.linspace(K2[N].min(),5,100)\n",
    "    inv_data = 1/kernel(r)\n",
    "    # minima : use builtin function fo find (min) peaks (use inversed data)\n",
    "    min_peakind = signal.find_peaks_cwt(inv_data, np.arange(0.02,20,0.001))\n",
    "\n",
    "    print(min_peakind)\n",
    "    plt.figure(figsize=(3,3))\n",
    "    plt.plot(r,kernel(r))\n",
    "    sns.kdeplot(K2[N])\n",
    "    plt.scatter(r[min_peakind],kernel(r[min_peakind]))\n",
    "#    plt.yscale('log')\n",
    "    plt.show()\n",
    "    # Q=input(\"Peak Num (0 based):\")\n",
    "    Q=0\n",
    "    ThK2[N]=r[min_peakind[np.int(Q)]]"
   ]
  },
  {
   "cell_type": "code",
   "execution_count": null,
   "metadata": {},
   "outputs": [],
   "source": [
    "ThK1={'CD45': 1.8686868686868687}\n",
    "ThK2={'CD45': 2.1717171717171717}\n"
   ]
  },
  {
   "cell_type": "code",
   "execution_count": null,
   "metadata": {},
   "outputs": [],
   "source": [
    "K1CD45Neg=K1[K1.CD45<ThK1['CD45']].copy()\n",
    "K2CD45Neg=K2[K2.CD45<ThK2['CD45']].copy()\n"
   ]
  },
  {
   "cell_type": "code",
   "execution_count": null,
   "metadata": {},
   "outputs": [],
   "source": [
    "sns.histplot(K1.CD45,color='b',label='T1',stat='density',element='step',fill=False,)\n",
    "#sns.histplot(K2.CD45,color='b',label='T2',stat='density')"
   ]
  },
  {
   "cell_type": "code",
   "execution_count": null,
   "metadata": {},
   "outputs": [],
   "source": [
    "sns.kdeplot(K1.CD45,color='b',label='T1')\n",
    "sns.kdeplot(K1CD45Neg.CD45,color='b',ls='--',label='T1 CD45-')\n",
    "sns.kdeplot(K2.CD45,c='r',label='T2')\n",
    "sns.kdeplot(K2CD45Neg.CD45,c='r',ls='--',label='T2 CD45-')\n",
    "plt.legend(loc='upper left',bbox_to_anchor=(1,1))\n",
    "plt.yscale('log')\n",
    "#plt.savefig('Plots/aSMA.png',dpi=200,bbox_inches='tight')"
   ]
  },
  {
   "cell_type": "markdown",
   "metadata": {
    "tags": []
   },
   "source": [
    "# Normalize using new method on all intercellular markers"
   ]
  },
  {
   "cell_type": "code",
   "execution_count": null,
   "metadata": {},
   "outputs": [],
   "source": [
    "def R(p,x,data,Q,M,M1,M2,M3):\n",
    "    a=p['a']\n",
    "    b=p['b']\n",
    "    d=x.divide(a*M1+(1-a-b)*M2+b*M3,axis=0)\n",
    "    return (d.std()['H3.3']+d.std()['H4']+d.std()['H3'])**2\n",
    "\n",
    "def NormalizeNew(data):\n",
    "    \n",
    "    params = Parameters()\n",
    "    params.add('a', value=0.1,min=0,max=1)\n",
    "    params.add('b', value=0.1,min=0,max=1)\n",
    "    ddf=data.copy()\n",
    "    ddf2=data.copy()\n",
    "    Q=ddf.mean()\n",
    "    M=(ddf/Q)[['H3.3','H4','H3']].mean(axis=1)\n",
    "    M1=(ddf/Q)['H3.3']\n",
    "    M2=(ddf/Q)['H4']\n",
    "    M3=(ddf/Q)['H3']\n",
    "\n",
    "    out=minimize(R, params ,args=(ddf, ddf,Q,M,M1,M2,M3),method='cg')\n",
    "    AA=out.params['a'].value\n",
    "    BB=out.params['b'].value\n",
    "    M=M1*AA+M2*(1-AA-BB)+M3*BB\n",
    "    ddf=ddf.divide(M,axis=0).copy()\n",
    "    data=ddf\n",
    "    ddf2[EpiCols]=data[EpiCols]\n",
    "    data=ddf2.copy()\n",
    "    del ddf \n",
    "    del ddf2\n",
    "    return data\n",
    "    \n",
    "def R2(p,x,data,Q,M,M1,M2):\n",
    "    a=p['a']\n",
    "    d=x.divide(a*M1+(1-a)*M2,axis=0)\n",
    "    return (d.std()['H3.3'])**2+(d.std()['H4'])**2\n",
    "\n",
    "def NormalizeNew2(data):\n",
    "    \n",
    "    params = Parameters()\n",
    "    params.add('a', value=0.5,min=0.3,max=1)\n",
    "    ddf=data.copy()\n",
    "    ddf2=data.copy()\n",
    "    Q=ddf.mean()\n",
    "    M=(ddf/Q)[['H3.3','H4']].mean(axis=1)\n",
    "    M1=(ddf/Q)['H3.3']\n",
    "    M2=(ddf/Q)['H4']\n",
    " \n",
    "    out=minimize(R2, params ,args=(ddf, ddf,Q,M,M1,M2),method='cg')\n",
    "    AA=out.params['a'].value\n",
    "\n",
    "    M=M1*AA+M2*(1-AA)\n",
    "    ddf=ddf.divide(M,axis=0).copy()\n",
    "    data=ddf.copy()\n",
    "    print(data.shape,ddf2.shape)\n",
    "    ddf2[EpiCols]=data[EpiCols]\n",
    "    data=ddf2.copy()\n",
    "    del ddf \n",
    "    del ddf2\n",
    "    return data"
   ]
  },
  {
   "cell_type": "code",
   "execution_count": null,
   "metadata": {},
   "outputs": [],
   "source": [
    "K1.std()"
   ]
  },
  {
   "cell_type": "code",
   "execution_count": null,
   "metadata": {},
   "outputs": [],
   "source": [
    "EpiBCK=EpiCols.copy()\n",
    "EpiCols=ToNorm.copy()\n",
    "\n",
    "\n",
    "\n",
    "\n",
    "\n",
    "\n",
    "print(\"K1\")\n",
    "print(K1.std()['H3.3']+K1.std()['H4'])#+K1.std()['H3'])\n",
    "K1=NormalizeNew2(K1)\n",
    "print(K1.std()['H3.3']+K1.std()['H4'])#+K1.std()['H3'])\n",
    "\n",
    "print(\"K2\")\n",
    "print(K2.std()['H3.3']+K2.std()['H4'])#+K2.std()['H3'])\n",
    "K2=NormalizeNew2(K2)\n",
    "print(K2.std()['H3.3']+K2.std()['H4'])#+K2.std()['H3'])\n",
    "\n",
    "\n",
    "K1CD45Neg=NormalizeNew2(K1CD45Neg)\n",
    "K2CD45Neg=NormalizeNew2(K2CD45Neg)\n",
    "\n",
    "EpiCols=EpiBCK.copy()\n"
   ]
  },
  {
   "cell_type": "code",
   "execution_count": null,
   "metadata": {},
   "outputs": [],
   "source": [
    "K1.std()"
   ]
  },
  {
   "cell_type": "code",
   "execution_count": null,
   "metadata": {},
   "outputs": [],
   "source": [
    "sns.kdeplot(K1.EpCam)"
   ]
  },
  {
   "cell_type": "code",
   "execution_count": null,
   "metadata": {},
   "outputs": [],
   "source": [
    "K2.columns"
   ]
  },
  {
   "cell_type": "code",
   "execution_count": null,
   "metadata": {},
   "outputs": [],
   "source": [
    "Mean_Core=K1[['H3.3','H4']].mean(axis=1)\n",
    "for N in tqdm(ToNorm):\n",
    "    K1[N]=K1[N]/Mean_Core\n",
    "    \n",
    "    \n",
    "Mean_Core=K2[['H3.3','H4']].mean(axis=1)\n",
    "for N in tqdm(ToNorm):\n",
    "    K2[N]=K2[N]/Mean_Core"
   ]
  },
  {
   "cell_type": "code",
   "execution_count": null,
   "metadata": {},
   "outputs": [],
   "source": [
    "Mean_Core=K1[['H3.3','H4']].mean(axis=1)\n",
    "for N in tqdm(ToNorm):\n",
    "    K1[N]=K1[N]/Mean_Core\n",
    "    \n",
    "    \n",
    "Mean_Core=K2[['H3.3','H4']].mean(axis=1)\n",
    "for N in tqdm(ToNorm):\n",
    "    K2[N]=K2[N]/Mean_Core\n",
    "\n",
    "Mean_Core=K1CD45Neg[['H3.3','H4']].mean(axis=1)\n",
    "for N in tqdm(ToNorm):\n",
    "    K1CD45Neg[N]=K1CD45Neg[N]/Mean_Core\n",
    "    \n",
    "    \n",
    "Mean_Core=K2CD45Neg[['H3.3','H4']].mean(axis=1)\n",
    "for N in tqdm(ToNorm):\n",
    "    K2CD45Neg[N]=K2CD45Neg[N]/Mean_Core"
   ]
  },
  {
   "cell_type": "code",
   "execution_count": null,
   "metadata": {},
   "outputs": [],
   "source": [
    "sns.kdeplot(K1.CD45)\n",
    "sns.kdeplot(K2.CD45)"
   ]
  },
  {
   "cell_type": "code",
   "execution_count": null,
   "metadata": {},
   "outputs": [],
   "source": [
    "aaaa=pd.concat([K1]).copy()\n",
    "m=np.mean(aaaa)\n",
    "s=np.std(aaaa)\n",
    "K1=(K1-m)/s\n",
    "\n",
    "aaaa=pd.concat([K2]).copy()\n",
    "m=np.mean(aaaa)\n",
    "s=np.std(aaaa)\n",
    "K2=(K2-m)/s\n",
    "\n",
    "aaaa=pd.concat([K1CD45Neg]).copy()\n",
    "m=np.mean(aaaa)\n",
    "s=np.std(aaaa)\n",
    "K1CD45Neg=(K1CD45Neg-m)/s\n",
    "\n",
    "aaaa=pd.concat([K2CD45Neg]).copy()\n",
    "m=np.mean(aaaa)\n",
    "s=np.std(aaaa)\n",
    "K2CD45Neg=(K2CD45Neg-m)/s\n",
    "\n",
    "\n",
    "print(aaaa.std())\n",
    "\n",
    "params = {'axes.titlesize': 30,\n",
    "          'legend.fontsize': 20,\n",
    "          'figure.figsize': (6, 5),\n",
    "          'axes.labelsize': 20,\n",
    "          'axes.titlesize': 20,\n",
    "          'xtick.labelsize': 20,\n",
    "          'ytick.labelsize': 20,\n",
    "          'figure.titlesize': 30}\n",
    "plt.rcParams.update(params)\n",
    "plt.style.use('seaborn-whitegrid')\n",
    "sns.set_style(\"white\")"
   ]
  },
  {
   "cell_type": "code",
   "execution_count": null,
   "metadata": {},
   "outputs": [],
   "source": [
    "Lines=['Tumor1','Tumor2']"
   ]
  },
  {
   "cell_type": "code",
   "execution_count": null,
   "metadata": {
    "tags": []
   },
   "outputs": [],
   "source": [
    "for M in NamesAll:\n",
    "    plt.figure()\n",
    "    sns.kdeplot(K1[M],c='r',label='Tumor 1')\n",
    "    sns.kdeplot(K2[M],c='g',label='Tumor 2')\n",
    "   \n",
    "    plt.legend()\n",
    "    plt.title('Normalized + Scaled ')\n",
    "#    plt.savefig('Plots/Hist_Norm_Scaled_'+M+'.png')\n",
    "    plt.show()"
   ]
  },
  {
   "cell_type": "code",
   "execution_count": null,
   "metadata": {},
   "outputs": [],
   "source": [
    "print(len(K1),len(K2))\n",
    "print(len(K1CD45Neg),len(K2CD45Neg))"
   ]
  },
  {
   "cell_type": "code",
   "execution_count": null,
   "metadata": {},
   "outputs": [],
   "source": [
    "sns.kdeplot(K1CD45Neg.aSMA)"
   ]
  },
  {
   "cell_type": "code",
   "execution_count": null,
   "metadata": {},
   "outputs": [],
   "source": [
    "\n",
    "\n",
    "K1 = K1CD45Neg.copy()\n",
    "K2 = K2CD45Neg.copy()\n",
    "del K2CD45Neg\n",
    "del K1CD45Neg"
   ]
  },
  {
   "cell_type": "markdown",
   "metadata": {
    "jp-MarkdownHeadingCollapsed": true,
    "tags": []
   },
   "source": [
    "# UMAP Tumor 1 - ALL"
   ]
  },
  {
   "cell_type": "markdown",
   "metadata": {
    "tags": []
   },
   "source": [
    "## Cell Identity"
   ]
  },
  {
   "cell_type": "code",
   "execution_count": null,
   "metadata": {},
   "outputs": [],
   "source": [
    "\n",
    "CAll=pd.concat([K1]).copy()"
   ]
  },
  {
   "cell_type": "code",
   "execution_count": null,
   "metadata": {},
   "outputs": [],
   "source": [
    "# CellIden"
   ]
  },
  {
   "cell_type": "code",
   "execution_count": null,
   "metadata": {},
   "outputs": [],
   "source": [
    "#CellIden.remove('CD45')\n",
    "X_2d=draw_umap(CAll[CellIden+['p53']],cc=CAll['H4'],min_dist=0.05,n_neighbors=150,rstate=42)\n",
    "plt.show()"
   ]
  },
  {
   "cell_type": "code",
   "execution_count": null,
   "metadata": {
    "tags": []
   },
   "outputs": [],
   "source": [
    "for NN in NamesAll:\n",
    "    Var=NN\n",
    "    TSNEVar=NN\n",
    "    cc=CAll[NN]#[mask]\n",
    "    plt.figure(figsize=(6, 5))\n",
    "    plt.scatter(X_2d[:,0],X_2d[:,1],s=2,\n",
    "                c=cc, cmap=plt.cm.seismic)\n",
    "\n",
    "    plt.colorbar()\n",
    "\n",
    "    plt.clim(cc.quantile(0.01),cc.quantile(0.99))\n",
    "    plt.title(\"Tumor 1 Cell Iden UMAP - \"+TSNEVar)\n",
    "    plt.savefig('Plots/Tumor1_UMAP_CellIdentity_'+NN+'.png',dpi=200,bbox_inches='tight')\n",
    "\n",
    "    plt.show()"
   ]
  },
  {
   "cell_type": "code",
   "execution_count": null,
   "metadata": {},
   "outputs": [],
   "source": [
    "labels=dbscan_plot(X_2d,eps=0.1,min_samples=40)"
   ]
  },
  {
   "cell_type": "code",
   "execution_count": null,
   "metadata": {},
   "outputs": [],
   "source": [
    "m=labels!=-1"
   ]
  },
  {
   "cell_type": "code",
   "execution_count": null,
   "metadata": {},
   "outputs": [],
   "source": [
    "sns.histplot(K1[labels!=0].CD45,color='r',element='step',fill=False,stat='density')\n",
    "sns.histplot(K1.CD45,element='step',fill=False,stat='density')\n",
    "plt.yscale('symlog')"
   ]
  },
  {
   "cell_type": "code",
   "execution_count": null,
   "metadata": {},
   "outputs": [],
   "source": []
  },
  {
   "cell_type": "code",
   "execution_count": null,
   "metadata": {},
   "outputs": [],
   "source": [
    "K1AN=anndata.AnnData(K1[m],dtype=np.float32)"
   ]
  },
  {
   "cell_type": "code",
   "execution_count": null,
   "metadata": {},
   "outputs": [],
   "source": [
    "K1['Clust']=labels"
   ]
  },
  {
   "cell_type": "code",
   "execution_count": null,
   "metadata": {},
   "outputs": [],
   "source": [
    "# K1AN=K1AN[:100]"
   ]
  },
  {
   "cell_type": "code",
   "execution_count": null,
   "metadata": {},
   "outputs": [],
   "source": [
    "sc.pp.neighbors(K1AN)\n",
    "sc.tl.umap(K1AN,n_components=3)"
   ]
  },
  {
   "cell_type": "code",
   "execution_count": null,
   "metadata": {},
   "outputs": [],
   "source": [
    "# scs.inference.nested_model(K1AN)"
   ]
  },
  {
   "cell_type": "code",
   "execution_count": null,
   "metadata": {},
   "outputs": [],
   "source": [
    "K1AN.obsm['X_umap']=X_2d[m]"
   ]
  },
  {
   "cell_type": "code",
   "execution_count": null,
   "metadata": {},
   "outputs": [],
   "source": [
    "K1AN.obs['clust']=K1[m].Clust.astype('category').values"
   ]
  },
  {
   "cell_type": "code",
   "execution_count": null,
   "metadata": {
    "tags": []
   },
   "outputs": [],
   "source": [
    "\n",
    "with rc_context({'figure.figsize': (5, 5)}):\n",
    "    sc.pl.umap(K1AN, color='clust', add_outline=True, legend_loc='on data',\n",
    "               legend_fontsize=12, legend_fontoutline=2,frameon=True,\n",
    "               title='Clusters Tumor 1 - Cell Iden Based', palette=['r','orange','yellow','b'],show=False,projection='2d',)\n",
    "plt.savefig(\"Plots/Clust_T1_CellIden.png\")"
   ]
  },
  {
   "cell_type": "code",
   "execution_count": null,
   "metadata": {
    "tags": []
   },
   "outputs": [],
   "source": [
    "Mat=K1[K1.Clust!=-1].groupby(by='Clust').mean()[NMS]\n",
    "amin=Mat[NMS].min().min()\n",
    "amax=Mat[NMS].max().max()\n",
    "g=sns.clustermap(Mat[NMS].T,cmap=plt.cm.seismic,vmin=amin,vmax=amax,\n",
    "                figsize=(10,20), annot_kws={\"size\":8}, center=0,\n",
    "                annot=True, linewidths=1,linecolor='k',)\n",
    "g.ax_col_dendrogram.set_title('T1 Cell Iden Based') \n",
    "plt.savefig('Plots/T1_CellIden.png')"
   ]
  },
  {
   "cell_type": "markdown",
   "metadata": {
    "tags": []
   },
   "source": [
    "## Epigenetics Based"
   ]
  },
  {
   "cell_type": "code",
   "execution_count": null,
   "metadata": {},
   "outputs": [],
   "source": [
    "MRK=EpiCols.copy()\n",
    "MRK.remove('H3')\n",
    "MRK.remove('H3.3')\n",
    "MRK.remove('H4')\n",
    "X_2d=draw_umap(CAll[MRK],cc=CAll['H4'],min_dist=0.05,n_neighbors=150,rstate=42)\n",
    "plt.show()"
   ]
  },
  {
   "cell_type": "code",
   "execution_count": null,
   "metadata": {},
   "outputs": [],
   "source": [
    "for NN in NamesAll:\n",
    "    Var=NN\n",
    "    TSNEVar=NN\n",
    "    cc=CAll[NN]#[mask]\n",
    "    plt.figure(figsize=(6, 5))\n",
    "    plt.scatter(X_2d[:,0],X_2d[:,1],s=2,\n",
    "                c=cc, cmap=plt.cm.seismic)\n",
    "\n",
    "    plt.colorbar()\n",
    "\n",
    "    plt.clim(cc.quantile(0.01),cc.quantile(0.99))\n",
    "    plt.title(\"Tumor 1 Epigen UMAP - \"+TSNEVar)\n",
    "    plt.savefig('Plots/Tumor1_UMAP_Epi'+NN+'.png',dpi=200,bbox_inches='tight')\n",
    "\n",
    "    plt.show()"
   ]
  },
  {
   "cell_type": "code",
   "execution_count": null,
   "metadata": {},
   "outputs": [],
   "source": [
    "labels=dbscan_plot(X_2d,eps=0.2,min_samples=50)"
   ]
  },
  {
   "cell_type": "code",
   "execution_count": null,
   "metadata": {},
   "outputs": [],
   "source": [
    "m=labels!=-1"
   ]
  },
  {
   "cell_type": "code",
   "execution_count": null,
   "metadata": {},
   "outputs": [],
   "source": [
    "K1AN=anndata.AnnData(K1[m],dtype=np.float32)"
   ]
  },
  {
   "cell_type": "code",
   "execution_count": null,
   "metadata": {},
   "outputs": [],
   "source": [
    "K1['Clust']=labels"
   ]
  },
  {
   "cell_type": "code",
   "execution_count": null,
   "metadata": {},
   "outputs": [],
   "source": [
    "sc.pp.neighbors(K1AN)\n",
    "sc.tl.umap(K1AN,n_components=3)\n",
    "K1AN.obsm['X_umap']=X_2d[m]"
   ]
  },
  {
   "cell_type": "code",
   "execution_count": null,
   "metadata": {},
   "outputs": [],
   "source": [
    "K1AN.obsm['X_umap']=X_2d[m]"
   ]
  },
  {
   "cell_type": "code",
   "execution_count": null,
   "metadata": {},
   "outputs": [],
   "source": [
    "K1AN.obs['clust']=K1[m].Clust.astype('category').values"
   ]
  },
  {
   "cell_type": "code",
   "execution_count": null,
   "metadata": {
    "tags": []
   },
   "outputs": [],
   "source": [
    "\n",
    "with rc_context({'figure.figsize': (5, 5)}):\n",
    "    sc.pl.umap(K1AN, color='clust', add_outline=True, legend_loc='on data',\n",
    "               legend_fontsize=16, legend_fontoutline=4,frameon=True,\n",
    "               title='Clusters Tumor 1 - Epigen Based', palette=['r','orange','yellow','b'],show=False,projection='2d',)\n",
    "plt.savefig(\"Plots/Clust_T1_Epigen.png\")"
   ]
  },
  {
   "cell_type": "code",
   "execution_count": null,
   "metadata": {
    "tags": []
   },
   "outputs": [],
   "source": [
    "Mat=K1[K1.Clust!=-1].groupby(by='Clust').mean()[NMS]\n",
    "amin=Mat[NMS].min().min()\n",
    "amax=Mat[NMS].max().max()\n",
    "g=sns.clustermap(Mat[NMS].T,cmap=plt.cm.seismic,vmin=amin,vmax=amax,\n",
    "                figsize=(10,20), annot_kws={\"size\":8}, center=0,\n",
    "                annot=True, linewidths=1,linecolor='k',)\n",
    "g.ax_col_dendrogram.set_title('T1 Epigen Based') \n",
    "plt.savefig('Plots/T1_Epigen.png')"
   ]
  },
  {
   "cell_type": "markdown",
   "metadata": {
    "tags": []
   },
   "source": [
    "## All Markers"
   ]
  },
  {
   "cell_type": "code",
   "execution_count": null,
   "metadata": {},
   "outputs": [],
   "source": [
    "MRK=[\n",
    " 'CD45',\n",
    " 'K5',\n",
    " 'EpCam',\n",
    " 'H3K27me2',\n",
    " 'p53',\n",
    " 'EZH2',\n",
    " 'H3K4me3',\n",
    " 'gH2AX',\n",
    " 'aSMA',\n",
    " 'H3K36me2',\n",
    " 'H3K4me1',\n",
    " 'H3K9me2',\n",
    " 'H4K16ac',\n",
    " 'H2Aub',\n",
    " 'Vimentin',\n",
    " 'H3K64ac',\n",
    " 'BMI-1',\n",
    " 'ZEB1',\n",
    " 'H3K27ac',\n",
    " 'H4K20me3',\n",
    " 'ER',\n",
    " 'CD49f',\n",
    " 'H3K36me3',\n",
    " 'CD24',\n",
    " 'GATA3',\n",
    " 'H3K27me3',\n",
    " 'H3K9ac',\n",
    " 'H3K9me3',\n",
    " 'CD44',\n",
    " 'Ki67',\n",
    " 'K8-18',\n",
    " 'H3S28p',\n",
    "]"
   ]
  },
  {
   "cell_type": "code",
   "execution_count": null,
   "metadata": {},
   "outputs": [],
   "source": [
    "\n",
    "X_2d=draw_umap(CAll[MRK],cc=CAll['H4'],min_dist=0.05,n_neighbors=150,rstate=42)\n",
    "plt.show()"
   ]
  },
  {
   "cell_type": "code",
   "execution_count": null,
   "metadata": {},
   "outputs": [],
   "source": [
    "for NN in NamesAll:\n",
    "    Var=NN\n",
    "    TSNEVar=NN\n",
    "    cc=CAll[NN]#[mask]\n",
    "    plt.figure(figsize=(6, 5))\n",
    "    plt.scatter(X_2d[:,0],X_2d[:,1],s=2,\n",
    "                c=cc, cmap=plt.cm.seismic)\n",
    "\n",
    "    plt.colorbar()\n",
    "\n",
    "    plt.clim(cc.quantile(0.01),cc.quantile(0.99))\n",
    "    plt.title(\"Tumor 1 All Markers UMAP - \"+TSNEVar)\n",
    "    plt.savefig('Plots/Tumor1_UMAP_All'+NN+'.png',dpi=200,bbox_inches='tight')\n",
    "    # plt.savefig(\"Plots/Clust_T1_CellIden.png\")\n",
    "\n",
    "    plt.show()"
   ]
  },
  {
   "cell_type": "code",
   "execution_count": null,
   "metadata": {},
   "outputs": [],
   "source": [
    "labels=dbscan_plot(X_2d,eps=0.18,min_samples=50)"
   ]
  },
  {
   "cell_type": "code",
   "execution_count": null,
   "metadata": {},
   "outputs": [],
   "source": [
    "m=labels!=-1"
   ]
  },
  {
   "cell_type": "code",
   "execution_count": null,
   "metadata": {},
   "outputs": [],
   "source": []
  },
  {
   "cell_type": "code",
   "execution_count": null,
   "metadata": {},
   "outputs": [],
   "source": [
    "K1AN=anndata.AnnData(K1[m],dtype=np.float32)"
   ]
  },
  {
   "cell_type": "code",
   "execution_count": null,
   "metadata": {},
   "outputs": [],
   "source": [
    "K1['Clust']=labels"
   ]
  },
  {
   "cell_type": "code",
   "execution_count": null,
   "metadata": {},
   "outputs": [],
   "source": [
    "sc.pp.neighbors(K1AN)\n",
    "sc.tl.umap(K1AN,n_components=3)\n",
    "K1AN.obsm['X_umap']=X_2d[m]"
   ]
  },
  {
   "cell_type": "code",
   "execution_count": null,
   "metadata": {},
   "outputs": [],
   "source": [
    "K1AN.obsm['X_umap']=X_2d[m]"
   ]
  },
  {
   "cell_type": "code",
   "execution_count": null,
   "metadata": {},
   "outputs": [],
   "source": [
    "K1AN.obs['clust']=K1[m].Clust.astype('category').values"
   ]
  },
  {
   "cell_type": "code",
   "execution_count": null,
   "metadata": {
    "tags": []
   },
   "outputs": [],
   "source": [
    "\n",
    "with rc_context({'figure.figsize': (5, 5)}):\n",
    "    sc.pl.umap(K1AN, color='clust', add_outline=True, legend_loc='on data',\n",
    "               legend_fontsize=16, legend_fontoutline=4,frameon=True,\n",
    "               title='Clusters Tumor 1 - All MRK Based', palette=['r','orange','yellow','b'],show=False,projection='2d',)\n",
    "plt.savefig(\"Plots/Clust_T1_All.png\")"
   ]
  },
  {
   "cell_type": "code",
   "execution_count": null,
   "metadata": {
    "tags": []
   },
   "outputs": [],
   "source": [
    "Mat=K1[K1.Clust!=-1].groupby(by='Clust').mean()[NMS]\n",
    "amin=Mat[NMS].min().min()\n",
    "amax=Mat[NMS].max().max()\n",
    "g=sns.clustermap(Mat[NMS].T,cmap=plt.cm.seismic,vmin=amin,vmax=amax,\n",
    "                figsize=(10,20), annot_kws={\"size\":8}, center=0,\n",
    "                annot=True, linewidths=1,linecolor='k',)\n",
    "g.ax_col_dendrogram.set_title('T1 All MRK Based') \n",
    "plt.savefig('Plots/T1_All.png')"
   ]
  },
  {
   "cell_type": "markdown",
   "metadata": {
    "tags": []
   },
   "source": [
    "# UMAP Tumor 1 - CD 45 Negative"
   ]
  },
  {
   "cell_type": "code",
   "execution_count": null,
   "metadata": {},
   "outputs": [],
   "source": [
    "K1Bck=K1.copy()\n",
    "K1=K1CD45Neg.copy()"
   ]
  },
  {
   "cell_type": "markdown",
   "metadata": {
    "tags": []
   },
   "source": [
    "## Cell Identity"
   ]
  },
  {
   "cell_type": "code",
   "execution_count": null,
   "metadata": {},
   "outputs": [],
   "source": [
    "\n",
    "CAll=pd.concat([K1]).copy()"
   ]
  },
  {
   "cell_type": "code",
   "execution_count": null,
   "metadata": {},
   "outputs": [],
   "source": [
    "#CellIden.remove('CD45')\n",
    "X_2d=draw_umap(CAll[CellIden],cc=CAll['H4'],min_dist=0.01,n_neighbors=150,rstate=42)\n",
    "plt.show()"
   ]
  },
  {
   "cell_type": "code",
   "execution_count": null,
   "metadata": {
    "tags": []
   },
   "outputs": [],
   "source": [
    "for NN in NamesAll:\n",
    "    Var=NN\n",
    "    TSNEVar=NN\n",
    "    cc=CAll[NN]#[mask]\n",
    "    plt.figure(figsize=(6, 5))\n",
    "    plt.scatter(X_2d[:,0],X_2d[:,1],s=2,\n",
    "                c=cc, cmap=plt.cm.seismic)\n",
    "\n",
    "    plt.colorbar()\n",
    "\n",
    "    plt.clim(cc.quantile(0.01),cc.quantile(0.99))\n",
    "    plt.title(\"CD45- Tumor 1 Cell Iden UMAP - \"+TSNEVar)\n",
    "    plt.savefig('Plots/Tumor1_CD45Neg_UMAP_CellIdentity_'+NN+'.png',dpi=200,bbox_inches='tight')\n",
    "\n",
    "    plt.show()"
   ]
  },
  {
   "cell_type": "code",
   "execution_count": null,
   "metadata": {},
   "outputs": [],
   "source": [
    "labels=dbscan_plot(X_2d,eps=0.35,min_samples=60)"
   ]
  },
  {
   "cell_type": "code",
   "execution_count": null,
   "metadata": {},
   "outputs": [],
   "source": [
    "m=labels!=-1"
   ]
  },
  {
   "cell_type": "code",
   "execution_count": null,
   "metadata": {},
   "outputs": [],
   "source": []
  },
  {
   "cell_type": "code",
   "execution_count": null,
   "metadata": {},
   "outputs": [],
   "source": [
    "K1AN=anndata.AnnData(K1[m],dtype=np.float32)"
   ]
  },
  {
   "cell_type": "code",
   "execution_count": null,
   "metadata": {},
   "outputs": [],
   "source": [
    "K1['Clust']=labels"
   ]
  },
  {
   "cell_type": "code",
   "execution_count": null,
   "metadata": {},
   "outputs": [],
   "source": [
    "sc.pp.neighbors(K1AN)\n",
    "#sc.tl.umap(K1AN,n_components=3)\n",
    "K1AN.obsm['X_umap']=X_2d[m]"
   ]
  },
  {
   "cell_type": "code",
   "execution_count": null,
   "metadata": {},
   "outputs": [],
   "source": [
    "K1AN.obsm['X_umap']=X_2d[m]"
   ]
  },
  {
   "cell_type": "code",
   "execution_count": null,
   "metadata": {},
   "outputs": [],
   "source": [
    "K1AN.obs['clust']=K1[m].Clust.astype('category').values"
   ]
  },
  {
   "cell_type": "code",
   "execution_count": null,
   "metadata": {
    "tags": []
   },
   "outputs": [],
   "source": [
    "\n",
    "with rc_context({'figure.figsize': (5, 5)}):\n",
    "    sc.pl.umap(K1AN, color='clust', add_outline=True, legend_loc='on data',\n",
    "               legend_fontsize=16, legend_fontoutline=4,frameon=True,\n",
    "               title='Clusters Tumor 1 - Cell Iden Based (CD45-)', palette=['r','orange','yellow','b'],show=False,projection='2d',)\n",
    "plt.savefig(\"Plots/Clust_T1_CellIden_CD45Neg.png\")"
   ]
  },
  {
   "cell_type": "code",
   "execution_count": null,
   "metadata": {
    "tags": []
   },
   "outputs": [],
   "source": [
    "with rc_context({'figure.figsize': (4, 4)}):\n",
    "    sc.pl.umap(K1AN, color=NamesAll+['clust'],ncols=5,vmax='p99.9',vmin='p0.001',\n",
    "           cmap=plt.cm.seismic,add_outline=True,show=False)\n",
    "    plt.savefig(\"Plots/T.pdf\",dpi=200,bbox_inches='tight')\n"
   ]
  },
  {
   "cell_type": "code",
   "execution_count": null,
   "metadata": {
    "tags": []
   },
   "outputs": [],
   "source": [
    "Mat=K1[K1.Clust!=-1].groupby(by='Clust').mean()[NMS]\n",
    "amin=Mat[NMS].min().min()\n",
    "amax=Mat[NMS].max().max()\n",
    "g=sns.clustermap(Mat[NMS].T,cmap=plt.cm.seismic,vmin=amin,vmax=amax,\n",
    "                figsize=(10,15), annot_kws={\"size\":12}, center=0,yticklabels=True,\n",
    "                annot=True, linewidths=1,linecolor='k',)\n",
    "g.ax_col_dendrogram.set_title('T1 Cell Iden Based (45-)') \n",
    "plt.savefig('Plots/T1_CellIden_CD45Neg.png')"
   ]
  },
  {
   "cell_type": "code",
   "execution_count": null,
   "metadata": {},
   "outputs": [],
   "source": [
    "EP=EpiCols.copy()\n",
    "EP.remove('H3')\n",
    "EP.remove('H3.3')\n",
    "EP.remove('H4')"
   ]
  },
  {
   "cell_type": "code",
   "execution_count": null,
   "metadata": {},
   "outputs": [],
   "source": [
    "Mat=K1[K1.Clust!=-1].groupby(by='Clust').mean()[EP]\n",
    "amin=Mat[EP].min().min()\n",
    "amax=Mat[EP].max().max()\n",
    "g=sns.clustermap(Mat[EP].T,cmap=plt.cm.seismic,vmin=amin,vmax=amax,\n",
    "                figsize=(10,15), annot_kws={\"size\":12}, center=0,yticklabels=True,col_cluster=False,row_cluster=True,\n",
    "                annot=True, linewidths=1,linecolor='k',)\n",
    "g.ax_col_dendrogram.set_title('T1 Cell Iden Based (45-)') \n",
    "plt.savefig('Plots/T1_CellIden_CD45Neg_Epi.png')"
   ]
  },
  {
   "cell_type": "code",
   "execution_count": null,
   "metadata": {},
   "outputs": [],
   "source": [
    "MeanDist(K1[K1.Clust==0],K1[K1.Clust==1],EP)"
   ]
  },
  {
   "cell_type": "markdown",
   "metadata": {
    "tags": []
   },
   "source": [
    "## Epigenetics Based"
   ]
  },
  {
   "cell_type": "code",
   "execution_count": null,
   "metadata": {},
   "outputs": [],
   "source": [
    "MRK=EpiCols.copy()\n",
    "MRK.remove('H3')\n",
    "MRK.remove('H3.3')\n",
    "MRK.remove('H4')\n",
    "X_2d=draw_umap(CAll[MRK],cc=CAll['H4'],min_dist=0.05,n_neighbors=150,rstate=42)\n",
    "plt.show()"
   ]
  },
  {
   "cell_type": "code",
   "execution_count": null,
   "metadata": {
    "tags": []
   },
   "outputs": [],
   "source": [
    "for NN in NamesAll:\n",
    "    Var=NN\n",
    "    TSNEVar=NN\n",
    "    cc=CAll[NN]#[mask]\n",
    "    plt.figure(figsize=(6, 5))\n",
    "    plt.scatter(X_2d[:,0],X_2d[:,1],s=2,\n",
    "                c=cc, cmap=plt.cm.seismic)\n",
    "\n",
    "    plt.colorbar()\n",
    "\n",
    "    plt.clim(cc.quantile(0.01),cc.quantile(0.99))\n",
    "    plt.title(\"(CD45-) Tumor 1 Epigen UMAP - \"+TSNEVar)\n",
    "    plt.savefig('Plots/Tumor1_UMAP_Epi_CD45Neg'+NN+'.png',dpi=200,bbox_inches='tight')\n",
    "\n",
    "    plt.show()"
   ]
  },
  {
   "cell_type": "code",
   "execution_count": null,
   "metadata": {},
   "outputs": [],
   "source": [
    "labels=dbscan_plot(X_2d,eps=0.3,min_samples=50)"
   ]
  },
  {
   "cell_type": "code",
   "execution_count": null,
   "metadata": {},
   "outputs": [],
   "source": [
    "m=labels!=-1"
   ]
  },
  {
   "cell_type": "code",
   "execution_count": null,
   "metadata": {},
   "outputs": [],
   "source": []
  },
  {
   "cell_type": "code",
   "execution_count": null,
   "metadata": {},
   "outputs": [],
   "source": [
    "K1AN=anndata.AnnData(K1[m],dtype=np.float32)"
   ]
  },
  {
   "cell_type": "code",
   "execution_count": null,
   "metadata": {},
   "outputs": [],
   "source": [
    "K1['Clust']=labels"
   ]
  },
  {
   "cell_type": "code",
   "execution_count": null,
   "metadata": {},
   "outputs": [],
   "source": [
    "sc.pp.neighbors(K1AN)\n",
    "sc.tl.umap(K1AN,n_components=3)\n",
    "K1AN.obsm['X_umap']=X_2d[m]"
   ]
  },
  {
   "cell_type": "code",
   "execution_count": null,
   "metadata": {},
   "outputs": [],
   "source": [
    "K1AN.obsm['X_umap']=X_2d[m]"
   ]
  },
  {
   "cell_type": "code",
   "execution_count": null,
   "metadata": {},
   "outputs": [],
   "source": [
    "K1AN.obs['clust']=K1[m].Clust.astype('category').values"
   ]
  },
  {
   "cell_type": "code",
   "execution_count": null,
   "metadata": {
    "tags": []
   },
   "outputs": [],
   "source": [
    "\n",
    "with rc_context({'figure.figsize': (5, 5)}):\n",
    "    sc.pl.umap(K1AN, color='clust', add_outline=True, legend_loc='on data',\n",
    "               legend_fontsize=16, legend_fontoutline=4,frameon=True,\n",
    "               title='Clusters Tumor 1 - Epigen Based (CD45-)', palette=['r','orange','yellow','b'],show=False,projection='2d',)\n",
    "plt.savefig(\"Plots/Clust_T1_Epigen_CD45Neg.png\")"
   ]
  },
  {
   "cell_type": "code",
   "execution_count": null,
   "metadata": {
    "tags": []
   },
   "outputs": [],
   "source": [
    "Mat=K1[K1.Clust!=-1].groupby(by='Clust').mean()[NMS]\n",
    "amin=Mat[NMS].min().min()\n",
    "amax=Mat[CellIden].max().max()\n",
    "g=sns.clustermap(Mat[NMS].T,cmap=plt.cm.seismic,vmin=amin,vmax=amax,\n",
    "                 annot_kws={\"size\":8}, center=0,figsize=(10,20),\n",
    "                annot=True, linewidths=1,linecolor='k',)\n",
    "g.ax_col_dendrogram.set_title('T1 Epigen Based (CD45-)') \n",
    "plt.savefig('Plots/T1_Epigen_CD45Neg.png')"
   ]
  },
  {
   "cell_type": "markdown",
   "metadata": {
    "tags": []
   },
   "source": [
    "## All Markers"
   ]
  },
  {
   "cell_type": "code",
   "execution_count": null,
   "metadata": {},
   "outputs": [],
   "source": [
    "MRK=[\n",
    " 'CD45',\n",
    " 'K5',\n",
    " 'EpCam',\n",
    " 'H3K27me2',\n",
    " 'p53',\n",
    " 'EZH2',\n",
    " 'H3K4me3',\n",
    " 'gH2AX',\n",
    " 'aSMA',\n",
    " 'H3K36me2',\n",
    " 'H3K4me1',\n",
    " 'H3K9me2',\n",
    " 'H4K16ac',\n",
    " 'H2Aub',\n",
    " 'Vimentin',\n",
    " 'H3K64ac',\n",
    " 'BMI-1',\n",
    " 'ZEB1',\n",
    " 'H3K27ac',\n",
    " 'H4K20me3',\n",
    " 'ER',\n",
    " 'CD49f',\n",
    " 'H3K36me3',\n",
    " 'CD24',\n",
    " 'GATA3',\n",
    " 'H3K27me3',\n",
    " 'H3K9ac',\n",
    " 'H3K9me3',\n",
    " 'CD44',\n",
    " 'Ki67',\n",
    " 'K8-18',\n",
    " 'H3S28p',\n",
    "]"
   ]
  },
  {
   "cell_type": "code",
   "execution_count": null,
   "metadata": {},
   "outputs": [],
   "source": [
    "\n",
    "X_2d=draw_umap(CAll[MRK],cc=CAll['H4'],min_dist=0.05,n_neighbors=150,rstate=42)\n",
    "plt.show()"
   ]
  },
  {
   "cell_type": "code",
   "execution_count": null,
   "metadata": {
    "tags": []
   },
   "outputs": [],
   "source": [
    "for NN in NamesAll:\n",
    "    Var=NN\n",
    "    TSNEVar=NN\n",
    "    cc=CAll[NN]#[mask]\n",
    "    plt.figure(figsize=(6, 5))\n",
    "    plt.scatter(X_2d[:,0],X_2d[:,1],s=2,\n",
    "                c=cc, cmap=plt.cm.seismic)\n",
    "\n",
    "    plt.colorbar()\n",
    "\n",
    "    plt.clim(cc.quantile(0.01),cc.quantile(0.99))\n",
    "    plt.title(\"(CD45-) Tumor 1 All Markers UMAP - \"+TSNEVar)\n",
    "    plt.savefig('Plots/Tumor1_UMAP_All_CD45Neg'+NN+'.png',dpi=200,bbox_inches='tight')\n",
    "\n",
    "    plt.show()"
   ]
  },
  {
   "cell_type": "code",
   "execution_count": null,
   "metadata": {},
   "outputs": [],
   "source": [
    "labels=dbscan_plot(X_2d,eps=0.17,min_samples=10)"
   ]
  },
  {
   "cell_type": "code",
   "execution_count": null,
   "metadata": {},
   "outputs": [],
   "source": [
    "m=labels!=-1"
   ]
  },
  {
   "cell_type": "code",
   "execution_count": null,
   "metadata": {},
   "outputs": [],
   "source": []
  },
  {
   "cell_type": "code",
   "execution_count": null,
   "metadata": {},
   "outputs": [],
   "source": [
    "K1AN=anndata.AnnData(K1[m],dtype=np.float32)"
   ]
  },
  {
   "cell_type": "code",
   "execution_count": null,
   "metadata": {},
   "outputs": [],
   "source": [
    "K1['Clust']=labels"
   ]
  },
  {
   "cell_type": "code",
   "execution_count": null,
   "metadata": {},
   "outputs": [],
   "source": [
    "sc.pp.neighbors(K1AN)\n",
    "sc.tl.umap(K1AN,n_components=3)\n",
    "K1AN.obsm['X_umap']=X_2d[m]"
   ]
  },
  {
   "cell_type": "code",
   "execution_count": null,
   "metadata": {},
   "outputs": [],
   "source": [
    "K1AN.obsm['X_umap']=X_2d[m]"
   ]
  },
  {
   "cell_type": "code",
   "execution_count": null,
   "metadata": {},
   "outputs": [],
   "source": [
    "K1AN.obs['clust']=K1[m].Clust.astype('category').values"
   ]
  },
  {
   "cell_type": "code",
   "execution_count": null,
   "metadata": {
    "tags": []
   },
   "outputs": [],
   "source": [
    "\n",
    "with rc_context({'figure.figsize': (5, 5)}):\n",
    "    sc.pl.umap(K1AN, color='clust', add_outline=True, legend_loc='on data',\n",
    "               legend_fontsize=16, legend_fontoutline=4,frameon=True,\n",
    "               title='Clusters Tumor 1 - All MRK Based (CD45-)', palette=['r','orange','yellow','b'],show=False,projection='2d',)\n",
    "plt.savefig(\"Plots/Clust_T1_All_CD45Neg.png\")"
   ]
  },
  {
   "cell_type": "code",
   "execution_count": null,
   "metadata": {
    "tags": []
   },
   "outputs": [],
   "source": [
    "Mat=K1[K1.Clust!=-1].groupby(by='Clust').mean()[NMS]\n",
    "amin=Mat[NMS].min().min()\n",
    "amax=Mat[NMS].max().max()\n",
    "g=sns.clustermap(Mat[NMS].T,cmap=plt.cm.seismic,vmin=amin,vmax=amax,\n",
    "                figsize=(10,20), annot_kws={\"size\":8}, center=0,\n",
    "                annot=True, linewidths=1,linecolor='k',)\n",
    "g.ax_col_dendrogram.set_title('T1 All MRK Based (CD45-)') \n",
    "plt.savefig('Plots/T1_All_CD45Neg.png')"
   ]
  },
  {
   "cell_type": "markdown",
   "metadata": {
    "jp-MarkdownHeadingCollapsed": true,
    "tags": []
   },
   "source": [
    "# UMAP Tumor 2"
   ]
  },
  {
   "cell_type": "code",
   "execution_count": null,
   "metadata": {},
   "outputs": [],
   "source": [
    "CAll=pd.concat([K2]).copy()\n",
    "X_2d=draw_umap(CAll[CellIden],cc=CAll['H4'],min_dist=0.001,n_neighbors=60,rstate=42)\n",
    "plt.show()"
   ]
  },
  {
   "cell_type": "code",
   "execution_count": null,
   "metadata": {},
   "outputs": [],
   "source": [
    "# THESE 3 CELLS WERE BELOW THE 4TH..\n",
    "CAll.reset_index(inplace=True)"
   ]
  },
  {
   "cell_type": "code",
   "execution_count": null,
   "metadata": {},
   "outputs": [],
   "source": [
    "X_2dB=X_2d.copy()\n",
    "CAllB=CAll.copy()"
   ]
  },
  {
   "cell_type": "code",
   "execution_count": null,
   "metadata": {},
   "outputs": [],
   "source": [
    "X_2d=X_2dB.copy()\n",
    "CAll=CAllB.copy()"
   ]
  },
  {
   "cell_type": "code",
   "execution_count": null,
   "metadata": {
    "tags": []
   },
   "outputs": [],
   "source": [
    "for NN in ['CD45']:\n",
    "    Var=NN\n",
    "    TSNEVar=NN\n",
    "    cc=CAllB[NN]#[mask]\n",
    "    plt.figure(figsize=(6, 5))\n",
    "    plt.scatter(X_2dB[:,0],X_2dB[:,1],s=2,\n",
    "                c=cc, cmap=plt.cm.seismic)\n",
    "\n",
    "    plt.colorbar()\n",
    "\n",
    "    plt.clim(cc.quantile(0.01),cc.quantile(0.99))\n",
    "    plt.title(\"Tumor 2 \"+TSNEVar)\n",
    "#    plt.savefig('Plots/Tumor2_'+NN+'.png',dpi=200,bbox_inches='tight')\n",
    "\n",
    "    plt.show()"
   ]
  },
  {
   "cell_type": "code",
   "execution_count": null,
   "metadata": {},
   "outputs": [],
   "source": [
    "idx=np.random.choice(CAll.index,replace=False,size=10000)\n",
    "\n",
    "plt.scatter(X_2d[idx,0],X_2d[idx,1])\n",
    "X_2d=X_2d[idx]\n",
    "CAll=CAll.iloc[idx]"
   ]
  },
  {
   "cell_type": "code",
   "execution_count": null,
   "metadata": {},
   "outputs": [],
   "source": [
    "for NN in CellIden:\n",
    "    Var=NN\n",
    "    TSNEVar=NN\n",
    "    cc=CAll[NN]#[mask]\n",
    "    plt.figure(figsize=(6, 5))\n",
    "    plt.scatter(X_2d[:,0],X_2d[:,1],s=2,\n",
    "                c=cc, cmap=plt.cm.seismic)\n",
    "\n",
    "    plt.colorbar()\n",
    "\n",
    "    plt.clim(cc.quantile(0.01),cc.quantile(0.99))\n",
    "    plt.title(\"Tumor 2 \"+TSNEVar)\n",
    "#    plt.savefig('Plots/Tumor2_'+NN+'.png',dpi=200,bbox_inches='tight')\n",
    "\n",
    "    plt.show()"
   ]
  },
  {
   "cell_type": "code",
   "execution_count": null,
   "metadata": {},
   "outputs": [],
   "source": [
    "labels=dbscan_plot(X_2d,eps=0.11,min_samples=100)"
   ]
  },
  {
   "cell_type": "code",
   "execution_count": null,
   "metadata": {},
   "outputs": [],
   "source": [
    "m=labels!=-1\n"
   ]
  },
  {
   "cell_type": "code",
   "execution_count": null,
   "metadata": {},
   "outputs": [],
   "source": [
    "K2AN=anndata.AnnData(CAll[m][CellIden],dtype=np.float32)"
   ]
  },
  {
   "cell_type": "code",
   "execution_count": null,
   "metadata": {},
   "outputs": [],
   "source": [
    "sc.pp.neighbors(K2AN)\n",
    "sc.tl.umap(K2AN)\n",
    "K2AN.obsm['X_umap']=X_2d[m]"
   ]
  },
  {
   "cell_type": "code",
   "execution_count": null,
   "metadata": {},
   "outputs": [],
   "source": [
    "CAll['Clust']=labels"
   ]
  },
  {
   "cell_type": "code",
   "execution_count": null,
   "metadata": {},
   "outputs": [],
   "source": [
    "K2AN.obs['clust']=CAll[m].Clust.astype('category').values"
   ]
  },
  {
   "cell_type": "code",
   "execution_count": null,
   "metadata": {},
   "outputs": [],
   "source": [
    "\n",
    "with rc_context({'figure.figsize': (5, 5)}):\n",
    "    sc.pl.umap(K2AN, color='clust', add_outline=True, legend_loc='on data',\n",
    "               legend_fontsize=12, legend_fontoutline=2,frameon=True,\n",
    "               title='Clusters Tumor 2', palette=['r','orange','yellow','g','b','indigo','magenta'],show=False)\n",
    "plt.savefig(\"Plots/Clust_T2.png\")"
   ]
  },
  {
   "cell_type": "code",
   "execution_count": null,
   "metadata": {},
   "outputs": [],
   "source": [
    "Mat=CAll[CAll.Clust!=-1].groupby(by='Clust').mean()[NamesAll]\n",
    "amin=Mat[CellIden].min().min()\n",
    "amax=Mat[CellIden].max().max()\n",
    "g=sns.clustermap(Mat[CellIden].T,cmap=plt.cm.seismic,vmin=amin,vmax=amax,\n",
    "                figsize=(10,10), annot_kws={\"size\":8}, center=0,\n",
    "                annot=True, linewidths=1,linecolor='k',)\n",
    "plt.savefig('Plots/T2.png')"
   ]
  },
  {
   "cell_type": "code",
   "execution_count": null,
   "metadata": {},
   "outputs": [],
   "source": [
    "sns.kdeplot(K1.CD45)\n",
    "sns.kdeplot(K2.CD45)"
   ]
  },
  {
   "cell_type": "code",
   "execution_count": null,
   "metadata": {},
   "outputs": [],
   "source": [
    "end = time.process_time()\n",
    "print ('total run time =', end-start )"
   ]
  }
 ],
 "metadata": {
  "kernelspec": {
   "display_name": "tf_39",
   "language": "python",
   "name": "python3"
  },
  "language_info": {
   "codemirror_mode": {
    "name": "ipython",
    "version": 3
   },
   "file_extension": ".py",
   "mimetype": "text/x-python",
   "name": "python",
   "nbconvert_exporter": "python",
   "pygments_lexer": "ipython3",
   "version": "3.9.16 (main, Jan 11 2023, 16:05:54) \n[GCC 11.2.0]"
  },
  "vscode": {
   "interpreter": {
    "hash": "47461faa88aa067695cc57f541ef1d2dc4d6f921b9b537a7f257f46bf46d112f"
   }
  }
 },
 "nbformat": 4,
 "nbformat_minor": 4
}
