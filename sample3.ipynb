{
 "cells": [
  {
   "cell_type": "markdown",
   "metadata": {},
   "source": [
    "# Load and initialize"
   ]
  },
  {
   "cell_type": "markdown",
   "metadata": {},
   "source": [
    "settings"
   ]
  },
  {
   "cell_type": "code",
   "execution_count": null,
   "metadata": {
    "ExecuteTime": {
     "end_time": "2022-12-25T12:51:24.306216Z",
     "start_time": "2022-12-25T12:51:24.304303Z"
    }
   },
   "outputs": [],
   "source": [
    "# ubunto:\n",
    "\n",
    "\n",
    "# home:\n",
    "# plot dir\n",
    "dir_plots = 'C:/Users/yishai/Desktop/biology/breast_cancer/Plots'\n",
    "\n",
    "# plots:\n",
    "    # plot dir\n",
    "dir_plots = 'Plots/'\n",
    "    # create visualization\n",
    "visualize = True\n",
    "    # show figures\n",
    "show = True\n",
    "\n",
    "# subsample = False\n",
    "\n",
    "# sample number\n",
    "j=str(3)\n",
    "\n",
    "\n",
    "umap_iter = False\n",
    "dbscan_iter = False\n",
    "no_iter = False\n",
    "\n",
    "n_samples = 20000\n"
   ]
  },
  {
   "cell_type": "markdown",
   "metadata": {},
   "source": [
    "envirement"
   ]
  },
  {
   "cell_type": "code",
   "execution_count": null,
   "metadata": {
    "ExecuteTime": {
     "end_time": "2022-12-25T12:51:29.517180Z",
     "start_time": "2022-12-25T12:51:26.488881Z"
    }
   },
   "outputs": [],
   "source": [
    "\n",
    "\n",
    "#!/usr/bin/env python3\n",
    "# -*- coding: utf-8 -*-\n",
    "\"\"\"\n",
    "Created on Mon Feb 22 20:09:58 2021\n",
    "\n",
    "@author: ronguy\n",
    "\"\"\"\n",
    "import time \n",
    "start = time.process_time()\n",
    "\n",
    "import sys\n",
    "from IPython.display import Image, display\n",
    "from tqdm import tqdm_notebook,tqdm\n",
    "# import time\n",
    "\n",
    "import numpy as np\n",
    "# import matplotlib\n",
    "import matplotlib.pyplot as plt\n",
    "from matplotlib.pyplot import rc_context\n",
    "# import matplotlib.patches as  mpatches\n",
    "plt.rcParams[\"figure.figsize\"] = (5.0, 4.0)  # Set default size of plots.\n",
    "plt.rcParams[\"image.interpolation\"] = \"nearest\"\n",
    "plt.rcParams[\"image.cmap\"] = \"gray\"\n",
    "\n",
    "import pandas as pd\n",
    "pd.set_option('display.max_rows', 500)\n",
    "pd.set_option('display.max_columns', 500)\n",
    "pd.set_option('display.width', 180) #according to screen width\n",
    "# from pandas.core.base import PandasObject\n",
    "# PandasObject.view = view #allows view meth pd.view\n",
    "\n",
    "# from scipy import signal, stats\n",
    "# import seaborn as sns\n",
    "\n",
    "# from sklearn import metrics\n",
    "from sklearn.cluster import KMeans, DBSCAN, MiniBatchKMeans\n",
    "# from sklearn.preprocessing import StandardScaler, KBinsDiscretizer\n",
    "# from sklearn.metrics import silhouette_samples,silhouette_score\n",
    "# from sklearn.neighbors import kneighbors_graph\n",
    "\n",
    "# from lmfit import minimize, Parameters\n",
    "from umap import UMAP\n",
    "\n",
    "import scanpy as sc\n",
    "import anndata\n",
    "\n",
    "# import schist as scs\n",
    "\n",
    "# import networkx as nx\n",
    "\n",
    "# from castle.common import GraphDAG\n",
    "# from castle.metrics import MetricsDAG\n",
    "# from castle.datasets import IIDSimulation, DAG\n",
    "# from castle.algorithms import PC,Notears,GOLEM,ANMNonlinear,DirectLiNGAM,ICALiNGAM,NotearsLowRank\n",
    "# import notears.notears as notears\n",
    "\n",
    "# from shapely.geometry import Point\n",
    "# from shapely.geometry.polygon import Polygon\n",
    "\n",
    "# import keras\n",
    "# from keras import layers\n",
    "# from keras.callbacks import EarlyStopping\n",
    "# from keras.callbacks import ModelCheckpoint\n",
    "\n",
    "# from statsmodels.graphics._regressionplots_doc import _plot_influence_doc\n",
    "# from statsmodels.regression.linear_model import OLS\n",
    "# from statsmodels.stats.outliers_influence import variance_inflation_factor\n",
    "\n",
    "\n",
    "\n",
    "from usefull_functions import *\n",
    "from functions import *\n",
    "from normalization import *\n",
    "\n",
    "\n",
    "%matplotlib inline\n",
    "%load_ext autoreload\n",
    "%autoreload 2\n",
    "%reload_ext autoreload\n",
    "\n"
   ]
  },
  {
   "cell_type": "markdown",
   "metadata": {},
   "source": [
    "load data; normalized (CD45-)  "
   ]
  },
  {
   "cell_type": "code",
   "execution_count": null,
   "metadata": {
    "ExecuteTime": {
     "end_time": "2022-12-25T12:51:31.010014Z",
     "start_time": "2022-12-25T12:51:30.957345Z"
    }
   },
   "outputs": [],
   "source": [
    "dict = pickle_load('k'+j+'_dict')\n",
    "k = dict['k']\n",
    "\n",
    "# downsample\n",
    "original_k = k\n",
    "k= subsample_k(original_k.copy(),n=n_samples) \n",
    "del  original_k\n",
    "\n",
    "\n",
    "\n",
    "NamesAll = dict['names']['NamesAll']\n",
    "ToNorm = dict['names']['ToNorm']\n",
    "CellIden = dict['names']['CellIden']\n",
    "EpiCols = dict['names']['EpiCols']\n",
    "NMS = dict['names']['NMS']\n",
    "all = dict['all']\n",
    "\n",
    "del dict"
   ]
  },
  {
   "cell_type": "markdown",
   "metadata": {},
   "source": [
    "Visualize data\n",
    "\n",
    "no point to print data.describe() as it is whitened (std~1, mean~0) "
   ]
  },
  {
   "cell_type": "code",
   "execution_count": null,
   "metadata": {
    "ExecuteTime": {
     "end_time": "2022-12-25T12:51:33.138825Z",
     "start_time": "2022-12-25T12:51:33.111542Z"
    }
   },
   "outputs": [],
   "source": [
    "for name in [NamesAll,ToNorm,CellIden,EpiCols,NMS]:\n",
    "  \n",
    "  print(name)\n",
    "  print('\\n')\n",
    "# print(k.min().T)"
   ]
  },
  {
   "cell_type": "code",
   "execution_count": null,
   "metadata": {},
   "outputs": [],
   "source": []
  },
  {
   "cell_type": "markdown",
   "metadata": {},
   "source": [
    "# UMAP - CD 45 Negative"
   ]
  },
  {
   "cell_type": "markdown",
   "metadata": {
    "tags": []
   },
   "source": [
    "## Cell Identity"
   ]
  },
  {
   "cell_type": "code",
   "execution_count": null,
   "metadata": {
    "ExecuteTime": {
     "end_time": "2022-12-25T13:16:44.570220Z",
     "start_time": "2022-12-25T13:14:55.739889Z"
    }
   },
   "outputs": [],
   "source": [
    "min_dist=0.001\n",
    "n_neighbors=60\n",
    "t= f'min_dist = {min_dist}, n_neighbors = {n_neighbors}'\n",
    "CAll=pd.concat([k]).copy()\n",
    "X_2d,fig =draw_umap(CAll[CellIden],cc=CAll['H4'],min_dist=min_dist,n_neighbors=n_neighbors,rstate=42,title=t)\n",
    "# plt.show()\n",
    "fig.savefig('Plots/Tumor'+j+'_umap_CellIdentity.png')\n",
    "\n",
    "# if umap_iter:\n",
    "\n",
    "#     umap_params(k,names = CellIden,min_dist_range = 5,n_neighbors_range= 3)\n",
    "\n",
    "# else:\n",
    "#     X_2d,CAll= umap_best(k.copy(),names = CellIden,min_dist = 0.06, n_neighbors = 300)\n"
   ]
  },
  {
   "cell_type": "code",
   "execution_count": null,
   "metadata": {
    "ExecuteTime": {
     "end_time": "2022-12-25T13:17:18.923978Z",
     "start_time": "2022-12-25T13:16:46.561344Z"
    }
   },
   "outputs": [],
   "source": [
    "if show:\n",
    "    plot_x2d(X_2d, NamesAll,CAll,show,\n",
    "            title ='Tumor'+j+ ' Cell Iden UMAP', \n",
    "            figname = 'Tumor'+j+'_UMAP_CellIdentity_')"
   ]
  },
  {
   "cell_type": "code",
   "execution_count": null,
   "metadata": {
    "ExecuteTime": {
     "start_time": "2022-12-25T13:18:14.061Z"
    }
   },
   "outputs": [],
   "source": [
    "    \n",
    "min_samples=100\n",
    "eps=0.2\n",
    "t= f'min_samples = {min_samples}, eps = {eps}'\n",
    "labels,fig=dbscan_plot(data = X_2d,eps=eps,min_samples=min_samples,title='t')\n",
    "# fig.show()\n",
    "fig.savefig('Plots/Tumor'+j+'_dbscan_CellIdentity.png')\n",
    "\n",
    "# if not umap_iter:\n",
    "\n",
    "#     if dbscan_iter:\n",
    "#         dbscan_params(X_2d.copy(),eps_range = 8,min_samples_range=8)\n",
    "#     else:\n",
    "#         # label each sample from which cluster \n",
    "#         labels=dbscan_plot(X_2d.copy(),  eps = 0.26,min_samples = 262)\n"
   ]
  },
  {
   "cell_type": "code",
   "execution_count": null,
   "metadata": {},
   "outputs": [],
   "source": [
    "\n",
    "\n"
   ]
  },
  {
   "cell_type": "code",
   "execution_count": null,
   "metadata": {},
   "outputs": [],
   "source": [
    "\n",
    "# "
   ]
  },
  {
   "cell_type": "code",
   "execution_count": null,
   "metadata": {
    "ExecuteTime": {
     "end_time": "2022-12-25T13:09:32.856144Z",
     "start_time": "2022-12-25T13:09:28.905072Z"
    }
   },
   "outputs": [],
   "source": []
  },
  {
   "cell_type": "code",
   "execution_count": null,
   "metadata": {
    "ExecuteTime": {
     "end_time": "2022-12-11T11:17:44.525523Z",
     "start_time": "2022-12-11T11:17:44.509910Z"
    }
   },
   "outputs": [],
   "source": [
    "# plt.figure()\n",
    "# sns.histplot(k[labels!=0].CD45,color='r',element='step',fill=False,stat='density')\n",
    "# sns.histplot(K.CD45,element='step',fill=False,stat='density')\n",
    "# plt.yscale('symlog')"
   ]
  },
  {
   "cell_type": "code",
   "execution_count": null,
   "metadata": {
    "ExecuteTime": {
     "end_time": "2022-12-25T13:11:40.174779Z",
     "start_time": "2022-12-25T13:11:40.071164Z"
    }
   },
   "outputs": [],
   "source": [
    "K_clust = plotClusters(k,X_2d,labels,NamesAll,\n",
    "             title = 'Clusters Tumor '+j+' - Cell Iden Based',figname = 'Tumor' +j+'_clusters_CellIden' )\n",
    "\n",
    "corrMat(k,names = CellIden,title = 'T'+j+' Cell Iden Based',figname = 'Tumor' +j+'_corrMat_CellIden' )\n",
    "corrMat(k,names = NMS,title = 'T'+j+' Cell Iden Based',figname = 'Tumor' +j+'_corrMat_CellIden(NMS)' )\n"
   ]
  },
  {
   "cell_type": "code",
   "execution_count": null,
   "metadata": {},
   "outputs": [],
   "source": [
    "\n",
    "fig = MeanDist(k [k.Clust==0],k [k.Clust==1],CellIden)\n",
    "fig.savefig('Plots/Tumor'+j+'_MeanDist_CellIdentity.png')\n",
    "\n"
   ]
  },
  {
   "cell_type": "markdown",
   "metadata": {
    "tags": []
   },
   "source": [
    "## Epigenetics Based"
   ]
  },
  {
   "cell_type": "code",
   "execution_count": null,
   "metadata": {
    "ExecuteTime": {
     "end_time": "2022-12-11T11:18:08.189548Z",
     "start_time": "2022-12-11T11:17:53.578828Z"
    }
   },
   "outputs": [],
   "source": [
    "MRK=EpiCols.copy()\n",
    "MRK.remove('H3')\n",
    "MRK.remove('H3.3')\n",
    "MRK.remove('H4')\n",
    "\n",
    "min_dist=0.001\n",
    "n_neighbors=60\n",
    "t= f'min_dist = {min_dist}, n_neighbors = {n_neighbors}'\n",
    "CAll=pd.concat([k]).copy()\n",
    "X_2d,fig =draw_umap(CAll[MRK],cc=CAll['H4'],min_dist=min_dist,n_neighbors=n_neighbors,rstate=42,title=t)\n",
    "# plt.show()\n",
    "fig.savefig('Plots/Tumor'+j+'_umap_Epigen.png')\n",
    "\n",
    "\n",
    "# if umap_iter:\n",
    "\n",
    "#     umap_params(k,names = MRK,min_dist_range = 5,n_neighbors_range= 3)\n",
    "\n",
    "# else:\n",
    "#     X_2d,CAll= umap_best(k.copy(),names = MRK,min_dist = 0.06, n_neighbors = 300)\n",
    "\n",
    "\n"
   ]
  },
  {
   "cell_type": "code",
   "execution_count": null,
   "metadata": {},
   "outputs": [],
   "source": [
    "\n",
    "if show:\n",
    "    plot_x2d(X_2d, NamesAll,CAll,show,\n",
    "         title ='Tumor '+j+' Epigen UMAP', \n",
    "         figname = 'tumor'+j+'_UMAP_Epi_')"
   ]
  },
  {
   "cell_type": "code",
   "execution_count": null,
   "metadata": {
    "ExecuteTime": {
     "end_time": "2022-12-11T11:18:08.487736Z",
     "start_time": "2022-12-11T11:18:08.190767Z"
    }
   },
   "outputs": [],
   "source": [
    "min_samples=100\n",
    "eps=0.2\n",
    "t= f'min_samples = {min_samples}, eps = {eps}'\n",
    "labels,fig=dbscan_plot(data = X_2d,eps=eps,min_samples=min_samples,title='t')\n",
    "# fig.show()\n",
    "fig.savefig('Plots/Tumor'+j+'_dbscan_Epigen.png')\n",
    "\n",
    "\n",
    "# if not umap_iter:\n",
    "#     if dbscan_iter:\n",
    "#         dbscan_params(X_2d.copy(),eps_range = 8,min_samples_range=8)\n",
    "#     else:\n",
    "#         # label each sample from which cluster \n",
    "#         labels=dbscan_plot(X_2d.copy(),  eps = 0.26,min_samples = 262)\n",
    "\n",
    "\n",
    "        "
   ]
  },
  {
   "cell_type": "code",
   "execution_count": null,
   "metadata": {
    "ExecuteTime": {
     "end_time": "2022-12-11T11:18:17.219137Z",
     "start_time": "2022-12-11T11:18:08.488976Z"
    }
   },
   "outputs": [],
   "source": [
    "K_clust = plotClusters(k,X_2d,labels,NamesAll,\n",
    "             title = 'Clusters Tumor '+j+' - Epigen Based',figname = 'Tumor' +j+'_clusters_Epigen' )\n",
    "\n",
    "corrMat(k,names = EpiCols,title = 'T'+j+' Epigen Based',figname = 'Tumor' +j+'_corrMat_Epigen' )\n",
    "\n",
    "\n"
   ]
  },
  {
   "cell_type": "code",
   "execution_count": null,
   "metadata": {},
   "outputs": [],
   "source": [
    "fig = MeanDist(k [k.Clust==0],k [k.Clust==1],CellIden)\n",
    "fig.savefig('Plots/Tumor'+j+'_MeanDist_Epigen.png')"
   ]
  }
 ],
 "metadata": {
  "kernelspec": {
   "display_name": "Python 3 (ipykernel)",
   "language": "python",
   "name": "python3"
  },
  "language_info": {
   "codemirror_mode": {
    "name": "ipython",
    "version": 3
   },
   "file_extension": ".py",
   "mimetype": "text/x-python",
   "name": "python",
   "nbconvert_exporter": "python",
   "pygments_lexer": "ipython3",
   "version": "3.9.15 (main, Nov 24 2022, 14:39:17) [MSC v.1916 64 bit (AMD64)]"
  },
  "toc": {
   "base_numbering": 1,
   "nav_menu": {},
   "number_sections": true,
   "sideBar": true,
   "skip_h1_title": false,
   "title_cell": "Table of Contents",
   "title_sidebar": "Contents",
   "toc_cell": false,
   "toc_position": {},
   "toc_section_display": true,
   "toc_window_display": false
  },
  "varInspector": {
   "cols": {
    "lenName": 16,
    "lenType": 16,
    "lenVar": 40
   },
   "kernels_config": {
    "python": {
     "delete_cmd_postfix": "",
     "delete_cmd_prefix": "del ",
     "library": "var_list.py",
     "varRefreshCmd": "print(var_dic_list())"
    },
    "r": {
     "delete_cmd_postfix": ") ",
     "delete_cmd_prefix": "rm(",
     "library": "var_list.r",
     "varRefreshCmd": "cat(var_dic_list()) "
    }
   },
   "types_to_exclude": [
    "module",
    "function",
    "builtin_function_or_method",
    "instance",
    "_Feature"
   ],
   "window_display": false
  },
  "vscode": {
   "interpreter": {
    "hash": "31be160a54b490f2789b5317978492f33451706bf95ba198ce739837a545e5e0"
   }
  }
 },
 "nbformat": 4,
 "nbformat_minor": 4
}
