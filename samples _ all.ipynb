{
 "cells": [
  {
   "cell_type": "markdown",
   "metadata": {},
   "source": [
    "# Load and initialize"
   ]
  },
  {
   "cell_type": "markdown",
   "metadata": {},
   "source": [
    "settings"
   ]
  },
  {
   "cell_type": "code",
   "execution_count": null,
   "metadata": {
    "ExecuteTime": {
     "end_time": "2022-12-25T12:51:24.306216Z",
     "start_time": "2022-12-25T12:51:24.304303Z"
    }
   },
   "outputs": [],
   "source": [
    "# sample number\n",
    "j=str(5)\n",
    "n_samples = 20000\n",
    "\n",
    "\n",
    "# plots:\n",
    "    # plot dir\n",
    "dir_plots = 'Plots_sample'+j+'/'\n",
    "dir_data = 'Data/'\n",
    "\n",
    "    # create visualization\n",
    "visualize = True\n",
    "    # show figures\n",
    "show = True\n",
    "\n",
    "# subsample = False\n",
    "\n",
    "\n",
    "\n",
    "# umap_iter = False\n",
    "# dbscan_iter = False\n",
    "# no_iter = False"
   ]
  },
  {
   "cell_type": "markdown",
   "metadata": {},
   "source": [
    "envirement"
   ]
  },
  {
   "cell_type": "code",
   "execution_count": null,
   "metadata": {
    "ExecuteTime": {
     "end_time": "2022-12-25T12:51:29.517180Z",
     "start_time": "2022-12-25T12:51:26.488881Z"
    }
   },
   "outputs": [],
   "source": [
    "\n",
    "\n",
    "#!/usr/bin/env python3\n",
    "# -*- coding: utf-8 -*-\n",
    "\"\"\"\n",
    "Created on Mon Feb 22 20:09:58 2021\n",
    "\n",
    "@author: ronguy\n",
    "\"\"\"\n",
    "import time \n",
    "start = time.process_time()\n",
    "\n",
    "import sys\n",
    "from IPython.display import Image, display\n",
    "from tqdm import tqdm_notebook,tqdm\n",
    "# import time\n",
    "\n",
    "import numpy as np\n",
    "# import matplotlib\n",
    "import matplotlib.pyplot as plt\n",
    "from matplotlib.pyplot import rc_context\n",
    "# import matplotlib.patches as  mpatches\n",
    "plt.rcParams[\"figure.figsize\"] = (5.0, 4.0)  # Set default size of plots.\n",
    "plt.rcParams[\"image.interpolation\"] = \"nearest\"\n",
    "plt.rcParams[\"image.cmap\"] = \"gray\"\n",
    "\n",
    "import pandas as pd\n",
    "pd.set_option('display.max_rows', 500)\n",
    "pd.set_option('display.max_columns', 500)\n",
    "pd.set_option('display.width', 180) #according to screen width\n",
    "# from pandas.core.base import PandasObject\n",
    "# PandasObject.view = view #allows view meth pd.view\n",
    "\n",
    "# from scipy import signal, stats\n",
    "# import seaborn as sns\n",
    "\n",
    "# from sklearn import metrics\n",
    "from sklearn.cluster import KMeans, DBSCAN, MiniBatchKMeans\n",
    "# from sklearn.preprocessing import StandardScaler, KBinsDiscretizer\n",
    "# from sklearn.metrics import silhouette_samples,silhouette_score\n",
    "# from sklearn.neighbors import kneighbors_graph\n",
    "\n",
    "# from lmfit import minimize, Parameters\n",
    "from umap import UMAP\n",
    "\n",
    "import scanpy as sc\n",
    "import anndata\n",
    "\n",
    "# import schist as scs\n",
    "\n",
    "# import networkx as nx\n",
    "\n",
    "# from castle.common import GraphDAG\n",
    "# from castle.metrics import MetricsDAG\n",
    "# from castle.datasets import IIDSimulation, DAG\n",
    "# from castle.algorithms import PC,Notears,GOLEM,ANMNonlinear,DirectLiNGAM,ICALiNGAM,NotearsLowRank\n",
    "# import notears.notears as notears\n",
    "\n",
    "# from shapely.geometry import Point\n",
    "# from shapely.geometry.polygon import Polygon\n",
    "\n",
    "# import keras\n",
    "# from keras import layers\n",
    "# from keras.callbacks import EarlyStopping\n",
    "# from keras.callbacks import ModelCheckpoint\n",
    "\n",
    "# from statsmodels.graphics._regressionplots_doc import _plot_influence_doc\n",
    "# from statsmodels.regression.linear_model import OLS\n",
    "# from statsmodels.stats.outliers_influence import variance_inflation_factor\n",
    "\n",
    "\n",
    "\n",
    "from usefull_functions import *\n",
    "from functions import *\n",
    "from normalization import *\n",
    "\n",
    "\n",
    "%matplotlib inline\n",
    "%load_ext autoreload\n",
    "%autoreload 2\n",
    "%reload_ext autoreload\n",
    "\n",
    "folderExists(dir_plots)\n",
    "\n"
   ]
  },
  {
   "cell_type": "markdown",
   "metadata": {},
   "source": [
    "load data; normalized (CD45-)  "
   ]
  },
  {
   "cell_type": "code",
   "execution_count": null,
   "metadata": {
    "ExecuteTime": {
     "end_time": "2022-12-25T12:51:31.010014Z",
     "start_time": "2022-12-25T12:51:30.957345Z"
    }
   },
   "outputs": [],
   "source": [
    "dict = pickle_load('k'+j+'_dict',dir_data )\n",
    "k_orig = dict['k']\n",
    "\n",
    "# downsample\n",
    "k = k_orig\n",
    "k_orig= subsample_k(k.copy(),n=n_samples) \n",
    "del k\n",
    "\n",
    "\n",
    "\n",
    "NamesAll = dict['names']['NamesAll']\n",
    "ToNorm = dict['names']['ToNorm']\n",
    "CellIden = dict['names']['CellIden']\n",
    "EpiCols = dict['names']['EpiCols']\n",
    "NMS = dict['names']['NMS']\n",
    "all = dict['all']\n",
    "\n",
    "del dict"
   ]
  },
  {
   "cell_type": "markdown",
   "metadata": {},
   "source": [
    "Visualize data\n",
    "\n",
    "no point to print data.describe() as it is whitened (std~1, mean~0) "
   ]
  },
  {
   "cell_type": "code",
   "execution_count": null,
   "metadata": {
    "ExecuteTime": {
     "end_time": "2022-12-25T12:51:33.138825Z",
     "start_time": "2022-12-25T12:51:33.111542Z"
    }
   },
   "outputs": [],
   "source": [
    "if visualize:\n",
    "  for name in [NamesAll,ToNorm,CellIden,EpiCols,NMS]:\n",
    "    \n",
    "    print(name)\n",
    "    print('\\n')\n",
    "  # print(k.min().T)"
   ]
  },
  {
   "cell_type": "code",
   "execution_count": null,
   "metadata": {},
   "outputs": [],
   "source": []
  },
  {
   "attachments": {},
   "cell_type": "markdown",
   "metadata": {},
   "source": []
  },
  {
   "attachments": {},
   "cell_type": "markdown",
   "metadata": {
    "tags": []
   },
   "source": [
    "# Cell Identity"
   ]
  },
  {
   "cell_type": "code",
   "execution_count": null,
   "metadata": {},
   "outputs": [],
   "source": [
    "k = k_orig.copy()\n",
    "CAll=pd.concat([k]).copy()\n",
    "s ={}\n",
    "s['min_dist'] = {}\n",
    "s['n_neighbors'] = {}\n",
    "s['min_samples'] = {}\n",
    "s['eps'] = {}\n",
    "s['xsize'] = {}\n"
   ]
  },
  {
   "attachments": {},
   "cell_type": "markdown",
   "metadata": {},
   "source": [
    "### UMAP\n",
    "\n",
    "plot for each feature according to its intensity"
   ]
  },
  {
   "cell_type": "code",
   "execution_count": null,
   "metadata": {
    "ExecuteTime": {
     "end_time": "2022-12-25T13:16:44.570220Z",
     "start_time": "2022-12-25T13:14:55.739889Z"
    }
   },
   "outputs": [],
   "source": [
    "s['min_dist']['1']=0.03\n",
    "s['n_neighbors']['1']=100\n",
    "# 0.05,150\n",
    "s['min_dist']['2']=0.001\n",
    "s['n_neighbors']['2']=60\n",
    "\n",
    "s['min_dist']['4']=0.001\n",
    "s['n_neighbors']['4']=60\n",
    "\n",
    "s['min_dist']['5']=0.001\n",
    "s['n_neighbors']['5']=60\n",
    "\n",
    "min_dist = s['min_dist'][j]\n",
    "n_neighbors = s['n_neighbors'][j]\n",
    "\n",
    "\n",
    "\n",
    "X_2d = calculate_umap(CAll[CellIden],n_neighbors, min_dist)\n",
    "if visualize:\n",
    "  draw_umap (X_2d,CAll['H4'],dir_plots,show = True,\n",
    "            title = f'min_dist = {min_dist}, n_neighbors = {n_neighbors}',\n",
    "            figname = 'Tumor'+j+'_UMAP_CellIdentity_H4(core)')\n",
    "\n",
    "\n",
    "\n",
    "# umap_params(k,CellIden,dir_plots,\n",
    "#             valA = 0.05, valB = 150,\n",
    "#             )\n",
    "\n",
    "\n"
   ]
  },
  {
   "cell_type": "code",
   "execution_count": null,
   "metadata": {
    "ExecuteTime": {
     "end_time": "2022-12-25T13:17:18.923978Z",
     "start_time": "2022-12-25T13:16:46.561344Z"
    }
   },
   "outputs": [],
   "source": [
    "if visualize:\n",
    "    plot_x2d(X_2d, NamesAll,CAll,dir_plots,show,\n",
    "            title ='Tumor'+j+ ' Cell Iden UMAP', \n",
    "            figname = 'Tumor'+j+'_UMAP_CellIdentity_')"
   ]
  },
  {
   "attachments": {},
   "cell_type": "markdown",
   "metadata": {},
   "source": [
    "### Dbscan and clusters"
   ]
  },
  {
   "cell_type": "code",
   "execution_count": null,
   "metadata": {
    "ExecuteTime": {
     "start_time": "2022-12-25T13:18:14.061Z"
    }
   },
   "outputs": [],
   "source": [
    "s['min_samples']['1']=80\n",
    "s['eps']['1']=0.35\n",
    "\n",
    "s['min_samples']['2']=100\n",
    "s['eps']['2']=0.2\n",
    "\n",
    "s['min_samples']['4']=100\n",
    "s['eps']['4']=0.2\n",
    "\n",
    "s['min_samples']['4']=100\n",
    "s['eps']['4']=0.2\n",
    "\n",
    "s['min_samples']['5']=100\n",
    "s['eps']['5']=0.2\n",
    "\n",
    "min_samples = s['min_samples'][j]\n",
    "eps = s['eps'][j]\n",
    "\n",
    "\n",
    "\n",
    "\n",
    "\n",
    "X,labels,core_samples_mask = calculate_dbscan(data = X_2d,eps=eps,min_samples=min_samples)\n",
    "if visualize:\n",
    "  plot_dbscan(X,labels,core_samples_mask,dir_plots,show,\n",
    "              title=f'min_samples = {min_samples}, eps = {eps}',\n",
    "              figname='Tumor'+j+'_dbscan_CellIdentity'\n",
    "              )\n",
    "  \n",
    "\n",
    "\n",
    "# dbscan_params(X_2d,\n",
    "#                   valA = eps, valB = min_samples,\n",
    "#                   itersA = 3, itersB = 3,\n",
    "#                   )\n"
   ]
  },
  {
   "cell_type": "code",
   "execution_count": null,
   "metadata": {
    "ExecuteTime": {
     "end_time": "2022-12-25T13:11:40.174779Z",
     "start_time": "2022-12-25T13:11:40.071164Z"
    }
   },
   "outputs": [],
   "source": [
    "\n",
    "plotClusters(k,X_2d,labels,NamesAll,dir_plots,\n",
    "             title = 'Clusters Tumor '+j+' - Cell Iden Based',\n",
    "             figname = 'Tumor' +j+'_Clusters_CellIden' )\n",
    "\n"
   ]
  },
  {
   "attachments": {},
   "cell_type": "markdown",
   "metadata": {},
   "source": [
    "### corr mats"
   ]
  },
  {
   "cell_type": "code",
   "execution_count": null,
   "metadata": {},
   "outputs": [],
   "source": [
    "if visualize:\n",
    "  corrMat(k,CellIden,dir_plots,\n",
    "          title = 'T'+j+' Cell Iden Based',\n",
    "          figname = 'Tumor' +j+'_corrMat_CellIden' )\n",
    "  corrMat(k,NMS,dir_plots,\n",
    "          title = 'T'+j+' Cell Iden Based',\n",
    "          figname = 'Tumor' +j+'_CorrMat_CellIden(NMS)' )\n",
    "\n",
    "\n"
   ]
  },
  {
   "attachments": {},
   "cell_type": "markdown",
   "metadata": {},
   "source": [
    "### MeanDist"
   ]
  },
  {
   "cell_type": "code",
   "execution_count": null,
   "metadata": {},
   "outputs": [],
   "source": [
    "s['xsize']['1'] = 20\n",
    "s['xsize']['2'] = 15\n",
    "s['xsize']['4'] = 15\n",
    "s['xsize']['4'] = 15\n",
    "if visualize:\n",
    "        MeanDist(k [k.Clust==0],k [k.Clust==1],CellIden,dir_plots,\n",
    "                title='MeanDist CellIdentity',\n",
    "                figname = 'Tumor'+j+'_MeanDist_CellIdentity',\n",
    "                xsize = s['xsize'][j])\n",
    "\n",
    "\n",
    "\n"
   ]
  },
  {
   "cell_type": "code",
   "execution_count": null,
   "metadata": {},
   "outputs": [],
   "source": [
    "try: \n",
    "  del X, X_2d,k, CAll,labels,s\n",
    "except:\n",
    "  pass\n"
   ]
  },
  {
   "attachments": {},
   "cell_type": "markdown",
   "metadata": {
    "tags": []
   },
   "source": [
    "# Epigenetics Based"
   ]
  },
  {
   "cell_type": "code",
   "execution_count": null,
   "metadata": {},
   "outputs": [],
   "source": [
    "\n",
    "MRK=EpiCols.copy()\n",
    "MRK.remove('H3')\n",
    "MRK.remove('H3.3')\n",
    "MRK.remove('H4')\n",
    "\n",
    "k = k_orig.copy()\n",
    "CAll=pd.concat([k]).copy()\n",
    "\n",
    "s ={}\n",
    "s['min_dist'] = {}\n",
    "s['n_neighbors'] = {}\n",
    "s['min_samples'] = {}\n",
    "s['eps'] = {}\n",
    "s['xsize'] = {}\n",
    "\n"
   ]
  },
  {
   "attachments": {},
   "cell_type": "markdown",
   "metadata": {},
   "source": [
    "### UMAP\n",
    "\n",
    "plot for each feature according to its intensity"
   ]
  },
  {
   "cell_type": "code",
   "execution_count": null,
   "metadata": {
    "ExecuteTime": {
     "end_time": "2022-12-11T11:18:08.189548Z",
     "start_time": "2022-12-11T11:17:53.578828Z"
    }
   },
   "outputs": [],
   "source": [
    "s['min_dist']['1']=0.05\n",
    "s['n_neighbors']['1']=30\n",
    "\n",
    "s['min_dist']['2']=0.05\n",
    "s['n_neighbors']['2']=30\n",
    "\n",
    "s['min_dist']['4']=0.001\n",
    "s['n_neighbors']['4']=10\n",
    "\n",
    "s['min_dist']['5']=0.001\n",
    "s['n_neighbors']['5']=10\n",
    "\n",
    "min_dist = s['min_dist'][j]\n",
    "n_neighbors = s['n_neighbors'][j]\n",
    "\n",
    "\n",
    "X_2d = calculate_umap(CAll[MRK],n_neighbors, min_dist)\n",
    "if visualize:\n",
    "  draw_umap (X_2d,CAll['H4'],dir_plots,show = True,\n",
    "            title = f'min_dist = {min_dist}, n_neighbors = {n_neighbors}',\n",
    "            figname = 'Tumor'+j+'_UMAP_Epigen_H4(core)')\n",
    "\n",
    "\n",
    "# umap_params(k,MRK,dir_plots,\n",
    "#             valA = min_dist, valB = n_neighbors,\n",
    "#             )\n",
    "\n",
    "# umap_params(k,MRK,dir_plots,\n",
    "#             valA = 0.2, valB = 300,\n",
    "#             )\n",
    "# umap_params(k,MRK,dir_plots,\n",
    "#             valA = 0.1, valB = 300,\n",
    "#             )\n",
    "\n",
    "# umap_params(k,MRK,dir_plots,\n",
    "#             valA = 0.001, valB = 300,\n",
    "#             )"
   ]
  },
  {
   "cell_type": "code",
   "execution_count": null,
   "metadata": {},
   "outputs": [],
   "source": [
    "\n",
    "if visualize:\n",
    "    plot_x2d(X_2d, NamesAll,CAll,dir_plots,show,\n",
    "         title ='Tumor '+j+' Epigen UMAP', \n",
    "         figname = 'tumor'+j+'_UMAP_Epigen_')\n",
    "    \n",
    "    \n"
   ]
  },
  {
   "attachments": {},
   "cell_type": "markdown",
   "metadata": {},
   "source": [
    "### Dbscan and clusters"
   ]
  },
  {
   "cell_type": "code",
   "execution_count": null,
   "metadata": {
    "ExecuteTime": {
     "end_time": "2022-12-11T11:18:08.487736Z",
     "start_time": "2022-12-11T11:18:08.190767Z"
    }
   },
   "outputs": [],
   "source": [
    "   \n",
    "s['min_samples']['1']=60\n",
    "s['eps']['1']=0.35\n",
    "\n",
    "s['min_samples']['2']=100\n",
    "s['eps']['2']=0.2\n",
    "\n",
    "s['min_samples']['4']=200\n",
    "s['eps']['4']=0.3\n",
    "\n",
    "s['min_samples']['5']=200\n",
    "s['eps']['5']=0.3\n",
    "\n",
    "s['min_samples']['4']=100\n",
    "s['eps']['4']=0.2\n",
    "\n",
    "min_samples = s['min_samples'][j]\n",
    "eps = s['eps'][j]\n",
    "\n",
    "\n",
    "X,labels,core_samples_mask = calculate_dbscan(data = X_2d,eps=eps,min_samples=min_samples)\n",
    "if visualize:\n",
    "  plot_dbscan(X,labels,core_samples_mask,dir_plots,show,\n",
    "              title=f'min_samples = {min_samples}, eps = {eps}',\n",
    "              figname='Tumor'+j+'_dbscan_Epigen'\n",
    "              )\n",
    "        \n",
    "        \n",
    "\n",
    "# dbscan_params(X_2d,dir_plots,\n",
    "#                   valA = eps, valB = min_samples,\n",
    "#                   itersA = 3, itersB = 3,\n",
    "#                   )\n",
    "\n",
    "\n",
    "  \n",
    " "
   ]
  },
  {
   "cell_type": "code",
   "execution_count": null,
   "metadata": {
    "ExecuteTime": {
     "end_time": "2022-12-11T11:18:17.219137Z",
     "start_time": "2022-12-11T11:18:08.488976Z"
    }
   },
   "outputs": [],
   "source": [
    "plotClusters(k,X_2d,labels,NamesAll,dir_plots,\n",
    "             title = 'Clusters Tumor '+j+' - Epigen Based',\n",
    "             figname = 'Tumor' +j+'_Clusters_Epigen' )\n"
   ]
  },
  {
   "attachments": {},
   "cell_type": "markdown",
   "metadata": {},
   "source": [
    "## corr mats"
   ]
  },
  {
   "cell_type": "code",
   "execution_count": null,
   "metadata": {},
   "outputs": [],
   "source": [
    "if visualize:\n",
    "  corrMat(k,EpiCols,dir_plots,\n",
    "          title = 'T'+j+' Epigen Based',\n",
    "          figname = 'Tumor' +j+'_CorrMat_Epigen' )\n"
   ]
  },
  {
   "attachments": {},
   "cell_type": "markdown",
   "metadata": {},
   "source": [
    "## Meandist"
   ]
  },
  {
   "cell_type": "code",
   "execution_count": null,
   "metadata": {},
   "outputs": [],
   "source": [
    "s['xsize']['1'] = 10\n",
    "s['xsize']['2'] = 10\n",
    "s['xsize']['4'] = 10\n",
    "s['xsize']['5'] = 10\n",
    "if visualize:\n",
    "        MeanDist(k [k.Clust==0],k [k.Clust==1],CellIden,dir_plots,\n",
    "                title='MeanDist CellIdentity',\n",
    "                figname = 'Tumor'+j+'_MeanDist_CellIdentity',\n",
    "                xsize = s['xsize'][j])\n"
   ]
  },
  {
   "cell_type": "code",
   "execution_count": null,
   "metadata": {},
   "outputs": [],
   "source": [
    "try: \n",
    "  del X, X_2d,k, CAll,labels,s\n",
    "except:\n",
    "  pass"
   ]
  }
 ],
 "metadata": {
  "kernelspec": {
   "display_name": "base",
   "language": "python",
   "name": "python3"
  },
  "language_info": {
   "codemirror_mode": {
    "name": "ipython",
    "version": 3
   },
   "file_extension": ".py",
   "mimetype": "text/x-python",
   "name": "python",
   "nbconvert_exporter": "python",
   "pygments_lexer": "ipython3",
   "version": "3.9.15"
  },
  "toc": {
   "base_numbering": 1,
   "nav_menu": {},
   "number_sections": true,
   "sideBar": true,
   "skip_h1_title": false,
   "title_cell": "Table of Contents",
   "title_sidebar": "Contents",
   "toc_cell": false,
   "toc_position": {},
   "toc_section_display": true,
   "toc_window_display": false
  },
  "varInspector": {
   "cols": {
    "lenName": 16,
    "lenType": 16,
    "lenVar": 40
   },
   "kernels_config": {
    "python": {
     "delete_cmd_postfix": "",
     "delete_cmd_prefix": "del ",
     "library": "var_list.py",
     "varRefreshCmd": "print(var_dic_list())"
    },
    "r": {
     "delete_cmd_postfix": ") ",
     "delete_cmd_prefix": "rm(",
     "library": "var_list.r",
     "varRefreshCmd": "cat(var_dic_list()) "
    }
   },
   "types_to_exclude": [
    "module",
    "function",
    "builtin_function_or_method",
    "instance",
    "_Feature"
   ],
   "window_display": false
  },
  "vscode": {
   "interpreter": {
    "hash": "47461faa88aa067695cc57f541ef1d2dc4d6f921b9b537a7f257f46bf46d112f"
   }
  }
 },
 "nbformat": 4,
 "nbformat_minor": 4
}
