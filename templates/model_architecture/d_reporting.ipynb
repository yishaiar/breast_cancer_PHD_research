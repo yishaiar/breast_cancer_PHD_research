{
 "cells": [
  {
   "cell_type": "code",
   "execution_count": 3,
   "metadata": {},
   "outputs": [
    {
     "name": "stdout",
     "output_type": "stream",
     "text": [
      "The new directory is created!\n"
     ]
    }
   ],
   "source": [
    "# PARAMETER\n",
    "#-------------\n",
    "# check if IS_MASTER exists, this variable will only exist if it's being called by MASTER notebook.\n",
    "# if it does not exist, set it to False\n",
    "try: use_MASTER\n",
    "except: use_MASTER = False\n",
    "# The code below will only run if it's NOT being called from MASTER notebook\n",
    "if not use_MASTER:\n",
    "    EXP_DIR = './exp_data/_temp/'\n",
    "    METRICS_DIR = './metrics/_temp/'\n",
    "\n",
    "    from usefull_funcs import folderExists\n",
    "    folderExists(METRICS_DIR)\n",
    "\n",
    "\n",
    "    MODEL_FILE = f'{EXP_DIR}model.pkl'\n",
    "    PREDICTION_FILE = f'{EXP_DIR}ypred.pkl'\n"
   ]
  }
 ],
 "metadata": {
  "kernelspec": {
   "display_name": "Python 3",
   "language": "python",
   "name": "python3"
  },
  "language_info": {
   "codemirror_mode": {
    "name": "ipython",
    "version": 3
   },
   "file_extension": ".py",
   "mimetype": "text/x-python",
   "name": "python",
   "nbconvert_exporter": "python",
   "pygments_lexer": "ipython3",
   "version": "3.9.16"
  }
 },
 "nbformat": 4,
 "nbformat_minor": 2
}
